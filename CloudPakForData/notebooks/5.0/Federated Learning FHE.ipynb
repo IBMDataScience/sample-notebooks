{
 "cells": [
  {
   "attachments": {},
   "cell_type": "markdown",
   "metadata": {
    "id": "0309efd3-23a8-4215-9560-55680cdb4df9"
   },
   "source": [
    "# IBM Federated Learning with Homomorphic Encryption"
   ]
  },
  {
   "attachments": {},
   "cell_type": "markdown",
   "metadata": {},
   "source": [
    "This notebook demonstrates how to run Federated Learning training experiments with Homomorphic Encryption."
   ]
  },
  {
   "attachments": {},
   "cell_type": "markdown",
   "metadata": {},
   "source": [
    "## Learning Goals"
   ]
  },
  {
   "attachments": {},
   "cell_type": "markdown",
   "metadata": {},
   "source": [
    "The learning goals of this notebook are:\n",
    "\n",
    "- Create and use the WML Python Client to setup and run Federated Learning training jobs.\n",
    "- Create WML assets (initial models, remote training systems), data sets and handlers, and cryptographic files (certificates, keys) - that are required for running a Federated Learning training job with encryption. All local files are stored in a single directory tree, whose root location can be specified using a setup parameter.\n",
    "- Launch a Federated Learning training job, by launching the aggergator and multiple parties. The aggregator runs in a cluster, and the parties run in the machine that is running this notebook. The number of parties can be specified using a setup parameter.\n",
    "- Monitor the training job.\n",
    "- Cleanup of the WML assets and the local files and directories created by this notebook. You will also be able to reuse assets and files that were created in previous sessions of this notebook and not removed."
   ]
  },
  {
   "attachments": {},
   "cell_type": "markdown",
   "metadata": {},
   "source": [
    "## Table of Contents"
   ]
  },
  {
   "attachments": {},
   "cell_type": "markdown",
   "metadata": {},
   "source": [
    "- [Introduction](#introduction)\n",
    "- [Prerequisites](#Prerequisites)\n",
    "- [Basic setup](#basic_setup)\n",
    "- [Create a WML client](#create_wml_client)\n",
    "- [Create WML assets](#create_wml_assets)\n",
    "- [Create parties data](#create_parties_data)\n",
    "- [Create parties cryptographic elements](#create_parties_crypto)\n",
    "- [Launch aggregator](#launch_aggregator)\n",
    "- [Launch parties](#launch_parties)\n",
    "- [Monitor execution status of the training](#monitor_execution)\n",
    "- [Cleanup](#cleanup)\n",
    "- [Next steps](#next_steps)"
   ]
  },
  {
   "attachments": {},
   "cell_type": "markdown",
   "metadata": {},
   "source": [
    "<a id=\"introduction\"></a>\n",
    "## Introduction"
   ]
  },
  {
   "attachments": {},
   "cell_type": "markdown",
   "metadata": {},
   "source": [
    "### IBM Federated Learning"
   ]
  },
  {
   "attachments": {},
   "cell_type": "markdown",
   "metadata": {},
   "source": [
    "IBM Federated Learning enables you to train a machine learning model across multiple decentralized parties holding local data sets, without sharing the local data sets. Such parties can be for example within an enterprise, within a consortium of enterprises, within multiple data centers or multiple clouds, or on edge devices. This allows to build a collective machine learning model without sharing data between the nodes, therefore addressing data security, privacy, and regulatory compliance requirements, as well as eliminating data movement and its associated costs.\n",
    "\n",
    "In the federated learning training process, the parties build locally trained machine learning models and send these local models to an aggregator. The aggregator fuses the local models into an aggregated model and sends this model back to the parties to continue with the next round of training.\n",
    "\n",
    "For additional details see [IBM Federated Learning documentation](https://dataplatform.cloud.ibm.com/docs/content/wsj/analyze-data/fed-lea.html?audience=wdp)."
   ]
  },
  {
   "attachments": {},
   "cell_type": "markdown",
   "metadata": {},
   "source": [
    "### Homomorphic encryption support in IBM Federated Learning"
   ]
  },
  {
   "attachments": {},
   "cell_type": "markdown",
   "metadata": {},
   "source": [
    "IBM Federated Learning uses SSL secured connections between the parties and the aggregator for communicating the machine learning models. In this setting, the aggregator can still see the unencrypted local and aggregated models. \n",
    "\n",
    "IBM Federated Learning further includes homomorphic encryption capabilities, to enhance the parties’ data privacy and security in settings where the aggregator operates in an environment which is less trusted, and the parties wish to avoid revealing the local models and the aggregated models to the aggregator.\n",
    "\n",
    "Homomorphic encryption (HE) is a form of encryption that enables performing computations on the encrypted data without decrypting it. The results of the computations remain in encrypted form which, when decrypted, results in an output that is the same as the output produced had the computations been performed on the unencrypted data.\n",
    "\n",
    "In federated learning, homomorphic encryption enables the parties to homomorphically encrypt their local model updates before sending them to the aggregator. The aggregator sees only the homomorphically encrypted local model updates, and therefore cannot learn anything from this information. Specifically, the aggregator is not able to reverse-engineer the local model updates to discover information on local training data. The aggregator fuses the local model updates in their encrypted form, obtaining an encrypted aggregated model. Then the aggregator sends the encrypted aggregated model to the parties, which decrypt it and continue with the next round of training.\n",
    "\n",
    "<img src=\"https://raw.githubusercontent.com/IBMDataScience/sample-notebooks/master/Files/fhe_1.jpg\" width=\"500\"/>\n",
    "\n",
    "Homomorphic encryption is a form of public key cryptography. It uses a public key for encryption and a private key for decryption.\n",
    "In IBM Federated Learning with homomorphic encryption, the parties (also named “remote training systems”) share the private HE key, and the aggregator has only the public HE key. Each party encrypts its local model update using the public HE key, and sends its encrypted local model update to the aggregator. Since the aggregator does not have the private HE key, it cannot decrypt the encrypted local model updates.\n",
    "\n",
    "<img src=\"https://raw.githubusercontent.com/IBMDataScience/sample-notebooks/master/Files/fhe_2.jpg\" width=\"500\"/>\n",
    "\n",
    "The aggregator uses its public HE key to fuse the encrypted local model updates into a new encrypted aggregated model. This encrypted aggregated model is sent to the parties, which decrypt it using their private HE key, and continue the model training process.\n",
    "\n",
    "<img src=\"https://raw.githubusercontent.com/IBMDataScience/sample-notebooks/master/Files/fhe_3.jpg\" width=\"500\"/>\n",
    "\n",
    "IBM Federated Learning makes it easy to use homomorphic encryption in model training, by specifying simple parameters in the configurations of the aggregator and the parties. IBM Federated Learning includes a mechanism that generates and distributes automatically and securely homomorphic encryption keys among the parties participating in a training experiment."
   ]
  },
  {
   "attachments": {},
   "cell_type": "markdown",
   "metadata": {},
   "source": [
    "<a id=\"prerequisites\"></a>\n",
    "## Prerequisites"
   ]
  },
  {
   "attachments": {},
   "cell_type": "markdown",
   "metadata": {},
   "source": [
    "1. The currently supported operating system and architecture for running parties in Federated Learning experiments with homomorphic encryption is Linux x86. Therefore, this notebook must run on a Linux x86 platform.\n",
    "<br/><br/>\n",
    "2. Install the IBM Watson Machine Learning Python client package with homomorphic encryption support, within the Python environment in which this notebook runs. Use the following command within your Python environment:  \n",
    "```pip install 'ibm_watson_machine_learning[fl-rt23.1-py3.10,fl-crypto]'```.  \n",
    "You can use the installation cell in the next section of this notebook to perform this installation.  \n",
    "This installation is required for any Python environment that will be used for running parties in Federated Learning experiments with homomorphic encryption.\n",
    "<br/><br/>\n",
    "3. You will need an IBM Cloud Pak for Data 4.7 system with Watson Studio and Watson Machine Learning installed.\n",
    "<br/><br/>\n",
    "4. The following information:\n",
    "   1. URL of your IBM Cloud Pak for Data system.\n",
    "   2. Your `Username`, `Password` and `User ID`.  You can find this information from the *Administration > Access Control* page.\n",
    "   3. The ID of a new or existing project to be used.  This can be found from *Projects > Specific project > Manage > Project ID*. "
   ]
  },
  {
   "attachments": {},
   "cell_type": "markdown",
   "metadata": {},
   "source": [
    "<a id=\"basic_setup\"></a>\n",
    "## Basic setup"
   ]
  },
  {
   "attachments": {},
   "cell_type": "markdown",
   "metadata": {},
   "source": [
    "Install the IBM Watson Machine Learning Python client package with homomorphic encryption support, within the Python environment in which this notebook runs, if this package is not yet installed in this environment."
   ]
  },
  {
   "cell_type": "code",
   "execution_count": null,
   "metadata": {},
   "outputs": [],
   "source": [
    "%pip install --upgrade 'ibm_watson_machine_learning[fl-rt23.1-py3.10,fl-crypto]'"
   ]
  },
  {
   "attachments": {},
   "cell_type": "markdown",
   "metadata": {},
   "source": [
    "The following cell applies base definitions for the notebook.\n",
    " \n",
    "**User action:** Before running the following cell, replace the mandatory TBDs in the cell with your information and review the optional TBDs."
   ]
  },
  {
   "cell_type": "code",
   "execution_count": null,
   "metadata": {},
   "outputs": [],
   "source": [
    "API_VERSION = \"2021-10-01\"\n",
    "\n",
    "# Hostname of CP4D cluster\n",
    "CP4D_HOST = \"XXX\" # <host URL>\n",
    "CP4D_URL = \"https://\" + CP4D_HOST\n",
    "\n",
    "# Enter your CP4D username / password\n",
    "WS_USER = \"XXX\" # <username>\n",
    "WS_PASSWORD = \"XXX\" # <password>\n",
    "\n",
    "# User ID for admin user, get this in Administration < User Management (CP4D_URL/zen-admin/?deployment_target=icp4data#/usermgmt-ui)\n",
    "WS_USERID = \"XXX\" # <user ID>\n",
    "\n",
    "PROJECT_ID = \"XXX\" # Get this by going into your WS project and checking the URL."
   ]
  },
  {
   "cell_type": "code",
   "execution_count": null,
   "metadata": {
    "id": "de644d5d-3933-4df6-b4f5-9aa130efde28"
   },
   "outputs": [],
   "source": [
    "import os\n",
    "import subprocess\n",
    "import urllib3\n",
    "import requests\n",
    "urllib3.disable_warnings()\n",
    "\n",
    "cmd = subprocess.Popen(\"pip list | grep 'ibm-watson-machine-learning'\", \n",
    "    shell=True, stdout=subprocess.PIPE, stderr=subprocess.STDOUT)\n",
    "wml_installed = len(cmd.communicate()[0]) > 0\n",
    "if not wml_installed:\n",
    "    raise Exception('ibm-watson-machine-learning package must be installed in the environment')\n",
    "\n",
    "base_dir = os.getcwd() # TBD [optional] A base directory under which the notebook work directory will be created. Default is the current work directory.\n",
    "nb_dir = os.path.join(base_dir, 'fl_fhe_nb')\n",
    "data_path = os.path.join(nb_dir, 'data')\n",
    "model_path = os.path.join(nb_dir, 'model')\n",
    "crypto_path = os.path.join(nb_dir, 'crypto')\n",
    "exec_path = os.path.join(nb_dir, 'exec')\n",
    "if not os.path.exists(data_path):\n",
    "    os.makedirs(data_path)\n",
    "if not os.path.exists(model_path):\n",
    "    os.makedirs(model_path)\n",
    "if not os.path.exists(crypto_path):\n",
    "    os.makedirs(crypto_path)\n",
    "if not os.path.exists(exec_path):\n",
    "    os.makedirs(exec_path)\n",
    "os.chdir(exec_path)\n",
    "\n",
    "\n",
    "NUM_RTS = int(3) # TBD [optional] This parameter enables to specify the number of parties for a training experiment.\n",
    "SW_SPEC_NAME = 'runtime-23.1-py3.10'\n",
    "HW_SPEC_NAME = 'S'\n",
    "RSC_TAGS = ['wml_fl_fhe_nb_example']\n",
    "TIMEOUT_TRAINING_SEC = 600\n",
    "crypto_file_ext = 'v1'\n",
    "asym_file_is = crypto_path + \"/is_asym_\" + crypto_file_ext + \".pem\"\n",
    "cert_file_is = crypto_path + \"/is_cert_\" + crypto_file_ext + \".pem\"\n",
    "asym_file_sb = crypto_path + \"/sb_asym_\" + crypto_file_ext + \"_\"\n",
    "csr_file_sb = crypto_path + \"/sb_csr_\" + crypto_file_ext + \"_\"\n",
    "cert_file_sb = crypto_path + \"/sb_cert_\" + crypto_file_ext + \"_\"\n",
    "prt_data_file_prefix = 'data_party_'\n",
    "NUM_MODELS = int(1)\n",
    "MODEL_NAME = 'pytorch'\n",
    "MODEL_TYPE = 'pytorch-onnx_2.0'\n",
    "INIT_MODEL_FILE_NAME = 'pt_mnist_init_model.zip'\n",
    "INIT_MODEL_URL = 'https://github.com/IBMDataScience/sample-notebooks/raw/master/Files/pt_mnist_init_model.zip'\n",
    "DATA_HANDLER_FILE_NAME = 'mnist_pytorch_data_handler.py'\n",
    "DATA_HANDLER_CLASS_NAME = 'MnistPytorchDataHandler'\n",
    "DATASET_FILE_NAME = 'mnist.npz'\n",
    "DATASET_URL = 'https://api.dataplatform.cloud.ibm.com/v2/gallery-assets/entries/85ae67d0cf85df6cf114d0664194dc3b/data'\n",
    "\n",
    "hearbeat_resp = requests.get(CP4D_URL + \"/wml_services/training/heartbeat\", verify=False)\n",
    "print(\"Heartbeat response %s\" % hearbeat_resp.content.decode(\"utf-8\"))"
   ]
  },
  {
   "attachments": {},
   "cell_type": "markdown",
   "metadata": {
    "id": "4b23df51-63bb-4f80-a633-c259419db3ea"
   },
   "source": [
    "<a id=\"create_wml_client\"></a>\n",
    "## Create a WML client"
   ]
  },
  {
   "attachments": {},
   "cell_type": "markdown",
   "metadata": {},
   "source": [
    "This section creates and activates a WML client, which enables to interact with your WML instance."
   ]
  },
  {
   "cell_type": "code",
   "execution_count": null,
   "metadata": {},
   "outputs": [],
   "source": [
    "from ibm_watson_machine_learning import APIClient\n",
    "\n",
    "wml_credentials = {\n",
    "        \"username\": WS_USER,\n",
    "        \"password\": WS_PASSWORD,\n",
    "        \"instance_id\" : \"openshift\",\n",
    "        \"url\": \"https://\" + CP4D_HOST,\n",
    "        \"version\": \"4.0\"\n",
    "}\n",
    "\n",
    "wml_client = APIClient(wml_credentials)\n",
    "wml_client.set.default_project(PROJECT_ID)"
   ]
  },
  {
   "attachments": {},
   "cell_type": "markdown",
   "metadata": {},
   "source": [
    "<a id=\"create_wml_assets\"></a>\n",
    "## Create WML assets"
   ]
  },
  {
   "attachments": {},
   "cell_type": "markdown",
   "metadata": {},
   "source": [
    "The WML assets created in this notebook are initial models and remote training systems.  \n",
    "In this section you can either create new assets, or reuse assets that were created in a previous session of this notebook and not removed."
   ]
  },
  {
   "attachments": {},
   "cell_type": "markdown",
   "metadata": {},
   "source": [
    "### Create new assets"
   ]
  },
  {
   "attachments": {},
   "cell_type": "markdown",
   "metadata": {},
   "source": [
    "#### Store initial model assets in the cluster"
   ]
  },
  {
   "attachments": {},
   "cell_type": "markdown",
   "metadata": {},
   "source": [
    "Initial untrained model assets are required for Federated Learning.  \n",
    "In this notebook, an untrained Pytorch model is used.  \n",
    "For additional details see the documentation on [creating initial models](https://dataplatform.cloud.ibm.com/docs/content/wsj/analyze-data/fl-models.html?audience=wdp).\n",
    "\n",
    "First, we download a pre-built initial model."
   ]
  },
  {
   "cell_type": "code",
   "execution_count": null,
   "metadata": {},
   "outputs": [],
   "source": [
    "import shutil\n",
    "print(\"Downloading initial model\")\n",
    "init_model_file_path = os.path.join(model_path, INIT_MODEL_FILE_NAME)\n",
    "with requests.get(INIT_MODEL_URL, stream=True) as r:\n",
    "    with open(init_model_file_path, 'wb') as f:\n",
    "        shutil.copyfileobj(r.raw, f)\n",
    "print('Model stored in: ' + str(init_model_file_path))\n",
    "print(\"Done\")"
   ]
  },
  {
   "attachments": {},
   "cell_type": "markdown",
   "metadata": {},
   "source": [
    "Next, we upload the initial model as an asset into the cluster."
   ]
  },
  {
   "cell_type": "code",
   "execution_count": null,
   "metadata": {},
   "outputs": [],
   "source": [
    "print(\"Storing initial model\")\n",
    "sw_spec_id = wml_client.software_specifications.get_id_by_name(SW_SPEC_NAME)\n",
    "untrained_model_ids = {}\n",
    "model_metadata = {\n",
    "    wml_client.repository.ModelMetaNames.NAME: MODEL_NAME,\n",
    "    wml_client.repository.ModelMetaNames.TYPE: MODEL_TYPE,\n",
    "    wml_client.repository.ModelMetaNames.SOFTWARE_SPEC_UID: sw_spec_id,\n",
    "    wml_client.repository.ModelMetaNames.TAGS: RSC_TAGS\n",
    "}\n",
    "untrained_model_details = wml_client.repository.store_model(os.path.join(model_path, INIT_MODEL_FILE_NAME), model_metadata)\n",
    "untrained_model_ids[MODEL_NAME] = wml_client.repository.get_model_id(untrained_model_details)\n",
    "print('Model id: ' + str(untrained_model_ids[MODEL_NAME]))\n",
    "print('Done')"
   ]
  },
  {
   "attachments": {},
   "cell_type": "markdown",
   "metadata": {
    "id": "aee02c1c-cc0b-4880-914d-da3ac4c04afb"
   },
   "source": [
    "#### Create remote training systems in the cluster"
   ]
  },
  {
   "attachments": {},
   "cell_type": "markdown",
   "metadata": {},
   "source": [
    "A Remote Training System (RTS) asset defines a party that connects to the aggregator for a training experiment.  \n",
    "For additional details see the corresponding [documentation](https://dataplatform.cloud.ibm.com/docs/content/wsj/analyze-data/fl-agg.html?audience=wdp) page."
   ]
  },
  {
   "cell_type": "code",
   "execution_count": null,
   "metadata": {},
   "outputs": [],
   "source": [
    "print(\"Creating Remote Training Systems\")\n",
    "remote_training_systems = []\n",
    "for i in range(NUM_RTS):\n",
    "    rts_metadata = {\n",
    "        wml_client.remote_training_systems.ConfigurationMetaNames.NAME: \"Party_\"+str(i),\n",
    "        wml_client.remote_training_systems.ConfigurationMetaNames.TAGS: RSC_TAGS,\n",
    "        wml_client.remote_training_systems.ConfigurationMetaNames.ORGANIZATION: {\"name\" : \"IBM\", \"region\": \"US\"},\n",
    "        wml_client.remote_training_systems.ConfigurationMetaNames.ALLOWED_IDENTITIES: [{\"id\": WS_USERID, \"type\": \"user\"}],\n",
    "        wml_client.remote_training_systems.ConfigurationMetaNames.REMOTE_ADMIN: {\"id\": WS_USERID, \"type\":\"user\"}\n",
    "    }\n",
    "    rts = wml_client.remote_training_systems.store(rts_metadata)\n",
    "    rts_id = wml_client.remote_training_systems.get_id(rts)\n",
    "    print('Remote training system Party_' + str(i) + ' id: ' + str(rts_id))\n",
    "    remote_training_systems.append({'id': rts_id, 'required': True})\n",
    "print('Done')"
   ]
  },
  {
   "attachments": {},
   "cell_type": "markdown",
   "metadata": {},
   "source": [
    "### Reuse existing assets"
   ]
  },
  {
   "attachments": {},
   "cell_type": "markdown",
   "metadata": {},
   "source": [
    "Run the following cell if you are reusing WML assets that were created in previous sessions.  \n",
    "This code enables to build internal notebook lists from existing assets. These lists are used in later operations of this notebook."
   ]
  },
  {
   "cell_type": "code",
   "execution_count": null,
   "metadata": {},
   "outputs": [],
   "source": [
    "import json\n",
    "\n",
    "FORCE_REBUILD_DS = False\n",
    "\n",
    "print(\"Models:\")\n",
    "if 'untrained_model_ids' not in globals() or FORCE_REBUILD_DS or \\\n",
    "    len(untrained_model_ids) != NUM_MODELS:\n",
    "    untrained_model_ids = {}\n",
    "    load_models_dict = True\n",
    "else:\n",
    "    load_models_dict = False\n",
    "models = wml_client.repository.get_model_details(get_all=True)\n",
    "for m in models['resources']:\n",
    "    md = m['metadata']\n",
    "    if not 'tags' in md or md['tags'] != RSC_TAGS:\n",
    "        continue\n",
    "    if load_models_dict:\n",
    "        untrained_model_ids[md['name']] = md['id']\n",
    "    print('{}: {}'.format(md['name'],md['id']))\n",
    "\n",
    "print(\"Remote Training Systems:\")\n",
    "if 'remote_training_systems' not in globals() or FORCE_REBUILD_DS or \\\n",
    "    len(remote_training_systems) != NUM_RTS:\n",
    "    remote_training_systems = []\n",
    "    load_rts_lst = True\n",
    "else:\n",
    "    load_rts_lst = False\n",
    "rts = wml_client.remote_training_systems.get_details()\n",
    "for r in rts['resources']:\n",
    "    md = r['metadata']\n",
    "    if not 'tags' in md or md['tags'] != RSC_TAGS:\n",
    "        continue\n",
    "    if load_rts_lst:\n",
    "        remote_training_systems.append({'id': md['id'], 'required': True})\n",
    "    print('{}: {}'.format(md['name'],md['id']))"
   ]
  },
  {
   "attachments": {},
   "cell_type": "markdown",
   "metadata": {},
   "source": [
    "<a id=\"create_parties_data\"></a>\n",
    "## Create parties data"
   ]
  },
  {
   "attachments": {},
   "cell_type": "markdown",
   "metadata": {},
   "source": [
    "This section downloads the MNIST data set and splits it into subsets for the parties.  \n",
    "Then, it defines and stores a data handler."
   ]
  },
  {
   "attachments": {},
   "cell_type": "markdown",
   "metadata": {},
   "source": [
    "### Download data set and split it for the parties"
   ]
  },
  {
   "cell_type": "code",
   "execution_count": null,
   "metadata": {},
   "outputs": [],
   "source": [
    "import os\n",
    "import requests\n",
    "import numpy as np\n",
    "import shutil\n",
    "\n",
    "def load_mnist(normalize=True, download_dir=''):\n",
    "    \"\"\"\n",
    "    Download MNIST training data from source used in `keras.datasets.load_mnist`\n",
    "    :param normalize: whether or not to normalize data\n",
    "    :type normalize: bool\n",
    "    :param download_dir: directory to download data\n",
    "    :type download_dir: `str`\n",
    "    :return: 2 tuples containing training and testing data respectively\n",
    "    :rtype (`np.ndarray`, `np.ndarray`), (`np.ndarray`, `np.ndarray`)\n",
    "    \"\"\"\n",
    "    local_file = os.path.join(download_dir, DATASET_FILE_NAME)\n",
    "    if not os.path.isfile(local_file):\n",
    "        with requests.get(DATASET_URL, stream=True) as r:\n",
    "            with open(local_file, 'wb') as f:\n",
    "                shutil.copyfileobj(r.raw, f)\n",
    "        with np.load(local_file, allow_pickle=True) as mnist:\n",
    "            x_train, y_train = mnist['x_train'], mnist['y_train']\n",
    "            x_test, y_test = mnist['x_test'], mnist['y_test']\n",
    "            if normalize:\n",
    "                x_train = x_train.astype('float32')\n",
    "                x_test = x_test.astype('float32')\n",
    "                x_train /= 255\n",
    "                x_test /= 255\n",
    "        np.savez(local_file, x_train=x_train, y_train=y_train,\n",
    "                 x_test=x_test, y_test=y_test)\n",
    "    else:\n",
    "        with np.load(local_file, allow_pickle=True) as mnist:\n",
    "            x_train, y_train = mnist['x_train'], mnist['y_train']\n",
    "            x_test, y_test = mnist['x_test'], mnist['y_test']\n",
    "    return (x_train, y_train), (x_test, y_test)\n",
    "\n",
    "def save_mnist_party_data(nb_dp_per_party, should_stratify, party_folder, dataset_folder):\n",
    "    \"\"\"\n",
    "    Saves MNIST party data\n",
    "    :param nb_dp_per_party: the number of data points each party should have\n",
    "    :type nb_dp_per_party: `list[int]`\n",
    "    :param should_stratify: True if data should be assigned proportional to source class distributions\n",
    "    :type should_stratify: `bool`\n",
    "    :param party_folder: folder to save party data\n",
    "    :type party_folder: `str`\n",
    "    :param dataset_folder: folder to save dataset\n",
    "    :type data_path: `str`\n",
    "    :param dataset_folder: folder to save dataset\n",
    "    :type dataset_folder: `str`\n",
    "    \"\"\"\n",
    "    if not os.path.exists(dataset_folder):\n",
    "        os.makedirs(dataset_folder)\n",
    "    (x_train, y_train), (x_test, y_test) = load_mnist(download_dir=dataset_folder)\n",
    "    labels, train_counts = np.unique(y_train, return_counts=True)\n",
    "    te_labels, test_counts = np.unique(y_test, return_counts=True)\n",
    "    diff_labels = np.all(np.isin(labels, te_labels))\n",
    "    num_train = np.shape(y_train)[0]\n",
    "    num_test = np.shape(y_test)[0]\n",
    "    num_labels = np.shape(np.unique(y_test))[0]\n",
    "    nb_parties = len(nb_dp_per_party)\n",
    "    if should_stratify:\n",
    "        train_probs = {\n",
    "            label: train_counts[label] / float(num_train) for label in labels}\n",
    "        test_probs = {label: test_counts[label] /\n",
    "                        float(num_test) for label in te_labels}\n",
    "    else:\n",
    "        train_probs = {label: 1.0 / len(labels) for label in labels}\n",
    "        test_probs = {label: 1.0 / len(te_labels) for label in te_labels}\n",
    "    for idx, dp in enumerate(nb_dp_per_party):\n",
    "        train_p = np.array([train_probs[y_train[idx]]\n",
    "                            for idx in range(num_train)])\n",
    "        train_p /= np.sum(train_p)\n",
    "        train_indices = np.random.choice(num_train, dp, p=train_p)\n",
    "        test_p = np.array([test_probs[y_test[idx]] for idx in range(num_test)])\n",
    "        test_p /= np.sum(test_p)\n",
    "        test_indices = np.random.choice(\n",
    "            num_test, int(num_test / nb_parties), p=test_p)\n",
    "        x_train_pi = x_train[train_indices]\n",
    "        y_train_pi = y_train[train_indices]\n",
    "        x_test_pi = x_test[test_indices]\n",
    "        y_test_pi = y_test[test_indices]\n",
    "        name_file = prt_data_file_prefix + str(idx) + '.npz'\n",
    "        name_file = os.path.join(party_folder, name_file)\n",
    "        np.savez(name_file, x_train=x_train_pi, y_train=y_train_pi,\n",
    "                 x_test=x_test_pi, y_test=y_test_pi)\n",
    "    print('Data saved in ' + party_folder)\n",
    "    return\n",
    "\n",
    "save_mnist_party_data(nb_dp_per_party=[200 for _ in range(NUM_RTS)], should_stratify=False, \n",
    "    party_folder=data_path, dataset_folder=data_path)\n",
    "print('Done')"
   ]
  },
  {
   "attachments": {},
   "cell_type": "markdown",
   "metadata": {},
   "source": [
    "### Define and store a data handler"
   ]
  },
  {
   "attachments": {},
   "cell_type": "markdown",
   "metadata": {},
   "source": [
    "This section creates a data handler Python file for the MNIST dataset to train using PyTorch.  \n",
    "For additional details see the corresponding [documentation](https://dataplatform.cloud.ibm.com/docs/content/wsj/analyze-data/fl-handler.html?audience=wdp) page."
   ]
  },
  {
   "cell_type": "code",
   "execution_count": null,
   "metadata": {},
   "outputs": [],
   "source": [
    "%%writefile mnist_pytorch_data_handler.py\n",
    "import numpy as np\n",
    "from ibmfl.data.data_handler import DataHandler\n",
    "\n",
    "class MnistPytorchDataHandler(DataHandler):\n",
    "    \"\"\"\n",
    "    Data handler for the MNIST dataset to train using PyTorch.\n",
    "    \"\"\"\n",
    "\n",
    "    def __init__(self, data_config=None):\n",
    "        super().__init__()\n",
    "        self.file_name = None\n",
    "        if data_config is not None:\n",
    "            if 'npz_file' in data_config:\n",
    "                self.file_name = data_config['npz_file']\n",
    "        # Load the datasets.\n",
    "        (self.x_train, self.y_train), (self.x_test, self.y_test) = self.load_dataset()\n",
    "        # Pre-process the datasets.\n",
    "        self.preprocess()\n",
    "\n",
    "    def get_data(self):\n",
    "        \"\"\"\n",
    "        Gets pre-process mnist training and testing data.\n",
    "\n",
    "        :return: training data\n",
    "        :rtype: `tuple`\n",
    "        \"\"\"\n",
    "        return (self.x_train, self.y_train), (self.x_test, self.y_test)\n",
    "\n",
    "    def load_dataset(self, nb_points=500):\n",
    "        \"\"\"\n",
    "        Loads the training and testing datasets from a given local path.\n",
    "        If no local path is provided, it will download the original MNIST \\\n",
    "        dataset online, and reduce the dataset size to contain \\\n",
    "        500 data points per training and testing dataset.\n",
    "        Because this method\n",
    "        is for testing it takes as input the number of datapoints, nb_points,\n",
    "        to be included in the training and testing set.\n",
    "\n",
    "        :param nb_points: Number of data points to be included in each set if\n",
    "        no local dataset is provided.\n",
    "        :type nb_points: `int`\n",
    "        :return: training and testing datasets\n",
    "        :rtype: `tuple`\n",
    "        \"\"\"\n",
    "        try:\n",
    "            data_train = np.load(self.file_name)\n",
    "            x_train = data_train['x_train']\n",
    "            y_train = data_train['y_train']\n",
    "            x_test = data_train['x_test']\n",
    "            y_test = data_train['y_test']\n",
    "        except Exception:\n",
    "            raise IOError('Unable to load training data from path '\n",
    "                            'provided in config file: ' +\n",
    "                            self.file_name)\n",
    "        return (x_train, y_train), (x_test, y_test)\n",
    "\n",
    "    def preprocess(self):\n",
    "        \"\"\"\n",
    "        Preprocesses the training and testing dataset, \\\n",
    "        e.g., reshape the images according to self.channels_first; \\\n",
    "        convert the labels to binary class matrices.\n",
    "\n",
    "        :return: None\n",
    "        \"\"\"\n",
    "        img_rows, img_cols = 28, 28\n",
    "        self.x_train = self.x_train.astype('float32').reshape(self.x_train.shape[0], 1, img_rows, img_cols)\n",
    "        self.x_test = self.x_test.astype('float32').reshape(self.x_test.shape[0], 1,img_rows, img_cols)\n",
    "        self.y_train = self.y_train.astype('int64')\n",
    "        self.y_test = self.y_test.astype('int64')"
   ]
  },
  {
   "cell_type": "code",
   "execution_count": null,
   "metadata": {},
   "outputs": [],
   "source": [
    "import shutil\n",
    "shutil.move(os.path.join('.', DATA_HANDLER_FILE_NAME), os.path.join(data_path, DATA_HANDLER_FILE_NAME))"
   ]
  },
  {
   "attachments": {},
   "cell_type": "markdown",
   "metadata": {},
   "source": [
    "<a id=\"create_parties_crypto\"></a>\n",
    "## Create parties cryptographic elements"
   ]
  },
  {
   "attachments": {},
   "cell_type": "markdown",
   "metadata": {},
   "source": [
    "This section creates the certificate and key files required for running a Federated Learning training experiment with encryption.  \n",
    "Two methods are provided in this section for creating the cryptographic files - using the Python *cryptography* package, or using *openssl*. Use either one of these methods.\n",
    "\n",
    "Homomorphic encryption keys are generated and distributed automatically and securely among the parties for each experiment. Only the parties participating in an experiment have access to the homomorphic encryption private key generated for the experiment.  \n",
    "To facilitate this generation and distribution process, the following steps must be performed before an experiment:\n",
    "- All the parties participating in the experiment must agree on a single Certificate Authority.\n",
    "- Each party must be provisioned with a certificate from the agreed Certificate Authority.\n",
    "- Each party must be provisioned with an *RSA* key pair. The *RSA* public key must be included in the aforementioned party certificate.\n",
    "\n",
    "An *RSA* key pair and certificate for a party must be generated using the following parameters and guidelines:\n",
    "- Key type: *RSA*.\n",
    "- Key size: 4096 bit.\n",
    "- Public exponent: 65537.\n",
    "- No password for the *RSA* key file.\n",
    "- Hash algorithm: *SHA256*.\n",
    "- The key and certificate files must be in *PEM* format.\n",
    "\n",
    "Each party must be configured with paths to the following files:  \n",
    "- Certificate of the Certificate Authority.\n",
    "- Certificate of the party issued by the Certificate Authority (includes the *RSA* public key of the party).\n",
    "- *RSA* private key of the party. \n",
    "\n",
    "Further details on this configuration are provided in the notebook section [Launch parties](#launch-parties).\n",
    "\n",
    "In this notebook, we generate and provision self-signed certificates. "
   ]
  },
  {
   "attachments": {},
   "cell_type": "markdown",
   "metadata": {},
   "source": [
    "### Method 1: Using Python Cryptography package"
   ]
  },
  {
   "cell_type": "code",
   "execution_count": null,
   "metadata": {},
   "outputs": [],
   "source": [
    "import os\n",
    "import datetime\n",
    "from cryptography.hazmat.primitives import serialization\n",
    "from cryptography.hazmat.primitives import hashes\n",
    "from cryptography.hazmat.primitives.asymmetric import rsa\n",
    "from cryptography import x509\n",
    "from cryptography.x509.oid import NameOID\n",
    "\n",
    "class CryptoRsa():\n",
    "\n",
    "    KEY_SIZE = 4096\n",
    "    PUBLIC_EXPONENT = 65537\n",
    "    CRYPTO_HASH = hashes.SHA256()\n",
    "\n",
    "    def __init__(self):\n",
    "        self.private_key = CryptoRsa.generate_key()\n",
    "\n",
    "    def generate_key():\n",
    "        private_key = rsa.generate_private_key(\n",
    "            public_exponent=CryptoRsa.PUBLIC_EXPONENT,\n",
    "            key_size=CryptoRsa.KEY_SIZE,\n",
    "        )\n",
    "        return private_key\n",
    "\n",
    "    def get_public_key(self, type: str = \"obj\"):\n",
    "        if self.private_key is None:\n",
    "            raise Exception(\"self.private_key is None\")\n",
    "        if type == \"obj\":\n",
    "            ret = self.private_key.public_key()\n",
    "        elif type == \"pem\":\n",
    "            ret = self.private_key.public_key().public_bytes(\n",
    "                encoding=serialization.Encoding.PEM,\n",
    "                format=serialization.PublicFormat.SubjectPublicKeyInfo\n",
    "            )\n",
    "        else:\n",
    "            raise Exception(\"Invalid type=\" + repr(type))\n",
    "        return ret\n",
    "\n",
    "    def write_key_file(self, file_path: str):\n",
    "        if self.private_key is None:\n",
    "            raise Exception(\"self.private_key is None\")\n",
    "        pem = self.private_key.private_bytes(\n",
    "            encoding=serialization.Encoding.PEM,\n",
    "            format=serialization.PrivateFormat.PKCS8,\n",
    "            encryption_algorithm=serialization.NoEncryption()\n",
    "        )\n",
    "        with open(file_path, \"wb\") as key_file:\n",
    "            key_file.write(pem)\n",
    "        return\n",
    "\n",
    "if not os.path.exists(crypto_path):\n",
    "    os.makedirs(crypto_path)\n",
    "\n",
    "issuer = x509.Name([\n",
    "    x509.NameAttribute(NameOID.COUNTRY_NAME, u\"US\"),\n",
    "    x509.NameAttribute(NameOID.STATE_OR_PROVINCE_NAME, u\"California\"),\n",
    "    x509.NameAttribute(NameOID.LOCALITY_NAME, u\"San Francisco\"),\n",
    "    x509.NameAttribute(NameOID.ORGANIZATION_NAME, u\"Issuer Company\"),\n",
    "    x509.NameAttribute(NameOID.COMMON_NAME, u\"mysite.com\"),\n",
    "])\n",
    "subject = x509.Name([\n",
    "    x509.NameAttribute(NameOID.COUNTRY_NAME, u\"US\"),\n",
    "    x509.NameAttribute(NameOID.STATE_OR_PROVINCE_NAME, u\"California\"),\n",
    "    x509.NameAttribute(NameOID.LOCALITY_NAME, u\"San Francisco\"),\n",
    "    x509.NameAttribute(NameOID.ORGANIZATION_NAME, u\"Subject Company\"),\n",
    "    x509.NameAttribute(NameOID.COMMON_NAME, u\"mysite.com\"),\n",
    "])\n",
    "\n",
    "issuer_key = CryptoRsa()\n",
    "issuer_key.write_key_file(asym_file_is)\n",
    "\n",
    "cert_is = x509.CertificateBuilder().subject_name(\n",
    "    issuer\n",
    ").issuer_name(\n",
    "    issuer\n",
    ").public_key(\n",
    "    issuer_key.get_public_key()\n",
    ").serial_number(\n",
    "    x509.random_serial_number()\n",
    ").not_valid_before(\n",
    "    datetime.datetime.utcnow()\n",
    ").not_valid_after(\n",
    "    datetime.datetime.utcnow() + datetime.timedelta(days=1000)\n",
    ").add_extension(\n",
    "    x509.SubjectAlternativeName([x509.DNSName(u\"localhost\")]),\n",
    "    critical=False,\n",
    ").sign(issuer_key.private_key, CryptoRsa.CRYPTO_HASH)\n",
    "with open(cert_file_is, \"wb\") as f:\n",
    "    f.write(cert_is.public_bytes(serialization.Encoding.PEM))\n",
    "\n",
    "for idx in range(NUM_RTS):\n",
    "    asym_file_path = asym_file_sb+str(idx)+\".pem\"\n",
    "    cert_file_path = cert_file_sb+str(idx)+\".pem\"\n",
    "    subject_key = CryptoRsa()\n",
    "    subject_key.write_key_file(asym_file_path)\n",
    "    cert_sb = x509.CertificateBuilder().subject_name(\n",
    "        subject\n",
    "    ).issuer_name(\n",
    "        issuer\n",
    "    ).public_key(\n",
    "        subject_key.get_public_key()\n",
    "    ).serial_number(\n",
    "        x509.random_serial_number()\n",
    "    ).not_valid_before(\n",
    "        datetime.datetime.utcnow()\n",
    "    ).not_valid_after(\n",
    "        datetime.datetime.utcnow() + datetime.timedelta(days=1000)\n",
    "    ).add_extension(\n",
    "        x509.SubjectAlternativeName([x509.DNSName(u\"localhost\")]),\n",
    "        critical=False,\n",
    "    ).sign(issuer_key.private_key, CryptoRsa.CRYPTO_HASH)\n",
    "    with open(cert_file_path, \"wb\") as f:\n",
    "        f.write(cert_sb.public_bytes(serialization.Encoding.PEM))\n",
    "\n",
    "print('Done')"
   ]
  },
  {
   "attachments": {},
   "cell_type": "markdown",
   "metadata": {},
   "source": [
    "### Method 2: Using openssl"
   ]
  },
  {
   "cell_type": "code",
   "execution_count": null,
   "metadata": {},
   "outputs": [],
   "source": [
    "import os\n",
    "\n",
    "if not os.path.exists(cert_file_is):\n",
    "    ret = os.system(\"openssl req -x509 -newkey rsa:4096 -sha256 -days 365 -nodes \"\n",
    "        \"-subj \\\"/C=US/ST=California/L=San Francisco/O=Issuer Company/OU=Org/CN=www.iscompany.com\\\" -keyout \" + \n",
    "        str(asym_file_is) + \" -out \" + str(cert_file_is))\n",
    "    if ret != 0:\n",
    "        raise Exception(\"openssl for issuer failed: {}\".format(ret))\n",
    "\n",
    "for idx in range(NUM_RTS):\n",
    "    asym_file_path = asym_file_sb+str(idx)+\".pem\"\n",
    "    csr_file_path = csr_file_sb+str(idx)+\".pem\"\n",
    "    cert_file_path = cert_file_sb+str(idx)+\".pem\"\n",
    "    if not os.path.exists(cert_file_path):\n",
    "        ret = os.system(\"openssl req -newkey rsa:4096 -nodes -subj \"\n",
    "            \"\\\"/C=US/ST=California/L=San Francisco/O=SB Company/OU=Org/CN=www.sbcompany.com\\\" -keyout \" +\n",
    "            str(asym_file_path) + \" -out \" + str(csr_file_path))\n",
    "        if ret != 0:\n",
    "            raise Exception(\"openssl for subject step 1 failed: {}\".format(ret))\n",
    "        ret = os.system(\"openssl x509 -req -CAcreateserial -CA \" + str(cert_file_is) + \" -CAkey \" + str(asym_file_is) +\n",
    "            \" -sha256 -days 365 -in \" + str(csr_file_path) + \" -out \" + str(cert_file_path))\n",
    "        if ret != 0:\n",
    "            raise Exception(\"openssl for subject step 2 failed: {}\".format(ret))\n",
    "\n",
    "print('Done')"
   ]
  },
  {
   "attachments": {},
   "cell_type": "markdown",
   "metadata": {},
   "source": [
    "<a id=\"launch_aggregator\"></a>\n",
    "## Launch aggregator"
   ]
  },
  {
   "attachments": {},
   "cell_type": "markdown",
   "metadata": {},
   "source": [
    "This section launches the Federated Learning aggregator for the experiment.\n",
    "\n",
    "To run the experiment with homomorphic encryption, the aggregator’s configuration must specify the following fusion type:  \n",
    "`\"fusion_type\": \"crypto_iter_avg\"`.\n",
    "\n",
    "The aggregator’s configuration may also include a `crypto` object, that specifies the required encryption level. For example:  \n",
    "```\n",
    "\"crypto\": {\n",
    "\t\"cipher_spec\": \"encryption_level_1\"\n",
    "}\n",
    "```  \n",
    "If this object is not specified then the default of `encryption_level_1` is used.\n",
    "\n",
    "There are four possible encryption levels, ranging from level 1 to level 4. Higher encryption levels increase security and precision, and require higher resource consumption (e.g. computation, memory, network bandwidth). The security level corresponds to the strength of the encryption system, typically measured by the number of operations that an attacker must perform to break the system. The precision level corresponds to the precision of the encryption system's outcomes. Higher precision level means that cryptographic operations are accurate up to a larger number of digits before and after the floating point. Higher precision levels reduce loss of accuracy of the model due to the encryption operations.  \n",
    "Following is a description of the encryption levels:\n",
    "- Encryption level 1 provides high security and good precision, and is the default level.\n",
    "- Encryption level 2 provides high security and high precision, and requires more resources than level 1.\n",
    "- Encryption level 3 provides extra high security and good precision, and requires more resources than level 2.\n",
    "- Encryption level 4 provides extra high security and high precision, and requires more resources than level 3.\n",
    "\n",
    "For additional details on launching the aggregator see the corresponding [documentation](https://dataplatform.cloud.ibm.com/docs/content/wsj/analyze-data/fl-agg.html?audience=wdp) page."
   ]
  },
  {
   "cell_type": "code",
   "execution_count": null,
   "metadata": {},
   "outputs": [],
   "source": [
    "fl_conf = {\n",
    "    \"model\": {\n",
    "      \"type\": MODEL_NAME,\n",
    "      \"spec\": {\n",
    "        \"id\": untrained_model_ids[MODEL_NAME]\n",
    "      },\n",
    "      \"model_file\": \"pytorch_sequence.pt\"\n",
    "    },\n",
    "    \"fusion_type\": \"crypto_iter_avg\",\n",
    "    \"crypto\": {\n",
    "      \"cipher_spec\": \"encryption_level_1\"\n",
    "    },\n",
    "    \"epochs\": 1,\n",
    "    \"rounds\": 2,\n",
    "    \"metrics\": \"accuracy\",\n",
    "    \"remote_training\": {\n",
    "      \"max_timeout\": TIMEOUT_TRAINING_SEC,\n",
    "      \"quorum\": 1,\n",
    "      \"remote_training_systems\": remote_training_systems,\n",
    "    },\n",
    "    \"software_spec\": {\n",
    "      \"name\": SW_SPEC_NAME\n",
    "    },\n",
    "    \"hardware_spec\": {\n",
    "      \"name\": HW_SPEC_NAME\n",
    "    }\n",
    "}\n",
    "aggregator_metadata = {\n",
    "    wml_client.training.ConfigurationMetaNames.NAME: 'aggregator_he',\n",
    "    wml_client.training.ConfigurationMetaNames.DESCRIPTION: '',\n",
    "    wml_client.training.ConfigurationMetaNames.TAGS: RSC_TAGS,\n",
    "    wml_client.training.ConfigurationMetaNames.TRAINING_DATA_REFERENCES: [],\n",
    "    wml_client.training.ConfigurationMetaNames.TRAINING_RESULTS_REFERENCE: {\n",
    "        \"type\": \"fs\",\n",
    "        \"name\": \"outputData\",\n",
    "        \"location\": {\n",
    "          \"path\": \"projects/$projectId/assets/data_asset\"\n",
    "        }\n",
    "    },\n",
    "    wml_client.training.ConfigurationMetaNames.FEDERATED_LEARNING: fl_conf\n",
    "}\n",
    "print(\"Prepared config for aggregator with model type {}\".format(MODEL_NAME))\n",
    "aggregator = wml_client.training.run(aggregator_metadata, asynchronous=True)\n",
    "print(\"Created Aggregator\")\n",
    "training_id = wml_client.training.get_id(aggregator)\n",
    "print(\"Training id: \" + str(training_id))\n",
    "print (\"RTS: \" + str(remote_training_systems))"
   ]
  },
  {
   "attachments": {},
   "cell_type": "markdown",
   "metadata": {},
   "source": [
    "<a id=\"launch_parties\"></a>\n",
    "## Launch parties"
   ]
  },
  {
   "attachments": {},
   "cell_type": "markdown",
   "metadata": {},
   "source": [
    "This section launches the Federated Learning parties for the experiment.\n",
    "\n",
    "To run the experiment with homomorphic encryption, the parties’ configuration must include a `crypto` object inside the `local_training` object, which specifies the required certificate and key files for the party.\n",
    "\n",
    "For additional details on launching the parties see the corresponding [documentation](https://dataplatform.cloud.ibm.com/docs/content/wsj/analyze-data/fl-conn.html?audience=wdp) page."
   ]
  },
  {
   "cell_type": "code",
   "execution_count": null,
   "metadata": {},
   "outputs": [],
   "source": [
    "import os\n",
    "\n",
    "for idx, prt in enumerate(remote_training_systems):\n",
    "    party_metadata = {\n",
    "        wml_client.remote_training_systems.ConfigurationMetaNames.LOCAL_TRAINING: {\n",
    "            \"info\": {\n",
    "                \"crypto\": {\n",
    "                    \"key_manager\": {\n",
    "                        \"key_mgr_info\": {\n",
    "                            \"distribution\": {\n",
    "                \t\t\t\t\"ca_cert_file_path\": cert_file_is,\n",
    "                \t\t\t\t\"my_cert_file_path\": cert_file_sb+str(idx)+'.pem',\n",
    "                \t\t\t\t\"asym_key_file_path\": asym_file_sb+str(idx)+'.pem'\n",
    "                            }\n",
    "                        }\n",
    "                    }\n",
    "                }\n",
    "            }\n",
    "        },\n",
    "        wml_client.remote_training_systems.ConfigurationMetaNames.DATA_HANDLER: {\n",
    "            \"info\": {\n",
    "                \"npz_file\": os.path.join(data_path, prt_data_file_prefix+str(idx)+'.npz')\n",
    "            },\n",
    "            \"name\": DATA_HANDLER_CLASS_NAME,\n",
    "            \"path\": os.path.join(data_path, DATA_HANDLER_FILE_NAME)\n",
    "        }\n",
    "    }\n",
    "    print(\"Connecting party id {} to aggregator id {}, model type {}\".format(prt['id'], training_id, MODEL_NAME))\n",
    "    party = wml_client.remote_training_systems.create_party(prt['id'], party_metadata)\n",
    "    party.monitor_logs(\"ERROR\")\n",
    "    party.run(aggregator_id=training_id, asynchronous=True, verify=False)\n",
    "    print(\"Party {} is running\".format(prt['id']))\n",
    "print('Done')"
   ]
  },
  {
   "attachments": {},
   "cell_type": "markdown",
   "metadata": {
    "id": "475b62e9-fa52-4fb9-b6fd-91ab10df94c5"
   },
   "source": [
    "<a id=\"monitor_execution\"></a>\n",
    "## Monitor execution status of the training"
   ]
  },
  {
   "attachments": {},
   "cell_type": "markdown",
   "metadata": {},
   "source": [
    "This section enables to monitor the execution status of the training experiment.\n",
    "\n",
    "For additional details on monitoring the experiment see the corresponding [documentation](https://dataplatform.cloud.ibm.com/docs/content/wsj/analyze-data/fl-mon.html?audience=wdp) page."
   ]
  },
  {
   "cell_type": "code",
   "execution_count": null,
   "metadata": {
    "id": "7d882c29-0837-4aa5-b1da-c20b311ac014"
   },
   "outputs": [],
   "source": [
    "import time\n",
    "import json\n",
    "\n",
    "def monitor_training(training_id):\n",
    "    print('Monitoring training id: {}'.format(training_id))\n",
    "    MAX_ITER = 240\n",
    "    SLP_TIME_SEC = 10\n",
    "    aggregator_status = wml_client.training.get_status(training_id)\n",
    "    aggregator_state = aggregator_status['state']\n",
    "    iter = 0\n",
    "    while iter < MAX_ITER and 'completed' != aggregator_state and 'failed' != aggregator_state and 'canceled' != aggregator_state:\n",
    "        print(\"Elapsed time: {} seconds, State: {}\".format(iter*SLP_TIME_SEC, aggregator_state))\n",
    "        time.sleep(SLP_TIME_SEC)\n",
    "        aggregator_status = wml_client.training.get_status(training_id)\n",
    "        aggregator_state = aggregator_status['state']\n",
    "        iter += 1\n",
    "    if iter >= MAX_ITER:\n",
    "        raise Exception(\"Training did not finish after {} seconds\".format(iter*SLP_TIME_SEC))\n",
    "    print(\"Final status: \" + json.dumps(aggregator_status, indent=4))\n",
    "\n",
    "if 'training_id' in globals():\n",
    "    monitor_training(training_id)\n",
    "else:\n",
    "    trn = wml_client.training.get_details(get_all=True)\n",
    "    for t in trn['resources']:\n",
    "        md = t['metadata']\n",
    "        if 'tags' in md and md['tags'] == RSC_TAGS:\n",
    "            monitor_training(md['id'])"
   ]
  },
  {
   "attachments": {},
   "cell_type": "markdown",
   "metadata": {},
   "source": [
    "<a id=\"cleanup\"></a>\n",
    "## Cleanup"
   ]
  },
  {
   "attachments": {},
   "cell_type": "markdown",
   "metadata": {},
   "source": [
    "Use this section to delete the training jobs, assets, and local files created using this notebook."
   ]
  },
  {
   "attachments": {},
   "cell_type": "markdown",
   "metadata": {},
   "source": [
    "### Remove WML assets"
   ]
  },
  {
   "attachments": {},
   "cell_type": "markdown",
   "metadata": {},
   "source": [
    "#### Remove training jobs"
   ]
  },
  {
   "cell_type": "code",
   "execution_count": null,
   "metadata": {},
   "outputs": [],
   "source": [
    "print('Removing training jobs')\n",
    "trn = wml_client.training.get_details(get_all=True)\n",
    "for t in trn['resources']:\n",
    "    md = t['metadata']\n",
    "    if 'tags' in md and md['tags'] == RSC_TAGS:\n",
    "        wml_client.training.cancel(md['id'], hard_delete=True)\n",
    "        print('Deleted {}: {}'.format(md['name'],md['id']))\n",
    "print('Done')"
   ]
  },
  {
   "attachments": {},
   "cell_type": "markdown",
   "metadata": {},
   "source": [
    "#### Remove remote training systems and models"
   ]
  },
  {
   "cell_type": "code",
   "execution_count": null,
   "metadata": {},
   "outputs": [],
   "source": [
    "print('Removing remote training systems')\n",
    "rts = wml_client.remote_training_systems.get_details(get_all=True)\n",
    "for r in rts['resources']:\n",
    "    md = r['metadata']\n",
    "    if 'tags' in md and md['tags'] == RSC_TAGS:\n",
    "        wml_client.repository.delete(md['id'])\n",
    "        print('Deleted {}: {}'.format(md['name'],md['id']))\n",
    "\n",
    "print('Removing models')\n",
    "models = wml_client.repository.get_model_details(get_all=True)\n",
    "for m in models['resources']:\n",
    "    md = m['metadata']\n",
    "    if 'tags' in md and md['tags'] == RSC_TAGS:\n",
    "        wml_client.repository.delete(md['id'])\n",
    "        print('Deleted {}: {}'.format(md['name'],md['id']))\n",
    "\n",
    "print('Done')"
   ]
  },
  {
   "attachments": {},
   "cell_type": "markdown",
   "metadata": {},
   "source": [
    "### Remove local files"
   ]
  },
  {
   "cell_type": "code",
   "execution_count": null,
   "metadata": {},
   "outputs": [],
   "source": [
    "import shutil\n",
    "shutil.rmtree(nb_dir)"
   ]
  },
  {
   "attachments": {},
   "cell_type": "markdown",
   "metadata": {},
   "source": [
    "<a id=\"next_steps\"></a>\n",
    "## Next steps"
   ]
  },
  {
   "attachments": {},
   "cell_type": "markdown",
   "metadata": {},
   "source": [
    "You successfully completed this notebook!\n",
    "\n",
    "Check out our [online documentation](https://dataplatform.cloud.ibm.com/docs) and [IBM Federated Learning documentation](https://dataplatform.cloud.ibm.com/docs/content/wsj/analyze-data/fed-lea.html) for more tutorials, samples and documentation."
   ]
  },
  {
   "attachments": {},
   "cell_type": "markdown",
   "metadata": {},
   "source": [
    "<hr>\n",
    "\n",
    "Copyright &copy; IBM Corp. 2022-2023. This notebook and its source code are released under the terms of the MIT License."
   ]
  }
 ],
 "metadata": {
  "kernelspec": {
   "display_name": "Python 3.10",
   "language": "python",
   "name": "python3"
  },
  "language_info": {
   "codemirror_mode": {
    "name": "ipython",
    "version": 3
   },
   "file_extension": ".py",
   "mimetype": "text/x-python",
   "name": "python",
   "nbconvert_exporter": "python",
   "pygments_lexer": "ipython3",
   "version": "3.10.10"
  },
  "vscode": {
   "interpreter": {
    "hash": "f3a806cb5f2c8e96de4e8a5e6dd38ad784866d379583e393d16cba069cf6e1b5"
   }
  }
 },
 "nbformat": 4,
 "nbformat_minor": 2
}
