{
 "cells": [
  {
   "cell_type": "markdown",
   "metadata": {},
   "source": [
    "# Use the spatio-temporal library for location analytics"
   ]
  },
  {
   "cell_type": "markdown",
   "metadata": {},
   "source": [
    "\n",
    "This notebook shows you how to work with the spatio-temporal library that is pre-installed on all Spark environments in Watson Studio. You can use the spatio-temporal library to expand your data science analysis in Python notebooks to include location analytics by gathering, manipulating, and displaying imagery, GPS, satellite photography and historical data.\n",
    "\n",
    "In this notebook, you will learn how to get started with using the library, how to read and write data using `pyst` which supports most of the common geospatial formats, which includes shapefile, GeoJSON and Well-Known Text (WKT). You will learn how to use topological relations to confine the returned results of your location data analysis, which geohashing functions to use for proximity search (encoding latitude and longitude and grouping nearby points), and how to calculate the distance between points using ellipsoidal metrics. \n",
    "\n",
    "This notebook runs on Python 3.6 with Spark.\n",
    "\n",
    "\n",
    "## Table of contents\n",
    "1. [Create a spatial context](#createContext)\n",
    "1. [Read and write data](#io)<br>\n",
    "1. [Topological functions](#topo)<br>\n",
    "1. [Geohashing functions](#geohash)<br>\n",
    "1. [Ellipsoidal metrics](#elli)<br>\n",
    "1. [Summary](#summary)\n"
   ]
  },
  {
   "cell_type": "markdown",
   "metadata": {},
   "source": [
    "<a id=\"createContext\"></a>\n",
    "## Create a spatial context\n",
    "\n",
    "Before you can start using any of the spatio-temporal library functions in your notebook, you must register `STContext` to access the `st` functions. The `STContext` is linked to the Spark session.\n",
    "\n",
    "To register `STContext`:"
   ]
  },
  {
   "cell_type": "code",
   "execution_count": 1,
   "metadata": {},
   "outputs": [
    {
     "name": "stdout",
     "output_type": "stream",
     "text": [
      "Waiting for a Spark session to start...\n",
      "Spark Initialization Done! ApplicationId = app-20200115163155-0000\n",
      "KERNEL_ID = aa19cb05-4cfe-4ca6-9cf0-623937beeefc\n"
     ]
    }
   ],
   "source": [
    "from pyst import STContext\n",
    "# Register STContext, which is the main entry point\n",
    "stc = STContext(spark.sparkContext._gateway)"
   ]
  },
  {
   "cell_type": "markdown",
   "metadata": {},
   "source": [
    "<a name=\"io\"></a> \n",
    "## Read and write data"
   ]
  },
  {
   "cell_type": "markdown",
   "metadata": {},
   "source": [
    "Watson Studio supports most of the common geospatial formats, including shapefile, GeoJSON and Well-Known Text (WKT).\n",
    "\n",
    "Each data reader function can take various types of input to its `.read()` method. For example, a URL pointing to a resource file, a path to a local GeoJSON file, streaming bytes from a GeoJSON file, or content in GeoJSON format from a Python dictionary.\n",
    "\n",
    "In this notebook, you will learn how to work with data in GeoJSON and WKT format. "
   ]
  },
  {
   "cell_type": "markdown",
   "metadata": {},
   "source": [
    "### geoJSON support\n",
    "\n",
    "To work with files in GeoJSON format, first create a GeoJSON reader and writer. \n",
    "\n",
    "The `geojson_reader` returns a pandas DataFrame when calling the `.read()` method. And the returned pandas DataFrame has one column called `geometry` that contains the spatial objects of the geometries while the remaining columns contain the properties of geometries."
   ]
  },
  {
   "cell_type": "code",
   "execution_count": 2,
   "metadata": {},
   "outputs": [],
   "source": [
    "geojson_reader = stc.geojson_reader()\n",
    "geojson_writer = stc.geojson_writer()"
   ]
  },
  {
   "cell_type": "markdown",
   "metadata": {},
   "source": [
    "The following code snippets show reading US counties polygon data from various kinds of sources.\n",
    "\n",
    "- Read a GeoJSON file on your local machine:"
   ]
  },
  {
   "cell_type": "code",
   "execution_count": 3,
   "metadata": {},
   "outputs": [],
   "source": [
    "! wget -q https://api.dataplatform.cloud.ibm.com/v2/gallery-assets/entries/1ec43d48a694c6c1d052ddca4d68bdc4/data?accessKey=1ec43d48a694c6c1d052ddca4d69054c -O counties.geojson"
   ]
  },
  {
   "cell_type": "code",
   "execution_count": 4,
   "metadata": {},
   "outputs": [
    {
     "data": {
      "text/html": [
       "<div>\n",
       "<style scoped>\n",
       "    .dataframe tbody tr th:only-of-type {\n",
       "        vertical-align: middle;\n",
       "    }\n",
       "\n",
       "    .dataframe tbody tr th {\n",
       "        vertical-align: top;\n",
       "    }\n",
       "\n",
       "    .dataframe thead th {\n",
       "        text-align: right;\n",
       "    }\n",
       "</style>\n",
       "<table border=\"1\" class=\"dataframe\">\n",
       "  <thead>\n",
       "    <tr style=\"text-align: right;\">\n",
       "      <th></th>\n",
       "      <th>AFFGEOID</th>\n",
       "      <th>ALAND</th>\n",
       "      <th>AWATER</th>\n",
       "      <th>COUNTYFP</th>\n",
       "      <th>COUNTYNS</th>\n",
       "      <th>GEOID</th>\n",
       "      <th>LSAD</th>\n",
       "      <th>NAME</th>\n",
       "      <th>STATEFP</th>\n",
       "      <th>geometry</th>\n",
       "    </tr>\n",
       "  </thead>\n",
       "  <tbody>\n",
       "    <tr>\n",
       "      <th>0</th>\n",
       "      <td>0500000US37017</td>\n",
       "      <td>2265887723</td>\n",
       "      <td>33010866</td>\n",
       "      <td>017</td>\n",
       "      <td>01026336</td>\n",
       "      <td>37017</td>\n",
       "      <td>06</td>\n",
       "      <td>Bladen</td>\n",
       "      <td>37</td>\n",
       "      <td>MultiPolygon(Polygon: Boundary: Ring(LineSegme...</td>\n",
       "    </tr>\n",
       "    <tr>\n",
       "      <th>1</th>\n",
       "      <td>0500000US37167</td>\n",
       "      <td>1023370459</td>\n",
       "      <td>25242751</td>\n",
       "      <td>167</td>\n",
       "      <td>01025844</td>\n",
       "      <td>37167</td>\n",
       "      <td>06</td>\n",
       "      <td>Stanly</td>\n",
       "      <td>37</td>\n",
       "      <td>MultiPolygon(Polygon: Boundary: Ring(LineSegme...</td>\n",
       "    </tr>\n",
       "    <tr>\n",
       "      <th>2</th>\n",
       "      <td>0500000US39153</td>\n",
       "      <td>1069181981</td>\n",
       "      <td>18958267</td>\n",
       "      <td>153</td>\n",
       "      <td>01074088</td>\n",
       "      <td>39153</td>\n",
       "      <td>06</td>\n",
       "      <td>Summit</td>\n",
       "      <td>39</td>\n",
       "      <td>MultiPolygon(Polygon: Boundary: Ring(LineSegme...</td>\n",
       "    </tr>\n",
       "  </tbody>\n",
       "</table>\n",
       "</div>"
      ],
      "text/plain": [
       "         AFFGEOID       ALAND    AWATER COUNTYFP  COUNTYNS  GEOID LSAD  \\\n",
       "0  0500000US37017  2265887723  33010866      017  01026336  37017   06   \n",
       "1  0500000US37167  1023370459  25242751      167  01025844  37167   06   \n",
       "2  0500000US39153  1069181981  18958267      153  01074088  39153   06   \n",
       "\n",
       "     NAME STATEFP                                           geometry  \n",
       "0  Bladen      37  MultiPolygon(Polygon: Boundary: Ring(LineSegme...  \n",
       "1  Stanly      37  MultiPolygon(Polygon: Boundary: Ring(LineSegme...  \n",
       "2  Summit      39  MultiPolygon(Polygon: Boundary: Ring(LineSegme...  "
      ]
     },
     "execution_count": 4,
     "metadata": {},
     "output_type": "execute_result"
    }
   ],
   "source": [
    "df = geojson_reader.read('counties.geojson')\n",
    "df.head(3)"
   ]
  },
  {
   "cell_type": "markdown",
   "metadata": {},
   "source": [
    "- Read a Python dictionary that contains the GeoJSON content:"
   ]
  },
  {
   "cell_type": "code",
   "execution_count": 5,
   "metadata": {},
   "outputs": [],
   "source": [
    "import json"
   ]
  },
  {
   "cell_type": "code",
   "execution_count": 6,
   "metadata": {},
   "outputs": [],
   "source": [
    "data = json.load(open('counties.geojson'))"
   ]
  },
  {
   "cell_type": "code",
   "execution_count": 7,
   "metadata": {},
   "outputs": [
    {
     "data": {
      "text/html": [
       "<div>\n",
       "<style scoped>\n",
       "    .dataframe tbody tr th:only-of-type {\n",
       "        vertical-align: middle;\n",
       "    }\n",
       "\n",
       "    .dataframe tbody tr th {\n",
       "        vertical-align: top;\n",
       "    }\n",
       "\n",
       "    .dataframe thead th {\n",
       "        text-align: right;\n",
       "    }\n",
       "</style>\n",
       "<table border=\"1\" class=\"dataframe\">\n",
       "  <thead>\n",
       "    <tr style=\"text-align: right;\">\n",
       "      <th></th>\n",
       "      <th>AFFGEOID</th>\n",
       "      <th>ALAND</th>\n",
       "      <th>AWATER</th>\n",
       "      <th>COUNTYFP</th>\n",
       "      <th>COUNTYNS</th>\n",
       "      <th>GEOID</th>\n",
       "      <th>LSAD</th>\n",
       "      <th>NAME</th>\n",
       "      <th>STATEFP</th>\n",
       "      <th>geometry</th>\n",
       "    </tr>\n",
       "  </thead>\n",
       "  <tbody>\n",
       "    <tr>\n",
       "      <th>0</th>\n",
       "      <td>0500000US37017</td>\n",
       "      <td>2265887723</td>\n",
       "      <td>33010866</td>\n",
       "      <td>017</td>\n",
       "      <td>01026336</td>\n",
       "      <td>37017</td>\n",
       "      <td>06</td>\n",
       "      <td>Bladen</td>\n",
       "      <td>37</td>\n",
       "      <td>MultiPolygon(Polygon: Boundary: Ring(LineSegme...</td>\n",
       "    </tr>\n",
       "    <tr>\n",
       "      <th>1</th>\n",
       "      <td>0500000US37167</td>\n",
       "      <td>1023370459</td>\n",
       "      <td>25242751</td>\n",
       "      <td>167</td>\n",
       "      <td>01025844</td>\n",
       "      <td>37167</td>\n",
       "      <td>06</td>\n",
       "      <td>Stanly</td>\n",
       "      <td>37</td>\n",
       "      <td>MultiPolygon(Polygon: Boundary: Ring(LineSegme...</td>\n",
       "    </tr>\n",
       "    <tr>\n",
       "      <th>2</th>\n",
       "      <td>0500000US39153</td>\n",
       "      <td>1069181981</td>\n",
       "      <td>18958267</td>\n",
       "      <td>153</td>\n",
       "      <td>01074088</td>\n",
       "      <td>39153</td>\n",
       "      <td>06</td>\n",
       "      <td>Summit</td>\n",
       "      <td>39</td>\n",
       "      <td>MultiPolygon(Polygon: Boundary: Ring(LineSegme...</td>\n",
       "    </tr>\n",
       "  </tbody>\n",
       "</table>\n",
       "</div>"
      ],
      "text/plain": [
       "         AFFGEOID       ALAND    AWATER COUNTYFP  COUNTYNS  GEOID LSAD  \\\n",
       "0  0500000US37017  2265887723  33010866      017  01026336  37017   06   \n",
       "1  0500000US37167  1023370459  25242751      167  01025844  37167   06   \n",
       "2  0500000US39153  1069181981  18958267      153  01074088  39153   06   \n",
       "\n",
       "     NAME STATEFP                                           geometry  \n",
       "0  Bladen      37  MultiPolygon(Polygon: Boundary: Ring(LineSegme...  \n",
       "1  Stanly      37  MultiPolygon(Polygon: Boundary: Ring(LineSegme...  \n",
       "2  Summit      39  MultiPolygon(Polygon: Boundary: Ring(LineSegme...  "
      ]
     },
     "execution_count": 7,
     "metadata": {},
     "output_type": "execute_result"
    }
   ],
   "source": [
    "df = geojson_reader.read(data)\n",
    "df.head(3)"
   ]
  },
  {
   "cell_type": "markdown",
   "metadata": {},
   "source": [
    "- Read data directly from an securely encrypted URL that points to a GeoJSON file:"
   ]
  },
  {
   "cell_type": "code",
   "execution_count": 8,
   "metadata": {},
   "outputs": [
    {
     "data": {
      "text/html": [
       "<div>\n",
       "<style scoped>\n",
       "    .dataframe tbody tr th:only-of-type {\n",
       "        vertical-align: middle;\n",
       "    }\n",
       "\n",
       "    .dataframe tbody tr th {\n",
       "        vertical-align: top;\n",
       "    }\n",
       "\n",
       "    .dataframe thead th {\n",
       "        text-align: right;\n",
       "    }\n",
       "</style>\n",
       "<table border=\"1\" class=\"dataframe\">\n",
       "  <thead>\n",
       "    <tr style=\"text-align: right;\">\n",
       "      <th></th>\n",
       "      <th>AFFGEOID</th>\n",
       "      <th>ALAND</th>\n",
       "      <th>AWATER</th>\n",
       "      <th>COUNTYFP</th>\n",
       "      <th>COUNTYNS</th>\n",
       "      <th>GEOID</th>\n",
       "      <th>LSAD</th>\n",
       "      <th>NAME</th>\n",
       "      <th>STATEFP</th>\n",
       "      <th>geometry</th>\n",
       "    </tr>\n",
       "  </thead>\n",
       "  <tbody>\n",
       "    <tr>\n",
       "      <th>0</th>\n",
       "      <td>0500000US37017</td>\n",
       "      <td>2265887723</td>\n",
       "      <td>33010866</td>\n",
       "      <td>017</td>\n",
       "      <td>01026336</td>\n",
       "      <td>37017</td>\n",
       "      <td>06</td>\n",
       "      <td>Bladen</td>\n",
       "      <td>37</td>\n",
       "      <td>MultiPolygon(Polygon: Boundary: Ring(LineSegme...</td>\n",
       "    </tr>\n",
       "    <tr>\n",
       "      <th>1</th>\n",
       "      <td>0500000US37167</td>\n",
       "      <td>1023370459</td>\n",
       "      <td>25242751</td>\n",
       "      <td>167</td>\n",
       "      <td>01025844</td>\n",
       "      <td>37167</td>\n",
       "      <td>06</td>\n",
       "      <td>Stanly</td>\n",
       "      <td>37</td>\n",
       "      <td>MultiPolygon(Polygon: Boundary: Ring(LineSegme...</td>\n",
       "    </tr>\n",
       "    <tr>\n",
       "      <th>2</th>\n",
       "      <td>0500000US39153</td>\n",
       "      <td>1069181981</td>\n",
       "      <td>18958267</td>\n",
       "      <td>153</td>\n",
       "      <td>01074088</td>\n",
       "      <td>39153</td>\n",
       "      <td>06</td>\n",
       "      <td>Summit</td>\n",
       "      <td>39</td>\n",
       "      <td>MultiPolygon(Polygon: Boundary: Ring(LineSegme...</td>\n",
       "    </tr>\n",
       "  </tbody>\n",
       "</table>\n",
       "</div>"
      ],
      "text/plain": [
       "         AFFGEOID       ALAND    AWATER COUNTYFP  COUNTYNS  GEOID LSAD  \\\n",
       "0  0500000US37017  2265887723  33010866      017  01026336  37017   06   \n",
       "1  0500000US37167  1023370459  25242751      167  01025844  37167   06   \n",
       "2  0500000US39153  1069181981  18958267      153  01074088  39153   06   \n",
       "\n",
       "     NAME STATEFP                                           geometry  \n",
       "0  Bladen      37  MultiPolygon(Polygon: Boundary: Ring(LineSegme...  \n",
       "1  Stanly      37  MultiPolygon(Polygon: Boundary: Ring(LineSegme...  \n",
       "2  Summit      39  MultiPolygon(Polygon: Boundary: Ring(LineSegme...  "
      ]
     },
     "execution_count": 8,
     "metadata": {},
     "output_type": "execute_result"
    }
   ],
   "source": [
    "df = geojson_reader.read('https://api.dataplatform.cloud.ibm.com/v2/gallery-assets/entries/1ec43d48a694c6c1d052ddca4d68bdc4/data?accessKey=1ec43d48a694c6c1d052ddca4d69054c')\n",
    "df.head(3)"
   ]
  },
  {
   "cell_type": "markdown",
   "metadata": {},
   "source": [
    "- Read binary data:"
   ]
  },
  {
   "cell_type": "code",
   "execution_count": 9,
   "metadata": {},
   "outputs": [
    {
     "data": {
      "text/html": [
       "<div>\n",
       "<style scoped>\n",
       "    .dataframe tbody tr th:only-of-type {\n",
       "        vertical-align: middle;\n",
       "    }\n",
       "\n",
       "    .dataframe tbody tr th {\n",
       "        vertical-align: top;\n",
       "    }\n",
       "\n",
       "    .dataframe thead th {\n",
       "        text-align: right;\n",
       "    }\n",
       "</style>\n",
       "<table border=\"1\" class=\"dataframe\">\n",
       "  <thead>\n",
       "    <tr style=\"text-align: right;\">\n",
       "      <th></th>\n",
       "      <th>AFFGEOID</th>\n",
       "      <th>ALAND</th>\n",
       "      <th>AWATER</th>\n",
       "      <th>COUNTYFP</th>\n",
       "      <th>COUNTYNS</th>\n",
       "      <th>GEOID</th>\n",
       "      <th>LSAD</th>\n",
       "      <th>NAME</th>\n",
       "      <th>STATEFP</th>\n",
       "      <th>geometry</th>\n",
       "    </tr>\n",
       "  </thead>\n",
       "  <tbody>\n",
       "    <tr>\n",
       "      <th>0</th>\n",
       "      <td>0500000US37017</td>\n",
       "      <td>2265887723</td>\n",
       "      <td>33010866</td>\n",
       "      <td>017</td>\n",
       "      <td>01026336</td>\n",
       "      <td>37017</td>\n",
       "      <td>06</td>\n",
       "      <td>Bladen</td>\n",
       "      <td>37</td>\n",
       "      <td>MultiPolygon(Polygon: Boundary: Ring(LineSegme...</td>\n",
       "    </tr>\n",
       "    <tr>\n",
       "      <th>1</th>\n",
       "      <td>0500000US37167</td>\n",
       "      <td>1023370459</td>\n",
       "      <td>25242751</td>\n",
       "      <td>167</td>\n",
       "      <td>01025844</td>\n",
       "      <td>37167</td>\n",
       "      <td>06</td>\n",
       "      <td>Stanly</td>\n",
       "      <td>37</td>\n",
       "      <td>MultiPolygon(Polygon: Boundary: Ring(LineSegme...</td>\n",
       "    </tr>\n",
       "    <tr>\n",
       "      <th>2</th>\n",
       "      <td>0500000US39153</td>\n",
       "      <td>1069181981</td>\n",
       "      <td>18958267</td>\n",
       "      <td>153</td>\n",
       "      <td>01074088</td>\n",
       "      <td>39153</td>\n",
       "      <td>06</td>\n",
       "      <td>Summit</td>\n",
       "      <td>39</td>\n",
       "      <td>MultiPolygon(Polygon: Boundary: Ring(LineSegme...</td>\n",
       "    </tr>\n",
       "  </tbody>\n",
       "</table>\n",
       "</div>"
      ],
      "text/plain": [
       "         AFFGEOID       ALAND    AWATER COUNTYFP  COUNTYNS  GEOID LSAD  \\\n",
       "0  0500000US37017  2265887723  33010866      017  01026336  37017   06   \n",
       "1  0500000US37167  1023370459  25242751      167  01025844  37167   06   \n",
       "2  0500000US39153  1069181981  18958267      153  01074088  39153   06   \n",
       "\n",
       "     NAME STATEFP                                           geometry  \n",
       "0  Bladen      37  MultiPolygon(Polygon: Boundary: Ring(LineSegme...  \n",
       "1  Stanly      37  MultiPolygon(Polygon: Boundary: Ring(LineSegme...  \n",
       "2  Summit      39  MultiPolygon(Polygon: Boundary: Ring(LineSegme...  "
      ]
     },
     "execution_count": 9,
     "metadata": {},
     "output_type": "execute_result"
    }
   ],
   "source": [
    "df = geojson_reader.read(open('counties.geojson', 'rb').read())\n",
    "df.head(3)"
   ]
  },
  {
   "cell_type": "markdown",
   "metadata": {},
   "source": [
    "- Read streaming bytes, for example from IBM Cloud Object Storage:"
   ]
  },
  {
   "cell_type": "code",
   "execution_count": 10,
   "metadata": {},
   "outputs": [],
   "source": [
    "# @hidden cell\n",
    "# This code cell is commented out as COS for each user is not public.\n",
    "# If you wish to read data from your COS bucket, uncomment the code below and replace the ... with your COS object to run the read.\n",
    "\n",
    "# Get streamingbody from your COS bucket\n",
    "#streaming_body = ...\n",
    "#df = geojson_reader.read(streaming_body.read())\n",
    "#df.head(3)"
   ]
  },
  {
   "cell_type": "markdown",
   "metadata": {},
   "source": [
    "### WKT support"
   ]
  },
  {
   "cell_type": "markdown",
   "metadata": {},
   "source": [
    "To work with WKT strings in a Python notebook, first create a WKT reader and writer:"
   ]
  },
  {
   "cell_type": "code",
   "execution_count": 11,
   "metadata": {},
   "outputs": [],
   "source": [
    "wkt_reader = stc.wkt_reader()\n",
    "wkt_writer = stc.wkt_writer()"
   ]
  },
  {
   "cell_type": "markdown",
   "metadata": {},
   "source": [
    "Read a WKT string to a geometry object and then query different values of the object:"
   ]
  },
  {
   "cell_type": "code",
   "execution_count": 12,
   "metadata": {},
   "outputs": [],
   "source": [
    "westchester_WKT = 'POLYGON((-73.984 41.325,-73.948 41.33,-73.78 41.346,-73.625 41.363,-73.545 41.37,-73.541 41.368,-73.547 41.297,-73.485 41.223,-73.479 41.215,-73.479 41.211,-73.493 41.203,-73.509 41.197,-73.623 41.144,-73.628 41.143,-73.632 41.14,-73.722 41.099,-73.714 41.091,-73.701 41.073,-73.68 41.049,-73.68 41.047,-73.673 41.041,-73.672 41.038,-73.668 41.035,-73.652 41.015,-73.651 41.011,-73.656 41,-73.655 40.998,-73.656 40.995,-73.654 40.994,-73.654 40.987,-73.617 40.952,-73.618 40.946,-73.746 40.868,-73.751 40.868,-73.821 40.887,-73.826 40.886,-73.84 40.89,-73.844 40.896,-73.844 40.9,-73.85 40.903,-73.853 40.903,-73.854 40.9,-73.859 40.896,-73.909 40.911,-73.92 40.912,-73.923 40.914,-73.923 40.918,-73.901 40.979,-73.894 41.023,-73.893 41.043,-73.896 41.071,-73.894 41.137,-73.94 41.207,-73.965 41.24,-73.973 41.244,-73.975 41.247,-73.976 41.257,-73.973 41.266,-73.95 41.288,-73.966 41.296,-73.98 41.309,-73.984 41.311,-73.987 41.315,-73.987 41.322,-73.984 41.325))'\n",
    "westchester = wkt_reader.read(westchester_WKT)"
   ]
  },
  {
   "cell_type": "code",
   "execution_count": 13,
   "metadata": {},
   "outputs": [
    {
     "data": {
      "text/plain": [
       "1363618331.5760047"
      ]
     },
     "execution_count": 13,
     "metadata": {},
     "output_type": "execute_result"
    }
   ],
   "source": [
    "westchester.area()"
   ]
  },
  {
   "cell_type": "code",
   "execution_count": 14,
   "metadata": {},
   "outputs": [
    {
     "data": {
      "text/plain": [
       "Point(41.15551622739597, -73.7592843233704)"
      ]
     },
     "execution_count": 14,
     "metadata": {},
     "output_type": "execute_result"
    }
   ],
   "source": [
    "westchester.centroid()"
   ]
  },
  {
   "cell_type": "code",
   "execution_count": 15,
   "metadata": {},
   "outputs": [
    {
     "data": {
      "text/plain": [
       "BoundingBox: Lower Corner: Point(40.86800000000001, -73.987), Upper Corner: Point(41.36999999999998, -73.479)"
      ]
     },
     "execution_count": 15,
     "metadata": {},
     "output_type": "execute_result"
    }
   ],
   "source": [
    "westchester.get_bounding_box()"
   ]
  },
  {
   "cell_type": "markdown",
   "metadata": {},
   "source": [
    "Write a geometry object to a WKT string:"
   ]
  },
  {
   "cell_type": "code",
   "execution_count": 16,
   "metadata": {},
   "outputs": [
    {
     "data": {
      "text/plain": [
       "'POLYGON ((-73.984 41.325, -73.987 41.322, -73.987 41.315, -73.984 41.311, -73.98 41.309, -73.966 41.296, -73.95 41.288, -73.973 41.266, -73.976 41.257, -73.975 41.247, -73.973 41.244, -73.965 41.24, -73.94 41.207, -73.894 41.137, -73.896 41.071, -73.893 41.043, -73.894 41.023, -73.901 40.979, -73.923 40.918, -73.923 40.914, -73.92 40.912, -73.909 40.911, -73.859 40.896, -73.854 40.9, -73.853 40.903, -73.85 40.903, -73.844 40.9, -73.844 40.896, -73.84 40.89, -73.826 40.886, -73.821 40.887, -73.751 40.868, -73.746 40.868, -73.618 40.946, -73.617 40.952, -73.654 40.987, -73.654 40.994, -73.656 40.995, -73.655 40.998, -73.656 41.0, -73.651 41.011, -73.652 41.015, -73.668 41.035, -73.672 41.038, -73.673 41.041, -73.68 41.047, -73.68 41.049, -73.701 41.073, -73.714 41.091, -73.722 41.099, -73.632 41.14, -73.628 41.143, -73.623 41.144, -73.509 41.197, -73.493 41.203, -73.479 41.211, -73.479 41.215, -73.485 41.223, -73.547 41.297, -73.541 41.368, -73.545 41.37, -73.625 41.363, -73.78 41.346, -73.948 41.33, -73.984 41.325))'"
      ]
     },
     "execution_count": 16,
     "metadata": {},
     "output_type": "execute_result"
    }
   ],
   "source": [
    "wkt_writer.write(westchester)"
   ]
  },
  {
   "cell_type": "markdown",
   "metadata": {},
   "source": [
    "### Direct input support"
   ]
  },
  {
   "cell_type": "markdown",
   "metadata": {},
   "source": [
    "Besides reading geometries from different sources, direct input is also supported and each geometry type comes with a constructor.\n",
    "  \n",
    "These are the currently supported geometries types and their constructors:\n",
    "<br>\n",
    "\n",
    " - Point: `point(lat, lon)`\n",
    " - LineSegment: `line_segment(start_point, end_point)` \n",
    " - LineString: `line_string([point_1, point_2, ...])` and `line_string([line_segment_1, line_segment_2, ...])` \n",
    " - Ring: `ring([point_1, point_2, ...])` and `ring([line_segment_1, line_segment_2, ...])` \n",
    " - Polygon: `polygon(exterior_ring, [interior_ring_1, interior_ring_2, ...])` \n",
    " - MultiGeometry: `multi_geometry(geom_1, geom_2, ...)` \n",
    " - MultiPoint: `multi_point(point_1, point_2, ...)` \n",
    " - MultiLineString: `multi_line_string(line_string_1, line_string_2, ...)`\n",
    " - MultiPolygon: `multi_polygon(polygon_1, polygon_2, ...)`\n",
    " - Null Geometry: `null_geometry()`\n",
    " - FullEarth: `full_earth()` \n",
    " - BoundingBox: `bounding_box(lower_lat, lower_lon, upper_lat, upper_lon)`\n"
   ]
  },
  {
   "cell_type": "markdown",
   "metadata": {},
   "source": [
    "Here are some examples of supported geometry types:"
   ]
  },
  {
   "cell_type": "code",
   "execution_count": 17,
   "metadata": {},
   "outputs": [],
   "source": [
    "point_1 = stc.point(37.3, -74.4)\n",
    "point_2 = stc.point(37.5,-74.1)\n",
    "point_3 = stc.point(38.1, -74.4)\n",
    "line_segment = stc.line_segment(point_1, point_2)\n",
    "line_string = stc.line_string([point_1, point_2, point_3])\n",
    "ring = stc.ring([point_1, point_2, point_3, point_1])\n",
    "poly = stc.polygon(ring)\n",
    "multi_points = stc.multi_point([point_1, point_2, point_3])"
   ]
  },
  {
   "cell_type": "code",
   "execution_count": 18,
   "metadata": {},
   "outputs": [
    {
     "data": {
      "text/plain": [
       "1179758985.44891"
      ]
     },
     "execution_count": 18,
     "metadata": {},
     "output_type": "execute_result"
    }
   ],
   "source": [
    "poly.area()"
   ]
  },
  {
   "cell_type": "code",
   "execution_count": 19,
   "metadata": {},
   "outputs": [
    {
     "data": {
      "text/plain": [
       "MultiPoint(Point(37.5, -74.1), Point(38.1, -74.4), Point(37.3, -74.4))"
      ]
     },
     "execution_count": 19,
     "metadata": {},
     "output_type": "execute_result"
    }
   ],
   "source": [
    "multi_points"
   ]
  },
  {
   "cell_type": "code",
   "execution_count": 20,
   "metadata": {},
   "outputs": [
    {
     "data": {
      "text/plain": [
       "Point(37.5, -74.1)"
      ]
     },
     "execution_count": 20,
     "metadata": {},
     "output_type": "execute_result"
    }
   ],
   "source": [
    "next(multi_points)"
   ]
  },
  {
   "cell_type": "code",
   "execution_count": 21,
   "metadata": {},
   "outputs": [
    {
     "data": {
      "text/plain": [
       "Point(38.1, -74.4)"
      ]
     },
     "execution_count": 21,
     "metadata": {},
     "output_type": "execute_result"
    }
   ],
   "source": [
    "next(multi_points)"
   ]
  },
  {
   "cell_type": "code",
   "execution_count": 22,
   "metadata": {},
   "outputs": [
    {
     "data": {
      "text/plain": [
       "Point(37.3, -74.4)"
      ]
     },
     "execution_count": 22,
     "metadata": {},
     "output_type": "execute_result"
    }
   ],
   "source": [
    "next(multi_points)"
   ]
  },
  {
   "cell_type": "markdown",
   "metadata": {},
   "source": [
    "<a name=\"topo\"></a>\n",
    "## Topological functions"
   ]
  },
  {
   "cell_type": "markdown",
   "metadata": {},
   "source": [
    "You can use topological relations to confine the returned results of your location data analysis.\n",
    "\n",
    "The Python code snippets in this notebook, which show how to use the different topological functions, run on test data. Begin by preparing the test data in WKT string format and reading it:"
   ]
  },
  {
   "cell_type": "code",
   "execution_count": 23,
   "metadata": {},
   "outputs": [],
   "source": [
    "westchester_WKT = 'POLYGON((-73.984 41.325,-73.948 41.33,-73.78 41.346,-73.625 41.363,-73.545 41.37,-73.541 41.368,-73.547 41.297,-73.485 41.223,-73.479 41.215,-73.479 41.211,-73.493 41.203,-73.509 41.197,-73.623 41.144,-73.628 41.143,-73.632 41.14,-73.722 41.099,-73.714 41.091,-73.701 41.073,-73.68 41.049,-73.68 41.047,-73.673 41.041,-73.672 41.038,-73.668 41.035,-73.652 41.015,-73.651 41.011,-73.656 41,-73.655 40.998,-73.656 40.995,-73.654 40.994,-73.654 40.987,-73.617 40.952,-73.618 40.946,-73.746 40.868,-73.751 40.868,-73.821 40.887,-73.826 40.886,-73.84 40.89,-73.844 40.896,-73.844 40.9,-73.85 40.903,-73.853 40.903,-73.854 40.9,-73.859 40.896,-73.909 40.911,-73.92 40.912,-73.923 40.914,-73.923 40.918,-73.901 40.979,-73.894 41.023,-73.893 41.043,-73.896 41.071,-73.894 41.137,-73.94 41.207,-73.965 41.24,-73.973 41.244,-73.975 41.247,-73.976 41.257,-73.973 41.266,-73.95 41.288,-73.966 41.296,-73.98 41.309,-73.984 41.311,-73.987 41.315,-73.987 41.322,-73.984 41.325))'\n",
    "white_plains_WKT = 'POLYGON((-73.792 41.024,-73.794 41.031,-73.779 41.046,-73.78 41.049,-73.779 41.052,-73.776 41.054,-73.775 41.057,-73.767 41.058,-73.769 41.062,-73.768 41.067,-73.762 41.073,-73.759 41.074,-73.748 41.069,-73.746 41.056,-73.742 41.056,-73.74 41.053,-73.74 41.049,-73.749 41.04,-73.748 41.035,-73.739 41.034,-73.729 41.029,-73.725 41.025,-73.72 41.016,-73.717 41.015,-73.716 41.006,-73.718 41.002,-73.732 40.988,-73.732 40.985,-73.739 40.979,-73.745 40.978,-73.749 40.981,-73.749 40.986,-73.751 40.986,-73.756 40.991,-73.759 40.991,-73.76 40.993,-73.765 40.994,-73.769 40.997,-73.774 41.002,-73.775 41.006,-73.788 41.018,-73.792 41.024))'\n",
    "manhattan_WKT = 'POLYGON((-74.023 40.709,-74.02 40.723,-74.018 40.725,-74.019 40.731,-74.016 40.737,-74.017 40.741,-74.014 40.755,-74.011 40.757,-74.011 40.761,-74.006 40.767,-74.006 40.769,-73.998 40.778,-73.996 40.778,-73.995 40.783,-73.991 40.784,-73.991 40.788,-73.98 40.8,-73.966 40.822,-73.964 40.823,-73.961 40.83,-73.957 40.832,-73.954 40.836,-73.951 40.845,-73.951 40.853,-73.947 40.855,-73.94 40.863,-73.936 40.87,-73.936 40.873,-73.93 40.881,-73.924 40.882,-73.919 40.879,-73.909 40.877,-73.906 40.873,-73.907 40.867,-73.912 40.86,-73.918 40.855,-73.931 40.835,-73.93 40.81,-73.925 40.803,-73.925 40.795,-73.939 40.781,-73.938 40.774,-73.968 40.741,-73.969 40.733,-73.967 40.73,-73.967 40.726,-73.969 40.717,-73.973 40.709,-73.977 40.706,-73.996 40.705,-73.999 40.701,-74.008 40.696,-74.016 40.696,-74.017 40.698,-74.019 40.698,-74.023 40.703,-74.023 40.709))'\n",
    "westchester = wkt_reader.read(westchester_WKT)\n",
    "white_plains = wkt_reader.read(white_plains_WKT)\n",
    "manhattan = wkt_reader.read(manhattan_WKT)"
   ]
  },
  {
   "cell_type": "markdown",
   "metadata": {},
   "source": [
    "### Topological relations\n",
    "\n",
    "You can use the following topological relation functions in your notebook:"
   ]
  },
  {
   "cell_type": "markdown",
   "metadata": {},
   "source": [
    "- **contains**: Returns true if the given geometry is completely contained by this geometry. `contains` returns the exact opposite of `within`."
   ]
  },
  {
   "cell_type": "code",
   "execution_count": 24,
   "metadata": {},
   "outputs": [
    {
     "data": {
      "text/plain": [
       "True"
      ]
     },
     "execution_count": 24,
     "metadata": {},
     "output_type": "execute_result"
    }
   ],
   "source": [
    "westchester.contains(white_plains)"
   ]
  },
  {
   "cell_type": "markdown",
   "metadata": {},
   "source": [
    "- **within**: Returns true if the given geometry is completely within this geometry. `within` returns the exact opposite of `contains`."
   ]
  },
  {
   "cell_type": "code",
   "execution_count": 25,
   "metadata": {},
   "outputs": [
    {
     "data": {
      "text/plain": [
       "True"
      ]
     },
     "execution_count": 25,
     "metadata": {},
     "output_type": "execute_result"
    }
   ],
   "source": [
    "white_plains.within(westchester)"
   ]
  },
  {
   "cell_type": "markdown",
   "metadata": {},
   "source": [
    "- **intersects**:  Returns true if the intersection does not result in an empty set. `intersects` is the opposite of `disjoint`."
   ]
  },
  {
   "cell_type": "code",
   "execution_count": 26,
   "metadata": {},
   "outputs": [
    {
     "data": {
      "text/plain": [
       "False"
      ]
     },
     "execution_count": 26,
     "metadata": {},
     "output_type": "execute_result"
    }
   ],
   "source": [
    "westchester.intersects(manhattan)"
   ]
  },
  {
   "cell_type": "markdown",
   "metadata": {},
   "source": [
    "- **disjoint**: Returns true if the intersection of the two geometries is an empty set. `disjoint` is the opposite of `intersects`."
   ]
  },
  {
   "cell_type": "code",
   "execution_count": 27,
   "metadata": {},
   "outputs": [
    {
     "data": {
      "text/plain": [
       "True"
      ]
     },
     "execution_count": 27,
     "metadata": {},
     "output_type": "execute_result"
    }
   ],
   "source": [
    "westchester.disjoint(manhattan)"
   ]
  },
  {
   "cell_type": "markdown",
   "metadata": {},
   "source": [
    "- **touch**: Returns true if none of the points common to both geometries intersect the interiors of both geometries. At least one geometry must be a `linestring`, `polygon`, `multilinestring`, or `multipolygon`."
   ]
  },
  {
   "cell_type": "code",
   "execution_count": 28,
   "metadata": {},
   "outputs": [
    {
     "data": {
      "text/plain": [
       "True"
      ]
     },
     "execution_count": 28,
     "metadata": {},
     "output_type": "execute_result"
    }
   ],
   "source": [
    "westchester.touch(manhattan)"
   ]
  },
  {
   "cell_type": "markdown",
   "metadata": {},
   "source": [
    "- **overlap**: Compares two geometries of the same dimension and returns true if their intersection set results in a geometry different from both but of the same dimension."
   ]
  },
  {
   "cell_type": "code",
   "execution_count": 29,
   "metadata": {},
   "outputs": [
    {
     "data": {
      "text/plain": [
       "True"
      ]
     },
     "execution_count": 29,
     "metadata": {},
     "output_type": "execute_result"
    }
   ],
   "source": [
    "westchester.overlap(white_plains)"
   ]
  },
  {
   "cell_type": "markdown",
   "metadata": {},
   "source": [
    "- **cross**: Returns true if the intersection results in a geometry whose dimension is one less than the maximum dimension of the two source geometries and the intersection set is interior to both source geometries."
   ]
  },
  {
   "cell_type": "code",
   "execution_count": 30,
   "metadata": {},
   "outputs": [
    {
     "data": {
      "text/plain": [
       "False"
      ]
     },
     "execution_count": 30,
     "metadata": {},
     "output_type": "execute_result"
    }
   ],
   "source": [
    "westchester.cross(white_plains)"
   ]
  },
  {
   "cell_type": "markdown",
   "metadata": {},
   "source": [
    "- **equality**: Compares two geometry A and B and only returns true if A contains B and B contains A."
   ]
  },
  {
   "cell_type": "code",
   "execution_count": 31,
   "metadata": {},
   "outputs": [
    {
     "data": {
      "text/plain": [
       "True"
      ]
     },
     "execution_count": 31,
     "metadata": {},
     "output_type": "execute_result"
    }
   ],
   "source": [
    "westchester.equality(westchester)"
   ]
  },
  {
   "cell_type": "markdown",
   "metadata": {},
   "source": [
    "### Topogical operations\n",
    "\n",
    "You can use the following topological operations:"
   ]
  },
  {
   "cell_type": "markdown",
   "metadata": {},
   "source": [
    "- **intersection**:  Returns the intersection of two geometries."
   ]
  },
  {
   "cell_type": "code",
   "execution_count": 32,
   "metadata": {},
   "outputs": [
    {
     "data": {
      "text/plain": [
       "Polygon: Boundary: Ring(LineSegment(Point(41.016, -73.72), Point(41.025, -73.725)), LineSegment(Point(41.025, -73.725), Point(41.029, -73.729)), LineSegment(Point(41.029, -73.729), Point(41.034, -73.739)), ...) Interiors: "
      ]
     },
     "execution_count": 32,
     "metadata": {},
     "output_type": "execute_result"
    }
   ],
   "source": [
    "westchester.intersection(white_plains)"
   ]
  },
  {
   "cell_type": "code",
   "execution_count": 33,
   "metadata": {},
   "outputs": [
    {
     "data": {
      "text/plain": [
       "True"
      ]
     },
     "execution_count": 33,
     "metadata": {},
     "output_type": "execute_result"
    }
   ],
   "source": [
    "westchester.intersection(white_plains).equality(white_plains)"
   ]
  },
  {
   "cell_type": "markdown",
   "metadata": {},
   "source": [
    "- **union**: Returns the union of two geometries."
   ]
  },
  {
   "cell_type": "code",
   "execution_count": 34,
   "metadata": {},
   "outputs": [
    {
     "data": {
      "text/plain": [
       "Polygon: Boundary: Ring(LineSegment(Point(40.868, -73.751), Point(40.868, -73.746)), LineSegment(Point(40.868, -73.746), Point(40.946, -73.618)), LineSegment(Point(40.946, -73.618), Point(40.952, -73.617)), ...) Interiors: "
      ]
     },
     "execution_count": 34,
     "metadata": {},
     "output_type": "execute_result"
    }
   ],
   "source": [
    "westchester.union(white_plains)"
   ]
  },
  {
   "cell_type": "code",
   "execution_count": 35,
   "metadata": {},
   "outputs": [
    {
     "data": {
      "text/plain": [
       "True"
      ]
     },
     "execution_count": 35,
     "metadata": {},
     "output_type": "execute_result"
    }
   ],
   "source": [
    "westchester.union(white_plains).equality(westchester)"
   ]
  },
  {
   "cell_type": "markdown",
   "metadata": {},
   "source": [
    "- **difference**: Returns the difference of two geometries."
   ]
  },
  {
   "cell_type": "code",
   "execution_count": 36,
   "metadata": {},
   "outputs": [
    {
     "data": {
      "text/plain": [
       "Polygon: Boundary: Ring(LineSegment(Point(41.069, -73.748), Point(41.056, -73.746)), LineSegment(Point(41.056, -73.746), Point(41.056, -73.742)), LineSegment(Point(41.056, -73.742), Point(41.053, -73.74)), ...) Interiors: Ring(LineSegment(Point(41.091, -73.714), Point(41.099, -73.722)), LineSegment(Point(41.099, -73.722), Point(41.14, -73.632)), LineSegment(Point(41.14, -73.632), Point(41.143, -73.628)), ...)"
      ]
     },
     "execution_count": 36,
     "metadata": {},
     "output_type": "execute_result"
    }
   ],
   "source": [
    "westchester.difference(white_plains)"
   ]
  },
  {
   "cell_type": "markdown",
   "metadata": {},
   "source": [
    "- **symmetric_difference**: Returns the symmetric difference of two geometries."
   ]
  },
  {
   "cell_type": "code",
   "execution_count": 37,
   "metadata": {},
   "outputs": [
    {
     "data": {
      "text/plain": [
       "Polygon: Boundary: Ring(LineSegment(Point(41.37, -73.545), Point(41.363, -73.625)), LineSegment(Point(41.363, -73.625), Point(41.346, -73.78)), LineSegment(Point(41.346, -73.78), Point(41.33, -73.948)), ...) Interiors: Ring(LineSegment(Point(40.997, -73.769), Point(41.002, -73.774)), LineSegment(Point(41.002, -73.774), Point(41.006, -73.775)), LineSegment(Point(41.006, -73.775), Point(41.018, -73.788)), ...)"
      ]
     },
     "execution_count": 37,
     "metadata": {},
     "output_type": "execute_result"
    }
   ],
   "source": [
    "westchester.symmetric_difference(white_plains)"
   ]
  },
  {
   "cell_type": "markdown",
   "metadata": {},
   "source": [
    "- **centroid**: Returns the centroid of the geometry."
   ]
  },
  {
   "cell_type": "code",
   "execution_count": 38,
   "metadata": {},
   "outputs": [
    {
     "data": {
      "text/plain": [
       "Point(41.15551622739597, -73.7592843233704)"
      ]
     },
     "execution_count": 38,
     "metadata": {},
     "output_type": "execute_result"
    }
   ],
   "source": [
    "westchester.centroid()"
   ]
  },
  {
   "cell_type": "markdown",
   "metadata": {},
   "source": [
    "- **buffer**: Encircles a geometry at a specified distance and returns a geometry that is the buffer that surrounds the source geometry."
   ]
  },
  {
   "cell_type": "code",
   "execution_count": 39,
   "metadata": {},
   "outputs": [
    {
     "data": {
      "text/plain": [
       "Polygon: Boundary: Ring(LineSegment(Point(41.34608901182375, -73.780016175795), Point(41.33009345805131, -73.94796983417261)), LineSegment(Point(41.33009345805131, -73.94796983417261), Point(41.33009509638599, -73.9479730047212)), LineSegment(Point(41.33009509638599, -73.9479730047212), Point(41.33008879008994, -73.94801846460757)), ...) Interiors: "
      ]
     },
     "execution_count": 39,
     "metadata": {},
     "output_type": "execute_result"
    }
   ],
   "source": [
    "westchester.buffer(10)"
   ]
  },
  {
   "cell_type": "code",
   "execution_count": 40,
   "metadata": {},
   "outputs": [
    {
     "data": {
      "text/plain": [
       "True"
      ]
     },
     "execution_count": 40,
     "metadata": {},
     "output_type": "execute_result"
    }
   ],
   "source": [
    "westchester.buffer(10).contains(westchester)"
   ]
  },
  {
   "cell_type": "markdown",
   "metadata": {},
   "source": [
    "- **get_bounding_box**: Returns the bounding box of the geometry."
   ]
  },
  {
   "cell_type": "code",
   "execution_count": 41,
   "metadata": {},
   "outputs": [
    {
     "data": {
      "text/plain": [
       "BoundingBox: Lower Corner: Point(40.86800000000001, -73.987), Upper Corner: Point(41.36999999999998, -73.479)"
      ]
     },
     "execution_count": 41,
     "metadata": {},
     "output_type": "execute_result"
    }
   ],
   "source": [
    "westchester.get_bounding_box()"
   ]
  },
  {
   "cell_type": "markdown",
   "metadata": {},
   "source": [
    "### Topological metrics\n",
    "\n",
    "You can use the following functions for topological metrics:"
   ]
  },
  {
   "cell_type": "markdown",
   "metadata": {},
   "source": [
    "- **area**: Returns the area of the geometry."
   ]
  },
  {
   "cell_type": "code",
   "execution_count": 42,
   "metadata": {},
   "outputs": [
    {
     "data": {
      "text/plain": [
       "36349150.276403755"
      ]
     },
     "execution_count": 42,
     "metadata": {},
     "output_type": "execute_result"
    }
   ],
   "source": [
    "white_plains.area()"
   ]
  },
  {
   "cell_type": "markdown",
   "metadata": {},
   "source": [
    "- **distance**: Returns the distance between two geometries."
   ]
  },
  {
   "cell_type": "code",
   "execution_count": 43,
   "metadata": {},
   "outputs": [
    {
     "data": {
      "text/plain": [
       "17751.46528792161"
      ]
     },
     "execution_count": 43,
     "metadata": {},
     "output_type": "execute_result"
    }
   ],
   "source": [
    "white_plains.distance(manhattan)"
   ]
  },
  {
   "cell_type": "markdown",
   "metadata": {},
   "source": [
    "- **get_topological_dimensionality**: Returns the topological dimensionality of the geometry."
   ]
  },
  {
   "cell_type": "code",
   "execution_count": 44,
   "metadata": {},
   "outputs": [
    {
     "data": {
      "text/plain": [
       "2"
      ]
     },
     "execution_count": 44,
     "metadata": {},
     "output_type": "execute_result"
    }
   ],
   "source": [
    "white_plains.get_topological_dimensionality()"
   ]
  },
  {
   "cell_type": "markdown",
   "metadata": {},
   "source": [
    "### Topological aggregation\n",
    "\n",
    "You can use the following aggregation functions:"
   ]
  },
  {
   "cell_type": "markdown",
   "metadata": {},
   "source": [
    "- Get the aggregated bounding box for a list of geometries:"
   ]
  },
  {
   "cell_type": "code",
   "execution_count": 45,
   "metadata": {},
   "outputs": [],
   "source": [
    "white_plains_bbox = white_plains.get_bounding_box()\n",
    "westchester_bbox = westchester.get_bounding_box()\n",
    "manhattan_bbox = manhattan.get_bounding_box()\n",
    "\n",
    "aggregated_bbox = white_plains_bbox.get_containing_bb(westchester_bbox).get_containing_bb(manhattan_bbox)"
   ]
  },
  {
   "cell_type": "markdown",
   "metadata": {},
   "source": [
    "- Get the aggregated convex hull for a list of geometries:"
   ]
  },
  {
   "cell_type": "code",
   "execution_count": 46,
   "metadata": {},
   "outputs": [],
   "source": [
    "white_plains_points = white_plains.get_exterior_ring().get_points()\n",
    "westchester_points = westchester.get_exterior_ring().get_points()\n",
    "manhattan_points = manhattan.get_exterior_ring().get_points()\n",
    "\n",
    "all_points = white_plains_points + westchester_points + manhattan_points\n",
    "hull = stc.convex_hull.compute_convex_hull(all_points)"
   ]
  },
  {
   "cell_type": "markdown",
   "metadata": {},
   "source": [
    "<a name=\"geohash\"></a> \n",
    "## Geohashing functions\n",
    "\n",
    "The spatio-temporal library includes geohashing functions for proximity search (encoding latitude and longitude and grouping nearby points) in location data analysis.\n",
    "\n",
    "Before you can begin calculating and grouping location data, create a geohash engine:"
   ]
  },
  {
   "cell_type": "code",
   "execution_count": 47,
   "metadata": {},
   "outputs": [],
   "source": [
    "geohash = stc.geohash"
   ]
  },
  {
   "cell_type": "markdown",
   "metadata": {},
   "source": [
    "### Geohash encoding functions\n",
    "\n",
    "Encode a geographic location:"
   ]
  },
  {
   "cell_type": "code",
   "execution_count": 48,
   "metadata": {},
   "outputs": [],
   "source": [
    "p = stc.point(37, -74)"
   ]
  },
  {
   "cell_type": "markdown",
   "metadata": {},
   "source": [
    "Encode a geographic location to a string of base-32 encoded characters:"
   ]
  },
  {
   "cell_type": "code",
   "execution_count": 49,
   "metadata": {},
   "outputs": [
    {
     "data": {
      "text/plain": [
       "'dqe6kpdue5btnubpm9npcd0000'"
      ]
     },
     "execution_count": 49,
     "metadata": {},
     "output_type": "execute_result"
    }
   ],
   "source": [
    "geohash.string_hash_encode(p)"
   ]
  },
  {
   "cell_type": "markdown",
   "metadata": {},
   "source": [
    "Encode a geographic location to a string of characters and letter:"
   ]
  },
  {
   "cell_type": "code",
   "execution_count": 50,
   "metadata": {},
   "outputs": [
    {
     "data": {
      "text/plain": [
       "'dqe6k'"
      ]
     },
     "execution_count": 50,
     "metadata": {},
     "output_type": "execute_result"
    }
   ],
   "source": [
    "geohash.string_hash_encode(p, precision=5)"
   ]
  },
  {
   "cell_type": "markdown",
   "metadata": {},
   "source": [
    "Encode a geographic location to a BitVector:"
   ]
  },
  {
   "cell_type": "code",
   "execution_count": 51,
   "metadata": {},
   "outputs": [
    {
     "data": {
      "text/plain": [
       "BitVector(01100101100110100110100101010101100110100110100101010101100110100110100101010101100110100110100101010101101100000000000000000000)"
      ]
     },
     "execution_count": 51,
     "metadata": {},
     "output_type": "execute_result"
    }
   ],
   "source": [
    "geohash.number_hash_encode(p)"
   ]
  },
  {
   "cell_type": "markdown",
   "metadata": {},
   "source": [
    "### Geohash decoding functions"
   ]
  },
  {
   "cell_type": "markdown",
   "metadata": {},
   "source": [
    "Decode a base-32 encoded string to its decimal longitude or latitude coordinates:"
   ]
  },
  {
   "cell_type": "code",
   "execution_count": 52,
   "metadata": {
    "scrolled": true
   },
   "outputs": [
    {
     "data": {
      "text/plain": [
       "Point(37.265625, -74.443359375)"
      ]
     },
     "execution_count": 52,
     "metadata": {},
     "output_type": "execute_result"
    }
   ],
   "source": [
    "geohash.string_hash_decode('dqeh4')"
   ]
  },
  {
   "cell_type": "markdown",
   "metadata": {},
   "source": [
    "Decode base-32 encoded characters to reveal the geographic location:"
   ]
  },
  {
   "cell_type": "code",
   "execution_count": 53,
   "metadata": {},
   "outputs": [
    {
     "data": {
      "text/plain": [
       "Point(37.0, -74.0)"
      ]
     },
     "execution_count": 53,
     "metadata": {},
     "output_type": "execute_result"
    }
   ],
   "source": [
    "bv = geohash.number_hash_encode(p)\n",
    "geohash.number_hash_decode(bv)"
   ]
  },
  {
   "cell_type": "markdown",
   "metadata": {},
   "source": [
    "### Geohash neighbors functions\n",
    "\n",
    "The geohash neighbors functions returns the neighboring geohash codes around a specified code."
   ]
  },
  {
   "cell_type": "markdown",
   "metadata": {},
   "source": [
    "Get the geohash neighbors for the given latitude, longitude and `bit_depth`:"
   ]
  },
  {
   "cell_type": "code",
   "execution_count": 54,
   "metadata": {},
   "outputs": [
    {
     "data": {
      "text/plain": [
       "[BitVector(0111110000001111100101010),\n",
       " BitVector(0111110000001111100101011),\n",
       " BitVector(0111110000001111100101110),\n",
       " BitVector(0111110000001111110000000),\n",
       " BitVector(0111110000001111110000001),\n",
       " BitVector(0111110000001111110000100),\n",
       " BitVector(0111110000001111110000010),\n",
       " BitVector(0111110000001111110000011),\n",
       " BitVector(0111110000001111110000110)]"
      ]
     },
     "execution_count": 54,
     "metadata": {},
     "output_type": "execute_result"
    }
   ],
   "source": [
    "geohash.get_all_neighbors(70, -40, 25)"
   ]
  },
  {
   "cell_type": "markdown",
   "metadata": {},
   "source": [
    "Get the geohash neighbors for the given latitude, longitude and `bit_depth`, but only return results that are within the given distance:"
   ]
  },
  {
   "cell_type": "code",
   "execution_count": 55,
   "metadata": {},
   "outputs": [
    {
     "data": {
      "text/plain": [
       "[BitVector(0111110000001111110000001),\n",
       " BitVector(0111110000001111110000100),\n",
       " BitVector(0111110000001111110000011),\n",
       " BitVector(0111110000001111110000110)]"
      ]
     },
     "execution_count": 55,
     "metadata": {},
     "output_type": "execute_result"
    }
   ],
   "source": [
    "geohash.get_all_neighbors(70, -40, 25, distance_precision=1000)"
   ]
  },
  {
   "cell_type": "markdown",
   "metadata": {},
   "source": [
    "Other useful geohash functions include:"
   ]
  },
  {
   "cell_type": "markdown",
   "metadata": {},
   "source": [
    "- **expand**: Returns the center code and its neighbors. All 9 geohashes for a location are returned:"
   ]
  },
  {
   "cell_type": "code",
   "execution_count": 56,
   "metadata": {
    "scrolled": true
   },
   "outputs": [
    {
     "data": {
      "text/plain": [
       "['ezefp',\n",
       " 'ezs40',\n",
       " 'ezs41',\n",
       " 'ezefr',\n",
       " 'ezs42',\n",
       " 'ezs43',\n",
       " 'ezefx',\n",
       " 'ezs48',\n",
       " 'ezs49']"
      ]
     },
     "execution_count": 56,
     "metadata": {},
     "output_type": "execute_result"
    }
   ],
   "source": [
    "geohash.expand('ezs42')"
   ]
  },
  {
   "cell_type": "markdown",
   "metadata": {},
   "source": [
    "- **neighbors**: Returns 8 geohashes, excluding the given geohash itself:"
   ]
  },
  {
   "cell_type": "code",
   "execution_count": 57,
   "metadata": {},
   "outputs": [
    {
     "data": {
      "text/plain": [
       "['ezefp', 'ezs40', 'ezs41', 'ezefr', 'ezs43', 'ezefx', 'ezs48', 'ezs49']"
      ]
     },
     "execution_count": 57,
     "metadata": {},
     "output_type": "execute_result"
    }
   ],
   "source": [
    "geohash.neighbors('ezs42')"
   ]
  },
  {
   "cell_type": "markdown",
   "metadata": {},
   "source": [
    "- **get_east**, **get_west**, **get_north**, **get_south**: Returns the east, west, north, or south geohash for a given geohash:"
   ]
  },
  {
   "cell_type": "code",
   "execution_count": 58,
   "metadata": {},
   "outputs": [
    {
     "data": {
      "text/plain": [
       "'ezs43'"
      ]
     },
     "execution_count": 58,
     "metadata": {},
     "output_type": "execute_result"
    }
   ],
   "source": [
    "geohash.get_east('ezs42')"
   ]
  },
  {
   "cell_type": "markdown",
   "metadata": {},
   "source": [
    "- **bv**: Encode a geohash to a BitVector:"
   ]
  },
  {
   "cell_type": "code",
   "execution_count": 59,
   "metadata": {},
   "outputs": [],
   "source": [
    "bv = geohash.number_hash_encode(p)\n",
    "bv.truncate(25)"
   ]
  },
  {
   "cell_type": "code",
   "execution_count": 60,
   "metadata": {},
   "outputs": [
    {
     "data": {
      "text/plain": [
       "[BitVector(0110010110011010011000101),\n",
       " BitVector(0110010110011010011010000),\n",
       " BitVector(0110010110011010011010001),\n",
       " BitVector(0110010110011010011000111),\n",
       " BitVector(0110010110011010011010010),\n",
       " BitVector(0110010110011010011010011),\n",
       " BitVector(0110010110011010011001101),\n",
       " BitVector(0110010110011010011011000),\n",
       " BitVector(0110010110011010011011001)]"
      ]
     },
     "execution_count": 60,
     "metadata": {},
     "output_type": "execute_result"
    }
   ],
   "source": [
    "geohash.expand(bv)"
   ]
  },
  {
   "cell_type": "code",
   "execution_count": 61,
   "metadata": {},
   "outputs": [
    {
     "data": {
      "text/plain": [
       "[BitVector(0110010110011010011000101),\n",
       " BitVector(0110010110011010011010000),\n",
       " BitVector(0110010110011010011010001),\n",
       " BitVector(0110010110011010011000111),\n",
       " BitVector(0110010110011010011010011),\n",
       " BitVector(0110010110011010011001101),\n",
       " BitVector(0110010110011010011011000),\n",
       " BitVector(0110010110011010011011001)]"
      ]
     },
     "execution_count": 61,
     "metadata": {},
     "output_type": "execute_result"
    }
   ],
   "source": [
    "geohash.neighbors(bv)"
   ]
  },
  {
   "cell_type": "code",
   "execution_count": 62,
   "metadata": {},
   "outputs": [
    {
     "data": {
      "text/plain": [
       "BitVector(0110010110011010011011000)"
      ]
     },
     "execution_count": 62,
     "metadata": {},
     "output_type": "execute_result"
    }
   ],
   "source": [
    "geohash.get_north(bv)"
   ]
  },
  {
   "cell_type": "markdown",
   "metadata": {},
   "source": [
    "### Geohash coverage\n",
    "\n",
    "To calculate a set of geohashes that wholly covers the bounding box:"
   ]
  },
  {
   "cell_type": "markdown",
   "metadata": {},
   "source": [
    "#### 1. Prepare a sample test polygon:"
   ]
  },
  {
   "cell_type": "code",
   "execution_count": 63,
   "metadata": {},
   "outputs": [],
   "source": [
    "test_wkt = 'POLYGON((-73.76223024988917 41.04173285255264,-73.7749331917837 41.04121496082817,-73.78197130823878 41.02748934524744,-73.76476225519923 41.023733725449326,-73.75218805933741 41.031633228865495,-73.7558787789419 41.03752486433286,-73.76223024988917 41.04173285255264))'\n",
    "poly = wkt_reader.read(test_wkt)"
   ]
  },
  {
   "cell_type": "markdown",
   "metadata": {},
   "source": [
    "#### 2. To compute the geohash cover at a fixed bit depth for a given geometry:"
   ]
  },
  {
   "cell_type": "code",
   "execution_count": 64,
   "metadata": {},
   "outputs": [],
   "source": [
    "cover = geohash.geohash_cover_at_bit_depth(poly, 36)"
   ]
  },
  {
   "cell_type": "markdown",
   "metadata": {},
   "source": [
    "#### 3. To compute the buffered geohash cover at a fixed bit depth for a given geometry:"
   ]
  },
  {
   "cell_type": "code",
   "execution_count": 65,
   "metadata": {},
   "outputs": [],
   "source": [
    "buffered_cover = stc.geohash.geohash_cover_at_bit_depth(poly, 36, distance=50)"
   ]
  },
  {
   "cell_type": "markdown",
   "metadata": {},
   "source": [
    "#### 4. To compute a compact geohash cover by first computing the fixed depth cover and then compressing the cover:"
   ]
  },
  {
   "cell_type": "markdown",
   "metadata": {},
   "source": [
    "<a name=\"elli\"></a> \n",
    "## Ellipsoidal metrics\n",
    "\n",
    "You can use ellipsoidal metrics to calculate the distance between points.\n",
    "\n",
    "Before you can begin using ellipsoidal metrics, create a metrics object:"
   ]
  },
  {
   "cell_type": "code",
   "execution_count": 67,
   "metadata": {},
   "outputs": [],
   "source": [
    "eg_metric = stc.eg_metric"
   ]
  },
  {
   "cell_type": "markdown",
   "metadata": {},
   "source": [
    "Examples of metrics you can compute:\n",
    "\n",
    "- Compute the radians between two points using `azimuth`:"
   ]
  },
  {
   "cell_type": "code",
   "execution_count": 68,
   "metadata": {},
   "outputs": [
    {
     "data": {
      "text/plain": [
       "0.6802979449118038"
      ]
     },
     "execution_count": 68,
     "metadata": {},
     "output_type": "execute_result"
    }
   ],
   "source": [
    "p1 = stc.point(47.1, -73.5)\n",
    "p2 = stc.point(47.6, -72.9)\n",
    "eg_metric.azimuth(p1, p2)"
   ]
  },
  {
   "cell_type": "markdown",
   "metadata": {},
   "source": [
    "- Compute the distance between two points in the units of the underlying data (typically in meters):"
   ]
  },
  {
   "cell_type": "code",
   "execution_count": 69,
   "metadata": {},
   "outputs": [
    {
     "data": {
      "text/plain": [
       "71730.66213673435"
      ]
     },
     "execution_count": 69,
     "metadata": {},
     "output_type": "execute_result"
    }
   ],
   "source": [
    "eg_metric.distance(p1, p2)"
   ]
  },
  {
   "cell_type": "markdown",
   "metadata": {},
   "source": [
    "- Compute the landing point given a starting point, a heading (in radians), and the distance in the units of the underlying data (typically in meters):"
   ]
  },
  {
   "cell_type": "code",
   "execution_count": 70,
   "metadata": {},
   "outputs": [
    {
     "data": {
      "text/plain": [
       "Point(47.60000000001233, -72.89999999998498)"
      ]
     },
     "execution_count": 70,
     "metadata": {},
     "output_type": "execute_result"
    }
   ],
   "source": [
    "point = p1\n",
    "heading = eg_metric.azimuth(p1, p2)\n",
    "distance = eg_metric.distance(p1, p2)\n",
    "eg_metric.destination_point(p1, heading, distance)"
   ]
  },
  {
   "cell_type": "markdown",
   "metadata": {},
   "source": [
    "<a name=\"summary\"></a> \n",
    "\n",
    "## Summary\n",
    "\n",
    "In this notebook, you learnt how to get started with the geospatio-temporal library. You were shown the following: \n",
    "\n",
    "- Read and write data in GeoJSON and WKT format\n",
    "- Use topological relations to confine the returned results of your location data analysis \n",
    "- Which geohashing functions to use for proximity search\n",
    "- Calculate the distance between points using ellipsoidal metrics. \n",
    "\n"
   ]
  },
  {
   "cell_type": "markdown",
   "metadata": {},
   "source": [
    "### Author\n",
    "\n",
    "**Linsong Chu**, Research Engineer at IBM Research"
   ]
  },
  {
   "cell_type": "markdown",
   "metadata": {},
   "source": [
    "Copyright © 2019 IBM. This notebook and its source code are released under the terms of the MIT License."
   ]
  },
  {
   "cell_type": "markdown",
   "metadata": {},
   "source": [
    "<div style=\"background:#F5F7FA; height:110px; padding: 2em; font-size:14px;\">\n",
    "<span style=\"font-size:18px;color:#152935;\">Love this notebook? </span>\n",
    "<span style=\"font-size:15px;color:#152935;float:right;margin-right:40px;\">Don't have an account yet?</span><br>\n",
    "<span style=\"color:#5A6872;\">Share it with your colleagues and help them discover the power of Watson Studio!</span>\n",
    "<span style=\"border: 1px solid #3d70b2;padding:8px;float:right;margin-right:40px; color:#3d70b2;\"><a href=\"https://ibm.co/wsnotebooks\" target=\"_blank\" style=\"color: #3d70b2;text-decoration: none;\">Sign Up</a></span><br>\n",
    "</div>"
   ]
  },
  {
   "cell_type": "code",
   "execution_count": null,
   "metadata": {},
   "outputs": [],
   "source": []
  }
 ],
 "metadata": {
  "kernelspec": {
   "display_name": "Python 3.6 with Spark",
   "language": "python3",
   "name": "python36"
  },
  "language_info": {
   "codemirror_mode": {
    "name": "ipython",
    "version": 3
   },
   "file_extension": ".py",
   "mimetype": "text/x-python",
   "name": "python",
   "nbconvert_exporter": "python",
   "pygments_lexer": "ipython3",
   "version": "3.6.8"
  }
 },
 "nbformat": 4,
 "nbformat_minor": 1
}
