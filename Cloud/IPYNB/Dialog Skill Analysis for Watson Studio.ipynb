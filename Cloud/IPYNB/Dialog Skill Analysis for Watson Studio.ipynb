{
 "cells": [
  {
   "cell_type": "code",
   "execution_count": 1,
   "metadata": {},
   "outputs": [],
   "source": [
    "from IPython.display import Markdown, display, HTML\n",
    "import warnings\n",
    "warnings.filterwarnings('ignore')"
   ]
  },
  {
   "cell_type": "markdown",
   "metadata": {},
   "source": [
    "# Dialog Skill Analysis for Watson Assistant\n",
    "\n",
    "## Introduction\n",
    "Dialog Skill Analysis for Watson Assistant (WA) is intended for use by chatbot designers, developers & data scientists who would like to experiment with and improve on their existing dialog skill design.  \n",
    "\n",
    "We assume familiarity with the Watson Assistant product as well as concepts involved in dialog skill design like intent, entities, utterances etc.   \n",
    "\n",
    "### Environment\n",
    "For dependency requirements, please refer to `requirements.txt`\n",
    "\n",
    "This notebook runs on Python",
    "\n",
    "### Usage\n",
    "1. Assumes familiarity using a Python Jupyter notebook\n",
    "2. Assumes a Python 3.6 or greater environment\n",
    "3. Install dependencies with `pip install -r requirements.txt`  \n",
    "4. Start jupyter server with `jupyter notebook`\n",
    "5. Select `skill_analysis.ipynb` to start session\n",
    "\n",
    "### Link to Source Repository\n",
    "https://github.com/watson-developer-cloud/assistant-dialog-skill-analysis"
   ]
  },
  {
   "cell_type": "code",
   "execution_count": 2,
   "metadata": {},
   "outputs": [
    {
     "name": "stdout",
     "output_type": "stream",
     "text": [
      "Looking in indexes: https://pypi.python.org/simple\n",
      "Requirement already up-to-date: pip in /opt/conda/envs/Python-3.7-main/lib/python3.7/site-packages (20.2.4)\n",
      "Looking in indexes: https://pypi.python.org/simple\n",
      "Requirement already up-to-date: assistant-dialog-skill-analysis>=1.2.1 in /opt/conda/envs/Python-3.7-main/lib/python3.7/site-packages (1.2.1)\n",
      "Requirement already satisfied, skipping upgrade: nltk in /opt/conda/envs/Python-3.7-main/lib/python3.7/site-packages (from assistant-dialog-skill-analysis>=1.2.1) (3.5)\n",
      "Requirement already satisfied, skipping upgrade: spacy==2.3.2 in /opt/conda/envs/Python-3.7-main/lib/python3.7/site-packages (from assistant-dialog-skill-analysis>=1.2.1) (2.3.2)\n",
      "Requirement already satisfied, skipping upgrade: jupyter in /opt/conda/envs/Python-3.7-main/lib/python3.7/site-packages (from assistant-dialog-skill-analysis>=1.2.1) (1.0.0)\n",
      "Requirement already satisfied, skipping upgrade: scipy>=1.2.0 in /opt/conda/envs/Python-3.7-main/lib/python3.7/site-packages (from assistant-dialog-skill-analysis>=1.2.1) (1.5.0)\n",
      "Requirement already satisfied, skipping upgrade: scikit-learn>=0.21 in /opt/conda/envs/Python-3.7-main/lib/python3.7/site-packages (from assistant-dialog-skill-analysis>=1.2.1) (0.23.1)\n",
      "Requirement already satisfied, skipping upgrade: numpy>=1.15.1 in /opt/conda/envs/Python-3.7-main/lib/python3.7/site-packages (from assistant-dialog-skill-analysis>=1.2.1) (1.18.5)\n",
      "Requirement already satisfied, skipping upgrade: tabulate in /opt/conda/envs/Python-3.7-main/lib/python3.7/site-packages (from assistant-dialog-skill-analysis>=1.2.1) (0.8.3)\n",
      "Requirement already satisfied, skipping upgrade: seaborn in /opt/conda/envs/Python-3.7-main/lib/python3.7/site-packages (from assistant-dialog-skill-analysis>=1.2.1) (0.10.1)\n",
      "Requirement already satisfied, skipping upgrade: ibm-watson>=4.5.0 in /opt/conda/envs/Python-3.7-main/lib/python3.7/site-packages (from assistant-dialog-skill-analysis>=1.2.1) (4.7.1)\n",
      "Requirement already satisfied, skipping upgrade: matplotlib in /opt/conda/envs/Python-3.7-main/lib/python3.7/site-packages (from assistant-dialog-skill-analysis>=1.2.1) (3.2.2)\n",
      "Requirement already satisfied, skipping upgrade: pandas in /opt/conda/envs/Python-3.7-main/lib/python3.7/site-packages (from assistant-dialog-skill-analysis>=1.2.1) (1.0.5)\n",
      "Requirement already satisfied, skipping upgrade: ibm-cos-sdk==2.7.0 in /opt/conda/envs/Python-3.7-main/lib/python3.7/site-packages (from assistant-dialog-skill-analysis>=1.2.1) (2.7.0)\n",
      "Requirement already satisfied, skipping upgrade: click in /opt/conda/envs/Python-3.7-main/lib/python3.7/site-packages (from nltk->assistant-dialog-skill-analysis>=1.2.1) (7.1.2)\n",
      "Requirement already satisfied, skipping upgrade: joblib in /opt/conda/envs/Python-3.7-main/lib/python3.7/site-packages (from nltk->assistant-dialog-skill-analysis>=1.2.1) (0.16.0)\n",
      "Requirement already satisfied, skipping upgrade: regex in /opt/conda/envs/Python-3.7-main/lib/python3.7/site-packages (from nltk->assistant-dialog-skill-analysis>=1.2.1) (2020.6.8)\n",
      "Requirement already satisfied, skipping upgrade: tqdm in /opt/conda/envs/Python-3.7-main/lib/python3.7/site-packages (from nltk->assistant-dialog-skill-analysis>=1.2.1) (4.47.0)\n",
      "Requirement already satisfied, skipping upgrade: requests<3.0.0,>=2.13.0 in /opt/conda/envs/Python-3.7-main/lib/python3.7/site-packages (from spacy==2.3.2->assistant-dialog-skill-analysis>=1.2.1) (2.24.0)\n",
      "Requirement already satisfied, skipping upgrade: catalogue<1.1.0,>=0.0.7 in /opt/conda/envs/Python-3.7-main/lib/python3.7/site-packages (from spacy==2.3.2->assistant-dialog-skill-analysis>=1.2.1) (1.0.0)\n",
      "Requirement already satisfied, skipping upgrade: blis<0.5.0,>=0.4.0 in /opt/conda/envs/Python-3.7-main/lib/python3.7/site-packages (from spacy==2.3.2->assistant-dialog-skill-analysis>=1.2.1) (0.4.1)\n",
      "Requirement already satisfied, skipping upgrade: wasabi<1.1.0,>=0.4.0 in /opt/conda/envs/Python-3.7-main/lib/python3.7/site-packages (from spacy==2.3.2->assistant-dialog-skill-analysis>=1.2.1) (0.8.0)\n",
      "Requirement already satisfied, skipping upgrade: murmurhash<1.1.0,>=0.28.0 in /opt/conda/envs/Python-3.7-main/lib/python3.7/site-packages (from spacy==2.3.2->assistant-dialog-skill-analysis>=1.2.1) (1.0.2)\n",
      "Requirement already satisfied, skipping upgrade: cymem<2.1.0,>=2.0.2 in /opt/conda/envs/Python-3.7-main/lib/python3.7/site-packages (from spacy==2.3.2->assistant-dialog-skill-analysis>=1.2.1) (2.0.3)\n",
      "Requirement already satisfied, skipping upgrade: srsly<1.1.0,>=1.0.2 in /opt/conda/envs/Python-3.7-main/lib/python3.7/site-packages (from spacy==2.3.2->assistant-dialog-skill-analysis>=1.2.1) (1.0.2)\n",
      "Requirement already satisfied, skipping upgrade: thinc==7.4.1 in /opt/conda/envs/Python-3.7-main/lib/python3.7/site-packages (from spacy==2.3.2->assistant-dialog-skill-analysis>=1.2.1) (7.4.1)\n",
      "Requirement already satisfied, skipping upgrade: setuptools in /opt/conda/envs/Python-3.7-main/lib/python3.7/site-packages (from spacy==2.3.2->assistant-dialog-skill-analysis>=1.2.1) (47.3.1.post20200622)\n",
      "Requirement already satisfied, skipping upgrade: plac<1.2.0,>=0.9.6 in /opt/conda/envs/Python-3.7-main/lib/python3.7/site-packages (from spacy==2.3.2->assistant-dialog-skill-analysis>=1.2.1) (1.1.3)\n",
      "Requirement already satisfied, skipping upgrade: preshed<3.1.0,>=3.0.2 in /opt/conda/envs/Python-3.7-main/lib/python3.7/site-packages (from spacy==2.3.2->assistant-dialog-skill-analysis>=1.2.1) (3.0.2)\n",
      "Requirement already satisfied, skipping upgrade: jupyter-console in /opt/conda/envs/Python-3.7-main/lib/python3.7/site-packages (from jupyter->assistant-dialog-skill-analysis>=1.2.1) (6.2.0)\n",
      "Requirement already satisfied, skipping upgrade: qtconsole in /opt/conda/envs/Python-3.7-main/lib/python3.7/site-packages (from jupyter->assistant-dialog-skill-analysis>=1.2.1) (4.7.7)\n",
      "Requirement already satisfied, skipping upgrade: ipywidgets in /opt/conda/envs/Python-3.7-main/lib/python3.7/site-packages (from jupyter->assistant-dialog-skill-analysis>=1.2.1) (7.5.1)\n",
      "Requirement already satisfied, skipping upgrade: notebook in /opt/conda/envs/Python-3.7-main/lib/python3.7/site-packages (from jupyter->assistant-dialog-skill-analysis>=1.2.1) (6.0.3)\n",
      "Requirement already satisfied, skipping upgrade: ipykernel in /opt/conda/envs/Python-3.7-main/lib/python3.7/site-packages (from jupyter->assistant-dialog-skill-analysis>=1.2.1) (5.3.0)\n",
      "Requirement already satisfied, skipping upgrade: nbconvert in /opt/conda/envs/Python-3.7-main/lib/python3.7/site-packages (from jupyter->assistant-dialog-skill-analysis>=1.2.1) (5.6.1)\n",
      "Requirement already satisfied, skipping upgrade: threadpoolctl>=2.0.0 in /opt/conda/envs/Python-3.7-main/lib/python3.7/site-packages (from scikit-learn>=0.21->assistant-dialog-skill-analysis>=1.2.1) (2.1.0)\n",
      "Requirement already satisfied, skipping upgrade: websocket-client==0.48.0 in /opt/conda/envs/Python-3.7-main/lib/python3.7/site-packages (from ibm-watson>=4.5.0->assistant-dialog-skill-analysis>=1.2.1) (0.48.0)\n",
      "Requirement already satisfied, skipping upgrade: ibm-cloud-sdk-core==1.7.3 in /opt/conda/envs/Python-3.7-main/lib/python3.7/site-packages (from ibm-watson>=4.5.0->assistant-dialog-skill-analysis>=1.2.1) (1.7.3)\n",
      "Requirement already satisfied, skipping upgrade: python-dateutil>=2.5.3 in /opt/conda/envs/Python-3.7-main/lib/python3.7/site-packages (from ibm-watson>=4.5.0->assistant-dialog-skill-analysis>=1.2.1) (2.8.1)\n",
      "Requirement already satisfied, skipping upgrade: cycler>=0.10 in /opt/conda/envs/Python-3.7-main/lib/python3.7/site-packages (from matplotlib->assistant-dialog-skill-analysis>=1.2.1) (0.10.0)\n",
      "Requirement already satisfied, skipping upgrade: pyparsing!=2.0.4,!=2.1.2,!=2.1.6,>=2.0.1 in /opt/conda/envs/Python-3.7-main/lib/python3.7/site-packages (from matplotlib->assistant-dialog-skill-analysis>=1.2.1) (2.4.7)\n",
      "Requirement already satisfied, skipping upgrade: kiwisolver>=1.0.1 in /opt/conda/envs/Python-3.7-main/lib/python3.7/site-packages (from matplotlib->assistant-dialog-skill-analysis>=1.2.1) (1.2.0)\n",
      "Requirement already satisfied, skipping upgrade: pytz>=2017.2 in /opt/conda/envs/Python-3.7-main/lib/python3.7/site-packages (from pandas->assistant-dialog-skill-analysis>=1.2.1) (2020.1)\n",
      "Requirement already satisfied, skipping upgrade: jmespath<1.0.0,>=0.7.1 in /opt/conda/envs/Python-3.7-main/lib/python3.7/site-packages (from ibm-cos-sdk==2.7.0->assistant-dialog-skill-analysis>=1.2.1) (0.9.4)\n",
      "Requirement already satisfied, skipping upgrade: ibm-cos-sdk-core==2.7.0 in /opt/conda/envs/Python-3.7-main/lib/python3.7/site-packages (from ibm-cos-sdk==2.7.0->assistant-dialog-skill-analysis>=1.2.1) (2.7.0)\n",
      "Requirement already satisfied, skipping upgrade: ibm-cos-sdk-s3transfer==2.7.0 in /opt/conda/envs/Python-3.7-main/lib/python3.7/site-packages (from ibm-cos-sdk==2.7.0->assistant-dialog-skill-analysis>=1.2.1) (2.7.0)\n",
      "Requirement already satisfied, skipping upgrade: idna<3,>=2.5 in /opt/conda/envs/Python-3.7-main/lib/python3.7/site-packages (from requests<3.0.0,>=2.13.0->spacy==2.3.2->assistant-dialog-skill-analysis>=1.2.1) (2.9)\n",
      "Requirement already satisfied, skipping upgrade: certifi>=2017.4.17 in /opt/conda/envs/Python-3.7-main/lib/python3.7/site-packages (from requests<3.0.0,>=2.13.0->spacy==2.3.2->assistant-dialog-skill-analysis>=1.2.1) (2020.6.20)\n",
      "Requirement already satisfied, skipping upgrade: chardet<4,>=3.0.2 in /opt/conda/envs/Python-3.7-main/lib/python3.7/site-packages (from requests<3.0.0,>=2.13.0->spacy==2.3.2->assistant-dialog-skill-analysis>=1.2.1) (3.0.4)\n",
      "Requirement already satisfied, skipping upgrade: urllib3!=1.25.0,!=1.25.1,<1.26,>=1.21.1 in /opt/conda/envs/Python-3.7-main/lib/python3.7/site-packages (from requests<3.0.0,>=2.13.0->spacy==2.3.2->assistant-dialog-skill-analysis>=1.2.1) (1.25.9)\n",
      "Requirement already satisfied, skipping upgrade: importlib-metadata>=0.20; python_version < \"3.8\" in /opt/conda/envs/Python-3.7-main/lib/python3.7/site-packages (from catalogue<1.1.0,>=0.0.7->spacy==2.3.2->assistant-dialog-skill-analysis>=1.2.1) (1.6.1)\n",
      "Requirement already satisfied, skipping upgrade: pygments in /opt/conda/envs/Python-3.7-main/lib/python3.7/site-packages (from jupyter-console->jupyter->assistant-dialog-skill-analysis>=1.2.1) (2.6.1)\n",
      "Requirement already satisfied, skipping upgrade: prompt-toolkit!=3.0.0,!=3.0.1,<3.1.0,>=2.0.0 in /opt/conda/envs/Python-3.7-main/lib/python3.7/site-packages (from jupyter-console->jupyter->assistant-dialog-skill-analysis>=1.2.1) (3.0.5)\n",
      "Requirement already satisfied, skipping upgrade: ipython in /opt/conda/envs/Python-3.7-main/lib/python3.7/site-packages (from jupyter-console->jupyter->assistant-dialog-skill-analysis>=1.2.1) (7.15.0)\n",
      "Requirement already satisfied, skipping upgrade: jupyter-client in /opt/conda/envs/Python-3.7-main/lib/python3.7/site-packages (from jupyter-console->jupyter->assistant-dialog-skill-analysis>=1.2.1) (6.1.3)\n",
      "Requirement already satisfied, skipping upgrade: pyzmq>=17.1 in /opt/conda/envs/Python-3.7-main/lib/python3.7/site-packages (from qtconsole->jupyter->assistant-dialog-skill-analysis>=1.2.1) (19.0.1)\n",
      "Requirement already satisfied, skipping upgrade: jupyter-core in /opt/conda/envs/Python-3.7-main/lib/python3.7/site-packages (from qtconsole->jupyter->assistant-dialog-skill-analysis>=1.2.1) (4.6.3)\n",
      "Requirement already satisfied, skipping upgrade: traitlets in /opt/conda/envs/Python-3.7-main/lib/python3.7/site-packages (from qtconsole->jupyter->assistant-dialog-skill-analysis>=1.2.1) (4.3.3)\n",
      "Requirement already satisfied, skipping upgrade: ipython-genutils in /opt/conda/envs/Python-3.7-main/lib/python3.7/site-packages (from qtconsole->jupyter->assistant-dialog-skill-analysis>=1.2.1) (0.2.0)\n",
      "Requirement already satisfied, skipping upgrade: qtpy in /opt/conda/envs/Python-3.7-main/lib/python3.7/site-packages (from qtconsole->jupyter->assistant-dialog-skill-analysis>=1.2.1) (1.9.0)\n",
      "Requirement already satisfied, skipping upgrade: widgetsnbextension~=3.5.0 in /opt/conda/envs/Python-3.7-main/lib/python3.7/site-packages (from ipywidgets->jupyter->assistant-dialog-skill-analysis>=1.2.1) (3.5.1)\n",
      "Requirement already satisfied, skipping upgrade: nbformat>=4.2.0 in /opt/conda/envs/Python-3.7-main/lib/python3.7/site-packages (from ipywidgets->jupyter->assistant-dialog-skill-analysis>=1.2.1) (5.0.7)\n",
      "Requirement already satisfied, skipping upgrade: jinja2 in /opt/conda/envs/Python-3.7-main/lib/python3.7/site-packages (from notebook->jupyter->assistant-dialog-skill-analysis>=1.2.1) (2.11.2)\n",
      "Requirement already satisfied, skipping upgrade: Send2Trash in /opt/conda/envs/Python-3.7-main/lib/python3.7/site-packages (from notebook->jupyter->assistant-dialog-skill-analysis>=1.2.1) (1.5.0)\n",
      "Requirement already satisfied, skipping upgrade: tornado>=5.0 in /opt/conda/envs/Python-3.7-main/lib/python3.7/site-packages (from notebook->jupyter->assistant-dialog-skill-analysis>=1.2.1) (6.0.4)\n",
      "Requirement already satisfied, skipping upgrade: terminado>=0.8.1 in /opt/conda/envs/Python-3.7-main/lib/python3.7/site-packages (from notebook->jupyter->assistant-dialog-skill-analysis>=1.2.1) (0.8.3)\n",
      "Requirement already satisfied, skipping upgrade: prometheus-client in /opt/conda/envs/Python-3.7-main/lib/python3.7/site-packages (from notebook->jupyter->assistant-dialog-skill-analysis>=1.2.1) (0.8.0)\n",
      "Requirement already satisfied, skipping upgrade: testpath in /opt/conda/envs/Python-3.7-main/lib/python3.7/site-packages (from nbconvert->jupyter->assistant-dialog-skill-analysis>=1.2.1) (0.4.4)\n",
      "Requirement already satisfied, skipping upgrade: mistune<2,>=0.8.1 in /opt/conda/envs/Python-3.7-main/lib/python3.7/site-packages (from nbconvert->jupyter->assistant-dialog-skill-analysis>=1.2.1) (0.8.4)\n",
      "Requirement already satisfied, skipping upgrade: defusedxml in /opt/conda/envs/Python-3.7-main/lib/python3.7/site-packages (from nbconvert->jupyter->assistant-dialog-skill-analysis>=1.2.1) (0.6.0)\n",
      "Requirement already satisfied, skipping upgrade: entrypoints>=0.2.2 in /opt/conda/envs/Python-3.7-main/lib/python3.7/site-packages (from nbconvert->jupyter->assistant-dialog-skill-analysis>=1.2.1) (0.3)\n",
      "Requirement already satisfied, skipping upgrade: pandocfilters>=1.4.1 in /opt/conda/envs/Python-3.7-main/lib/python3.7/site-packages (from nbconvert->jupyter->assistant-dialog-skill-analysis>=1.2.1) (1.4.2)\n",
      "Requirement already satisfied, skipping upgrade: bleach in /opt/conda/envs/Python-3.7-main/lib/python3.7/site-packages (from nbconvert->jupyter->assistant-dialog-skill-analysis>=1.2.1) (3.1.5)\n",
      "Requirement already satisfied, skipping upgrade: six in /opt/conda/envs/Python-3.7-main/lib/python3.7/site-packages (from websocket-client==0.48.0->ibm-watson>=4.5.0->assistant-dialog-skill-analysis>=1.2.1) (1.15.0)\n",
      "Requirement already satisfied, skipping upgrade: PyJWT>=1.7.1 in /opt/conda/envs/Python-3.7-main/lib/python3.7/site-packages (from ibm-cloud-sdk-core==1.7.3->ibm-watson>=4.5.0->assistant-dialog-skill-analysis>=1.2.1) (1.7.1)\n",
      "Requirement already satisfied, skipping upgrade: docutils<0.16,>=0.10 in /opt/conda/envs/Python-3.7-main/lib/python3.7/site-packages (from ibm-cos-sdk-core==2.7.0->ibm-cos-sdk==2.7.0->assistant-dialog-skill-analysis>=1.2.1) (0.15.2)\n",
      "Requirement already satisfied, skipping upgrade: zipp>=0.5 in /opt/conda/envs/Python-3.7-main/lib/python3.7/site-packages (from importlib-metadata>=0.20; python_version < \"3.8\"->catalogue<1.1.0,>=0.0.7->spacy==2.3.2->assistant-dialog-skill-analysis>=1.2.1) (3.1.0)\n",
      "Requirement already satisfied, skipping upgrade: wcwidth in /opt/conda/envs/Python-3.7-main/lib/python3.7/site-packages (from prompt-toolkit!=3.0.0,!=3.0.1,<3.1.0,>=2.0.0->jupyter-console->jupyter->assistant-dialog-skill-analysis>=1.2.1) (0.2.4)\n",
      "Requirement already satisfied, skipping upgrade: pickleshare in /opt/conda/envs/Python-3.7-main/lib/python3.7/site-packages (from ipython->jupyter-console->jupyter->assistant-dialog-skill-analysis>=1.2.1) (0.7.5)\n",
      "Requirement already satisfied, skipping upgrade: backcall in /opt/conda/envs/Python-3.7-main/lib/python3.7/site-packages (from ipython->jupyter-console->jupyter->assistant-dialog-skill-analysis>=1.2.1) (0.2.0)\n",
      "Requirement already satisfied, skipping upgrade: jedi>=0.10 in /opt/conda/envs/Python-3.7-main/lib/python3.7/site-packages (from ipython->jupyter-console->jupyter->assistant-dialog-skill-analysis>=1.2.1) (0.17.1)\n",
      "Requirement already satisfied, skipping upgrade: pexpect; sys_platform != \"win32\" in /opt/conda/envs/Python-3.7-main/lib/python3.7/site-packages (from ipython->jupyter-console->jupyter->assistant-dialog-skill-analysis>=1.2.1) (4.8.0)\n",
      "Requirement already satisfied, skipping upgrade: decorator in /opt/conda/envs/Python-3.7-main/lib/python3.7/site-packages (from ipython->jupyter-console->jupyter->assistant-dialog-skill-analysis>=1.2.1) (4.4.2)\n",
      "Requirement already satisfied, skipping upgrade: jsonschema!=2.5.0,>=2.4 in /opt/conda/envs/Python-3.7-main/lib/python3.7/site-packages (from nbformat>=4.2.0->ipywidgets->jupyter->assistant-dialog-skill-analysis>=1.2.1) (3.2.0)\n",
      "Requirement already satisfied, skipping upgrade: MarkupSafe>=0.23 in /opt/conda/envs/Python-3.7-main/lib/python3.7/site-packages (from jinja2->notebook->jupyter->assistant-dialog-skill-analysis>=1.2.1) (1.1.1)\n",
      "Requirement already satisfied, skipping upgrade: packaging in /opt/conda/envs/Python-3.7-main/lib/python3.7/site-packages (from bleach->nbconvert->jupyter->assistant-dialog-skill-analysis>=1.2.1) (20.4)\n",
      "Requirement already satisfied, skipping upgrade: webencodings in /opt/conda/envs/Python-3.7-main/lib/python3.7/site-packages (from bleach->nbconvert->jupyter->assistant-dialog-skill-analysis>=1.2.1) (0.5.1)\n",
      "Requirement already satisfied, skipping upgrade: parso<0.8.0,>=0.7.0 in /opt/conda/envs/Python-3.7-main/lib/python3.7/site-packages (from jedi>=0.10->ipython->jupyter-console->jupyter->assistant-dialog-skill-analysis>=1.2.1) (0.7.0)\n",
      "Requirement already satisfied, skipping upgrade: ptyprocess>=0.5 in /opt/conda/envs/Python-3.7-main/lib/python3.7/site-packages (from pexpect; sys_platform != \"win32\"->ipython->jupyter-console->jupyter->assistant-dialog-skill-analysis>=1.2.1) (0.6.0)\n",
      "Requirement already satisfied, skipping upgrade: pyrsistent>=0.14.0 in /opt/conda/envs/Python-3.7-main/lib/python3.7/site-packages (from jsonschema!=2.5.0,>=2.4->nbformat>=4.2.0->ipywidgets->jupyter->assistant-dialog-skill-analysis>=1.2.1) (0.16.0)\n",
      "Requirement already satisfied, skipping upgrade: attrs>=17.4.0 in /opt/conda/envs/Python-3.7-main/lib/python3.7/site-packages (from jsonschema!=2.5.0,>=2.4->nbformat>=4.2.0->ipywidgets->jupyter->assistant-dialog-skill-analysis>=1.2.1) (19.3.0)\n"
     ]
    }
   ],
   "source": [
    "!pip install --index-url https://pypi.python.org/simple  -U \"pip\"\n",
    "!pip install --index-url https://pypi.python.org/simple  -U \"assistant-dialog-skill-analysis>=1.2.1\""
   ]
  },
  {
   "cell_type": "code",
   "execution_count": 3,
   "metadata": {},
   "outputs": [
    {
     "name": "stderr",
     "output_type": "stream",
     "text": [
      "[nltk_data] Downloading package stopwords to /home/wsuser/nltk_data...\n",
      "[nltk_data]   Package stopwords is already up-to-date!\n",
      "[nltk_data] Downloading package punkt to /home/wsuser/nltk_data...\n",
      "[nltk_data]   Package punkt is already up-to-date!\n"
     ]
    }
   ],
   "source": [
    "# Standard python libraries\n",
    "import sys, os\n",
    "import json\n",
    "import importlib\n",
    "from collections import Counter\n",
    "\n",
    "# External python libraries\n",
    "import pandas as pd\n",
    "import numpy as np\n",
    "import nltk\n",
    "nltk.download('stopwords')\n",
    "nltk.download('punkt')\n",
    "import ibm_watson\n",
    "\n",
    "# Internal python libraries\n",
    "from assistant_dialog_skill_analysis.utils import skills_util, lang_utils\n",
    "from assistant_dialog_skill_analysis.highlighting import highlighter\n",
    "from assistant_dialog_skill_analysis.data_analysis import summary_generator\n",
    "from assistant_dialog_skill_analysis.data_analysis import divergence_analyzer\n",
    "from assistant_dialog_skill_analysis.data_analysis import similarity_analyzer\n",
    "from assistant_dialog_skill_analysis.term_analysis import chi2_analyzer\n",
    "from assistant_dialog_skill_analysis.term_analysis import keyword_analyzer\n",
    "from assistant_dialog_skill_analysis.term_analysis import entity_analyzer\n",
    "from assistant_dialog_skill_analysis.confidence_analysis import confidence_analyzer\n",
    "from assistant_dialog_skill_analysis.inferencing import inferencer\n",
    "from assistant_dialog_skill_analysis.experimentation import data_manipulator"
   ]
  },
  {
   "cell_type": "markdown",
   "metadata": {},
   "source": [
    "## Table of Contents\n",
    "\n",
    "1. [Part 1: Training Data Analysis](#part1)<br>\n",
    "    1.1 [Process Dialog Skill Training Data](#part1.1)<br>\n",
    "    1.2 [Data Distribution Analsis](#part1.2)<br>\n",
    "    1.3 [Term Analysis - Correlation Analysis](#part1.3)<br>\n",
    "    1.4 [Term Analysis - Heat Map](#part1.4)<br>\n",
    "    1.5 [Ambiguity in Training Data](#part1.5)<br>\n",
    "2. [Part 2: Model Analysis](#part2)<br>\n",
    "    2.1 [Model Analysis](#part2.1)<br>\n",
    "3. [Part 3: Advanced Analysis](#part3)<br>\n",
    "    3.1 [Analysis using Confidence Thresholds](#part3.1)<br>\n",
    "    3.2 [Term Importance Highlighting](#part3.2)<br>\n",
    "    3.3 [Abnormal Confidence Analysis](#part3.3)<br>\n",
    "    3.4 [Analysis using Correlated Entities per Intent](#part3.4)<br>\n",
    "4. [Summary](#part4)<br>"
   ]
  },
  {
   "cell_type": "markdown",
   "metadata": {},
   "source": [
    "<a id='part1'></a>\n",
    "# Part 1 : Training Data Analysis"
   ]
  },
  {
   "cell_type": "markdown",
   "metadata": {},
   "source": [
    "<a id='setup'></a>\n",
    "## Setup: Access Training Data\n",
    "\n",
    "Please provide access credentials for an existing dialog skill that you would like to analyze.  \n",
    "Have your API Key & Workspace ID values handy"
   ]
  },
  {
   "cell_type": "code",
   "execution_count": 4,
   "metadata": {},
   "outputs": [
    {
     "name": "stdout",
     "output_type": "stream",
     "text": [
      "Please enter apikey: ········\n",
      "Please enter workspace-id: ········\n"
     ]
    }
   ],
   "source": [
    "importlib.reload(skills_util)\n",
    "\n",
    "# Change Assistant API version if needed\n",
    "# Find Latest --> https://cloud.ibm.com/docs/services/assistant?topic=assistant-release-notes\n",
    "API_VERSION = '2020-04-01'\n",
    "\n",
    "# choose a datacenter to use\n",
    "datacenters = {\n",
    "    'dallas'    : ('https://gateway.watsonplatform.net/assistant/api',         'https://iam.cloud.ibm.com/identity/token'),\n",
    "    'washington': ('https://gateway-wdc.watsonplatform.net/assistant/api',     'https://iam.cloud.ibm.com/identity/token'),\n",
    "    'frankfurt' : ('https://gateway-fra.watsonplatform.net/assistant/api',     'https://iam.cloud.ibm.com/identity/token'),\n",
    "    'sydney'    : ('https://gateway-syd.watsonplatform.net/assistant/api',     'https://iam.cloud.ibm.com/identity/token'),\n",
    "    'tokyo'     : ('https://gateway-tok.watsonplatform.net/assistant/api',     'https://iam.cloud.ibm.com/identity/token'),\n",
    "    'london'    : ('https://gateway-lon.watsonplatform.net/assistant/api',     'https://iam.cloud.ibm.com/identity/token'),\n",
    "    'staging'   : ('https://gateway-s.watsonplatform.net/assistant/api',       'https://iam.cloud.ibm.com/identity/token'),\n",
    "    'internal'  : ('https://api.us-south.assistant.test.watson.cloud.ibm.com', 'https://iam.test.cloud.ibm.com/identity/token')\n",
    "}\n",
    "URL, authenticator_url = datacenters['dallas']\n",
    "\n",
    "# For ICP(IBM Cloud Private), you can disable SSL verification by changing this to True\n",
    "DISABLE_SSL_VERTIFICATION = False \n",
    "\n",
    "# By default we only need the IAM API Key & the Workspace ID\n",
    "\n",
    "# If you run the notebook regularly you can uncomment the two lines below\n",
    "# & comment out the line after it\n",
    "#iam_apikey = '###'\n",
    "#workspace_id = '###'\n",
    "iam_apikey, workspace_id = skills_util.input_credentials()\n",
    "conversation = skills_util.retrieve_conversation(iam_apikey=iam_apikey,\n",
    "                                                 url=URL,\n",
    "                                                 api_version=API_VERSION,\n",
    "                                                 authenticator_url=authenticator_url)\n",
    "\n",
    "#If you do not have IAM based API Keys\n",
    "#but have access to a Username, Password & Workspace ID\n",
    "#You can comment out the two lines above & uncomment the lines below to authenticate\n",
    "# username = 'apikey'\n",
    "# password = '###'\n",
    "# workspace_id = '###'\n",
    "# conversation = skills_util.retrieve_conversation(username=username,\n",
    "#                                              password=password,                                                       \n",
    "#                                              url=URL,\n",
    "#                                              api_version=API_VERSION)\n",
    "\n",
    "\n",
    "conversation.set_disable_ssl_verification(DISABLE_SSL_VERTIFICATION)\n",
    "\n",
    "workspace = skills_util.retrieve_workspace(workspace_id=workspace_id,\n",
    "                                           conversation=conversation)"
   ]
  },
  {
   "cell_type": "markdown",
   "metadata": {},
   "source": [
    "Pick the language code correspond to your workspace data:   \n",
    "*Supported Language codes:* **en, fr, de, es, cs, it, pt**"
   ]
  },
  {
   "cell_type": "code",
   "execution_count": 5,
   "metadata": {},
   "outputs": [],
   "source": [
    "importlib.reload(lang_utils)\n",
    "LANGUAGE_CODE=\"en\" # change the language code to work with other languages\n",
    "lang_util = lang_utils.LanguageUtility(LANGUAGE_CODE)"
   ]
  },
  {
   "cell_type": "code",
   "execution_count": 6,
   "metadata": {},
   "outputs": [
    {
     "data": {
      "text/markdown": [
       "### Sample of Utterances & Intents"
      ],
      "text/plain": [
       "<IPython.core.display.Markdown object>"
      ]
     },
     "metadata": {},
     "output_type": "display_data"
    },
    {
     "data": {
      "text/html": [
       "<table border=\"1\" class=\"dataframe\">\n",
       "  <thead>\n",
       "    <tr style=\"text-align: right;\">\n",
       "      <th>utterance</th>\n",
       "      <th>intent</th>\n",
       "      <th>tokens</th>\n",
       "    </tr>\n",
       "  </thead>\n",
       "  <tbody>\n",
       "    <tr>\n",
       "      <td>what are your hours</td>\n",
       "      <td>Customer_Care_Store_Hours</td>\n",
       "      <td>[what, are, your, hour]</td>\n",
       "    </tr>\n",
       "    <tr>\n",
       "      <td>representative</td>\n",
       "      <td>General_Connect_to_Agent</td>\n",
       "      <td>[repres]</td>\n",
       "    </tr>\n",
       "    <tr>\n",
       "      <td>looking good eve</td>\n",
       "      <td>General_Greetings</td>\n",
       "      <td>[look, good, eve]</td>\n",
       "    </tr>\n",
       "    <tr>\n",
       "      <td>how late are you open</td>\n",
       "      <td>Customer_Care_Store_Hours</td>\n",
       "      <td>[how, late, are, you, open]</td>\n",
       "    </tr>\n",
       "    <tr>\n",
       "      <td>i would like to speak to someone</td>\n",
       "      <td>General_Connect_to_Agent</td>\n",
       "      <td>[i, would, like, to, speak, to, someon]</td>\n",
       "    </tr>\n",
       "    <tr>\n",
       "      <td>i need to speak to a representative  how would i go about doing so</td>\n",
       "      <td>General_Connect_to_Agent</td>\n",
       "      <td>[i, need, to, speak, to, a, repres, how, would, i, go, about, do, so]</td>\n",
       "    </tr>\n",
       "    <tr>\n",
       "      <td>i d like to go to a store</td>\n",
       "      <td>Customer_Care_Store_Location</td>\n",
       "      <td>[i, d, like, to, go, to, a, store]</td>\n",
       "    </tr>\n",
       "    <tr>\n",
       "      <td>are the stores open early</td>\n",
       "      <td>Customer_Care_Store_Hours</td>\n",
       "      <td>[are, the, store, open, earli]</td>\n",
       "    </tr>\n",
       "    <tr>\n",
       "      <td>what are the hours of operation</td>\n",
       "      <td>Customer_Care_Store_Hours</td>\n",
       "      <td>[what, are, the, hour, of, oper]</td>\n",
       "    </tr>\n",
       "    <tr>\n",
       "      <td>hours of operation</td>\n",
       "      <td>Customer_Care_Store_Hours</td>\n",
       "      <td>[hour, of, oper]</td>\n",
       "    </tr>\n",
       "  </tbody>\n",
       "</table>"
      ],
      "text/plain": [
       "<IPython.core.display.HTML object>"
      ]
     },
     "metadata": {},
     "output_type": "display_data"
    },
    {
     "data": {
      "text/markdown": [
       "### Sample of Entities"
      ],
      "text/plain": [
       "<IPython.core.display.Markdown object>"
      ]
     },
     "metadata": {},
     "output_type": "display_data"
    },
    {
     "data": {
      "text/html": [
       "<table border=\"1\" class=\"dataframe\">\n",
       "  <thead>\n",
       "    <tr style=\"text-align: right;\">\n",
       "      <th>Entity</th>\n",
       "    </tr>\n",
       "  </thead>\n",
       "  <tbody>\n",
       "    <tr>\n",
       "      <td>sys-number</td>\n",
       "    </tr>\n",
       "    <tr>\n",
       "      <td>specialist</td>\n",
       "    </tr>\n",
       "    <tr>\n",
       "      <td>holiday</td>\n",
       "    </tr>\n",
       "    <tr>\n",
       "      <td>sys-time</td>\n",
       "    </tr>\n",
       "    <tr>\n",
       "      <td>landmark</td>\n",
       "    </tr>\n",
       "    <tr>\n",
       "      <td>reply</td>\n",
       "    </tr>\n",
       "    <tr>\n",
       "      <td>sys-location</td>\n",
       "    </tr>\n",
       "    <tr>\n",
       "      <td>sys-date</td>\n",
       "    </tr>\n",
       "    <tr>\n",
       "      <td>zip_code</td>\n",
       "    </tr>\n",
       "    <tr>\n",
       "      <td>sys-person</td>\n",
       "    </tr>\n",
       "  </tbody>\n",
       "</table>"
      ],
      "text/plain": [
       "<IPython.core.display.HTML object>"
      ]
     },
     "metadata": {},
     "output_type": "display_data"
    }
   ],
   "source": [
    "# Extract user workspace\n",
    "workspace_pd, workspace_vocabulary = skills_util.extract_workspace_data(workspace, language_util=lang_util)\n",
    "entity_dict = conversation.list_entities(workspace_id).get_result()\n",
    "entities_list = [item['entity'] for item in entity_dict['entities']]\n",
    "\n",
    "\n",
    "display(Markdown(\"### Sample of Utterances & Intents\"))\n",
    "display(HTML(workspace_pd.sample(n = len(workspace_pd) if len(workspace_pd)<10 else 10)\n",
    "             .to_html(index=False)))\n",
    "if entities_list:\n",
    "    display(Markdown(\"### Sample of Entities\"))\n",
    "    display(HTML(pd.DataFrame({\"Entity\":entities_list})\n",
    "                 .sample(n = len(entities_list) if len(entities_list)<10 else 10)\n",
    "                 .to_html(index=False)))"
   ]
  },
  {
   "cell_type": "markdown",
   "metadata": {},
   "source": [
    "<a id='part1.1'></a>\n",
    "## 1.1 Process Dialog Skill Training Data\n",
    "\n",
    "We generate summary statistics related to the given skill & workspace"
   ]
  },
  {
   "cell_type": "code",
   "execution_count": 7,
   "metadata": {},
   "outputs": [
    {
     "data": {
      "text/markdown": [
       "### Summary Statistics"
      ],
      "text/plain": [
       "<IPython.core.display.Markdown object>"
      ]
     },
     "metadata": {},
     "output_type": "display_data"
    },
    {
     "data": {
      "text/html": [
       "<div>\n",
       "<style scoped>\n",
       "    .dataframe tbody tr th:only-of-type {\n",
       "        vertical-align: middle;\n",
       "    }\n",
       "\n",
       "    .dataframe tbody tr th {\n",
       "        vertical-align: top;\n",
       "    }\n",
       "\n",
       "    .dataframe thead th {\n",
       "        text-align: right;\n",
       "    }\n",
       "</style>\n",
       "<table border=\"1\" class=\"dataframe\">\n",
       "  <thead>\n",
       "    <tr style=\"text-align: right;\">\n",
       "      <th></th>\n",
       "      <th>Data Characteristic</th>\n",
       "      <th>Value</th>\n",
       "    </tr>\n",
       "  </thead>\n",
       "  <tbody>\n",
       "    <tr>\n",
       "      <th>1</th>\n",
       "      <td>Total User Examples</td>\n",
       "      <td>184</td>\n",
       "    </tr>\n",
       "    <tr>\n",
       "      <th>2</th>\n",
       "      <td>Unique Intents</td>\n",
       "      <td>9</td>\n",
       "    </tr>\n",
       "    <tr>\n",
       "      <th>3</th>\n",
       "      <td>Average User Examples per Intent</td>\n",
       "      <td>20</td>\n",
       "    </tr>\n",
       "    <tr>\n",
       "      <th>4</th>\n",
       "      <td>Standard Deviation from Average</td>\n",
       "      <td>14</td>\n",
       "    </tr>\n",
       "    <tr>\n",
       "      <th>5</th>\n",
       "      <td>Total Number of Entities</td>\n",
       "      <td>11</td>\n",
       "    </tr>\n",
       "  </tbody>\n",
       "</table>\n",
       "</div>"
      ],
      "text/plain": [
       "                Data Characteristic  Value\n",
       "1               Total User Examples    184\n",
       "2                    Unique Intents      9\n",
       "3  Average User Examples per Intent     20\n",
       "4   Standard Deviation from Average     14\n",
       "5          Total Number of Entities     11"
      ]
     },
     "metadata": {},
     "output_type": "display_data"
    }
   ],
   "source": [
    "importlib.reload(summary_generator)\n",
    "summary_generator.generate_summary_statistics(workspace_pd, entities_list)"
   ]
  },
  {
   "cell_type": "markdown",
   "metadata": {},
   "source": [
    "<a id='part1.2'></a>\n",
    "## 1.2 Data Distribution Analysis"
   ]
  },
  {
   "cell_type": "markdown",
   "metadata": {},
   "source": [
    "### Class Imbalance Analysis\n",
    "\n",
    "We analyze whether the dataset contains class imbalance by checking whether the largest intent contains less than double the number of user examples contained in the smallest intent. Presence of imbalance does not necessarily indicate an issue, please review the actions section below"
   ]
  },
  {
   "cell_type": "code",
   "execution_count": 8,
   "metadata": {},
   "outputs": [
    {
     "data": {
      "text/markdown": [
       "### <font style='color:rgb(165, 34, 34);'> Class Imbalance Detected         </font>"
      ],
      "text/plain": [
       "<IPython.core.display.Markdown object>"
      ]
     },
     "metadata": {},
     "output_type": "display_data"
    },
    {
     "data": {
      "text/markdown": [
       "- Data could be potentially biased towards intents with more user         examples"
      ],
      "text/plain": [
       "<IPython.core.display.Markdown object>"
      ]
     },
     "metadata": {},
     "output_type": "display_data"
    },
    {
     "data": {
      "text/markdown": [
       "- E.g. Intent < General_Connect_to_Agent > has < 47 > user examples while intent < Goodbye > has         just < 6 > user examples "
      ],
      "text/plain": [
       "<IPython.core.display.Markdown object>"
      ]
     },
     "metadata": {},
     "output_type": "display_data"
    }
   ],
   "source": [
    "importlib.reload(summary_generator)\n",
    "class_imb_flag = summary_generator.class_imbalance_analysis(workspace_pd)"
   ]
  },
  {
   "cell_type": "markdown",
   "metadata": {},
   "source": [
    "### Distribution of User Examples by Intent\n",
    "We display the distribution of intents vs the number of examples per intent (sorted by the number of examples per intent) below. Ideally we should not have large variations in terms of number of user examples for various intents. "
   ]
  },
  {
   "cell_type": "code",
   "execution_count": 9,
   "metadata": {},
   "outputs": [
    {
     "data": {
      "text/markdown": [
       "## <p style=\"text-align: center;\">Sorted Distribution of User Examples                      per Intent</p>"
      ],
      "text/plain": [
       "<IPython.core.display.Markdown object>"
      ]
     },
     "metadata": {},
     "output_type": "display_data"
    },
    {
     "name": "stderr",
     "output_type": "stream",
     "text": [
      "findfont: Font family ['normal'] not found. Falling back to DejaVu Sans.\n"
     ]
    },
    {
     "data": {
      "image/png": "[encoded data removed]",
      "text/plain": [
       "<Figure size 1080x720 with 1 Axes>"
      ]
     },
     "metadata": {},
     "output_type": "display_data"
    }
   ],
   "source": [
    "importlib.reload(summary_generator)\n",
    "summary_generator.scatter_plot_intent_dist(workspace_pd)"
   ]
  },
  {
   "cell_type": "code",
   "execution_count": 10,
   "metadata": {},
   "outputs": [
    {
     "data": {
      "text/markdown": [
       "### Sorted Distribution of User Examples per Intent"
      ],
      "text/plain": [
       "<IPython.core.display.Markdown object>"
      ]
     },
     "metadata": {},
     "output_type": "display_data"
    },
    {
     "data": {
      "text/html": [
       "<div>\n",
       "<style scoped>\n",
       "    .dataframe tbody tr th:only-of-type {\n",
       "        vertical-align: middle;\n",
       "    }\n",
       "\n",
       "    .dataframe tbody tr th {\n",
       "        vertical-align: top;\n",
       "    }\n",
       "\n",
       "    .dataframe thead th {\n",
       "        text-align: right;\n",
       "    }\n",
       "</style>\n",
       "<table border=\"1\" class=\"dataframe\">\n",
       "  <thead>\n",
       "    <tr style=\"text-align: right;\">\n",
       "      <th></th>\n",
       "      <th>Intent</th>\n",
       "      <th>Number of User Examples</th>\n",
       "    </tr>\n",
       "  </thead>\n",
       "  <tbody>\n",
       "    <tr>\n",
       "      <th>1</th>\n",
       "      <td>Goodbye</td>\n",
       "      <td>6</td>\n",
       "    </tr>\n",
       "    <tr>\n",
       "      <th>2</th>\n",
       "      <td>Help</td>\n",
       "      <td>6</td>\n",
       "    </tr>\n",
       "    <tr>\n",
       "      <th>3</th>\n",
       "      <td>Cancel</td>\n",
       "      <td>7</td>\n",
       "    </tr>\n",
       "    <tr>\n",
       "      <th>4</th>\n",
       "      <td>Thanks</td>\n",
       "      <td>8</td>\n",
       "    </tr>\n",
       "    <tr>\n",
       "      <th>5</th>\n",
       "      <td>Customer_Care_Appointments</td>\n",
       "      <td>19</td>\n",
       "    </tr>\n",
       "    <tr>\n",
       "      <th>6</th>\n",
       "      <td>Customer_Care_Store_Location</td>\n",
       "      <td>23</td>\n",
       "    </tr>\n",
       "    <tr>\n",
       "      <th>7</th>\n",
       "      <td>General_Greetings</td>\n",
       "      <td>30</td>\n",
       "    </tr>\n",
       "    <tr>\n",
       "      <th>8</th>\n",
       "      <td>Customer_Care_Store_Hours</td>\n",
       "      <td>38</td>\n",
       "    </tr>\n",
       "    <tr>\n",
       "      <th>9</th>\n",
       "      <td>General_Connect_to_Agent</td>\n",
       "      <td>47</td>\n",
       "    </tr>\n",
       "  </tbody>\n",
       "</table>\n",
       "</div>"
      ],
      "text/plain": [
       "                         Intent  Number of User Examples\n",
       "1                       Goodbye                        6\n",
       "2                          Help                        6\n",
       "3                        Cancel                        7\n",
       "4                        Thanks                        8\n",
       "5    Customer_Care_Appointments                       19\n",
       "6  Customer_Care_Store_Location                       23\n",
       "7             General_Greetings                       30\n",
       "8     Customer_Care_Store_Hours                       38\n",
       "9      General_Connect_to_Agent                       47"
      ]
     },
     "metadata": {},
     "output_type": "display_data"
    }
   ],
   "source": [
    "importlib.reload(summary_generator)\n",
    "summary_generator.show_user_examples_per_intent(workspace_pd)"
   ]
  },
  {
   "cell_type": "markdown",
   "metadata": {},
   "source": [
    "### Actions for Class Imbalance\n",
    "\n",
    "Class imbalance will not always lead to lower accuracy. All intents (classes) thus need not have the same number of examples.\n",
    "\n",
    "1. For intents like `updateBankAccount` and `addNewAccountHolder` where the semantics difference between them is subtler, the number of examples per intent needs to be somewhat balanced else the classifier might favor the intent with the higher number of examples.\n",
    "2. For intents like `greetings` that are semantically distinct from other intents like `updateBankAccount`, it may be okay for it to have fewer examples per intent and still be easy for the intent detector to classify.\n",
    "\n",
    "If during testing it seems like intent classification accuracy is lower than expected, we advise you to re-examine this distribution analysis.  \n",
    "\n",
    "With regard to sorted distribution of examples per intent, if the sorted number of user examples varies a lot across different intents, it can be a potential source of bias for intent detection. Large imbalances in general should be avoided. This can potentially lead to lower accuracy. If your graph displays this characteristic, this might be a source of error.\n",
    "\n",
    "For further guidance on adding more examples to help balance out your distribution, please refer to \n",
    "<a href=\"https://cloud.ibm.com/docs/services/assistant?topic=assistant-intent-recommendations#intent-recommendations-get-example-recommendations\" target=\"_blank\" rel=\"noopener no referrer\">Intent-Example-Recommendation</a>"
   ]
  },
  {
   "cell_type": "markdown",
   "metadata": {},
   "source": [
    "<a id='part1.3'></a>\n",
    "## 1.3 Term Analysis - Correlation Analysis"
   ]
  },
  {
   "cell_type": "markdown",
   "metadata": {},
   "source": [
    "### Retrieve the most correlated unigrams and bigrams for each intent\n",
    "\n",
    "We perform a chi square significance test using count features to determine the terms that are most correlated with each intent in the dataset. \n",
    "\n",
    "A `unigram` is a single word, while a `bigram` is two consecutive words from within the training data. E.g. If you have a sentence like `Thank you for your service`, each of the words in the sentence are considered unigrams while terms like `Thank you`, `your service` are considered bigrams.\n",
    "\n",
    "If you see terms like `hi`, `hello` correlated with a `greeting` intent that would be reasonable. But if you see terms like `table`, `chair` correlated with the `greeting` intent that would be anomalous. A scan of the most correlated unigrams & bigrams for each intent can help you spot potential anomalies within your training data.\n",
    "\n",
    "**Note**: We ignore the following common words from consideration `an, a, in, on, be, or, of, a, and, can, is, to, the, i`"
   ]
  },
  {
   "cell_type": "code",
   "execution_count": 11,
   "metadata": {},
   "outputs": [
    {
     "data": {
      "text/markdown": [
       "## Chi-squared Analysis"
      ],
      "text/plain": [
       "<IPython.core.display.Markdown object>"
      ]
     },
     "metadata": {},
     "output_type": "display_data"
    },
    {
     "data": {
      "text/html": [
       "<div>\n",
       "<style scoped>\n",
       "    .dataframe tbody tr th:only-of-type {\n",
       "        vertical-align: middle;\n",
       "    }\n",
       "\n",
       "    .dataframe tbody tr th {\n",
       "        vertical-align: top;\n",
       "    }\n",
       "\n",
       "    .dataframe thead th {\n",
       "        text-align: right;\n",
       "    }\n",
       "</style>\n",
       "<table border=\"1\" class=\"dataframe\">\n",
       "  <thead>\n",
       "    <tr style=\"text-align: right;\">\n",
       "      <th></th>\n",
       "      <th>Intent</th>\n",
       "      <th>Correlated Unigrams</th>\n",
       "      <th>Correlated Bigrams</th>\n",
       "    </tr>\n",
       "  </thead>\n",
       "  <tbody>\n",
       "    <tr>\n",
       "      <th>1</th>\n",
       "      <td>General_Connect_to_Agent</td>\n",
       "      <td>want, pleas, talk, speak, agent</td>\n",
       "      <td>do not, want speak, speak human, connect me, want talk</td>\n",
       "    </tr>\n",
       "    <tr>\n",
       "      <th>2</th>\n",
       "      <td>Customer_Care_Store_Hours</td>\n",
       "      <td>close, time, what, are, open</td>\n",
       "      <td>do you, what time, what are, you close, you open</td>\n",
       "    </tr>\n",
       "    <tr>\n",
       "      <th>3</th>\n",
       "      <td>General_Greetings</td>\n",
       "      <td>hi, been, hello, good, hey</td>\n",
       "      <td>help here, have you, hey there, you been, how are</td>\n",
       "    </tr>\n",
       "    <tr>\n",
       "      <th>4</th>\n",
       "      <td>Customer_Care_Store_Location</td>\n",
       "      <td>address, give, find, where, locat</td>\n",
       "      <td>give me, do get, find store, where are, how do</td>\n",
       "    </tr>\n",
       "    <tr>\n",
       "      <th>5</th>\n",
       "      <td>Customer_Care_Appointments</td>\n",
       "      <td>next, visit, face, make, appoint</td>\n",
       "      <td>like discuss, d like, like make, face face, make appoint</td>\n",
       "    </tr>\n",
       "    <tr>\n",
       "      <th>6</th>\n",
       "      <td>Thanks</td>\n",
       "      <td>mani, nice, much, appreci, thank</td>\n",
       "      <td>you veri, much appreci, mani thank, appreci it, thank you</td>\n",
       "    </tr>\n",
       "    <tr>\n",
       "      <th>7</th>\n",
       "      <td>Cancel</td>\n",
       "      <td>never, forget, cancel, mind, anymor</td>\n",
       "      <td>want tabl, forget it, cancel that, cancel request, anymor anymor</td>\n",
       "    </tr>\n",
       "    <tr>\n",
       "      <th>8</th>\n",
       "      <td>Help</td>\n",
       "      <td>need, me, assist, decid, help</td>\n",
       "      <td>you assist, me decid, need assist, you help, help me</td>\n",
       "    </tr>\n",
       "    <tr>\n",
       "      <th>9</th>\n",
       "      <td>Goodbye</td>\n",
       "      <td>see, arrivederci, ciao, ya, bye</td>\n",
       "      <td>good bye, see ya, so long</td>\n",
       "    </tr>\n",
       "  </tbody>\n",
       "</table>\n",
       "</div>"
      ],
      "text/plain": [
       "                         Intent                  Correlated Unigrams  \\\n",
       "1      General_Connect_to_Agent      want, pleas, talk, speak, agent   \n",
       "2     Customer_Care_Store_Hours         close, time, what, are, open   \n",
       "3             General_Greetings           hi, been, hello, good, hey   \n",
       "4  Customer_Care_Store_Location    address, give, find, where, locat   \n",
       "5    Customer_Care_Appointments     next, visit, face, make, appoint   \n",
       "6                        Thanks     mani, nice, much, appreci, thank   \n",
       "7                        Cancel  never, forget, cancel, mind, anymor   \n",
       "8                          Help        need, me, assist, decid, help   \n",
       "9                       Goodbye      see, arrivederci, ciao, ya, bye   \n",
       "\n",
       "                                                 Correlated Bigrams  \n",
       "1            do not, want speak, speak human, connect me, want talk  \n",
       "2                  do you, what time, what are, you close, you open  \n",
       "3                 help here, have you, hey there, you been, how are  \n",
       "4                    give me, do get, find store, where are, how do  \n",
       "5          like discuss, d like, like make, face face, make appoint  \n",
       "6         you veri, much appreci, mani thank, appreci it, thank you  \n",
       "7  want tabl, forget it, cancel that, cancel request, anymor anymor  \n",
       "8              you assist, me decid, need assist, you help, help me  \n",
       "9                                         good bye, see ya, so long  "
      ]
     },
     "metadata": {},
     "output_type": "display_data"
    }
   ],
   "source": [
    "importlib.reload(chi2_analyzer)\n",
    "unigram_intent_dict, bigram_intent_dict = chi2_analyzer.get_chi2_analysis(workspace_pd, lang_util=lang_util)"
   ]
  },
  {
   "cell_type": "markdown",
   "metadata": {},
   "source": [
    "### Actions for Anomalous Correlations\n",
    "\n",
    "If you identify unusual / anomalous correlated terms like: numbers, names etc., which should not be correlated with an intent please read the following:\n",
    "  \n",
    "- **Case 1** : If you see names appearing amongst correlated unigrams or bigrams, add more variation of names so no specific names will be correlated  \n",
    "- **Case 2** : If you see specific numbers like 1234 amongst correlated unigrams or bigrams and are not helpful to the use case, remove or mask these numbers from the examples\n",
    "- **Case 3** : If you see terms which should never be correlated to that specific intent, consider adding or removing terms/examples so that domain specific terms are correlated with the correct intent"
   ]
  },
  {
   "cell_type": "markdown",
   "metadata": {},
   "source": [
    "<a id='part1.4'></a>\n",
    "## 1.4 Term Analysis - Heat Map\n",
    "\n",
    "A heatmap of terms is a method using which we can visualize which terms or words are frequently occurring within each intent. Rows are the terms and columns are the intents. \n",
    "\n",
    "By default we show only the top 30 intents with the highest number of user examples in the analysis. This number can be changed if needed."
   ]
  },
  {
   "cell_type": "code",
   "execution_count": 12,
   "metadata": {},
   "outputs": [
    {
     "data": {
      "text/markdown": [
       "## <p style=\"text-align: center;\"> Token Frequency per Intent </p>"
      ],
      "text/plain": [
       "<IPython.core.display.Markdown object>"
      ]
     },
     "metadata": {},
     "output_type": "display_data"
    },
    {
     "data": {
      "image/png": "[encoded data removed]",
      "text/plain": [
       "<Figure size 1440x1440 with 2 Axes>"
      ]
     },
     "metadata": {},
     "output_type": "display_data"
    }
   ],
   "source": [
    "importlib.reload(keyword_analyzer)\n",
    "\n",
    "INTENTS_TO_DISPLAY = 30  # Total number of intents for display\n",
    "MAX_TERMS_DISPLAY = 30  # Total number of terms to display\n",
    "\n",
    "intent_list = []\n",
    "keyword_analyzer.seaborn_heatmap(workspace_pd, lang_util, INTENTS_TO_DISPLAY, MAX_TERMS_DISPLAY, intent_list)"
   ]
  },
  {
   "cell_type": "markdown",
   "metadata": {},
   "source": [
    "### Term Analysis for Custom Intent List\n",
    "\n",
    "If you wish to see term analysis for specific intents, feel free to add those intents to the intent list. This shall generate a custom term heatmap. By default we show the top 30 tokens, but this can be changed if needed"
   ]
  },
  {
   "cell_type": "code",
   "execution_count": 13,
   "metadata": {},
   "outputs": [],
   "source": [
    "importlib.reload(keyword_analyzer)\n",
    "# intent_list = ['intent1','intent2','intent3'] \n",
    "intent_list = [] \n",
    "\n",
    "\n",
    "MAX_TERMS_DISPLAY = 20  # Total number of terms to display\n",
    "\n",
    "if intent_list: \n",
    "    keyword_analyzer.seaborn_heatmap(workspace_pd, INTENTS_TO_DISPLAY, MAX_TERMS_DISPLAY, intent_list)"
   ]
  },
  {
   "cell_type": "markdown",
   "metadata": {},
   "source": [
    "### Actions for Anomalous Terms in Heat Map\n",
    "\n",
    "If you notice any terms or words which should not be frequently present within an intent, consider modifying examples in that intent"
   ]
  },
  {
   "cell_type": "markdown",
   "metadata": {},
   "source": [
    "<a id='part1.5'></a>\n",
    "## 1.5 Ambiguity in Training Data\n",
    "### Uncover possibly ambiguous terms based on feature correlation\n",
    "Based on the chi-square analysis above, we generate intent pairs whose correlated unigrams and bigrams overlap.\n",
    "This allows us to get a glimpse of which unigrams or bigrams might cause potential confusion in intent detection."
   ]
  },
  {
   "cell_type": "markdown",
   "metadata": {},
   "source": [
    "### A. Top Intent Pairs whose correlated unigrams overlap"
   ]
  },
  {
   "cell_type": "code",
   "execution_count": 14,
   "metadata": {},
   "outputs": [
    {
     "data": {
      "text/markdown": [
       "There is no ambiguity based on top 5 key terms in chi2 analysis"
      ],
      "text/plain": [
       "<IPython.core.display.Markdown object>"
      ]
     },
     "metadata": {},
     "output_type": "display_data"
    }
   ],
   "source": [
    "importlib.reload(chi2_analyzer)\n",
    "ambiguous_unigram_df = chi2_analyzer.get_confusing_key_terms(unigram_intent_dict)"
   ]
  },
  {
   "cell_type": "markdown",
   "metadata": {},
   "source": [
    "### B. Top Intent Pairs whose correlated bigrams overlap"
   ]
  },
  {
   "cell_type": "code",
   "execution_count": 15,
   "metadata": {},
   "outputs": [
    {
     "data": {
      "text/markdown": [
       "There is no ambiguity based on top 5 key terms in chi2 analysis"
      ],
      "text/plain": [
       "<IPython.core.display.Markdown object>"
      ]
     },
     "metadata": {},
     "output_type": "display_data"
    }
   ],
   "source": [
    "importlib.reload(chi2_analyzer)\n",
    "ambiguous_bigram_df = chi2_analyzer.get_confusing_key_terms(bigram_intent_dict)"
   ]
  },
  {
   "cell_type": "markdown",
   "metadata": {},
   "source": [
    "### C. Overlap Checker for Specific Intents"
   ]
  },
  {
   "cell_type": "code",
   "execution_count": 16,
   "metadata": {},
   "outputs": [],
   "source": [
    "# Add specific intent or intent pairs for which you would like to see overlap\n",
    "importlib.reload(chi2_analyzer)\n",
    "intent1 = 'Goodbye'\n",
    "intent2 = ''\n",
    "chi2_analyzer.chi2_overlap_check(ambiguous_unigram_df,ambiguous_bigram_df,intent1,intent2)"
   ]
  },
  {
   "cell_type": "markdown",
   "metadata": {},
   "source": [
    "### Uncover ambiguous utterances across intents\n",
    "The following analysis shows user examples that are similar but fall under different Intents.  "
   ]
  },
  {
   "cell_type": "code",
   "execution_count": 17,
   "metadata": {},
   "outputs": [
    {
     "data": {
      "text/markdown": [
       "### There are no similar utterances within different Intent"
      ],
      "text/plain": [
       "<IPython.core.display.Markdown object>"
      ]
     },
     "metadata": {},
     "output_type": "display_data"
    }
   ],
   "source": [
    "importlib.reload(similarity_analyzer)\n",
    "similar_utterance_diff_intent_pd = similarity_analyzer.ambiguous_examples_analysis(workspace_pd, lang_util)"
   ]
  },
  {
   "cell_type": "markdown",
   "metadata": {},
   "source": [
    "## Actions for Ambiguity in Training Data\n",
    "\n",
    "**Ambiguous Intent Pairs**  \n",
    "If you see terms which are correlated with more than 1 intent, please review if this seems anomalous based on the use case for that intent. If it seems reasonable, it may not be an issue.  \n",
    "\n",
    "**Ambiguous Utterances across intents** \n",
    "1. **Duplicates Utterances**: For duplicate or almost identical utterances, remove those that seem unnecessary\n",
    "2. **Similar Utterances**: For similar utterances please review the use case for those intents and make sure that they are not accidental additions caused by human error in creating the training data  \n",
    "\n",
    "Reference for more information on entity: <a href=\"https://cloud.ibm.com/docs/services/assistant/services/assistant?topic=assistant-entities\" target=\"_blank\" rel=\"noopener no referrer\">Entity Documentation</a>\n",
    "\n",
    "For more in-depth analysis related to possible conflicts in your training data across intents, try the conflict detection feature in Watson Assistant: <br> <a href=\"https://cloud.ibm.com/docs/services/assistant?topic=assistant-intents#intents-resolve-conflicts\" target=\"_blank\" rel=\"noopener no referrer\">Conflict Resolution Documentation</a>"
   ]
  },
  {
   "cell_type": "markdown",
   "metadata": {},
   "source": [
    "<a id='part2'></a>\n",
    "# Part 2: Model Analysis\n",
    "\n",
    "Analyze your existing Watson Assistant Dialog Skill with the help of a test set."
   ]
  },
  {
   "cell_type": "markdown",
   "metadata": {},
   "source": [
    "## Setup: Upload Test Data\n",
    "Please upload a test set in csv format. Each line in the file should have only `User_Input<comma>Intent`  \n",
    "\n",
    "An example would be\n",
    "```\n",
    "hello how are you<comma>Greeting  \n",
    "I would like to talk to a human<comma>AgentHandoff  \n",
    "```\n"
   ]
  },
  {
   "cell_type": "code",
   "execution_count": 19,
   "metadata": {},
   "outputs": [
    {
     "data": {
      "text/markdown": [
       "### Random Test Sample"
      ],
      "text/plain": [
       "<IPython.core.display.Markdown object>"
      ]
     },
     "metadata": {},
     "output_type": "display_data"
    },
    {
     "data": {
      "text/html": [
       "<table border=\"1\" class=\"dataframe\">\n",
       "  <thead>\n",
       "    <tr style=\"text-align: right;\">\n",
       "      <th>utterance</th>\n",
       "      <th>intent</th>\n",
       "      <th>tokens</th>\n",
       "    </tr>\n",
       "  </thead>\n",
       "  <tbody>\n",
       "    <tr>\n",
       "      <td>who is this</td>\n",
       "      <td>General_Greetings</td>\n",
       "      <td>[who, is, this]</td>\n",
       "    </tr>\n",
       "    <tr>\n",
       "      <td>i changed my mind</td>\n",
       "      <td>Cancel</td>\n",
       "      <td>[i, chang, my, mind]</td>\n",
       "    </tr>\n",
       "    <tr>\n",
       "      <td>representative</td>\n",
       "      <td>General_Connect_to_Agent</td>\n",
       "      <td>[repres]</td>\n",
       "    </tr>\n",
       "    <tr>\n",
       "      <td>i want to speak to a human</td>\n",
       "      <td>General_Connect_to_Agent</td>\n",
       "      <td>[i, want, to, speak, to, a, human]</td>\n",
       "    </tr>\n",
       "    <tr>\n",
       "      <td>what are the hours of operation</td>\n",
       "      <td>Customer_Care_Store_Hours</td>\n",
       "      <td>[what, are, the, hour, of, oper]</td>\n",
       "    </tr>\n",
       "    <tr>\n",
       "      <td>cancel the request</td>\n",
       "      <td>Cancel</td>\n",
       "      <td>[cancel, the, request]</td>\n",
       "    </tr>\n",
       "    <tr>\n",
       "      <td>how many engineers does it take to change a lightbulb</td>\n",
       "      <td>SYSTEM_OUT_OF_DOMAIN</td>\n",
       "      <td>[how, mani, engin, doe, it, take, to, chang, a, lightbulb]</td>\n",
       "    </tr>\n",
       "    <tr>\n",
       "      <td>how is it going</td>\n",
       "      <td>General_Greetings</td>\n",
       "      <td>[how, is, it, go]</td>\n",
       "    </tr>\n",
       "    <tr>\n",
       "      <td>what is the address</td>\n",
       "      <td>Customer_Care_Store_Location</td>\n",
       "      <td>[what, is, the, address]</td>\n",
       "    </tr>\n",
       "    <tr>\n",
       "      <td>i want to know about a store</td>\n",
       "      <td>Customer_Care_Store_Location</td>\n",
       "      <td>[i, want, to, know, about, a, store]</td>\n",
       "    </tr>\n",
       "  </tbody>\n",
       "</table>"
      ],
      "text/plain": [
       "<IPython.core.display.HTML object>"
      ]
     },
     "metadata": {},
     "output_type": "display_data"
    }
   ],
   "source": [
    "import types\n",
    "from botocore.client import Config\n",
    "import ibm_boto3\n",
    "\n",
    "def __iter__(self): return 0\n",
    "\n",
    "# The following code accesses a csv file in your IBM Cloud Object Storage.\n",
    "ENDPOINT_URL = 'https://s3.us-east.cloud-object-storage.appdomain.cloud' # change this based on the region of your cos bucket \n",
    "\n",
    "\n",
    "# please fill in the details here:\n",
    "COS_API_KEY_ID = 'YOUR_COS_API_KEY'\n",
    "RESOURCE_INSTANCE_ID = 'YOUR_RESOURCE_INSTANCE_ID'\n",
    "IBM_COS_BUCKET = 'BUCKET_NAME'\n",
    "IBM_COS_FILE_KEY = 'FILE_NAME'\n",
    "\n",
    "\n",
    "cos_client = ibm_boto3.client(service_name='s3',\n",
    "    ibm_api_key_id=COS_API_KEY_ID,\n",
    "    ibm_service_instance_id = RESOURCE_INSTANCE_ID,\n",
    "    config=Config(signature_version='oauth'),\n",
    "    endpoint_url=ENDPOINT_URL)\n",
    "\n",
    "body = cos_client.get_object(Bucket=IBM_COS_BUCKET,Key=IBM_COS_FILE_KEY)['Body']\n",
    "# add missing __iter__ method\n",
    "if not hasattr(body, \"__iter__\"): body.__iter__ = types.MethodType( __iter__, body )\n",
    "\n",
    "    \n",
    "separator = \",\" # separator used in csv.\n",
    "    \n",
    "test_df = skills_util.process_test_set(body, lang_util, delim=separator, cos=True)\n",
    "display(Markdown(\"### Random Test Sample\"))\n",
    "display(HTML(test_df.sample(n=10).to_html(index=False)))   "
   ]
  },
  {
   "cell_type": "markdown",
   "metadata": {},
   "source": [
    "## Evaluate Test Data\n",
    "These steps can take time if you have a large test set  \n",
    "\n",
    "<font color=red>**Note**</font>: You will be charged for calls made from this notebook  based on your WA plan "
   ]
  },
  {
   "cell_type": "code",
   "execution_count": 20,
   "metadata": {},
   "outputs": [
    {
     "name": "stdout",
     "output_type": "stream",
     "text": [
      "Starting Thread-1\n",
      "Starting Thread-2\n",
      "Starting Thread-3\n",
      "Starting Thread-4\n",
      "Starting Thread-5\n",
      "Exiting Thread-2\n",
      "Exiting Thread-3\n",
      "Exiting Thread-1\n",
      "Exiting Thread-4\n",
      "Exiting Thread-5\n",
      "--- Total time: 5.730823516845703 seconds ---\n"
     ]
    }
   ],
   "source": [
    "# Maximum of 5 threads for faster inference\n",
    "THREAD_NUM = 5\n",
    "full_results = inferencer.inference(conversation,\n",
    "                                    workspace_id,\n",
    "                                    test_df,\n",
    "                                    max_retries=10,\n",
    "                                    max_thread=THREAD_NUM, \n",
    "                                    verbose=False)"
   ]
  },
  {
   "cell_type": "markdown",
   "metadata": {},
   "source": [
    "<a id='part2.1'></a>\n",
    "## 2.1 Model Analysis"
   ]
  },
  {
   "cell_type": "markdown",
   "metadata": {},
   "source": [
    "### Test Data Overview"
   ]
  },
  {
   "cell_type": "code",
   "execution_count": 21,
   "metadata": {},
   "outputs": [
    {
     "data": {
      "text/markdown": [
       "### Summary Statistics"
      ],
      "text/plain": [
       "<IPython.core.display.Markdown object>"
      ]
     },
     "metadata": {},
     "output_type": "display_data"
    },
    {
     "data": {
      "text/html": [
       "<div>\n",
       "<style scoped>\n",
       "    .dataframe tbody tr th:only-of-type {\n",
       "        vertical-align: middle;\n",
       "    }\n",
       "\n",
       "    .dataframe tbody tr th {\n",
       "        vertical-align: top;\n",
       "    }\n",
       "\n",
       "    .dataframe thead th {\n",
       "        text-align: right;\n",
       "    }\n",
       "</style>\n",
       "<table border=\"1\" class=\"dataframe\">\n",
       "  <thead>\n",
       "    <tr style=\"text-align: right;\">\n",
       "      <th></th>\n",
       "      <th>Data Characteristic</th>\n",
       "      <th>Value</th>\n",
       "    </tr>\n",
       "  </thead>\n",
       "  <tbody>\n",
       "    <tr>\n",
       "      <th>1</th>\n",
       "      <td>Total User Examples</td>\n",
       "      <td>53</td>\n",
       "    </tr>\n",
       "    <tr>\n",
       "      <th>2</th>\n",
       "      <td>Unique Intents</td>\n",
       "      <td>10</td>\n",
       "    </tr>\n",
       "    <tr>\n",
       "      <th>3</th>\n",
       "      <td>Average User Examples per Intent</td>\n",
       "      <td>5</td>\n",
       "    </tr>\n",
       "    <tr>\n",
       "      <th>4</th>\n",
       "      <td>Standard Deviation from Average</td>\n",
       "      <td>3</td>\n",
       "    </tr>\n",
       "    <tr>\n",
       "      <th>5</th>\n",
       "      <td>Total Number of Entities</td>\n",
       "      <td>0</td>\n",
       "    </tr>\n",
       "  </tbody>\n",
       "</table>\n",
       "</div>"
      ],
      "text/plain": [
       "                Data Characteristic  Value\n",
       "1               Total User Examples     53\n",
       "2                    Unique Intents     10\n",
       "3  Average User Examples per Intent      5\n",
       "4   Standard Deviation from Average      3\n",
       "5          Total Number of Entities      0"
      ]
     },
     "metadata": {},
     "output_type": "display_data"
    },
    {
     "data": {
      "text/markdown": [
       "### Sorted Distribution of User Examples per Intent"
      ],
      "text/plain": [
       "<IPython.core.display.Markdown object>"
      ]
     },
     "metadata": {},
     "output_type": "display_data"
    },
    {
     "data": {
      "text/html": [
       "<div>\n",
       "<style scoped>\n",
       "    .dataframe tbody tr th:only-of-type {\n",
       "        vertical-align: middle;\n",
       "    }\n",
       "\n",
       "    .dataframe tbody tr th {\n",
       "        vertical-align: top;\n",
       "    }\n",
       "\n",
       "    .dataframe thead th {\n",
       "        text-align: right;\n",
       "    }\n",
       "</style>\n",
       "<table border=\"1\" class=\"dataframe\">\n",
       "  <thead>\n",
       "    <tr style=\"text-align: right;\">\n",
       "      <th></th>\n",
       "      <th>Intent</th>\n",
       "      <th>Number of User Examples</th>\n",
       "    </tr>\n",
       "  </thead>\n",
       "  <tbody>\n",
       "    <tr>\n",
       "      <th>1</th>\n",
       "      <td>Help</td>\n",
       "      <td>2</td>\n",
       "    </tr>\n",
       "    <tr>\n",
       "      <th>2</th>\n",
       "      <td>Thanks</td>\n",
       "      <td>2</td>\n",
       "    </tr>\n",
       "    <tr>\n",
       "      <th>3</th>\n",
       "      <td>Cancel</td>\n",
       "      <td>3</td>\n",
       "    </tr>\n",
       "    <tr>\n",
       "      <th>4</th>\n",
       "      <td>Goodbye</td>\n",
       "      <td>3</td>\n",
       "    </tr>\n",
       "    <tr>\n",
       "      <th>5</th>\n",
       "      <td>Customer_Care_Store_Location</td>\n",
       "      <td>5</td>\n",
       "    </tr>\n",
       "    <tr>\n",
       "      <th>6</th>\n",
       "      <td>Customer_Care_Appointments</td>\n",
       "      <td>5</td>\n",
       "    </tr>\n",
       "    <tr>\n",
       "      <th>7</th>\n",
       "      <td>SYSTEM_OUT_OF_DOMAIN</td>\n",
       "      <td>7</td>\n",
       "    </tr>\n",
       "    <tr>\n",
       "      <th>8</th>\n",
       "      <td>General_Greetings</td>\n",
       "      <td>7</td>\n",
       "    </tr>\n",
       "    <tr>\n",
       "      <th>9</th>\n",
       "      <td>Customer_Care_Store_Hours</td>\n",
       "      <td>9</td>\n",
       "    </tr>\n",
       "    <tr>\n",
       "      <th>10</th>\n",
       "      <td>General_Connect_to_Agent</td>\n",
       "      <td>10</td>\n",
       "    </tr>\n",
       "  </tbody>\n",
       "</table>\n",
       "</div>"
      ],
      "text/plain": [
       "                          Intent  Number of User Examples\n",
       "1                           Help                        2\n",
       "2                         Thanks                        2\n",
       "3                         Cancel                        3\n",
       "4                        Goodbye                        3\n",
       "5   Customer_Care_Store_Location                        5\n",
       "6     Customer_Care_Appointments                        5\n",
       "7           SYSTEM_OUT_OF_DOMAIN                        7\n",
       "8              General_Greetings                        7\n",
       "9      Customer_Care_Store_Hours                        9\n",
       "10      General_Connect_to_Agent                       10"
      ]
     },
     "metadata": {},
     "output_type": "display_data"
    }
   ],
   "source": [
    "importlib.reload(summary_generator)\n",
    "summary_generator.generate_summary_statistics(test_df)\n",
    "summary_generator.show_user_examples_per_intent(test_df)"
   ]
  },
  {
   "cell_type": "markdown",
   "metadata": {},
   "source": [
    "### Compare Test Data & Training Data\n",
    "\n",
    "Ideally the Test and Training Data distributions should be similar. The following metrics can help identify gaps between Test Set and Training Set:\n",
    "\n",
    "**1.**  The distribution of User Examples per Intent for the Test Data should be comparable to the Training Data   \n",
    "**2.**  Average length of User Examples for Test and Training Data should be comparable  \n",
    "**3.**  The vocabulary and phrasing of utterances in the Test Data should be comparable to the Training Data\n",
    "\n",
    "If your test data comprises of examples labelled from your logs, and the training data comprises of examples created by human subject matter experts, there may be discrepancies between what the virtual assistant designers thought the end users would type and the way they actually type in production. Thus, if you find discrepancies in this section, you might want to consider changing your design to more closely resemble the way end users use your system.\n",
    "\n",
    "<font color=red>**Note**</font>: You will be charged for calls made from this notebook  based on your WA plan"
   ]
  },
  {
   "cell_type": "code",
   "execution_count": 22,
   "metadata": {},
   "outputs": [
    {
     "data": {
      "text/markdown": [
       "## Test Data Evaluation"
      ],
      "text/plain": [
       "<IPython.core.display.Markdown object>"
      ]
     },
     "metadata": {},
     "output_type": "display_data"
    },
    {
     "data": {
      "text/html": [
       "<style  type=\"text/css\" >\n",
       "    #T_fe4e68c2_1869_11eb_a777_a162ecd0bfbcrow0_col3 {\n",
       "            color:  green;\n",
       "        }    #T_fe4e68c2_1869_11eb_a777_a162ecd0bfbcrow1_col3 {\n",
       "            color:  green;\n",
       "        }    #T_fe4e68c2_1869_11eb_a777_a162ecd0bfbcrow2_col3 {\n",
       "            color:  green;\n",
       "        }    #T_fe4e68c2_1869_11eb_a777_a162ecd0bfbcrow3_col3 {\n",
       "            color:  green;\n",
       "        }    #T_fe4e68c2_1869_11eb_a777_a162ecd0bfbcrow4_col3 {\n",
       "            color:  green;\n",
       "        }    #T_fe4e68c2_1869_11eb_a777_a162ecd0bfbcrow5_col3 {\n",
       "            color:  green;\n",
       "        }    #T_fe4e68c2_1869_11eb_a777_a162ecd0bfbcrow6_col3 {\n",
       "            color:  green;\n",
       "        }    #T_fe4e68c2_1869_11eb_a777_a162ecd0bfbcrow7_col3 {\n",
       "            color:  green;\n",
       "        }    #T_fe4e68c2_1869_11eb_a777_a162ecd0bfbcrow8_col3 {\n",
       "            color:  green;\n",
       "        }</style><table id=\"T_fe4e68c2_1869_11eb_a777_a162ecd0bfbc\" ><thead>    <tr>        <th class=\"blank level0\" ></th>        <th class=\"col_heading level0 col0\" >Intent</th>        <th class=\"col_heading level0 col1\" >% of Train</th>        <th class=\"col_heading level0 col2\" >% of Test</th>        <th class=\"col_heading level0 col3\" >Absolute Difference %</th>        <th class=\"col_heading level0 col4\" >Train Examples</th>        <th class=\"col_heading level0 col5\" >Test Examples</th>        <th class=\"col_heading level0 col6\" >Test Precision %</th>        <th class=\"col_heading level0 col7\" >Test Recall %</th>        <th class=\"col_heading level0 col8\" >Test F1 %</th>    </tr></thead><tbody>\n",
       "                <tr>\n",
       "                        <th id=\"T_fe4e68c2_1869_11eb_a777_a162ecd0bfbclevel0_row0\" class=\"row_heading level0 row0\" >0</th>\n",
       "                        <td id=\"T_fe4e68c2_1869_11eb_a777_a162ecd0bfbcrow0_col0\" class=\"data row0 col0\" >General_Connect_to_Agent</td>\n",
       "                        <td id=\"T_fe4e68c2_1869_11eb_a777_a162ecd0bfbcrow0_col1\" class=\"data row0 col1\" >25.540000</td>\n",
       "                        <td id=\"T_fe4e68c2_1869_11eb_a777_a162ecd0bfbcrow0_col2\" class=\"data row0 col2\" >18.870000</td>\n",
       "                        <td id=\"T_fe4e68c2_1869_11eb_a777_a162ecd0bfbcrow0_col3\" class=\"data row0 col3\" >6.680000</td>\n",
       "                        <td id=\"T_fe4e68c2_1869_11eb_a777_a162ecd0bfbcrow0_col4\" class=\"data row0 col4\" >47</td>\n",
       "                        <td id=\"T_fe4e68c2_1869_11eb_a777_a162ecd0bfbcrow0_col5\" class=\"data row0 col5\" >10</td>\n",
       "                        <td id=\"T_fe4e68c2_1869_11eb_a777_a162ecd0bfbcrow0_col6\" class=\"data row0 col6\" >83.330000</td>\n",
       "                        <td id=\"T_fe4e68c2_1869_11eb_a777_a162ecd0bfbcrow0_col7\" class=\"data row0 col7\" >100.000000</td>\n",
       "                        <td id=\"T_fe4e68c2_1869_11eb_a777_a162ecd0bfbcrow0_col8\" class=\"data row0 col8\" >90.910000</td>\n",
       "            </tr>\n",
       "            <tr>\n",
       "                        <th id=\"T_fe4e68c2_1869_11eb_a777_a162ecd0bfbclevel0_row1\" class=\"row_heading level0 row1\" >1</th>\n",
       "                        <td id=\"T_fe4e68c2_1869_11eb_a777_a162ecd0bfbcrow1_col0\" class=\"data row1 col0\" >Customer_Care_Store_Hours</td>\n",
       "                        <td id=\"T_fe4e68c2_1869_11eb_a777_a162ecd0bfbcrow1_col1\" class=\"data row1 col1\" >20.650000</td>\n",
       "                        <td id=\"T_fe4e68c2_1869_11eb_a777_a162ecd0bfbcrow1_col2\" class=\"data row1 col2\" >16.980000</td>\n",
       "                        <td id=\"T_fe4e68c2_1869_11eb_a777_a162ecd0bfbcrow1_col3\" class=\"data row1 col3\" >3.670000</td>\n",
       "                        <td id=\"T_fe4e68c2_1869_11eb_a777_a162ecd0bfbcrow1_col4\" class=\"data row1 col4\" >38</td>\n",
       "                        <td id=\"T_fe4e68c2_1869_11eb_a777_a162ecd0bfbcrow1_col5\" class=\"data row1 col5\" >9</td>\n",
       "                        <td id=\"T_fe4e68c2_1869_11eb_a777_a162ecd0bfbcrow1_col6\" class=\"data row1 col6\" >81.820000</td>\n",
       "                        <td id=\"T_fe4e68c2_1869_11eb_a777_a162ecd0bfbcrow1_col7\" class=\"data row1 col7\" >100.000000</td>\n",
       "                        <td id=\"T_fe4e68c2_1869_11eb_a777_a162ecd0bfbcrow1_col8\" class=\"data row1 col8\" >90.000000</td>\n",
       "            </tr>\n",
       "            <tr>\n",
       "                        <th id=\"T_fe4e68c2_1869_11eb_a777_a162ecd0bfbclevel0_row2\" class=\"row_heading level0 row2\" >2</th>\n",
       "                        <td id=\"T_fe4e68c2_1869_11eb_a777_a162ecd0bfbcrow2_col0\" class=\"data row2 col0\" >General_Greetings</td>\n",
       "                        <td id=\"T_fe4e68c2_1869_11eb_a777_a162ecd0bfbcrow2_col1\" class=\"data row2 col1\" >16.300000</td>\n",
       "                        <td id=\"T_fe4e68c2_1869_11eb_a777_a162ecd0bfbcrow2_col2\" class=\"data row2 col2\" >13.210000</td>\n",
       "                        <td id=\"T_fe4e68c2_1869_11eb_a777_a162ecd0bfbcrow2_col3\" class=\"data row2 col3\" >3.100000</td>\n",
       "                        <td id=\"T_fe4e68c2_1869_11eb_a777_a162ecd0bfbcrow2_col4\" class=\"data row2 col4\" >30</td>\n",
       "                        <td id=\"T_fe4e68c2_1869_11eb_a777_a162ecd0bfbcrow2_col5\" class=\"data row2 col5\" >7</td>\n",
       "                        <td id=\"T_fe4e68c2_1869_11eb_a777_a162ecd0bfbcrow2_col6\" class=\"data row2 col6\" >77.780000</td>\n",
       "                        <td id=\"T_fe4e68c2_1869_11eb_a777_a162ecd0bfbcrow2_col7\" class=\"data row2 col7\" >100.000000</td>\n",
       "                        <td id=\"T_fe4e68c2_1869_11eb_a777_a162ecd0bfbcrow2_col8\" class=\"data row2 col8\" >87.500000</td>\n",
       "            </tr>\n",
       "            <tr>\n",
       "                        <th id=\"T_fe4e68c2_1869_11eb_a777_a162ecd0bfbclevel0_row3\" class=\"row_heading level0 row3\" >3</th>\n",
       "                        <td id=\"T_fe4e68c2_1869_11eb_a777_a162ecd0bfbcrow3_col0\" class=\"data row3 col0\" >Customer_Care_Store_Location</td>\n",
       "                        <td id=\"T_fe4e68c2_1869_11eb_a777_a162ecd0bfbcrow3_col1\" class=\"data row3 col1\" >12.500000</td>\n",
       "                        <td id=\"T_fe4e68c2_1869_11eb_a777_a162ecd0bfbcrow3_col2\" class=\"data row3 col2\" >9.430000</td>\n",
       "                        <td id=\"T_fe4e68c2_1869_11eb_a777_a162ecd0bfbcrow3_col3\" class=\"data row3 col3\" >3.070000</td>\n",
       "                        <td id=\"T_fe4e68c2_1869_11eb_a777_a162ecd0bfbcrow3_col4\" class=\"data row3 col4\" >23</td>\n",
       "                        <td id=\"T_fe4e68c2_1869_11eb_a777_a162ecd0bfbcrow3_col5\" class=\"data row3 col5\" >5</td>\n",
       "                        <td id=\"T_fe4e68c2_1869_11eb_a777_a162ecd0bfbcrow3_col6\" class=\"data row3 col6\" >71.430000</td>\n",
       "                        <td id=\"T_fe4e68c2_1869_11eb_a777_a162ecd0bfbcrow3_col7\" class=\"data row3 col7\" >100.000000</td>\n",
       "                        <td id=\"T_fe4e68c2_1869_11eb_a777_a162ecd0bfbcrow3_col8\" class=\"data row3 col8\" >83.330000</td>\n",
       "            </tr>\n",
       "            <tr>\n",
       "                        <th id=\"T_fe4e68c2_1869_11eb_a777_a162ecd0bfbclevel0_row4\" class=\"row_heading level0 row4\" >8</th>\n",
       "                        <td id=\"T_fe4e68c2_1869_11eb_a777_a162ecd0bfbcrow4_col0\" class=\"data row4 col0\" >Goodbye</td>\n",
       "                        <td id=\"T_fe4e68c2_1869_11eb_a777_a162ecd0bfbcrow4_col1\" class=\"data row4 col1\" >3.260000</td>\n",
       "                        <td id=\"T_fe4e68c2_1869_11eb_a777_a162ecd0bfbcrow4_col2\" class=\"data row4 col2\" >5.660000</td>\n",
       "                        <td id=\"T_fe4e68c2_1869_11eb_a777_a162ecd0bfbcrow4_col3\" class=\"data row4 col3\" >2.400000</td>\n",
       "                        <td id=\"T_fe4e68c2_1869_11eb_a777_a162ecd0bfbcrow4_col4\" class=\"data row4 col4\" >6</td>\n",
       "                        <td id=\"T_fe4e68c2_1869_11eb_a777_a162ecd0bfbcrow4_col5\" class=\"data row4 col5\" >3</td>\n",
       "                        <td id=\"T_fe4e68c2_1869_11eb_a777_a162ecd0bfbcrow4_col6\" class=\"data row4 col6\" >100.000000</td>\n",
       "                        <td id=\"T_fe4e68c2_1869_11eb_a777_a162ecd0bfbcrow4_col7\" class=\"data row4 col7\" >66.670000</td>\n",
       "                        <td id=\"T_fe4e68c2_1869_11eb_a777_a162ecd0bfbcrow4_col8\" class=\"data row4 col8\" >80.000000</td>\n",
       "            </tr>\n",
       "            <tr>\n",
       "                        <th id=\"T_fe4e68c2_1869_11eb_a777_a162ecd0bfbclevel0_row5\" class=\"row_heading level0 row5\" >6</th>\n",
       "                        <td id=\"T_fe4e68c2_1869_11eb_a777_a162ecd0bfbcrow5_col0\" class=\"data row5 col0\" >Cancel</td>\n",
       "                        <td id=\"T_fe4e68c2_1869_11eb_a777_a162ecd0bfbcrow5_col1\" class=\"data row5 col1\" >3.800000</td>\n",
       "                        <td id=\"T_fe4e68c2_1869_11eb_a777_a162ecd0bfbcrow5_col2\" class=\"data row5 col2\" >5.660000</td>\n",
       "                        <td id=\"T_fe4e68c2_1869_11eb_a777_a162ecd0bfbcrow5_col3\" class=\"data row5 col3\" >1.860000</td>\n",
       "                        <td id=\"T_fe4e68c2_1869_11eb_a777_a162ecd0bfbcrow5_col4\" class=\"data row5 col4\" >7</td>\n",
       "                        <td id=\"T_fe4e68c2_1869_11eb_a777_a162ecd0bfbcrow5_col5\" class=\"data row5 col5\" >3</td>\n",
       "                        <td id=\"T_fe4e68c2_1869_11eb_a777_a162ecd0bfbcrow5_col6\" class=\"data row5 col6\" >100.000000</td>\n",
       "                        <td id=\"T_fe4e68c2_1869_11eb_a777_a162ecd0bfbcrow5_col7\" class=\"data row5 col7\" >66.670000</td>\n",
       "                        <td id=\"T_fe4e68c2_1869_11eb_a777_a162ecd0bfbcrow5_col8\" class=\"data row5 col8\" >80.000000</td>\n",
       "            </tr>\n",
       "            <tr>\n",
       "                        <th id=\"T_fe4e68c2_1869_11eb_a777_a162ecd0bfbclevel0_row6\" class=\"row_heading level0 row6\" >4</th>\n",
       "                        <td id=\"T_fe4e68c2_1869_11eb_a777_a162ecd0bfbcrow6_col0\" class=\"data row6 col0\" >Customer_Care_Appointments</td>\n",
       "                        <td id=\"T_fe4e68c2_1869_11eb_a777_a162ecd0bfbcrow6_col1\" class=\"data row6 col1\" >10.330000</td>\n",
       "                        <td id=\"T_fe4e68c2_1869_11eb_a777_a162ecd0bfbcrow6_col2\" class=\"data row6 col2\" >9.430000</td>\n",
       "                        <td id=\"T_fe4e68c2_1869_11eb_a777_a162ecd0bfbcrow6_col3\" class=\"data row6 col3\" >0.890000</td>\n",
       "                        <td id=\"T_fe4e68c2_1869_11eb_a777_a162ecd0bfbcrow6_col4\" class=\"data row6 col4\" >19</td>\n",
       "                        <td id=\"T_fe4e68c2_1869_11eb_a777_a162ecd0bfbcrow6_col5\" class=\"data row6 col5\" >5</td>\n",
       "                        <td id=\"T_fe4e68c2_1869_11eb_a777_a162ecd0bfbcrow6_col6\" class=\"data row6 col6\" >100.000000</td>\n",
       "                        <td id=\"T_fe4e68c2_1869_11eb_a777_a162ecd0bfbcrow6_col7\" class=\"data row6 col7\" >100.000000</td>\n",
       "                        <td id=\"T_fe4e68c2_1869_11eb_a777_a162ecd0bfbcrow6_col8\" class=\"data row6 col8\" >100.000000</td>\n",
       "            </tr>\n",
       "            <tr>\n",
       "                        <th id=\"T_fe4e68c2_1869_11eb_a777_a162ecd0bfbclevel0_row7\" class=\"row_heading level0 row7\" >5</th>\n",
       "                        <td id=\"T_fe4e68c2_1869_11eb_a777_a162ecd0bfbcrow7_col0\" class=\"data row7 col0\" >Thanks</td>\n",
       "                        <td id=\"T_fe4e68c2_1869_11eb_a777_a162ecd0bfbcrow7_col1\" class=\"data row7 col1\" >4.350000</td>\n",
       "                        <td id=\"T_fe4e68c2_1869_11eb_a777_a162ecd0bfbcrow7_col2\" class=\"data row7 col2\" >3.770000</td>\n",
       "                        <td id=\"T_fe4e68c2_1869_11eb_a777_a162ecd0bfbcrow7_col3\" class=\"data row7 col3\" >0.570000</td>\n",
       "                        <td id=\"T_fe4e68c2_1869_11eb_a777_a162ecd0bfbcrow7_col4\" class=\"data row7 col4\" >8</td>\n",
       "                        <td id=\"T_fe4e68c2_1869_11eb_a777_a162ecd0bfbcrow7_col5\" class=\"data row7 col5\" >2</td>\n",
       "                        <td id=\"T_fe4e68c2_1869_11eb_a777_a162ecd0bfbcrow7_col6\" class=\"data row7 col6\" >100.000000</td>\n",
       "                        <td id=\"T_fe4e68c2_1869_11eb_a777_a162ecd0bfbcrow7_col7\" class=\"data row7 col7\" >100.000000</td>\n",
       "                        <td id=\"T_fe4e68c2_1869_11eb_a777_a162ecd0bfbcrow7_col8\" class=\"data row7 col8\" >100.000000</td>\n",
       "            </tr>\n",
       "            <tr>\n",
       "                        <th id=\"T_fe4e68c2_1869_11eb_a777_a162ecd0bfbclevel0_row8\" class=\"row_heading level0 row8\" >7</th>\n",
       "                        <td id=\"T_fe4e68c2_1869_11eb_a777_a162ecd0bfbcrow8_col0\" class=\"data row8 col0\" >Help</td>\n",
       "                        <td id=\"T_fe4e68c2_1869_11eb_a777_a162ecd0bfbcrow8_col1\" class=\"data row8 col1\" >3.260000</td>\n",
       "                        <td id=\"T_fe4e68c2_1869_11eb_a777_a162ecd0bfbcrow8_col2\" class=\"data row8 col2\" >3.770000</td>\n",
       "                        <td id=\"T_fe4e68c2_1869_11eb_a777_a162ecd0bfbcrow8_col3\" class=\"data row8 col3\" >0.510000</td>\n",
       "                        <td id=\"T_fe4e68c2_1869_11eb_a777_a162ecd0bfbcrow8_col4\" class=\"data row8 col4\" >6</td>\n",
       "                        <td id=\"T_fe4e68c2_1869_11eb_a777_a162ecd0bfbcrow8_col5\" class=\"data row8 col5\" >2</td>\n",
       "                        <td id=\"T_fe4e68c2_1869_11eb_a777_a162ecd0bfbcrow8_col6\" class=\"data row8 col6\" >66.670000</td>\n",
       "                        <td id=\"T_fe4e68c2_1869_11eb_a777_a162ecd0bfbcrow8_col7\" class=\"data row8 col7\" >100.000000</td>\n",
       "                        <td id=\"T_fe4e68c2_1869_11eb_a777_a162ecd0bfbcrow8_col8\" class=\"data row8 col8\" >80.000000</td>\n",
       "            </tr>\n",
       "    </tbody></table>"
      ],
      "text/plain": [
       "<pandas.io.formats.style.Styler at 0x7f64747c0590>"
      ]
     },
     "metadata": {},
     "output_type": "display_data"
    },
    {
     "data": {
      "text/markdown": [
       "\n"
      ],
      "text/plain": [
       "<IPython.core.display.Markdown object>"
      ]
     },
     "metadata": {},
     "output_type": "display_data"
    },
    {
     "data": {
      "text/markdown": [
       "Distribution Mismatch Color Code"
      ],
      "text/plain": [
       "<IPython.core.display.Markdown object>"
      ]
     },
     "metadata": {},
     "output_type": "display_data"
    },
    {
     "data": {
      "text/markdown": [
       "<font color = 'red'>      Red - Severe </font>"
      ],
      "text/plain": [
       "<IPython.core.display.Markdown object>"
      ]
     },
     "metadata": {},
     "output_type": "display_data"
    },
    {
     "data": {
      "text/markdown": [
       "<font color = 'blue'>     Blue - Caution </font>"
      ],
      "text/plain": [
       "<IPython.core.display.Markdown object>"
      ]
     },
     "metadata": {},
     "output_type": "display_data"
    },
    {
     "data": {
      "text/markdown": [
       "<font color = 'green'>    Green - Good </font>"
      ],
      "text/plain": [
       "<IPython.core.display.Markdown object>"
      ]
     },
     "metadata": {},
     "output_type": "display_data"
    },
    {
     "data": {
      "text/markdown": [
       "### Data Distribution Divergence Test vs Train         <font color='blue'>9.0%</font>"
      ],
      "text/plain": [
       "<IPython.core.display.Markdown object>"
      ]
     },
     "metadata": {},
     "output_type": "display_data"
    },
    {
     "data": {
      "text/markdown": [
       "**Note** Metric used is Jensen Shannon Distance"
      ],
      "text/plain": [
       "<IPython.core.display.Markdown object>"
      ]
     },
     "metadata": {},
     "output_type": "display_data"
    },
    {
     "data": {
      "text/markdown": [
       "### Test Data Example Length"
      ],
      "text/plain": [
       "<IPython.core.display.Markdown object>"
      ]
     },
     "metadata": {},
     "output_type": "display_data"
    },
    {
     "data": {
      "text/markdown": [
       "Average length of user examples is comparable"
      ],
      "text/plain": [
       "<IPython.core.display.Markdown object>"
      ]
     },
     "metadata": {},
     "output_type": "display_data"
    },
    {
     "data": {
      "text/markdown": [
       "### Vocabulary Size Test vs Train"
      ],
      "text/plain": [
       "<IPython.core.display.Markdown object>"
      ]
     },
     "metadata": {},
     "output_type": "display_data"
    },
    {
     "data": {
      "text/html": [
       "<div>\n",
       "<style scoped>\n",
       "    .dataframe tbody tr th:only-of-type {\n",
       "        vertical-align: middle;\n",
       "    }\n",
       "\n",
       "    .dataframe tbody tr th {\n",
       "        vertical-align: top;\n",
       "    }\n",
       "\n",
       "    .dataframe thead th {\n",
       "        text-align: right;\n",
       "    }\n",
       "</style>\n",
       "<table border=\"1\" class=\"dataframe\">\n",
       "  <thead>\n",
       "    <tr style=\"text-align: right;\">\n",
       "      <th></th>\n",
       "      <th>Train Vocabulary Size</th>\n",
       "      <th>Test Vocabulary Size</th>\n",
       "      <th>% Test Set Vocabulary not found in Train</th>\n",
       "    </tr>\n",
       "  </thead>\n",
       "  <tbody>\n",
       "    <tr>\n",
       "      <th>1</th>\n",
       "      <td>211</td>\n",
       "      <td>125</td>\n",
       "      <td>16.0</td>\n",
       "    </tr>\n",
       "  </tbody>\n",
       "</table>\n",
       "</div>"
      ],
      "text/plain": [
       "   Train Vocabulary Size  Test Vocabulary Size  \\\n",
       "1                    211                   125   \n",
       "\n",
       "   % Test Set Vocabulary not found in Train  \n",
       "1                                      16.0  "
      ]
     },
     "metadata": {},
     "output_type": "display_data"
    },
    {
     "data": {
      "text/markdown": [
       "   "
      ],
      "text/plain": [
       "<IPython.core.display.Markdown object>"
      ]
     },
     "metadata": {},
     "output_type": "display_data"
    }
   ],
   "source": [
    "importlib.reload(divergence_analyzer)\n",
    "divergence_analyzer.analyze_train_test_diff(workspace_pd, test_df, full_results)"
   ]
  },
  {
   "cell_type": "markdown",
   "metadata": {},
   "source": [
    "### Determine Overall Accuracy on Test Set"
   ]
  },
  {
   "cell_type": "code",
   "execution_count": 23,
   "metadata": {},
   "outputs": [
    {
     "data": {
      "text/markdown": [
       "### Accuracy on Test Data: 83.02 %"
      ],
      "text/plain": [
       "<IPython.core.display.Markdown object>"
      ]
     },
     "metadata": {},
     "output_type": "display_data"
    }
   ],
   "source": [
    "importlib.reload(inferencer)\n",
    "results = full_results[['correct_intent', 'top_confidence','top_intent','utterance']]\n",
    "accuracy = inferencer.calculate_accuracy(results)\n",
    "display(Markdown(\"### Accuracy on Test Data: {} %\".format(accuracy)))"
   ]
  },
  {
   "cell_type": "markdown",
   "metadata": {},
   "source": [
    "### Error Analysis\n",
    "\n",
    "This section gives the user an overview of the errors made by the intent classifier on the test set  \n",
    "\n",
    "**Note** `System Out of Domain` labels are assigned to user examples which get classified with confidence scores less than 0.2 as Watson Assistant would consider them to be irrelevant"
   ]
  },
  {
   "cell_type": "code",
   "execution_count": 24,
   "metadata": {},
   "outputs": [
    {
     "data": {
      "text/markdown": [
       "### Intent Detection Mistakes"
      ],
      "text/plain": [
       "<IPython.core.display.Markdown object>"
      ]
     },
     "metadata": {},
     "output_type": "display_data"
    },
    {
     "data": {
      "text/markdown": [
       "Number of Test Errors: 9"
      ],
      "text/plain": [
       "<IPython.core.display.Markdown object>"
      ]
     },
     "metadata": {},
     "output_type": "display_data"
    },
    {
     "data": {
      "text/html": [
       "<div>\n",
       "<style scoped>\n",
       "    .dataframe tbody tr th:only-of-type {\n",
       "        vertical-align: middle;\n",
       "    }\n",
       "\n",
       "    .dataframe tbody tr th {\n",
       "        vertical-align: top;\n",
       "    }\n",
       "\n",
       "    .dataframe thead th {\n",
       "        text-align: right;\n",
       "    }\n",
       "</style>\n",
       "<table border=\"1\" class=\"dataframe\">\n",
       "  <thead>\n",
       "    <tr style=\"text-align: right;\">\n",
       "      <th></th>\n",
       "      <th>correct_intent</th>\n",
       "      <th>top_confidence</th>\n",
       "      <th>top_intent</th>\n",
       "      <th>utterance</th>\n",
       "    </tr>\n",
       "    <tr>\n",
       "      <th>Test Example Index</th>\n",
       "      <th></th>\n",
       "      <th></th>\n",
       "      <th></th>\n",
       "      <th></th>\n",
       "    </tr>\n",
       "  </thead>\n",
       "  <tbody>\n",
       "    <tr>\n",
       "      <th>43</th>\n",
       "      <td>Goodbye</td>\n",
       "      <td>0.717742</td>\n",
       "      <td>General_Greetings</td>\n",
       "      <td>see you tomorrow</td>\n",
       "    </tr>\n",
       "    <tr>\n",
       "      <th>44</th>\n",
       "      <td>Cancel</td>\n",
       "      <td>0.478445</td>\n",
       "      <td>General_Connect_to_Agent</td>\n",
       "      <td>i dont think i want to do that</td>\n",
       "    </tr>\n",
       "    <tr>\n",
       "      <th>46</th>\n",
       "      <td>SYSTEM_OUT_OF_DOMAIN</td>\n",
       "      <td>0.491619</td>\n",
       "      <td>General_Greetings</td>\n",
       "      <td>can you tell me a good joke</td>\n",
       "    </tr>\n",
       "    <tr>\n",
       "      <th>47</th>\n",
       "      <td>SYSTEM_OUT_OF_DOMAIN</td>\n",
       "      <td>0.407189</td>\n",
       "      <td>Customer_Care_Store_Hours</td>\n",
       "      <td>what is your iq</td>\n",
       "    </tr>\n",
       "    <tr>\n",
       "      <th>48</th>\n",
       "      <td>SYSTEM_OUT_OF_DOMAIN</td>\n",
       "      <td>0.345278</td>\n",
       "      <td>Customer_Care_Store_Hours</td>\n",
       "      <td>luke  i am your father</td>\n",
       "    </tr>\n",
       "    <tr>\n",
       "      <th>49</th>\n",
       "      <td>SYSTEM_OUT_OF_DOMAIN</td>\n",
       "      <td>0.639675</td>\n",
       "      <td>Customer_Care_Store_Location</td>\n",
       "      <td>where did betty buy her butter</td>\n",
       "    </tr>\n",
       "    <tr>\n",
       "      <th>50</th>\n",
       "      <td>SYSTEM_OUT_OF_DOMAIN</td>\n",
       "      <td>0.547474</td>\n",
       "      <td>General_Connect_to_Agent</td>\n",
       "      <td>how many engineers does it take to change a lightbulb</td>\n",
       "    </tr>\n",
       "    <tr>\n",
       "      <th>51</th>\n",
       "      <td>SYSTEM_OUT_OF_DOMAIN</td>\n",
       "      <td>0.623406</td>\n",
       "      <td>Help</td>\n",
       "      <td>can you help me change my account password</td>\n",
       "    </tr>\n",
       "    <tr>\n",
       "      <th>52</th>\n",
       "      <td>SYSTEM_OUT_OF_DOMAIN</td>\n",
       "      <td>0.939837</td>\n",
       "      <td>Customer_Care_Store_Location</td>\n",
       "      <td>what is a way to change my account address</td>\n",
       "    </tr>\n",
       "  </tbody>\n",
       "</table>\n",
       "</div>"
      ],
      "text/plain": [
       "                          correct_intent  top_confidence  \\\n",
       "Test Example Index                                         \n",
       "43                               Goodbye        0.717742   \n",
       "44                                Cancel        0.478445   \n",
       "46                  SYSTEM_OUT_OF_DOMAIN        0.491619   \n",
       "47                  SYSTEM_OUT_OF_DOMAIN        0.407189   \n",
       "48                  SYSTEM_OUT_OF_DOMAIN        0.345278   \n",
       "49                  SYSTEM_OUT_OF_DOMAIN        0.639675   \n",
       "50                  SYSTEM_OUT_OF_DOMAIN        0.547474   \n",
       "51                  SYSTEM_OUT_OF_DOMAIN        0.623406   \n",
       "52                  SYSTEM_OUT_OF_DOMAIN        0.939837   \n",
       "\n",
       "                                      top_intent  \\\n",
       "Test Example Index                                 \n",
       "43                             General_Greetings   \n",
       "44                      General_Connect_to_Agent   \n",
       "46                             General_Greetings   \n",
       "47                     Customer_Care_Store_Hours   \n",
       "48                     Customer_Care_Store_Hours   \n",
       "49                  Customer_Care_Store_Location   \n",
       "50                      General_Connect_to_Agent   \n",
       "51                                          Help   \n",
       "52                  Customer_Care_Store_Location   \n",
       "\n",
       "                                                                 utterance  \n",
       "Test Example Index                                                          \n",
       "43                                                        see you tomorrow  \n",
       "44                                          i dont think i want to do that  \n",
       "46                                             can you tell me a good joke  \n",
       "47                                                         what is your iq  \n",
       "48                                                  luke  i am your father  \n",
       "49                                         where did betty buy her butter   \n",
       "50                  how many engineers does it take to change a lightbulb   \n",
       "51                             can you help me change my account password   \n",
       "52                             what is a way to change my account address   "
      ]
     },
     "metadata": {},
     "output_type": "display_data"
    }
   ],
   "source": [
    "importlib.reload(inferencer)\n",
    "wrongs_df = inferencer.calculate_mistakes(results)\n",
    "display(Markdown(\"### Intent Detection Mistakes\"))\n",
    "display(Markdown(\"Number of Test Errors: {}\".format(len(wrongs_df))))\n",
    "\n",
    "with pd.option_context('max_colwidth', 250):\n",
    "    if not wrongs_df.empty:\n",
    "        display(wrongs_df)"
   ]
  },
  {
   "cell_type": "markdown",
   "metadata": {},
   "source": [
    "<a id='part3'></a>\n",
    "## Part 3: Advanced Analysis"
   ]
  },
  {
   "cell_type": "markdown",
   "metadata": {},
   "source": [
    "<a id='part3.1'></a>\n",
    "## 3.1 Analysis using Confidence Thresholds\n",
    "\n",
    "In this phase of the analysis, we illustrate how a confidence threshold which is used to determine what is considered irrelevant or out of domain can be used for analysis "
   ]
  },
  {
   "cell_type": "code",
   "execution_count": 25,
   "metadata": {},
   "outputs": [
    {
     "data": {
      "text/markdown": [
       "### Threshold Metrics"
      ],
      "text/plain": [
       "<IPython.core.display.Markdown object>"
      ]
     },
     "metadata": {},
     "output_type": "display_data"
    },
    {
     "data": {
      "text/markdown": [
       "We calculate metrics for responses where the top intent has a confidence above the         threshold specified on the x-axis.  "
      ],
      "text/plain": [
       "<IPython.core.display.Markdown object>"
      ]
     },
     "metadata": {},
     "output_type": "display_data"
    },
    {
     "data": {
      "text/markdown": [
       "We consider examples which are within the scope of the chatbot's problem formulation as          on topic or in domain and those examples which are outside the scope of the problem to be          out of domain or irrelevant"
      ],
      "text/plain": [
       "<IPython.core.display.Markdown object>"
      ]
     },
     "metadata": {},
     "output_type": "display_data"
    },
    {
     "data": {
      "text/markdown": [
       "#### 1) Thresholded On Topic Accuracy (TOA)"
      ],
      "text/plain": [
       "<IPython.core.display.Markdown object>"
      ]
     },
     "metadata": {},
     "output_type": "display_data"
    },
    {
     "data": {
      "text/markdown": [
       "x-axis: Confidence threshold used || y-axis: Intent Detection Accuracy for On Topic utterances"
      ],
      "text/plain": [
       "<IPython.core.display.Markdown object>"
      ]
     },
     "metadata": {},
     "output_type": "display_data"
    },
    {
     "data": {
      "text/markdown": [
       "#### 2)  Bot Coverage %"
      ],
      "text/plain": [
       "<IPython.core.display.Markdown object>"
      ]
     },
     "metadata": {},
     "output_type": "display_data"
    },
    {
     "data": {
      "text/markdown": [
       "x-axis: Confidence threshold used || y-axis: Fraction of All utterances above the threshold"
      ],
      "text/plain": [
       "<IPython.core.display.Markdown object>"
      ]
     },
     "metadata": {},
     "output_type": "display_data"
    },
    {
     "data": {
      "text/markdown": [
       "#### 3) False Acceptance Rate for Out of Domain Examples (FAR)"
      ],
      "text/plain": [
       "<IPython.core.display.Markdown object>"
      ]
     },
     "metadata": {},
     "output_type": "display_data"
    },
    {
     "data": {
      "text/markdown": [
       "x-axis: Confidence threshold used || y-axis: Fraction of Out of Domain utterances falsely considered on topic"
      ],
      "text/plain": [
       "<IPython.core.display.Markdown object>"
      ]
     },
     "metadata": {},
     "output_type": "display_data"
    },
    {
     "data": {
      "text/markdown": [
       "#### Note: Default acceptance threshold for Watson Assistant is set at 0.2.        Utterances with top intent confidence < 0.2 will be considered irrelevant"
      ],
      "text/plain": [
       "<IPython.core.display.Markdown object>"
      ]
     },
     "metadata": {},
     "output_type": "display_data"
    },
    {
     "data": {
      "image/png": "[encoded data removed]",
      "text/plain": [
       "<Figure size 1490.4x739.44 with 1 Axes>"
      ]
     },
     "metadata": {},
     "output_type": "display_data"
    }
   ],
   "source": [
    "importlib.reload(confidence_analyzer)\n",
    "analysis_df= confidence_analyzer.analysis(results,None)"
   ]
  },
  {
   "cell_type": "markdown",
   "metadata": {},
   "source": [
    "## Analysis Interpretation @ Confidence Level T \n",
    "\n",
    "If a certain confidence threshold T is selected, then \n",
    "1. The on-topic accuracy for test examples which cross the threshold is ***TOA***\n",
    "2. Percentage of total test examples which returned confidences higher than the threshold measured as ***Bot Coverage %***\n",
    "3. If out of domain examples exist, we falsely accept out of domain examples as on topic examples at a rate measured by ***FAR***"
   ]
  },
  {
   "cell_type": "code",
   "execution_count": 26,
   "metadata": {},
   "outputs": [
    {
     "data": {
      "text/html": [
       "<div>\n",
       "<style scoped>\n",
       "    .dataframe tbody tr th:only-of-type {\n",
       "        vertical-align: middle;\n",
       "    }\n",
       "\n",
       "    .dataframe tbody tr th {\n",
       "        vertical-align: top;\n",
       "    }\n",
       "\n",
       "    .dataframe thead th {\n",
       "        text-align: right;\n",
       "    }\n",
       "</style>\n",
       "<table border=\"1\" class=\"dataframe\">\n",
       "  <thead>\n",
       "    <tr style=\"text-align: right;\">\n",
       "      <th></th>\n",
       "      <th>Threshold (T)</th>\n",
       "      <th>Ontopic Accuracy (TOA)</th>\n",
       "      <th>Bot Coverage %</th>\n",
       "      <th>Bot Coverage Counts</th>\n",
       "      <th>False Acceptance Rate (FAR)</th>\n",
       "    </tr>\n",
       "  </thead>\n",
       "  <tbody>\n",
       "    <tr>\n",
       "      <th>1</th>\n",
       "      <td>0.0</td>\n",
       "      <td>95.652174</td>\n",
       "      <td>100.000000</td>\n",
       "      <td>53 / 53</td>\n",
       "      <td>100.000000</td>\n",
       "    </tr>\n",
       "    <tr>\n",
       "      <th>2</th>\n",
       "      <td>0.1</td>\n",
       "      <td>95.652174</td>\n",
       "      <td>100.000000</td>\n",
       "      <td>53 / 53</td>\n",
       "      <td>100.000000</td>\n",
       "    </tr>\n",
       "    <tr>\n",
       "      <th>3</th>\n",
       "      <td>0.2</td>\n",
       "      <td>95.652174</td>\n",
       "      <td>100.000000</td>\n",
       "      <td>53 / 53</td>\n",
       "      <td>100.000000</td>\n",
       "    </tr>\n",
       "    <tr>\n",
       "      <th>4</th>\n",
       "      <td>0.3</td>\n",
       "      <td>95.652174</td>\n",
       "      <td>100.000000</td>\n",
       "      <td>53 / 53</td>\n",
       "      <td>100.000000</td>\n",
       "    </tr>\n",
       "    <tr>\n",
       "      <th>5</th>\n",
       "      <td>0.4</td>\n",
       "      <td>95.652174</td>\n",
       "      <td>98.113208</td>\n",
       "      <td>52 / 53</td>\n",
       "      <td>85.714286</td>\n",
       "    </tr>\n",
       "    <tr>\n",
       "      <th>6</th>\n",
       "      <td>0.5</td>\n",
       "      <td>97.727273</td>\n",
       "      <td>92.452830</td>\n",
       "      <td>49 / 53</td>\n",
       "      <td>71.428571</td>\n",
       "    </tr>\n",
       "    <tr>\n",
       "      <th>7</th>\n",
       "      <td>0.6</td>\n",
       "      <td>97.727273</td>\n",
       "      <td>88.679245</td>\n",
       "      <td>47 / 53</td>\n",
       "      <td>42.857143</td>\n",
       "    </tr>\n",
       "    <tr>\n",
       "      <th>8</th>\n",
       "      <td>0.7</td>\n",
       "      <td>97.727273</td>\n",
       "      <td>84.905660</td>\n",
       "      <td>45 / 53</td>\n",
       "      <td>14.285714</td>\n",
       "    </tr>\n",
       "    <tr>\n",
       "      <th>9</th>\n",
       "      <td>0.8</td>\n",
       "      <td>100.000000</td>\n",
       "      <td>83.018868</td>\n",
       "      <td>44 / 53</td>\n",
       "      <td>14.285714</td>\n",
       "    </tr>\n",
       "    <tr>\n",
       "      <th>10</th>\n",
       "      <td>0.9</td>\n",
       "      <td>100.000000</td>\n",
       "      <td>81.132075</td>\n",
       "      <td>43 / 53</td>\n",
       "      <td>14.285714</td>\n",
       "    </tr>\n",
       "  </tbody>\n",
       "</table>\n",
       "</div>"
      ],
      "text/plain": [
       "    Threshold (T)  Ontopic Accuracy (TOA)  Bot Coverage % Bot Coverage Counts  \\\n",
       "1             0.0               95.652174      100.000000             53 / 53   \n",
       "2             0.1               95.652174      100.000000             53 / 53   \n",
       "3             0.2               95.652174      100.000000             53 / 53   \n",
       "4             0.3               95.652174      100.000000             53 / 53   \n",
       "5             0.4               95.652174       98.113208             52 / 53   \n",
       "6             0.5               97.727273       92.452830             49 / 53   \n",
       "7             0.6               97.727273       88.679245             47 / 53   \n",
       "8             0.7               97.727273       84.905660             45 / 53   \n",
       "9             0.8              100.000000       83.018868             44 / 53   \n",
       "10            0.9              100.000000       81.132075             43 / 53   \n",
       "\n",
       "    False Acceptance Rate (FAR)  \n",
       "1                    100.000000  \n",
       "2                    100.000000  \n",
       "3                    100.000000  \n",
       "4                    100.000000  \n",
       "5                     85.714286  \n",
       "6                     71.428571  \n",
       "7                     42.857143  \n",
       "8                     14.285714  \n",
       "9                     14.285714  \n",
       "10                    14.285714  "
      ]
     },
     "metadata": {},
     "output_type": "display_data"
    }
   ],
   "source": [
    "analysis_df.index = np.arange(1, len(analysis_df)+1)\n",
    "display(analysis_df)"
   ]
  },
  {
   "cell_type": "markdown",
   "metadata": {},
   "source": [
    "## Threshold Selection\n",
    "\n",
    "By selecting a higher threshold, we can potentially bias our systems towards being more accurate in terms of determining whether an utterance is on topic or out of domain. The default confidence threshold for Watson Assistance is 0.2  \n",
    "\n",
    "**Effect on Accuracy**: When we select a higher threshold T, this can result in higher accuracy (TOA) because only examples with confidences greater than the threshold T are included.\n",
    "\n",
    "**Effect on Bot Coverage %**: However, when we select a higher threshold T, this can also result in less examples being responded to by the virtual assistant.\n",
    "\n",
    "**Deflection to Human Agent**: In the scenarios where the virtual assistant is setup to hand off to a human agent when its less confident, having a higher threshold T can:  \n",
    "\n",
    "1. Improve end user experience when interacting with a virtual assistant, as it is continuing interaction only when its highly confident\n",
    "2. But this can result in higher costs to the customer as this can result in more deflections to the human agents \n",
    "3. There is thus a trade-off and a threshold need to be decided on a per customer basis"
   ]
  },
  {
   "cell_type": "markdown",
   "metadata": {},
   "source": [
    "## Threshold Selection on Individual Intents\n",
    "This section allows the examination of thresholds on specific intents.\n",
    "\n",
    "- Use INTENT_LIST = [] to get analysis which averages across all intents\n",
    "- Use INTENT_LIST = ['intent1', 'intent2'] to examine specific intents and threshold analysis on these intents\n",
    "- Use INTENT_LIST = ['ALL_INTENTS'] to examine all intents and threshold analysis for each\n",
    "- Use INTENT_LIST = [MOST_FREQUENT_INTENT] to get analysis on the intent with the most test examples (DEFAULT)\n",
    "\n",
    "**False Acceptance Rate (FAR) for specific intents**  \n",
    "When we calculate FAR across all intents (as in previous section) we calculate fraction of out of domain examples falsely considered on topic. When we calculate FAR for specific intents, we calculate the fraction of examples which were falsely predicted to be that specific intent."
   ]
  },
  {
   "cell_type": "code",
   "execution_count": 27,
   "metadata": {},
   "outputs": [
    {
     "data": {
      "text/markdown": [
       "### Threshold Analysis for Intent: General_Connect_to_Agent"
      ],
      "text/plain": [
       "<IPython.core.display.Markdown object>"
      ]
     },
     "metadata": {},
     "output_type": "display_data"
    },
    {
     "data": {
      "text/markdown": [
       "Out of Domain examples fewer than **5** thus             no False Acceptance Rate (FAR) calculated"
      ],
      "text/plain": [
       "<IPython.core.display.Markdown object>"
      ]
     },
     "metadata": {},
     "output_type": "display_data"
    },
    {
     "data": {
      "text/html": [
       "<div>\n",
       "<style scoped>\n",
       "    .dataframe tbody tr th:only-of-type {\n",
       "        vertical-align: middle;\n",
       "    }\n",
       "\n",
       "    .dataframe tbody tr th {\n",
       "        vertical-align: top;\n",
       "    }\n",
       "\n",
       "    .dataframe thead th {\n",
       "        text-align: right;\n",
       "    }\n",
       "</style>\n",
       "<table border=\"1\" class=\"dataframe\">\n",
       "  <thead>\n",
       "    <tr style=\"text-align: right;\">\n",
       "      <th></th>\n",
       "      <th>Threshold (T)</th>\n",
       "      <th>Ontopic Accuracy (TOA)</th>\n",
       "      <th>Bot Coverage %</th>\n",
       "      <th>Bot Coverage Counts</th>\n",
       "    </tr>\n",
       "  </thead>\n",
       "  <tbody>\n",
       "    <tr>\n",
       "      <th>1</th>\n",
       "      <td>0.0</td>\n",
       "      <td>100.0</td>\n",
       "      <td>100.000000</td>\n",
       "      <td>12 / 12</td>\n",
       "    </tr>\n",
       "    <tr>\n",
       "      <th>2</th>\n",
       "      <td>0.1</td>\n",
       "      <td>100.0</td>\n",
       "      <td>100.000000</td>\n",
       "      <td>12 / 12</td>\n",
       "    </tr>\n",
       "    <tr>\n",
       "      <th>3</th>\n",
       "      <td>0.2</td>\n",
       "      <td>100.0</td>\n",
       "      <td>100.000000</td>\n",
       "      <td>12 / 12</td>\n",
       "    </tr>\n",
       "    <tr>\n",
       "      <th>4</th>\n",
       "      <td>0.3</td>\n",
       "      <td>100.0</td>\n",
       "      <td>100.000000</td>\n",
       "      <td>12 / 12</td>\n",
       "    </tr>\n",
       "    <tr>\n",
       "      <th>5</th>\n",
       "      <td>0.4</td>\n",
       "      <td>100.0</td>\n",
       "      <td>100.000000</td>\n",
       "      <td>12 / 12</td>\n",
       "    </tr>\n",
       "    <tr>\n",
       "      <th>6</th>\n",
       "      <td>0.5</td>\n",
       "      <td>100.0</td>\n",
       "      <td>100.000000</td>\n",
       "      <td>12 / 12</td>\n",
       "    </tr>\n",
       "    <tr>\n",
       "      <th>7</th>\n",
       "      <td>0.6</td>\n",
       "      <td>100.0</td>\n",
       "      <td>91.666667</td>\n",
       "      <td>11 / 12</td>\n",
       "    </tr>\n",
       "    <tr>\n",
       "      <th>8</th>\n",
       "      <td>0.7</td>\n",
       "      <td>100.0</td>\n",
       "      <td>91.666667</td>\n",
       "      <td>11 / 12</td>\n",
       "    </tr>\n",
       "    <tr>\n",
       "      <th>9</th>\n",
       "      <td>0.8</td>\n",
       "      <td>100.0</td>\n",
       "      <td>83.333333</td>\n",
       "      <td>10 / 12</td>\n",
       "    </tr>\n",
       "    <tr>\n",
       "      <th>10</th>\n",
       "      <td>0.9</td>\n",
       "      <td>100.0</td>\n",
       "      <td>83.333333</td>\n",
       "      <td>10 / 12</td>\n",
       "    </tr>\n",
       "  </tbody>\n",
       "</table>\n",
       "</div>"
      ],
      "text/plain": [
       "    Threshold (T)  Ontopic Accuracy (TOA)  Bot Coverage % Bot Coverage Counts\n",
       "1             0.0                   100.0      100.000000             12 / 12\n",
       "2             0.1                   100.0      100.000000             12 / 12\n",
       "3             0.2                   100.0      100.000000             12 / 12\n",
       "4             0.3                   100.0      100.000000             12 / 12\n",
       "5             0.4                   100.0      100.000000             12 / 12\n",
       "6             0.5                   100.0      100.000000             12 / 12\n",
       "7             0.6                   100.0       91.666667             11 / 12\n",
       "8             0.7                   100.0       91.666667             11 / 12\n",
       "9             0.8                   100.0       83.333333             10 / 12\n",
       "10            0.9                   100.0       83.333333             10 / 12"
      ]
     },
     "metadata": {},
     "output_type": "display_data"
    }
   ],
   "source": [
    "importlib.reload(confidence_analyzer)\n",
    "\n",
    "# Calculate intent with most test examples\n",
    "for label in list(test_df['intent'].value_counts().index):\n",
    "    if label != skills_util.OFFTOPIC_LABEL:\n",
    "        MOST_FREQUENT_INTENT = label \n",
    "        break\n",
    "        \n",
    "# Specify intents of interest for analysis      \n",
    "INTENT_LIST = [MOST_FREQUENT_INTENT]  \n",
    "\n",
    "analysis_df_list = confidence_analyzer.analysis(results, INTENT_LIST)"
   ]
  },
  {
   "cell_type": "markdown",
   "metadata": {},
   "source": [
    "<a id='part3.2'></a>\n",
    "## 3.2 Term Importance Highlighting\n",
    "\n",
    "This intent can be ground-truth or an incorrect predicted intent. It provides term level insights on which terms the classifier thought were important in relation to that specific intent.\n",
    "\n",
    "Even if the system predicts an intent correctly, the terms which the intent classifier though were important may not be as expected by human insight. Human insight might suggest that the intent classifier is focusing on the wrong terms.  \n",
    "\n",
    "The score of each term in the following highlighted images can be viewed as importance factor of that term for that specific intent. The larger the score, the more important the term."
   ]
  },
  {
   "cell_type": "markdown",
   "metadata": {},
   "source": [
    "We can get the highlighted images for either wrongly-predicted utterances or utterances where the classifier returned a low confidence.   \n",
    "\n",
    "<font color=red>**Note**</font>: You will be charged for calls made from this notebook  based on your WA plan"
   ]
  },
  {
   "cell_type": "code",
   "execution_count": 28,
   "metadata": {},
   "outputs": [
    {
     "data": {
      "text/markdown": [
       "### Identified 1 problematic utterances "
      ],
      "text/plain": [
       "<IPython.core.display.Markdown object>"
      ]
     },
     "metadata": {},
     "output_type": "display_data"
    },
    {
     "data": {
      "text/markdown": [
       "  "
      ],
      "text/plain": [
       "<IPython.core.display.Markdown object>"
      ]
     },
     "metadata": {},
     "output_type": "display_data"
    },
    {
     "name": "stdout",
     "output_type": "stream",
     "text": [
      "Starting Thread-1\n",
      "Starting Thread-2\n",
      "Starting Thread-3\n",
      "Starting Thread-4\n",
      "Starting Thread-5\n",
      "Exiting Thread-2\n",
      "Exiting Thread-3\n",
      "Exiting Thread-1Exiting Thread-4\n",
      "\n",
      "Exiting Thread-5\n",
      "--- Total time: 0.5329396724700928 seconds ---\n"
     ]
    },
    {
     "data": {
      "text/markdown": [
       "   "
      ],
      "text/plain": [
       "<IPython.core.display.Markdown object>"
      ]
     },
     "metadata": {},
     "output_type": "display_data"
    },
    {
     "data": {
      "text/markdown": [
       "1 examples are shown below:"
      ],
      "text/plain": [
       "<IPython.core.display.Markdown object>"
      ]
     },
     "metadata": {},
     "output_type": "display_data"
    },
    {
     "data": {
      "text/html": [
       "<div>\n",
       "<style scoped>\n",
       "    .dataframe tbody tr th:only-of-type {\n",
       "        vertical-align: middle;\n",
       "    }\n",
       "\n",
       "    .dataframe tbody tr th {\n",
       "        vertical-align: top;\n",
       "    }\n",
       "\n",
       "    .dataframe thead th {\n",
       "        text-align: right;\n",
       "    }\n",
       "</style>\n",
       "<table border=\"1\" class=\"dataframe\">\n",
       "  <thead>\n",
       "    <tr style=\"text-align: right;\">\n",
       "      <th></th>\n",
       "      <th>Characteristic</th>\n",
       "      <th>Value</th>\n",
       "    </tr>\n",
       "  </thead>\n",
       "  <tbody>\n",
       "    <tr>\n",
       "      <th>1</th>\n",
       "      <td>Test Set Index</td>\n",
       "      <td>0</td>\n",
       "    </tr>\n",
       "    <tr>\n",
       "      <th>2</th>\n",
       "      <td>Utterance</td>\n",
       "      <td>where is the closest agent</td>\n",
       "    </tr>\n",
       "    <tr>\n",
       "      <th>3</th>\n",
       "      <td>Actual Intent</td>\n",
       "      <td>General_Connect_to_Agent</td>\n",
       "    </tr>\n",
       "    <tr>\n",
       "      <th>4</th>\n",
       "      <td>Predicted Intent</td>\n",
       "      <td>General_Connect_to_Agent</td>\n",
       "    </tr>\n",
       "    <tr>\n",
       "      <th>5</th>\n",
       "      <td>Confidence</td>\n",
       "      <td>1</td>\n",
       "    </tr>\n",
       "  </tbody>\n",
       "</table>\n",
       "</div>"
      ],
      "text/plain": [
       "     Characteristic                       Value\n",
       "1    Test Set Index                           0\n",
       "2         Utterance  where is the closest agent\n",
       "3     Actual Intent    General_Connect_to_Agent\n",
       "4  Predicted Intent    General_Connect_to_Agent\n",
       "5        Confidence                           1"
      ]
     },
     "metadata": {},
     "output_type": "display_data"
    },
    {
     "data": {
      "image/png": "[encoded data removed]",
      "text/plain": [
       "<Figure size 144x360 with 2 Axes>"
      ]
     },
     "metadata": {},
     "output_type": "display_data"
    }
   ],
   "source": [
    "importlib.reload(highlighter)\n",
    "\n",
    "# Pick an example from section 1 which was misclassified\n",
    "# Add the example and correct intent for the example\n",
    "utterance = \"where is the closest agent\"  # input example\n",
    "intent = \"General_Connect_to_Agent\"  # input an intent in your workspace which you are interested in.\n",
    "\n",
    "\n",
    "inference_results = inferencer.inference(conversation=conversation, \n",
    "                                    workspace_id=workspace_id, \n",
    "                                    test_data=pd.DataFrame({'utterance':[utterance], \n",
    "                                                            'intent':[intent]}), \n",
    "                                    max_retries = 10, \n",
    "                                    max_thread = 1, \n",
    "                                    verbose = False)\n",
    "\n",
    "highlighter.get_highlights_in_batch_multi_thread(conversation, \n",
    "                                                 workspace_id,\n",
    "                                                 inference_results, \n",
    "                                                 None,\n",
    "                                                 1,\n",
    "                                                 1,\n",
    "                                                 lang_util)"
   ]
  },
  {
   "cell_type": "markdown",
   "metadata": {},
   "source": [
    "In the section below we analyze your test results and produce highlighting for the top 25 problematic utterances which were either mistakes or had confidences below the threshold that was set.    \n",
    "\n",
    "<font color=red>**Note**</font>: You will be charged for calls made from this notebook  based on your WA plan"
   ]
  },
  {
   "cell_type": "code",
   "execution_count": 29,
   "metadata": {
    "scrolled": false
   },
   "outputs": [
    {
     "data": {
      "text/markdown": [
       "### Identified 9 problematic utterances "
      ],
      "text/plain": [
       "<IPython.core.display.Markdown object>"
      ]
     },
     "metadata": {},
     "output_type": "display_data"
    },
    {
     "data": {
      "text/markdown": [
       "  "
      ],
      "text/plain": [
       "<IPython.core.display.Markdown object>"
      ]
     },
     "metadata": {},
     "output_type": "display_data"
    },
    {
     "name": "stdout",
     "output_type": "stream",
     "text": [
      "Starting Thread-1\n",
      "Starting Thread-2\n",
      "Starting Thread-3Starting Thread-4\n",
      "\n",
      "Starting Thread-5\n",
      "Exiting Thread-5\n",
      "Exiting Thread-1\n",
      "Exiting Thread-3\n",
      "Exiting Thread-4\n",
      "Exiting Thread-2\n",
      "--- Total time: 5.771083354949951 seconds ---\n"
     ]
    },
    {
     "data": {
      "text/markdown": [
       "   "
      ],
      "text/plain": [
       "<IPython.core.display.Markdown object>"
      ]
     },
     "metadata": {},
     "output_type": "display_data"
    },
    {
     "data": {
      "text/markdown": [
       "25 examples are shown below:"
      ],
      "text/plain": [
       "<IPython.core.display.Markdown object>"
      ]
     },
     "metadata": {},
     "output_type": "display_data"
    },
    {
     "data": {
      "text/html": [
       "<div>\n",
       "<style scoped>\n",
       "    .dataframe tbody tr th:only-of-type {\n",
       "        vertical-align: middle;\n",
       "    }\n",
       "\n",
       "    .dataframe tbody tr th {\n",
       "        vertical-align: top;\n",
       "    }\n",
       "\n",
       "    .dataframe thead th {\n",
       "        text-align: right;\n",
       "    }\n",
       "</style>\n",
       "<table border=\"1\" class=\"dataframe\">\n",
       "  <thead>\n",
       "    <tr style=\"text-align: right;\">\n",
       "      <th></th>\n",
       "      <th>Characteristic</th>\n",
       "      <th>Value</th>\n",
       "    </tr>\n",
       "  </thead>\n",
       "  <tbody>\n",
       "    <tr>\n",
       "      <th>1</th>\n",
       "      <td>Test Set Index</td>\n",
       "      <td>52</td>\n",
       "    </tr>\n",
       "    <tr>\n",
       "      <th>2</th>\n",
       "      <td>Utterance</td>\n",
       "      <td>what is a way to change my account address</td>\n",
       "    </tr>\n",
       "    <tr>\n",
       "      <th>3</th>\n",
       "      <td>Actual Intent</td>\n",
       "      <td>SYSTEM_OUT_OF_DOMAIN</td>\n",
       "    </tr>\n",
       "    <tr>\n",
       "      <th>4</th>\n",
       "      <td>Predicted Intent</td>\n",
       "      <td>Customer_Care_Store_Location</td>\n",
       "    </tr>\n",
       "    <tr>\n",
       "      <th>5</th>\n",
       "      <td>Confidence</td>\n",
       "      <td>0.939837</td>\n",
       "    </tr>\n",
       "  </tbody>\n",
       "</table>\n",
       "</div>"
      ],
      "text/plain": [
       "     Characteristic                                        Value\n",
       "1    Test Set Index                                           52\n",
       "2         Utterance  what is a way to change my account address \n",
       "3     Actual Intent                         SYSTEM_OUT_OF_DOMAIN\n",
       "4  Predicted Intent                 Customer_Care_Store_Location\n",
       "5        Confidence                                     0.939837"
      ]
     },
     "metadata": {},
     "output_type": "display_data"
    },
    {
     "data": {
      "image/png": "[encoded data removed]",
      "text/plain": [
       "<Figure size 144x360 with 2 Axes>"
      ]
     },
     "metadata": {},
     "output_type": "display_data"
    },
    {
     "data": {
      "text/html": [
       "<div>\n",
       "<style scoped>\n",
       "    .dataframe tbody tr th:only-of-type {\n",
       "        vertical-align: middle;\n",
       "    }\n",
       "\n",
       "    .dataframe tbody tr th {\n",
       "        vertical-align: top;\n",
       "    }\n",
       "\n",
       "    .dataframe thead th {\n",
       "        text-align: right;\n",
       "    }\n",
       "</style>\n",
       "<table border=\"1\" class=\"dataframe\">\n",
       "  <thead>\n",
       "    <tr style=\"text-align: right;\">\n",
       "      <th></th>\n",
       "      <th>Characteristic</th>\n",
       "      <th>Value</th>\n",
       "    </tr>\n",
       "  </thead>\n",
       "  <tbody>\n",
       "    <tr>\n",
       "      <th>1</th>\n",
       "      <td>Test Set Index</td>\n",
       "      <td>43</td>\n",
       "    </tr>\n",
       "    <tr>\n",
       "      <th>2</th>\n",
       "      <td>Utterance</td>\n",
       "      <td>see you tomorrow</td>\n",
       "    </tr>\n",
       "    <tr>\n",
       "      <th>3</th>\n",
       "      <td>Actual Intent</td>\n",
       "      <td>Goodbye</td>\n",
       "    </tr>\n",
       "    <tr>\n",
       "      <th>4</th>\n",
       "      <td>Predicted Intent</td>\n",
       "      <td>General_Greetings</td>\n",
       "    </tr>\n",
       "    <tr>\n",
       "      <th>5</th>\n",
       "      <td>Confidence</td>\n",
       "      <td>0.717742</td>\n",
       "    </tr>\n",
       "  </tbody>\n",
       "</table>\n",
       "</div>"
      ],
      "text/plain": [
       "     Characteristic              Value\n",
       "1    Test Set Index                 43\n",
       "2         Utterance   see you tomorrow\n",
       "3     Actual Intent            Goodbye\n",
       "4  Predicted Intent  General_Greetings\n",
       "5        Confidence           0.717742"
      ]
     },
     "metadata": {},
     "output_type": "display_data"
    },
    {
     "data": {
      "image/png": "[encoded data removed]",
      "text/plain": [
       "<Figure size 144x360 with 2 Axes>"
      ]
     },
     "metadata": {},
     "output_type": "display_data"
    },
    {
     "data": {
      "text/html": [
       "<div>\n",
       "<style scoped>\n",
       "    .dataframe tbody tr th:only-of-type {\n",
       "        vertical-align: middle;\n",
       "    }\n",
       "\n",
       "    .dataframe tbody tr th {\n",
       "        vertical-align: top;\n",
       "    }\n",
       "\n",
       "    .dataframe thead th {\n",
       "        text-align: right;\n",
       "    }\n",
       "</style>\n",
       "<table border=\"1\" class=\"dataframe\">\n",
       "  <thead>\n",
       "    <tr style=\"text-align: right;\">\n",
       "      <th></th>\n",
       "      <th>Characteristic</th>\n",
       "      <th>Value</th>\n",
       "    </tr>\n",
       "  </thead>\n",
       "  <tbody>\n",
       "    <tr>\n",
       "      <th>1</th>\n",
       "      <td>Test Set Index</td>\n",
       "      <td>44</td>\n",
       "    </tr>\n",
       "    <tr>\n",
       "      <th>2</th>\n",
       "      <td>Utterance</td>\n",
       "      <td>i dont think i want to do that</td>\n",
       "    </tr>\n",
       "    <tr>\n",
       "      <th>3</th>\n",
       "      <td>Actual Intent</td>\n",
       "      <td>Cancel</td>\n",
       "    </tr>\n",
       "    <tr>\n",
       "      <th>4</th>\n",
       "      <td>Predicted Intent</td>\n",
       "      <td>General_Connect_to_Agent</td>\n",
       "    </tr>\n",
       "    <tr>\n",
       "      <th>5</th>\n",
       "      <td>Confidence</td>\n",
       "      <td>0.478445</td>\n",
       "    </tr>\n",
       "  </tbody>\n",
       "</table>\n",
       "</div>"
      ],
      "text/plain": [
       "     Characteristic                           Value\n",
       "1    Test Set Index                              44\n",
       "2         Utterance  i dont think i want to do that\n",
       "3     Actual Intent                          Cancel\n",
       "4  Predicted Intent        General_Connect_to_Agent\n",
       "5        Confidence                        0.478445"
      ]
     },
     "metadata": {},
     "output_type": "display_data"
    },
    {
     "data": {
      "image/png": "[encoded data removed]",
      "text/plain": [
       "<Figure size 144x360 with 2 Axes>"
      ]
     },
     "metadata": {},
     "output_type": "display_data"
    },
    {
     "data": {
      "text/html": [
       "<div>\n",
       "<style scoped>\n",
       "    .dataframe tbody tr th:only-of-type {\n",
       "        vertical-align: middle;\n",
       "    }\n",
       "\n",
       "    .dataframe tbody tr th {\n",
       "        vertical-align: top;\n",
       "    }\n",
       "\n",
       "    .dataframe thead th {\n",
       "        text-align: right;\n",
       "    }\n",
       "</style>\n",
       "<table border=\"1\" class=\"dataframe\">\n",
       "  <thead>\n",
       "    <tr style=\"text-align: right;\">\n",
       "      <th></th>\n",
       "      <th>Characteristic</th>\n",
       "      <th>Value</th>\n",
       "    </tr>\n",
       "  </thead>\n",
       "  <tbody>\n",
       "    <tr>\n",
       "      <th>1</th>\n",
       "      <td>Test Set Index</td>\n",
       "      <td>49</td>\n",
       "    </tr>\n",
       "    <tr>\n",
       "      <th>2</th>\n",
       "      <td>Utterance</td>\n",
       "      <td>where did betty buy her butter</td>\n",
       "    </tr>\n",
       "    <tr>\n",
       "      <th>3</th>\n",
       "      <td>Actual Intent</td>\n",
       "      <td>SYSTEM_OUT_OF_DOMAIN</td>\n",
       "    </tr>\n",
       "    <tr>\n",
       "      <th>4</th>\n",
       "      <td>Predicted Intent</td>\n",
       "      <td>Customer_Care_Store_Location</td>\n",
       "    </tr>\n",
       "    <tr>\n",
       "      <th>5</th>\n",
       "      <td>Confidence</td>\n",
       "      <td>0.639675</td>\n",
       "    </tr>\n",
       "  </tbody>\n",
       "</table>\n",
       "</div>"
      ],
      "text/plain": [
       "     Characteristic                            Value\n",
       "1    Test Set Index                               49\n",
       "2         Utterance  where did betty buy her butter \n",
       "3     Actual Intent             SYSTEM_OUT_OF_DOMAIN\n",
       "4  Predicted Intent     Customer_Care_Store_Location\n",
       "5        Confidence                         0.639675"
      ]
     },
     "metadata": {},
     "output_type": "display_data"
    },
    {
     "data": {
      "image/png": "[encoded data removed]",
      "text/plain": [
       "<Figure size 144x360 with 2 Axes>"
      ]
     },
     "metadata": {},
     "output_type": "display_data"
    },
    {
     "data": {
      "text/html": [
       "<div>\n",
       "<style scoped>\n",
       "    .dataframe tbody tr th:only-of-type {\n",
       "        vertical-align: middle;\n",
       "    }\n",
       "\n",
       "    .dataframe tbody tr th {\n",
       "        vertical-align: top;\n",
       "    }\n",
       "\n",
       "    .dataframe thead th {\n",
       "        text-align: right;\n",
       "    }\n",
       "</style>\n",
       "<table border=\"1\" class=\"dataframe\">\n",
       "  <thead>\n",
       "    <tr style=\"text-align: right;\">\n",
       "      <th></th>\n",
       "      <th>Characteristic</th>\n",
       "      <th>Value</th>\n",
       "    </tr>\n",
       "  </thead>\n",
       "  <tbody>\n",
       "    <tr>\n",
       "      <th>1</th>\n",
       "      <td>Test Set Index</td>\n",
       "      <td>51</td>\n",
       "    </tr>\n",
       "    <tr>\n",
       "      <th>2</th>\n",
       "      <td>Utterance</td>\n",
       "      <td>can you help me change my account password</td>\n",
       "    </tr>\n",
       "    <tr>\n",
       "      <th>3</th>\n",
       "      <td>Actual Intent</td>\n",
       "      <td>SYSTEM_OUT_OF_DOMAIN</td>\n",
       "    </tr>\n",
       "    <tr>\n",
       "      <th>4</th>\n",
       "      <td>Predicted Intent</td>\n",
       "      <td>Help</td>\n",
       "    </tr>\n",
       "    <tr>\n",
       "      <th>5</th>\n",
       "      <td>Confidence</td>\n",
       "      <td>0.623406</td>\n",
       "    </tr>\n",
       "  </tbody>\n",
       "</table>\n",
       "</div>"
      ],
      "text/plain": [
       "     Characteristic                                        Value\n",
       "1    Test Set Index                                           51\n",
       "2         Utterance  can you help me change my account password \n",
       "3     Actual Intent                         SYSTEM_OUT_OF_DOMAIN\n",
       "4  Predicted Intent                                         Help\n",
       "5        Confidence                                     0.623406"
      ]
     },
     "metadata": {},
     "output_type": "display_data"
    },
    {
     "data": {
      "image/png": "[encoded data removed]",
      "text/plain": [
       "<Figure size 144x360 with 2 Axes>"
      ]
     },
     "metadata": {},
     "output_type": "display_data"
    },
    {
     "data": {
      "text/html": [
       "<div>\n",
       "<style scoped>\n",
       "    .dataframe tbody tr th:only-of-type {\n",
       "        vertical-align: middle;\n",
       "    }\n",
       "\n",
       "    .dataframe tbody tr th {\n",
       "        vertical-align: top;\n",
       "    }\n",
       "\n",
       "    .dataframe thead th {\n",
       "        text-align: right;\n",
       "    }\n",
       "</style>\n",
       "<table border=\"1\" class=\"dataframe\">\n",
       "  <thead>\n",
       "    <tr style=\"text-align: right;\">\n",
       "      <th></th>\n",
       "      <th>Characteristic</th>\n",
       "      <th>Value</th>\n",
       "    </tr>\n",
       "  </thead>\n",
       "  <tbody>\n",
       "    <tr>\n",
       "      <th>1</th>\n",
       "      <td>Test Set Index</td>\n",
       "      <td>50</td>\n",
       "    </tr>\n",
       "    <tr>\n",
       "      <th>2</th>\n",
       "      <td>Utterance</td>\n",
       "      <td>how many engineers does it take to change a lightbulb</td>\n",
       "    </tr>\n",
       "    <tr>\n",
       "      <th>3</th>\n",
       "      <td>Actual Intent</td>\n",
       "      <td>SYSTEM_OUT_OF_DOMAIN</td>\n",
       "    </tr>\n",
       "    <tr>\n",
       "      <th>4</th>\n",
       "      <td>Predicted Intent</td>\n",
       "      <td>General_Connect_to_Agent</td>\n",
       "    </tr>\n",
       "    <tr>\n",
       "      <th>5</th>\n",
       "      <td>Confidence</td>\n",
       "      <td>0.547474</td>\n",
       "    </tr>\n",
       "  </tbody>\n",
       "</table>\n",
       "</div>"
      ],
      "text/plain": [
       "     Characteristic                                                   Value\n",
       "1    Test Set Index                                                      50\n",
       "2         Utterance  how many engineers does it take to change a lightbulb \n",
       "3     Actual Intent                                    SYSTEM_OUT_OF_DOMAIN\n",
       "4  Predicted Intent                                General_Connect_to_Agent\n",
       "5        Confidence                                                0.547474"
      ]
     },
     "metadata": {},
     "output_type": "display_data"
    },
    {
     "data": {
      "image/png": "[encoded data removed]",
      "text/plain": [
       "<Figure size 144x360 with 2 Axes>"
      ]
     },
     "metadata": {},
     "output_type": "display_data"
    },
    {
     "data": {
      "text/html": [
       "<div>\n",
       "<style scoped>\n",
       "    .dataframe tbody tr th:only-of-type {\n",
       "        vertical-align: middle;\n",
       "    }\n",
       "\n",
       "    .dataframe tbody tr th {\n",
       "        vertical-align: top;\n",
       "    }\n",
       "\n",
       "    .dataframe thead th {\n",
       "        text-align: right;\n",
       "    }\n",
       "</style>\n",
       "<table border=\"1\" class=\"dataframe\">\n",
       "  <thead>\n",
       "    <tr style=\"text-align: right;\">\n",
       "      <th></th>\n",
       "      <th>Characteristic</th>\n",
       "      <th>Value</th>\n",
       "    </tr>\n",
       "  </thead>\n",
       "  <tbody>\n",
       "    <tr>\n",
       "      <th>1</th>\n",
       "      <td>Test Set Index</td>\n",
       "      <td>46</td>\n",
       "    </tr>\n",
       "    <tr>\n",
       "      <th>2</th>\n",
       "      <td>Utterance</td>\n",
       "      <td>can you tell me a good joke</td>\n",
       "    </tr>\n",
       "    <tr>\n",
       "      <th>3</th>\n",
       "      <td>Actual Intent</td>\n",
       "      <td>SYSTEM_OUT_OF_DOMAIN</td>\n",
       "    </tr>\n",
       "    <tr>\n",
       "      <th>4</th>\n",
       "      <td>Predicted Intent</td>\n",
       "      <td>General_Greetings</td>\n",
       "    </tr>\n",
       "    <tr>\n",
       "      <th>5</th>\n",
       "      <td>Confidence</td>\n",
       "      <td>0.491619</td>\n",
       "    </tr>\n",
       "  </tbody>\n",
       "</table>\n",
       "</div>"
      ],
      "text/plain": [
       "     Characteristic                        Value\n",
       "1    Test Set Index                           46\n",
       "2         Utterance  can you tell me a good joke\n",
       "3     Actual Intent         SYSTEM_OUT_OF_DOMAIN\n",
       "4  Predicted Intent            General_Greetings\n",
       "5        Confidence                     0.491619"
      ]
     },
     "metadata": {},
     "output_type": "display_data"
    },
    {
     "data": {
      "image/png": "[encoded data removed]",
      "text/plain": [
       "<Figure size 144x360 with 2 Axes>"
      ]
     },
     "metadata": {},
     "output_type": "display_data"
    },
    {
     "data": {
      "text/html": [
       "<div>\n",
       "<style scoped>\n",
       "    .dataframe tbody tr th:only-of-type {\n",
       "        vertical-align: middle;\n",
       "    }\n",
       "\n",
       "    .dataframe tbody tr th {\n",
       "        vertical-align: top;\n",
       "    }\n",
       "\n",
       "    .dataframe thead th {\n",
       "        text-align: right;\n",
       "    }\n",
       "</style>\n",
       "<table border=\"1\" class=\"dataframe\">\n",
       "  <thead>\n",
       "    <tr style=\"text-align: right;\">\n",
       "      <th></th>\n",
       "      <th>Characteristic</th>\n",
       "      <th>Value</th>\n",
       "    </tr>\n",
       "  </thead>\n",
       "  <tbody>\n",
       "    <tr>\n",
       "      <th>1</th>\n",
       "      <td>Test Set Index</td>\n",
       "      <td>47</td>\n",
       "    </tr>\n",
       "    <tr>\n",
       "      <th>2</th>\n",
       "      <td>Utterance</td>\n",
       "      <td>what is your iq</td>\n",
       "    </tr>\n",
       "    <tr>\n",
       "      <th>3</th>\n",
       "      <td>Actual Intent</td>\n",
       "      <td>SYSTEM_OUT_OF_DOMAIN</td>\n",
       "    </tr>\n",
       "    <tr>\n",
       "      <th>4</th>\n",
       "      <td>Predicted Intent</td>\n",
       "      <td>Customer_Care_Store_Hours</td>\n",
       "    </tr>\n",
       "    <tr>\n",
       "      <th>5</th>\n",
       "      <td>Confidence</td>\n",
       "      <td>0.407189</td>\n",
       "    </tr>\n",
       "  </tbody>\n",
       "</table>\n",
       "</div>"
      ],
      "text/plain": [
       "     Characteristic                      Value\n",
       "1    Test Set Index                         47\n",
       "2         Utterance            what is your iq\n",
       "3     Actual Intent       SYSTEM_OUT_OF_DOMAIN\n",
       "4  Predicted Intent  Customer_Care_Store_Hours\n",
       "5        Confidence                   0.407189"
      ]
     },
     "metadata": {},
     "output_type": "display_data"
    },
    {
     "data": {
      "image/png": "[encoded data removed]",
      "text/plain": [
       "<Figure size 144x360 with 2 Axes>"
      ]
     },
     "metadata": {},
     "output_type": "display_data"
    },
    {
     "data": {
      "text/html": [
       "<div>\n",
       "<style scoped>\n",
       "    .dataframe tbody tr th:only-of-type {\n",
       "        vertical-align: middle;\n",
       "    }\n",
       "\n",
       "    .dataframe tbody tr th {\n",
       "        vertical-align: top;\n",
       "    }\n",
       "\n",
       "    .dataframe thead th {\n",
       "        text-align: right;\n",
       "    }\n",
       "</style>\n",
       "<table border=\"1\" class=\"dataframe\">\n",
       "  <thead>\n",
       "    <tr style=\"text-align: right;\">\n",
       "      <th></th>\n",
       "      <th>Characteristic</th>\n",
       "      <th>Value</th>\n",
       "    </tr>\n",
       "  </thead>\n",
       "  <tbody>\n",
       "    <tr>\n",
       "      <th>1</th>\n",
       "      <td>Test Set Index</td>\n",
       "      <td>48</td>\n",
       "    </tr>\n",
       "    <tr>\n",
       "      <th>2</th>\n",
       "      <td>Utterance</td>\n",
       "      <td>luke  i am your father</td>\n",
       "    </tr>\n",
       "    <tr>\n",
       "      <th>3</th>\n",
       "      <td>Actual Intent</td>\n",
       "      <td>SYSTEM_OUT_OF_DOMAIN</td>\n",
       "    </tr>\n",
       "    <tr>\n",
       "      <th>4</th>\n",
       "      <td>Predicted Intent</td>\n",
       "      <td>Customer_Care_Store_Hours</td>\n",
       "    </tr>\n",
       "    <tr>\n",
       "      <th>5</th>\n",
       "      <td>Confidence</td>\n",
       "      <td>0.345278</td>\n",
       "    </tr>\n",
       "  </tbody>\n",
       "</table>\n",
       "</div>"
      ],
      "text/plain": [
       "     Characteristic                      Value\n",
       "1    Test Set Index                         48\n",
       "2         Utterance     luke  i am your father\n",
       "3     Actual Intent       SYSTEM_OUT_OF_DOMAIN\n",
       "4  Predicted Intent  Customer_Care_Store_Hours\n",
       "5        Confidence                   0.345278"
      ]
     },
     "metadata": {},
     "output_type": "display_data"
    },
    {
     "data": {
      "image/png": "[encoded data removed]",
      "text/plain": [
       "<Figure size 144x360 with 2 Axes>"
      ]
     },
     "metadata": {},
     "output_type": "display_data"
    }
   ],
   "source": [
    "importlib.reload(highlighter)\n",
    "\n",
    "# The output folder for generated images\n",
    "# Note modify this if you want the generated images to be stored in a different directory\n",
    "\n",
    "highlighting_output_folder = './highlighting_images/'\n",
    "if not os.path.exists(highlighting_output_folder):\n",
    "    os.mkdir(highlighting_output_folder)\n",
    "\n",
    "# The threshold the prediction needs to achieve below which  \n",
    "# it will be considered as `out of domain` or `offtopic` utterances. \n",
    "threshold = 0.2\n",
    "\n",
    "# Maximum number of test set examples whose highlighting analysis will be conducted\n",
    "K=25\n",
    "highlighter.get_highlights_in_batch_multi_thread(conversation, \n",
    "                                                 workspace_id,full_results, \n",
    "                                                 highlighting_output_folder,\n",
    "                                                 threshold,\n",
    "                                                 K,\n",
    "                                                 lang_util)"
   ]
  },
  {
   "cell_type": "markdown",
   "metadata": {},
   "source": [
    "<a id='part3.3'></a>\n",
    "## 3.3 Abnormal Confidence Analysis\n",
    "Every test utterance is classified as a specific intent with a specific confidence by the WA intent classifier. It is expected that model would be confident when correctly predicting examples and not highly confident when incorrectly predicting examples. \n",
    "\n",
    "But often this is not true. This may suggest there are anomalies in the design. Examples that are predicted correctly with low confidence and the examples that are predicted incorrectly with high confidence are thus cases which need to be reviewed."
   ]
  },
  {
   "cell_type": "code",
   "execution_count": 30,
   "metadata": {},
   "outputs": [],
   "source": [
    "importlib.reload(confidence_analyzer)\n",
    "correct_thresh, wrong_thresh = 0.3, 0.7\n",
    "correct_with_low_conf_list, incorrect_with_high_conf_list = confidence_analyzer.abnormal_conf(\n",
    "    full_results, correct_thresh, wrong_thresh)"
   ]
  },
  {
   "cell_type": "code",
   "execution_count": 31,
   "metadata": {},
   "outputs": [],
   "source": [
    "if len(correct_with_low_conf_list) > 0:\n",
    "    display(Markdown(\"#### Examples correctedly predicted with low confidence\"))\n",
    "    with pd.option_context('max_colwidth', 250):\n",
    "        display(HTML(correct_with_low_conf_list.to_html(index=False)))"
   ]
  },
  {
   "cell_type": "code",
   "execution_count": 32,
   "metadata": {},
   "outputs": [
    {
     "data": {
      "text/markdown": [
       "#### Examples incorrectedly predicted with high confidence"
      ],
      "text/plain": [
       "<IPython.core.display.Markdown object>"
      ]
     },
     "metadata": {},
     "output_type": "display_data"
    },
    {
     "data": {
      "text/html": [
       "<table border=\"1\" class=\"dataframe\">\n",
       "  <thead>\n",
       "    <tr style=\"text-align: right;\">\n",
       "      <th>correct_intent</th>\n",
       "      <th>utterance</th>\n",
       "      <th>top1_prediction</th>\n",
       "      <th>top2_prediction</th>\n",
       "      <th>top3_prediction</th>\n",
       "    </tr>\n",
       "  </thead>\n",
       "  <tbody>\n",
       "    <tr>\n",
       "      <td>Goodbye</td>\n",
       "      <td>see you tomorrow</td>\n",
       "      <td>General_Greetings (0.718)</td>\n",
       "      <td>Customer_Care_Appointments (0.302)</td>\n",
       "      <td>Goodbye (0.269)</td>\n",
       "    </tr>\n",
       "  </tbody>\n",
       "</table>"
      ],
      "text/plain": [
       "<IPython.core.display.HTML object>"
      ]
     },
     "metadata": {},
     "output_type": "display_data"
    }
   ],
   "source": [
    "if len(incorrect_with_high_conf_list) > 0:\n",
    "    display(Markdown(\"#### Examples incorrectedly predicted with high confidence\"))\n",
    "    with pd.option_context('max_colwidth', 250):\n",
    "        display(HTML(incorrect_with_high_conf_list.to_html(index=False)))"
   ]
  },
  {
   "cell_type": "markdown",
   "metadata": {},
   "source": [
    "## Actions for abnormal confidence examples\n",
    "\n",
    "If there are examples which are getting classified incorrectly with high confidence for specific intents, it may indicate an issue in the design of those specific intents as the user examples provided for that intent may be overlapping with the design of other intents.\n",
    "\n",
    "If intent A seems to always get misclassified as intent B with high confidence or gets correctly predicted with low confidence, please consider using intent conflict detection https://cloud.ibm.com/docs/services/assistant?topic=assistant-intents#intents-resolve-conflicts\n",
    "\n",
    "Also consider whether those two intents need to be two separate intents or whether they need to be merged. If they can't be merged, then consider adding more user examples which distinguish intent A specifically from intent B."
   ]
  },
  {
   "cell_type": "markdown",
   "metadata": {},
   "source": [
    "<a id='part3.4'></a>\n",
    "## 3.4 Analysis using Correlated Entities per Intent\n",
    "\n",
    "We perform a chi square significance test for entities as we did for unigrams and bigrams in the previous section. For each utterance in the training data, this analysis will call the mesage api for entity detection on each utterance and find the most correlated entities for each intent\n",
    "\n",
    "<font color=red>**Note**</font>: You will be charged for calls made from this notebook  based on your WA plan."
   ]
  },
  {
   "cell_type": "code",
   "execution_count": 33,
   "metadata": {},
   "outputs": [
    {
     "name": "stdout",
     "output_type": "stream",
     "text": [
      "Starting Thread-1\n",
      "Starting Thread-2\n",
      "Starting Thread-3\n",
      "Starting Thread-4\n",
      "Starting Thread-5\n",
      "Exiting Thread-1\n",
      "Exiting Thread-5\n",
      "Exiting Thread-4\n",
      "Exiting Thread-2\n",
      "Exiting Thread-3\n",
      "--- Total time: 17.635900259017944 seconds ---\n"
     ]
    },
    {
     "data": {
      "text/html": [
       "<div>\n",
       "<style scoped>\n",
       "    .dataframe tbody tr th:only-of-type {\n",
       "        vertical-align: middle;\n",
       "    }\n",
       "\n",
       "    .dataframe tbody tr th {\n",
       "        vertical-align: top;\n",
       "    }\n",
       "\n",
       "    .dataframe thead th {\n",
       "        text-align: right;\n",
       "    }\n",
       "</style>\n",
       "<table border=\"1\" class=\"dataframe\">\n",
       "  <thead>\n",
       "    <tr style=\"text-align: right;\">\n",
       "      <th></th>\n",
       "      <th>Intent</th>\n",
       "      <th>Correlated Entities</th>\n",
       "    </tr>\n",
       "  </thead>\n",
       "  <tbody>\n",
       "    <tr>\n",
       "      <th>1</th>\n",
       "      <td>Customer_Care_Appointments</td>\n",
       "      <td>sys-number</td>\n",
       "    </tr>\n",
       "    <tr>\n",
       "      <th>2</th>\n",
       "      <td>General_Connect_to_Agent</td>\n",
       "      <td>sys-date, reply</td>\n",
       "    </tr>\n",
       "    <tr>\n",
       "      <th>3</th>\n",
       "      <td>Customer_Care_Store_Hours</td>\n",
       "      <td>sys-date, holiday, reply</td>\n",
       "    </tr>\n",
       "  </tbody>\n",
       "</table>\n",
       "</div>"
      ],
      "text/plain": [
       "                       Intent       Correlated Entities\n",
       "1  Customer_Care_Appointments                sys-number\n",
       "2    General_Connect_to_Agent           sys-date, reply\n",
       "3   Customer_Care_Store_Hours  sys-date, holiday, reply"
      ]
     },
     "metadata": {},
     "output_type": "display_data"
    }
   ],
   "source": [
    "importlib.reload(entity_analyzer)\n",
    "importlib.reload(inferencer)\n",
    "if entities_list:\n",
    "    THREAD_NUM = 5# we allow a maximum of 5 threads for faster inference\n",
    "    train_full_results = inferencer.inference(conversation,\n",
    "                                              workspace_id,\n",
    "                                              workspace_pd,\n",
    "                                              max_retries=10, \n",
    "                                              max_thread=THREAD_NUM,\n",
    "                                              verbose=False)\n",
    "    entity_label_correlation_df = entity_analyzer.entity_label_correlation_analysis(\n",
    "        train_full_results, entities_list)\n",
    "    with pd.option_context('display.max_colwidth', 200):\n",
    "        entity_label_correlation_df.index = np.arange(1, len(entity_label_correlation_df) + 1)\n",
    "        display(entity_label_correlation_df)\n",
    "else:\n",
    "    display(Markdown(\"### Target workspace has no entities.\"))"
   ]
  },
  {
   "cell_type": "markdown",
   "metadata": {},
   "source": [
    "<a id='part4'></a>\n",
    "## Part 4: Summary:\n",
    "Congratulation! You have successfully completed the Dialog Skill Analysis. This notebook is designed for improving our dialog skill analysis in an iterative fashion. You can tackle one aspect of your Dialog Skill at a time and start over for another aspect later for continuous improvement."
   ]
  },
  {
   "cell_type": "markdown",
   "metadata": {},
   "source": [
    "##  Glossary\n",
    "\n",
    "**True Positives (TP):** True Positive measures the number of correctly predicted positive values meaning that predicted class is the same as the actual class which is the target intent.\n",
    "\n",
    "**True Negatives (TN):** True Negative measures the number of correctly predicted negative values meaning that the predicted class is the same as the actual class which is not the target intent.\n",
    "\n",
    "**False Positives (FP):** False Positive measures the number of incorrectly predicted positive values meaning that the predicted class is the target intent but the actual class is not the target intent.  \n",
    "\n",
    "**False Negatives (FN):** False Negatives measures the number of incorrectly predicted negative values meaning that the predicted class is not the target intent but the actual class is the target intent. \n",
    "\n",
    "**Accuracy:** Accuracy measures the ratio of corrected predicted user examples out of all user examples.   \n",
    "Accuracy = (TP + TN) / (TP + TN + FP + FN)  \n",
    "\n",
    "**Precision:** Precision measures the ratio of correctly predicted positive observations out of total predicted positive observations.   \n",
    "Precision = TP / (TP + FP)  \n",
    "\n",
    "**Recall:** Recall measures the ratio of correctly predicted positive observations out of all observations of the target intent.  \n",
    "Recall = TP / (TP + FN)\n",
    "\n",
    "**F1 Score:** F1 Score is the harmonic average of Precision and Recall.  \n",
    "F1 = 2 \\* (Precision \\* Recall)/ (Precision + Recall)\n",
    "\n",
    "For more information related to Watson Assistant: \n",
    "<a href=\"https://cloud.ibm.com/docs/services/assistant\" target=\"_blank\" rel=\"noopener no referrer\">Watson Assistant Documentation</a>"
   ]
  },
  {
   "cell_type": "markdown",
   "metadata": {},
   "source": [
    "###  Authors\n",
    "\n",
    "**Haode Qi** is a data scientist at IBM Watson. He conducts research with NLP technologies and delivers Machine Learning Algorithm into IBM Watson's market leading conversational AI service. He is involved in several IBM open-source projects like the Auto-AI framework Lale and works with a dozen of clients to improve their AI chatbot.\n",
    "\n",
    "**Navneet Rao** is an engineering lead at IBM Watson. He believes in building unique AI-powered experiences which augment human capabilities. He currently works on AI innovation & research for IBM's award-winning conversational computing platform, the IBM Watson Assistant. \n",
    "\n",
    "**Ming Tan**, PhD, is a data scientist at IBM Watson. He is mainly working on prototyping and productization of various algorithmic features related to Watson Assistant service. He demonstrates a broad research interest on deep learning approaches for conversational service and related NLP tasks, such as low-resource intent classification, out-of-domain detection, multi-user chat channels, passage-level semantic matching and entity detection. Multiple research works have been published on top-tier NLP conferences.\n",
    "\n",
    "**Yang Yu**, PhD, is a data scientist at IBM Watson. His research focusses mainly include language understanding, question answering, deep learning and representations learning methods for different NLP tasks. At IBM, he achieved awards on several internal machine learning competitions with global researchers. A few novel machine learning solutions he designed and developed solved some critical question answering and human-computer dialog problem in general for several popular Watson Services on the market."
   ]
  },
  {
   "cell_type": "markdown",
   "metadata": {},
   "source": [
    "<hr>\n",
    "Copyright &copy; IBM Corp. 2020. This notebook and its source code are released under the terms of the MIT License."
   ]
  },
  {
   "cell_type": "markdown",
   "metadata": {},
   "source": [
    "<div style=\"background:#F5F7FA; height:110px; padding: 2em; font-size:14px;\">\n",
    "<span style=\"font-size:18px;color:#152935;\">Love this notebook? </span>\n",
    "<span style=\"font-size:15px;color:#152935;float:right;margin-right:40px;\">Don't have an account yet?</span><br>\n",
    "<span style=\"color:#5A6872;\">Share it with your colleagues and help them discover the power of Watson Studio!</span>\n",
    "<span style=\"border: 1px solid #3d70b2;padding:8px;float:right;margin-right:40px; color:#3d70b2;\"><a href=\"https://ibm.co/wsnotebooks\" target=\"_blank\" style=\"color: #3d70b2;text-decoration: none;\">Sign Up</a></span><br>\n",
    "</div>"
   ]
  }
 ],
 "metadata": {
  "celltoolbar": "Raw Cell Format",
  "kernelspec": {
   "display_name": "Python 3.7",
   "language": "python",
   "name": "python3"
  },
  "language_info": {
   "codemirror_mode": {
    "name": "ipython",
    "version": 3
   },
   "file_extension": ".py",
   "mimetype": "text/x-python",
   "name": "python",
   "nbconvert_exporter": "python",
   "pygments_lexer": "ipython3",
   "version": "3.7.9"
  }
 },
 "nbformat": 4,
 "nbformat_minor": 2
}
