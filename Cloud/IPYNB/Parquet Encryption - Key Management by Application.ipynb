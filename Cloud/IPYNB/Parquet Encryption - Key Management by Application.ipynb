{
 "cells": [
  {
   "cell_type": "markdown",
   "metadata": {},
   "source": [
    "# Parquet Modular Encryption Example\n",
    "## Key Management by Application"
   ]
  },
  {
   "cell_type": "markdown",
   "metadata": {},
   "source": [
    "Learn to encrypt parquet files and read encrypted parquet files with a pre-configured IBM Analytics Engine. \n",
    "\n",
    "This notebook demonstrates the new parquet modular encryption that IBM supports, for the purpose of encrypting columns, sections or sensitive parts of data, such as Personal Information (PI). For the purposes of this tutorial, you will learn how to encrypt sample blood test data in parquet format, and learn to read and write such encrypted data by using [Key management by application](https://cloud.ibm.com/docs/AnalyticsEngine?topic=AnalyticsEngine-key-management-application). This notebook runs on Scala and Spark."
   ]
  },
  {
   "cell_type": "markdown",
   "metadata": {},
   "source": [
    "### Table of Contents:\n",
    "* [1. Setup the environment](#cell0)\n",
    "* [2. Generate the data](#cell1)\n",
    "* [3. Write the encrypted data](#cell2)\n",
    "* [4. Read the encrypted data](#cell3)\n",
    "* [Summary](#summary)\n",
    "* [Authors](#authors)"
   ]
  },
  {
   "cell_type": "markdown",
   "metadata": {},
   "source": [
    "<a id=\"cell0\"></a>\n",
    "## Setup the environment"
   ]
  },
  {
   "cell_type": "markdown",
   "metadata": {},
   "source": [
    "<div class=\"alert alert-block alert-warning\">\n",
    "    A standard IBM Analytics Engine (IAE) will not be useful for parquet modular encryption. You must configure your IAE according to the <a href=\"https://cloud.ibm.com/docs/AnalyticsEngine?topic=AnalyticsEngine-parquet-encryption\">Analytics Engine Parquet Encryption</a> documentation before you run the rest of the notebook.\n",
    "</div>"
   ]
  },
  {
   "cell_type": "markdown",
   "metadata": {},
   "source": [
    "1. After you have a configured IAE, have your Spark classpaths point to the Parquet jar files as instructed [here](https://cloud.ibm.com/docs/AnalyticsEngine?topic=AnalyticsEngine-parquet-encryption#running-ibm-analytics-engine-with-parquet-encryption). \n",
    "1. Before you add this notebook to your project, associate your configured IAE with the project you are running this notebook in. \n",
    "1. When you create the notebook, choose it as the environment engine for the notebook."
   ]
  },
  {
   "cell_type": "markdown",
   "metadata": {},
   "source": [
    "Define the path to the folder with encrypted parquet files:"
   ]
  },
  {
   "cell_type": "code",
   "execution_count": 1,
   "metadata": {},
   "outputs": [
    {
     "data": {
      "text/plain": [
       "encryptedParquetFullName = /tmp/bloodtests.parquet.encrypted\n"
      ]
     },
     "metadata": {},
     "output_type": "display_data"
    },
    {
     "data": {
      "text/plain": [
       "/tmp/bloodtests.parquet.encrypted"
      ]
     },
     "execution_count": 1,
     "metadata": {},
     "output_type": "execute_result"
    }
   ],
   "source": [
    "val encryptedParquetFullName = \"/tmp/bloodtests.parquet.encrypted\" // Change to your encrypted files path"
   ]
  },
  {
   "cell_type": "markdown",
   "metadata": {},
   "source": [
    "The application would manage the keys in the Key Management service. Enter the setup keys for Parquet Encryption in the following cell. To learn more about provision of the master keys, see the documentation [here](https://cloud.ibm.com/docs/AnalyticsEngine?topic=AnalyticsEngine-key-management-application)."
   ]
  },
  {
   "cell_type": "code",
   "execution_count": 2,
   "metadata": {},
   "outputs": [
    {
     "data": {
      "text/plain": [
       "Waiting for a Spark session to start..."
      ]
     },
     "metadata": {},
     "output_type": "display_data"
    }
   ],
   "source": [
    "sc.hadoopConfiguration.set(\"encryption.key.list\",\n",
    "      \"key1: <your_key_here>==, key2: <your_key_here>==\") // Fill in your personal setup keys"
   ]
  },
  {
   "cell_type": "markdown",
   "metadata": {},
   "source": [
    "<a id=\"cell1\"></a>\n",
    "## Generate the data"
   ]
  },
  {
   "cell_type": "code",
   "execution_count": 3,
   "metadata": {},
   "outputs": [
    {
     "data": {
      "text/plain": [
       "dataRange = List(1, 2, 3, 4, 5, 6, 7, 8, 9, 10, 11, 12, 13, 14, 15, 16, 17, 18, 19, 20, 21, 22, 23, 24, 25, 26, 27, 28, 29, 30, 31, 32, 33, 34, 35, 36, 37, 38, 39, 40)\n",
       "bloodTestList = List((1,2), (2,4), (3,6), (4,8), (5,10), (6,12), (7,14), (8,16), (9,18), (10,20), (11,22), (12,24), (13,26), (14,28), (15,30), (16,32), (17,34), (18,36), (19,38), (20,40), (21,42), (22,44), (23,46), (24,48), (25,50), (26,52), (27,54), (28,56), (29,58), (30,60), (31,62), (32,64), (33,66), (34,68), (35,70), (36,72), (37,74), (38,76), (39,78), (40,80))\n"
      ]
     },
     "metadata": {},
     "output_type": "display_data"
    },
    {
     "data": {
      "text/plain": [
       "List((1,2), (2,4), (3,6), (4,8), (5,10), (6,12), (7,14), (8,16), (9,18), (10,20), (11,22), (12,24), (13,26), (14,28), (15,30), (16,32), (17,34), (18,36), (19,38), (20,40), (21,42), (22,44), (23,46), (24,48), (25,50), (26,52), (27,54), (28,56), (29,58), (30,60), (31,62), (32,64), (33,66), (34,68), (35,70), (36,72), (37,74), (38,76), (39,78), (40,80))"
      ]
     },
     "execution_count": 3,
     "metadata": {},
     "output_type": "execute_result"
    }
   ],
   "source": [
    "val dataRange = (1 to 40).toList\n",
    "val bloodTestList = dataRange.map(i => (i, (i * 2)))"
   ]
  },
  {
   "cell_type": "markdown",
   "metadata": {},
   "source": [
    "<a id=\"cell2\"></a>\n",
    "## Write the encrypted data"
   ]
  },
  {
   "cell_type": "markdown",
   "metadata": {},
   "source": [
    "Write the encrypted data with the following code."
   ]
  },
  {
   "cell_type": "code",
   "execution_count": 4,
   "metadata": {},
   "outputs": [],
   "source": [
    "bloodTestList.toDF(\"id\", \"value\").write\n",
    "        // Configure which columns to encrypt with which keys\n",
    "      .option(\"encryption.column.keys\", \"key1: id\")\n",
    "      .option(\"encryption.footer.key\", \"key2\")\n",
    "      .mode(\"overwrite\").parquet(encryptedParquetFullName)"
   ]
  },
  {
   "cell_type": "markdown",
   "metadata": {},
   "source": [
    "<a id=\"cell3\"></a>\n",
    "## Read the encrypted data"
   ]
  },
  {
   "cell_type": "markdown",
   "metadata": {},
   "source": [
    "Read the actual encrypted data in its decrypted form with the following code."
   ]
  },
  {
   "cell_type": "code",
   "execution_count": 5,
   "metadata": {},
   "outputs": [
    {
     "name": "stdout",
     "output_type": "stream",
     "text": [
      "Hive Session ID = de6e3c91-1a04-4b60-a7b4-da7226e5b266\n",
      "+---+-----+\n",
      "|id |value|\n",
      "+---+-----+\n",
      "|1  |2    |\n",
      "|2  |4    |\n",
      "|3  |6    |\n",
      "|4  |8    |\n",
      "|5  |10   |\n",
      "|6  |12   |\n",
      "|7  |14   |\n",
      "|8  |16   |\n",
      "|9  |18   |\n",
      "|10 |20   |\n",
      "+---+-----+\n",
      "only showing top 10 rows\n",
      "\n"
     ]
    },
    {
     "data": {
      "text/plain": [
       "encrypedDataDF = [id: int, value: int]\n",
       "queryResult = [id: int, value: int]\n"
      ]
     },
     "metadata": {},
     "output_type": "display_data"
    },
    {
     "data": {
      "text/plain": [
       "[id: int, value: int]"
      ]
     },
     "execution_count": 5,
     "metadata": {},
     "output_type": "execute_result"
    }
   ],
   "source": [
    "val encrypedDataDF = spark.read.parquet(encryptedParquetFullName)\n",
    "encrypedDataDF.createOrReplaceTempView(\"bloodtests\")\n",
    "val queryResult = spark.sql(\"SELECT id, value FROM bloodtests\")\n",
    "queryResult.show(10, false)"
   ]
  },
  {
   "cell_type": "markdown",
   "metadata": {},
   "source": [
    "Make sure files were written with parquet encryption (in encrypted footer mode):"
   ]
  },
  {
   "cell_type": "code",
   "execution_count": 6,
   "metadata": {},
   "outputs": [
    {
     "name": "stdout",
     "output_type": "stream",
     "text": [
      "PARE"
     ]
    },
    {
     "data": {
      "text/plain": [
       "parquetPartitionFile = /tmp/bloodtests.parquet.encrypted/part-00000-dcf7f17a-3065-49b5-8aef-56422d4402b6-c000.snappy.parquet\n"
      ]
     },
     "metadata": {},
     "output_type": "display_data"
    },
    {
     "data": {
      "text/plain": [
       "warning: there was one feature warning; re-run with -feature for details\n"
      ]
     },
     "metadata": {},
     "output_type": "display_data"
    },
    {
     "data": {
      "text/plain": [
       "0"
      ]
     },
     "execution_count": 6,
     "metadata": {},
     "output_type": "execute_result"
    }
   ],
   "source": [
    "import scala.sys.process._\n",
    "val parquetPartitionFile = Seq(\"hdfs\", \"dfs\", \"-ls\", \"-S\", \"-C\", encryptedParquetFullName).!!.split(\"\\\\s+\")(0)\n",
    "Seq(\"hdfs\", \"dfs\", \"-tail\", parquetPartitionFile) #| \"tail -c 4\" !"
   ]
  },
  {
   "cell_type": "markdown",
   "metadata": {},
   "source": [
    "If you have done everything correctly, the output of the cell above should be <em>\"PARE\"</em>."
   ]
  },
  {
   "cell_type": "markdown",
   "metadata": {},
   "source": [
    "<a id=\"summary\"></a>\n",
    "## Summary\n",
    "\n",
    "Congratulations! You have successfully completed this notebook and learned to associate a configured IAE to your notebook, and learned to read and write encrypted parquet files and learned more how to deal with the integrity and protection of sensitive data."
   ]
  },
  {
   "cell_type": "markdown",
   "metadata": {},
   "source": [
    "<a id=\"authors\"></a>\n",
    "### Authors\n",
    "\n",
    "**Maya Anderson** is a Cloud Storage Researcher at IBM.  "
   ]
  },
  {
   "cell_type": "markdown",
   "metadata": {},
   "source": [
    "Copyright © 2020 IBM. This notebook and its source code are released under the terms of the MIT License."
   ]
  },
  {
   "cell_type": "markdown",
   "metadata": {},
   "source": [
    "<div style='background:#F5F7FA; height:110px; padding: 2em; font-size:14px;'>\n",
    "<span style='font-size:18px;color:#152935;'>Love this notebook? </span>\n",
    "<span style='font-size:15px;color:#152935;float:right;margin-right:40px;'>Don't have an account yet?</span><br>\n",
    "<span style='color:#5A6872;'>Share it with your colleagues and help them discover the power of Watson Studio!</span>\n",
    "<span style='border: 1px solid #3d70b2;padding:8px;float:right;margin-right:40px; color:#3d70b2;'><a href='https://ibm.co/wsnotebooks' target='_blank' style='color: #3d70b2;text-decoration: none;'>Sign Up</a></span><br>\n",
    "</div>"
   ]
  }
 ],
 "metadata": {
  "kernelspec": {
   "display_name": "Python 3.6",
   "language": "python",
   "name": "python3"
  },
  "language_info": {
   "codemirror_mode": {
    "name": "ipython",
    "version": 3
   },
   "file_extension": ".py",
   "mimetype": "text/x-python",
   "name": "python",
   "nbconvert_exporter": "python",
   "pygments_lexer": "ipython3",
   "version": "3.6.9"
  }
 },
 "nbformat": 4,
 "nbformat_minor": 1
}
