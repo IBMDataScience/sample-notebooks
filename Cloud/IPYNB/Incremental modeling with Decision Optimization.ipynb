{
 "cells": [
  {
   "cell_type": "markdown",
   "metadata": {
    "render": true
   },
   "source": [
    "# Incremental modeling with Decision Optimization\n",
    "\n",
    "This tutorial includes everything you need to set up Decision Optimization engines, build a mathematical programming model, then incrementally modify it.\n",
    "You will learn how to:\n",
    "- change coefficients in an expression\n",
    "- add terms in an expression\n",
    "- modify constraints and variables bounds\n",
    "- remove/add constraints\n",
    "- play with relaxations\n",
    "\n",
    "\n",
    "**Table of contents:**\n",
    "\n",
    "-  [Describe the business problem](#Describe-the-business-problem:-Telephone-production)\n",
    "*  [How Decision Optimization can help](#How-Decision-Optimization-can-help)\n",
    "*  [Use Decision Optimization](#Use-Decision-Optimization)\n",
    "    *  [Step 1: Set up the prescriptive model](#Step-1:-Set-up-the-prescriptive-model)\n",
    "    *  [Step 2: Modify the model](#Step-2:-Modify-the-model)\n",
    "*  [Summary](#Summary)\n",
    "****"
   ]
  },
  {
   "cell_type": "markdown",
   "metadata": {
    "render": true
   },
   "source": [
    "## Describe the business problem: Telephone production\n",
    "\n",
    "A possible descriptive model of the telephone production problem is as follows:\n",
    "* Decision variables:\n",
    "   * Number of desk phones produced (DeskProduction)\n",
    "   * Number of cellular phones produced (CellProduction)\n",
    "Objective: Maximize profit\n",
    "* Constraints:\n",
    "   * The DeskProduction should be greater than or equal to 100.\n",
    "   * The CellProduction should be greater than or equal to 100.\n",
    "   * The assembly time for DeskProduction plus the assembly time for CellProduction should not exceed 400 hours.\n",
    "   * The painting time for DeskProduction plus the painting time for CellProduction should not exceed 490 hours.\n",
    "\n",
    "This is a type of discrete optimization problem that can be solved by using either **Integer Programming** (IP) or **Constraint Programming** (CP). \n",
    "\n",
    ">  **Integer Programming** is the class of problems defined as the optimization of a linear function, subject to linear constraints over integer variables. \n",
    "\n",
    ">  **Constraint Programming** problems generally have discrete decision variables, but the constraints can be logical, and the arithmetic expressions are not restricted to being linear. \n",
    "\n",
    "For the purposes of this tutorial, we will illustrate a solution with mathematical programming (MP).  \n"
   ]
  },
  {
   "cell_type": "markdown",
   "metadata": {
    "render": true
   },
   "source": [
    "## How Decision Optimization can help\n",
    "\n",
    "* Prescriptive analytics (Decision Optimization) technology recommends actions that are based on desired outcomes.  It takes into account specific scenarios, resources, and knowledge of past and current events. With this insight, your organization can make better decisions and have greater control of business outcomes.  \n",
    "\n",
    "* Prescriptive analytics is the next step on the path to insight-based actions. It creates value through synergy with predictive analytics, which analyzes data to predict future outcomes.  \n",
    "\n",
    "* Prescriptive analytics takes that insight to the next level by suggesting the optimal way to handle that future situation. Organizations that can act fast in dynamic conditions and make superior decisions in uncertain environments gain a strong competitive advantage.  \n",
    "<br/>\n",
    "\n",
    "<u>With prescriptive analytics, you can:</u> \n",
    "\n",
    "* Automate the complex decisions and trade-offs to better manage your limited resources.\n",
    "* Take advantage of a future opportunity or mitigate a future risk.\n",
    "* Proactively update recommendations based on changing events.\n",
    "* Meet operational goals, increase customer loyalty, prevent threats and fraud, and optimize business processes.\n",
    "\n"
   ]
  },
  {
   "cell_type": "markdown",
   "metadata": {},
   "source": [
    "## Use Decision Optimization"
   ]
  },
  {
   "cell_type": "markdown",
   "metadata": {
    "render": true
   },
   "source": [
    "### Step 1: Set up the prescriptive model"
   ]
  },
  {
   "cell_type": "markdown",
   "metadata": {},
   "source": [
    "#### Writing a mathematical model\n",
    "Convert the descriptive model into a mathematical model:\n",
    "* Use the two decision variables DeskProduction and CellProduction\n",
    "* Use the data given in the problem description (remember to convert minutes to hours where appropriate)\n",
    "* Write the objective as a mathematical expression\n",
    "* Write the constraints as mathematical expressions (use “=”, “<=”, or “>=”, and name the constraints to describe their purpose)\n",
    "* Define the domain for the decision variables\n",
    "\n",
    "\n",
    "#### Telephone production: a mathematical model\n",
    "To express the last two constraints, we model assembly time and painting time as linear combinations of the two productions, resulting in the following mathematical model:\n",
    "\n",
    "```\n",
    "maximize:  12 desk_production+20 cell_production\n",
    "\n",
    "subject to:  \n",
    "   desk_production>=100  \n",
    "   cell_production>=100  \n",
    "   0.2 desk_production+0.4 cell_production<=400  \n",
    "   0.5 desk_production+0.4 cell_production<=490\n",
    "```"
   ]
  },
  {
   "cell_type": "code",
   "execution_count": 1,
   "metadata": {
    "id": "d1256920-6b0f-43f8-984b-037bb32d7c5b"
   },
   "outputs": [],
   "source": [
    "# first import the Model class from docplex.mp\n",
    "from docplex.mp.model import Model\n",
    "\n",
    "# create one model instance, with a name\n",
    "m = Model(name='telephone_production')"
   ]
  },
  {
   "cell_type": "markdown",
   "metadata": {
    "render": true
   },
   "source": [
    "The continuous variable desk represents the production of desk telephones.\n",
    "The continuous variable cell represents the production of cell phones."
   ]
  },
  {
   "cell_type": "code",
   "execution_count": 2,
   "metadata": {
    "id": "777b2396-9d8f-4896-b38c-0a66b1471bad"
   },
   "outputs": [],
   "source": [
    "# by default, all variables in Docplex have a lower bound of 0 and infinite upper bound\n",
    "desk = m.integer_var(name='desk')\n",
    "cell = m.integer_var(name='cell')"
   ]
  },
  {
   "cell_type": "code",
   "execution_count": 3,
   "metadata": {
    "id": "669cb7cd-83e0-4da2-8e13-210029c1bac4"
   },
   "outputs": [],
   "source": [
    "m.maximize(12 * desk + 20 * cell)\n",
    "\n",
    "# write constraints\n",
    "# constraint #1: desk production is greater than 100\n",
    "m.add_constraint(desk >= 100, \"desk\")\n",
    "\n",
    "# constraint #2: cell production is greater than 100\n",
    "m.add_constraint(cell >= 100, \"cell\")\n",
    "\n",
    "# constraint #3: assembly time limit\n",
    "ct_assembly = m.add_constraint( 0.2 * desk + 0.4 * cell <= 400, \"assembly_limit\")\n",
    "\n",
    "# constraint #4: paiting time limit\n",
    "ct_painting = m.add_constraint( 0.5 * desk + 0.4 * cell <= 490, \"painting_limit\")"
   ]
  },
  {
   "cell_type": "markdown",
   "metadata": {
    "render": true
   },
   "source": [
    "#### Solve with Decision Optimization \n",
    "\n",
    "Depending on the size of the problem, the solve stage might fail and require the Commercial Edition of CPLEX engines, which is included in the premium environments in IBM Cloud Pak for Data.\n",
    "\n",
    "You will get the best solution found after ***n*** seconds, because of a time limit parameter."
   ]
  },
  {
   "cell_type": "code",
   "execution_count": 4,
   "metadata": {
    "id": "69c424d5-1f55-403f-8f0b-ff1043a5f9f3"
   },
   "outputs": [
    {
     "name": "stdout",
     "output_type": "stream",
     "text": [
      "Model: telephone_production\n",
      " - number of variables: 2\n",
      "   - binary=0, integer=2, continuous=0\n",
      " - number of constraints: 4\n",
      "   - linear=4\n",
      " - parameters: defaults\n",
      " - objective: maximize\n",
      " - problem type is: MILP\n"
     ]
    }
   ],
   "source": [
    "m.print_information()\n",
    "msol = m.solve()"
   ]
  },
  {
   "cell_type": "code",
   "execution_count": 5,
   "metadata": {
    "id": "fe67c39f-ccbe-4da0-9670-d170957601a5"
   },
   "outputs": [
    {
     "name": "stdout",
     "output_type": "stream",
     "text": [
      "objective: 20600\n",
      "status: OPTIMAL_SOLUTION(2)\n",
      "  desk=300\n",
      "  cell=850\n"
     ]
    }
   ],
   "source": [
    "assert msol is not None, \"model can't solve\"\n",
    "m.print_solution()"
   ]
  },
  {
   "cell_type": "markdown",
   "metadata": {
    "render": true
   },
   "source": [
    "### Step 2: Modify the model"
   ]
  },
  {
   "cell_type": "markdown",
   "metadata": {},
   "source": [
    "#### Modify constraints and variables bounds"
   ]
  },
  {
   "cell_type": "markdown",
   "metadata": {},
   "source": [
    "The model object provides getters to retrieve variables and constraints by name:\n",
    "* get_var_by_name\n",
    "* get_constraint_by_name\n",
    "The variable and constraint objects both provide properties to access the right hand side (rhs) and left hand side (lhs).\n",
    "When you modify a rhs or lhs of a variable, you of course need to give a number.\n",
    "When you modify a rhs or lhs of a constraint, you can give a number or an expression based on variables.\n",
    "\n",
    "Imagine that you want to build 2000 cells and 1000 desks maximum.\n",
    "\n",
    "And you want to increase the production of both of them from 100 to 350"
   ]
  },
  {
   "cell_type": "code",
   "execution_count": 6,
   "metadata": {
    "id": "cd99b1b7-4bbd-4411-b8f6-f3681f149021"
   },
   "outputs": [],
   "source": [
    "# Access by name\n",
    "m.get_var_by_name(\"desk\").ub = 2000\n",
    "# acess via the object\n",
    "cell.ub = 1000\n",
    "\n",
    "\n",
    "m.get_constraint_by_name(\"desk\").rhs = 350\n",
    "m.get_constraint_by_name(\"cell\").rhs = 350"
   ]
  },
  {
   "cell_type": "code",
   "execution_count": 7,
   "metadata": {
    "id": "db5a508f-6177-4733-b6ac-f59f5a6356d4"
   },
   "outputs": [
    {
     "name": "stdout",
     "output_type": "stream",
     "text": [
      "objective: 19940\n",
      "status: OPTIMAL_SOLUTION(2)\n",
      "  desk=350\n",
      "  cell=787\n"
     ]
    }
   ],
   "source": [
    "msol = m.solve()\n",
    "assert msol is not None, \"model can't solve\"\n",
    "m.print_solution()"
   ]
  },
  {
   "cell_type": "markdown",
   "metadata": {},
   "source": [
    "The production plan has been updated accordingly to these small changes."
   ]
  },
  {
   "cell_type": "markdown",
   "metadata": {},
   "source": [
    "#### Modify expressions"
   ]
  },
  {
   "cell_type": "markdown",
   "metadata": {},
   "source": [
    "You now want to introduce a new type of product: the \"hybrid\" telephone."
   ]
  },
  {
   "cell_type": "code",
   "execution_count": 8,
   "metadata": {
    "id": "02ffb26a-f282-43a5-b3c1-d167f7c0e8e2"
   },
   "outputs": [],
   "source": [
    "hybrid = m.integer_var(name='hybrid')"
   ]
  },
  {
   "cell_type": "markdown",
   "metadata": {},
   "source": [
    "You need to:\n",
    "- introduce it in the objective\n",
    "- introduce it in the existing painting and assembly time constraints \n",
    "- add a new constraint for its production to produce at least 350 of them."
   ]
  },
  {
   "cell_type": "code",
   "execution_count": 9,
   "metadata": {
    "id": "0edf6037-ede4-4dde-b081-1c23addb923a"
   },
   "outputs": [
    {
     "data": {
      "text/plain": [
       "docplex.mp.LinearConstraint[](hybrid,GE,350)"
      ]
     },
     "execution_count": 9,
     "metadata": {},
     "output_type": "execute_result"
    }
   ],
   "source": [
    "m.add_constraint(hybrid >= 350)"
   ]
  },
  {
   "cell_type": "markdown",
   "metadata": {},
   "source": [
    "The objective will move from\n",
    "<code>\n",
    "maximize:  12 desk_production+20 cell_production\n",
    "</code>\n",
    "to\n",
    "<code>\n",
    "maximize:  12 desk_production+20 cell_production + 10 hybrid_prodction\n",
    "</code>"
   ]
  },
  {
   "cell_type": "code",
   "execution_count": 10,
   "metadata": {
    "id": "3a306fab-caae-4fc9-b563-f7b5e39fb070"
   },
   "outputs": [
    {
     "data": {
      "text/plain": [
       "docplex.mp.LinearExpr(12desk+20cell+10hybrid)"
      ]
     },
     "execution_count": 10,
     "metadata": {},
     "output_type": "execute_result"
    }
   ],
   "source": [
    "m.get_objective_expr().add_term(hybrid, 10)"
   ]
  },
  {
   "cell_type": "markdown",
   "metadata": {},
   "source": [
    "The time constraints will be updated from \n",
    "<code>\n",
    "0.2 desk_production+0.4 cell_production<=400\n",
    "0.5 desk_production+0.4 cell_production<=490\n",
    "</code>\n",
    "to\n",
    "<code>\n",
    "0.2 desk_production+0.4 cell_production + 0.2 hybrid_production<=400\n",
    "0.5 desk_production+0.4 cell_production + 0.2 hybrid_production<=490\n",
    "</code>"
   ]
  },
  {
   "cell_type": "markdown",
   "metadata": {},
   "source": [
    "When you add a constraint to a model, its object is returned to you by the method add_constraint.\n",
    "If you don't have it, you can access it via its name"
   ]
  },
  {
   "cell_type": "code",
   "execution_count": 11,
   "metadata": {
    "id": "0649a121-b811-441b-8435-550f3e9db024"
   },
   "outputs": [
    {
     "data": {
      "text/plain": [
       "docplex.mp.LinearExpr(0.500desk+0.400cell+0.200hybrid)"
      ]
     },
     "execution_count": 11,
     "metadata": {},
     "output_type": "execute_result"
    }
   ],
   "source": [
    "m.get_constraint_by_name(\"assembly_limit\").lhs.add_term(hybrid, 0.2)\n",
    "ct_painting.lhs.add_term(hybrid, 0.2)"
   ]
  },
  {
   "cell_type": "markdown",
   "metadata": {},
   "source": [
    "You can now compute the new production plan for our 3 products"
   ]
  },
  {
   "cell_type": "code",
   "execution_count": 12,
   "metadata": {
    "id": "2b6bdcfd-cbd4-4936-b29d-463b02345a55"
   },
   "outputs": [
    {
     "name": "stdout",
     "output_type": "stream",
     "text": [
      "objective: 19950\n",
      "status: OPTIMAL_SOLUTION(2)\n",
      "  desk=350\n",
      "  cell=612\n",
      "  hybrid=351\n"
     ]
    }
   ],
   "source": [
    "msol = m.solve()\n",
    "assert msol is not None, \"model can't solve\"\n",
    "m.print_solution()"
   ]
  },
  {
   "cell_type": "markdown",
   "metadata": {},
   "source": [
    "Now imagine that you have improved your painting process, the distribution of the coefficients in the painting limits is no longer [0.5, 0.4, 0.2] but [0.1, 0.1, 0.1]\n",
    "You can modify the coefficients, variable by variable, with set_coefficient or via a list of (variable, coeff) with set_coefficients"
   ]
  },
  {
   "cell_type": "code",
   "execution_count": 13,
   "metadata": {
    "id": "8281a9e5-b641-4e47-b064-593f9dd03f00"
   },
   "outputs": [],
   "source": [
    "ct_painting.lhs.set_coefficients([(desk, 0.1), (cell, 0.1), (hybrid, 0.1)])"
   ]
  },
  {
   "cell_type": "code",
   "execution_count": 14,
   "metadata": {
    "id": "ed38121a-da2f-4137-a605-f045ecb8f07c"
   },
   "outputs": [
    {
     "name": "stdout",
     "output_type": "stream",
     "text": [
      "objective: 21900\n",
      "status: OPTIMAL_SOLUTION(2)\n",
      "  desk=950\n",
      "  cell=350\n",
      "  hybrid=350\n"
     ]
    }
   ],
   "source": [
    "msol = m.solve()\n",
    "assert msol is not None, \"model can't solve\"\n",
    "m.print_solution()"
   ]
  },
  {
   "cell_type": "markdown",
   "metadata": {},
   "source": [
    "#### Relaxations"
   ]
  },
  {
   "cell_type": "markdown",
   "metadata": {},
   "source": [
    "Now introduce a new constraint: polishing time limit. "
   ]
  },
  {
   "cell_type": "code",
   "execution_count": 15,
   "metadata": {
    "id": "4490caa7-e4e1-458f-a872-ff4280c6fe5c"
   },
   "outputs": [],
   "source": [
    "# constraint: polishing time limit\n",
    "ct_polishing = m.add_constraint( 0.6 * desk + 0.6 * cell + 0.3 * hybrid <= 290, \"polishing_limit\")"
   ]
  },
  {
   "cell_type": "code",
   "execution_count": 16,
   "metadata": {
    "id": "64fd1dfa-2864-424e-a61b-06c469221976"
   },
   "outputs": [
    {
     "name": "stdout",
     "output_type": "stream",
     "text": [
      "model can't solve\n"
     ]
    }
   ],
   "source": [
    "msol = m.solve()\n",
    "if msol is None:\n",
    "    print(\"model can't solve\")"
   ]
  },
  {
   "cell_type": "markdown",
   "metadata": {},
   "source": [
    "The model is now infeasible. We need to handle it and dig into the infeasibilities."
   ]
  },
  {
   "cell_type": "markdown",
   "metadata": {},
   "source": [
    "You can now use the Relaxer object. You can control the way it will relax the constraints or you can use one of the various automatic modes:\n",
    "- 'all' relaxes all constraints using a MEDIUM priority; this is the default value.\n",
    "- 'named' relaxes all constraints with a user name but not the others.\n",
    "- 'match' looks for priority names within constraint names; unnamed constraints are not relaxed.\n",
    "\n",
    "Use the 'match' mode.\n",
    "Polishing constraint is mandatory.\n",
    "Painting constraint is a nice to have.\n",
    "Assembly constraint has low priority."
   ]
  },
  {
   "cell_type": "code",
   "execution_count": 17,
   "metadata": {
    "id": "35562ba2-080a-4c1a-ab21-07a014034c7c"
   },
   "outputs": [],
   "source": [
    "ct_polishing.name = \"high_\"+ct_polishing.name\n",
    "ct_assembly.name = \"low_\"+ct_assembly.name\n",
    "ct_painting.name = \"medium_\"+ct_painting.name"
   ]
  },
  {
   "cell_type": "code",
   "execution_count": 18,
   "metadata": {
    "id": "068d996b-10cd-4cb0-a2f0-a4190fffbd61"
   },
   "outputs": [
    {
     "name": "stdout",
     "output_type": "stream",
     "text": [
      "Warning: 3 constraint(s) will not be relaxed (e.g.: desk: desk >= 350)\n",
      "* number of relaxations: 1\n",
      " - relaxed: high_polishing_limit, with relaxation: 235.0\n",
      "* total absolute relaxation: 235.0\n"
     ]
    }
   ],
   "source": [
    "# if a name contains \"low\", it has priority LOW\n",
    "# if a ct name contains \"medium\" it has priority MEDIUM\n",
    "# same for HIGH\n",
    "# if a constraint has no name or does not match any, it is not relaxable.\n",
    "from docplex.mp.relaxer import Relaxer\n",
    "relaxer = Relaxer(prioritizer='match', verbose=True)\n",
    "\n",
    "relaxed_sol = relaxer.relax(m)\n",
    "relaxed_ok = relaxed_sol is not None\n",
    "assert relaxed_ok, \"relaxation failed\"\n",
    "relaxer.print_information()"
   ]
  },
  {
   "cell_type": "code",
   "execution_count": 19,
   "metadata": {
    "id": "eac50a06-e1ef-42a2-8e0c-b6c4461cbb20"
   },
   "outputs": [
    {
     "name": "stdout",
     "output_type": "stream",
     "text": [
      "objective: 14700\n",
      "status: INFEASIBLE_SOLUTION(3)\n",
      "  desk=350\n",
      "  cell=350\n",
      "  hybrid=350\n"
     ]
    }
   ],
   "source": [
    "m.print_solution()"
   ]
  },
  {
   "cell_type": "code",
   "execution_count": 20,
   "metadata": {
    "id": "e571b0b3-926f-4f25-880f-892d5c20a05b"
   },
   "outputs": [
    {
     "name": "stdout",
     "output_type": "stream",
     "text": [
      "* found slack of 235.0 for polish ct\n",
      "* model telephone_production solved with objective = 14700.000\n",
      "objective: 14700\n",
      "status: OPTIMAL_SOLUTION(2)\n",
      "  desk=350\n",
      "  cell=350\n",
      "  hybrid=350\n"
     ]
    }
   ],
   "source": [
    "ct_polishing_relax = relaxer.get_relaxation(ct_polishing)\n",
    "print(\"* found slack of {0} for polish ct\".format(ct_polishing_relax))\n",
    "ct_polishing.rhs+= ct_polishing_relax\n",
    "m.solve()\n",
    "m.report()\n",
    "m.print_solution()"
   ]
  },
  {
   "cell_type": "markdown",
   "metadata": {},
   "source": [
    "## Summary\n",
    "\n",
    "\n",
    "You have learned how to set up and use the IBM Decision Optimization CPLEX Modeling for Python to formulate a Mathematical Programming model and modify it in various ways."
   ]
  },
  {
   "cell_type": "markdown",
   "metadata": {
    "render": true
   },
   "source": [
    "#### References\n",
    "* <a href=\"https://rawgit.com/IBMDecisionOptimization/docplex-doc/master/docs/index.html\" target=\"_blank\" rel=\"noopener noreferrer\">Decision Optimization CPLEX Modeling for Python documentation</a>\n",
    "* <a href=\"https://dataplatform.cloud.ibm.com/docs/content/wsj/getting-started/welcome-main.html?context=cpdaas\" target=\"_blank\" rel=\"noopener noreferrer\">IBM Cloud Pak for Data as a Service documentation</a>\n",
    "* <a href=\"https://dataplatform.cloud.ibm.com/docs/content/wsj/getting-started/welcome-main.html?context=wx\" target=\"_blank\" rel=\"noopener noreferrer\">IBM watsonx.ai documentation</a>\n"
   ]
  },
  {
   "cell_type": "markdown",
   "metadata": {},
   "source": [
    "<hr>\n",
    "Copyright © 2017-2025. This notebook and its source code are released under the terms of the MIT License."
   ]
  }
 ],
 "metadata": {
  "kernelspec": {
   "display_name": "Python 3.11",
   "language": "python",
   "name": "python3"
  },
  "language_info": {
   "codemirror_mode": {
    "name": "ipython",
    "version": 3
   },
   "file_extension": ".py",
   "mimetype": "text/x-python",
   "name": "python",
   "nbconvert_exporter": "python",
   "pygments_lexer": "ipython3",
   "version": "3.11.9"
  }
 },
 "nbformat": 4,
 "nbformat_minor": 4
}
