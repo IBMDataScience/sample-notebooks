{
 "cells": [
  {
   "cell_type": "markdown",
   "metadata": {},
   "source": [
    "\n",
    "# House Building with worker skills\n",
    "\n",
    "This tutorial includes everything you need to set up Decision Optimization engines, build constraint programming models.\n",
    "\n",
    "**Table of contents:**\n",
    "\n",
    "-  [Describe the business problem](#Describe-the-business-problem)\n",
    "*  [How Decision Optimization can help](#How-Decision-Optimization-can-help)\n",
    "*  [Use Decision Optimization](#Use-Decision-Optimization)\n",
    "    *  [Step 1: Set up the prescriptive engine](#Step-1:-Set-up-the-prescriptive-engine)\n",
    "    -  [Step 2: Model the Data](#Step-2:-Model-the-data)\n",
    "    -  [Step 3: Set up the prescriptive model](#Step-3:-Set-up-the-prescriptive-model)\n",
    "        * [Define the decision variables](#Define-the-decision-variables)\n",
    "        * [Express the business constraints](#Express-the-business-constraints)\n",
    "        * [Express the objective](#Express-the-objective)\n",
    "        * [Solve the model](#Solve-the-model)\n",
    "    *  [Step 4: Investigate the solution and run an example analysis](#Step-4:-Investigate-the-solution-and-run-an-example-analysis)\n",
    "*  [Summary](#Summary)\n",
    "****"
   ]
  },
  {
   "cell_type": "markdown",
   "metadata": {},
   "source": [
    "### Describe the business problem\n",
    "\n",
    "* This is a problem of building five houses in different locations; the masonry, roofing, painting, etc. must be scheduled. Some tasks must necessarily take place before others and these requirements are expressed through precedence constraints.\n",
    "\n",
    "* There are three workers, and each worker has a given skill level for each task. Each task requires one worker; the worker assigned must have a non-null skill level for the task. A worker can be assigned to only one task at a time.\n",
    "\n",
    "* Each house has a deadline. \n",
    "\n",
    "* The objective is to maximize the skill levels of the workers assigned to the tasks."
   ]
  },
  {
   "cell_type": "markdown",
   "metadata": {},
   "source": [
    "*****\n",
    "## How Decision Optimization can help\n",
    "* Prescriptive analytics (Decision Optimization) technology recommends actions based on desired outcomes, taking into account specific scenarios, resources, and knowledge of past and current events. This insight can help your organization make better decisions and have greater control of business outcomes.  \n",
    "\n",
    "* Prescriptive analytics is the next step on the path to insight-based actions. It creates value through synergy with predictive analytics, which analyzes data to predict future outcomes.  \n",
    "\n",
    "* Prescriptive analytics takes that insight to the next level by suggesting the optimal way to handle that future situation. Organizations that can act fast in dynamic conditions and make superior decisions in uncertain environments gain a strong competitive advantage.  \n",
    "<br/>\n",
    "\n",
    "+ For example:\n",
    "    + Automate complex decisions and trade-offs to better manage limited resources.\n",
    "    + Take advantage of a future opportunity or mitigate a future risk.\n",
    "    + Proactively update recommendations based on changing events.\n",
    "    + Meet operational goals, increase customer loyalty, prevent threats and fraud, and optimize business processes.\n"
   ]
  },
  {
   "cell_type": "markdown",
   "metadata": {},
   "source": [
    "<h2>About Detailed Scheduling concepts</h2>\n",
    "<p>\n",
    "<ul>\n",
    "<li> Scheduling consists of assigning start and completion times to a set of activities while satisfying different types of constraints (resource availability, precedence relationships, … ) and optimizing some criteria (minimizing tardiness, …)\n",
    "<!-- <img src = \"./house_building_utils/activity.png\" > -->\n",
    "<img src = \"https://github.com/IBMDecisionOptimization/docplex-examples/blob/master/examples/cp/jupyter/house_building_utils/activity.PNG?raw=true \" >\n",
    "<li> Time is considered as a continuous dimension: domain of possible start/completion times for an activity is potentially very large\n",
    "<li>Besides start and completion times of activities, other types of decision variables are often involved in real industrial scheduling problems (resource allocation, optional activities …)\n",
    "</ul>"
   ]
  },
  {
   "cell_type": "markdown",
   "metadata": {},
   "source": [
    "## Use Decision Optimization"
   ]
  },
  {
   "cell_type": "markdown",
   "metadata": {},
   "source": [
    "### Step 1: Set up the prescriptive engine"
   ]
  },
  {
   "cell_type": "markdown",
   "metadata": {},
   "source": [
    "For display of the solution, ensure that last version of matplotlib is available:"
   ]
  },
  {
   "cell_type": "code",
   "execution_count": 1,
   "metadata": {
    "id": "7f024ee6-86b6-492e-aca0-8ed3e35a3ca2"
   },
   "outputs": [],
   "source": [
    "try:\n",
    "   import matplotlib\n",
    "   if matplotlib.__version__ < \"1.4.3\":\n",
    "        !pip install --upgrade matplotlib\n",
    "except:\n",
    "   !pip install --user matplotlib"
   ]
  },
  {
   "cell_type": "markdown",
   "metadata": {},
   "source": [
    "Now, import all required modeling functions that are provided by the Constraint Programming <i>docplex.cp</i> package. "
   ]
  },
  {
   "cell_type": "code",
   "execution_count": 2,
   "metadata": {
    "id": "e113bf13-e3d9-4fc8-b333-c84c20faf713"
   },
   "outputs": [],
   "source": [
    "from docplex.cp.model import CpoModel\n",
    "from sys import stdout\n",
    "from collections import namedtuple"
   ]
  },
  {
   "cell_type": "markdown",
   "metadata": {},
   "source": [
    "### Step 2: Model the data"
   ]
  },
  {
   "cell_type": "markdown",
   "metadata": {},
   "source": [
    "Planning contains the number of houses and the max amount of periods (<i>days</i>) for our schedule."
   ]
  },
  {
   "cell_type": "code",
   "execution_count": 3,
   "metadata": {
    "id": "1b54fbcd-4cbf-493b-b5b7-d940e0ba558e"
   },
   "outputs": [],
   "source": [
    "NB_HOUSES = 5\n",
    "MAX_AMOUNT_OF_PERIODS = 318\n",
    "HOUSES = range(1, NB_HOUSES + 1)"
   ]
  },
  {
   "cell_type": "markdown",
   "metadata": {},
   "source": [
    "All tasks must start and end between 0 and the max amount of periods."
   ]
  },
  {
   "cell_type": "code",
   "execution_count": 4,
   "metadata": {
    "id": "c8fe4576-c51a-4442-a294-d8e7dc0709d3"
   },
   "outputs": [],
   "source": [
    "period_domain = (0, MAX_AMOUNT_OF_PERIODS)"
   ]
  },
  {
   "cell_type": "markdown",
   "metadata": {},
   "source": [
    "For each task type in the house building project, the following table shows the duration of the task in days along with the tasks that must be finished before the task can start. A worker can only work on one task at a time; each task, once started, may not be interrupted.\n",
    "<p>\n",
    "\n",
    "| *Task* | *Duration* | *Preceding tasks* |\n",
    "|---|---|---|\n",
    "| masonry \t| 35 |\t|\n",
    "| carpentry | 15 | masonry |\n",
    "| plumbing \t| 40 | masonry |\n",
    "| ceiling \t| 15 | masonry |\n",
    "| roofing \t| 5  | carpentry |\n",
    "| painting \t| 10 | ceiling |\n",
    "| windows \t| 5  | roofing |\n",
    "| facade \t| 10 | roofing, plumbing |\n",
    "| garden \t| 5  | roofing, plumbing |\n",
    "| moving \t| 5  | windows, facade, garden, painting | "
   ]
  },
  {
   "cell_type": "markdown",
   "metadata": {},
   "source": [
    "##### Tasks' durations"
   ]
  },
  {
   "cell_type": "code",
   "execution_count": 5,
   "metadata": {
    "id": "f75ffe97-b0dd-4668-8000-a65ecdd23a28"
   },
   "outputs": [],
   "source": [
    "Task = (namedtuple(\"Task\", [\"name\", \"duration\"]))\n",
    "TASKS = {Task(\"masonry\",   35),\n",
    "         Task(\"carpentry\", 15),\n",
    "         Task(\"plumbing\",  40),\n",
    "         Task(\"ceiling\",   15),\n",
    "         Task(\"roofing\",    5),\n",
    "         Task(\"painting\",  10),\n",
    "         Task(\"windows\",    5),\n",
    "         Task(\"facade\",    10),\n",
    "         Task(\"garden\",     5),\n",
    "         Task(\"moving\",     5)\n",
    "        }"
   ]
  },
  {
   "cell_type": "markdown",
   "metadata": {},
   "source": [
    "##### Task precedences"
   ]
  },
  {
   "cell_type": "code",
   "execution_count": 6,
   "metadata": {
    "id": "325bb183-441e-45c5-9a61-6b3be3828cef"
   },
   "outputs": [],
   "source": [
    "TaskPrecedence = (namedtuple(\"TaskPrecedence\", [\"beforeTask\", \"afterTask\"]))\n",
    "TASK_PRECEDENCES = {TaskPrecedence(\"masonry\",   \"carpentry\"),\n",
    "                    TaskPrecedence(\"masonry\",   \"plumbing\"),\n",
    "                    TaskPrecedence(\"masonry\",   \"ceiling\"),\n",
    "                    TaskPrecedence(\"carpentry\", \"roofing\"),\n",
    "                    TaskPrecedence(\"ceiling\",   \"painting\"),\n",
    "                    TaskPrecedence(\"roofing\",   \"windows\"),\n",
    "                    TaskPrecedence(\"roofing\",   \"facade\"),\n",
    "                    TaskPrecedence(\"plumbing\",  \"facade\"),\n",
    "                    TaskPrecedence(\"roofing\",   \"garden\"),\n",
    "                    TaskPrecedence(\"plumbing\",  \"garden\"),\n",
    "                    TaskPrecedence(\"windows\",   \"moving\"),\n",
    "                    TaskPrecedence(\"facade\",    \"moving\"),\n",
    "                    TaskPrecedence(\"garden\",    \"moving\"),\n",
    "                    TaskPrecedence(\"painting\",  \"moving\")\n",
    "                   }"
   ]
  },
  {
   "cell_type": "markdown",
   "metadata": {},
   "source": [
    "There are three workers with varying skill levels in regard to the ten tasks. If a worker has a skill level of zero for a task, he may not be assigned to the task.\n",
    "<p>\n",
    "\n",
    "| *Task* | *Joe* | *Jack* | *Jim* |\n",
    "|---|---|---|---|\n",
    "|masonry   |9 |\t5 |\t0|\n",
    "|carpentry |7 |\t0 |\t5|\n",
    "|plumbing  |0 |\t7 |\t0|\n",
    "|ceiling   |5 |\t8 |\t0|\n",
    "|roofing   |6 |\t7 |\t0|\n",
    "|painting  |0 |\t9 |\t6|\n",
    "|windows   |8 |\t0 |\t5|\n",
    "|façade    |5 |\t5 |\t0|\n",
    "|garden    |5 |\t5 |\t9|\n",
    "|moving    |6 |\t0 |\t8|"
   ]
  },
  {
   "cell_type": "markdown",
   "metadata": {},
   "source": [
    "##### Workers Names"
   ]
  },
  {
   "cell_type": "code",
   "execution_count": 7,
   "metadata": {
    "id": "baa645ea-0ee7-4550-9921-3676dff1c39a"
   },
   "outputs": [],
   "source": [
    "WORKERS = {\"Joe\", \"Jack\", \"Jim\"}"
   ]
  },
  {
   "cell_type": "markdown",
   "metadata": {},
   "source": [
    "##### Workers Name and level for each of there skill"
   ]
  },
  {
   "cell_type": "code",
   "execution_count": 8,
   "metadata": {
    "id": "17e971a9-825e-4320-92d0-a6e01c58607e"
   },
   "outputs": [],
   "source": [
    "Skill = (namedtuple(\"Skill\", [\"worker\", \"task\", \"level\"]))\n",
    "SKILLS = {Skill(\"Joe\",  \"masonry\",   9),\n",
    "          Skill(\"Joe\",  \"carpentry\", 7),\n",
    "          Skill(\"Joe\",  \"ceiling\",   5),\n",
    "          Skill(\"Joe\",  \"roofing\",   6),\n",
    "          Skill(\"Joe\",  \"windows\",   8),\n",
    "          Skill(\"Joe\",  \"facade\",    5),\n",
    "          Skill(\"Joe\",  \"garden\",    5),\n",
    "          Skill(\"Joe\",  \"moving\",    6),\n",
    "          Skill(\"Jack\", \"masonry\",   5),\n",
    "          Skill(\"Jack\", \"plumbing\",  7),\n",
    "          Skill(\"Jack\", \"ceiling\",   8),\n",
    "          Skill(\"Jack\", \"roofing\",   7),\n",
    "          Skill(\"Jack\", \"painting\",  9),\n",
    "          Skill(\"Jack\", \"facade\",    5),\n",
    "          Skill(\"Jack\", \"garden\",    5),\n",
    "          Skill(\"Jim\",  \"carpentry\", 5),\n",
    "          Skill(\"Jim\",  \"painting\",  6),\n",
    "          Skill(\"Jim\",  \"windows\",   5),\n",
    "          Skill(\"Jim\",  \"garden\",    9),\n",
    "          Skill(\"Jim\",  \"moving\",    8)\n",
    "          }"
   ]
  },
  {
   "cell_type": "markdown",
   "metadata": {},
   "source": [
    "##### Utility functions"
   ]
  },
  {
   "cell_type": "markdown",
   "metadata": {},
   "source": [
    "find_tasks: returns the task it refers to in the TASKS vector"
   ]
  },
  {
   "cell_type": "code",
   "execution_count": 9,
   "metadata": {
    "id": "8d1ac158-6b71-4c83-97b5-5b919373bbb9"
   },
   "outputs": [],
   "source": [
    "def find_tasks(name):\n",
    "    return next(t for t in TASKS if t.name == name)"
   ]
  },
  {
   "cell_type": "markdown",
   "metadata": {},
   "source": [
    "find_skills: returns the skill it refers to in the SKILLS vector"
   ]
  },
  {
   "cell_type": "code",
   "execution_count": 10,
   "metadata": {
    "id": "a1a22881-d7a0-4d26-8d3a-fd822d1ee059"
   },
   "outputs": [],
   "source": [
    "def find_skills(worker, task):\n",
    "    return next(s for s in SKILLS if (s.worker == worker) and (s.task == task))"
   ]
  },
  {
   "cell_type": "markdown",
   "metadata": {},
   "source": [
    "find_max_level_skill: returns the tuple \"skill\" where the level is themaximum for a given task"
   ]
  },
  {
   "cell_type": "code",
   "execution_count": 11,
   "metadata": {
    "id": "a2372866-1ec4-4e0e-aad9-299ac13d1943"
   },
   "outputs": [],
   "source": [
    "def find_max_level_skill(task):\n",
    "    st = [s for s in SKILLS if s.task == task]\n",
    "    return next(sk for sk in st if sk.level == max([s.level for s in st]))"
   ]
  },
  {
   "cell_type": "markdown",
   "metadata": {},
   "source": [
    "### Step 3: Set up the prescriptive model"
   ]
  },
  {
   "cell_type": "markdown",
   "metadata": {},
   "source": [
    "<h3>Create the model container</h3>\n",
    "<p>\n",
    "The model is represented by a Python object that is filled with the different model elements (variables, constraints, objective function, etc). The first thing to do is then to create such an object:"
   ]
  },
  {
   "cell_type": "code",
   "execution_count": 12,
   "metadata": {
    "id": "ee8f54a5-8061-4757-8bac-feeb853c297c"
   },
   "outputs": [],
   "source": [
    "mdl = CpoModel(name=\"HouseBuilding\")"
   ]
  },
  {
   "cell_type": "markdown",
   "metadata": {},
   "source": [
    "#### Define the decision variables"
   ]
  },
  {
   "cell_type": "markdown",
   "metadata": {},
   "source": [
    "<h5><i><font color=blue>Concept: interval variable</font></i></h5>\n",
    "<p>\n",
    "<ul>\n",
    "<li> What for?<br>\n",
    "<blockquote> Modeling an interval of time during which a particular property holds <br>\n",
    "(an activity executes, a resource is idle, a tank must be non-empty, …)</blockquote> \n",
    "<li> Example:<br>\n",
    "<blockquote><code><font color=green>interval_var(start=(0,1000), end=(0,1000), size=(10,20))</font></code>\n",
    "</blockquote> \n",
    "<!-- <img src = \"./house_building_utils/intervalVar.png\" > -->\n",
    "<img src = \"https://github.com/IBMDecisionOptimization/docplex-examples/blob/master/examples/cp/jupyter/house_building_utils/intervalVar.PNG?raw=true\" >\n",
    "<li>Properties:\n",
    "<ul>\n",
    "<li>The **value** of an interval variable is an integer interval [start,end) \n",
    "<li>**Domain**  of possible values: [0,10), [1,11), [2,12),...[990,1000), [0,11),[1,12),...\n",
    "<li>Domain of interval variables is represented **compactly** in CP Optimizer (a few bounds: smin, smax, emin, emax, szmin, szmax)\n",
    "</ul>\n",
    "</ul>"
   ]
  },
  {
   "cell_type": "markdown",
   "metadata": {},
   "source": [
    "For each house, an interval variable is created for each task.<br>\n",
    "This interval must start and end inside the period_domain and its duration is set as the value stated in TASKS definition."
   ]
  },
  {
   "cell_type": "code",
   "execution_count": 13,
   "metadata": {
    "id": "065acfcd-c054-4b87-825d-ffc0993edf49"
   },
   "outputs": [],
   "source": [
    "tasks = {}   # dict of interval variable for each house and task\n",
    "for house in HOUSES:\n",
    "    for task in TASKS:\n",
    "        tasks[(house, task)] = mdl.interval_var(start=period_domain,\n",
    "                                                end=period_domain,\n",
    "                                                size=task.duration,\n",
    "                                                name=\"house {} task {}\".format(house, task))"
   ]
  },
  {
   "cell_type": "markdown",
   "metadata": {},
   "source": [
    "<h5><i><font color=blue>Concept: optional interval variable</font></i></h5>\n",
    "<p>\n",
    "<ul>\n",
    "<li>Interval variables can be defined as being <strong>optional</strong> that is, it is part of the decisions of the problem to decide whether the interval will be <strong>present</strong> or <strong>absent</strong> in the solution<br><br>\n",
    "<li> What for?<br>\n",
    "<blockquote> Modeling optional activities, alternative execution modes for activities, and … most of the discrete decisions in a schedule</blockquote> \n",
    "<li> Example:<br>\n",
    "<blockquote><code><font color=green>interval_var(</font><font color=red>optional=True</font><font color=green>, start=(0,1000), end=(0,1000), size=(10,20))</font></code>\n",
    "</blockquote> \n",
    "<li>Properties:\n",
    "<ul>\n",
    "<li>An optional interval variable has an additional possible value in its domain (absence value)\n",
    "<li><strong>Optionality</strong> is a powerful property that you must learn to leverage in your models\n",
    "</ul>\n",
    "</ul>"
   ]
  },
  {
   "cell_type": "markdown",
   "metadata": {},
   "source": [
    "For each house, an __optional__ interval variable is created for each skill.<br>\n",
    "Skill being a tuple (worker, task, level), this means that for each house, an __optional__ interval variable is created for each couple worker-task such that the skill level of this worker for this task is > 0.<p>\n",
    "The \"**set_optional()**\" specifier allows a choice between different variables, thus between different couples house-skill.\n",
    "This means that the engine decides if the interval will be present or absent in the solution."
   ]
  },
  {
   "cell_type": "code",
   "execution_count": 14,
   "metadata": {
    "id": "ad0d6d88-b0a9-4d88-941c-e38b09f6511d"
   },
   "outputs": [],
   "source": [
    "wtasks = {}  # dict of interval variable for each house and skill\n",
    "for house in HOUSES:\n",
    "    for skill in SKILLS:\n",
    "        iv = mdl.interval_var(name='H' + str(house) + '-' + skill.task + '(' + skill.worker + ')')\n",
    "        iv.set_optional()\n",
    "        wtasks[(house, skill)] = iv"
   ]
  },
  {
   "cell_type": "markdown",
   "metadata": {},
   "source": [
    "#### Express the business constraints"
   ]
  },
  {
   "cell_type": "markdown",
   "metadata": {},
   "source": [
    "<h5>Temporal constraints</h5>"
   ]
  },
  {
   "cell_type": "markdown",
   "metadata": {},
   "source": [
    "<h5><i><font color=blue>Concept: precedence constraint</font></i></h5>\n",
    "<p>\n",
    "<ul>\n",
    "<li> What for?<br>\n",
    "<ul>\n",
    "<li>Modeling temporal constraints between interval variables\n",
    "<li>Modeling constant or variable minimal delays\n",
    "</ul>\n",
    "<li>Properties\n",
    "<blockquote>Semantic of the constraints handles optionality (as for all constraints in CP Optimizer).<br>\n",
    "Example of endBeforeStart:<br>\n",
    "<code><font color=green>end_before_start(a,b,z)</font></code><br>\n",
    "present(a) <font color=red>AND</font> present(b)  &Implies;  end(a)+z &LessSlantEqual; start(b) \n",
    "</blockquote>\n",
    "<ul>"
   ]
  },
  {
   "cell_type": "markdown",
   "metadata": {},
   "source": [
    "The tasks in the model have precedence constraints that are added to the model."
   ]
  },
  {
   "cell_type": "code",
   "execution_count": 15,
   "metadata": {
    "id": "3a66725d-8c8e-40af-b9f8-e00e31170402"
   },
   "outputs": [],
   "source": [
    "for h in HOUSES:\n",
    "    for p in TASK_PRECEDENCES:\n",
    "        mdl.add(mdl.end_before_start(tasks[(h, find_tasks(p.beforeTask))], tasks[(h, find_tasks(p.afterTask))]))"
   ]
  },
  {
   "cell_type": "markdown",
   "metadata": {},
   "source": [
    "<h5>Alternative workers</h5>"
   ]
  },
  {
   "cell_type": "markdown",
   "metadata": {},
   "source": [
    "<h5><i><font color=blue>Concept: alternative constraint</font></i></h5>\n",
    "<p>\n",
    "<ul>\n",
    "<li> What for?<br>\n",
    "<ul>\n",
    "<li>Modeling alternative resource/modes/recipes \n",
    "<li>In general modeling a discrete selection in the schedule \n",
    "</ul>\n",
    "<li> Example:<br>\n",
    "<blockquote><code><font color=green>alternative(a,[b1,...,bn])</font></code>\n",
    "</blockquote> \n",
    "<!-- <img src = \"./house_building_utils/alternative.png\" > -->\n",
    "<img src = \"https://github.com/IBMDecisionOptimization/docplex-examples/blob/master/examples/cp/jupyter/house_building_utils/alternative.PNG?raw=true\" >\n",
    "<li>Remark: Master interval variable **a** can of course be optional\n",
    "</ul>"
   ]
  },
  {
   "cell_type": "markdown",
   "metadata": {},
   "source": [
    "To constrain the solution so that exactly one of the interval variables wtasks associated with a given task of a given house is to be present in the solution, an \"**alternative**\" constraint is used."
   ]
  },
  {
   "cell_type": "code",
   "execution_count": 16,
   "metadata": {
    "id": "eeb925a2-fbd9-4b39-b865-6c01204b4c48"
   },
   "outputs": [],
   "source": [
    "for h in HOUSES:\n",
    "    for t in TASKS:\n",
    "        mdl.add(mdl.alternative(tasks[(h, t)], [wtasks[(h, s)] for s in SKILLS if (s.task == t.name)], 1))"
   ]
  },
  {
   "cell_type": "markdown",
   "metadata": {},
   "source": [
    "<h5>No overlap constraint</h5>"
   ]
  },
  {
   "cell_type": "markdown",
   "metadata": {},
   "source": [
    "<h5><i><font color=blue>Concept: No-overlap constraint</font></i></h5>\n",
    "<p>\n",
    "<ul>\n",
    "<li> Constraint noOverlap schedules a group of interval variables in such a way that they do not overlap in time.\n",
    "<li> Absent interval variables are ignored.\n",
    "<li>It is possible to constrain minimum delays between intervals using transition matrix.\n",
    "<li>It is possible to constraint the first, last in the sequence or next or preceding interval\n",
    "</ul>\n",
    "<!-- <img src = \"./house_building_utils/noOverlap.png\" > -->\n",
    "<img src = \"https://github.com/IBMDecisionOptimization/docplex-examples/blob/master/examples/cp/jupyter/house_building_utils/noOverlap.PNG?raw=true\" >"
   ]
  },
  {
   "cell_type": "markdown",
   "metadata": {},
   "source": [
    "To add the constraints that a given worker can be assigned only one task at a given moment in time, a  **noOverlap** constraint is used."
   ]
  },
  {
   "cell_type": "code",
   "execution_count": 17,
   "metadata": {
    "id": "9b88b6e2-8d2a-4f9a-b0de-cd3b3d7dab0f"
   },
   "outputs": [],
   "source": [
    "for w in WORKERS:\n",
    "    mdl.add(mdl.no_overlap([wtasks[(h, s)] for h in HOUSES for s in SKILLS if s.worker == w]))"
   ]
  },
  {
   "cell_type": "markdown",
   "metadata": {},
   "source": [
    "#### Express the objective"
   ]
  },
  {
   "cell_type": "markdown",
   "metadata": {},
   "source": [
    "The presence of an interval variable in tasks in the solution must be accounted for in the objective. Thus for each of these possible tasks, the cost is incremented by the product of the skill level and the expression representing the presence of the interval variable in the solution.<p>\n",
    "The objective of this problem is to maximize the skill level used for all the tasks."
   ]
  },
  {
   "cell_type": "code",
   "execution_count": 18,
   "metadata": {
    "id": "2b973524-7d48-4a08-8a41-704fd6ef42a4"
   },
   "outputs": [],
   "source": [
    "obj = mdl.sum([s.level * mdl.presence_of(wtasks[(h, s)]) for s in SKILLS for h in HOUSES])\n",
    "mdl.add(mdl.maximize(obj))"
   ]
  },
  {
   "cell_type": "markdown",
   "metadata": {},
   "source": [
    "#### Solve the model\n",
    "The model is now completely defined. It is time to solve it !"
   ]
  },
  {
   "cell_type": "code",
   "execution_count": 19,
   "metadata": {
    "id": "9dfe6f95-a027-4b07-9f9f-903a424791fa",
    "scrolled": true
   },
   "outputs": [
    {
     "name": "stdout",
     "output_type": "stream",
     "text": [
      "\n",
      "Solving model....\n",
      " ! --------------------------------------------------- CP Optimizer 22.1.1.0 --\n",
      " ! Maximization problem - 153 variables, 123 constraints\n",
      " ! TimeLimit            = 10\n",
      " ! Initial process time : 0.02s (0.02s extraction + 0.00s propagation)\n",
      " !  . Log search space  : 330.1 (before), 330.1 (after)\n",
      " !  . Memory usage      : 894.1 kB (before), 894.1 kB (after)\n",
      " ! Using parallel search with 32 workers.\n",
      " ! ----------------------------------------------------------------------------\n",
      " !          Best Branches  Non-fixed    W       Branch decision\n",
      "                        0        153                 -\n",
      " + New bound is 385\n",
      " ! Using iterative diving.\n",
      " ! Using temporal relaxation.\n",
      "                        0        153    1            -\n",
      " + New bound is 372\n",
      " *           331      382  1.31s        1      (gap is 12.39%)\n",
      " *           333      499  1.31s        1      (gap is 11.71%)\n",
      " *           335      626  1.31s        1      (gap is 11.04%)\n",
      " *           336      863  1.31s        1      (gap is 10.71%)\n",
      "             336     1000          2    1   F   310  = startOf(H4-moving(Joe))\n",
      " *           347     1336  1.31s        1      (gap is 7.20%)\n",
      "             347     2000          2    1   F          presenceOf(H2-painting(Jack))\n",
      " *           350     2201  1.31s        1      (gap is 6.29%)\n",
      "             350     1000          2    2       280  = startOf(H1-moving(Jim))\n",
      "             350     2000          2    2       170 != startOf(H5-garden(Jim))\n",
      "             350     1000          2    3   F          presenceOf(H1-roofing(Jack))\n",
      "             350     2000          2    3   F         !presenceOf(H5-windows(Joe))\n",
      "             350     1000          2    4   F         !presenceOf(H3-facade(Joe))\n",
      "             350     2000          2    4   F   290  = startOf(H5-painting(Jack))\n",
      "             350     1000          2    5   F   290  = startOf(H4-moving(Jim))\n",
      "             350     2000          2    5             !presenceOf(H3-painting(Jim))\n",
      "             350     1000          2    6       225  = startOf(H2-facade(Joe))\n",
      "             350     2000          2    6       270  = startOf(H3-painting(Jack))\n",
      " ! Time = 1.33s, Average fail depth = 35, Memory usage = 12.8 MB\n",
      " ! Current bound is 372 (gap is 6.29%)\n",
      " !          Best Branches  Non-fixed    W       Branch decision\n",
      "             350     1000          2    7       290 != startOf(H2-windows(Joe))\n",
      "             350     2000          2    7       195 != startOf(H4-facade(Joe))\n",
      "             350     1000          2    8   F   300  = startOf(H3-moving(Jim))\n",
      "             350     1000          2    9   F   285  = startOf(H2-moving(Jim))\n",
      "             350     2000          2    9   F          presenceOf(H5-roofing(Joe))\n",
      "             350     1000          2   10   F   280  = startOf(H4-facade(Jack))\n",
      "             350     2000          2   10        85  = startOf(H2-carpentry(Jim))\n",
      "             350     1000         15   11        70  = startOf(H5-masonry(Joe))\n",
      "             350     2000          2   11       155  = startOf(H1-garden(Jim))\n",
      "             350     1000          2   12       150  = startOf(H4-ceiling(Joe))\n",
      "             350     2000          2   12   F         !presenceOf(H3-roofing(Jack))\n",
      "             350     1000          2   13   F   300  = startOf(H4-moving(Jim))\n",
      "             350     2000          2   13   F          presenceOf(H2-ceiling(Joe))\n",
      "             350     1000          2   14   F         !presenceOf(H3-garden(Jim))\n",
      "             350     2000          2   14       195 != startOf(H2-garden(Jim))\n",
      "             350     1000         10   15   F   300  = startOf(H5-garden(Jim))\n",
      "             350     1000          2   16             !presenceOf(H5-ceiling(Joe))\n",
      "             350     1000          2   17   F   290  = startOf(H2-moving(Jim))\n",
      "             350     2000          2   17             !presenceOf(H3-facade(Jack))\n",
      "             350     1000          2   18   F          presenceOf(H5-windows(Jim))\n",
      " ! Time = 1.35s, Average fail depth = 31, Memory usage = 26.0 MB\n",
      " ! Current bound is 372 (gap is 6.29%)\n",
      " !          Best Branches  Non-fixed    W       Branch decision\n",
      "             350     1000          2   19       145  = startOf(H3-garden(Joe))\n",
      "             350     1000          2   20   F   300  = startOf(H1-moving(Jim))\n",
      "             350     2000          2   20   F         !presenceOf(H5-roofing(Jack))\n",
      " *           356     2882  1.35s       20      (gap is 4.49%)\n",
      "             356     1000         15   21       295 != startOf(H5-moving(Jim))\n",
      "             356     1000          2   22   F   310  = startOf(H4-moving(Jim))\n",
      "             356     2000          2   22   F         !presenceOf(H3-roofing(Joe))\n",
      "             356     1000          2   23              presenceOf(H3-painting(Jim))\n",
      "             356     2000          2   23   F          presenceOf(H2-facade(Joe))\n",
      "             356     3000         16   23   F         !presenceOf(H4-facade(Joe))\n",
      "             356     1000          2   24   F   220  = startOf(H2-plumbing(Jack))\n",
      "             356     2000          2   24   F          presenceOf(H5-facade(Joe))\n",
      "             356     3000          2    1   F         !presenceOf(H5-roofing(Joe))\n",
      "             356     3000          2    4   F         !presenceOf(H4-garden(Jim))\n",
      "             356     4000         21    4              presenceOf(H5-windows(Joe))\n",
      "             356     3000         58    5   F          presenceOf(H3-ceiling(Joe))\n",
      "             356     4000         47    5   F          presenceOf(H2-roofing(Joe))\n",
      "             356     3000          2    6   F          presenceOf(H5-roofing(Joe))\n",
      "             356     3000         47    7   F         !presenceOf(H4-roofing(Joe))\n",
      "             356     4000         34    7   F         !presenceOf(H2-windows(Jim))\n",
      " ! Time = 2.23s, Average fail depth = 24, Memory usage = 33.9 MB\n",
      " ! Current bound is 372 (gap is 4.49%)\n",
      " !          Best Branches  Non-fixed    W       Branch decision\n",
      "             356     5000         56    7   F         !presenceOf(H2-carpentry(Joe))\n",
      "             356     2000          2    8   F         !presenceOf(H2-roofing(Joe))\n",
      "             356     3000         58    8   F          presenceOf(H1-roofing(Jack))\n",
      "             356     3000         47    9   F         !presenceOf(H4-roofing(Joe))\n",
      "             356     4000         43    9   F         !presenceOf(H3-roofing(Joe))\n",
      "             356     3000         61   11   F          presenceOf(H1-roofing(Joe))\n",
      "             356     4000         48   11             !presenceOf(H1-ceiling(Joe))\n",
      "             356     3000         23   12   F         !presenceOf(H2-moving(Jim))\n",
      "             356     4000         20   12   F   290  = startOf(H2-moving(Jim))\n",
      "             356     5000         19   12   F   285  = startOf(H5-painting(Jack))\n",
      "             356     6000         21   12   F         !presenceOf(H2-masonry(Joe))\n",
      "             356     3000          2   14   F          presenceOf(H4-facade(Jack))\n",
      "             356     4000         36   14              presenceOf(H3-carpentry(Jim))\n",
      "             356     5000         37   14       290 != startOf(H5-garden(Joe))\n",
      "             356     2000         27   15       200 != startOf(H5-windows(Joe))\n",
      "             356     3000          2   15       270 != startOf(H5-roofing(Jack))\n",
      "             356     2000          2   16   F          presenceOf(H1-roofing(Joe))\n",
      "             356     3000         58   16       165 != startOf(H5-roofing(Joe))\n",
      "             356     4000         41   16   F   235  = startOf(H2-windows(Jim))\n",
      "             356     3000          2   17   F         !presenceOf(H3-painting(Jim))\n",
      " ! Time = 2.23s, Average fail depth = 24, Memory usage = 33.8 MB\n",
      " ! Current bound is 372 (gap is 4.49%)\n",
      " !          Best Branches  Non-fixed    W       Branch decision\n",
      "             356     2000          2   18       165  = startOf(H3-garden(Jim))\n",
      "             356     2000          2   19   F         !presenceOf(H5-windows(Joe))\n",
      "             356     3000         56   19   F         !presenceOf(H5-roofing(Jack))\n",
      "             356     3000          4   20   F         !presenceOf(H1-ceiling(Jack))\n",
      "             356     2000         27   21       165  = startOf(H4-ceiling(Joe))\n",
      "             356     3000         38   21   F   210  = startOf(H3-plumbing(Jack))\n",
      "             356     4000         38   21             !presenceOf(H3-garden(Jack))\n",
      "             356     3000         64   22             !presenceOf(H5-roofing(Joe))\n",
      "             356     4000         47   22   F         !presenceOf(H1-moving(Jim))\n",
      "             356     3000          2   24       195  = startOf(H2-windows(Joe))\n",
      "             356     3000          2    2             !presenceOf(H5-facade(Jack))\n",
      "             356     4000          2    2   F          presenceOf(H1-roofing(Joe))\n",
      "             356     5000         48    2   F         !presenceOf(H1-roofing(Joe))\n",
      "             356     3000          2    3   F   230  = startOf(H3-facade(Joe))\n",
      "             356     4000         47    3   F          presenceOf(H1-painting(Jim))\n",
      "             356     5000         47    3             !presenceOf(H4-facade(Jack))\n",
      " *           360     4417  2.23s        4      (gap is 3.33%)\n",
      "             360     4000         47    6       120  = startOf(H1-plumbing(Jack))\n",
      "             360     3000          2   10             !presenceOf(H4-windows(Jim))\n",
      "             360     4000          2   10   F          presenceOf(H5-facade(Jack))\n",
      " ! Time = 2.23s, Average fail depth = 24, Memory usage = 33.9 MB\n",
      " ! Current bound is 372 (gap is 3.33%)\n",
      " !          Best Branches  Non-fixed    W       Branch decision\n",
      "             360     5000         47   10       210  = startOf(H4-roofing(Joe))\n",
      "             360     7000          2   12   F   290  = startOf(H1-painting(Jack))\n",
      "             360     3000          2   13        35  = startOf(H5-masonry(Joe))\n",
      "             360     4000         51   13   F          presenceOf(H1-roofing(Joe))\n",
      "             360     4000         42   15       280 != startOf(H4-roofing(Joe))\n",
      "             360     4000         43   17       155  = startOf(H1-garden(Jim))\n",
      "             360     3000          2   18   F         !presenceOf(H2-facade(Joe))\n",
      "             360     4000          2   18              presenceOf(H2-roofing(Joe))\n",
      "             360     4000          2   20   F          presenceOf(H1-ceiling(Joe))\n",
      "             360     4000          2   23              presenceOf(H2-windows(Jim))\n",
      "             360     4000          2   24   F          presenceOf(H2-roofing(Joe))\n",
      "             360     5000         52   24       175  = startOf(H5-garden(Jim))\n",
      "             360     4000         44    1       290  = startOf(H3-roofing(Jack))\n",
      "             360     5000         58    1   F         !presenceOf(H3-ceiling(Joe))\n",
      "             360     6000          2    3   F   310  = startOf(H2-moving(Jim))\n",
      "             360     5000          5    4   F          presenceOf(H5-ceiling(Jack))\n",
      "             360     6000         78    4   F         !presenceOf(H3-ceiling(Jack))\n",
      "             360     5000         43    5   F          presenceOf(H3-painting(Jim))\n",
      "             360     5000         36    6   F         !presenceOf(H2-facade(Jack))\n",
      "             360     6000         36    6             !presenceOf(H3-painting(Jim))\n",
      " ! Time = 3.12s, Average fail depth = 26, Memory usage = 34.8 MB\n",
      " ! Current bound is 372 (gap is 3.33%)\n",
      " !          Best Branches  Non-fixed    W       Branch decision\n",
      "             360     6000          2    7   F         !presenceOf(H5-painting(Jim))\n",
      "             360     4000         58    8   F   255  = startOf(H2-plumbing(Jack))\n",
      "             360     5000         56    8             !presenceOf(H5-ceiling(Joe))\n",
      "             360     5000         63    9       190  = startOf(H4-plumbing(Jack))\n",
      "             360     6000         12    9   F         !presenceOf(H4-roofing(Jack))\n",
      "             360     6000         23   10   F          presenceOf(H2-painting(Jim))\n",
      "             360     7000         41   10   F         !presenceOf(H2-facade(Jack))\n",
      "             360     5000         58   11   F          presenceOf(H1-ceiling(Joe))\n",
      "             360     6000          2   11   F   250  = startOf(H1-windows(Joe))\n",
      "             360     5000         45   13   F          presenceOf(H4-ceiling(Joe))\n",
      "             360     6000         58   13   F         !presenceOf(H2-painting(Jim))\n",
      "             360     6000         37   14             !presenceOf(H4-masonry(Jack))\n",
      "             360     7000         26   14       270  = startOf(H4-roofing(Jack))\n",
      "             360     5000         40   15   F         !presenceOf(H4-painting(Jim))\n",
      "             360     6000         34   15   F         !presenceOf(H1-roofing(Joe))\n",
      "             360     5000         20   16             !presenceOf(H1-painting(Jim))\n",
      "             360     6000         56   16              presenceOf(H3-roofing(Joe))\n",
      "             360     5000         58   17       180  = startOf(H2-roofing(Joe))\n",
      "             360     6000         47   17             !presenceOf(H5-painting(Jim))\n",
      "             360     4000         52   19   F          presenceOf(H3-painting(Jim))\n",
      " ! Time = 3.12s, Average fail depth = 26, Memory usage = 34.8 MB\n",
      " ! Current bound is 372 (gap is 3.33%)\n",
      " !          Best Branches  Non-fixed    W       Branch decision\n",
      "             360     5000         58   19   F         !presenceOf(H1-painting(Jim))\n",
      "             360     5000         66   20       135  = startOf(H5-ceiling(Joe))\n",
      "             360     6000         57   20             !presenceOf(H4-roofing(Jack))\n",
      "             360     5000         38   21   F          presenceOf(H1-garden(Jack))\n",
      "             360     6000         27   21       295 != startOf(H3-garden(Jim))\n",
      "             360     5000         47   22   F         !presenceOf(H1-painting(Jack))\n",
      "             360     6000          2   22       300 != startOf(H3-painting(Jack))\n",
      "             360     5000         48   23       275 != startOf(H4-roofing(Joe))\n",
      "             360     6000         48   23              presenceOf(H4-ceiling(Joe))\n",
      "             360     6000          2    2   F         !presenceOf(H5-ceiling(Jack))\n",
      "             360     7000         43    2       250  = startOf(H4-painting(Jim))\n",
      "             360     7000         27    3       175  = startOf(H1-facade(Joe))\n",
      "             360     7000          2    7              presenceOf(H2-painting(Jack))\n",
      "             360     8000          2    7       270 != startOf(H4-painting(Jack))\n",
      "             360     7000          2   11   F         !presenceOf(H2-ceiling(Joe))\n",
      "             360     8000          3   12   F          presenceOf(H3-windows(Jim))\n",
      "             360     5000          2   18              presenceOf(H2-garden(Jim))\n",
      "             360     6000         50   18             !presenceOf(H2-carpentry(Jim))\n",
      "             360     7000         15   22   F          presenceOf(H4-windows(Jim))\n",
      "             360     6000          2   24   F         !presenceOf(H1-ceiling(Joe))\n",
      " ! Time = 3.31s, Average fail depth = 26, Memory usage = 35.0 MB\n",
      " ! Current bound is 372 (gap is 3.33%)\n",
      " !          Best Branches  Non-fixed    W       Branch decision\n",
      "             360     7000          2   24   F   310  = startOf(H2-moving(Jim))\n",
      "             360     8000          2   24   F   310  = startOf(H5-moving(Joe))\n",
      "             360     6000         55    1              presenceOf(H4-roofing(Jack))\n",
      "             360     8000          2    2       290 != startOf(H4-painting(Jack))\n",
      "             360     8000          2    3       210  = startOf(H3-ceiling(Joe))\n",
      "             360     9000          2    3       230  = startOf(H5-roofing(Joe))\n",
      "             360    10000          2    3   F   310  = startOf(H2-moving(Jim))\n",
      "             360     7000         61    4       120 != startOf(H4-plumbing(Jack))\n",
      "             360     8000         34    4   F         !presenceOf(H2-facade(Jack))\n",
      "             360     6000         53    5        85  = startOf(H3-carpentry(Jim))\n",
      "             360     7000         57    5   F         !presenceOf(H3-facade(Jack))\n",
      "             360     7000         51    6       255 != startOf(H1-plumbing(Jack))\n",
      "             360     8000         48    6             !presenceOf(H5-roofing(Joe))\n",
      "             360     9000         32    7       175  = startOf(H2-roofing(Joe))\n",
      "             360     6000         37    8   F          presenceOf(H5-roofing(Joe))\n",
      "             360     7000          2    8   F   310  = startOf(H1-moving(Joe))\n",
      "             360     7000         23    9   F         !presenceOf(H4-painting(Jim))\n",
      "             360     8000          2    9   F          presenceOf(H4-masonry(Joe))\n",
      "             360     8000          2   10   F   310  = startOf(H5-moving(Jim))\n",
      "             360     8000          2   11   F         !presenceOf(H3-ceiling(Jack))\n",
      " ! Time = 4.11s, Average fail depth = 26, Memory usage = 35.4 MB\n",
      " ! Current bound is 372 (gap is 3.33%)\n",
      " !          Best Branches  Non-fixed    W       Branch decision\n",
      "             360     9000          2   11       220 != startOf(H3-painting(Jack))\n",
      "             360     9000         70   12   F         !presenceOf(H1-ceiling(Joe))\n",
      "             360    10000         70   12             !presenceOf(H4-ceiling(Joe))\n",
      "             360     7000         58   13       190 != startOf(H4-roofing(Joe))\n",
      "             360     8000         53   13             !presenceOf(H5-painting(Jim))\n",
      "             360     8000         51   14   F          presenceOf(H3-painting(Jim))\n",
      "             360     9000         53   14   F          presenceOf(H5-facade(Jack))\n",
      "             360     7000         32   15             !presenceOf(H2-painting(Jim))\n",
      "             360     8000         46   15   F         !presenceOf(H2-facade(Jack))\n",
      "             360     9000         46   15   F          presenceOf(H3-painting(Jim))\n",
      "             360     7000         46   16             !presenceOf(H4-facade(Jack))\n",
      "             360     7000         65   17              presenceOf(H1-windows(Joe))\n",
      "             360     8000         51   17   F         !presenceOf(H1-painting(Jim))\n",
      "             360     7000          2   18       175 != startOf(H3-ceiling(Jack))\n",
      "             360     8000          2   18   F   310  = startOf(H2-moving(Joe))\n",
      "             360     9000          2   18   F   310  = startOf(H4-moving(Jim))\n",
      "             360     6000         51   19             !presenceOf(H3-painting(Jim))\n",
      "             360     7000         55   19             !presenceOf(H1-painting(Jim))\n",
      "             360     7000        103   20              presenceOf(H2-painting(Jim))\n",
      "             360     7000         29   21       290 != startOf(H3-windows(Joe))\n",
      " ! Time = 4.11s, Average fail depth = 26, Memory usage = 35.4 MB\n",
      " ! Current bound is 372 (gap is 3.33%)\n",
      " !          Best Branches  Non-fixed    W       Branch decision\n",
      "             360     8000         34   21   F         !presenceOf(H5-facade(Jack))\n",
      "             360     9000         34   21       175  = startOf(H4-ceiling(Joe))\n",
      "             360     8000          2   22       115  = startOf(H4-plumbing(Jack))\n",
      "             360     7000         72   23              presenceOf(H4-moving(Jim))\n",
      "             360     9000          2   24       175  = startOf(H5-carpentry(Jim))\n",
      "             360    10000          2   24   F   310  = startOf(H2-moving(Jim))\n",
      "             360    11000          2   24       200  = startOf(H5-painting(Jim))\n",
      "             360     7000          2    1   F          presenceOf(H5-ceiling(Joe))\n",
      "             360     9000          2    2       160  = startOf(H3-ceiling(Joe))\n",
      "             360    10000          2    2        50  = startOf(H5-ceiling(Jack))\n",
      "             360     9000          2   10              presenceOf(H1-facade(Joe))\n",
      "             360    10000         78   10       115  = startOf(H3-plumbing(Jack))\n",
      "             360    10000          2   14             !presenceOf(H2-masonry(Jack))\n",
      "             360     8000          2   16             !presenceOf(H4-moving(Joe))\n",
      "             360     9000        103   16              presenceOf(H1-masonry(Joe))\n",
      "             360    10000          2   18       245  = startOf(H3-windows(Joe))\n",
      "             360     9000          2   22   F         !presenceOf(H3-facade(Jack))\n",
      "             360     8000         62    1             !presenceOf(H5-windows(Joe))\n",
      "             360     9000         77    1   F         !presenceOf(H5-roofing(Joe))\n",
      "             360    11000          2    3       270  = startOf(H3-roofing(Joe))\n",
      " ! Time = 4.91s, Average fail depth = 26, Memory usage = 35.8 MB\n",
      " ! Current bound is 372 (gap is 3.33%)\n",
      " !          Best Branches  Non-fixed    W       Branch decision\n",
      "             360     9000         34    4         0  = startOf(H4-masonry(Jack))\n",
      "             360     8000         57    5             !presenceOf(H3-windows(Jim))\n",
      "             360     9000         65    5       165 != startOf(H5-roofing(Joe))\n",
      "             360     9000         49    6   F          presenceOf(H2-windows(Jim))\n",
      "             360    10000         51    6             !presenceOf(H2-painting(Jim))\n",
      "             360    10000         50    7       175 != startOf(H2-roofing(Joe))\n",
      "             360    11000         66    7   F         !presenceOf(H2-roofing(Jack))\n",
      "             360     8000         18    8              presenceOf(H4-facade(Joe))\n",
      "             360     9000         27    8       280 != startOf(H1-garden(Jim))\n",
      "             360    10000         27    8       285 != startOf(H2-roofing(Jack))\n",
      "             360     9000         57    9         0  = startOf(H3-masonry(Joe))\n",
      "             360    11000         55   10   F          presenceOf(H4-ceiling(Joe))\n",
      "             360    10000          2   11   F   310  = startOf(H3-moving(Jim))\n",
      "             360    11000          2   11   F          presenceOf(H2-facade(Jack))\n",
      "             360    12000          2   11   F   310  = startOf(H2-moving(Jim))\n",
      "             360    11000         72   12   F         !presenceOf(H1-ceiling(Joe))\n",
      "             360     9000         53   13       165  = startOf(H4-roofing(Joe))\n",
      "             360    10000         51   15   F         !presenceOf(H5-roofing(Joe))\n",
      "             360    10000        103   16   F         !presenceOf(H1-masonry(Joe))\n",
      "             360    11000        103   16   F          presenceOf(H1-painting(Jim))\n",
      " ! Time = 4.93s, Average fail depth = 26, Memory usage = 35.8 MB\n",
      " ! Current bound is 372 (gap is 3.33%)\n",
      " !          Best Branches  Non-fixed    W       Branch decision\n",
      "             360    12000         65   16   F          presenceOf(H5-windows(Jim))\n",
      "             360     9000         58   17       165 != startOf(H5-roofing(Joe))\n",
      "             360    10000         60   17       180  = startOf(H3-roofing(Joe))\n",
      "             360    11000          2   18   F          presenceOf(H4-ceiling(Joe))\n",
      "             360    12000          2   18       175  = startOf(H5-roofing(Joe))\n",
      "             360     8000         51   19       270 != startOf(H1-painting(Jack))\n",
      "             360     9000         51   19       280  = startOf(H2-roofing(Jack))\n",
      "             360     8000         69   20              presenceOf(H1-moving(Jim))\n",
      "             360     9000        103   20   F         !presenceOf(H2-windows(Joe))\n",
      "             360    10000        103   20   F         !presenceOf(H3-painting(Jim))\n",
      "             360    10000         51   21   F          presenceOf(H1-painting(Jim))\n",
      "             360    11000         55   21       135  = startOf(H3-garden(Jim))\n",
      "             360    10000         58   22       160  = startOf(H3-plumbing(Jack))\n",
      "             360    11000         66   22             !presenceOf(H2-windows(Jim))\n",
      "             360     8000         86   23   F         !presenceOf(H3-ceiling(Joe))\n",
      "             360     9000         32   23       290 != startOf(H2-windows(Joe))\n",
      "             360    12000          2   24       260 != startOf(H3-windows(Joe))\n",
      "             360    11000          2    2   F   310  = startOf(H2-moving(Jim))\n",
      "             360    12000          2    2   F   310  = startOf(H5-moving(Jim))\n",
      "             360    13000          2    2       250  = startOf(H1-ceiling(Jack))\n",
      " ! Time = 4.93s, Average fail depth = 26, Memory usage = 35.8 MB\n",
      " ! Current bound is 372 (gap is 3.33%)\n",
      " !          Best Branches  Non-fixed    W       Branch decision\n",
      "             360    12000          2    3       170  = startOf(H4-ceiling(Joe))\n",
      "             360    13000          2   11   F   310  = startOf(H2-moving(Jim))\n",
      "             360    11000          2   14              presenceOf(H1-facade(Joe))\n",
      "             360    12000          2   14   F         !presenceOf(H3-ceiling(Jack))\n",
      "             360    13000          2   24       300  = startOf(H4-windows(Joe))\n",
      "             360    14000          2   24   F         !presenceOf(H4-facade(Jack))\n",
      "             360    10000         59    1   F          presenceOf(H2-windows(Jim))\n",
      "             360    11000        104    1        70  = startOf(H4-carpentry(Jim))\n",
      "             360    14000          2    2       265  = startOf(H5-garden(Jim))\n",
      "             360    15000          2    2       235  = startOf(H4-roofing(Joe))\n",
      "             360    16000          2    2       250  = startOf(H2-plumbing(Jack))\n",
      "             360    13000          2    3       165 != startOf(H4-windows(Joe))\n",
      "             360    14000          2    3   F   105  = startOf(H4-ceiling(Joe))\n",
      "             360    15000          2    3   F         !presenceOf(H5-plumbing(Jack))\n",
      "             360    10000         40    4   F   290  = startOf(H4-painting(Jack))\n",
      "             360    11000         40    4   F          presenceOf(H3-ceiling(Joe))\n",
      "             360    10000         51    5       115  = startOf(H1-facade(Joe))\n",
      "             360    11000         58    6   F         !presenceOf(H1-ceiling(Joe))\n",
      "             360    12000         66    7       175  = startOf(H4-roofing(Joe))\n",
      "             360    11000         58    8       270 != startOf(H4-painting(Jack))\n",
      " ! Time = 5.70s, Average fail depth = 26, Memory usage = 35.9 MB\n",
      " ! Current bound is 372 (gap is 3.33%)\n",
      " !          Best Branches  Non-fixed    W       Branch decision\n",
      "             360    10000         57    9   F          presenceOf(H1-ceiling(Joe))\n",
      "             360    12000         55   10             !presenceOf(H1-ceiling(Joe))\n",
      "             360    14000          2   11       300  = startOf(H3-painting(Jack))\n",
      "             360    15000          2   11        75 != startOf(H1-masonry(Joe))\n",
      "             360    16000          2   11   F   285  = startOf(H3-facade(Joe))\n",
      "             360    12000         78   12       120  = startOf(H2-plumbing(Jack))\n",
      "             360    10000         58   13   F         !presenceOf(H1-windows(Jim))\n",
      "             360    11000         60   13   F          presenceOf(H3-roofing(Joe))\n",
      "             360    13000          2   14   F         !presenceOf(H3-facade(Jack))\n",
      "             360    14000          2   14             !presenceOf(H1-moving(Joe))\n",
      "             360    11000         51   15             !presenceOf(H5-painting(Jim))\n",
      "             360    12000         58   15   F          presenceOf(H3-painting(Jim))\n",
      "             360    13000         65   16   F          presenceOf(H5-ceiling(Joe))\n",
      "             360    11000         61   17   F          presenceOf(H5-roofing(Joe))\n",
      "             360    12000         61   17   F         !presenceOf(H5-roofing(Joe))\n",
      "             360    13000          2   18       250  = startOf(H2-windows(Joe))\n",
      "             360    14000          2   18        80  = startOf(H2-windows(Joe))\n",
      "             360    10000         58   19       280  = startOf(H2-roofing(Jack))\n",
      "             360    11000        103   20   F         !presenceOf(H1-facade(Joe))\n",
      "             360    12000         74   20       140  = startOf(H4-plumbing(Jack))\n",
      " ! Time = 5.70s, Average fail depth = 26, Memory usage = 35.9 MB\n",
      " ! Current bound is 372 (gap is 3.33%)\n",
      " !          Best Branches  Non-fixed    W       Branch decision\n",
      "             360    12000         57   21   F          presenceOf(H1-painting(Jim))\n",
      "             360    13000         56   21   F   290  = startOf(H3-windows(Jim))\n",
      "             360    12000         66   22   F          presenceOf(H2-ceiling(Joe))\n",
      "             360    10000         33   23             !presenceOf(H2-windows(Jim))\n",
      "             360    11000         36   23             !presenceOf(H2-facade(Jack))\n",
      "             360    15000         49   24   F         !presenceOf(H3-roofing(Joe))\n",
      "             360    16000         42   24   F         !presenceOf(H4-roofing(Joe))\n",
      "             360    15000         74   14   F         !presenceOf(H4-ceiling(Joe))\n",
      "             360    15000          2   18   F    35  = startOf(H4-masonry(Joe))\n",
      "             360    11000         58   19       290 != startOf(H2-roofing(Jack))\n",
      "             360    12000         28   19             !presenceOf(H2-carpentry(Jim))\n",
      "             360    13000         70   20   F          presenceOf(H4-ceiling(Joe))\n",
      "             360    14000         57   20   F          presenceOf(H4-ceiling(Joe))\n",
      "             360    14000         34   21       285  = startOf(H4-windows(Joe))\n",
      "             360    15000         34   21   F   290  = startOf(H5-painting(Jack))\n",
      "             360    16000         36   21   F          presenceOf(H1-facade(Joe))\n",
      "             360    17000         36   21   F         !presenceOf(H5-painting(Jack))\n",
      "             360    13000         76   22              presenceOf(H1-painting(Jim))\n",
      "             360    14000         74   22       270 != startOf(H2-roofing(Jack))\n",
      "             360    12000         35   23       290 != startOf(H4-painting(Jack))\n",
      " ! Time = 6.50s, Average fail depth = 26, Memory usage = 36.0 MB\n",
      " ! Current bound is 372 (gap is 3.33%)\n",
      " !          Best Branches  Non-fixed    W       Branch decision\n",
      "             360    13000         34   23       290  = startOf(H4-windows(Jim))\n",
      "             360    17000         46   24   F         !presenceOf(H3-ceiling(Joe))\n",
      "             360    18000         33   24       235 != startOf(H5-roofing(Jack))\n",
      "             360    12000         64    1   F          presenceOf(H4-ceiling(Joe))\n",
      "             360    17000          2    2   F   303  = startOf(H5-garden(Jim))\n",
      "             360    16000          2    3        50  = startOf(H4-carpentry(Jim))\n",
      "             360    17000          2    3   F          presenceOf(H1-facade(Jack))\n",
      "             360    18000          2    3   F   310  = startOf(H1-moving(Jim))\n",
      "             360    12000         34    4       290 != startOf(H1-painting(Jack))\n",
      "             360    11000         49    5   F         !presenceOf(H3-ceiling(Joe))\n",
      "             360    12000         56    5   F          presenceOf(H3-ceiling(Joe))\n",
      "             360    12000         48    6       140  = startOf(H1-ceiling(Joe))\n",
      "             360    13000         37    6   F   295  = startOf(H1-windows(Joe))\n",
      "             360    13000         66    7       280  = startOf(H1-roofing(Jack))\n",
      "             360    12000         52    8       270 != startOf(H4-facade(Jack))\n",
      "             360    11000         57    9   F         !presenceOf(H5-ceiling(Joe))\n",
      "             360    12000         70    9   F          presenceOf(H3-ceiling(Joe))\n",
      "             360    13000         34   10       115 != startOf(H2-plumbing(Jack))\n",
      "             360    14000          2   10   F   310  = startOf(H2-moving(Jim))\n",
      "             360    17000          2   11       210  = startOf(H3-painting(Jim))\n",
      " ! Time = 6.50s, Average fail depth = 26, Memory usage = 35.9 MB\n",
      " ! Current bound is 372 (gap is 3.33%)\n",
      " !          Best Branches  Non-fixed    W       Branch decision\n",
      "             360    18000          2   11       215 != startOf(H5-carpentry(Joe))\n",
      "             360    19000          2   11       280  = startOf(H3-moving(Jim))\n",
      "             360    20000          2   11       280  = startOf(H4-garden(Jim))\n",
      "             360    13000         78   12             !presenceOf(H5-ceiling(Joe))\n",
      "             360    14000         27   12       270 != startOf(H4-facade(Joe))\n",
      "             360    12000         60   13       150 != startOf(H1-plumbing(Jack))\n",
      "             360    16000         72   14   F          presenceOf(H3-ceiling(Jack))\n",
      "             360    13000         58   15       290  = startOf(H5-roofing(Jack))\n",
      "             360    14000         54   15              presenceOf(H2-windows(Joe))\n",
      "             360    14000         81   16       105 != startOf(H2-ceiling(Joe))\n",
      "             360    13000         52   17   F          presenceOf(H1-ceiling(Joe))\n",
      "             360    16000          2   18   F   310  = startOf(H1-moving(Jim))\n",
      "             360    17000          2   18   F         !presenceOf(H4-moving(Jim))\n",
      "             360    18000         12   18   F   220  = startOf(H1-plumbing(Jack))\n",
      "             360    19000          2   18       305  = startOf(H4-moving(Jim))\n",
      "             360    19000          2    3       200  = startOf(H3-roofing(Jack))\n",
      "             360    20000          2    3   F   310  = startOf(H5-moving(Jim))\n",
      "             360    21000          2    3   F          presenceOf(H5-garden(Jack))\n",
      "             360    13000         36    4       200 != startOf(H2-roofing(Joe))\n",
      "             360    14000          2    4       265  = startOf(H4-windows(Joe))\n",
      " ! Time = 7.32s, Average fail depth = 26, Memory usage = 36.0 MB\n",
      " ! Current bound is 372 (gap is 3.33%)\n",
      " !          Best Branches  Non-fixed    W       Branch decision\n",
      "             360    15000          2    4   F          presenceOf(H2-ceiling(Joe))\n",
      "             360    13000         57    5   F         !presenceOf(H4-ceiling(Joe))\n",
      "             360    14000         37    6       270 != startOf(H2-facade(Jack))\n",
      "             360    14000         33    7       250  = startOf(H3-ceiling(Joe))\n",
      "             360    15000         47    7              presenceOf(H5-ceiling(Jack))\n",
      "             360    13000         55    8   F          presenceOf(H1-ceiling(Joe))\n",
      "             360    14000         61    8       130  = startOf(H5-roofing(Jack))\n",
      "             360    13000         42    9       290 != startOf(H2-windows(Jim))\n",
      "             360    15000          2   10       185  = startOf(H2-carpentry(Joe))\n",
      "             360    16000          2   10        75  = startOf(H1-plumbing(Jack))\n",
      "             360    17000          2   10   F   310  = startOf(H2-moving(Jim))\n",
      "             360    21000          2   11       270 != startOf(H4-painting(Jim))\n",
      "             360    22000          2   11       265  = startOf(H4-facade(Joe))\n",
      "             360    23000          2   11       285 != startOf(H5-garden(Jim))\n",
      "             360    15000         29   12   F          presenceOf(H5-windows(Jim))\n",
      "             360    13000         68   13       125  = startOf(H3-ceiling(Joe))\n",
      "             360    14000         57   13   F         !presenceOf(H3-painting(Jack))\n",
      "             360    17000          2   14       200  = startOf(H3-painting(Jim))\n",
      "             360    18000          2   14   F   310  = startOf(H5-moving(Jim))\n",
      "             360    19000          2   14        35  = startOf(H1-masonry(Joe))\n",
      " ! Time = 7.32s, Average fail depth = 26, Memory usage = 36.0 MB\n",
      " ! Current bound is 372 (gap is 3.33%)\n",
      " !          Best Branches  Non-fixed    W       Branch decision\n",
      "             360    15000         78   15             !presenceOf(H3-ceiling(Joe))\n",
      "             360    15000         56   16       120 != startOf(H1-ceiling(Jack))\n",
      "             360    14000         56   17              presenceOf(H3-painting(Jack))\n",
      "             360    15000         55   17             !presenceOf(H4-ceiling(Joe))\n",
      "             360    20000          2   18   F         !presenceOf(H1-painting(Jim))\n",
      "             360    21000          2   18   F          presenceOf(H3-ceiling(Joe))\n",
      "             360    22000          2   18   F          presenceOf(H4-painting(Jim))\n",
      "             360    13000         70   19   F          presenceOf(H4-ceiling(Joe))\n",
      "             360    14000         70   19   F          presenceOf(H3-moving(Joe))\n",
      "             360    15000         54   20   F          presenceOf(H1-ceiling(Joe))\n",
      "             360    18000         39   21   F         !presenceOf(H4-roofing(Joe))\n",
      "             360    19000         61   21   F          presenceOf(H1-roofing(Joe))\n",
      "             360    15000         74   22   F          presenceOf(H5-carpentry(Jim))\n",
      "             360    14000         36   23   F          presenceOf(H3-ceiling(Joe))\n",
      "             360    15000         68   23       150  = startOf(H2-garden(Jim))\n",
      "             360    19000          2   24       105 != startOf(H3-masonry(Joe))\n",
      "             360    20000         33   24        35  = startOf(H2-carpentry(Jim))\n",
      "             360    13000         70    1       125 != startOf(H3-plumbing(Jack))\n",
      "             360    14000         68    1       150  = startOf(H1-roofing(Jack))\n",
      "             360    18000          2    2         0  = startOf(H5-masonry(Jack))\n",
      " ! Time = 7.33s, Average fail depth = 26, Memory usage = 36.0 MB\n",
      " ! Current bound is 372 (gap is 3.33%)\n",
      " !          Best Branches  Non-fixed    W       Branch decision\n",
      "             360    19000          2    2       245  = startOf(H4-garden(Jim))\n",
      "             360    20000          2    2   F         !presenceOf(H2-ceiling(Joe))\n",
      "             360    22000          2    3       175  = startOf(H4-plumbing(Jack))\n",
      "             360    23000          2    3       290 != startOf(H1-garden(Jim))\n",
      "             360    24000          2    3        50  = startOf(H4-painting(Jim))\n",
      "             360    16000          2    4   F   310  = startOf(H1-moving(Jim))\n",
      "             360    17000          2    4       210  = startOf(H5-carpentry(Jim))\n",
      "             360    18000          2    4       255  = startOf(H5-windows(Joe))\n",
      "             360    14000          2    5       225  = startOf(H1-facade(Joe))\n",
      "             360    15000          2    5       185  = startOf(H4-carpentry(Joe))\n",
      "             360    15000         56    6       270 != startOf(H4-facade(Jack))\n",
      "             360    16000         54    6   F         !presenceOf(H5-ceiling(Joe))\n",
      "             360    16000        103    7              presenceOf(H2-facade(Joe))\n",
      "             360    17000        103    7             !presenceOf(H1-roofing(Joe))\n",
      "             360    15000         55    8             !presenceOf(H3-roofing(Joe))\n",
      "             360    14000         42    9             !presenceOf(H2-ceiling(Joe))\n",
      "             360    18000          2   10       135  = startOf(H2-plumbing(Jack))\n",
      "             360    19000          2   10       205 != startOf(H5-carpentry(Joe))\n",
      "             360    20000          2   10       250 != startOf(H2-carpentry(Joe))\n",
      "             360    24000          2   11   F   310  = startOf(H5-moving(Jim))\n",
      " ! Time = 8.18s, Average fail depth = 26, Memory usage = 36.0 MB\n",
      " ! Current bound is 372 (gap is 3.33%)\n",
      " !          Best Branches  Non-fixed    W       Branch decision\n",
      "             360    25000          2   11   F         !presenceOf(H5-carpentry(Joe))\n",
      "             360    26000          2   11       270  = startOf(H4-facade(Joe))\n",
      "             360    16000         59   12   F         !presenceOf(H5-ceiling(Jack))\n",
      "             360    17000          2   12   F   310  = startOf(H1-moving(Jim))\n",
      "             360    18000          2   12   F          presenceOf(H1-ceiling(Joe))\n",
      "             360    15000         78   13             !presenceOf(H3-windows(Jim))\n",
      "             360    20000          2   14   F         !presenceOf(H4-masonry(Joe))\n",
      "             360    21000          2   14       225  = startOf(H1-windows(Joe))\n",
      "             360    16000         55   15   F         !presenceOf(H5-ceiling(Joe))\n",
      "             360    16000         67   16   F         !presenceOf(H1-ceiling(Joe))\n",
      "             360    17000         67   16   F          presenceOf(H1-ceiling(Joe))\n",
      "             360    16000          2   17       280  = startOf(H2-moving(Jim))\n",
      "             360    23000          2   18        35  = startOf(H5-ceiling(Jack))\n",
      "             360    24000          2   18   F   310  = startOf(H5-moving(Jim))\n",
      "             360    25000          2   18       195  = startOf(H5-plumbing(Jack))\n",
      "             360    15000         55   19       150  = startOf(H3-facade(Joe))\n",
      "             360    16000         70   20   F         !presenceOf(H2-ceiling(Joe))\n",
      "             360    17000         70   20   F          presenceOf(H3-ceiling(Joe))\n",
      "             360    20000         59   21   F         !presenceOf(H4-painting(Jack))\n",
      "             360    16000          4   22       300  = startOf(H5-facade(Joe))\n",
      " ! Time = 8.19s, Average fail depth = 26, Memory usage = 36.0 MB\n",
      " ! Current bound is 372 (gap is 3.33%)\n",
      " !          Best Branches  Non-fixed    W       Branch decision\n",
      "             360    17000          2   22   F   200  = startOf(H3-facade(Joe))\n",
      "             360    18000          2   22   F   310  = startOf(H5-moving(Jim))\n",
      "             360    19000          2   22       280 != startOf(H5-ceiling(Jack))\n",
      "             360    16000         62   23       155  = startOf(H1-ceiling(Jack))\n",
      "             360    17000         62   23   F         !presenceOf(H1-ceiling(Joe))\n",
      "             360    21000         20   24       170  = startOf(H4-carpentry(Joe))\n",
      "             360    22000         26   24   F         !presenceOf(H1-roofing(Joe))\n",
      "             360    75509          2   25 \n",
      "             360    76786          2   26 \n",
      "             360    76382          2   27 \n",
      "             360    75399          2   28 \n",
      "             360    74718          2   29 \n",
      "             360    76144          2   30 \n",
      "             360    75681          2   31 \n",
      "             360    75227          2   32 \n",
      "             360    15000         66    1       155 != startOf(H5-plumbing(Jack))\n",
      "             360    21000          2    2       260  = startOf(H2-garden(Jim))\n",
      "             360    22000          2    2       295  = startOf(H2-moving(Jim))\n",
      "             360    23000          2    2       290  = startOf(H3-garden(Jim))\n",
      "             360    25000          2    3       280  = startOf(H2-roofing(Jack))\n",
      " ! Time = 9.11s, Average fail depth = 26, Memory usage = 36.0 MB\n",
      " ! Current bound is 372 (gap is 3.33%)\n",
      " !          Best Branches  Non-fixed    W       Branch decision\n",
      "             360    26000          2    3       300 != startOf(H5-painting(Jack))\n",
      "             360    19000          2    4       155 != startOf(H5-ceiling(Jack))\n",
      "             360    20000          2    4       195  = startOf(H2-carpentry(Joe))\n",
      "             360    21000          2    4       245  = startOf(H1-facade(Joe))\n",
      "             360    16000          2    5       290  = startOf(H1-facade(Joe))\n",
      "             360    17000          2    5       210 != startOf(H4-plumbing(Jack))\n",
      "             360    18000          2    5       255 != startOf(H2-ceiling(Jack))\n",
      "             360    17000         56    6       150 != startOf(H4-roofing(Joe))\n",
      "             360    18000        103    7             !presenceOf(H1-roofing(Joe))\n",
      "             360    19000          2    7       140  = startOf(H4-plumbing(Jack))\n",
      "             360    16000         34    8   F   255  = startOf(H3-plumbing(Jack))\n",
      "             360    17000          2    8   F   310  = startOf(H5-moving(Jim))\n",
      "             360    15000         78    9       115  = startOf(H5-facade(Jack))\n",
      "             360    16000         78    9   F          presenceOf(H5-ceiling(Joe))\n",
      "             360    21000          2   10        35  = startOf(H1-masonry(Joe))\n",
      "             360    22000          2   10   F   310  = startOf(H2-moving(Jim))\n",
      "             360    23000          2   10       135  = startOf(H5-carpentry(Joe))\n",
      "             360    27000          2   11   F   310  = startOf(H5-moving(Jim))\n",
      "             360    28000          2   11       235  = startOf(H4-roofing(Joe))\n",
      "             360    29000          2   11       215  = startOf(H1-plumbing(Jack))\n",
      " ! Time = 9.37s, Average fail depth = 26, Memory usage = 36.0 MB\n",
      " ! Current bound is 372 (gap is 3.33%)\n",
      " !          Best Branches  Non-fixed    W       Branch decision\n",
      "             360    19000          2   12       300  = startOf(H1-garden(Jim))\n",
      "             360    20000          2   12        90  = startOf(H1-ceiling(Jack))\n",
      "             360    21000          2   12   F   310  = startOf(H1-moving(Jim))\n",
      "             360    16000         42   13   F         !presenceOf(H2-facade(Joe))\n",
      "             360    17000          2   13   F          presenceOf(H2-painting(Jim))\n",
      "             360    18000          2   13       225  = startOf(H4-garden(Jim))\n",
      "             360    22000          2   14       205  = startOf(H4-garden(Jim))\n",
      "             360    23000          2   14   F   310  = startOf(H5-moving(Jim))\n",
      "             360    24000          2   14   F   310  = startOf(H5-moving(Jim))\n",
      "             360    17000         72   15   F          presenceOf(H1-ceiling(Joe))\n",
      "             360    18000         61   15   F          presenceOf(H5-ceiling(Joe))\n",
      "             360    18000         64   16   F          presenceOf(H1-ceiling(Joe))\n",
      "             360    17000          2   17       110  = startOf(H3-facade(Joe))\n",
      "             360    18000          2   17       220  = startOf(H3-painting(Jim))\n",
      "             360    26000          2   18       260 != startOf(H4-facade(Joe))\n",
      "             360    27000          2   18       220  = startOf(H2-painting(Jim))\n",
      "             360    28000          2   18       135 != startOf(H1-carpentry(Joe))\n",
      "             360    16000         55   19             !presenceOf(H3-ceiling(Joe))\n",
      "             360    18000         63   20       155 != startOf(H4-roofing(Jack))\n",
      "             360    21000         72   21   F         !presenceOf(H1-ceiling(Jack))\n",
      " ! Time = 9.37s, Average fail depth = 26, Memory usage = 36.0 MB\n",
      " ! Current bound is 372 (gap is 3.33%)\n",
      " !          Best Branches  Non-fixed    W       Branch decision\n",
      "             360    22000         46   21   F         !presenceOf(H5-roofing(Joe))\n",
      "             360    20000          2   22       285  = startOf(H2-moving(Jim))\n",
      "             360    21000          2   22       265  = startOf(H2-painting(Jim))\n",
      "             360    22000          2   22        75  = startOf(H5-plumbing(Jack))\n",
      "             360    18000        103   23              presenceOf(H2-masonry(Jack))\n",
      "             360    19000        103   23   F          presenceOf(H3-carpentry(Jim))\n",
      "             360    23000          2   24   F         !presenceOf(H5-masonry(Jack))\n",
      "             360    24000         45   24   F          presenceOf(H5-roofing(Joe))\n",
      "             360    16000         68    1       150  = startOf(H5-ceiling(Jack))\n",
      "             360    17000         61    1             !presenceOf(H4-moving(Jim))\n",
      "             360    24000          2    2             !presenceOf(H4-moving(Joe))\n",
      "             360    25000          2    2       155  = startOf(H2-carpentry(Joe))\n",
      "             360    26000          2    2       185  = startOf(H3-painting(Jim))\n",
      "             360    27000          2    3       245  = startOf(H5-windows(Joe))\n",
      " ! ----------------------------------------------------------------------------\n",
      " ! Search terminated by limit, 8 solutions found.\n",
      " ! Best objective         : 360 (gap is 3.33%)\n",
      " ! Best bound             : 372\n",
      " ! ----------------------------------------------------------------------------\n",
      " ! Number of branches     : 1326454\n",
      " ! Number of fails        : 257440\n",
      " ! Total memory usage     : 30.3 MB (30.2 MB CP Optimizer + 0.1 MB Concert)\n",
      " ! Time spent in solve    : 10.17s (10.15s engine + 0.02s extraction)\n",
      " ! Search speed (br. / s) : 130685.1\n",
      " ! ----------------------------------------------------------------------------\n"
     ]
    }
   ],
   "source": [
    "# Solve the model\n",
    "print(\"\\nSolving model....\")\n",
    "msol = mdl.solve(TimeLimit=10)"
   ]
  },
  {
   "cell_type": "markdown",
   "metadata": {},
   "source": [
    "### Step 4: Investigate the solution and run an example analysis"
   ]
  },
  {
   "cell_type": "code",
   "execution_count": 20,
   "metadata": {
    "id": "7e2fa6a1-db36-49e9-955c-4f7fe50fd2dc"
   },
   "outputs": [
    {
     "name": "stdout",
     "output_type": "stream",
     "text": [
      "Solve status: Feasible\n",
      "Solve time: 10.16\n",
      "\n",
      "List of tasks in increasing start order:\n",
      "From 0 to 35, masonry in house 2\n",
      "From 0 to 35, masonry in house 4\n",
      "From 35 to 50, ceiling in house 2\n",
      "From 35 to 70, masonry in house 5\n",
      "From 50 to 60, painting in house 2\n",
      "From 50 to 65, ceiling in house 4\n",
      "From 65 to 75, painting in house 4\n",
      "From 65 to 105, plumbing in house 4\n",
      "From 70 to 105, masonry in house 1\n",
      "From 75 to 90, carpentry in house 5\n",
      "From 105 to 140, masonry in house 3\n",
      "From 105 to 120, ceiling in house 5\n",
      "From 120 to 130, painting in house 5\n",
      "From 120 to 160, plumbing in house 5\n",
      "From 140 to 155, carpentry in house 2\n",
      "From 155 to 170, carpentry in house 4\n",
      "From 160 to 200, plumbing in house 3\n",
      "From 170 to 185, ceiling in house 3\n",
      "From 185 to 200, ceiling in house 1\n",
      "From 185 to 195, painting in house 3\n",
      "From 200 to 240, plumbing in house 2\n",
      "From 200 to 215, carpentry in house 3\n",
      "From 215 to 230, carpentry in house 1\n",
      "From 230 to 235, roofing in house 5\n",
      "From 235 to 240, windows in house 5\n",
      "From 235 to 240, garden in house 5\n",
      "From 240 to 245, roofing in house 3\n",
      "From 240 to 250, facade in house 5\n",
      "From 245 to 250, garden in house 3\n",
      "From 245 to 250, roofing in house 4\n",
      "From 250 to 255, roofing in house 2\n",
      "From 250 to 255, windows in house 3\n",
      "From 250 to 255, garden in house 4\n",
      "From 255 to 260, roofing in house 1\n",
      "From 255 to 260, garden in house 2\n",
      "From 255 to 260, windows in house 4\n",
      "From 260 to 265, windows in house 1\n",
      "From 260 to 300, plumbing in house 1\n",
      "From 260 to 265, moving in house 5\n",
      "From 265 to 275, facade in house 2\n",
      "From 275 to 285, facade in house 4\n",
      "From 285 to 295, facade in house 3\n",
      "From 285 to 290, moving in house 4\n",
      "From 298 to 303, windows in house 2\n",
      "From 298 to 303, moving in house 3\n",
      "From 300 to 310, painting in house 1\n",
      "From 303 to 313, facade in house 1\n",
      "From 303 to 308, moving in house 2\n",
      "From 308 to 313, garden in house 1\n",
      "From 313 to 318, moving in house 1\n"
     ]
    }
   ],
   "source": [
    "print(\"Solve status: \" + msol.get_solve_status())\n",
    "if msol.is_solution():\n",
    "    stdout.write(\"Solve time: \" + str(msol.get_solve_time()) + \"\\n\")\n",
    "    # Sort tasks in increasing begin order\n",
    "    ltasks = []\n",
    "    for hs in HOUSES:\n",
    "        for tsk in TASKS:\n",
    "            (beg, end, dur) = msol[tasks[(hs, tsk)]]\n",
    "            ltasks.append((hs, tsk, beg, end, dur))\n",
    "    ltasks = sorted(ltasks, key = lambda x : x[2])\n",
    "    # Print solution\n",
    "    print(\"\\nList of tasks in increasing start order:\")\n",
    "    for tsk in ltasks:\n",
    "        print(\"From \" + str(tsk[2]) + \" to \" + str(tsk[3]) + \", \" + tsk[1].name + \" in house \" + str(tsk[0]))\n",
    "else:\n",
    "    stdout.write(\"No solution found\\n\")"
   ]
  },
  {
   "cell_type": "markdown",
   "metadata": {},
   "source": [
    "#### Import graphical tools"
   ]
  },
  {
   "cell_type": "markdown",
   "metadata": {},
   "source": [
    "*You can set __POP\\_UP\\_GRAPHIC=True__ if you prefer a pop up graphic window instead of an inline one.*"
   ]
  },
  {
   "cell_type": "code",
   "execution_count": 21,
   "metadata": {
    "id": "58d0f5ee-f562-40cc-9010-991e56279cba"
   },
   "outputs": [],
   "source": [
    "POP_UP_GRAPHIC=False"
   ]
  },
  {
   "cell_type": "code",
   "execution_count": 22,
   "metadata": {
    "id": "1203048a-56d6-400b-8e94-957cc5b868d7"
   },
   "outputs": [],
   "source": [
    "import docplex.cp.utils_visu as visu\n",
    "import matplotlib.pyplot as plt\n",
    "if not POP_UP_GRAPHIC:\n",
    "    %matplotlib inline\n",
    "#Change the plot size\n",
    "from pylab import rcParams\n",
    "rcParams['figure.figsize'] = 15, 3"
   ]
  },
  {
   "cell_type": "markdown",
   "metadata": {},
   "source": [
    "#### Draw solution"
   ]
  },
  {
   "cell_type": "markdown",
   "metadata": {},
   "source": [
    "#### Useful functions "
   ]
  },
  {
   "cell_type": "markdown",
   "metadata": {},
   "source": [
    "To facilitate the display of tasks names, keep only the first n characters."
   ]
  },
  {
   "cell_type": "code",
   "execution_count": 23,
   "metadata": {
    "id": "6de17730-e8ea-4e85-92e5-a43a8331cd4d"
   },
   "outputs": [],
   "source": [
    "def compact_name(name,n): return name[:n]"
   ]
  },
  {
   "cell_type": "code",
   "execution_count": 24,
   "metadata": {
    "id": "e4dda61c-cd6f-49d1-bd73-b3329e54fdd4"
   },
   "outputs": [
    {
     "data": {
      "image/png": "[encoded data removed]",
      "text/plain": [
       "<Figure size 1500x300 with 1 Axes>"
      ]
     },
     "metadata": {},
     "output_type": "display_data"
    }
   ],
   "source": [
    "if msol and visu.is_visu_enabled():\n",
    "    workers_colors = {}\n",
    "    workers_colors[\"Joe\"] = 'lightblue'\n",
    "    workers_colors[\"Jack\"] = 'violet'\n",
    "    workers_colors[\"Jim\"] = 'lightgreen'\n",
    "    visu.timeline('Solution per houses', 0, MAX_AMOUNT_OF_PERIODS)\n",
    "    for h in HOUSES:\n",
    "        visu.sequence(name=\"house \" + str(h))\n",
    "        for s in SKILLS:\n",
    "            wt = msol.get_var_solution(wtasks[(h,s)])\n",
    "            if wt.is_present():\n",
    "                color = workers_colors[s.worker]\n",
    "                wtname = compact_name(s.task,2)\n",
    "                visu.interval(wt, color, wtname)\n",
    "    visu.show()"
   ]
  },
  {
   "cell_type": "markdown",
   "metadata": {},
   "source": [
    "The purpose of this function is to compact the names of the different tasks to make the graphical display more readable. </p>\n",
    "For example \"H3-garden\" becomes \"G3\""
   ]
  },
  {
   "cell_type": "code",
   "execution_count": 25,
   "metadata": {
    "id": "317fd252-56b5-4526-97e6-e13a4a012595"
   },
   "outputs": [],
   "source": [
    "def compact_house_task(name):\n",
    "    loc, task = name[1:].split('-', 1)\n",
    "    return task[0].upper() + loc"
   ]
  },
  {
   "cell_type": "markdown",
   "metadata": {},
   "source": [
    "A green color is used in the display when the task is using the most skilled worker. A red color is used in the display when the task does not use the most skilled worker."
   ]
  },
  {
   "cell_type": "code",
   "execution_count": 26,
   "metadata": {
    "id": "b70ea1f6-498f-4f28-b9c6-85d2c8b6af80"
   },
   "outputs": [
    {
     "data": {
      "image/png": "[encoded data removed]",
      "text/plain": [
       "<Figure size 1500x300 with 1 Axes>"
      ]
     },
     "metadata": {},
     "output_type": "display_data"
    }
   ],
   "source": [
    "if msol and visu.is_visu_enabled():\n",
    "    visu.timeline('Solution per workers', 0, MAX_AMOUNT_OF_PERIODS)\n",
    "    for w in WORKERS:\n",
    "        visu.sequence(name=w)\n",
    "        for h in HOUSES:\n",
    "            for s in SKILLS:\n",
    "                if s.worker == w:\n",
    "                    wt = msol.get_var_solution(wtasks[(h,s)])\n",
    "                    if wt.is_present():\n",
    "                        ml = find_max_level_skill(s.task).level\n",
    "                        if s.level == ml:\n",
    "                            color = 'lightgreen'\n",
    "                        else:\n",
    "                            color = 'salmon'\n",
    "                        wtname = compact_house_task(wt.get_name())\n",
    "                        visu.interval(wt, color, wtname)\n",
    "    visu.show()"
   ]
  },
  {
   "cell_type": "markdown",
   "metadata": {},
   "source": [
    "<h4>Going further with Constraint Programming</h4>\n",
    "\n",
    "The last available installable package is available on Pypi here: <a href=\"https://pypi.python.org/pypi/docplex\" target=\"_blank\" rel=\"noopener noreferrer\">https://pypi.python.org/pypi/docplex</a>\n",
    "\n",
    "A complete set of modeling examples can be downloaded here: <a href=\"https://github.com/IBMDecisionOptimization/docplex-examples\" target=\"_blank\" rel=\"noopener noreferrer\">https://github.com/IBMDecisionOptimization/docplex-examples</a>  "
   ]
  },
  {
   "cell_type": "markdown",
   "metadata": {},
   "source": [
    "## Summary\n",
    "\n",
    "You have learned how to set up and use the IBM Decision Optimization CPLEX Modeling for Python to build and solve a Constraint Programming model."
   ]
  },
  {
   "cell_type": "markdown",
   "metadata": {},
   "source": [
    "#### References\n",
    "* <a href=\"https://rawgit.com/IBMDecisionOptimization/docplex-doc/master/docs/index.html\" target=\"_blank\" rel=\"noopener noreferrer\">Decision Optimization CPLEX Modeling for Python documentation</a>\n",
    "* <a href=\"https://dataplatform.cloud.ibm.com/docs/content/wsj/getting-started/welcome-main.html?context=cpdaas\" target=\"_blank\" rel=\"noopener noreferrer\">IBM Cloud Pak for Data as a Service documentation</a>\n",
    "* <a href=\"https://dataplatform.cloud.ibm.com/docs/content/wsj/getting-started/welcome-main.html?context=wx\" target=\"_blank\" rel=\"noopener noreferrer\">IBM watsonx.ai documentation</a>\n"
   ]
  },
  {
   "cell_type": "markdown",
   "metadata": {},
   "source": [
    "<hr>\n",
    "Copyright © 2017-2025. This notebook and its source code are released under the terms of the MIT License."
   ]
  }
 ],
 "metadata": {
  "kernelspec": {
   "display_name": "Python 3.11",
   "language": "python",
   "name": "python3"
  },
  "language_info": {
   "codemirror_mode": {
    "name": "ipython",
    "version": 3
   },
   "file_extension": ".py",
   "mimetype": "text/x-python",
   "name": "python",
   "nbconvert_exporter": "python",
   "pygments_lexer": "ipython3",
   "version": "3.11.9"
  }
 },
 "nbformat": 4,
 "nbformat_minor": 4
}
