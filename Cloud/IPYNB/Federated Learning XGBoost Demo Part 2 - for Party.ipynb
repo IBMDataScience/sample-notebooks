{
 "cells": [
  {
   "cell_type": "markdown",
   "metadata": {},
   "source": [
    "<div class=\"alert alert-block alert-warning\"><strong>If you have this notebook as a local copy on your platform, it may become outdated. <a href=\"https://dataplatform.cloud.ibm.com/exchange/public/entry/view/029d77a73d72a4134c81383d6f020f6f?context=cpdaas&audience=wdp\">Download the latest version of this notebook</a> or download the <a href=\"https://dataplatform.cloud.ibm.com/exchange/public/entry/view/cab78523832431e767c41527a42a6727?context=cpdaas?context=cpdaas&audience=wdp\">latest version of the project</a>.</strong></div>"
   ]
  },
  {
   "cell_type": "markdown",
   "metadata": {
    "id": "19ae639982f1495b8165d987f13bce99"
   },
   "source": [
    "# Part 2 - WML Federated Learning with XGBoost and Adult Income dataset - Party"
   ]
  },
  {
   "cell_type": "markdown",
   "metadata": {},
   "source": [
    "### Learning Goals\n",
    "\n",
    "When you complete the Part 2 - WML Federated Learning with XGBoost and Adult Income dataset - Party, you should know how to:\n",
    "\n",
    "- Load the data that you intend to use in the Federated Learning experiment.\n",
    "- Install IBM Federated Learning libraries.\n",
    "- Define a data handler. For more details on data handlers, see <a href = \"https://dataplatform.cloud.ibm.com/docs/content/wsj/analyze-data/fl-cus-dh.html?audience=wdp&context=cpdaas\" target=\"_blank\" rel=\"noopener no referrer\">Customizing the data handler</a>.\n",
    "- Configure the party to train data with the aggregator."
   ]
  },
  {
   "cell_type": "markdown",
   "metadata": {},
   "source": [
    "<div class=\"alert alert-block alert-info\">This notebook is intended to be run by the administrator or connecting party of the Federated Learning experiment.\n",
    "</div>"
   ]
  },
  {
   "cell_type": "markdown",
   "metadata": {},
   "source": [
    "## Table of Contents\n",
    "\n",
    "1. [Load the data](#load)<br>\n",
    "2. [Install Federated Learning libraries](#install)<br>\n",
    "3. [Define a Data Handler](#data-handler)<br>\n",
    "4. [Configure the party](#config)<br>\n",
    "5. [Train with Federated Learning](#train)<br>\n",
    "6. [Summary](#summary)"
   ]
  },
  {
   "cell_type": "markdown",
   "metadata": {},
   "source": [
    "<div class=\"alert alert-block alert-warning\">Before you run this notebook, you must have already run <a href = \"https://dataplatform.cloud.ibm.com/exchange/public/entry/view/029d77a73d72a4134c81383d6f020f6f?context=cpdaas\">Part 1 - WML Federated Learning with XGBoost and Adult Income dataset - Aggregator</a>). If you have not, open the notebook and run through that notebook first.\n",
    "</div>"
   ]
  },
  {
   "cell_type": "markdown",
   "metadata": {},
   "source": [
    "<a id = \"input\"></a>\n",
    "## 1. Input variables"
   ]
  },
  {
   "cell_type": "markdown",
   "metadata": {},
   "source": [
    "### Paste Variables From Admin Notebook"
   ]
  },
  {
   "cell_type": "markdown",
   "metadata": {},
   "source": [
    "Paste in the ID credentials you got from the end of the Part 1 notebook. If you have not run through Part 1, open the notebook and run through it first."
   ]
  },
  {
   "cell_type": "code",
   "execution_count": null,
   "metadata": {},
   "outputs": [],
   "source": [
    "WML_SERVICES_HOST = ''\n",
    "PROJECT_ID = ''\n",
    "IAM_APIKEY = ''\n",
    "RTS_ID = ''\n",
    "TRAINING_ID = ''"
   ]
  },
  {
   "cell_type": "markdown",
   "metadata": {},
   "source": [
    "<a id = \"2\"></a>\n",
    "## 2. Download Adult Income dataset"
   ]
  },
  {
   "cell_type": "markdown",
   "metadata": {},
   "source": [
    "As the party, you must provide the dataset that you will use to train the Federated Learning model. In this tutorial, a dataset is provided by default, the Adult Income dataset."
   ]
  },
  {
   "cell_type": "code",
   "execution_count": null,
   "metadata": {},
   "outputs": [],
   "source": [
    "import requests\n",
    "\n",
    "dataset_resp = requests.get(\"https://api.dataplatform.cloud.ibm.com/v2/gallery-assets/entries/5fcc01b02d8f0e50af8972dc8963f98e/data\",\n",
    "                            allow_redirects=True)\n",
    "\n",
    "f = open('adult.csv', 'wb')\n",
    "f.write(dataset_resp.content)\n",
    "f.close()\n",
    "\n",
    "!ls -lh"
   ]
  },
  {
   "cell_type": "markdown",
   "metadata": {},
   "source": [
    "<a id = \"install\"></a>\n",
    "## 3. Install Federated Learning libraries"
   ]
  },
  {
   "cell_type": "markdown",
   "metadata": {},
   "source": [
    "In this section, we will install the necessary libraries and other packages to call for Federated Learning with the Python client."
   ]
  },
  {
   "cell_type": "markdown",
   "metadata": {
    "id": "d12541158d2941aa8d36c7af3f50c400"
   },
   "source": [
    "<a id = \"3.1\"></a>\n",
    "### 3.1 Install the IBM WML SDK with FL"
   ]
  },
  {
   "cell_type": "markdown",
   "metadata": {},
   "source": [
    "This installs the IBM Watson Machine Learning CLI along with the whole software development package with Federated Learning."
   ]
  },
  {
   "cell_type": "code",
   "execution_count": null,
   "metadata": {
    "id": "1fecb295722240438dbb382170cb1a12",
    "scrolled": true
   },
   "outputs": [],
   "source": [
    "import sys\n",
    "!{sys.executable} -m pip install --upgrade ibm-watson-machine-learning[fl]"
   ]
  },
  {
   "cell_type": "markdown",
   "metadata": {
    "id": "067cf8c1-772c-40f5-8e5c-df0d4a971544"
   },
   "source": [
    "<a id = \"3.2\"></a>\n",
    "### 3.2 Import the IBM Watson Machine Learning client"
   ]
  },
  {
   "cell_type": "markdown",
   "metadata": {},
   "source": [
    "The following code imports the client for the party, and ensures that it is loaded."
   ]
  },
  {
   "cell_type": "code",
   "execution_count": null,
   "metadata": {
    "id": "1ce53fb92ee04920ad35fb4060faa586"
   },
   "outputs": [],
   "source": [
    "from ibm_watson_machine_learning import APIClient\n",
    "\n",
    "wml_credentials = {\n",
    "    \"apikey\": IAM_APIKEY,\n",
    "    \"url\": \"https://\" + WML_SERVICES_HOST\n",
    "}\n",
    "\n",
    "wml_client = APIClient(wml_credentials)\n",
    "wml_client.set.default_project(PROJECT_ID)"
   ]
  },
  {
   "cell_type": "markdown",
   "metadata": {
    "id": "cc7a31c3db4b4b56997f7287e49cf8f4"
   },
   "source": [
    "<a id = \"data-handler\"></a>\n",
    "## 4. Define a Data Handler"
   ]
  },
  {
   "cell_type": "markdown",
   "metadata": {},
   "source": [
    "The party should run a data handler to ensure that their datasets are in compatible format and consistent. In this tutorial, an example data handler for the Adult Income dataset is provided. \n",
    "\n",
    "For more details on data handlers, see <a href = \"https://dataplatform.cloud.ibm.com/docs/content/wsj/analyze-data/fl-cus-dh.html?audience=wdp&context=cpdaas\" target=\"_blank\" rel=\"noopener no referrer\">Customizing the data handler</a>.\n",
    "\n",
    "This data handler is written to the local working directory of this notebook"
   ]
  },
  {
   "cell_type": "code",
   "execution_count": null,
   "metadata": {
    "id": "7560ec21701e460d844563df08854f73"
   },
   "outputs": [],
   "source": [
    "datahandler_resp = requests.get(\"https://raw.githubusercontent.com/IBMDataScience/sample-notebooks/master/Files/adult_sklearn_data_handler.py\",\n",
    "                                allow_redirects=True)\n",
    "\n",
    "f = open('adult_sklearn_data_handler.py', 'wb')\n",
    "f.write(datahandler_resp.content)\n",
    "f.close()\n",
    "\n",
    "\n",
    "\n",
    "!ls -lh"
   ]
  },
  {
   "cell_type": "markdown",
   "metadata": {
    "id": "7791702cf85e4be28653a6bdb64abb87"
   },
   "source": [
    "<a id = \"config\"></a>\n",
    "## 5. Configure the party"
   ]
  },
  {
   "cell_type": "markdown",
   "metadata": {},
   "source": [
    "Each party must run their party configuration file to call out to the aggregator. Here is an example of a party configuration.\n",
    "\n",
    "Because you had already defined the training ID, RTS ID and data handler in the previous sections of this notebook, and the local training and protocol handler are all defined by the SDK, you will only need to define the information for the dataset file under `wml_client.remote_training_systems.ConfigurationMetaNames.DATA_HANDLER`. \n",
    "\n",
    "In this tutorial, the data path is already defined as we have loaded the examplar Adult Income dataset from previous sections."
   ]
  },
  {
   "cell_type": "code",
   "execution_count": null,
   "metadata": {
    "id": "b083f5c03e764e5193ae15ecfc24df63"
   },
   "outputs": [],
   "source": [
    "import json\n",
    "\n",
    "from pathlib import Path\n",
    "working_dir = !pwd\n",
    "pwd = working_dir[0]\n",
    "\n",
    "party_config = {\n",
    "    wml_client.remote_training_systems.ConfigurationMetaNames.DATA_HANDLER: {\n",
    "    \"info\": {\n",
    "            \"txt_file\": \"./adult.csv\"\n",
    "    },\n",
    "    \"name\": \"AdultSklearnDataHandler\",\n",
    "    \"path\": \"./adult_sklearn_data_handler.py\"\n",
    "  }\n",
    "}\n",
    "\n",
    "print(json.dumps(party_config, indent=4))"
   ]
  },
  {
   "cell_type": "markdown",
   "metadata": {},
   "source": [
    "<a id = \"train\"></a>\n",
    "## 6. Connect and train with Federated Learning"
   ]
  },
  {
   "cell_type": "markdown",
   "metadata": {},
   "source": [
    "Here you can finally connect to the aggregator to begin training."
   ]
  },
  {
   "cell_type": "markdown",
   "metadata": {
    "id": "21bb9c095dff42118cd38067820224ed"
   },
   "source": [
    "### 6.1 Create the party"
   ]
  },
  {
   "cell_type": "code",
   "execution_count": null,
   "metadata": {
    "id": "f462b534-c22c-4498-9042-2ee8b8849241"
   },
   "outputs": [],
   "source": [
    "party = wml_client.remote_training_systems.create_party(RTS_ID, party_config)\n",
    "party.monitor_logs()"
   ]
  },
  {
   "cell_type": "markdown",
   "metadata": {
    "id": "eef7c3935db04ce2a78e87d361a3e455"
   },
   "source": [
    "### 6.2 Connect to the aggregator and start training"
   ]
  },
  {
   "cell_type": "code",
   "execution_count": null,
   "metadata": {
    "id": "77a8683b-7b8e-44d8-a475-c653b560c131"
   },
   "outputs": [],
   "source": [
    "party.run(aggregator_id=TRAINING_ID, asynchronous=False)"
   ]
  },
  {
   "cell_type": "markdown",
   "metadata": {},
   "source": [
    "<a id = \"summary\"></a>\n",
    "## Summary\n",
    "\n",
    "Congratulations! You have learned to:\n",
    "\n",
    "1. Start a Federated Learning experiment\n",
    "2. Load a template model\n",
    "3. Create an RTS and launch the experiment job\n",
    "4. Load a dataset for training\n",
    "5. Define the data handler\n",
    "6. Configure the party\n",
    "7. Connect to the aggregator\n",
    "8. Train your Federated Learning model\n",
    "\n",
    "### Learn more\n",
    "\n",
    "- For more details about setting up Federated Learning, terminology, and running Federated Learning from the UI, see <a href = \"https://dataplatform.cloud.ibm.com/docs/content/wsj/analyze-data/fed-lea.html?audience=wdp\" target=\"_blank\" rel=\"noopener no referrer\">Federated Learning documentation</a> for Cloud.\n",
    "- For more information on a Keras model template, see their documentation <a href = \"https://www.tensorflow.org/tutorials/quickstart/advanced\" target=\"_blank\" rel=\"noopener no referrer\">here</a>."
   ]
  },
  {
   "cell_type": "markdown",
   "metadata": {},
   "source": [
    "# <hr>\n",
    "Copyright © 2020, 2021 IBM. This notebook and its source code are released under the terms of the MIT License.\n",
    "<br>\n",
    " ",
    "\n",
    "<div style=\"background:#F5F7FA; height:110px; padding: 2em; font-size:14px;\">\n",
    "<span style=\"font-size:18px;color:#152935;\">Love this notebook? </span>\n",
    "<span style=\"font-size:15px;color:#152935;float:right;margin-right:40px;\">Don't have an account yet?</span><br>\n",
    "<span style=\"color:#5A6872;\">Share it with your colleagues and help them discover the power of Watson Studio!</span>\n",
    "<span style=\"border: 1px solid #3d70b2;padding:8px;float:right;margin-right:40px; color:#3d70b2;\"><a href=\"https://ibm.co/wsnotebooks\" target=\"_blank\" style=\"color: #3d70b2;text-decoration: none;\">Sign Up</a></span><br>\n",
    "</div>"
   ]
  }
 ],
 "metadata": {
  "kernelspec": {
   "display_name": "Python 3",
   "language": "python",
   "name": "python3"
  },
  "language_info": {
   "codemirror_mode": {
    "name": "ipython",
    "version": 3
   },
   "file_extension": ".py",
   "mimetype": "text/x-python",
   "name": "python",
   "nbconvert_exporter": "python",
   "pygments_lexer": "ipython3",
   "version": "3.8.8"
  }
 },
 "nbformat": 4,
 "nbformat_minor": 4
}
