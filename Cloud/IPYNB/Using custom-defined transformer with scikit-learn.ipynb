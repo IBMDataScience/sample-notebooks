{
 "cells": [
  {
   "cell_type": "markdown",
   "metadata": {},
   "source": [
    "<img src=\"https://github.com/pmservice/customer-satisfaction-prediction/blob/master/app/static/images/ml_icon_gray.png?raw=true\" align=\"center\" alt=\"Watson Machine Learning icon\" height=\"45\" width=\"45\"/>\n",
    "\n",
    "# Using custom-defined transformer in a scikit-learn model with Watson Machine Learning"
   ]
  },
  {
   "cell_type": "markdown",
   "metadata": {},
   "source": [
    "Building models with standard components is straightforward, but to use any custom component with your models in Watson Machine Learning, you need to package your custom component code in a source distribution package and store that package in your Watson Machine Learning repository with your model.\n",
    "\n",
    "Learn how to train a scikit-learn model that uses a custom-defined transformer and then use it with the Watson Machine Learning service. After the model is trained, persist the model and the custom-defined transformer to the Watson Machine Learning Repository, deploy and score it using the Watson Machine Learning python client.\n",
    "\n",
    "In this notebook, you will use the GNFUV data set that contains mobile sensor readings data about humidity and temperature from Unmanned Surface Vehicles in a test-bed in Athens to train a Scikit-Learn model to predict the temperature. \n",
    "\n",
    "Some familiarity with Python is helpful. This notebook uses scikit-learn-0.19.1. Learn more about custom components <a href=\"https://dataplatform.cloud.ibm.com/docs/content/analyze-data/ml-custom_libs_overview.html\" target=\"_blank\" rel=\"noopener noreferrer\">here</a>.",
    "\nThis notebook runs on Python."
   ]
  },
  {
   "cell_type": "markdown",
   "metadata": {},
   "source": [
    "## Learning goals\n",
    "\n",
    "This notebooks focuses particularly on demonstrating how to use custom components in your model. You will learn how to:\n",
    "\n",
    "- train a model with a custom-defined transformer\n",
    "- persist the custom-defined transformer and the model in the Watson Machine Learning repository\n",
    "- deploy the model using the Watson Machine Learning Service\n",
    "- perform predictions using the deployed model\n",
    "\n",
    "## Contents\n",
    "1.\t[Set up](#setup)\n",
    "2.\t[Install a sample custom package for a scikit-learn model](#install_lib)\n",
    "3.  [Prepare training data](#load)\n",
    "3.\t[Train the scikit-learn model](#train)\n",
    "4.\t[Save the model and library to Watson Machine Learning Repository](#persistence)\n",
    "5.\t[Deploy and predict](#deploy)\n",
    "6.\t[Summary and next steps](#summary)\n"
   ]
  },
  {
   "cell_type": "markdown",
   "metadata": {},
   "source": [
    "<a id=\"setup\"></a>\n",
    "## 1. Set up\n",
    "\n",
    "Before you use the sample code in this notebook, you must perform the following setup tasks:\n",
    "\n",
    "-  Create a <a href=\"https://cloud.ibm.com/catalog/services/machine-learning\" target=\"_blank\" rel=\"noopener noreferrer\">Watson Machine Learning (WML) Service</a> instance (a free plan is offered and information about how to create the instance is <a href=\"https://dataplatform.ibm.com/docs/content/analyze-data/wml-setup.html\" target=\"_blank\" rel=\"noopener noreferrer\">here</a>.\n",
    "\n",
    "- Configure your local python environment:\n",
    "  + Latest version of Python\n",
    "  + scikit-learn 0.19.1\n",
    "  + watson-machine-learning-client"
   ]
  },
  {
   "cell_type": "markdown",
   "metadata": {},
   "source": [
    "**Tip**: Run the cell below to install libraries from <a href=\"https://pypi.python.org/pypi\" target=\"_blank\" rel=\"noopener no referrer\">PyPI</a>."
   ]
  },
  {
   "cell_type": "code",
   "execution_count": 1,
   "metadata": {},
   "outputs": [],
   "source": [
    "!rm -rf $PIP_BUILD/watson-machine-learning-client"
   ]
  },
  {
   "cell_type": "code",
   "execution_count": null,
   "metadata": {
    "scrolled": true
   },
   "outputs": [],
   "source": [
    "!pip install watson-machine-learning-client --upgrade"
   ]
  },
  {
   "cell_type": "markdown",
   "metadata": {},
   "source": [
    "<a id=\"install_lib\"></a>\n",
    "\n",
    "## 2. Install a sample custom package for a scikit-learn model"
   ]
  },
  {
   "cell_type": "markdown",
   "metadata": {},
   "source": [
    "The library `linalgnorm-0.1.zip` is a Python distributable package that contains the implementation of the user-defined Scikit-Learn transformer `LNormalizer` . <br>\n",
    "Any 3rd party libraries that are required for the custom transformer must be defined as the dependency for the corresponding library that contains the transformer implementation. \n",
    "\n",
    "Download the library and install it in the current notebook environment. "
   ]
  },
  {
   "cell_type": "code",
   "execution_count": 3,
   "metadata": {},
   "outputs": [],
   "source": [
    "import os\n",
    "\n",
    "if not os.path.exists(\"data/libs\"):\n",
    "    os.makedirs(\"data/libs\")\n",
    "    os.chdir(\"data/libs\")"
   ]
  },
  {
   "cell_type": "code",
   "execution_count": null,
   "metadata": {
    "scrolled": true
   },
   "outputs": [],
   "source": [
    "# download the library\n",
    "!wget https://github.com/pmservice/wml-sample-models/raw/master/scikit-learn/custom-transformer-temperature-prediction/libraries/linalgnorm-0.1.zip --output-document=linalgnorm-0.1.zip"
   ]
  },
  {
   "cell_type": "code",
   "execution_count": 5,
   "metadata": {},
   "outputs": [
    {
     "name": "stdout",
     "output_type": "stream",
     "text": [
      "total 4\r\n",
      "-rw-r----- 1 dsxuser dsxuser 2550 Jul  9 17:28 linalgnorm-0.1.zip\r\n"
     ]
    }
   ],
   "source": [
    "ls -ltr"
   ]
  },
  {
   "cell_type": "markdown",
   "metadata": {},
   "source": [
    "Install the library using `pip` command."
   ]
  },
  {
   "cell_type": "code",
   "execution_count": null,
   "metadata": {},
   "outputs": [],
   "source": [
    "!pip install linalgnorm-0.1.zip"
   ]
  },
  {
   "cell_type": "markdown",
   "metadata": {},
   "source": [
    "<a id=\"load\"></a>\n",
    "## 3. Download the training data set and prepare the training data"
   ]
  },
  {
   "cell_type": "markdown",
   "metadata": {},
   "source": [
    "Download the GNFUV Unmanned Surface Vehicles Sensor Data into a directory called `dataset` using the `wget` command. You can also download the data set directly from the <a href=\"https://archive.ics.uci.edu/ml/machine-learning-databases/00452/GNFUV%20USV%20Dataset.zip\" target=\"_blank\" rel=\"noopener noreferrer\">UCI repository</a>. More details about the GNFUV data set can be found <a href=\"https://archive.ics.uci.edu/ml/datasets/GNFUV+Unmanned+Surface+Vehicles+Sensor+Data\" target=\"_blank\" rel=\"noopener noreferrer\">here</a>."
   ]
  },
  {
   "cell_type": "code",
   "execution_count": 7,
   "metadata": {},
   "outputs": [],
   "source": [
    "!rm -rf dataset\n",
    "!mkdir dataset"
   ]
  },
  {
   "cell_type": "code",
   "execution_count": null,
   "metadata": {},
   "outputs": [],
   "source": [
    "!wget https://archive.ics.uci.edu/ml/machine-learning-databases/00452/GNFUV%20USV%20Dataset.zip --output-document=dataset/gnfuv_dataset.zip"
   ]
  },
  {
   "cell_type": "code",
   "execution_count": 9,
   "metadata": {},
   "outputs": [
    {
     "name": "stdout",
     "output_type": "stream",
     "text": [
      "/home/dsxuser/work/data/libs/dataset\n"
     ]
    }
   ],
   "source": [
    "cd dataset"
   ]
  },
  {
   "cell_type": "code",
   "execution_count": 10,
   "metadata": {},
   "outputs": [
    {
     "name": "stdout",
     "output_type": "stream",
     "text": [
      "Archive:  gnfuv_dataset.zip\r\n",
      "  inflating: pi2/gnfuv-temp-exp1-55d487b85b-5g2xh_1.0.csv  \r\n",
      "  inflating: pi3/gnfuv-temp-exp1-55d487b85b-2bl8b_1.0.csv  \r\n",
      "  inflating: pi4/gnfuv-temp-exp1-55d487b85b-xcl97_1.0.csv  \r\n",
      "  inflating: pi5/gnfuv-temp-exp1-55d487b85b-5ztk8_1.0.csv  \r\n",
      "  inflating: README.pdf              \r\n"
     ]
    }
   ],
   "source": [
    "!unzip gnfuv_dataset.zip"
   ]
  },
  {
   "cell_type": "markdown",
   "metadata": {},
   "source": [
    "Create a pandas dataFrame based on the downloaded data set."
   ]
  },
  {
   "cell_type": "code",
   "execution_count": 11,
   "metadata": {},
   "outputs": [],
   "source": [
    "import json\n",
    "import pandas as pd\n",
    "import numpy as np\n",
    "import os\n",
    "from datetime import datetime\n",
    "from json import JSONDecodeError"
   ]
  },
  {
   "cell_type": "code",
   "execution_count": 12,
   "metadata": {},
   "outputs": [],
   "source": [
    "## Get all the entries\n",
    "home_dir = '.'\n",
    "pi_dirs = os.listdir(home_dir)\n",
    "\n",
    "data_list = []\n",
    "base_time = None\n",
    "columns = None\n",
    "\n",
    "for pi_dir in pi_dirs:\n",
    "    if 'pi' not in pi_dir:\n",
    "        continue\n",
    "    curr_dir = os.path.join(home_dir, pi_dir)\n",
    "    data_file = os.path.join(curr_dir, os.listdir(curr_dir)[0])\n",
    "    with open(data_file, 'r') as f:\n",
    "        line = f.readline().strip().replace(\"'\", '\"')\n",
    "        while line != '':\n",
    "            try:\n",
    "                input_json = json.loads(line)\n",
    "                sensor_datetime = datetime.fromtimestamp(input_json['time'])\n",
    "                if base_time is None:\n",
    "                    base_time = datetime(sensor_datetime.year, sensor_datetime.month, sensor_datetime.day, 0, 0, 0, 0)\n",
    "                input_json['time'] = (sensor_datetime - base_time).seconds\n",
    "                data_list.append(list(input_json.values()))\n",
    "                if columns is None:\n",
    "                    columns = list(input_json.keys())\n",
    "            except JSONDecodeError as je:\n",
    "                pass\n",
    "            line = f.readline().strip().replace(\"'\", '\"')\n",
    "\n",
    "data_df = pd.DataFrame(data_list, columns=columns)"
   ]
  },
  {
   "cell_type": "code",
   "execution_count": 13,
   "metadata": {},
   "outputs": [
    {
     "data": {
      "text/html": [
       "<div>\n",
       "<style scoped>\n",
       "    .dataframe tbody tr th:only-of-type {\n",
       "        vertical-align: middle;\n",
       "    }\n",
       "\n",
       "    .dataframe tbody tr th {\n",
       "        vertical-align: top;\n",
       "    }\n",
       "\n",
       "    .dataframe thead th {\n",
       "        text-align: right;\n",
       "    }\n",
       "</style>\n",
       "<table border=\"1\" class=\"dataframe\">\n",
       "  <thead>\n",
       "    <tr style=\"text-align: right;\">\n",
       "      <th></th>\n",
       "      <th>device</th>\n",
       "      <th>humidity</th>\n",
       "      <th>temperature</th>\n",
       "      <th>experiment</th>\n",
       "      <th>time</th>\n",
       "    </tr>\n",
       "  </thead>\n",
       "  <tbody>\n",
       "    <tr>\n",
       "      <th>0</th>\n",
       "      <td>gnfuv-temp-exp1-55d487b85b-xcl97</td>\n",
       "      <td>59.0</td>\n",
       "      <td>20.0</td>\n",
       "      <td>1.0</td>\n",
       "      <td>59247</td>\n",
       "    </tr>\n",
       "    <tr>\n",
       "      <th>1</th>\n",
       "      <td>gnfuv-temp-exp1-55d487b85b-xcl97</td>\n",
       "      <td>58.0</td>\n",
       "      <td>21.0</td>\n",
       "      <td>1.0</td>\n",
       "      <td>59252</td>\n",
       "    </tr>\n",
       "    <tr>\n",
       "      <th>2</th>\n",
       "      <td>gnfuv-temp-exp1-55d487b85b-xcl97</td>\n",
       "      <td>57.0</td>\n",
       "      <td>21.0</td>\n",
       "      <td>1.0</td>\n",
       "      <td>59259</td>\n",
       "    </tr>\n",
       "    <tr>\n",
       "      <th>3</th>\n",
       "      <td>gnfuv-temp-exp1-55d487b85b-xcl97</td>\n",
       "      <td>57.0</td>\n",
       "      <td>21.0</td>\n",
       "      <td>1.0</td>\n",
       "      <td>59267</td>\n",
       "    </tr>\n",
       "    <tr>\n",
       "      <th>4</th>\n",
       "      <td>gnfuv-temp-exp1-55d487b85b-xcl97</td>\n",
       "      <td>57.0</td>\n",
       "      <td>21.0</td>\n",
       "      <td>1.0</td>\n",
       "      <td>59271</td>\n",
       "    </tr>\n",
       "  </tbody>\n",
       "</table>\n",
       "</div>"
      ],
      "text/plain": [
       "                             device  humidity  temperature  experiment   time\n",
       "0  gnfuv-temp-exp1-55d487b85b-xcl97      59.0         20.0         1.0  59247\n",
       "1  gnfuv-temp-exp1-55d487b85b-xcl97      58.0         21.0         1.0  59252\n",
       "2  gnfuv-temp-exp1-55d487b85b-xcl97      57.0         21.0         1.0  59259\n",
       "3  gnfuv-temp-exp1-55d487b85b-xcl97      57.0         21.0         1.0  59267\n",
       "4  gnfuv-temp-exp1-55d487b85b-xcl97      57.0         21.0         1.0  59271"
      ]
     },
     "execution_count": 13,
     "metadata": {},
     "output_type": "execute_result"
    }
   ],
   "source": [
    "data_df.head()"
   ]
  },
  {
   "cell_type": "markdown",
   "metadata": {},
   "source": [
    "Create the training and test data sets from the downloaded GNFUV-USV data set."
   ]
  },
  {
   "cell_type": "code",
   "execution_count": null,
   "metadata": {},
   "outputs": [],
   "source": [
    "!pip install scikit-learn==0.19.1"
   ]
  },
  {
   "cell_type": "code",
   "execution_count": 15,
   "metadata": {},
   "outputs": [],
   "source": [
    "from sklearn.preprocessing import MinMaxScaler\n",
    "from sklearn.model_selection import train_test_split\n",
    "\n",
    "Y = data_df['temperature']\n",
    "X = data_df.drop('temperature', axis=1)\n",
    "\n",
    "X_train, X_test, y_train, y_test = train_test_split(X, Y, test_size=0.25, random_state=143)"
   ]
  },
  {
   "cell_type": "markdown",
   "metadata": {},
   "source": [
    "<a id=\"train\"></a>\n",
    "\n",
    "## 4. Train a model\n",
    "\n",
    "In this section, you will use the custom transformer as a stage in the Scikit-Learn `Pipeline` and train a model."
   ]
  },
  {
   "cell_type": "markdown",
   "metadata": {},
   "source": [
    "### 4.1 Import the custom transformer \n",
    "Import the custom transformer that has been defined in `linalgnorm-0.2.zip` and create an instance of it that will in turn be used as a stage in `sklearn.Pipeline`"
   ]
  },
  {
   "cell_type": "code",
   "execution_count": 16,
   "metadata": {},
   "outputs": [],
   "source": [
    "from linalg_norm.sklearn_transformers import LNormalizer"
   ]
  },
  {
   "cell_type": "code",
   "execution_count": 17,
   "metadata": {},
   "outputs": [],
   "source": [
    "lnorm_transf = LNormalizer()"
   ]
  },
  {
   "cell_type": "markdown",
   "metadata": {},
   "source": [
    "### 4.2 Import other objects required to train a model"
   ]
  },
  {
   "cell_type": "code",
   "execution_count": 18,
   "metadata": {},
   "outputs": [],
   "source": [
    "from sklearn.pipeline import Pipeline\n",
    "from sklearn.linear_model import LinearRegression"
   ]
  },
  {
   "cell_type": "markdown",
   "metadata": {},
   "source": [
    "Now, you can create a `Pipeline` with the user-defined transformer as one of the stages and train the model."
   ]
  },
  {
   "cell_type": "code",
   "execution_count": 19,
   "metadata": {},
   "outputs": [
    {
     "data": {
      "text/plain": [
       "Pipeline(memory=None,\n",
       "     steps=[('normalizer', LNormalizer(norm_ord=2)), ('regression_estimator', LinearRegression(copy_X=True, fit_intercept=True, n_jobs=1, normalize=False))])"
      ]
     },
     "execution_count": 19,
     "metadata": {},
     "output_type": "execute_result"
    }
   ],
   "source": [
    "skl_pipeline = Pipeline(steps=[('normalizer', lnorm_transf), ('regression_estimator', LinearRegression())])\n",
    "skl_pipeline.fit(X_train.loc[:, ['time', 'humidity']].values, y_train)"
   ]
  },
  {
   "cell_type": "code",
   "execution_count": 20,
   "metadata": {},
   "outputs": [
    {
     "name": "stdout",
     "output_type": "stream",
     "text": [
      "RMSE: 2.226301072382404\n"
     ]
    }
   ],
   "source": [
    "y_pred = skl_pipeline.predict(X_test.loc[:, ['time', 'humidity']].values)\n",
    "rmse = np.mean((np.round(y_pred) - y_test.values)**2)**0.5\n",
    "print('RMSE: {}'.format(rmse))"
   ]
  },
  {
   "cell_type": "markdown",
   "metadata": {},
   "source": [
    "<a id=\"persistence\"></a>\n",
    "\n",
    "## 5. Persist the model and custom library to Watson Machine Learning Repository\n",
    "\n",
    "In this section, you will use the `watson_machine_learning_client` to:\n",
    "- Save the library `linalgnorm-0.1.zip` in the Watson Machine Learning Repository by creating a Library resource.\n",
    "- Create a runtime resource that will be used to configure the online deployment runtime environment for a model.\n",
    "- Save the model to Watson Machine Learning Repository."
   ]
  },
  {
   "cell_type": "markdown",
   "metadata": {},
   "source": [
    "### 5.1 Work with the Watson Machine Learning service instance"
   ]
  },
  {
   "cell_type": "code",
   "execution_count": 21,
   "metadata": {},
   "outputs": [],
   "source": [
    "from watson_machine_learning_client import WatsonMachineLearningAPIClient"
   ]
  },
  {
   "cell_type": "markdown",
   "metadata": {},
   "source": [
    "Authenticate to the Watson Machine Learning service on IBM Cloud.\n",
    "\n",
    "Authentication information (your credentials) can be found in the <a href=\"https://dataplatform.cloud.ibm.com/docs/content/wsj/analyze-data/ml-get-wml-credentials.html\" target=\"_blank\" rel=\"noopener noreferrer\">Service Credentials</a> tab of the service instance that you created on IBM Cloud. <BR>If you cannot see the **instance_id** field in **Service Credentials**, click **New credential (+)** to generate new authentication information. \n",
    "\n",
    "**Action**: Enter your Watson Machine Learning service instance credentials here.\n"
   ]
  },
  {
   "cell_type": "code",
   "execution_count": 22,
   "metadata": {},
   "outputs": [],
   "source": [
    "wml_credentials = {\n",
    "    \"apikey\": \"...\",\n",
    "    \"username\": \"...\",\n",
    "    \"password\": \"...\",\n",
    "    \"instance_id\": \"...\",\n",
    "    \"url\": \"https://ibm-watson-ml.mybluemix.net\"\n",
    "}"
   ]
  },
  {
   "cell_type": "markdown",
   "metadata": {},
   "source": [
    "Create Watson Machine Learning API client"
   ]
  },
  {
   "cell_type": "code",
   "execution_count": 24,
   "metadata": {},
   "outputs": [],
   "source": [
    "client = WatsonMachineLearningAPIClient(wml_credentials)"
   ]
  },
  {
   "cell_type": "markdown",
   "metadata": {},
   "source": [
    "### 5.2 Save the custom library in the Watson Machine Learning Repository"
   ]
  },
  {
   "cell_type": "code",
   "execution_count": 25,
   "metadata": {},
   "outputs": [
    {
     "name": "stdout",
     "output_type": "stream",
     "text": [
      "/home/dsxuser/work/data/libs\n"
     ]
    }
   ],
   "source": [
    "cd ~/work/data/libs "
   ]
  },
  {
   "cell_type": "markdown",
   "metadata": {},
   "source": [
    "Define the meta data required to create library resource and save the library. <br>\n",
    "\n",
    "The value for `client.runtimes.LibraryMetaNames.FILEPATH` meta data contains the library file name that must be saved to the Watson Machine Learning Repository."
   ]
  },
  {
   "cell_type": "code",
   "execution_count": 26,
   "metadata": {},
   "outputs": [
    {
     "name": "stdout",
     "output_type": "stream",
     "text": [
      "Custom Library UID: 76fe4244-1d2c-46e9-b97b-30401543df33\n"
     ]
    }
   ],
   "source": [
    "lib_meta = {\n",
    "        client.runtimes.LibraryMetaNames.NAME: \"K_Linag_norm_skl\",\n",
    "        client.runtimes.LibraryMetaNames.DESCRIPTION: \"K_Linag_norm_skl\",\n",
    "        client.runtimes.LibraryMetaNames.FILEPATH: \"linalgnorm-0.1.zip\",\n",
    "        client.runtimes.LibraryMetaNames.VERSION: \"1.3\",\n",
    "        client.runtimes.LibraryMetaNames.PLATFORM: {\"name\": \"python\", \"versions\": [\"3.5\"]}\n",
    "    }\n",
    "custom_library_details = client.runtimes.store_library(lib_meta)\n",
    "custom_library_uid = client.runtimes.get_library_uid(custom_library_details)\n",
    "print(\"Custom Library UID: \" + custom_library_uid)"
   ]
  },
  {
   "cell_type": "markdown",
   "metadata": {},
   "source": [
    "Display the details of the library resource that was created in the previous cell."
   ]
  },
  {
   "cell_type": "code",
   "execution_count": 27,
   "metadata": {},
   "outputs": [
    {
     "data": {
      "text/plain": [
       "{'metadata': {'guid': '76fe4244-1d2c-46e9-b97b-30401543df33',\n",
       "  'url': 'https://us-south.ml.cloud.ibm.com/v4/libraries/76fe4244-1d2c-46e9-b97b-30401543df33',\n",
       "  'created_at': '2019-07-09T17:28:29.319Z',\n",
       "  'modified_at': '2019-07-09T17:28:30.077Z'},\n",
       " 'entity': {'name': 'K_Linag_norm_skl',\n",
       "  'description': 'K_Linag_norm_skl',\n",
       "  'version': '1.3',\n",
       "  'platform': {'name': 'python', 'versions': ['3.5']}}}"
      ]
     },
     "execution_count": 27,
     "metadata": {},
     "output_type": "execute_result"
    }
   ],
   "source": [
    "custom_library_details"
   ]
  },
  {
   "cell_type": "markdown",
   "metadata": {},
   "source": [
    "### 5.3 Create the runtime resource"
   ]
  },
  {
   "cell_type": "markdown",
   "metadata": {},
   "source": [
    "Define the meta data required to create the runtime resource and bind the library. This runtime resource will be used to configure the online deployment runtime environment for a model.\n",
    "\n",
    "The `client.runtimes.ConfigurationMetaNames.LIBRARIES_UIDS` meta data property is used to specify the list of library resource GUIDs that need to be part of the runtime."
   ]
  },
  {
   "cell_type": "code",
   "execution_count": 28,
   "metadata": {},
   "outputs": [],
   "source": [
    "runtimes_meta = {\n",
    "    client.runtimes.ConfigurationMetaNames.NAME: \"K_linalg_gnfuv1\", \n",
    "    client.runtimes.ConfigurationMetaNames.DESCRIPTION: \"skl linalg gnfuv model\", \n",
    "    client.runtimes.ConfigurationMetaNames.PLATFORM: { \"name\": \"python\", \"version\": \"3.5\" }, \n",
    "    client.runtimes.ConfigurationMetaNames.LIBRARIES_UIDS: [custom_library_uid]\n",
    "}"
   ]
  },
  {
   "cell_type": "markdown",
   "metadata": {},
   "source": [
    "**Alternate method:** Create library and runtime together by specifying the meta data property below:\n",
    "\n",
    "```\n",
    "client.runtimes.ConfigurationMetaNames.LIBRARIES_DEFINITIONS: [\n",
    "    LibraryDefinition(\"my_lib_1\", \"1.0\", \"/home/user/my_lib_1.zip\", description=\"t\", platform={\"name\": \"python\", \"versions\": [\"3.5\"]}), \n",
    "    LibraryDefinition(\"my_lib_2\", \"1.1\", \"/home/user/my_lib_2.zip\") ]\n",
    "```"
   ]
  },
  {
   "cell_type": "markdown",
   "metadata": {},
   "source": [
    "Create a runtime resource based on the meta data specified above and display the details."
   ]
  },
  {
   "cell_type": "code",
   "execution_count": 29,
   "metadata": {},
   "outputs": [
    {
     "data": {
      "text/plain": [
       "{'metadata': {'guid': '883b5d39-6b10-4143-9064-e282d16b1888',\n",
       "  'url': 'https://us-south.ml.cloud.ibm.com/v4/runtimes/883b5d39-6b10-4143-9064-e282d16b1888',\n",
       "  'created_at': '2019-07-09T17:28:30.255Z'},\n",
       " 'entity': {'name': 'K_linalg_gnfuv1',\n",
       "  'description': 'skl linalg gnfuv model',\n",
       "  'custom_libraries': [{'name': 'K_Linag_norm_skl',\n",
       "    'version': '1.3',\n",
       "    'url': 'https://us-south.ml.cloud.ibm.com/v4/libraries/76fe4244-1d2c-46e9-b97b-30401543df33'}],\n",
       "  'content_url': 'https://us-south.ml.cloud.ibm.com/v4/runtimes/883b5d39-6b10-4143-9064-e282d16b1888/content',\n",
       "  'platform': {'name': 'python', 'version': '3.5'}}}"
      ]
     },
     "execution_count": 29,
     "metadata": {},
     "output_type": "execute_result"
    }
   ],
   "source": [
    "runtime_details = client.runtimes.store(runtimes_meta)\n",
    "runtime_details"
   ]
  },
  {
   "cell_type": "markdown",
   "metadata": {},
   "source": [
    "Retrieve the URL and GUID information about the runtime resource you just created."
   ]
  },
  {
   "cell_type": "code",
   "execution_count": 30,
   "metadata": {},
   "outputs": [
    {
     "name": "stdout",
     "output_type": "stream",
     "text": [
      "Runtimes URL: https://us-south.ml.cloud.ibm.com/v4/runtimes/883b5d39-6b10-4143-9064-e282d16b1888\n",
      "Runtimes UID: 883b5d39-6b10-4143-9064-e282d16b1888\n"
     ]
    }
   ],
   "source": [
    "runtime_url = client.runtimes.get_url(runtime_details)\n",
    "runtime_uid = client.runtimes.get_uid(runtime_details)\n",
    "print(\"Runtimes URL: \" + runtime_url)\n",
    "print(\"Runtimes UID: \" + runtime_uid)"
   ]
  },
  {
   "cell_type": "markdown",
   "metadata": {},
   "source": [
    "### 5.4 Save the model"
   ]
  },
  {
   "cell_type": "markdown",
   "metadata": {},
   "source": [
    "Define the meta data to save the trained model to the Watson Machine Learning Repository together with the information about the runtime resource required for the model. \n",
    "\n",
    "The `client.repository.ModelMetaNames.RUNTIME_UID` meta data property is used to specify the GUID of the Runtime resource that needs to be associated with the model ."
   ]
  },
  {
   "cell_type": "code",
   "execution_count": 31,
   "metadata": {},
   "outputs": [],
   "source": [
    "model_props = {client.repository.ModelMetaNames.NAME: \"cust norm linalg_norm gnfuv1\",\n",
    "               client.repository.ModelMetaNames.RUNTIME_UID: runtime_uid\n",
    "              }"
   ]
  },
  {
   "cell_type": "markdown",
   "metadata": {},
   "source": [
    "Save the model to the Watson Machine Learning repository and display its saved meta data. "
   ]
  },
  {
   "cell_type": "code",
   "execution_count": 32,
   "metadata": {},
   "outputs": [],
   "source": [
    "published_model = client.repository.store_model(model=skl_pipeline, meta_props=model_props)"
   ]
  },
  {
   "cell_type": "code",
   "execution_count": 33,
   "metadata": {},
   "outputs": [
    {
     "name": "stdout",
     "output_type": "stream",
     "text": [
      "{\n",
      "  \"metadata\": {\n",
      "    \"guid\": \"e3031439-7cf2-4ebb-aca6-6d69962d703f\",\n",
      "    \"url\": \"https://us-south.ml.cloud.ibm.com/v3/wml_instances/b4b6c696-172c-4164-8049-c0b621dbf3c9/published_models/e3031439-7cf2-4ebb-aca6-6d69962d703f\",\n",
      "    \"created_at\": \"2019-07-09T17:28:31.174Z\",\n",
      "    \"modified_at\": \"2019-07-09T17:28:31.246Z\"\n",
      "  },\n",
      "  \"entity\": {\n",
      "    \"runtime_environment\": \"python-3.6\",\n",
      "    \"learning_configuration_url\": \"https://us-south.ml.cloud.ibm.com/v3/wml_instances/b4b6c696-172c-4164-8049-c0b621dbf3c9/published_models/e3031439-7cf2-4ebb-aca6-6d69962d703f/learning_configuration\",\n",
      "    \"name\": \"cust norm linalg_norm gnfuv1\",\n",
      "    \"learning_iterations_url\": \"https://us-south.ml.cloud.ibm.com/v3/wml_instances/b4b6c696-172c-4164-8049-c0b621dbf3c9/published_models/e3031439-7cf2-4ebb-aca6-6d69962d703f/learning_iterations\",\n",
      "    \"feedback_url\": \"https://us-south.ml.cloud.ibm.com/v3/wml_instances/b4b6c696-172c-4164-8049-c0b621dbf3c9/published_models/e3031439-7cf2-4ebb-aca6-6d69962d703f/feedback\",\n",
      "    \"latest_version\": {\n",
      "      \"url\": \"https://us-south.ml.cloud.ibm.com/v3/ml_assets/models/e3031439-7cf2-4ebb-aca6-6d69962d703f/versions/b8852285-668d-4f76-bec9-7074ff9ad81b\",\n",
      "      \"guid\": \"b8852285-668d-4f76-bec9-7074ff9ad81b\",\n",
      "      \"created_at\": \"2019-07-09T17:28:31.246Z\"\n",
      "    },\n",
      "    \"model_type\": \"scikit-learn-0.19\",\n",
      "    \"deployments\": {\n",
      "      \"count\": 0,\n",
      "      \"url\": \"https://us-south.ml.cloud.ibm.com/v3/wml_instances/b4b6c696-172c-4164-8049-c0b621dbf3c9/published_models/e3031439-7cf2-4ebb-aca6-6d69962d703f/deployments\"\n",
      "    },\n",
      "    \"evaluation_metrics_url\": \"https://us-south.ml.cloud.ibm.com/v3/wml_instances/b4b6c696-172c-4164-8049-c0b621dbf3c9/published_models/e3031439-7cf2-4ebb-aca6-6d69962d703f/evaluation_metrics\",\n",
      "    \"runtime\": {\n",
      "      \"url\": \"https://us-south.ml.cloud.ibm.com/v4/runtimes/883b5d39-6b10-4143-9064-e282d16b1888\"\n",
      "    }\n",
      "  }\n",
      "}\n"
     ]
    }
   ],
   "source": [
    "published_model_uid = client.repository.get_model_uid(published_model)\n",
    "model_details = client.repository.get_details(published_model_uid)\n",
    "print(json.dumps(model_details, indent=2))"
   ]
  },
  {
   "cell_type": "markdown",
   "metadata": {},
   "source": [
    "<a id=\"deploy\"></a>\n",
    "\n",
    "## 6 Deploy and predict new input\n",
    "\n",
    "In this section, you will deploy the saved model that uses the custom transformer and perform predictions. You will use the Watson Machine Learning client to perform these tasks."
   ]
  },
  {
   "cell_type": "markdown",
   "metadata": {},
   "source": [
    "### 6.1 Deploy the model"
   ]
  },
  {
   "cell_type": "code",
   "execution_count": 34,
   "metadata": {},
   "outputs": [
    {
     "name": "stdout",
     "output_type": "stream",
     "text": [
      "\n",
      "\n",
      "#######################################################################################\n",
      "\n",
      "Synchronous deployment creation for uid: 'e3031439-7cf2-4ebb-aca6-6d69962d703f' started\n",
      "\n",
      "#######################################################################################\n",
      "\n",
      "\n",
      "INITIALIZING\n",
      "DEPLOY_IN_PROGRESS................\n",
      "DEPLOY_SUCCESS\n",
      "\n",
      "\n",
      "------------------------------------------------------------------------------------------------\n",
      "Successfully finished deployment creation, deployment_uid='0ca6545c-a075-4281-a744-3257e3f62ad3'\n",
      "------------------------------------------------------------------------------------------------\n",
      "\n",
      "\n"
     ]
    }
   ],
   "source": [
    "created_deployment = client.deployments.create(published_model_uid, name=\"k_linalg_gnfuv1_skl\")"
   ]
  },
  {
   "cell_type": "markdown",
   "metadata": {},
   "source": [
    "### 6.2 Predict using the deployed model"
   ]
  },
  {
   "cell_type": "markdown",
   "metadata": {},
   "source": [
    "Get the URL that is to be used for prediction. The prediction URL is obtained from the deployment details of the deployment created above."
   ]
  },
  {
   "cell_type": "code",
   "execution_count": null,
   "metadata": {},
   "outputs": [],
   "source": [
    "scoring_endpoint = client.deployments.get_scoring_url(created_deployment)\n",
    "print(scoring_endpoint)"
   ]
  },
  {
   "cell_type": "markdown",
   "metadata": {},
   "source": [
    "Prepare the payload for prediction. The payload contains the input records for which predictions has to be performed."
   ]
  },
  {
   "cell_type": "code",
   "execution_count": 36,
   "metadata": {},
   "outputs": [],
   "source": [
    "scoring_payload = {'fields': [\"time\", \"humidity\"], \n",
    "                   'values': [[79863, 47]]}"
   ]
  },
  {
   "cell_type": "markdown",
   "metadata": {},
   "source": [
    "Execute the method to perform online predictions and display the prediction results."
   ]
  },
  {
   "cell_type": "code",
   "execution_count": 37,
   "metadata": {},
   "outputs": [],
   "source": [
    "predictions = client.deployments.score(scoring_endpoint, scoring_payload)"
   ]
  },
  {
   "cell_type": "code",
   "execution_count": 38,
   "metadata": {},
   "outputs": [
    {
     "name": "stdout",
     "output_type": "stream",
     "text": [
      "{\n",
      "  \"fields\": [\n",
      "    \"prediction\"\n",
      "  ],\n",
      "  \"values\": [\n",
      "    [\n",
      "      7.276982664417417\n",
      "    ]\n",
      "  ]\n",
      "}\n"
     ]
    }
   ],
   "source": [
    "print(json.dumps(predictions, indent=2))"
   ]
  },
  {
   "cell_type": "markdown",
   "metadata": {},
   "source": [
    "### 6.3 Delete the deployments, libaries, models and runtimes"
   ]
  },
  {
   "cell_type": "markdown",
   "metadata": {},
   "source": [
    "Use the following method to delete the deployment."
   ]
  },
  {
   "cell_type": "code",
   "execution_count": 39,
   "metadata": {},
   "outputs": [
    {
     "data": {
      "text/plain": [
       "'SUCCESS'"
      ]
     },
     "execution_count": 39,
     "metadata": {},
     "output_type": "execute_result"
    }
   ],
   "source": [
    "client.deployments.delete(client.deployments.get_uid(created_deployment))"
   ]
  },
  {
   "cell_type": "markdown",
   "metadata": {},
   "source": [
    "Check that all your deployments are deleted."
   ]
  },
  {
   "cell_type": "code",
   "execution_count": 40,
   "metadata": {},
   "outputs": [
    {
     "name": "stdout",
     "output_type": "stream",
     "text": [
      "------------------------------------  -------------------------------------------------------  -------  ------------------  ------------------------  -----------------  -------------\n",
      "GUID                                  NAME                                                     TYPE     STATE               CREATED                   FRAMEWORK          ARTIFACT TYPE\n",
      "7985e484-4192-400e-82e5-3756d4600668  ARIMA model python function deployment                   online   DEPLOY_SUCCESS      2019-07-03T20:33:40.817Z  n/a                function\n",
      "6aedb5b7-638a-4388-ab0d-45fecb3b7081  Customer Churn Prediction                                online   DEPLOY_SUCCESS      2019-07-03T15:51:34.166Z  mllib-2.3          model\n",
      "cfcd5f9e-5b07-4bea-b57d-304c12254add  sklearn_pipeline_arima                                   online   DEPLOY_SUCCESS      2019-07-03T01:06:29.302Z  scikit-learn-0.19  model\n",
      "7b045679-07c9-4225-9116-c153c6359588  Virtual deployment of Boston model                       virtual  DEPLOY_IN_PROGRESS  2019-05-20T18:20:14.124Z  scikit-learn-0.19  model\n",
      "2b9a344c-2dbf-4568-920d-bb5b598d8273  Online scoring                                           online   DEPLOY_SUCCESS      2019-05-17T17:34:23.382Z  mllib-2.3          model\n",
      "69aa4267-dc8c-4243-bc33-3ee7571c0ca4  Online scoring                                           online   DEPLOY_SUCCESS      2019-05-17T17:29:35.859Z  mllib-2.3          model\n",
      "81911f93-50bb-4fec-a146-eb6f8519b79e  Virtual deployment of Boston model                       virtual  DEPLOY_IN_PROGRESS  2019-05-13T21:11:07.340Z  scikit-learn-0.19  model\n",
      "4431988f-678b-4f40-92b4-2dbe63ea54e2  Virtual deployment of Boston model                       virtual  DEPLOY_IN_PROGRESS  2019-05-13T19:16:19.731Z  scikit-learn-0.19  model\n",
      "31fdffd5-6a0a-459f-a160-7c4be26ddf15  ML Contest - Label Prediction Model deployment           online   DEPLOY_SUCCESS      2019-05-07T16:48:56.694Z  scikit-learn-0.19  model\n",
      "18fe2647-55e0-451a-8f51-0c3195223981  ML Contest - Issue ETA Prediction Model deployment       online   DEPLOY_SUCCESS      2019-05-07T16:48:51.102Z  scikit-learn-0.19  model\n",
      "5649340d-248b-4d34-a2d8-ed3e0316ea9b  ML Contest - Assignee Prediction Model deployment        online   DEPLOY_SUCCESS      2019-05-07T16:48:45.286Z  scikit-learn-0.19  model\n",
      "49055fc5-88f4-46ea-b17a-517d75f120ba  Online scoring                                           online   DEPLOY_SUCCESS      2019-04-26T17:19:40.703Z  mllib-2.3          model\n",
      "7eb9b874-53b8-463c-bd19-058ee52e3e3d  Online scoring                                           online   DEPLOY_SUCCESS      2019-04-26T17:07:07.833Z  mllib-2.3          model\n",
      "8b95a4dd-4b3f-4b36-bd3e-b58b59f100e2  Mnist model deployment                                   online   DEPLOY_SUCCESS      2019-04-02T16:09:27.875Z  tensorflow-1.5     model\n",
      "451f5f1a-d1f5-4a90-a441-b2953053ae6f  Time Series model (SPSS) deployment                      online   DEPLOY_SUCCESS      2019-03-28T19:00:49.524Z  spss-modeler-18.1  model\n",
      "486a79af-ea0b-4e8e-8166-dc2bb43b6c98  TensorFlow MNIST model deployment                        online   DEPLOY_SUCCESS      2019-03-15T18:27:34.468Z  tensorflow-1.5     model\n",
      "92991643-a229-4f9e-a70a-3e9de612942e  Sample SPSS model deployment                             online   DEPLOY_SUCCESS      2019-03-12T12:59:15.857Z  spss-modeler-18.1  model\n",
      "dce80b25-3d32-4005-b96b-9d9c80a7239a  MNIST keras deployment                                   online   DEPLOY_FAILURE      2019-03-07T13:37:41.529Z  tensorflow-1.5     model\n",
      "00edc46c-5df5-482e-936a-4d9f2e5fbc06  Product line model deployment                            online   DEPLOY_SUCCESS      2019-03-06T14:30:35.086Z  mllib-2.3          model\n",
      "86da6500-18ff-4970-b3e4-7e335d4a08f9  Mnist model deployment                                   online   DEPLOY_SUCCESS      2019-03-06T12:52:13.175Z  tensorflow-1.5     model\n",
      "d250df1b-6e43-4c69-98d2-10ff25b5d63d  Virtual deployment of Boston model                       virtual  DEPLOY_SUCCESS      2019-03-06T11:45:33.176Z  scikit-learn-0.19  model\n",
      "6d3cf6bb-db92-427c-8b52-9d050d7bfec8  Virtual deployment of Boston model                       virtual  DEPLOY_SUCCESS      2019-03-06T11:32:59.110Z  scikit-learn-0.19  model\n",
      "ded4770f-c2fe-4653-9ce2-0c79ecfa10be  Iris species prediction                                  online   DEPLOY_SUCCESS      2019-03-04T12:59:23.413Z  pmml-4.2           model\n",
      "450f555b-1952-4ef1-90be-96a16f600345  Predict breast cancer                                    online   DEPLOY_SUCCESS      2019-02-28T19:11:28.862Z  scikit-learn-0.19  model\n",
      "dd987565-3e04-4179-9cf9-546710fbadcd  Web scraping python function deployment                  online   DEPLOY_SUCCESS      2019-02-28T11:50:04.209Z  n/a                function\n",
      "984ffa92-1c82-4b54-bb56-f6f85e915227  Web scraping python function deployment                  online   DEPLOY_SUCCESS      2019-02-27T17:50:16.907Z  n/a                function\n",
      "e5472c3f-c7d7-4a3e-9b20-44f03030373e  Web scraping python function deployment                  online   DEPLOY_SUCCESS      2019-02-27T16:51:24.029Z  n/a                function\n",
      "304c671c-6a48-496d-b27b-3ad9888a0156  Online scoring                                           online   DEPLOY_SUCCESS      2019-02-27T13:50:39.730Z  mllib-2.3          model\n",
      "18298746-41ec-4bac-928c-fc34e3708ca9  Sample SPSS model deployment                             online   DEPLOY_SUCCESS      2019-02-27T11:53:13.523Z  spss-modeler-18.1  model\n",
      "375d050d-1e3b-49e5-9f1d-655f28734ec7  Sample SPSS model deployment                             online   DEPLOY_SUCCESS      2019-02-27T09:29:07.286Z  spss-modeler-18.1  model\n",
      "2924aaaf-bddf-4567-8206-6972c163dfa4  Sample SPSS model deployment                             online   DEPLOY_SUCCESS      2019-02-26T13:13:44.977Z  spss-modeler-18.1  model\n",
      "feb87375-fca8-4b0c-8f2f-5c83a6e26115  Iris species prediction                                  online   DEPLOY_SUCCESS      2019-02-25T13:09:17.454Z  pmml-4.2           model\n",
      "a0e16777-75ad-489a-a6db-5213619381a4  Keras MNIST model deployment through compressed file.    online   DEPLOY_SUCCESS      2019-02-25T12:29:47.265Z  tensorflow-1.5     model\n",
      "5c5ebf10-c47a-4224-b35d-3646b0348af1  Web scraping python function deployment                  online   DEPLOY_SUCCESS      2019-02-21T14:58:00.141Z  n/a                function\n",
      "b9efb426-845a-45e7-b591-85c4bdb1417c  SMS Spam prediction model deployment.                    online   DEPLOY_SUCCESS      2019-02-13T15:52:48.108Z  scikit-learn-0.19  model\n",
      "569fb590-41aa-433e-aeb4-89a9688a4a7b  Keras earthquake magnitude prediction model deployment.  online   DEPLOY_SUCCESS      2019-02-11T16:41:49.568Z  tensorflow-1.12    model\n",
      "7b2ff02b-b6a7-4ef4-b0e6-6765b1c45766  Keras earthquake magnitude prediction model deployment.  online   DEPLOY_SUCCESS      2019-02-07T00:21:58.175Z  tensorflow-1.12    model\n",
      "a738de63-d74e-454a-9dd7-f377c65420bc  Online scoring                                           online   DEPLOY_SUCCESS      2019-01-19T19:49:21.391Z  mllib-2.3          model\n",
      "d8f43799-cf5c-499f-a9d3-42d2e398f337  Sample SPSS model deployment                             online   DEPLOY_SUCCESS      2019-01-18T10:28:38.134Z  spss-modeler-18.1  model\n",
      "12056c7c-6ff1-454d-b324-d1cf4b42c4fd  Iris species prediction                                  online   DEPLOY_SUCCESS      2019-01-18T09:36:17.097Z  pmml-4.2           model\n",
      "a375c7bc-963d-4a9b-9896-7dbcdcaed78d  Web scraping python function deployment                  online   DEPLOY_SUCCESS      2019-01-17T10:11:40.324Z  n/a                function\n",
      "a8b47a68-060c-4474-a5c0-15da3304063a  Product line model deployment                            online   DEPLOY_SUCCESS      2019-01-17T10:02:44.991Z  mllib-2.3          model\n",
      "ada89546-d27c-4c32-953f-84f2238eb12a  Product line model deployment                            online   DEPLOY_SUCCESS      2019-01-17T07:14:05.178Z  mllib-2.3          model\n",
      "902853d1-9ff6-40a7-8918-d6b7b39c3a4e  Web scraping python function deployment                  online   DEPLOY_SUCCESS      2019-01-17T02:37:29.921Z  n/a                function\n",
      "3da0fb97-24b9-44d6-ac16-e97a0cf8dfcb  Keras MNIST model deployment through compressed file.    online   DEPLOY_SUCCESS      2019-01-15T14:49:46.285Z  tensorflow-1.5     model\n",
      "------------------------------------  -------------------------------------------------------  -------  ------------------  ------------------------  -----------------  -------------\n"
     ]
    }
   ],
   "source": [
    "client.deployments.list()"
   ]
  },
  {
   "cell_type": "markdown",
   "metadata": {},
   "source": [
    "Delete the library, model or runtime by passing in the appropriate GUID:"
   ]
  },
  {
   "cell_type": "code",
   "execution_count": 41,
   "metadata": {},
   "outputs": [
    {
     "data": {
      "text/plain": [
       "'SUCCESS'"
      ]
     },
     "execution_count": 41,
     "metadata": {},
     "output_type": "execute_result"
    }
   ],
   "source": [
    "client.repository.delete(published_model_uid)"
   ]
  },
  {
   "cell_type": "code",
   "execution_count": 42,
   "metadata": {},
   "outputs": [
    {
     "data": {
      "text/plain": [
       "'SUCCESS'"
      ]
     },
     "execution_count": 42,
     "metadata": {},
     "output_type": "execute_result"
    }
   ],
   "source": [
    "client.repository.delete(custom_library_uid)"
   ]
  },
  {
   "cell_type": "code",
   "execution_count": 43,
   "metadata": {},
   "outputs": [
    {
     "data": {
      "text/plain": [
       "'SUCCESS'"
      ]
     },
     "execution_count": 43,
     "metadata": {},
     "output_type": "execute_result"
    }
   ],
   "source": [
    "client.repository.delete(runtime_uid)"
   ]
  },
  {
   "cell_type": "code",
   "execution_count": 44,
   "metadata": {
    "scrolled": false
   },
   "outputs": [
    {
     "name": "stdout",
     "output_type": "stream",
     "text": [
      "------------------------------------  -------------------------------------------  ------------------------  ------------------  ----------\n",
      "GUID                                  NAME                                         CREATED                   FRAMEWORK           TYPE\n",
      "0af2fb87-ab96-4493-9064-ea3f9b516600  RF_AttackDetection_PySpark                   2019-07-08T23:06:46.358Z  mllib               definition\n",
      "e7bdf9ff-0ae5-42e1-a8fa-f65ef1297cfc  Product line model                           2019-07-08T21:39:37.805Z  mllib               definition\n",
      "763445e7-ff63-456f-bb12-f235e520ece1  My definition name                           2019-07-08T21:33:49.284Z  tensorflow          definition\n",
      "86cec0cd-1dd0-404d-98c9-aee5d6c859ca  Customer churn Spark model                   2019-07-03T15:47:47.262Z  mllib               definition\n",
      "3417726e-bf1b-417a-813a-1bddab36fca9  Customer churn Spark model                   2019-06-28T18:53:02.483Z  mllib               definition\n",
      "cbe6295f-651b-491a-81bb-3d95aa348d41  Customer churn Spark model                   2019-06-28T18:17:50.169Z  mllib               definition\n",
      "c5a953e5-ab1e-4b50-8e2c-1993fa501d53  Customer churn Spark model                   2019-06-27T20:37:21.477Z  mllib               definition\n",
      "e03f86ad-bb84-4283-8690-6cdbeffb5fb0  Customer churn Spark model                   2019-06-26T22:53:18.435Z  mllib               definition\n",
      "abda7d10-2d2a-4947-b665-ae76e6db837e  Customer churn Spark model                   2019-06-26T21:56:44.479Z  mllib               definition\n",
      "359ffe37-cb92-4b2c-9e64-856e1d4e83e0  WML Product Line Prediction Model            2019-05-17T17:33:48.562Z  mllib               definition\n",
      "33c4d156-c2c7-4d29-8e4a-883f96970262  WML Product Line Prediction Model            2019-05-17T17:28:31.436Z  mllib               definition\n",
      "7aa6633a-c98e-497c-bd62-97a596e959e4  style transfer kandinsky                     2019-05-13T19:02:29.781Z  tensorflow          definition\n",
      "ac1994ee-8991-4e2b-a053-10e856cbd8a1  style transfer van gogh                      2019-05-13T19:02:28.273Z  tensorflow          definition\n",
      "525b207c-107d-47b2-851f-fd0c523f252d  Product line model                           2019-05-10T18:51:12.230Z  mllib               definition\n",
      "23ca7c3b-024e-494b-893f-f7db907ae862  WML Product Line Prediction Model            2019-04-26T17:19:04.938Z  mllib               definition\n",
      "9b0d62f4-0723-48bf-992a-4b1363be15d9  WML Product Line Prediction Model            2019-04-26T16:57:03.125Z  mllib               definition\n",
      "f8e05a50-3199-466c-9cc1-541acdb5003b  WML Product Line Prediction Model            2019-04-25T22:15:32.151Z  mllib               definition\n",
      "0acb4e2f-57d4-4278-be32-49255107fdd2  python-client-tutorial_training              2019-03-15T18:20:47.034Z  tensorflow          definition\n",
      "18281c77-e443-4535-8be7-fd7850b745a9  Best Heart Drug Selection                    2019-03-12T23:47:13.332Z  mllib               definition\n",
      "14ca82b6-d983-44e6-9ecb-d7a33d9f1298  Sentiment Prediction Model                   2019-03-12T23:01:04.855Z  mllib               definition\n",
      "435e60f6-f727-4c53-9a10-1bddf8768073  Customer churn Spark model                   2019-03-11T15:27:03.946Z  mllib               definition\n",
      "4a2d1c30-7db1-4874-8bf2-3e9db5bba975  MNIST-CNN                                    2019-03-07T13:32:56.180Z  tensorflow          definition\n",
      "5f549d43-486d-4e75-a56a-252136c0a2e7  MNIST-MLP                                    2019-03-07T13:32:54.458Z  tensorflow          definition\n",
      "85529f7f-8502-4f3c-a779-750e145afe47  Tensorflow - ddl                             2019-03-07T13:24:33.546Z  tensorflow-ddl      definition\n",
      "862c5253-b0c6-4a81-b473-776a5b09dd1b  Tensorflow - horovod                         2019-03-07T13:24:31.841Z  tensorflow-horovod  definition\n",
      "4f4b08bb-ad9b-4ffb-ad5b-a64b96fe6244  Tensorflow - distributed                     2019-03-07T13:24:30.171Z  tensorflow          definition\n",
      "40f8f10b-35e3-4ec6-b958-5753fbd04fa9  Customer churn Spark model                   2019-03-07T13:14:11.754Z  mllib               definition\n",
      "9fc001eb-2167-47f5-948e-b643bd7676d5  Product line model                           2019-03-06T14:24:23.552Z  mllib               definition\n",
      "607e8219-48ca-4546-9e5f-482c4c502433  My definition name                           2019-03-06T12:17:53.957Z  tensorflow          definition\n",
      "12775c05-fce6-415b-83aa-248c074a32f3  WML Product Line Prediction Model            2019-02-27T13:49:59.261Z  mllib               definition\n",
      "736f3ea3-a14d-447d-a879-63bdbc997473  WML Product Line Prediction Model            2019-01-19T19:36:54.621Z  mllib               definition\n",
      "1e694819-bf79-4e89-b399-a327131c731c  Customer churn Spark model                   2019-01-18T06:45:10.502Z  mllib               definition\n",
      "03fe960f-d10d-4f0e-a706-0f5d32a7abae  Customer churn Spark model                   2019-01-18T02:18:42.483Z  mllib               definition\n",
      "01140107-c1b2-47f1-ad6d-6bfc19ac19c8  Product line model                           2019-01-17T09:57:21.602Z  mllib               definition\n",
      "d2d2b5f0-a24c-4f2c-b6c8-e5e91164be24  Product line model                           2019-01-17T06:55:49.501Z  mllib               definition\n",
      "0a4a58f8-6a47-4581-a0a3-b421ebe48836  STYLE experiment                             2019-05-13T19:02:31.705Z  -                   experiment\n",
      "b4a46b63-9d47-49d3-8a9a-642e470f4fa9  MNIST experiment                             2019-03-07T13:32:57.968Z  -                   experiment\n",
      "c499b36a-2e15-4846-85db-4c5d8f17122d  Distributed MNIST experiment                 2019-03-07T13:24:35.372Z  -                   experiment\n",
      "53b90fb3-0d12-4d66-96c8-b4e4cf96a0ae  Customer churn Spark model                   2019-07-03T15:47:49.776Z  mllib-2.3           model\n",
      "ad24c140-f97a-49f2-b02c-f8ce44a58c27  Custom ARIMA estimator for sklearn pipeline  2019-07-03T01:04:33.998Z  scikit-learn-0.19   model\n",
      "471b39cc-9c3b-4ff9-a8ea-0297efe0ca5d  Boston house price prediction                2019-05-20T18:19:55.433Z  scikit-learn-0.19   model\n",
      "fc5462c8-7eb9-4dda-8b0a-947e2faa30da  WML Product Line Prediction Model            2019-05-17T17:33:53.278Z  mllib-2.3           model\n",
      "a57e82a9-076e-4236-8bd2-7465e726c419  WML Product Line Prediction Model            2019-05-17T17:28:36.434Z  mllib-2.3           model\n",
      "914b598b-f52e-4a87-bfed-2f4163eba25e  Boston house price prediction                2019-05-13T21:11:04.132Z  scikit-learn-0.19   model\n",
      "43dbda1f-34f4-4396-9b57-942d96389440  Boston house price prediction                2019-05-13T19:16:12.783Z  scikit-learn-0.19   model\n",
      "20da8eb9-36d3-4230-bf0c-ba4f7434080c  ML Contest - Label Prediction Model          2019-05-07T16:43:17.658Z  scikit-learn-0.19   model\n",
      "6ee6777d-b716-49e8-acf0-1913fec902f3  ML Contest - ETA Prediction Model            2019-05-07T16:43:16.065Z  scikit-learn-0.19   model\n",
      "3bb7e3ab-836a-4331-9676-7bcc07cc2d63  ML Contest - Assignee Prediction Model       2019-05-07T16:43:14.430Z  scikit-learn-0.19   model\n",
      "0ffb0000-511b-443d-a4fe-3e076ce2381c  WML Product Line Prediction Model            2019-04-26T17:19:09.804Z  mllib-2.3           model\n",
      "eecf9e06-24cc-4675-a84e-adcf863b0ec6  WML Product Line Prediction Model            2019-04-26T16:57:07.468Z  mllib-2.3           model\n",
      "------------------------------------  -------------------------------------------  ------------------------  ------------------  ----------\n",
      "Note: Only first 50 records were displayed. To display more use more specific list functions.\n"
     ]
    }
   ],
   "source": [
    "client.repository.list()"
   ]
  },
  {
   "cell_type": "markdown",
   "metadata": {},
   "source": [
    "<a id=\"summary\"></a>\n",
    "\n",
    "### 7. Summary\n",
    "\n",
    "You successfully completed this notebook! \n",
    " \n",
    "You learned how to use a scikit-learn model with custom transformer in Watson Machine Learning service to deploy and score.\n",
    "\n",
    "Check out our <a href=\"https://dataplatform.ibm.com/docs/content/analyze-data/wml-setup.html\" target=\"_blank\" rel=\"noopener noreferrer\">Online Documentation</a> for more samples, tutorials, documentation, how-tos, and blog posts. "
   ]
  },
  {
   "cell_type": "markdown",
   "metadata": {},
   "source": [
    "### Citations\n",
    "\n",
    "Dua, D. and Karra Taniskidou, E. (2017). <a href=\"http://archive.ics.uci.edu/ml\" target=\"_blank\" rel=\"noopener noreferrer\">UCI Machine Learning Repository.</a>. Irvine, CA: University of California, School of Information and Computer Science.\n",
    "\n",
    "Harth, N. Anagnostopoulos, C. (2018) Edge-centric Efficient Regression Analytics. In: 2018 IEEE International Conference on Edge Computing (EDGE), San Francisco, CA, USA, 02-07 Jul 2018 "
   ]
  },
  {
   "cell_type": "markdown",
   "metadata": {},
   "source": [
    "## Author\n",
    "\n",
    "**Krishnamurthy Arthanarisamy**, is a senior technical lead in IBM Watson Machine Learning team. Krishna works on developing cloud services that caters to different stages of machine learning and deep learning modeling life cycle."
   ]
  },
  {
   "cell_type": "markdown",
   "metadata": {},
   "source": [
    "<hr>\n",
    "Copyright © 2018, 2019 IBM. This notebook and its source code are released under the terms of the MIT License."
   ]
  },
  {
   "cell_type": "markdown",
   "metadata": {},
   "source": [
    "<div style=\"background:#F5F7FA; height:110px; padding: 2em; font-size:14px;\">\n",
    "<span style=\"font-size:18px;color:#152935;\">Love this notebook? </span>\n",
    "<span style=\"font-size:15px;color:#152935;float:right;margin-right:40px;\">Don't have an account yet?</span><br>\n",
    "<span style=\"color:#5A6872;\">Share it with your colleagues and help them discover the power of Watson Studio!</span>\n",
    "<span style=\"border: 1px solid #3d70b2;padding:8px;float:right;margin-right:40px; color:#3d70b2;\"><a href=\"https://ibm.co/wsnotebooks\" target=\"_blank\" style=\"color: #3d70b2;text-decoration: none;\">Sign Up</a></span><br>\n",
    "</div>"
   ]
  }
 ],
 "metadata": {
  "kernelspec": {
   "display_name": "Python 3.6",
   "language": "python",
   "name": "python3"
  },
  "language_info": {
   "codemirror_mode": {
    "name": "ipython",
    "version": 3
   },
   "file_extension": ".py",
   "mimetype": "text/x-python",
   "name": "python",
   "nbconvert_exporter": "python",
   "pygments_lexer": "ipython3",
   "version": "3.6.8"
  }
 },
 "nbformat": 4,
 "nbformat_minor": 1
}
