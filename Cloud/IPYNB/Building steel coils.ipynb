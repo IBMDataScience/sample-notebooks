{
 "cells": [
  {
   "cell_type": "markdown",
   "metadata": {},
   "source": [
    "# Building steel coils\n",
    "\n",
    "This tutorial includes everything you need to set up decision optimization engines, build constraint programming models.\n",
    "\n",
    "This notebook runs on Python and DO.",
    "Table of contents:\n",
    "\n",
    "-  [Describe the business problem](#Describe-the-business-problem)\n",
    "*  [How decision optimization (prescriptive analytics) can help](#How--decision-optimization-can-help)\n",
    "*  [Use decision optimization](#Use-decision-optimization)\n",
    "    *  [Step 1: Model the Data](#Step-1:-Model-the-data)\n",
    "    *  [Step 2: Set up the prescriptive model](#Step-2:-Set-up-the-prescriptive-model)\n",
    "        * [Define the decision variables](#Define-the-decision-variables)\n",
    "        * [Express the business constraints](#Express-the-business-constraints)\n",
    "        * [Express the objective](#Express-the-objective)\n",
    "        * [Solve with Decision Optimization solve service](#Solve-with-Decision-Optimization-solve-service)\n",
    "    *  [Step 3: Investigate the solution and run an example analysis](#Step-3:-Investigate-the-solution-and-then-run-an-example-analysis)\n",
    "*  [Summary](#Summary)\n",
    "****"
   ]
  },
  {
   "cell_type": "markdown",
   "metadata": {},
   "source": [
    "### Describe the business problem\n",
    "\n",
    "* The problem is to build steel coils from slabs that are available in a work-in-process inventory of semi-finished products. There is no limitation in the number of slabs that can be requested, but only a finite number of slab sizes are available (sizes 11, 13, 16, 17, 19, 20, 23, 24, 25, 26, 27, 28, 29, 30, 33, 34, 40, 43, 45). \n",
    "* The problem is to select a number of slabs to build the coil orders, and to satisfy the following constraints:\n",
    "    * A coil order can be built from only one slab.\n",
    "    * Each coil order requires a specific process to build it from a slab. This process is encoded by a color.\n",
    "    * Several coil orders can be built from the same slab. But a slab can be used to produce at most two different \"colors\" of coils.\n",
    "    * The sum of the sizes of each coil order built from a slab must not exceed the slab size.\n",
    "\n",
    "\n",
    "* Finally, the production plan should minimize the unused capacity of the selected slabs.\n",
    "\n",
    "\n",
    "* This problem is based on **prob038: Steel mill slab design problem** from <a href=\"http://www.csplib.org\" target=\"_blank\" rel=\"noopener noreferrer\">CSPLib</a>. It is a simplification of an industrial problem described in J. R. Kalagnanam, M. W. Dawande, M. Trumbo, H. S. Lee. \"Inventory Matching Problems in the Steel Industry,\" IBM Research Report RC 21171, 1998.\n",
    "\n",
    "* Please refer to documentation for appropriate setup of solving configuration."
   ]
  },
  {
   "cell_type": "markdown",
   "metadata": {},
   "source": [
    "*****\n",
    "## How  decision optimization can help\n",
    "* Prescriptive analytics technology recommends actions based on desired outcomes, taking into account specific scenarios, resources, and knowledge of past and current events. This insight can help your organization make better decisions and have greater control of business outcomes.  \n",
    "\n",
    "* Prescriptive analytics is the next step on the path to insight-based actions. It creates value through synergy with predictive analytics, which analyzes data to predict future outcomes.  \n",
    "\n",
    "* Prescriptive analytics takes that insight to the next level by suggesting the optimal way to handle that future situation. Organizations that can act fast in dynamic conditions and make superior decisions in uncertain environments gain a strong competitive advantage.  \n",
    "<br/>\n",
    "\n",
    "+ For example:\n",
    "    + Automate complex decisions and trade-offs to better manage limited resources.\n",
    "    + Take advantage of a future opportunity or mitigate a future risk.\n",
    "    + Proactively update recommendations based on changing events.\n",
    "    + Meet operational goals, increase customer loyalty, prevent threats and fraud, and optimize business processes.\n"
   ]
  },
  {
   "cell_type": "markdown",
   "metadata": {},
   "source": [
    "## Use decision optimization"
   ]
  },
  {
   "cell_type": "markdown",
   "metadata": {},
   "source": [
    "### Step 1: Model the data"
   ]
  },
  {
   "cell_type": "code",
   "execution_count": 1,
   "metadata": {},
   "outputs": [],
   "source": [
    "from docplex.cp.model import *"
   ]
  },
  {
   "cell_type": "markdown",
   "metadata": {},
   "source": [
    "Set model parameter"
   ]
  },
  {
   "cell_type": "code",
   "execution_count": 2,
   "metadata": {},
   "outputs": [],
   "source": [
    "from collections import namedtuple\n",
    "\n",
    "##############################################################################\n",
    "# Model configuration\n",
    "##############################################################################\n",
    "\n",
    "# The number of coils to produce\n",
    "TUPLE_ORDER = namedtuple(\"TUPLE_ORDER\", [\"index\", \"weight\", \"color\"])\n",
    "orders = [ TUPLE_ORDER(1, 22, 5),\n",
    "           TUPLE_ORDER(2,  9, 3),\n",
    "           TUPLE_ORDER(3,  9, 4),\n",
    "           TUPLE_ORDER(4,  8, 5),\n",
    "           TUPLE_ORDER(5,  8, 7),\n",
    "           TUPLE_ORDER(6,  6, 3),\n",
    "           TUPLE_ORDER(7,  5, 6),\n",
    "           TUPLE_ORDER(8,  3, 0),\n",
    "           TUPLE_ORDER(9,  3, 2),\n",
    "           TUPLE_ORDER(10, 3, 3),\n",
    "           TUPLE_ORDER(11, 2, 1),\n",
    "           TUPLE_ORDER(12, 2, 5)\n",
    "           ]\n",
    "\n",
    "NB_SLABS = 12\n",
    "MAX_COLOR_PER_SLAB = 2\n",
    "\n",
    "# The total number of slabs available.  In theory this can be unlimited,\n",
    "# but we impose a reasonable upper bound in order to produce a practical\n",
    "# optimization model.\n",
    "\n",
    "# The different slab weights available.\n",
    "slab_weights = [ 0, 11, 13, 16, 17, 19, 20, 23, 24, 25,\n",
    "                 26, 27, 28, 29, 30, 33, 34, 40, 43, 45 ]"
   ]
  },
  {
   "cell_type": "code",
   "execution_count": 3,
   "metadata": {},
   "outputs": [],
   "source": [
    "nb_orders = len(orders)\n",
    "slabs = range(NB_SLABS)\n",
    "allcolors = set([ o.color for o in orders ])\n",
    "\n",
    "# CPO needs lists for pack constraint\n",
    "order_weights = [ o.weight for o in orders ]\n",
    "\n",
    "# The heaviest slab\n",
    "max_slab_weight = max(slab_weights)\n",
    "\n",
    "# The amount of loss incurred for different amounts of slab use\n",
    "# The loss will depend on how much less steel is used than the slab\n",
    "# just large enough to produce the coils.\n",
    "loss = [ min([sw-use for sw in slab_weights if sw >= use]) for use in range(max_slab_weight+1)]"
   ]
  },
  {
   "cell_type": "markdown",
   "metadata": {},
   "source": [
    "### Step 2: Set up the prescriptive model"
   ]
  },
  {
   "cell_type": "markdown",
   "metadata": {},
   "source": [
    "Create CPO model"
   ]
  },
  {
   "cell_type": "code",
   "execution_count": 4,
   "metadata": {},
   "outputs": [],
   "source": [
    "mdl = CpoModel(name=\"trucks\")"
   ]
  },
  {
   "cell_type": "markdown",
   "metadata": {},
   "source": [
    "#### Define the decision variables"
   ]
  },
  {
   "cell_type": "code",
   "execution_count": 5,
   "metadata": {},
   "outputs": [],
   "source": [
    "# Which slab is used to produce each coil\n",
    "production_slab = integer_var_dict(orders, 0, NB_SLABS-1, \"production_slab\")\n",
    "\n",
    "# How much of each slab is used\n",
    "slab_use = integer_var_list(NB_SLABS, 0, max_slab_weight, \"slab_use\")"
   ]
  },
  {
   "cell_type": "markdown",
   "metadata": {},
   "source": [
    "#### Express the business constraints"
   ]
  },
  {
   "cell_type": "code",
   "execution_count": 6,
   "metadata": {},
   "outputs": [],
   "source": [
    "# The total loss is\n",
    "total_loss = sum([element(slab_use[s], loss) for s in slabs])\n",
    "\n",
    "# The orders are allocated to the slabs with capacity\n",
    "mdl.add(pack(slab_use, [production_slab[o] for o in orders], order_weights))\n",
    "\n",
    "# At most MAX_COLOR_PER_SLAB colors per slab\n",
    "for s in slabs:\n",
    "   su = 0\n",
    "   for c in allcolors:\n",
    "       lo = False\n",
    "       for o in orders:\n",
    "           if o.color==c:\n",
    "               lo = (production_slab[o] == s) | lo\n",
    "       su += lo\n",
    "   mdl.add(su <= MAX_COLOR_PER_SLAB)"
   ]
  },
  {
   "cell_type": "markdown",
   "metadata": {},
   "source": [
    "#### Express the objective"
   ]
  },
  {
   "cell_type": "code",
   "execution_count": 7,
   "metadata": {},
   "outputs": [],
   "source": [
    "# Add minimization objective\n",
    "mdl.add(minimize(total_loss))"
   ]
  },
  {
   "cell_type": "markdown",
   "metadata": {},
   "source": [
    "#### Solve the model"
   ]
  },
  {
   "cell_type": "code",
   "execution_count": 8,
   "metadata": {},
   "outputs": [
    {
     "name": "stdout",
     "output_type": "stream",
     "text": [
      "\n",
      "Solving model....\n"
     ]
    }
   ],
   "source": [
    "print(\"\\nSolving model....\")\n",
    "# Search strategy\n",
    "mdl.set_search_phases([search_phase([production_slab[o] for o in orders])])\n",
    "\n",
    "msol = mdl.solve(FailLimit=100000, TimeLimit=10)"
   ]
  },
  {
   "cell_type": "markdown",
   "metadata": {},
   "source": [
    "### Step 3: Investigate the solution and then run an example analysis"
   ]
  },
  {
   "cell_type": "code",
   "execution_count": 9,
   "metadata": {},
   "outputs": [
    {
     "name": "stdout",
     "output_type": "stream",
     "text": [
      "Solution: \n",
      "Slab = 0\n",
      "\tLoss = 0\n",
      "\tcolors = {0, 5}\n",
      "\tOrders = {8, 1}\n",
      "\n",
      "Slab = 3\n",
      "\tLoss = 0\n",
      "\tcolors = {3, 6}\n",
      "\tOrders = {6, 7}\n",
      "\n",
      "Slab = 4\n",
      "\tLoss = 0\n",
      "\tcolors = {2, 5}\n",
      "\tOrders = {9, 4}\n",
      "\n",
      "Slab = 7\n",
      "\tLoss = 0\n",
      "\tcolors = {1, 4}\n",
      "\tOrders = {11, 3}\n",
      "\n",
      "Slab = 10\n",
      "\tLoss = 0\n",
      "\tcolors = {3, 5}\n",
      "\tOrders = {2, 12}\n",
      "\n",
      "Slab = 11\n",
      "\tLoss = 0\n",
      "\tcolors = {3, 7}\n",
      "\tOrders = {10, 5}\n",
      "\n"
     ]
    }
   ],
   "source": [
    "# Print solution\n",
    "if msol:\n",
    "    print(\"Solution: \")\n",
    "    from_slabs = [set([o.index for o in orders if msol[production_slab[o]]== s])for s in slabs]\n",
    "    slab_colors = [set([o.color for o in orders if o.index in from_slabs[s]])for s in slabs]\n",
    "    for s in slabs:\n",
    "        if len(from_slabs[s]) > 0:\n",
    "            print(\"Slab = \" + str(s))\n",
    "            print(\"\\tLoss = \" + str(loss[msol[slab_use[s]]]))\n",
    "            print(\"\\tcolors = \" + str(slab_colors[s]))\n",
    "            print(\"\\tOrders = \" + str(from_slabs[s]) + \"\\n\")\n",
    "else:\n",
    "    print(\"No solution found\")"
   ]
  },
  {
   "cell_type": "markdown",
   "metadata": {},
   "source": [
    "## Summary\n",
    "\n",
    "You have learned how to set up and use the IBM Decision Optimization CPLEX Modeling for Python to formulate and solve a Constraint Programming model."
   ]
  },
  {
   "cell_type": "markdown",
   "metadata": {},
   "source": [
    "#### References\n",
    "* <a href=\"https://rawgit.com/IBMDecisionOptimization/docplex-doc/master/docs/index.html\" target=\"_blank\" rel=\"noopener noreferrer\">Decision Optimization CPLEX Modeling for Python documentation</a>\n",
    "* <a href=\"https://dataplatform.cloud.ibm.com/docs/content/wsj/getting-started/welcome-main.html\" target=\"_blank\" rel=\"noopener noreferrer\">Watson Studio documentation</a>\n"
   ]
  },
  {
   "cell_type": "markdown",
   "metadata": {},
   "source": [
    "<hr>\n",
    "Copyright © 2017-2019. This notebook and its source code are released under the terms of the MIT License."
   ]
  },
  {
   "cell_type": "markdown",
   "metadata": {},
   "source": [
    "<div style=\"background:#F5F7FA; height:110px; padding: 2em; font-size:14px;\">\n",
    "<span style=\"font-size:18px;color:#152935;\">Love this notebook? </span>\n",
    "<span style=\"font-size:15px;color:#152935;float:right;margin-right:40px;\">Don't have an account yet?</span><br>\n",
    "<span style=\"color:#5A6872;\">Share it with your colleagues and help them discover the power of Watson Studio!</span>\n",
    "<span style=\"border: 1px solid #3d70b2;padding:8px;float:right;margin-right:40px; color:#3d70b2;\"><a href=\"https://ibm.co/wsnotebooks\" target=\"_blank\" style=\"color: #3d70b2;text-decoration: none;\">Sign Up</a></span><br>\n",
    "</div>"
   ]
  }
 ],
 "metadata": {
  "kernelspec": {
   "display_name": "Python 3.5",
   "language": "python",
   "name": "python3"
  },
  "language_info": {
   "codemirror_mode": {
    "name": "ipython",
    "version": 3
   },
   "file_extension": ".py",
   "mimetype": "text/x-python",
   "name": "python",
   "nbconvert_exporter": "python",
   "pygments_lexer": "ipython3",
   "version": "3.5.5"
  }
 },
 "nbformat": 4,
 "nbformat_minor": 1
}
