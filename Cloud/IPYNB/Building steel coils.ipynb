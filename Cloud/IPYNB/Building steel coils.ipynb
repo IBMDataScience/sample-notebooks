{
 "cells": [
  {
   "cell_type": "markdown",
   "metadata": {},
   "source": [
    "# Building steel coils\n",
    "\n",
    "This tutorial includes everything you need to set up Decision Optimization engines, build constraint programming models.\n",
    "\n",
    "**Table of contents:**\n",
    "\n",
    "-  [Describe the business problem](#Describe-the-business-problem)\n",
    "*  [How Decision Optimization can help](#How-Decision-Optimization-can-help)\n",
    "*  [Use Decision Optimization](#Use-Decision-Optimization)\n",
    "    *  [Step 1: Model the Data](#Step-1:-Model-the-data)\n",
    "    *  [Step 2: Set up the prescriptive model](#Step-2:-Set-up-the-prescriptive-model)\n",
    "        * [Define the decision variables](#Define-the-decision-variables)\n",
    "        * [Express the business constraints](#Express-the-business-constraints)\n",
    "        * [Express the objective](#Express-the-objective)\n",
    "        * [Solve the model](#Solve-the-model)\n",
    "    *  [Step 3: Investigate the solution and run an example analysis](#Step-3:-Investigate-the-solution-and-then-run-an-example-analysis)\n",
    "*  [Summary](#Summary)\n",
    "****"
   ]
  },
  {
   "cell_type": "markdown",
   "metadata": {},
   "source": [
    "### Describe the business problem\n",
    "\n",
    "* The problem is to build steel coils from slabs that are available in a work-in-process inventory of semi-finished products. There is no limitation in the number of slabs that can be requested, but only a finite number of slab sizes are available (sizes 11, 13, 16, 17, 19, 20, 23, 24, 25, 26, 27, 28, 29, 30, 33, 34, 40, 43, 45). \n",
    "* The problem is to select a number of slabs to build the coil orders, and to satisfy the following constraints:\n",
    "    * A coil order can be built from only one slab.\n",
    "    * Each coil order requires a specific process to build it from a slab. This process is encoded by a color.\n",
    "    * Several coil orders can be built from the same slab. But a slab can be used to produce at most two different \"colors\" of coils.\n",
    "    * The sum of the sizes of each coil order built from a slab must not exceed the slab size.\n",
    "\n",
    "\n",
    "* Finally, the production plan should minimize the unused capacity of the selected slabs.\n",
    "\n",
    "\n",
    "* This problem is based on **prob038: Steel mill slab design problem** from <a href=\"http://www.csplib.org\" target=\"_blank\" rel=\"noopener noreferrer\">CSPLib</a>. It is a simplification of an industrial problem described in J. R. Kalagnanam, M. W. Dawande, M. Trumbo, H. S. Lee. \"Inventory Matching Problems in the Steel Industry,\" IBM Research Report RC 21171, 1998.\n",
    "\n",
    "* Please refer to documentation for appropriate setup of solving configuration."
   ]
  },
  {
   "cell_type": "markdown",
   "metadata": {},
   "source": [
    "*****\n",
    "## How Decision Optimization can help\n",
    "* Prescriptive analytics (Decision Optimization) technology recommends actions based on desired outcomes, taking into account specific scenarios, resources, and knowledge of past and current events. This insight can help your organization make better decisions and have greater control of business outcomes.  \n",
    "\n",
    "* Prescriptive analytics is the next step on the path to insight-based actions. It creates value through synergy with predictive analytics, which analyzes data to predict future outcomes.  \n",
    "\n",
    "* Prescriptive analytics takes that insight to the next level by suggesting the optimal way to handle that future situation. Organizations that can act fast in dynamic conditions and make superior decisions in uncertain environments gain a strong competitive advantage.  \n",
    "<br/>\n",
    "\n",
    "+ For example:\n",
    "    + Automate complex decisions and trade-offs to better manage limited resources.\n",
    "    + Take advantage of a future opportunity or mitigate a future risk.\n",
    "    + Proactively update recommendations based on changing events.\n",
    "    + Meet operational goals, increase customer loyalty, prevent threats and fraud, and optimize business processes.\n"
   ]
  },
  {
   "cell_type": "markdown",
   "metadata": {},
   "source": [
    "## Use Decision Optimization"
   ]
  },
  {
   "cell_type": "markdown",
   "metadata": {},
   "source": [
    "### Step 1: Model the data"
   ]
  },
  {
   "cell_type": "code",
   "execution_count": 1,
   "metadata": {
    "id": "44624b76-b1a1-4d4d-9260-82c672bb2987"
   },
   "outputs": [],
   "source": [
    "from docplex.cp.model import *"
   ]
  },
  {
   "cell_type": "markdown",
   "metadata": {},
   "source": [
    "Set model parameter"
   ]
  },
  {
   "cell_type": "code",
   "execution_count": 2,
   "metadata": {
    "id": "c7df336e-1bb8-449c-a34e-73949b85c969"
   },
   "outputs": [],
   "source": [
    "from collections import namedtuple\n",
    "\n",
    "##############################################################################\n",
    "# Model configuration\n",
    "##############################################################################\n",
    "\n",
    "# The number of coils to produce\n",
    "TUPLE_ORDER = namedtuple(\"TUPLE_ORDER\", [\"index\", \"weight\", \"color\"])\n",
    "orders = [ TUPLE_ORDER(1, 22, 5),\n",
    "           TUPLE_ORDER(2,  9, 3),\n",
    "           TUPLE_ORDER(3,  9, 4),\n",
    "           TUPLE_ORDER(4,  8, 5),\n",
    "           TUPLE_ORDER(5,  8, 7),\n",
    "           TUPLE_ORDER(6,  6, 3),\n",
    "           TUPLE_ORDER(7,  5, 6),\n",
    "           TUPLE_ORDER(8,  3, 0),\n",
    "           TUPLE_ORDER(9,  3, 2),\n",
    "           TUPLE_ORDER(10, 3, 3),\n",
    "           TUPLE_ORDER(11, 2, 1),\n",
    "           TUPLE_ORDER(12, 2, 5)\n",
    "           ]\n",
    "\n",
    "NB_SLABS = 12\n",
    "MAX_COLOR_PER_SLAB = 2\n",
    "\n",
    "# The total number of slabs available.  In theory this can be unlimited,\n",
    "# but we impose a reasonable upper bound in order to produce a practical\n",
    "# optimization model.\n",
    "\n",
    "# The different slab weights available.\n",
    "slab_weights = [ 0, 11, 13, 16, 17, 19, 20, 23, 24, 25,\n",
    "                 26, 27, 28, 29, 30, 33, 34, 40, 43, 45 ]"
   ]
  },
  {
   "cell_type": "code",
   "execution_count": 3,
   "metadata": {
    "id": "cb98d73c-9f18-4fc0-bb38-2b9317a7b99d"
   },
   "outputs": [],
   "source": [
    "nb_orders = len(orders)\n",
    "slabs = range(NB_SLABS)\n",
    "allcolors = set([ o.color for o in orders ])\n",
    "\n",
    "# CPO needs lists for pack constraint\n",
    "order_weights = [ o.weight for o in orders ]\n",
    "\n",
    "# The heaviest slab\n",
    "max_slab_weight = max(slab_weights)\n",
    "\n",
    "# The amount of loss incurred for different amounts of slab use\n",
    "# The loss will depend on how much less steel is used than the slab\n",
    "# just large enough to produce the coils.\n",
    "loss = [ min([sw-use for sw in slab_weights if sw >= use]) for use in range(max_slab_weight+1)]"
   ]
  },
  {
   "cell_type": "markdown",
   "metadata": {},
   "source": [
    "### Step 2: Set up the prescriptive model"
   ]
  },
  {
   "cell_type": "markdown",
   "metadata": {},
   "source": [
    "Create CPO model"
   ]
  },
  {
   "cell_type": "code",
   "execution_count": 4,
   "metadata": {
    "id": "befe55b6-6aef-44fd-b13c-7ea8592efb6d"
   },
   "outputs": [],
   "source": [
    "mdl = CpoModel(name=\"trucks\")"
   ]
  },
  {
   "cell_type": "markdown",
   "metadata": {},
   "source": [
    "#### Define the decision variables"
   ]
  },
  {
   "cell_type": "code",
   "execution_count": 5,
   "metadata": {
    "id": "f5a248fd-9eae-40de-b680-9889ab88a5f4"
   },
   "outputs": [],
   "source": [
    "# Which slab is used to produce each coil\n",
    "production_slab = integer_var_dict(orders, 0, NB_SLABS-1, \"production_slab\")\n",
    "\n",
    "# How much of each slab is used\n",
    "slab_use = integer_var_list(NB_SLABS, 0, max_slab_weight, \"slab_use\")"
   ]
  },
  {
   "cell_type": "markdown",
   "metadata": {},
   "source": [
    "#### Express the business constraints"
   ]
  },
  {
   "cell_type": "code",
   "execution_count": 6,
   "metadata": {
    "id": "8a25ec05-1241-416a-aba4-5097bcf7c5e6"
   },
   "outputs": [],
   "source": [
    "# The total loss is\n",
    "total_loss = sum([element(slab_use[s], loss) for s in slabs])\n",
    "\n",
    "# The orders are allocated to the slabs with capacity\n",
    "mdl.add(pack(slab_use, [production_slab[o] for o in orders], order_weights))\n",
    "\n",
    "# At most MAX_COLOR_PER_SLAB colors per slab\n",
    "for s in slabs:\n",
    "    su = 0\n",
    "    for c in allcolors:\n",
    "        lo = False\n",
    "        for o in orders:\n",
    "            if o.color==c:\n",
    "                lo = (production_slab[o] == s) | lo\n",
    "        su += lo\n",
    "    mdl.add(su <= MAX_COLOR_PER_SLAB)"
   ]
  },
  {
   "cell_type": "markdown",
   "metadata": {},
   "source": [
    "#### Express the objective"
   ]
  },
  {
   "cell_type": "code",
   "execution_count": 7,
   "metadata": {
    "id": "acacc907-1f84-41ea-b769-ed62370e27c5"
   },
   "outputs": [],
   "source": [
    "# Add minimization objective\n",
    "mdl.add(minimize(total_loss))"
   ]
  },
  {
   "cell_type": "markdown",
   "metadata": {},
   "source": [
    "#### Solve the model"
   ]
  },
  {
   "cell_type": "code",
   "execution_count": 8,
   "metadata": {
    "id": "b7e66ef8-06d6-4539-a209-0dcad4dc6cd0"
   },
   "outputs": [
    {
     "name": "stdout",
     "output_type": "stream",
     "text": [
      "\n",
      "Solving model....\n",
      " ! --------------------------------------------------- CP Optimizer 22.1.1.0 --\n",
      " ! Minimization problem - 24 variables, 13 constraints, 1 phase\n",
      " ! Presolve      : 24 extractables eliminated, 2 constraints generated\n",
      " ! FailLimit            = 100000\n",
      " ! TimeLimit            = 10\n",
      " ! Initial process time : 0.00s (0.00s extraction + 0.00s propagation)\n",
      " !  . Log search space  : 109.3 (before), 109.3 (after)\n",
      " !  . Memory usage      : 336.5 kB (before), 336.5 kB (after)\n",
      " ! Using parallel search with 32 workers.\n",
      " ! ----------------------------------------------------------------------------\n",
      " !          Best Branches  Non-fixed    W       Branch decision\n",
      "                        0         24                 -\n",
      " + New bound is 0\n",
      " *             0       18  0.20s        1      (gap is 0.00%)\n",
      " ! ----------------------------------------------------------------------------\n",
      " ! Search completed, 1 solution found.\n",
      " ! Best objective         : 0 (optimal - effective tol. is 0)\n",
      " ! Best bound             : 0\n",
      " ! ----------------------------------------------------------------------------\n",
      " ! Number of branches     : 14797\n",
      " ! Number of fails        : 6599\n",
      " ! Total memory usage     : 19.9 MB (19.8 MB CP Optimizer + 0.0 MB Concert)\n",
      " ! Time spent in solve    : 0.20s (0.20s engine + 0.00s extraction)\n",
      " ! Search speed (br. / s) : 77878.9\n",
      " ! ----------------------------------------------------------------------------\n"
     ]
    }
   ],
   "source": [
    "print(\"\\nSolving model....\")\n",
    "# Search strategy\n",
    "mdl.set_search_phases([search_phase([production_slab[o] for o in orders])])\n",
    "\n",
    "msol = mdl.solve(FailLimit=100000, TimeLimit=10)"
   ]
  },
  {
   "cell_type": "markdown",
   "metadata": {},
   "source": [
    "### Step 3: Investigate the solution and then run an example analysis"
   ]
  },
  {
   "cell_type": "code",
   "execution_count": 9,
   "metadata": {
    "id": "dc3cb815-bb6e-4354-8129-ff6f47cfb6ea"
   },
   "outputs": [
    {
     "name": "stdout",
     "output_type": "stream",
     "text": [
      "Solution: \n",
      "Slab = 0\n",
      "\tLoss = 0\n",
      "\tcolors = {1, 3}\n",
      "\tOrders = {11, 2, 10, 6}\n",
      "\n",
      "Slab = 1\n",
      "\tLoss = 0\n",
      "\tcolors = {0, 5}\n",
      "\tOrders = {8, 1}\n",
      "\n",
      "Slab = 2\n",
      "\tLoss = 0\n",
      "\tcolors = {6, 7}\n",
      "\tOrders = {5, 7}\n",
      "\n",
      "Slab = 3\n",
      "\tLoss = 0\n",
      "\tcolors = {4, 5}\n",
      "\tOrders = {3, 12}\n",
      "\n",
      "Slab = 4\n",
      "\tLoss = 0\n",
      "\tcolors = {2, 5}\n",
      "\tOrders = {9, 4}\n",
      "\n"
     ]
    }
   ],
   "source": [
    "# Print solution\n",
    "if msol:\n",
    "    print(\"Solution: \")\n",
    "    from_slabs = [set([o.index for o in orders if msol[production_slab[o]]== s])for s in slabs]\n",
    "    slab_colors = [set([o.color for o in orders if o.index in from_slabs[s]])for s in slabs]\n",
    "    for s in slabs:\n",
    "        if len(from_slabs[s]) > 0:\n",
    "            print(\"Slab = \" + str(s))\n",
    "            print(\"\\tLoss = \" + str(loss[msol[slab_use[s]]]))\n",
    "            print(\"\\tcolors = \" + str(slab_colors[s]))\n",
    "            print(\"\\tOrders = \" + str(from_slabs[s]) + \"\\n\")\n",
    "else:\n",
    "    print(\"No solution found\")"
   ]
  },
  {
   "cell_type": "markdown",
   "metadata": {},
   "source": [
    "## Summary\n",
    "\n",
    "You have learned how to set up and use the IBM Decision Optimization CPLEX Modeling for Python to formulate and solve a Constraint Programming model."
   ]
  },
  {
   "cell_type": "markdown",
   "metadata": {},
   "source": [
    "#### References\n",
    "* <a href=\"https://rawgit.com/IBMDecisionOptimization/docplex-doc/master/docs/index.html\" target=\"_blank\" rel=\"noopener noreferrer\">Decision Optimization CPLEX Modeling for Python documentation</a>\n",
    "* <a href=\"https://dataplatform.cloud.ibm.com/docs/content/wsj/getting-started/welcome-main.html?context=cpdaas\" target=\"_blank\" rel=\"noopener noreferrer\">IBM Cloud Pak for Data as a Service documentation</a>\n",
    "* <a href=\"https://dataplatform.cloud.ibm.com/docs/content/wsj/getting-started/welcome-main.html?context=wx\" target=\"_blank\" rel=\"noopener noreferrer\">IBM watsonx.ai documentation</a>\n"
   ]
  },
  {
   "cell_type": "markdown",
   "metadata": {},
   "source": [
    "<hr>\n",
    "Copyright © 2017-2025. This notebook and its source code are released under the terms of the MIT License."
   ]
  }
 ],
 "metadata": {
  "kernelspec": {
   "display_name": "Python 3.11",
   "language": "python",
   "name": "python3"
  },
  "language_info": {
   "codemirror_mode": {
    "name": "ipython",
    "version": 3
   },
   "file_extension": ".py",
   "mimetype": "text/x-python",
   "name": "python",
   "nbconvert_exporter": "python",
   "pygments_lexer": "ipython3",
   "version": "3.11.9"
  }
 },
 "nbformat": 4,
 "nbformat_minor": 4
}
