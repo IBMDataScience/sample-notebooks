{
 "cells": [
  {
   "cell_type": "markdown",
   "metadata": {},
   "source": [
    "# Solve a generalized assignment problem using Lagrangian relaxation\n",
    "\n",
    "This tutorial includes data and information that you need to set up decision optimization engines and build mathematical programming models to solve a Generalized Assignment Problem using Lagrangian relaxation.\n",
    "\n",
    "Some familiarity with Python is recommended. This notebook runs on Python."
   ]
  },
  {
   "cell_type": "markdown",
   "metadata": {
    "render": true
   },
   "source": [
    "## Table of contents\n",
    "* [Describe the business problem](#Describe-the-business-problem)\n",
    "* [How Decision Optimization can help](#How-decision-optimization-can-help) \n",
    "* [Use Decision Optimization to create and solve the model](#Use-Decision-Optimization)\n",
    "* [Summary](#Summary)<br> "
   ]
  },
  {
   "cell_type": "markdown",
   "metadata": {},
   "source": [
    "## Describe the business problem   \n",
    "\n",
    "\n",
    "This notebook illustrates how to solve an optimization model using Lagrangian relaxation techniques. \n",
    "It solves a generalized assignment problem (GAP), as defined by Wolsey, using this relaxation technique.\n",
    "\n",
    "The main aim is to show multiple optimization through the modification of different models existing in a single environment, and not to show you how to solve a GAP problem.\n",
    "\n",
    "In the field of Mathematical Programming, this technique consists of approximating a difficult constrained problem by a simpler problem: you remove difficult constraints by integrating them in the objective function, and penalizing it if the constraint is not respected.\n",
    "\n",
    "The method penalizes violations of inequality constraints using a Lagrange multiplier, which imposes a cost on violations. These added costs are used instead of the strict inequality constraints in the optimization. In practice, this relaxed problem can often be solved more easily than the original problem.\n",
    "\n",
    "For more information, see the following Wikipedia articles: <a href=\"https://en.wikipedia.org/wiki/Generalized_assignment_problem\" target=\"_blank\" rel=\"noopener noreferrer\">Generalized assignment problem</a> and <a href=\"https://en.wikipedia.org/wiki/Lagrangian_relaxation\" target=\"_blank\" rel=\"noopener noreferrer\">Lagrangian relaxation</a>.\n",
    "\n",
    "This notebook first solves the standard problem (which is not important here), then shows you how to reformulate it to meet the Lagrangian Relaxation features."
   ]
  },
  {
   "cell_type": "markdown",
   "metadata": {
    "render": true
   },
   "source": [
    "## How decision optimization can help\n",
    "\n",
    "Prescriptive analytics (decision optimization) technology recommends actions that are based on desired outcomes. It considers specific scenarios, resources, and knowledge of past and current events. With this insight, your organization can make better decisions and have greater control over business outcomes.\n",
    "\n",
    "Prescriptive analytics is the next step on the path to insight-based actions. It creates value through synergy with predictive analytics, which analyzes data to predict future outcomes. Prescriptive analytics takes that insight to the next level by suggesting the optimal way to handle a future situation. Organizations that act fast in dynamic conditions and make superior decisions in uncertain environments gain a strong competitive advantage.\n",
    "\n",
    "With prescriptive analytics, you can:\n",
    "\n",
    "* Automate the complex decisions and trade-offs to better manage your limited resources.\n",
    "    \n",
    "* Take advantage of a future opportunity or mitigate a future risk.\n",
    "    \n",
    "* Proactively update recommendations based on changing events.\n",
    "    \n",
    "* Meet operational goals, increase customer loyalty, prevent threats and fraud, and optimize business processes.\n",
    "\n",
    "\n",
    "\n"
   ]
  },
  {
   "cell_type": "markdown",
   "metadata": {
    "render": true
   },
   "source": [
    "## Use Decision Optimization\n",
    "Perform the following steps to create and solve the model.\n",
    "\n",
    "1. [Model the Data](#1.-Model-the-data)<br>\n",
    "2. [Set up the prescriptive model](#2.-Set-up-the-prescriptive-model)<br>\n",
    "      2.1 [Create the DOcplex model](#2.1-Create-the-DOcplex-model)<br>\n",
    "      2.2 [Define the decision variables](#2.2-Define-the-decision-variables)<br>\n",
    "      2.3 [Define the business constraints](#2.3-Define-the-business-constraints)<br>\n",
    "      2.4 [Solve the model](#2.4-Solve-the-model)<br>\n",
    "      2.5 [Solve the model with Lagrangian Relaxation](#2.5-Solve-the-model-with-Lagrangian-Relaxation-method)<br>\n",
    "3. [Investigate the solution and run an example analysis](#3.-Investigate-the-solution-and-run-an-example-analysis)<br>"
   ]
  },
  {
   "cell_type": "markdown",
   "metadata": {
    "render": true
   },
   "source": [
    "### 1. Model the data\n",
    "In this scenario, the data is simple. It is delivered as 3 input arrays: A, B, and C. The data does not need changing or refactoring."
   ]
  },
  {
   "cell_type": "code",
   "execution_count": 1,
   "metadata": {},
   "outputs": [],
   "source": [
    "B = [15, 15, 15]\n",
    "C = [\n",
    "    [ 6, 10, 1],\n",
    "    [12, 12, 5],\n",
    "    [15,  4, 3],\n",
    "    [10,  3, 9],\n",
    "    [8,   9, 5]\n",
    "]\n",
    "A = [\n",
    "    [ 5,  7,  2],\n",
    "    [14,  8,  7],\n",
    "    [10,  6, 12],\n",
    "    [ 8,  4, 15],\n",
    "    [ 6, 12,  5]\n",
    "]"
   ]
  },
  {
   "cell_type": "markdown",
   "metadata": {
    "render": true
   },
   "source": [
    "### 2. Set up the prescriptive model\n",
    "\n",
    "Start by viewing the environment information. This information should be updated when you run the notebook.\n",
    " "
   ]
  },
  {
   "cell_type": "code",
   "execution_count": 2,
   "metadata": {},
   "outputs": [
    {
     "name": "stdout",
     "output_type": "stream",
     "text": [
      "* system is: Linux 64bit\n",
      "* Python version 3.7.9, located at: /opt/conda/envs/Python-3.7-main/bin/python\n",
      "* docplex is present, version is 2.14.186\n",
      "* CPLEX library is present, version is 12.10.0.0, located at: /opt/conda/envs/Python-3.7-main/lib/python3.7/site-packages\n",
      "* pandas is present, version is 1.0.5\n"
     ]
    }
   ],
   "source": [
    "from docplex.mp.environment import Environment\n",
    "env = Environment()\n",
    "env.print_information()"
   ]
  },
  {
   "cell_type": "markdown",
   "metadata": {},
   "source": [
    "You will first create an optimization problem, composed of 2 basic constraint blocks, then you will resolve it using Lagrangian Relaxation on one of the constraint blocks."
   ]
  },
  {
   "cell_type": "markdown",
   "metadata": {},
   "source": [
    "#### 2.1 Create the DOcplex model\n",
    "The model contains the business constraints and the objective.\n"
   ]
  },
  {
   "cell_type": "code",
   "execution_count": 3,
   "metadata": {},
   "outputs": [],
   "source": [
    "from docplex.mp.model import Model\n",
    "\n",
    "mdl = Model(\"GAP per Wolsey\")"
   ]
  },
  {
   "cell_type": "markdown",
   "metadata": {},
   "source": [
    "#### 2.2 Define the decision variables"
   ]
  },
  {
   "cell_type": "code",
   "execution_count": 4,
   "metadata": {
    "scrolled": false
   },
   "outputs": [
    {
     "name": "stdout",
     "output_type": "stream",
     "text": [
      "#As=5, #Bs=3, #Cs=5\n"
     ]
    }
   ],
   "source": [
    "print(\"#As={}, #Bs={}, #Cs={}\".format(len(A), len(B), len(C)))\n",
    "number_of_cs = len(C)\n",
    "# variables\n",
    "x_vars = [mdl.binary_var_list(c, name=None) for c in C]"
   ]
  },
  {
   "cell_type": "markdown",
   "metadata": {
    "render": true
   },
   "source": [
    "#### 2.3 Define the business constraints"
   ]
  },
  {
   "cell_type": "code",
   "execution_count": 5,
   "metadata": {
    "scrolled": true
   },
   "outputs": [
    {
     "name": "stdout",
     "output_type": "stream",
     "text": [
      "Model: GAP per Wolsey\n",
      " - number of variables: 15\n",
      "   - binary=15, integer=0, continuous=0\n",
      " - number of constraints: 8\n",
      "   - linear=8\n",
      " - parameters: defaults\n",
      " - objective: maximize\n",
      " - problem type is: MILP\n"
     ]
    }
   ],
   "source": [
    "# constraints\n",
    "cts = mdl.add_constraints(mdl.sum(xv) <= 1 for xv in x_vars)\n",
    "\n",
    "mdl.add_constraints(mdl.sum(x_vars[ii][j] * A[ii][j] for ii in range(number_of_cs)) <= bs for j, bs in enumerate(B))\n",
    "\n",
    "# objective\n",
    "total_profit = mdl.sum(mdl.scal_prod(x_i, c_i) for c_i, x_i in zip(C, x_vars))\n",
    "mdl.maximize(total_profit)\n",
    "mdl.print_information()"
   ]
  },
  {
   "cell_type": "markdown",
   "metadata": {
    "render": true
   },
   "source": [
    "#### 2.4 Solve the model \n",
    "\n",
    "Use the Decision Optimization to solve the model. "
   ]
  },
  {
   "cell_type": "code",
   "execution_count": 6,
   "metadata": {},
   "outputs": [
    {
     "name": "stdout",
     "output_type": "stream",
     "text": [
      "* GAP with no relaxation run OK, best objective is: 46\n"
     ]
    }
   ],
   "source": [
    "s = mdl.solve()\n",
    "assert s is not None\n",
    "obj = s.objective_value\n",
    "print(\"* GAP with no relaxation run OK, best objective is: {:g}\".format(obj))"
   ]
  },
  {
   "cell_type": "markdown",
   "metadata": {},
   "source": [
    "#### 2.5 Solve the model with Lagrangian Relaxation method\n",
    "\n",
    "Now consider, for the purpose of demonstration of the Lagrangian Relaxation, that this model was hard to solve for CPLEX.\n",
    "You will approximate this problem by using an iterative model, where the objective is modified at each iteration. \n",
    "\n",
    "(Wait a few seconds for the solution, due to a time limit parameter.)"
   ]
  },
  {
   "cell_type": "markdown",
   "metadata": {},
   "source": [
    "You first remove the offending constraints from the model"
   ]
  },
  {
   "cell_type": "code",
   "execution_count": 7,
   "metadata": {},
   "outputs": [],
   "source": [
    "for ct in cts:\n",
    "    mdl.remove_constraint(ct)"
   ]
  },
  {
   "cell_type": "code",
   "execution_count": 8,
   "metadata": {},
   "outputs": [],
   "source": [
    "#p_vars are the penalties attached to violating the constraints\n",
    "p_vars = mdl.continuous_var_list(C, name='p')  # new for relaxation"
   ]
  },
  {
   "cell_type": "code",
   "execution_count": 9,
   "metadata": {},
   "outputs": [
    {
     "data": {
      "text/plain": [
       "''"
      ]
     },
     "execution_count": 9,
     "metadata": {},
     "output_type": "execute_result"
    }
   ],
   "source": [
    "# new version of the approximated constraint where we apply the penalties\n",
    "mdl.add_constraints(mdl.sum(xv) == 1 - pv for xv, pv in zip(x_vars, p_vars))\n",
    ";"
   ]
  },
  {
   "cell_type": "code",
   "execution_count": 10,
   "metadata": {},
   "outputs": [],
   "source": [
    "#Define the maximum number of iterations\n",
    "max_iters = 10"
   ]
  },
  {
   "cell_type": "code",
   "execution_count": 11,
   "metadata": {},
   "outputs": [],
   "source": [
    "number_of_cs = len(C)\n",
    "c_range = range(number_of_cs)"
   ]
  },
  {
   "cell_type": "code",
   "execution_count": 12,
   "metadata": {
    "scrolled": true
   },
   "outputs": [
    {
     "name": "stdout",
     "output_type": "stream",
     "text": [
      "starting the loop\n"
     ]
    }
   ],
   "source": [
    "# Langrangian relaxation loop \n",
    "eps = 1e-6\n",
    "loop_count = 0\n",
    "best = 0\n",
    "initial_multiplier = 1\n",
    "multipliers = [initial_multiplier] * len(C)\n",
    "\n",
    "# Objective function\n",
    "# I'd write the key perfromance indicator (kpi) as\n",
    "# total_profit = mdl.sum(mdl.sum(x_vars[task][worker] * C[task][worker]) for task, worker in zip(tasks, workers))\n",
    "total_profit = mdl.sum(mdl.scal_prod(x_i, c_i) for c_i, x_i in zip(C, x_vars))\n",
    "mdl.add_kpi(total_profit, \"Total profit\")\n",
    "print(\"starting the loop\")"
   ]
  },
  {
   "cell_type": "code",
   "execution_count": 13,
   "metadata": {},
   "outputs": [
    {
     "name": "stdout",
     "output_type": "stream",
     "text": [
      "1> new lagrangian iteration:\n",
      "\t obj=47, m=[1, 1, 1, 1, 1], p=[0, 0, 0, 0, 1.0]\n",
      "1> -- loop continues, m=[1.0, 1.0, 1.0, 1.0, 0.0], justifier=1\n",
      "2> new lagrangian iteration:\n",
      "\t obj=46, m=[1.0, 1.0, 1.0, 1.0, 0.0], p=[0, 0, 0, 0, 1.0]\n",
      "* Lagrangian relaxation succeeds, best=46, penalty=0, #iterations=2\n"
     ]
    }
   ],
   "source": [
    "while loop_count <= max_iters:\n",
    "    loop_count += 1\n",
    "    # Rebuilt at each loop iteration\n",
    "    total_penalty = mdl.scal_prod(p_vars, multipliers)\n",
    "    \n",
    "    mdl.maximize(total_profit + total_penalty)\n",
    "    s = mdl.solve()\n",
    "    if not s:\n",
    "        print(\"*** solve fails, stopping at iteration: %d\" % loop_count)\n",
    "        break\n",
    "    best = s.objective_value\n",
    "    penalties = [pv.solution_value for pv in p_vars]\n",
    "    print('%d> new lagrangian iteration:\\n\\t obj=%g, m=%s, p=%s' % (loop_count, best, str(multipliers), str(penalties)))\n",
    "\n",
    "    do_stop = True\n",
    "    justifier = 0\n",
    "    for k in c_range:\n",
    "        penalized_violation = penalties[k] * multipliers[k]\n",
    "        if penalized_violation >= eps:\n",
    "            do_stop = False\n",
    "            justifier = penalized_violation\n",
    "            break\n",
    "\n",
    "    if do_stop:\n",
    "        print(\"* Lagrangian relaxation succeeds, best={:g}, penalty={:g}, #iterations={}\"\n",
    "                .format(best, total_penalty.solution_value, loop_count))\n",
    "        break\n",
    "    else:\n",
    "        # Update multipliers and start the loop again.\n",
    "        scale_factor = 1.0 / float(loop_count)\n",
    "        multipliers = [max(multipliers[i] - scale_factor * penalties[i], 0.) for i in c_range]\n",
    "        print('{0}> -- loop continues, m={1!s}, justifier={2:g}'.format(loop_count, multipliers, justifier))"
   ]
  },
  {
   "cell_type": "code",
   "execution_count": 14,
   "metadata": {},
   "outputs": [
    {
     "name": "stdout",
     "output_type": "stream",
     "text": [
      "46.0\n"
     ]
    }
   ],
   "source": [
    "print(best)"
   ]
  },
  {
   "cell_type": "markdown",
   "metadata": {
    "render": true
   },
   "source": [
    "### 3. Investigate the solution and run an example analysis"
   ]
  },
  {
   "cell_type": "markdown",
   "metadata": {},
   "source": [
    "You can see that with this relaxation method applied to this simple model, we find the same solution to the problem."
   ]
  },
  {
   "cell_type": "markdown",
   "metadata": {},
   "source": [
    "## Summary\n",
    "\n",
    "\n",
    "You have learned how to set up and use IBM Decision Optimization CPLEX Modeling for Python to formulate a Constraint Programming model and solve it with IBM Decision Optimization."
   ]
  },
  {
   "cell_type": "markdown",
   "metadata": {
    "render": true
   },
   "source": [
    "## References\n",
    "* <a href=\"https://rawgit.com/IBMDecisionOptimization/docplex-doc/master/docs/index.html\" target=\"_blank\" rel=\"noopener noreferrer\">Decision Optimization CPLEX Modeling for Python documentation</a>\n",
    "* <a href=\"https://dataplatform.cloud.ibm.com/docs/content/wsj/getting-started/welcome-main.html\" target=\"_blank\" rel=\"noopener noreferrer\">Cloud Pak for Data documentation</a>\n",
    "* Need help with DOcplex or to report a bug? Go to <a href=\"https://developer.ibm.com/answers/smartspace/docloud\" target=\"_blank\" rel=\"noopener noreferrer\">https://developer.ibm.com/answers/smartspace/docloud</a>\n"
   ]
  },
  {
   "cell_type": "markdown",
   "metadata": {},
   "source": [
    "<hr>\n",
    "Copyright © 2017-2021. This notebook and its source code are released under the terms of the MIT License."
   ]
  }
 ],
 "metadata": {
  "kernelspec": {
   "display_name": "Python 3.7",
   "language": "python",
   "name": "python3"
  },
  "language_info": {
   "codemirror_mode": {
    "name": "ipython",
    "version": 3
   },
   "file_extension": ".py",
   "mimetype": "text/x-python",
   "name": "python",
   "nbconvert_exporter": "python",
   "pygments_lexer": "ipython3",
   "version": "3.7.9"
  }
 },
 "nbformat": 4,
 "nbformat_minor": 1
}
