{
 "cells": [
  {
   "cell_type": "markdown",
   "metadata": {},
   "source": [
    "# Sched Square\n",
    "\n",
    "This tutorial includes everything you need to set up Decision Optimization engines, build constraint programming models. \n",
    "\n",
    "\n",
    "**Table of contents:**\n",
    "\n",
    "-  [Describe the business problem](#Describe-the-business-problem)\n",
    "*  [How Decision Optimization can help](#How-Decision-Optimization-can-help)\n",
    "*  [Use Decision Optimization](#Use-Decision-Optimization)\n",
    "    *  [Step 1: Model the Data](#Step-1:-Model-the-data)\n",
    "    *  [Step 2: Set up the prescriptive model](#Step-2:-Set-up-the-prescriptive-model)\n",
    "        * [Define the decision variables](#Define-the-decision-variables)\n",
    "        * [Express the business constraints](#Express-the-business-constraints)\n",
    "        * [Express the search phase](#Express-the-search-phase)\n",
    "        * [Solve with Decision Optimization solve service](#Solve-with-Decision-Optimization-solve-service)\n",
    "    *  [Step 3: Investigate the solution and run an example analysis](#Step-3:-Investigate-the-solution-and-run-an-example-analysis)\n",
    "*  [Summary](#Summary)\n",
    "****"
   ]
  },
  {
   "cell_type": "markdown",
   "metadata": {},
   "source": [
    "### Describe the business problem\n",
    "\n",
    "* The aim of the square example is to place a set of small squares of different sizes into a large square."
   ]
  },
  {
   "cell_type": "markdown",
   "metadata": {},
   "source": [
    "*****\n",
    "## How Decision Optimization can help\n",
    "* Prescriptive analytics (Decision Optimization) technology recommends actions based on desired outcomes, taking into account specific scenarios, resources, and knowledge of past and current events. This insight can help your organization make better decisions and have greater control of business outcomes.  \n",
    "\n",
    "* Prescriptive analytics is the next step on the path to insight-based actions. It creates value through synergy with predictive analytics, which analyzes data to predict future outcomes.  \n",
    "\n",
    "* Prescriptive analytics takes that insight to the next level by suggesting the optimal way to handle that future situation. Organizations that can act fast in dynamic conditions and make superior decisions in uncertain environments gain a strong competitive advantage.  \n",
    "<br/>\n",
    "\n",
    "+ For example:\n",
    "    + Automate complex decisions and trade-offs to better manage limited resources.\n",
    "    + Take advantage of a future opportunity or mitigate a future risk.\n",
    "    + Proactively update recommendations based on changing events.\n",
    "    + Meet operational goals, increase customer loyalty, prevent threats and fraud, and optimize business processes.\n"
   ]
  },
  {
   "cell_type": "markdown",
   "metadata": {},
   "source": [
    "## Use Decision Optimization"
   ]
  },
  {
   "cell_type": "markdown",
   "metadata": {},
   "source": [
    "### Step 1: Model the data"
   ]
  },
  {
   "cell_type": "code",
   "execution_count": 1,
   "metadata": {
    "id": "4dc9553b-ab40-4d0b-97a7-90e61e6dc741"
   },
   "outputs": [],
   "source": [
    "from docplex.cp.model import *"
   ]
  },
  {
   "cell_type": "markdown",
   "metadata": {},
   "source": [
    "Size of the englobing square"
   ]
  },
  {
   "cell_type": "code",
   "execution_count": 2,
   "metadata": {
    "id": "7c9b8ad2-c13d-4b87-8560-2dcd8c85edbf"
   },
   "outputs": [],
   "source": [
    "SIZE_SQUARE = 112"
   ]
  },
  {
   "cell_type": "markdown",
   "metadata": {},
   "source": [
    "Sizes of the sub-squares"
   ]
  },
  {
   "cell_type": "code",
   "execution_count": 3,
   "metadata": {
    "id": "df3c2df0-ac51-439d-b7f6-a0f6b4ff7493"
   },
   "outputs": [],
   "source": [
    "SIZE_SUBSQUARE = [50, 42, 37, 35, 33, 29, 27, 25, 24, 19, 18, 17, 16, 15, 11, 9, 8, 7, 6, 4, 2]"
   ]
  },
  {
   "cell_type": "markdown",
   "metadata": {},
   "source": [
    "### Step 2: Set up the prescriptive model"
   ]
  },
  {
   "cell_type": "code",
   "execution_count": 4,
   "metadata": {
    "id": "949e73af-a199-497a-9855-bebe9b3ffb12"
   },
   "outputs": [],
   "source": [
    "mdl = CpoModel(name=\"SchedSquare\")"
   ]
  },
  {
   "cell_type": "markdown",
   "metadata": {},
   "source": [
    "#### Define the decision variables\n",
    "##### Create array of variables for sub-squares"
   ]
  },
  {
   "cell_type": "code",
   "execution_count": 5,
   "metadata": {
    "id": "7f12bc05-afa1-4202-b19f-fb5b87cf629c"
   },
   "outputs": [],
   "source": [
    "x = []\n",
    "y = []\n",
    "rx = pulse((0, 0), 0)\n",
    "ry = pulse((0, 0), 0)\n",
    "\n",
    "for i in range(len(SIZE_SUBSQUARE)):\n",
    "    sq = SIZE_SUBSQUARE[i]\n",
    "    vx = interval_var(size=sq, name=\"X\" + str(i))\n",
    "    vx.set_end((0, SIZE_SQUARE))\n",
    "    x.append(vx)\n",
    "    rx += pulse(vx, sq)\n",
    "\n",
    "    vy = interval_var(size=sq, name=\"Y\" + str(i))\n",
    "    vy.set_end((0, SIZE_SQUARE))\n",
    "    y.append(vy)\n",
    "    ry += pulse(vy, sq)"
   ]
  },
  {
   "cell_type": "markdown",
   "metadata": {},
   "source": [
    "#### Express the business constraints\n",
    "##### Create dependencies between variables"
   ]
  },
  {
   "cell_type": "code",
   "execution_count": 6,
   "metadata": {
    "id": "0be16b50-1d41-414c-bc7f-f2d18500b859"
   },
   "outputs": [],
   "source": [
    "for i in range(len(SIZE_SUBSQUARE)):\n",
    "    for j in range(i):\n",
    "        mdl.add((end_of(x[i]) <= start_of(x[j]))\n",
    "                | (end_of(x[j]) <= start_of(x[i]))\n",
    "                | (end_of(y[i]) <= start_of(y[j]))\n",
    "                | (end_of(y[j]) <= start_of(y[i])))"
   ]
  },
  {
   "cell_type": "markdown",
   "metadata": {},
   "source": [
    "##### Set other constraints"
   ]
  },
  {
   "cell_type": "code",
   "execution_count": 7,
   "metadata": {
    "id": "b99fa153-fba0-48b1-a7bd-bb78a47f2b3c"
   },
   "outputs": [],
   "source": [
    "mdl.add(always_in(rx, (0, SIZE_SQUARE), SIZE_SQUARE, SIZE_SQUARE))\n",
    "mdl.add(always_in(ry, (0, SIZE_SQUARE), SIZE_SQUARE, SIZE_SQUARE))"
   ]
  },
  {
   "cell_type": "markdown",
   "metadata": {},
   "source": [
    "#### Express the search phase"
   ]
  },
  {
   "cell_type": "code",
   "execution_count": 8,
   "metadata": {
    "id": "6507c915-f3ad-434a-95d8-aa60d10b9d6d"
   },
   "outputs": [],
   "source": [
    "mdl.set_search_phases([search_phase(x), search_phase(y)])"
   ]
  },
  {
   "cell_type": "markdown",
   "metadata": {},
   "source": [
    "#### Solve with Decision Optimization solve service"
   ]
  },
  {
   "cell_type": "code",
   "execution_count": 9,
   "metadata": {
    "id": "9cecad48-0cd2-49ff-b6df-003d6ee5608f"
   },
   "outputs": [
    {
     "name": "stdout",
     "output_type": "stream",
     "text": [
      "/tmp/wsuser/ipykernel_143/3603254626.py:1(stream:266:10): Warning: Expression 'pulse': specified interval [0..0] has zero length, the pulse is zero everywhere.\n",
      "                                                                     pulse(0, 0, 0)\n",
      "/tmp/wsuser/ipykernel_143/3603254626.py:1(stream:266:10): Warning: Cumulative expression 'pulse': height is zero, expression is zero everywhere.\n",
      "                                                                     pulse(0, 0, 0)\n",
      "/tmp/wsuser/ipykernel_143/3603254626.py:2(stream:268:10): Warning: Expression 'pulse': specified interval [0..0] has zero length, the pulse is zero everywhere.\n",
      "                                                                     pulse(0, 0, 0)\n",
      "/tmp/wsuser/ipykernel_143/3603254626.py:2(stream:268:10): Warning: Cumulative expression 'pulse': height is zero, expression is zero everywhere.\n",
      "                                                                     pulse(0, 0, 0)\n",
      " ! --------------------------------------------------- CP Optimizer 22.1.1.0 --\n",
      " ! Satisfiability problem - 42 variables, 212 constraints, 2 phases\n",
      " ! TimeLimit            = 20\n",
      " ! Initial process time : 0.01s (0.01s extraction + 0.00s propagation)\n",
      " !  . Log search space  : 226.5 (before), 226.5 (after)\n",
      " !  . Memory usage      : 801.2 kB (before), 801.2 kB (after)\n",
      " ! Using parallel search with 32 workers.\n",
      " ! ----------------------------------------------------------------------------\n",
      " !               Branches  Non-fixed    W       Branch decision\n",
      "                     1000         17    1        48 != startOf(X13)\n",
      "                     2000         32    1   F    11  = startOf(X13)\n",
      "                     3000         31    1         0 != startOf(X16)\n",
      "                     4000         31    1         0 != startOf(X17)\n",
      "                     5000         31    1         0  = startOf(X11)\n",
      "                     6000         29    1   F     0  = startOf(X15)\n",
      "                     7000         31    1   F     0  = startOf(X2)\n",
      "                     8000         31    1         7 != startOf(X1)\n",
      "                     9000         31    1   F         !presenceOf(X17)\n",
      "                    10000         32    1   F    25  = startOf(X19)\n",
      "                    11000         31    1         0 != startOf(X10)\n",
      "                    12000         32    1   F     2  = startOf(X3)\n",
      "                    13000         31    1   F     0  = startOf(X19)\n",
      "                     1000         17    2         0 != startOf(X11)\n",
      "                     2000         31    2         0 != startOf(X20)\n",
      "                     3000         30    2   F     0  = startOf(X16)\n",
      "                     4000         31    2        29  = startOf(X11)\n",
      "                     5000         32    2   F         !presenceOf(X18)\n",
      "                     6000         31    2   F    48  = startOf(X13)\n",
      "                     7000         32    2   F     0  = startOf(X14)\n",
      " ! Time = 4.63s, Memory usage = 4.7 MB\n",
      " !               Branches  Non-fixed    W       Branch decision\n",
      "                     8000         31    2   F     2  = startOf(X16)\n",
      "                     9000         31    2   F    79  = startOf(X6)\n",
      "                    10000         31    2        25 != startOf(X16)\n",
      "                    11000         31    2        79 != startOf(X8)\n",
      "                    12000         31    2        50 != startOf(X13)\n",
      "                    13000         29    2   F     0  = startOf(X18)\n",
      "                    14000         29    2   F     0  = startOf(X17)\n",
      "                     1000         17    3   F     4  = startOf(X12)\n",
      "                     2000         31    3         0 != startOf(X19)\n",
      "                     3000         31    3         0  = startOf(X14)\n",
      "                     4000         31    3        11 != startOf(X11)\n",
      "                     5000         31    3         4 != startOf(X8)\n",
      "                     6000         31    3   F         !presenceOf(X15)\n",
      "                     7000         32    3         0 != startOf(X9)\n",
      "                     8000         32    3         0  = startOf(X19)\n",
      "                     9000         32    3         0 != startOf(X18)\n",
      "                    10000         31    3         0  = startOf(X13)\n",
      "                    11000         33    3   F         !presenceOf(X17)\n",
      "                    12000         33    3   F    25  = startOf(X17)\n",
      "                    13000         31    3        28  = startOf(X11)\n",
      " ! Time = 4.63s, Memory usage = 5.4 MB\n",
      " !               Branches  Non-fixed    W       Branch decision\n",
      "                     1000         17    4   F         !presenceOf(X17)\n",
      "                     2000         31    4         0 != startOf(X10)\n",
      "                     3000         31    4         0 != startOf(X11)\n",
      "                     4000         32    4         6 != startOf(X2)\n",
      "                     5000         33    4   F         !presenceOf(X20)\n",
      "                     6000         31    4         0  = startOf(X1)\n",
      "                     7000         31    4         0 != startOf(X16)\n",
      "                     8000         31    4         0 != startOf(X15)\n",
      "                     9000         32    4   F     0  = startOf(X14)\n",
      "                    10000         32    4         0  = startOf(X19)\n",
      "                    11000         31    4         0 != startOf(X18)\n",
      "                    12000         31    4         2 != startOf(X12)\n",
      "                    13000         31    4         2 != startOf(X6)\n",
      "                     1000         17    5   F    36  = startOf(X16)\n",
      "                     2000         31    5   F         !presenceOf(X20)\n",
      "                     3000         31    5         0 != startOf(X19)\n",
      "                     4000         30    5         0  = startOf(X14)\n",
      "                     5000         31    5   F         !presenceOf(X18)\n",
      "                     6000         31    5        35 != startOf(X15)\n",
      "                     7000         32    5   F     2  = startOf(X15)\n",
      " ! Time = 4.63s, Memory usage = 7.0 MB\n",
      " !               Branches  Non-fixed    W       Branch decision\n",
      "                     8000         31    5         0 != startOf(X12)\n",
      "                     9000         27    5   F    52  = startOf(X6)\n",
      "                    10000         29    5        54 != startOf(X9)\n",
      "                    11000         28    5        50  = startOf(X20)\n",
      " *                  11587  4.63s        5            -\n",
      " ! ----------------------------------------------------------------------------\n",
      " ! Search completed, 1 solution found.\n",
      " ! ----------------------------------------------------------------------------\n",
      " ! Number of branches     : 517444\n",
      " ! Number of fails        : 254288\n",
      " ! Total memory usage     : 24.5 MB (24.4 MB CP Optimizer + 0.1 MB Concert)\n",
      " ! Time spent in solve    : 4.64s (4.63s engine + 0.01s extraction)\n",
      " ! Search speed (br. / s) : 111759.0\n",
      " ! ----------------------------------------------------------------------------\n"
     ]
    }
   ],
   "source": [
    "msol = mdl.solve(TimeLimit=20)"
   ]
  },
  {
   "cell_type": "markdown",
   "metadata": {},
   "source": [
    "### Step 3: Investigate the solution and run an example analysis"
   ]
  },
  {
   "cell_type": "markdown",
   "metadata": {},
   "source": [
    "#### Print Solution"
   ]
  },
  {
   "cell_type": "code",
   "execution_count": 10,
   "metadata": {
    "id": "7f6081f7-5e53-4292-b8ae-406b00977a1c"
   },
   "outputs": [
    {
     "name": "stdout",
     "output_type": "stream",
     "text": [
      "Solution: \n",
      "-------------------------------------------------------------------------------\n",
      "Model constraints: 212, variables: integer: 0, interval: 42, sequence: 0\n",
      "Solve status: Feasible\n",
      "Search status: SearchCompleted, stop cause: SearchHasNotBeenStopped\n",
      "Solve time: 4.64 sec\n",
      "-------------------------------------------------------------------------------\n",
      "Variables:\n",
      "   X0 = IntervalVarValue(start=0, end=50, size=50)\n",
      "   X1 = IntervalVarValue(start=70, end=112, size=42)\n",
      "   X2 = IntervalVarValue(start=75, end=112, size=37)\n",
      "   X3 = IntervalVarValue(start=0, end=35, size=35)\n",
      "   X4 = IntervalVarValue(start=79, end=112, size=33)\n",
      "   X5 = IntervalVarValue(start=50, end=79, size=29)\n",
      "   X6 = IntervalVarValue(start=0, end=27, size=27)\n",
      "   X7 = IntervalVarValue(start=50, end=75, size=25)\n",
      "   X8 = IntervalVarValue(start=46, end=70, size=24)\n",
      "   X9 = IntervalVarValue(start=27, end=46, size=19)\n",
      "   X10 = IntervalVarValue(start=52, end=70, size=18)\n",
      "   X11 = IntervalVarValue(start=35, end=52, size=17)\n",
      "   X12 = IntervalVarValue(start=59, end=75, size=16)\n",
      "   X13 = IntervalVarValue(start=35, end=50, size=15)\n",
      "   X14 = IntervalVarValue(start=35, end=46, size=11)\n",
      "   X15 = IntervalVarValue(start=50, end=59, size=9)\n",
      "   X16 = IntervalVarValue(start=27, end=35, size=8)\n",
      "   X17 = IntervalVarValue(start=52, end=59, size=7)\n",
      "   X18 = IntervalVarValue(start=46, end=52, size=6)\n",
      "   X19 = IntervalVarValue(start=75, end=79, size=4)\n",
      "   X20 = IntervalVarValue(start=50, end=52, size=2)\n",
      "   Y0 = IntervalVarValue(start=0, end=50, size=50)\n",
      "   Y1 = IntervalVarValue(start=70, end=112, size=42)\n",
      "   Y2 = IntervalVarValue(start=33, end=70, size=37)\n",
      "   Y3 = IntervalVarValue(start=50, end=85, size=35)\n",
      "   Y4 = IntervalVarValue(start=0, end=33, size=33)\n",
      "   Y5 = IntervalVarValue(start=0, end=29, size=29)\n",
      "   Y6 = IntervalVarValue(start=85, end=112, size=27)\n",
      "   Y7 = IntervalVarValue(start=29, end=54, size=25)\n",
      "   Y8 = IntervalVarValue(start=88, end=112, size=24)\n",
      "   Y9 = IntervalVarValue(start=93, end=112, size=19)\n",
      "   Y10 = IntervalVarValue(start=70, end=88, size=18)\n",
      "   Y11 = IntervalVarValue(start=65, end=82, size=17)\n",
      "   Y12 = IntervalVarValue(start=54, end=70, size=16)\n",
      "   Y13 = IntervalVarValue(start=50, end=65, size=15)\n",
      "   Y14 = IntervalVarValue(start=82, end=93, size=11)\n",
      "   Y15 = IntervalVarValue(start=54, end=63, size=9)\n",
      "   Y16 = IntervalVarValue(start=85, end=93, size=8)\n",
      "   Y17 = IntervalVarValue(start=63, end=70, size=7)\n",
      "   Y18 = IntervalVarValue(start=82, end=88, size=6)\n",
      "   Y19 = IntervalVarValue(start=29, end=33, size=4)\n",
      "   Y20 = IntervalVarValue(start=63, end=65, size=2)\n"
     ]
    }
   ],
   "source": [
    "print(\"Solution: \")\n",
    "msol.print_solution()"
   ]
  },
  {
   "cell_type": "markdown",
   "metadata": {},
   "source": [
    "#### Import graphical tools"
   ]
  },
  {
   "cell_type": "code",
   "execution_count": 11,
   "metadata": {
    "id": "4d41b389-7c47-457c-b77f-7ff47c7e52a1"
   },
   "outputs": [],
   "source": [
    "import docplex.cp.utils_visu as visu\n",
    "import matplotlib.pyplot as plt"
   ]
  },
  {
   "cell_type": "markdown",
   "metadata": {},
   "source": [
    "*You can set __POP\\_UP\\_GRAPHIC=True__ if you prefer a pop up graphic window instead of an inline one.*"
   ]
  },
  {
   "cell_type": "code",
   "execution_count": 12,
   "metadata": {
    "id": "30dd2dce-8f92-4bd4-98fe-36edfb37a4e8"
   },
   "outputs": [],
   "source": [
    "POP_UP_GRAPHIC=False"
   ]
  },
  {
   "cell_type": "code",
   "execution_count": 13,
   "metadata": {
    "id": "02cfe324-6458-4364-a710-ff92cfe9a81c"
   },
   "outputs": [
    {
     "name": "stdout",
     "output_type": "stream",
     "text": [
      "Plotting squares....\n"
     ]
    },
    {
     "data": {
      "image/png": "[encoded data removed]",
      "text/plain": [
       "<Figure size 640x480 with 1 Axes>"
      ]
     },
     "metadata": {},
     "output_type": "display_data"
    }
   ],
   "source": [
    "if msol and visu.is_visu_enabled():\n",
    "    import matplotlib.cm as cm\n",
    "    from matplotlib.patches import Polygon\n",
    "    \n",
    "    if not POP_UP_GRAPHIC:\n",
    "        %matplotlib inline\n",
    "    \n",
    "    # Plot external square\n",
    "    print(\"Plotting squares....\")\n",
    "    fig, ax = plt.subplots()\n",
    "    plt.plot((0, 0), (0, SIZE_SQUARE), (SIZE_SQUARE, SIZE_SQUARE), (SIZE_SQUARE, 0))\n",
    "    for i in range(len(SIZE_SUBSQUARE)):\n",
    "        # Display square i\n",
    "        (sx, sy) = (msol.get_var_solution(x[i]), msol.get_var_solution(y[i]))\n",
    "        (sx1, sx2, sy1, sy2) = (sx.get_start(), sx.get_end(), sy.get_start(), sy.get_end())\n",
    "        poly = Polygon([(sx1, sy1), (sx1, sy2), (sx2, sy2), (sx2, sy1)], fc=cm.Set2(float(i) / len(SIZE_SUBSQUARE)))\n",
    "        ax.add_patch(poly)\n",
    "        # Display identifier of square i at its center\n",
    "        ax.text(float(sx1 + sx2) / 2, float(sy1 + sy2) / 2, str(SIZE_SUBSQUARE[i]), ha='center', va='center')\n",
    "    plt.margins(0)\n",
    "    plt.show()"
   ]
  },
  {
   "cell_type": "markdown",
   "metadata": {},
   "source": [
    "## Summary\n",
    "\n",
    "You have learned how to set up and use the IBM Decision Optimization CPLEX Modeling for Python to formulate and solve a Constraint Programming model."
   ]
  },
  {
   "cell_type": "markdown",
   "metadata": {},
   "source": [
    "#### References\n",
    "* <a href=\"https://rawgit.com/IBMDecisionOptimization/docplex-doc/master/docs/index.html\" target=\"_blank\" rel=\"noopener noreferrer\">Decision Optimization CPLEX Modeling for Python documentation</a>\n",
    "* <a href=\"https://dataplatform.cloud.ibm.com/docs/content/wsj/getting-started/welcome-main.html?context=cpdaas\" target=\"_blank\" rel=\"noopener noreferrer\">IBM Cloud Pak for Data as a Service documentation</a>\n",
    "* <a href=\"https://dataplatform.cloud.ibm.com/docs/content/wsj/getting-started/welcome-main.html?context=wx\" target=\"_blank\" rel=\"noopener noreferrer\">IBM watsonx.ai documentation</a>\n"
   ]
  },
  {
   "cell_type": "markdown",
   "metadata": {},
   "source": [
    "<hr>\n",
    "Copyright © 2017-2025. This notebook and its source code are released under the terms of the MIT License."
   ]
  }
 ],
 "metadata": {
  "kernelspec": {
   "display_name": "Python 3.11",
   "language": "python",
   "name": "python3"
  },
  "language_info": {
   "codemirror_mode": {
    "name": "ipython",
    "version": 3
   },
   "file_extension": ".py",
   "mimetype": "text/x-python",
   "name": "python",
   "nbconvert_exporter": "python",
   "pygments_lexer": "ipython3",
   "version": "3.11.9"
  }
 },
 "nbformat": 4,
 "nbformat_minor": 4
}
