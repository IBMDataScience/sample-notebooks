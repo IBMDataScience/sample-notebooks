{
 "cells": [
  {
   "cell_type": "markdown",
   "metadata": {},
   "source": [
    "# Golomb Ruler\n",
    "\n",
    "This tutorial includes everything you need to set up decision optimization engines, build constraint programming models.\n",
    "\n",
    "This notebook runs on Python and DO",
    "\n",
    "Table of contents:\n",
    "\n",
    "-  [Describe the business problem](#Describe-the-business-problem)\n",
    "*  [How decision optimization (prescriptive analytics) can help](#How--decision-optimization-can-help)\n",
    "*  [Use decision optimization](#Use-decision-optimization)\n",
    "    *  [Step 1: Model the Data](#Step-1:-Model-the-data)\n",
    "    *  [Step 2: Set up the prescriptive model](#Step-2:-Set-up-the-prescriptive-model)\n",
    "        * [Define the decision variables](#Define-the-decision-variables)\n",
    "        * [Express the business constraints](#Express-the-business-constraints)\n",
    "        * [Express the objective](#Express-the-objective)\n",
    "        * [Solve with Decision Optimization solve service](#Solve-with-Decision-Optimization-solve-service)\n",
    "    *  [Step 3: Investigate the solution and run an example analysis](#Step-3:-Investigate-the-solution-and-then-run-an-example-analysis)\n",
    "*  [Summary](#Summary)\n",
    "****"
   ]
  },
  {
   "cell_type": "markdown",
   "metadata": {},
   "source": [
    "### Describe the business problem\n",
    "\n",
    "* A detailed description (from which this paragraph comes from) is available on <b>Wikipedia</b> at <a href=\"https://en.wikipedia.org/wiki/Golomb_ruler\" target=\"_blank\" rel=\"noopener noreferrer\">https://en.wikipedia.org/wiki/Golomb_ruler</a>.\n",
    "\n",
    "* In mathematics, a Golomb ruler is a set of marks at integer positions along an imaginary ruler such that no two pairs of marks are the same distance apart. The number of marks on the ruler is its order, and the largest distance between two of its marks is its length. \n",
    "\n",
    "Following is an example of Golomb ruler of order 4 and length 6.\n",
    "<center><img src=\"https://upload.wikimedia.org/wikipedia/commons/thumb/0/05/Golomb_Ruler-4.svg/220px-Golomb_Ruler-4.svg.png\"></center>\n",
    "<p>\n",
    "This problem is not only an intellectual problem. It has a lot of practical applications:\n",
    "<ul>\n",
    "<li> within Information Theory related to error correcting codes,\n",
    "<li> the selection of radio frequencies to reduce the effects of intermodulation interference,\n",
    "<li> the design of conference rooms, to maximize the number of possible configurations with a minimum of partitions:\n",
    "</ul>\n",
    "<center><img src=\"https://upload.wikimedia.org/wikipedia/commons/thumb/5/52/Golomb_ruler_conference_room.svg/300px-Golomb_ruler_conference_room.svg.png\"></center>\n"
   ]
  },
  {
   "cell_type": "markdown",
   "metadata": {},
   "source": [
    "*****\n",
    "## How  decision optimization can help\n",
    "* Prescriptive analytics technology recommends actions based on desired outcomes, taking into account specific scenarios, resources, and knowledge of past and current events. This insight can help your organization make better decisions and have greater control of business outcomes.  \n",
    "\n",
    "* Prescriptive analytics is the next step on the path to insight-based actions. It creates value through synergy with predictive analytics, which analyzes data to predict future outcomes.  \n",
    "\n",
    "* Prescriptive analytics takes that insight to the next level by suggesting the optimal way to handle that future situation. Organizations that can act fast in dynamic conditions and make superior decisions in uncertain environments gain a strong competitive advantage.  \n",
    "<br/>\n",
    "\n",
    "+ For example:\n",
    "    + Automate complex decisions and trade-offs to better manage limited resources.\n",
    "    + Take advantage of a future opportunity or mitigate a future risk.\n",
    "    + Proactively update recommendations based on changing events.\n",
    "    + Meet operational goals, increase customer loyalty, prevent threats and fraud, and optimize business processes.\n"
   ]
  },
  {
   "cell_type": "markdown",
   "metadata": {},
   "source": [
    "<h3>Modeling the problem</h3>\n",
    "<p>\n",
    "Constraint Programming is a programming paradigm that allows to express a problem using:\n",
    "\n",
    "* the unknowns of the problem (the <i>variables</i>),\n",
    "* the constraints/laws/rules of the problem, mathematical expressions linking variables together (the <i>constraints</i>),\n",
    "* what is to be optimized (the <i>objective function</i>).\n",
    "\n",
    "<p>\n",
    "All this information, plus some configuration parameters, is aggregated into a single object called <i>model</i>. \n",
    "<p>\n",
    "The remainder of this notebook describes in details how to build and solve this problem with IBM CP Optimizer, using its <i>DOcplex</i> Python modeling API."
   ]
  },
  {
   "cell_type": "markdown",
   "metadata": {},
   "source": [
    "## Use decision optimization"
   ]
  },
  {
   "cell_type": "markdown",
   "metadata": {},
   "source": [
    "### Step 1: Model the data\n"
   ]
  },
  {
   "cell_type": "code",
   "execution_count": 1,
   "metadata": {},
   "outputs": [],
   "source": [
    "# Import Constraint Programming modelization functions\n",
    "from docplex.cp.model import CpoModel"
   ]
  },
  {
   "cell_type": "markdown",
   "metadata": {},
   "source": [
    "<h4>Define model input data</h4>\n",
    "<p>\n",
    "The first thing to define is the model input data.\n",
    "In the case of the Golomb Ruler problem, there is only one input which is the order of the ruler, that is the number of marks:"
   ]
  },
  {
   "cell_type": "code",
   "execution_count": 2,
   "metadata": {},
   "outputs": [],
   "source": [
    "# Define required number of marks on the ruler\n",
    "ORDER = 7"
   ]
  },
  {
   "cell_type": "markdown",
   "metadata": {},
   "source": [
    "### Step 2: Set up the prescriptive model"
   ]
  },
  {
   "cell_type": "markdown",
   "metadata": {},
   "source": [
    "<h4>Create the model container</h4>\n",
    "<p>\n",
    "The model is represented by a Python object that is filled with the different model elements (variables, constraints, objective function, etc). The first thing to do is then to create such an object:"
   ]
  },
  {
   "cell_type": "code",
   "execution_count": 3,
   "metadata": {},
   "outputs": [],
   "source": [
    "# Create model object\n",
    "mdl = CpoModel(name=\"GolombRuler\")"
   ]
  },
  {
   "cell_type": "markdown",
   "metadata": {},
   "source": [
    "#### Define the decision variables\n",
    "\n",
    "* Now, you need to define the variables of the problem. As the expected problem result is the list of mark positions, the simplest choice is to create one integer variable to represent the position of each mark on the ruler.\n",
    "\n",
    "* Each variable has a a set of possible values called his <i>domain</i>. To reduce the search space, it is important to reduce this domain as far as possible.\n",
    "\n",
    "* In our case, we can naively estimate that the maximum distance between two adjacent marks is the order of the ruler minus one. Then the maximal position of a mark is (ORDER - 1)². Each variable domain is then limited to an interval [0..(ORDER - 1)²].\n",
    "\n",
    "* A list of integer variables can be defined using method <i>integer_var_list()</i>. In our case, defining one variable for each mark can be created as follows:"
   ]
  },
  {
   "cell_type": "code",
   "execution_count": 4,
   "metadata": {},
   "outputs": [],
   "source": [
    "# Create array of variables corresponding to ruler marks\n",
    "marks = mdl.integer_var_list(ORDER, 0, (ORDER - 1) ** 2, \"M\")"
   ]
  },
  {
   "cell_type": "markdown",
   "metadata": {},
   "source": [
    "#### Express the business constraints\n",
    "\n",
    "* To express that all possible distances between two marks must be different, create an array that contains all these distances:"
   ]
  },
  {
   "cell_type": "code",
   "execution_count": 5,
   "metadata": {},
   "outputs": [],
   "source": [
    "# Create an array with all distances between all marks\n",
    "dist = [marks[i] - marks[j] for i in range(1, ORDER) for j in range(0, i)]"
   ]
  },
  {
   "cell_type": "markdown",
   "metadata": {},
   "source": [
    "The operator '-' is used to express the difference between variables. This might appear strange as the variables are not instantiated at that time, but the Python operator has been overloaded to construct a CP expression instead of attempting to compute the arithmetic difference. All other standard Python operators can be used to make operations between CP objects (<, >, <=, >=, ==, !=, +, -, /, *, &, |, //, **,  ...). See documentation for details.\n",
    "<p>\n",
    "To force all these distances to be different, use the special <i>all_diff()</i> constraint as follows:"
   ]
  },
  {
   "cell_type": "code",
   "execution_count": 6,
   "metadata": {},
   "outputs": [],
   "source": [
    "# Force all distances to be different\n",
    "mdl.add(mdl.all_diff(dist))"
   ]
  },
  {
   "cell_type": "markdown",
   "metadata": {},
   "source": [
    "The call <i>mdl.add(...)</i> is necessary to express that the constraint must be added to the model."
   ]
  },
  {
   "cell_type": "markdown",
   "metadata": {},
   "source": [
    "<h4>Remove symmetries</h4>\n",
    "<p>\n",
    "The constraint you have expressed above is theoretically sufficient, and the model can be solved as it is.\n",
    "<p>\n",
    "However, it does not differentiate between all possible permutations of the different mark positions that are solutions to the problem, for example, 0-1-4-6, 4-6-1-0, 6-0-1-4, etc. As there are ORDER! (factorial of ORDER) such permutations, the search space would be drastically reduced by removing them.\n",
    "<p>\n",
    "You can do that by forcing an order between marks, for example the order of their index:"
   ]
  },
  {
   "cell_type": "code",
   "execution_count": 7,
   "metadata": {},
   "outputs": [],
   "source": [
    "# Avoid symmetric solutions by ordering marks\n",
    "for i in range(1, ORDER):\n",
    "    mdl.add(marks[i] > marks[i - 1])"
   ]
  },
  {
   "cell_type": "markdown",
   "metadata": {},
   "source": [
    "You also know that first mark is at the beginning of the ruler:"
   ]
  },
  {
   "cell_type": "code",
   "execution_count": 8,
   "metadata": {},
   "outputs": [],
   "source": [
    "# Force first mark position to zero\n",
    "mdl.add(marks[0] == 0)"
   ]
  },
  {
   "cell_type": "markdown",
   "metadata": {},
   "source": [
    "<h4>Avoid mirror solutions</h4>\n",
    "<p>\n",
    "Each optimal solution has a mirror, with all mark distances in the reverse order, for example, 0-1-4-6 and 0-2-5-6. \n",
    "The following constraint can be added to avoid this: "
   ]
  },
  {
   "cell_type": "code",
   "execution_count": 9,
   "metadata": {},
   "outputs": [],
   "source": [
    "# Avoid mirror solution\n",
    "mdl.add((marks[1] - marks[0]) < (marks[ORDER - 1] - marks[ORDER - 2]))"
   ]
  },
  {
   "cell_type": "markdown",
   "metadata": {},
   "source": [
    "#### Express the objective\n",
    "\n",
    "* Finally, to get the shortest Golomb Ruler, this can be expressed by minimizing the position of the last mark.\n",
    "As you have ordered the marks, you can do this using:"
   ]
  },
  {
   "cell_type": "code",
   "execution_count": 10,
   "metadata": {},
   "outputs": [],
   "source": [
    "# Minimize ruler size\n",
    "mdl.add(mdl.minimize(marks[ORDER - 1]))"
   ]
  },
  {
   "cell_type": "markdown",
   "metadata": {},
   "source": [
    "If the marks were not ordered, you could have instead used:<br>\n",
    "<code>   mdl.add(mdl.minimize(mdl.max(marks)))</code><br>"
   ]
  },
  {
   "cell_type": "markdown",
   "metadata": {},
   "source": [
    "#### Solve with Decision Optimization solve service\n",
    "\n",
    "By default, the modeling layer looks for a local runtime, but other solving environments, such as *docloud*, are also available.\n",
    "Refer to the documentation for a good understanding of the various solving/generation modes.\n",
    "\n",
    "If you're using a Community Edition of CPLEX runtimes, depending on the size of the problem, the solve stage might fail and will need a paying subscription or product installation."
   ]
  },
  {
   "cell_type": "markdown",
   "metadata": {},
   "source": [
    "The model can be solved by calling:"
   ]
  },
  {
   "cell_type": "code",
   "execution_count": 11,
   "metadata": {},
   "outputs": [
    {
     "name": "stdout",
     "output_type": "stream",
     "text": [
      "Solving model....\n"
     ]
    }
   ],
   "source": [
    "# Solve the model\n",
    "print(\"Solving model....\")\n",
    "msol = mdl.solve(TimeLimit=10)"
   ]
  },
  {
   "cell_type": "markdown",
   "metadata": {},
   "source": [
    "### Step 3: Investigate the solution and then run an example analysis\n",
    "\n",
    "The shortest way to output the solution that has been found by the solver is to call the method <i>print_solution()</i> as follows:"
   ]
  },
  {
   "cell_type": "code",
   "execution_count": 12,
   "metadata": {},
   "outputs": [
    {
     "name": "stdout",
     "output_type": "stream",
     "text": [
      "Solution: \n",
      "-------------------------------------------------------------------------------\n",
      "Model constraints: 9, variables: integer: 7, interval: 0, sequence: 0\n",
      "Solve status: Feasible, Fail status: SearchStoppedByLimit\n",
      "Search status: SearchStopped, stop cause: SearchStoppedByLimit\n",
      "Solve time: 10.4 sec\n",
      "-------------------------------------------------------------------------------\n",
      "Objective values: (25,), bounds: (20,), gaps: (0.2,)\n",
      "M_0: 0\n",
      "M_1: 1\n",
      "M_2: 11\n",
      "M_3: 16\n",
      "M_4: 19\n",
      "M_5: 23\n",
      "M_6: 25\n"
     ]
    }
   ],
   "source": [
    "# Print solution\n",
    "print(\"Solution: \")\n",
    "msol.write()"
   ]
  },
  {
   "cell_type": "markdown",
   "metadata": {},
   "source": [
    "This output is totally generic and simply prints the value of all model variables, the objective value, and some other solution information.\n",
    "<p>\n",
    "A more specific output can be generated by writing more code. The following example illustrates how to access specific elements of the solution. "
   ]
  },
  {
   "cell_type": "code",
   "execution_count": 13,
   "metadata": {},
   "outputs": [
    {
     "name": "stdout",
     "output_type": "stream",
     "text": [
      "Solution: Feasible\n",
      "Position of ruler marks:  0 1 11 16 19 23 25\n",
      "Solve time: 10.4s\n"
     ]
    }
   ],
   "source": [
    "# Print solution\n",
    "from sys import stdout\n",
    "if msol:\n",
    "    # Print found solution\n",
    "    stdout.write(\"Solution: \" + msol.get_solve_status() + \"\\n\")\n",
    "    stdout.write(\"Position of ruler marks: \")\n",
    "    for v in marks:\n",
    "        stdout.write(\" \" + str(msol[v]))\n",
    "    stdout.write(\"\\n\")\n",
    "    stdout.write(\"Solve time: \" + str(round(msol.get_solve_time(), 2)) + \"s\\n\")\n",
    "else:\n",
    "    # No solution found\n",
    "    stdout.write(\"No solution found. Search status: \" + msol.get_solve_status() + \"\\n\")"
   ]
  },
  {
   "cell_type": "markdown",
   "metadata": {},
   "source": [
    "Another possibility is for example to simulate a real ruler using characters, as follows:"
   ]
  },
  {
   "cell_type": "code",
   "execution_count": 14,
   "metadata": {},
   "outputs": [
    {
     "name": "stdout",
     "output_type": "stream",
     "text": [
      "Ruler: ++---------+----+--+---+-+\n"
     ]
    }
   ],
   "source": [
    "# Print solution as a ruler\n",
    "if msol:\n",
    "    stdout.write(\"Ruler: +\")\n",
    "    for i in range(1, ORDER):\n",
    "        stdout.write('-' * (msol[marks[i]] - msol[marks[i - 1]] - 1) + '+')\n",
    "    stdout.write(\"\\n\")"
   ]
  },
  {
   "cell_type": "markdown",
   "metadata": {},
   "source": [
    "<h3>Going further with Constraint Programming</h3>\n",
    "\n",
    "The last available installable package is available on Pypi here: <a href=\"https://pypi.python.org/pypi/docplex\" target=\"_blank\" rel=\"noopener noreferrer\">https://pypi.python.org/pypi/docplex</a>\n",
    "\n",
    "A complete set of modeling examples can be downloaded here: <a href=\"https://github.com/IBMDecisionOptimization/docplex-examples\" target=\"_blank\" rel=\"noopener noreferrer\">https://github.com/IBMDecisionOptimization/docplex-examples</a>"
   ]
  },
  {
   "cell_type": "markdown",
   "metadata": {},
   "source": [
    "## Summary\n",
    "\n",
    "You have learned how to set up and use the IBM Decision Optimization CPLEX Modeling for Python to build and solve a Constraint Programming model."
   ]
  },
  {
   "cell_type": "markdown",
   "metadata": {},
   "source": [
    "#### References\n",
    "* <a href=\"https://rawgit.com/IBMDecisionOptimization/docplex-doc/master/docs/index.html\" target=\"_blank\" rel=\"noopener noreferrer\">Decision Optimization CPLEX Modeling for Python documentation</a>\n",
    "* <a href=\"https://dataplatform.cloud.ibm.com/docs/content/wsj/getting-started/welcome-main.html\" target=\"_blank\" rel=\"noopener noreferrer\">Watson Studio documentation</a>\n"
   ]
  },
  {
   "cell_type": "markdown",
   "metadata": {},
   "source": [
    "<hr>\n",
    "Copyright © 2017-2019. This notebook and its source code are released under the terms of the MIT License."
   ]
  },
  {
   "cell_type": "markdown",
   "metadata": {},
   "source": [
    "<div style=\"background:#F5F7FA; height:110px; padding: 2em; font-size:14px;\">\n",
    "<span style=\"font-size:18px;color:#152935;\">Love this notebook? </span>\n",
    "<span style=\"font-size:15px;color:#152935;float:right;margin-right:40px;\">Don't have an account yet?</span><br>\n",
    "<span style=\"color:#5A6872;\">Share it with your colleagues and help them discover the power of Watson Studio!</span>\n",
    "<span style=\"border: 1px solid #3d70b2;padding:8px;float:right;margin-right:40px; color:#3d70b2;\"><a href=\"https://ibm.co/wsnotebooks\" target=\"_blank\" style=\"color: #3d70b2;text-decoration: none;\">Sign Up</a></span><br>\n",
    "</div>\n"
   ]
  }
 ],
 "metadata": {
  "kernelspec": {
   "display_name": "Python 3.5",
   "language": "python",
   "name": "python3"
  },
  "language_info": {
   "codemirror_mode": {
    "name": "ipython",
    "version": 3
   },
   "file_extension": ".py",
   "mimetype": "text/x-python",
   "name": "python",
   "nbconvert_exporter": "python",
   "pygments_lexer": "ipython3",
   "version": "3.5.5"
  }
 },
 "nbformat": 4,
 "nbformat_minor": 1
}
