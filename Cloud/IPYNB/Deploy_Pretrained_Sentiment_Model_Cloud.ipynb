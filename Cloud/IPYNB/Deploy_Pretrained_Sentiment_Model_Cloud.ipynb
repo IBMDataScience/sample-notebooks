{
 "cells": [
  {
   "cell_type": "markdown",
   "metadata": {
    "collapsed": true,
    "id": "9e6fc66c-19f0-4ea9-a589-b96ae7269731",
    "jupyter": {
     "outputs_hidden": true
    }
   },
   "source": [
    "# Deploy a pretrained sentiment model from Watson NLP as a Python function\n",
    "\n",
    "This notebook demonstrates the steps needed to create and deploy a Python function that predicts sentiment in Watson Machine Learning. In this example, you also create an _online deployment_ of the Python function so you can invoke the sentiment analysis using a web service in an application."
   ]
  },
  {
   "cell_type": "markdown",
   "metadata": {},
   "source": [
    "## Table of Contents \n",
    "\n",
    "1. [Prerequisites](#prereq)\n",
    "1. [Setup](#setup)\n",
    "1. [Create a Python function](#function)\n",
    "1. [Save the Python function to the Model repository](#modelrepo)\n",
    "1. [Create an Online Deployment](#deployment)\n",
    "1. [Predict the sentiment of sample data](#predict)\n",
    "1. [Clean up](#cleanup)\n",
    "1. [Summary](#summary)"
   ]
  },
  {
   "cell_type": "markdown",
   "metadata": {
    "id": "370d483d6f2842348efec430fae53e0d"
   },
   "source": [
    "<a id=\"prereq\"></a>\n",
    "## Prerequisites \n",
    "\n",
    "Before running this notebook, you need to create a new deployment space or identify an existing deployment space to use for this example."
   ]
  },
  {
   "cell_type": "markdown",
   "metadata": {
    "id": "0dd2ed112ffb4432897fd875375db040"
   },
   "source": [
    "<a id=\"setup\"></a>\n",
    "## 1. Set up the environment\n",
    "Before you use the sample code in this notebook, you must perform the following setup tasks:\n",
    "\n",
    "- Create a <a href=\"https://cloud.ibm.com/catalog/services/watson-machine-learning\" target=\"_blank\" rel=\"noopener no referrer\">Watson Machine Learning (WML) Service</a> instance (a free plan is offered and information about how to create the instance can be found <a href=\"https://dataplatform.cloud.ibm.com/docs/content/wsj/getting-started/wml-plans.html?context=wx&audience=wdp\" target=\"_blank\" rel=\"noopener no referrer\">here</a>).\n",
    "- Install and import ibm-watsonx-ai and its dependencies by using the code cell below.\n",
    "\n",
    "Note: See the ibm-watsonx-ai documentation [here](https://ibm.github.io/watsonx-ai-python-sdk/index.html)."
   ]
  },
  {
   "cell_type": "code",
   "execution_count": null,
   "metadata": {
    "id": "6d5e0787-a482-4854-bd88-bb56f71ebd24"
   },
   "outputs": [],
   "source": [
    "!pip install -U ibm-watsonx-ai | tail -n 1"
   ]
  },
  {
   "cell_type": "markdown",
   "metadata": {},
   "source": [
    "### Connect to WML\n",
    "To authenticate the Watson Machine Learning service on IBM Cloud, you need to provide the platform api key and instance location.\n",
    "\n",
    "You can use the IBM Cloud CLI to retrieve your platform API Key and instance location.\n",
    "\n",
    "Generate your API Key:"
   ]
  },
  {
   "cell_type": "code",
   "execution_count": null,
   "metadata": {
    "id": "86a4574a-f32a-4a31-91df-9ce40ced80bf"
   },
   "outputs": [],
   "source": [
    "ibmcloud login\n",
    "ibmcloud iam api-key-create API_KEY_NAME"
   ]
  },
  {
   "cell_type": "markdown",
   "metadata": {},
   "source": [
    "As a result, you get the api_key value from the output.\n",
    "\n",
    "Retrieve the location of your WML instance:"
   ]
  },
  {
   "cell_type": "code",
   "execution_count": null,
   "metadata": {
    "id": "ae41eccd-c79a-4458-8942-471c326737fd"
   },
   "outputs": [],
   "source": [
    "ibmcloud login --apikey API_KEY -a https://cloud.ibm.com\n",
    "ibmcloud resource service-instance WML_INSTANCE_NAME"
   ]
  },
  {
   "cell_type": "markdown",
   "metadata": {},
   "source": [
    "As a result, you get the value of the location from the output.\n",
    "\n",
    "Tips: \n",
    "\n",
    "- You can also generate your Cloud API key by going to the [**Users** section of the Cloud console](https://cloud.ibm.com/iam#/users). From that page, click your name, scroll down to the API Keys section, and click **Create an IBM Cloud API key**. Give your key a name and click **Create**, then copy the created key and paste it in the code cell below. \n",
    "- You can get a service specific URL by going to the [**Endpoint URLs** section of the Watson Machine Learning docs](https://cloud.ibm.com/apidocs/machine-learning). Check your instance location in your  <a href=\"https://cloud.ibm.com/catalog/services/watson-machine-learning\" target=\"_blank\" rel=\"noopener no referrer\">Watson Machine Learning (WML) Service</a> instance details.\n",
    "- You can get a service specific API key by going to the [**Service IDs** section of the Cloud Console](https://cloud.ibm.com/iam/serviceids). From that page, click **Create**, then copy the created key and paste it in the code cell below."
   ]
  },
  {
   "cell_type": "code",
   "execution_count": null,
   "metadata": {
    "id": "5939a2b2-dc9c-4806-8ada-f12c189d7345"
   },
   "outputs": [],
   "source": [
    "api_key = 'PASTE YOUR PLATFORM API KEY HERE'\n",
    "location = 'PASTE YOUR INSTANCE LOCATION HERE'"
   ]
  },
  {
   "cell_type": "code",
   "execution_count": null,
   "metadata": {
    "id": "84d86d2f82694e5f85c87cdd5da1b70e"
   },
   "outputs": [],
   "source": [
    "from ibm_watsonx_ai import Credentials\n",
    "\n",
    "credentials = Credentials(\n",
    "    api_key=api_key,\n",
    "    url='https://' + location + '.ml.cloud.ibm.com'\n",
    ")"
   ]
  },
  {
   "cell_type": "code",
   "execution_count": null,
   "metadata": {
    "id": "1469134f32be42e991947180996bc4a1"
   },
   "outputs": [],
   "source": [
    "from ibm_watson_studio_lib import access_project_or_space\n",
    "wslib = access_project_or_space()"
   ]
  },
  {
   "cell_type": "code",
   "execution_count": null,
   "metadata": {
    "id": "b1701f8b9fe942259e4275c78253ef7c"
   },
   "outputs": [],
   "source": [
    "from ibm_watsonx_ai import APIClient\n",
    "\n",
    "client = APIClient(credentials)"
   ]
  },
  {
   "cell_type": "markdown",
   "metadata": {},
   "source": [
    "### Set up a space\n",
    "First, create a space that will be used for your work. If you do not have space already created, you can use Deployment Spaces Dashboard to create one.\n",
    "\n",
    "1. Click **New Deployment Space**\n",
    "1. Create an empty space\n",
    "1. Select **Cloud Object Storage**\n",
    "1. Select **Watson Machine Learning** instance and click **Create**\n",
    "1. Copy the `space_id` and paste it in the code below\n",
    "\n",
    "Tip: You can also use SDK to prepare the space for your work. More information can be found [here](https://ibm.github.io/watsonx-ai-python-sdk/core_api.html#client.PlatformSpaces)."
   ]
  },
  {
   "cell_type": "code",
   "execution_count": null,
   "metadata": {
    "id": "f76b713c-d4cc-4ec9-af35-84f9fe0392fb"
   },
   "outputs": [],
   "source": [
    "space_id = 'PASTE YOUR SPACE ID HERE'"
   ]
  },
  {
   "cell_type": "markdown",
   "metadata": {},
   "source": [
    "You can use the list method to print all of the existing spaces."
   ]
  },
  {
   "cell_type": "code",
   "execution_count": null,
   "metadata": {
    "id": "c7bb982835214547bd4a364a9e53d187"
   },
   "outputs": [],
   "source": [
    "client.spaces.list(limit=10)"
   ]
  },
  {
   "cell_type": "markdown",
   "metadata": {
    "id": "1fde9449c7af4b3f819ddcf68f3c7d30"
   },
   "source": [
    "Set a default space to interact with all the resources available in Watson Machine Learning."
   ]
  },
  {
   "cell_type": "code",
   "execution_count": null,
   "metadata": {
    "id": "ae8745ff9e4543318717da7f075e288a"
   },
   "outputs": [],
   "source": [
    "client.set.default_space(space_id)"
   ]
  },
  {
   "cell_type": "markdown",
   "metadata": {
    "id": "3422345b34b542e2923c2c645a7e282e"
   },
   "source": [
    "<a id=\"function\"></a>\n",
    "## 2. Create a Python function that detects sentiment\n",
    "\n",
    "The Python function for this notebook uses the targeted sentiment block `targets-sentiment_transformer-workflow_multilingual_slate.153m.distilled-cpu` that is provided by Watson NLP."
   ]
  },
  {
   "cell_type": "code",
   "execution_count": null,
   "metadata": {
    "id": "10e5ae16c4854e6686a0aabc4a4d2021"
   },
   "outputs": [],
   "source": [
    "def detect_sentiment():\n",
    "    import watson_nlp\n",
    "\n",
    "    sentiment_model = targets_sentiment_model = watson_nlp.load('targets-sentiment_transformer-workflow_multilingual_slate.153m.distilled-cpu')\n",
    "\n",
    "    def score(input):\n",
    "        scoring_prediction_out = []\n",
    "        for input_data_row in input[\"input_data\"][0][\"values\"]:\n",
    "            scoring_prediction_row = []\n",
    "            for input_data in input_data_row:\n",
    "                targets_sentiments = targets_sentiment_model.run(input_data)\n",
    "                scoring_prediction_row.append(targets_sentiments.to_dict())\n",
    "\n",
    "            scoring_prediction_out.append(scoring_prediction_row)\n",
    "\n",
    "        # Score using the pre-defined model\n",
    "        scoring_response = {\n",
    "            'predictions': [{'fields': ['nlp_prediction'],\n",
    "                             'values': scoring_prediction_out\n",
    "                            }]\n",
    "        }\n",
    "\n",
    "        return scoring_response\n",
    "\n",
    "    return score"
   ]
  },
  {
   "cell_type": "markdown",
   "metadata": {
    "id": "7f381f335dc94194866571c4e8127404"
   },
   "source": [
    "<a id=\"modelrepo\"></a>\n",
    "## 3. Save the Python function to the Model repository"
   ]
  },
  {
   "cell_type": "code",
   "execution_count": null,
   "metadata": {
    "id": "83f8688ad34b4bd28431a3f85fb02557"
   },
   "outputs": [],
   "source": [
    "pyfunc_swspec_id = client.software_specifications.get_uid_by_name(\"runtime-24.1-py3.11\")\n",
    "\n",
    "meta_data = {\n",
    "    client.repository.FunctionMetaNames.NAME: 'sentiment_function',\n",
    "    client.repository.FunctionMetaNames.DESCRIPTION: 'sentiment_function',\n",
    "    client.repository.FunctionMetaNames.SOFTWARE_SPEC_UID: pyfunc_swspec_id\n",
    "}\n",
    "\n",
    "\n",
    "sentiment_function_details = client.repository.store_function(meta_props=meta_data, function=detect_sentiment)"
   ]
  },
  {
   "cell_type": "markdown",
   "metadata": {
    "id": "55042cf4ff1642d596ea78d6d3244315"
   },
   "source": [
    "<a id=\"deployment\"></a>\n",
    "## 4. Create an Online Deployment"
   ]
  },
  {
   "cell_type": "code",
   "execution_count": null,
   "metadata": {
    "id": "fd1ee8af274d40b58d7313e5dce659c2"
   },
   "outputs": [
    {
     "name": "stdout",
     "output_type": "stream",
     "text": [
      "."
     ]
    },
    {
     "name": "stdout",
     "output_type": "stream",
     "text": [
      "."
     ]
    },
    {
     "name": "stdout",
     "output_type": "stream",
     "text": [
      "."
     ]
    },
    {
     "name": "stdout",
     "output_type": "stream",
     "text": [
      "."
     ]
    },
    {
     "name": "stdout",
     "output_type": "stream",
     "text": [
      "."
     ]
    },
    {
     "name": "stdout",
     "output_type": "stream",
     "text": [
      "."
     ]
    },
    {
     "name": "stdout",
     "output_type": "stream",
     "text": [
      "."
     ]
    },
    {
     "name": "stdout",
     "output_type": "stream",
     "text": [
      "."
     ]
    },
    {
     "name": "stdout",
     "output_type": "stream",
     "text": [
      "."
     ]
    },
    {
     "name": "stdout",
     "output_type": "stream",
     "text": [
      "."
     ]
    },
    {
     "name": "stdout",
     "output_type": "stream",
     "text": [
      "."
     ]
    },
    {
     "name": "stdout",
     "output_type": "stream",
     "text": [
      "."
     ]
    },
    {
     "name": "stdout",
     "output_type": "stream",
     "text": [
      "."
     ]
    },
    {
     "name": "stdout",
     "output_type": "stream",
     "text": [
      "."
     ]
    },
    {
     "name": "stdout",
     "output_type": "stream",
     "text": [
      "."
     ]
    },
    {
     "name": "stdout",
     "output_type": "stream",
     "text": [
      "."
     ]
    },
    {
     "name": "stdout",
     "output_type": "stream",
     "text": [
      "."
     ]
    },
    {
     "name": "stdout",
     "output_type": "stream",
     "text": [
      "."
     ]
    },
    {
     "name": "stdout",
     "output_type": "stream",
     "text": [
      "."
     ]
    },
    {
     "name": "stdout",
     "output_type": "stream",
     "text": [
      "."
     ]
    },
    {
     "name": "stdout",
     "output_type": "stream",
     "text": [
      "."
     ]
    },
    {
     "name": "stdout",
     "output_type": "stream",
     "text": [
      "."
     ]
    },
    {
     "name": "stdout",
     "output_type": "stream",
     "text": [
      "."
     ]
    },
    {
     "name": "stdout",
     "output_type": "stream",
     "text": [
      "."
     ]
    },
    {
     "name": "stdout",
     "output_type": "stream",
     "text": [
      "."
     ]
    },
    {
     "name": "stdout",
     "output_type": "stream",
     "text": [
      "."
     ]
    },
    {
     "name": "stdout",
     "output_type": "stream",
     "text": [
      "."
     ]
    },
    {
     "name": "stdout",
     "output_type": "stream",
     "text": [
      "."
     ]
    },
    {
     "name": "stdout",
     "output_type": "stream",
     "text": [
      "."
     ]
    },
    {
     "name": "stdout",
     "output_type": "stream",
     "text": [
      "."
     ]
    },
    {
     "name": "stdout",
     "output_type": "stream",
     "text": [
      "."
     ]
    },
    {
     "name": "stdout",
     "output_type": "stream",
     "text": [
      "\n",
      "ready\n",
      "\n",
      "\n",
      "------------------------------------------------------------------------------------------------\n",
      "Successfully finished deployment creation, deployment_uid='4b6b02b2-d256-45ae-b683-c5d458fca6c4'\n",
      "------------------------------------------------------------------------------------------------\n",
      "\n",
      "\n",
      "{'entity': {'asset': {'id': '49dbf26f-eb7f-47ad-84d3-cb4101d4e359'}, 'custom': {}, 'deployed_asset_type': 'function', 'description': 'nlp-sentiment-deploy', 'hardware_spec': {'id': 'e7ed1d6c-2e89-42d7-aed5-863b972c1d2b', 'name': 'S', 'num_nodes': 1}, 'name': 'nlp-sentiment-deploy', 'online': {}, 'space_id': '4a2a89fb-9bd4-4e27-9301-372a71d1872f', 'status': {'inference': [{'url': 'https://cpd-dev.apps.midgard.cp.fyre.ibm.com/ml/v4/deployments/4b6b02b2-d256-45ae-b683-c5d458fca6c4/predictions'}], 'online_url': {'url': 'https://cpd-dev.apps.midgard.cp.fyre.ibm.com/ml/v4/deployments/4b6b02b2-d256-45ae-b683-c5d458fca6c4/predictions'}, 'serving_urls': ['https://cpd-dev.apps.midgard.cp.fyre.ibm.com/ml/v4/deployments/4b6b02b2-d256-45ae-b683-c5d458fca6c4/predictions'], 'state': 'ready'}}, 'metadata': {'created_at': '2024-05-16T06:22:14.213Z', 'description': 'nlp-sentiment-deploy', 'id': '4b6b02b2-d256-45ae-b683-c5d458fca6c4', 'modified_at': '2024-05-16T06:22:14.213Z', 'name': 'nlp-sentiment-deploy', 'owner': '1000331015', 'space_id': '4a2a89fb-9bd4-4e27-9301-372a71d1872f'}, 'system': {'warnings': [{'id': 'Deprecated', 'message': 'online_url is deprecated and will be removed in a future release. Use serving_urls instead.'}]}}\n"
     ]
    }
   ],
   "source": [
    "sentiment_function_uid = client.repository.get_function_id(sentiment_function_details)\n",
    "\n",
    "meta_props = {\n",
    "   client.deployments.ConfigurationMetaNames.NAME: \"nlp-sentiment-deploy\",\n",
    "   client.deployments.ConfigurationMetaNames.DESCRIPTION: \"nlp-sentiment-deploy\",\n",
    "   client.deployments.ConfigurationMetaNames.HARDWARE_SPEC: { 'name': 'S'},\n",
    "   client.deployments.ConfigurationMetaNames.ONLINE: {   }\n",
    "}\n",
    "\n",
    "sentiment_deployment_details = client.deployments.create(sentiment_function_uid, meta_props=meta_props)\n",
    "sentiment_deployment_id = client.deployments.get_id(sentiment_deployment_details)"
   ]
  },
  {
   "cell_type": "markdown",
   "metadata": {
    "id": "0bd3b6dc0a4241368b6f95b3c3fd9132"
   },
   "source": [
    "<a id=\"predict\"></a>\n",
    "## 5. Predict the sentiment of sample data"
   ]
  },
  {
   "cell_type": "code",
   "execution_count": null,
   "metadata": {
    "id": "0ee7c21ce1a740fbb60bb463ba0ce304"
   },
   "outputs": [],
   "source": [
    "scoring_payload = {\n",
    "   client.deployments.ScoringMetaNames.INPUT_DATA: [{\n",
    "        'fields': [\"Text\"],\n",
    "        'values': [[\"The room is nice, but the price is too expensive. The window frame is made of wood.\"],\n",
    "                   [\"The check-in was horrible.\"],\n",
    "                  ]\n",
    "   }]\n",
    "}"
   ]
  },
  {
   "cell_type": "code",
   "execution_count": null,
   "metadata": {
    "id": "2f0ff3ef327949418139df190d4d8bea"
   },
   "outputs": [],
   "source": [
    "predictions = client.deployments.score(sentiment_deployment_id, scoring_payload)\n",
    "predictions"
   ]
  },
  {
   "cell_type": "markdown",
   "metadata": {
    "id": "554c9808a5fb4df99f4444f205fc4e0b"
   },
   "source": [
    "<a id=\"cleanup\"></a>\n",
    "## 6. Clean up\n",
    "\n",
    "To clean up the created assets, run the code below."
   ]
  },
  {
   "cell_type": "code",
   "execution_count": null,
   "metadata": {
    "id": "3f135b1f6e0d46bd890b133bb34f3e42"
   },
   "outputs": [],
   "source": [
    "client.deployments.delete(sentiment_deployment_id)\n",
    "client.repository.delete(sentiment_function_uid)"
   ]
  },
  {
   "cell_type": "markdown",
   "metadata": {
    "id": "805f8a4b-e22c-4c29-8cf8-caf8298f532f"
   },
   "source": [
    "For more information on artifact cleanup, see [Machine Learning artifacts management sample notebook](https://dataplatform.cloud.ibm.com/exchange/public/entry/view/55ef73c276cd1bf2bae266613d08c0f3?context=cpdaas)."
   ]
  },
  {
   "cell_type": "markdown",
   "metadata": {},
   "source": [
    "<a id=\"summary\"></a>\n",
    "## 7. Summary and next steps\n",
    "\n",
    "You successfully completed this notebook! You learned how to use Watson Machine Learning for function deployment and scoring with NLP.\n",
    "\n",
    "Check out our [Online Documentation](https://dataplatform.cloud.ibm.com/docs/content/wsj/getting-started/welcome-main.html?context=wx) for more samples, tutorials, documentation, how-tos, and blog posts."
   ]
  },
  {
   "cell_type": "markdown",
   "metadata": {
    "id": "950cd868-cadf-4801-b0e4-c7b00cf561cb"
   },
   "source": [
    "Copyright © 2024 IBM. This notebook and its source code are released under the terms of the MIT License."
   ]
  },
  {
   "cell_type": "code",
   "execution_count": null,
   "metadata": {
    "id": "5d4c2cf1-842e-4a68-8c19-9e70bf6f2410"
   },
   "outputs": [],
   "source": []
  }
 ],
 "metadata": {
  "kernelspec": {
   "display_name": "Python 3.11",
   "language": "python",
   "name": "python3"
  },
  "language_info": {
   "codemirror_mode": {
    "name": "ipython",
    "version": 3
   },
   "file_extension": ".py",
   "mimetype": "text/x-python",
   "name": "python",
   "nbconvert_exporter": "python",
   "pygments_lexer": "ipython3",
   "version": "3.11.9"
  }
 },
 "nbformat": 4,
 "nbformat_minor": 4
}
