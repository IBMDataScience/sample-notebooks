{
 "cells": [
  {
   "cell_type": "markdown",
   "metadata": {},
   "source": [
    "<div style=\"background:#F5F7FA; height:100px; padding: 2em; font-size:14px;\">\n",
    "<span style=\"font-size:18px;color:#152935;\">Want to do more?</span><span style=\"border: 1px solid #3d70b2;padding: 15px;float:right;margin-right:40px; color:#3d70b2; \"><a href=\"https://ibm.co/wsnotebooks\" target=\"_blank\" style=\"color: #3d70b2;text-decoration: none;\">Sign Up</a></span><br>\n",
    "<span style=\"color:#5A6872;\"> Try out this notebook with your free trial of IBM Watson Studio.</span>\n",
    "</div>"
   ]
  },
  {
   "cell_type": "markdown",
   "metadata": {},
   "source": [
    "# Use deep learning for image classification\n",
    "\n",
    "This Python notebook shows you how to use <a href=\"https://en.wikipedia.org/wiki/Deep_learning\" target=\"_blank\" rel=\"noopener noreferrer\">deep learning</a> to build a classification model that maps images of single digit numbers to their corresponding numeric representations.\n",
    "\n",
    "This notebook is adapted from the deep learning tutorial that describes the important deep learning concepts and includes code snippets <a href=\"http://www.pyimagesearch.com/2014/09/22/getting-started-deep-learning-python/\" target=\"_blank\" rel=\"noopener noreferrer\">here</a>.\n",
    "\n",
    "This notebook runs on Python and Spark.\n",
    "\n",
    "\n",
    "## Table of contents\n",
    "\n",
    "1. [Load libraries](#load_libraries)\n",
    "1. [Access data](#access_data)\n",
    "1. [Train the pattern recognition model](#train_model)\n",
    "1. [Summary](#summary)\n"
   ]
  },
  {
   "cell_type": "markdown",
   "metadata": {
    "collapsed": true
   },
   "source": [
    "<img src=\"https://www.wolfram.com/mathematica/new-in-10/enhanced-image-processing/HTMLImages.en/handwritten-digits-classification/smallthumb_10.gif\" alt=\"Images of numbers to numeric representation\" title=\"Title text\" />"
   ]
  },
  {
   "cell_type": "markdown",
   "metadata": {},
   "source": [
    "<a id=\"load_libraries\"></a>\n",
    "## Load libraries\n",
    "\n",
    "If you haven't already installed it, run the following cell to install the `nolearn` deep learning Python library in your notebook environment. Then, import the the libraries that you will be using for this notebook."
   ]
  },
  {
   "cell_type": "code",
   "execution_count": null,
   "metadata": {},
   "outputs": [],
   "source": [
    "!pip install --user nolearn"
   ]
  },
  {
   "cell_type": "code",
   "execution_count": null,
   "metadata": {},
   "outputs": [],
   "source": [
    "import warnings\n",
    "warnings.filterwarnings(\"ignore\")\n",
    "from sklearn.cross_validation import train_test_split\n",
    "from sklearn.metrics import classification_report\n",
    "from sklearn import datasets\n",
    "from nolearn.dbn import DBN\n",
    "import numpy as np\n",
    "import matplotlib.pyplot as plt\n",
    "import matplotlib.image as mpimg\n",
    "%matplotlib inline"
   ]
  },
  {
   "cell_type": "markdown",
   "metadata": {},
   "source": [
    "<a id=\"access_data\"></a>\n",
    "## Access data\n",
    "\n",
    "MNIST is a database of handwritten numbers. Because it uses real-world data, it is an ideal database for training neural networks and machine learning tools that use pattern recognition.\n",
    "\n",
    "Run the following cell to get the MNIST data set of images of handwritten numbers:"
   ]
  },
  {
   "cell_type": "code",
   "execution_count": 3,
   "metadata": {
    "scrolled": false
   },
   "outputs": [
    {
     "name": "stdout",
     "output_type": "stream",
     "text": [
      "Extracting MNIST_data/train-images-idx3-ubyte.gz\n",
      "Extracting MNIST_data/train-labels-idx1-ubyte.gz\n",
      "Extracting MNIST_data/t10k-images-idx3-ubyte.gz\n",
      "Extracting MNIST_data/t10k-labels-idx1-ubyte.gz\n"
     ]
    }
   ],
   "source": [
    "from tensorflow.examples.tutorials.mnist import input_data\n",
    "mnist = input_data.read_data_sets(\"MNIST_data/\")"
   ]
  },
  {
   "cell_type": "code",
   "execution_count": 4,
   "metadata": {},
   "outputs": [],
   "source": [
    "mnist_images = mnist.train.images\n",
    "mnist_labels = mnist.train.labels"
   ]
  },
  {
   "cell_type": "markdown",
   "metadata": {},
   "source": [
    "Then split the images into training and testing data sets:"
   ]
  },
  {
   "cell_type": "code",
   "execution_count": 5,
   "metadata": {
    "scrolled": true
   },
   "outputs": [
    {
     "name": "stdout",
     "output_type": "stream",
     "text": [
      "Number of images for training: 36850\n",
      "Number of images used for testing: 36850\n",
      "Each image is: 28 by 28 pixels\n"
     ]
    }
   ],
   "source": [
    "trX, teX, trY, teY = train_test_split(mnist_images, mnist_labels.astype(\"int0\"), test_size = 0.33)\n",
    "print \"Number of images for training:\", trX.shape[0]\n",
    "print \"Number of images used for testing:\", trY.shape[0]\n",
    "pix = int(np.sqrt(teX.shape[1]))\n",
    "print \"Each image is:\", pix, \"by\", pix, \"pixels\""
   ]
  },
  {
   "cell_type": "markdown",
   "metadata": {},
   "source": [
    "<a id=\"train_model\"></a>\n",
    "## Train the pattern recognition model\n",
    "\n",
    "This notebook shows you how to train a pattern recognition model for handwritten numbers by using the Deep Belief Network (DBN) solver.\n",
    "The DBN solver is trained on approximately 47,000 images each with 784 pixels (28 by 28 before vectorizing) and uses 300 hidden units to support more efficient learning rates. The ten output units correspond to each of the single digit numbers (0 - 9). The results of the learning algorithms have an accuracy of 98 percent.\n",
    "\n",
    "Run the following cell to train the DBN on handwritten digits. For details on the parameters used in the function, see <a href=\"http://www.pyimagesearch.com/2014/09/22/getting-started-deep-learning-python/\" target=\"_blank\" rel=\"noopener noreferrer\">here</a>.\n"
   ]
  },
  {
   "cell_type": "code",
   "execution_count": 6,
   "metadata": {},
   "outputs": [
    {
     "name": "stdout",
     "output_type": "stream",
     "text": [
      "[DBN] fitting X.shape=(36850, 784)\n",
      "[DBN] layers [784, 300, 10]\n",
      "[DBN] Fine-tune...\n"
     ]
    },
    {
     "name": "stderr",
     "output_type": "stream",
     "text": [
      "100%\n"
     ]
    },
    {
     "name": "stdout",
     "output_type": "stream",
     "text": [
      "Epoch 1:\n",
      "  loss 2.3101602658\n",
      "  err  0.897581521739\n",
      "  (0:01:33)\n"
     ]
    },
    {
     "name": "stderr",
     "output_type": "stream",
     "text": [
      "100%\n"
     ]
    },
    {
     "name": "stdout",
     "output_type": "stream",
     "text": [
      "Epoch 2:\n",
      "  loss 2.30311244633\n",
      "  err  0.898668478261\n",
      "  (0:01:34)\n"
     ]
    },
    {
     "name": "stderr",
     "output_type": "stream",
     "text": [
      "100%\n"
     ]
    },
    {
     "name": "stdout",
     "output_type": "stream",
     "text": [
      "Epoch 3:\n",
      "  loss 2.30304650265\n",
      "  err  0.898260869565\n",
      "  (0:02:01)\n"
     ]
    },
    {
     "name": "stderr",
     "output_type": "stream",
     "text": [
      "100%\n"
     ]
    },
    {
     "name": "stdout",
     "output_type": "stream",
     "text": [
      "Epoch 4:\n",
      "  loss 2.30300754464\n",
      "  err  0.900516304348\n",
      "  (0:01:58)\n"
     ]
    },
    {
     "name": "stderr",
     "output_type": "stream",
     "text": [
      "100%\n"
     ]
    },
    {
     "name": "stdout",
     "output_type": "stream",
     "text": [
      "Epoch 5:\n",
      "  loss 2.30294566362\n",
      "  err  0.905054347826\n",
      "  (0:01:44)\n"
     ]
    },
    {
     "name": "stderr",
     "output_type": "stream",
     "text": [
      "100%\n"
     ]
    },
    {
     "name": "stdout",
     "output_type": "stream",
     "text": [
      "Epoch 6:\n",
      "  loss 2.30292444354\n",
      "  err  0.903505434783\n",
      "  (0:01:56)\n"
     ]
    },
    {
     "name": "stderr",
     "output_type": "stream",
     "text": [
      "100%\n"
     ]
    },
    {
     "name": "stdout",
     "output_type": "stream",
     "text": [
      "Epoch 7:\n",
      "  loss 2.3028380933\n",
      "  err  0.901684782609\n",
      "  (0:02:28)\n"
     ]
    },
    {
     "name": "stderr",
     "output_type": "stream",
     "text": [
      "100%\n"
     ]
    },
    {
     "name": "stdout",
     "output_type": "stream",
     "text": [
      "Epoch 8:\n",
      "  loss 2.30281185648\n",
      "  err  0.902934782609\n",
      "  (0:01:36)\n"
     ]
    },
    {
     "name": "stderr",
     "output_type": "stream",
     "text": [
      "100%\n"
     ]
    },
    {
     "name": "stdout",
     "output_type": "stream",
     "text": [
      "Epoch 9:\n",
      "  loss 2.30281436215\n",
      "  err  0.902608695652\n",
      "  (0:01:49)\n"
     ]
    },
    {
     "name": "stderr",
     "output_type": "stream",
     "text": [
      "100%\n"
     ]
    },
    {
     "name": "stdout",
     "output_type": "stream",
     "text": [
      "Epoch 10:\n",
      "  loss 2.30280199092\n",
      "  err  0.9\n",
      "  (0:01:26)\n"
     ]
    }
   ],
   "source": [
    "dbn = DBN(\n",
    "    [trX.shape[1], 300, 10], \n",
    "    learn_rates = 0.3,\n",
    "    learn_rate_decays = 0.9,\n",
    "    epochs = 10, \n",
    "    verbose = 1) # set verbose to 0 for not printing output\n",
    "dbn.fit(trX, trY)"
   ]
  },
  {
   "cell_type": "markdown",
   "metadata": {
    "collapsed": true
   },
   "source": [
    "Then evaluate the the quality of the predictions for each digit:"
   ]
  },
  {
   "cell_type": "code",
   "execution_count": 7,
   "metadata": {},
   "outputs": [
    {
     "name": "stdout",
     "output_type": "stream",
     "text": [
      "             precision    recall  f1-score   support\n",
      "\n",
      "          0       0.00      0.00      0.00      1852\n",
      "          1       0.00      0.00      0.00      1970\n",
      "          2       0.00      0.00      0.00      1783\n",
      "          3       0.00      0.00      0.00      1820\n",
      "          4       0.00      0.00      0.00      1732\n",
      "          5       0.00      0.00      0.00      1605\n",
      "          6       0.00      0.00      0.00      1862\n",
      "          7       0.00      0.00      0.00      1907\n",
      "          8       0.00      0.00      0.00      1835\n",
      "          9       0.10      1.00      0.18      1784\n",
      "\n",
      "avg / total       0.01      0.10      0.02     18150\n",
      "\n"
     ]
    }
   ],
   "source": [
    "preds = dbn.predict(teX)\n",
    "print classification_report(teY, preds)"
   ]
  },
  {
   "cell_type": "markdown",
   "metadata": {},
   "source": [
    "Define a function that randomly selects a few of the test images and their predictions:"
   ]
  },
  {
   "cell_type": "code",
   "execution_count": 8,
   "metadata": {},
   "outputs": [
    {
     "name": "stdout",
     "output_type": "stream",
     "text": [
      "Actual digit is 8 predicted 9\n"
     ]
    },
    {
     "data": {
      "image/png": "[encoded data removed]",
      "text/plain": [
       "<matplotlib.figure.Figure at 0x7fae73bfc890>"
      ]
     },
     "metadata": {},
     "output_type": "display_data"
    }
   ],
   "source": [
    "def randIm():\n",
    "    i = np.random.choice(np.arange(0, len(teY)), size = (1,))\n",
    "    pred = dbn.predict(np.atleast_2d(teX[i]))\n",
    "    image = (teX[i] * 255).reshape((28, 28)).astype(\"uint8\")\n",
    "    # show the prediction\n",
    "    print \"Actual digit is\", teY[i][0], \"predicted\", pred[0]\n",
    "    imgplot = plt.imshow(image)\n",
    "    imgplot.set_cmap('gray')   \n",
    "\n",
    "randIm() "
   ]
  },
  {
   "cell_type": "markdown",
   "metadata": {},
   "source": [
    "Run this function several times to see randomly picked examples from the test data set:"
   ]
  },
  {
   "cell_type": "code",
   "execution_count": 9,
   "metadata": {},
   "outputs": [
    {
     "name": "stdout",
     "output_type": "stream",
     "text": [
      "Actual digit is 9 predicted 9\n"
     ]
    },
    {
     "data": {
      "image/png": "[encoded data removed]",
      "text/plain": [
       "<matplotlib.figure.Figure at 0x7faf183b9810>"
      ]
     },
     "metadata": {},
     "output_type": "display_data"
    }
   ],
   "source": [
    "randIm()"
   ]
  },
  {
   "cell_type": "code",
   "execution_count": 10,
   "metadata": {},
   "outputs": [
    {
     "name": "stdout",
     "output_type": "stream",
     "text": [
      "Actual digit is 1 predicted 9\n"
     ]
    },
    {
     "data": {
      "image/png": "[encoded data removed]",
      "text/plain": [
       "<matplotlib.figure.Figure at 0x7fae73aff610>"
      ]
     },
     "metadata": {},
     "output_type": "display_data"
    }
   ],
   "source": [
    "randIm()"
   ]
  },
  {
   "cell_type": "markdown",
   "metadata": {
    "collapsed": true
   },
   "source": [
    "<a id=\"summary\"></a>\n",
    "## Summary\n",
    "\n",
    "In this Python notebook, you learned how to access the MNIST database that contains sample handwritten numbers. You learned to train the DBN solver to recognize handwritten single digit numbers and evaluate the predicted numeric output.\n",
    "\n",
    "## Authors\n",
    "\n",
    "**Jorge Castañón** is a data scientist at IBM Analytics, specializing in machine learning and text analytics using Apache Spark and Hadoop.\n",
    "\n",
    "Some of the code used in this notebook was contributed by **Adrian Rosebrook**, entrepreneur and Chief PyImageSearcher at www.pyimagesearch.com. "
   ]
  },
  {
   "cell_type": "markdown",
   "metadata": {
    "collapsed": true
   },
   "source": [
    "Copyright &copy; IBM Corp. 2016, 2018. This notebook and its source code are released under the terms of the MIT License."
   ]
  }
 ],
 "metadata": {
  "kernelspec": {
   "display_name": "Python 2 with Spark 2.1",
   "language": "python",
   "name": "python2-spark21"
  },
  "language_info": {
   "codemirror_mode": {
    "name": "ipython",
    "version": 2
   },
   "file_extension": ".py",
   "mimetype": "text/x-python",
   "name": "python",
   "nbconvert_exporter": "python",
   "pygments_lexer": "ipython2",
   "version": "2.7.11"
  }
 },
 "nbformat": 4,
 "nbformat_minor": 1
}
