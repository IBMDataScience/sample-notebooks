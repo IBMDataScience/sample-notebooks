{
 "cells": [
  {
   "cell_type": "markdown",
   "metadata": {},
   "source": [
    "<table style=\"border: none\" align=\"left\">\n",
    "   <tr style=\"border: none\">\n",
    "      <th style=\"border: none\"><font face=\"verdana\" size=\"4\" color=\"black\"><b>Use the Python Function feature to scrape a webpage</b></font></th>\n",
    "      <th style=\"border: none\"><img src=\"https://github.com/pmservice/customer-satisfaction-prediction/blob/master/app/static/images/ml_icon_gray.png?raw=true\" alt=\"Watson Machine Learning icon\" height=\"40\" width=\"40\"></th>\n",
    "   </tr>\n",
    "   <tr style=\"border: none\">\n",
    "       <th style=\"border: none\"><img src=\"https://raw.githubusercontent.com/pmservice/wml-sample-notebooks/master/images/python.png?raw=true\" width=\"600\" alt=\"Icon\"> </th>\n",
    "   </tr>\n",
    "</table>"
   ]
  },
  {
   "cell_type": "markdown",
   "metadata": {},
   "source": [
    "A Python Function is a feature to save and deploy Python code through notebooks or IDE. Python Functions can be implemented in Python notebooks or through REST API using IDE.\n",
    "\n",
    "The requirement of a Python Function is to have a `score()` function inside the Python Function. This `score()` function will be called when running the deployed Python Function.\n",
    "\n",
    "A Python Function can be:\n",
    "- Saved in the Watson Machine Learning (WML) repository.\n",
    "- Deployed in the Watson Machine Learning (WML) repository.\n",
    "- Scored.\n",
    "\n",
    "\n",
    "**Note**: For more details on Python Function, please refer to this <a href=\"https://dataplatform.cloud.ibm.com/docs/content/analyze-data/ml-deploy-functions.html?audience=wdp\" target=\"_blank\" rel=\"noopener no referrer\">link</a>."
   ]
  },
  {
   "cell_type": "markdown",
   "metadata": {},
   "source": [
    "In this notebook, saving, deploying, and scoring a Python Function will be demonstrated. Although the `score()` function is intended to score a Python Function, it can also have other custom functionality such as preprocessing texts.\n",
    "\n",
    "The `score()` function of the Python Function that will be presented in this example notebook does the following tasks:\n",
    "- Scrapes texts that are enclosed in `<p>` tags.\n",
    "- Tokenizes scraped texts.\n",
    "    \n",
    "The data that will be used in this notebook is the <a href=\"http://archive.ics.uci.edu/ml/datasets/SMS+Spam+Collection\" target=\"_blank\" rel=\"noopener no referrer\">SMS spam data set</a> from the UCI Machine Learning Repository. \n",
    "\n",
    "The original data set has both texts and labels in a single file. Only the text parts of the data set were extracted and converted into an `html` file.\n",
    "\n",
    "You can find the html version of the SMS messages <a href=\"https://github.com/pmservice/wml-sample-notebooks/tree/master/datasets\" target=\"_blank\" rel=\"noopener no referrer\">here</a>.",
    "\n",
    "This notebook runs on Python."
   ]
  },
  {
   "cell_type": "markdown",
   "metadata": {},
   "source": [
    "## Contents\n",
    "\n",
    "This notebook contains the following parts:\n",
    "\n",
    "1.\t[Define a Python Function](#function)\n",
    "2.\t[Save, deploy, and score the Python Function](#deploy)\n",
    "3.\t[Summary and next steps](#summary)"
   ]
  },
  {
   "cell_type": "markdown",
   "metadata": {},
   "source": [
    "## 1. Define a Python Function <a id=\"function\"></a>"
   ]
  },
  {
   "cell_type": "markdown",
   "metadata": {},
   "source": [
    "You can pass a `parameter dict` to the Python Function like in the cell below."
   ]
  },
  {
   "cell_type": "code",
   "execution_count": 1,
   "metadata": {},
   "outputs": [],
   "source": [
    "# You can add any information needed to run the Python function, e.g., wml credentials.\n",
    "py_params = {\n",
    "\n",
    "}"
   ]
  },
  {
   "cell_type": "markdown",
   "metadata": {},
   "source": [
    "The code outside the `score()` function only executes one time and can do things like load objects, install libs, etc. \n",
    "\n",
    "In this example, the `score()` function takes the `url`(s) of the payload and passes it (them) to BeautifulSoup to scrape texts enclosed in `<p>` tags. The extracted texts are passed to `scikit-learn`'s CountVectorizer in order to tokenize the texts.\n",
    "\n",
    "**Note**: If you are importing modules inside the Python Function, you have to install packages through the `subprocess` module. More details can be found <a href=\"https://dataplatform.cloud.ibm.com/docs/content/analyze-data/ml-functions.html?audience=wdp#import\" target=\"_blank\" rel=\"noopener no referrer\">here</a> in the documentation for Python Function."
   ]
  },
  {
   "cell_type": "code",
   "execution_count": 2,
   "metadata": {},
   "outputs": [],
   "source": [
    "def py_funct(params=py_params):  \n",
    "    try:\n",
    "        # Import the subprocess module.\n",
    "        import subprocess\n",
    "        \n",
    "        # Install required packages.\n",
    "        subprocess.check_output('pip install --user lxml', stderr=subprocess.STDOUT, shell=True)\n",
    "        subprocess.check_output('pip install --user bs4', stderr=subprocess.STDOUT, shell=True)\n",
    "        subprocess.check_output('pip install --user sklearn', stderr=subprocess.STDOUT, shell=True)\n",
    "    except subprocess.CalledProcessError as e:        \n",
    "        install_err = 'subprocess.CalledProcessError:\\n\\n' + 'cmd:\\n' + e.cmd + '\\n\\noutput:\\n' + e.output.decode()\n",
    "        raise Exception( 'Installation failed:\\n' + install_err )\n",
    "    \n",
    "    def score(payload):\n",
    "        try:\n",
    "            # Import required modules.\n",
    "            from bs4 import BeautifulSoup\n",
    "            from urllib.request import urlopen\n",
    "            from sklearn.feature_extraction.text import CountVectorizer\n",
    "\n",
    "            urls = payload['values']\n",
    "            final_texts = []   # An array that will have stripped clean text from html tag enclosed text.\n",
    "\n",
    "            for url in urls:            \n",
    "                html = urlopen(url)\n",
    "                soup = BeautifulSoup(html, 'lxml')\n",
    "\n",
    "                p_tags = soup.find_all('p')    # Text is enclosed in <p> tag.\n",
    "\n",
    "                for p in p_tags:\n",
    "                    str_p = str(p)\n",
    "                    text = BeautifulSoup(str_p, 'lxml').get_text()\n",
    "                    final_texts.append(text)\n",
    "\n",
    "            vectorizer = CountVectorizer()\n",
    "            vectorizer.fit_transform(final_texts)\n",
    "\n",
    "            return {'tokens': vectorizer.get_feature_names()}\n",
    "        except Exception as e:\n",
    "            return {'error': repr(e)}\n",
    "        \n",
    "    return score"
   ]
  },
  {
   "cell_type": "markdown",
   "metadata": {},
   "source": [
    "Prepare a sample payload like in the following cell."
   ]
  },
  {
   "cell_type": "code",
   "execution_count": 3,
   "metadata": {},
   "outputs": [],
   "source": [
    "sample_data = {\n",
    "    'fields': ['url'],\n",
    "    'values': [\n",
    "        'https://raw.githubusercontent.com/pmservice/wml-sample-notebooks/master/datasets/sms_spam_text.html'\n",
    "    ]\n",
    "}"
   ]
  },
  {
   "cell_type": "markdown",
   "metadata": {},
   "source": [
    "Pass the list of `url`s to the Python Function."
   ]
  },
  {
   "cell_type": "code",
   "execution_count": 4,
   "metadata": {},
   "outputs": [],
   "source": [
    "pf = py_funct(py_params)\n",
    "tokens = pf(sample_data)"
   ]
  },
  {
   "cell_type": "markdown",
   "metadata": {},
   "source": [
    "The Python Function object returns a `dict` that has a list of tokens as the `value` - the name of the `value` is `tokens`."
   ]
  },
  {
   "cell_type": "code",
   "execution_count": 5,
   "metadata": {},
   "outputs": [
    {
     "data": {
      "text/plain": [
       "['00',\n",
       " '000',\n",
       " '000pes',\n",
       " '008704050406',\n",
       " '0089',\n",
       " '0121',\n",
       " '01223585236',\n",
       " '01223585334',\n",
       " '0125698789',\n",
       " '02']"
      ]
     },
     "execution_count": 5,
     "metadata": {},
     "output_type": "execute_result"
    }
   ],
   "source": [
    "# Token list\n",
    "tokens['tokens'][:10]"
   ]
  },
  {
   "cell_type": "markdown",
   "metadata": {},
   "source": [
    "## 2. Save, deploy, and score the Python Function <a id=\"deploy\"></a>"
   ]
  },
  {
   "cell_type": "markdown",
   "metadata": {},
   "source": [
    "In this section, you will learn how to save, deploy, and score the Python Function in the Watson Machine Learning (WML) repository.\n",
    "\n",
    "- [2.1 Set up the environment](#setup)\n",
    "- [2.2 Save and deploy the Python Function](#save)\n",
    "- [2.3 Score data](#score)"
   ]
  },
  {
   "cell_type": "markdown",
   "metadata": {},
   "source": [
    "### 2.1 Set up the environment <a id=\"setup\"></a>\n",
    "\n",
    "In this subsection, you will learn how to set up the Watson Machine learning (WML) service that is required in order to save, deploy, and score the `Python Function` in the Watson Machine learning (WML) repository."
   ]
  },
  {
   "cell_type": "markdown",
   "metadata": {},
   "source": [
    "#### Install the `watson-machine-learning-client` package from pypi\n",
    "**Note:** `watson-machine-learning-client` documentation can be found <a href=\"http://wml-api-pyclient.mybluemix.net/\" target=\"_blank\" rel=\"noopener no referrer\">here</a>."
   ]
  },
  {
   "cell_type": "code",
   "execution_count": 6,
   "metadata": {},
   "outputs": [],
   "source": [
    "!rm -rf $PIP_BUILD/watson-machine-learning-client"
   ]
  },
  {
   "cell_type": "code",
   "execution_count": null,
   "metadata": {
    "scrolled": true
   },
   "outputs": [],
   "source": [
    "!pip install --upgrade watson-machine-learning-client"
   ]
  },
  {
   "cell_type": "markdown",
   "metadata": {},
   "source": [
    "Authenticate the Watson Machine Learning service on the IBM Cloud.\n",
    "\n",
    "**Tip**: Authentication information (your credentials) can be found in the <a href=\"https://dataplatform.cloud.ibm.com/docs/content/wsj/analyze-data/ml-get-wml-credentials.html\" target=\"_blank\" rel=\"noopener no referrer\">Service credentials</a> tab of the service instance that you created on IBM the Cloud. <BR>If you cannot find the **instance_id** field in **Service Credentials**, click **New credential (+)** to generate new authentication information. \n",
    "\n",
    "**Action**: Enter your Watson Machine Learning service instance credentials in the following cell."
   ]
  },
  {
   "cell_type": "code",
   "execution_count": 8,
   "metadata": {},
   "outputs": [],
   "source": [
    "wml_credentials = {\n",
    "    \"apikey\": \"...\",\n",
    "    \"username\": \"...\",\n",
    "    \"password\": \"...\",\n",
    "    \"instance_id\": \"...\",\n",
    "    \"url\": \"https://ibm-watson-ml.mybluemix.net\"\n",
    "}"
   ]
  },
  {
   "cell_type": "markdown",
   "metadata": {},
   "source": [
    "#### Import the `watson-machine-learning-client` module and authenticate the service instance."
   ]
  },
  {
   "cell_type": "code",
   "execution_count": 9,
   "metadata": {},
   "outputs": [],
   "source": [
    "from watson_machine_learning_client import WatsonMachineLearningAPIClient"
   ]
  },
  {
   "cell_type": "markdown",
   "metadata": {},
   "source": [
    "Now, let's instantiate a WatsonMachineLearningAPIClient object."
   ]
  },
  {
   "cell_type": "code",
   "execution_count": 10,
   "metadata": {},
   "outputs": [],
   "source": [
    "wml_credentials = {\n",
    "    'apikey': '...',\n",
    "    'instance_id': '...',\n",
    "    'password': '...',\n",
    "    'url': '...',\n",
    "    'username': '...'\n",
    "}\n",
    "client = WatsonMachineLearningAPIClient(wml_credentials)"
   ]
  },
  {
   "cell_type": "markdown",
   "metadata": {},
   "source": [
    "### 2.2 Save and deploy the Python Function <a id=\"save\"></a>"
   ]
  },
  {
   "cell_type": "markdown",
   "metadata": {},
   "source": [
    "In this subsection, you will learn how to save and deploy the `Python Function`.\n",
    "First, store the `Python Function` with the meta data."
   ]
  },
  {
   "cell_type": "code",
   "execution_count": 11,
   "metadata": {},
   "outputs": [
    {
     "name": "stdout",
     "output_type": "stream",
     "text": [
      "No matching default runtime found. Creating one...SUCCESS\n",
      "\n",
      "Successfully created runtime with uid: de847f71-5389-411e-b671-a5454e86a221\n"
     ]
    }
   ],
   "source": [
    "meta_data = { client.repository.FunctionMetaNames.NAME : 'Web scraping python function' }\n",
    "function_details = client.repository.store_function(meta_props=meta_data, function=py_funct) # If the py_param dict is not empty, function=py_funct(py_param)."
   ]
  },
  {
   "cell_type": "code",
   "execution_count": null,
   "metadata": {},
   "outputs": [],
   "source": [
    "function_details"
   ]
  },
  {
   "cell_type": "markdown",
   "metadata": {},
   "source": [
    "Second, deploy the `Python Function`."
   ]
  },
  {
   "cell_type": "code",
   "execution_count": 13,
   "metadata": {},
   "outputs": [
    {
     "name": "stdout",
     "output_type": "stream",
     "text": [
      "\n",
      "\n",
      "#######################################################################################\n",
      "\n",
      "Synchronous deployment creation for uid: '9a6ac643-68d5-41ac-93c6-13ee690bb698' started\n",
      "\n",
      "#######################################################################################\n",
      "\n",
      "\n",
      "INITIALIZING\n",
      "DEPLOY_IN_PROGRESS...\n",
      "DEPLOY_SUCCESS\n",
      "\n",
      "\n",
      "------------------------------------------------------------------------------------------------\n",
      "Successfully finished deployment creation, deployment_uid='2ff7f9af-163f-4283-b815-af729d05e79a'\n",
      "------------------------------------------------------------------------------------------------\n",
      "\n",
      "\n"
     ]
    }
   ],
   "source": [
    "function_id = function_details['metadata']['guid']\n",
    "function_deployment_details = client.deployments.create(artifact_uid=function_id, name='Web scraping python function deployment')"
   ]
  },
  {
   "cell_type": "markdown",
   "metadata": {},
   "source": [
    "You can check the deployment details by running the following cell."
   ]
  },
  {
   "cell_type": "code",
   "execution_count": null,
   "metadata": {},
   "outputs": [],
   "source": [
    "function_deployment_details"
   ]
  },
  {
   "cell_type": "markdown",
   "metadata": {},
   "source": [
    "Please check if the deployment was successfully created by listing deployments."
   ]
  },
  {
   "cell_type": "code",
   "execution_count": null,
   "metadata": {},
   "outputs": [],
   "source": [
    "client.deployments.list()"
   ]
  },
  {
   "cell_type": "markdown",
   "metadata": {},
   "source": [
    "### 2.3 Score data <a id=\"score\"></a>"
   ]
  },
  {
   "cell_type": "markdown",
   "metadata": {},
   "source": [
    "In this subsection, you will learn how to score the deployed `Python Function` with a test data record."
   ]
  },
  {
   "cell_type": "markdown",
   "metadata": {},
   "source": [
    "First, create an online deployment endpoint."
   ]
  },
  {
   "cell_type": "code",
   "execution_count": 16,
   "metadata": {},
   "outputs": [],
   "source": [
    "function_deployment_endpoint_url = client.deployments.get_scoring_url(function_deployment_details)"
   ]
  },
  {
   "cell_type": "markdown",
   "metadata": {},
   "source": [
    "The following is the record that will be used for scoring."
   ]
  },
  {
   "cell_type": "code",
   "execution_count": 17,
   "metadata": {},
   "outputs": [],
   "source": [
    "payload = {\n",
    "    'values': [ \n",
    "        'https://www.ibm.com/cloud/machine-learning' \n",
    "    ] \n",
    "}"
   ]
  },
  {
   "cell_type": "code",
   "execution_count": 18,
   "metadata": {
    "scrolled": false
   },
   "outputs": [
    {
     "data": {
      "text/plain": [
       "['accelerate',\n",
       " 'accelerating',\n",
       " 'access',\n",
       " 'accuracy',\n",
       " 'across',\n",
       " 'actively',\n",
       " 'adapts',\n",
       " 'advantage',\n",
       " 'ai',\n",
       " 'algorithms']"
      ]
     },
     "execution_count": 18,
     "metadata": {},
     "output_type": "execute_result"
    }
   ],
   "source": [
    "client.deployments.score(function_deployment_endpoint_url, payload)['tokens'][:10]"
   ]
  },
  {
   "cell_type": "markdown",
   "metadata": {},
   "source": [
    "## 3. Summary and next steps <a id=\"summary\"></a>"
   ]
  },
  {
   "cell_type": "markdown",
   "metadata": {},
   "source": [
    "You successfully completed this notebook! \n",
    " \n",
    "You learned how to define a `Python Function`. Also, you learned how to save, deploy, and score the `Python Function` in the Watson Machine Learning (WML) repository. \n",
    "\n",
    "In the next step, in addition to tokenizing, a classification model trained with the `SMS spam` data set will be called in the `score()` function and perform scoring.\n",
    " \n",
    "Check out our <a href=\"https://dataplatform.ibm.com/docs/content/analyze-data/wml-setup.html\" target=\"_blank\" rel=\"noopener noreferrer\">Online Documentation</a> for more samples, tutorials, documentation, how-tos, and blog posts."
   ]
  },
  {
   "cell_type": "markdown",
   "metadata": {},
   "source": [
    "### Citation\n",
    "\n",
    "Almeida, T. A. and Hidalgo, J. M. G. (2012), <a href=\"http://archive.ics.uci.edu/ml/datasets/SMS+Spam+Collection\" target=\"_blank\" rel=\"noopener noreferrer\">UCI Machine Learning Repository</a>, Irvine, CA."
   ]
  },
  {
   "cell_type": "markdown",
   "metadata": {},
   "source": [
    "### Author\n",
    "\n",
    "**Jihyoung Kim**, Ph.D., is a Data Scientist at IBM who strives to make data science easy for everyone through Watson Studio."
   ]
  },
  {
   "cell_type": "markdown",
   "metadata": {},
   "source": [
    "Copyright © 2019 IBM. This notebook and its source code are released under the terms of the MIT License."
   ]
  },
  {
   "cell_type": "markdown",
   "metadata": {},
   "source": [
    "<div style=\"background:#F5F7FA; height:110px; padding: 2em; font-size:14px;\">\n",
    "<span style=\"font-size:18px;color:#152935;\">Love this notebook? </span>\n",
    "<span style=\"font-size:15px;color:#152935;float:right;margin-right:40px;\">Don't have an account yet?</span><br>\n",
    "<span style=\"color:#5A6872;\">Share it with your colleagues and help them discover the power of Watson Studio!</span>\n",
    "<span style=\"border: 1px solid #3d70b2;padding:8px;float:right;margin-right:40px; color:#3d70b2;\"><a href=\"https://ibm.co/wsnotebooks\" target=\"_blank\" style=\"color: #3d70b2;text-decoration: none;\">Sign Up</a></span><br>\n",
    "</div>"
   ]
  }
 ],
 "metadata": {
  "kernelspec": {
   "display_name": "Python 3.6",
   "language": "python",
   "name": "python3"
  },
  "language_info": {
   "codemirror_mode": {
    "name": "ipython",
    "version": 3
   },
   "file_extension": ".py",
   "mimetype": "text/x-python",
   "name": "python",
   "nbconvert_exporter": "python",
   "pygments_lexer": "ipython3",
   "version": "3.6.8"
  }
 },
 "nbformat": 4,
 "nbformat_minor": 1
}
