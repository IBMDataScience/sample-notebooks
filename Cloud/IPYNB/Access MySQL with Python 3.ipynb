{
 "cells": [
  {
   "cell_type": "markdown",
   "metadata": {},
   "source": [
    "# Access MySQL with Python\n",
    "\n",
    "This notebook shows how to access a MySQL database when using Python.\n",
    "\n",
    "This notebook runs on Python.\n",
    "\n",
    "## Table of contents\n",
    "\n",
    "1. [Setup](#Setup) \n",
    "1. [Import the *PyMySQL* Python library](#Import-the-PyMySQL-Python-library)\n",
    "1. [Confirm that MySQL is running](#Confirm-that-MySQL-is-running)\n",
    "1. [Identify and enter the database connection credentials](#Identify-and-enter-the-database-connection-credentials)\n",
    "1. [Create the database connection](#Create-the-database-connection)\n",
    "1. [Create a table](#Create-a-table)\n",
    "1. [Insert data into a table](#Insert-data-into-a-table)\n",
    "1. [Query data](#Query-data)\n",
    "1. [Close the database connection](#Close-the-database-connection)\n",
    "1. [Summary](#Summary)\n",
    "\n",
    "\n",
    "## Setup\n",
    "\n",
    "You should have a MySQL instance installed and running in the cloud. MySQL is an open-source relational database management system (RDBMS) that is widely used as a client–server model RDBMS. To learn more, see the [MySQL website](https://www.mysql.com/). \n",
    "__Note:__ if you are using an Amazon RDS service, make sure it accept connections from every IP.\n",
    "\n",
    "\n",
    "## Import the *PyMySQL* Python library\n",
    "\n",
    "__PyMySQL__ is a pure-Python MySQL client library. Run the commands below to install and import the PyMySQL library:"
   ]
  },
  {
   "cell_type": "code",
   "execution_count": 1,
   "metadata": {},
   "outputs": [],
   "source": [
    "!pip install -q PyMySQL"
   ]
  },
  {
   "cell_type": "code",
   "execution_count": 2,
   "metadata": {},
   "outputs": [],
   "source": [
    "import pymysql.cursors"
   ]
  },
  {
   "cell_type": "markdown",
   "metadata": {},
   "source": [
    "## Confirm that MySQL is running\n",
    "\n",
    "You can test to see if MySQL is installed by opening your terminal and typing “mysql”. If you receive an error that MySQL cannot connect, it means that MySQL is installed, but not running."
   ]
  },
  {
   "cell_type": "markdown",
   "metadata": {},
   "source": [
    "## Identify and enter the database connection credentials\n",
    "\n",
    "Connecting to MySQL database requires the following information:\n",
    "* Host name or IP address \n",
    "* Host port\n",
    "* default database name\n",
    "* User ID\n",
    "* User password\n",
    "\n",
    "All of this information must be captured in a connection string in a subsequent step. Provide the MySQL connection information as shown:"
   ]
  },
  {
   "cell_type": "code",
   "execution_count": 3,
   "metadata": {},
   "outputs": [],
   "source": [
    "#Enter the values for you database connection\n",
    "dsn_database = \"\" # for example  \"BLUDB\"\n",
    "dsn_hostname = \"\" # for example  \"mydbinstance.cz6pjylrdjko.us-east-1.rds.amazonaws.com\"\n",
    "dsn_port = 3306        # for example  3306 without quotation marks\n",
    "dsn_uid = \"\"      # for example  \"user1\"\n",
    "dsn_pwd = \"\"      # for example  \"7dBZ3jWt9xN6$o0JiX!m\""
   ]
  },
  {
   "cell_type": "markdown",
   "metadata": {},
   "source": [
    "## Create the database connection\n",
    "Set up a connection as follows. If a connect cannot be made an exception will be raised. \n",
    "*conn.cursor* will return a cursor object and you can use this cursor to perform queries:"
   ]
  },
  {
   "cell_type": "code",
   "execution_count": 4,
   "metadata": {},
   "outputs": [],
   "source": [
    "#conn = MySQLdb.connect(host=dsn_hostname, port=dsn_port, user=dsn_uid, passwd=dsn_pwd, db=dsn_database)\n",
    "conn = pymysql.connect(host=dsn_hostname, port=dsn_port, user=dsn_uid, passwd=dsn_pwd, db=dsn_database)"
   ]
  },
  {
   "cell_type": "markdown",
   "metadata": {
    "collapsed": true
   },
   "source": [
    "## Create a table\n",
    "\n",
    "Create a test table named Cars. The code below drops the Cars table if it already exists, and then creates the new table:"
   ]
  },
  {
   "cell_type": "code",
   "execution_count": 5,
   "metadata": {},
   "outputs": [
    {
     "data": {
      "text/plain": [
       "0"
      ]
     },
     "execution_count": 5,
     "metadata": {},
     "output_type": "execute_result"
    }
   ],
   "source": [
    "conn.query(\"\"\"DROP TABLE IF EXISTS Cars\"\"\")\n",
    "conn.query(\"\"\"CREATE TABLE Cars(Id INTEGER PRIMARY KEY, Name VARCHAR(20), Price INT)\"\"\")"
   ]
  },
  {
   "cell_type": "markdown",
   "metadata": {},
   "source": [
    "## Insert data into a table\n",
    "\n",
    "Run the following commands to create records in the new Cars table:"
   ]
  },
  {
   "cell_type": "code",
   "execution_count": 6,
   "metadata": {},
   "outputs": [
    {
     "data": {
      "text/plain": [
       "1"
      ]
     },
     "execution_count": 6,
     "metadata": {},
     "output_type": "execute_result"
    }
   ],
   "source": [
    "conn.query(\"\"\"INSERT INTO Cars VALUES(1,'Audi',52642)\"\"\")\n",
    "conn.query(\"\"\"INSERT INTO Cars VALUES(2,'Mercedes',57127)\"\"\")\n",
    "conn.query(\"\"\"INSERT INTO Cars VALUES(3,'Skoda',9000)\"\"\")\n",
    "conn.query(\"\"\"INSERT INTO Cars VALUES(4,'Volvo',29000)\"\"\")\n",
    "conn.query(\"\"\"INSERT INTO Cars VALUES(5,'Bentley',350000)\"\"\")\n",
    "conn.query(\"\"\"INSERT INTO Cars VALUES(6,'Citroen',21000)\"\"\")\n",
    "conn.query(\"\"\"INSERT INTO Cars VALUES(7,'Hummer',41400)\"\"\")\n",
    "conn.query(\"\"\"INSERT INTO Cars VALUES(8,'Volkswagen',21600)\"\"\")"
   ]
  },
  {
   "cell_type": "markdown",
   "metadata": {},
   "source": [
    "## Query data\n",
    "\n",
    "To fetch and display records from the Cars table, create a cursor and execute queries on it:"
   ]
  },
  {
   "cell_type": "code",
   "execution_count": 7,
   "metadata": {},
   "outputs": [
    {
     "data": {
      "text/plain": [
       "(1, 'Audi', 52642)"
      ]
     },
     "execution_count": 7,
     "metadata": {},
     "output_type": "execute_result"
    }
   ],
   "source": [
    "cursor=conn.cursor()\n",
    "cursor.execute(\"\"\"SELECT * FROM Cars\"\"\")\n",
    "cursor.fetchone()"
   ]
  },
  {
   "cell_type": "markdown",
   "metadata": {},
   "source": [
    "You can display the records neatly using pretty print:"
   ]
  },
  {
   "cell_type": "code",
   "execution_count": 8,
   "metadata": {},
   "outputs": [
    {
     "name": "stdout",
     "output_type": "stream",
     "text": [
      "\n",
      "Show me the databases:\n",
      "\n",
      "((2, 'Mercedes', 57127),\n",
      " (3, 'Skoda', 9000),\n",
      " (4, 'Volvo', 29000),\n",
      " (5, 'Bentley', 350000),\n",
      " (6, 'Citroen', 21000),\n",
      " (7, 'Hummer', 41400),\n",
      " (8, 'Volkswagen', 21600))\n"
     ]
    }
   ],
   "source": [
    "print (\"\\nShow me the databases:\\n\")\n",
    "rows = cursor.fetchall()\n",
    "import pprint\n",
    "pprint.pprint(rows)"
   ]
  },
  {
   "cell_type": "markdown",
   "metadata": {},
   "source": [
    "## Close the database connection\n",
    "It is good practice to close your database connection after work is done:"
   ]
  },
  {
   "cell_type": "code",
   "execution_count": 9,
   "metadata": {},
   "outputs": [],
   "source": [
    "conn.close()"
   ]
  },
  {
   "cell_type": "markdown",
   "metadata": {},
   "source": [
    "## Summary\n",
    "\n",
    "This notebook demonstrated how to establish a connection to a MySQL database from Python using the PyMySQL library. For more information on the PyMySQL package see the official [PyMySQL Documentation](http://pymysql.readthedocs.io/en/latest/)."
   ]
  },
  {
   "cell_type": "markdown",
   "metadata": {},
   "source": [
    "## Want to learn more?\n",
    "### Free courses on <a href=\"https://bigdatauniversity.com/courses/?utm_source=tutorial-dashdb-python&utm_medium=github&utm_campaign=bdu/\" rel=\"noopener noreferrer\" target=\"_blank\">Cognitive Class</a>: <a href=\"https://bigdatauniversity.com/courses/?utm_source=tutorial-dashdb-python&utm_medium=github&utm_campaign=bdu\" rel=\"noopener noreferrer\" target=\"_blank\"><img src = \"https://ibm.box.com/shared/static/xomeu7dacwufkoawbg3owc8wzuezltn6.png\" width=600px> </a>"
   ]
  },
  {
   "cell_type": "markdown",
   "metadata": {},
   "source": [
    "### Authors\n",
    "\n",
    "**Saeed Aghabozorgi**, PhD, is a Data Scientist in IBM with a track record of developing enterprise-level applications that substantially increases clients' ability to turn data into actionable knowledge. He is a researcher in the data mining field and an expert in developing advanced analytic methods like machine learning and statistical modelling on large data sets.\n",
    "\n",
    "**Polong Lin** is a Data Scientist at IBM in Canada. Under the Emerging Technologies division, Polong is responsible for educating the next generation of data scientists through Big Data University. Polong is a regular speaker in conferences and meetups, and holds an M.Sc. in Cognitive Psychology."
   ]
  },
  {
   "cell_type": "markdown",
   "metadata": {},
   "source": [
    "Copyright © 2016, 2018 Cognitive Class. This notebook and its source code are released under the terms of the <a href=\"https://bigdatauniversity.com/mit-license/\" rel=\"noopener noreferrer\" target=\"_blank\">MIT License</a>."
   ]
  }
 ],
 "metadata": {
  "kernelspec": {
   "display_name": "Python 3.5",
   "language": "python",
   "name": "python3"
  },
  "language_info": {
   "codemirror_mode": {
    "name": "ipython",
    "version": 3
   },
   "file_extension": ".py",
   "mimetype": "text/x-python",
   "name": "python",
   "nbconvert_exporter": "python",
   "pygments_lexer": "ipython3",
   "version": "3.5.4"
  }
 },
 "nbformat": 4,
 "nbformat_minor": 1
}
