{
 "cells": [
  {
   "cell_type": "markdown",
   "metadata": {},
   "source": [
    "<div style=\"background:#F5F7FA; height:100px; padding: 2em; font-size:14px;\">\n",
    "<span style=\"font-size:18px;color:#152935;\">Want to do more?</span><span style=\"border: 1px solid #3d70b2;padding: 15px;float:right;margin-right:40px; color:#3d70b2; \"><a href=\"https://ibm.co/wsnotebooks\" target=\"_blank\" style=\"color: #3d70b2;text-decoration: none;\">Sign Up</a></span><br>\n",
    "<span style=\"color:#5A6872;\"> Try out this notebook with your free trial of IBM Watson Studio.</span>\n",
    "</div>"
   ]
  },
  {
   "cell_type": "markdown",
   "metadata": {
    "collapsed": true
   },
   "source": [
    "# Monitor data flow usage using Watson Data APIs\n",
    "\n",
    "## Introduction\n",
    "\n",
    "It is useful to be able to generate monitoring reports which visualize usage of data flow runs. This tutorial uses the Watson Data Data Flow APIs to retrieve a filtered list of data flow run summaries for a project over a period of time in order to produce a usage report. This report will include graphs displaying totals for run completion states and data movement over time as well as a table displaying the same data grouped by data flow name.\n",
    "\n",
    "\n",
    "### Language and Spark version\n",
    "This notebook runs on Python and Spark.\n",
    "\n",
    "### Prerequisites\n",
    "This tutorial assumes you have an IBM Watson Data account with at least 1 project and you ran a data flow in the last day. See the following tutorial to get started [creating and running data flows using Watson Data APIs](https://dataplatform.ibm.com/exchange/public/entry/view/76deece1cf6f6f4bc3789678be94616d)."
   ]
  },
  {
   "cell_type": "markdown",
   "metadata": {},
   "source": [
    "## Table of contents\n",
    "\n",
    "1. [Setup](#setup)<br>\n",
    "    1.1 [Environments](#setup1)<br>\n",
    "    1.2 [Authorization](#setup2)<br>\n",
    "2. [Retrieve Project IDs and Names](#projects)<br>\n",
    "3. [Define a method to retrieve data flow run summaries](#summaries)<br>\n",
    "4. [Display a usage report using matplotlib and pandas dataframes](#report)<br>\n",
    "5. [Resources](#resources)"
   ]
  },
  {
   "cell_type": "markdown",
   "metadata": {},
   "source": [
    "## <a id=\"setup\"></a>1. Setup"
   ]
  },
  {
   "cell_type": "code",
   "execution_count": 1,
   "metadata": {},
   "outputs": [],
   "source": [
    "from datetime import datetime, timedelta\n",
    "from pandas.io.json import json_normalize\n",
    "import matplotlib.pyplot as plt\n",
    "%matplotlib inline \n",
    "\n",
    "import pandas as pd\n",
    "import numpy as np\n",
    "import requests\n",
    "import json\n",
    "import uuid"
   ]
  },
  {
   "cell_type": "markdown",
   "metadata": {},
   "source": [
    "#### <a id=\"setup1\"></a>1.1 Environments\n",
    "\n",
    "The data flows service is currently deployed only to the US South region of IBM Cloud. Use this environment URL in place of {service_URL} in the examples below:\n",
    "\n",
    "US south https://api.dataplatform.ibm.com"
   ]
  },
  {
   "cell_type": "code",
   "execution_count": 2,
   "metadata": {},
   "outputs": [],
   "source": [
    "service_URL = \"https://api.dataplatform.ibm.com\""
   ]
  },
  {
   "cell_type": "markdown",
   "metadata": {},
   "source": [
    "#### <a id=\"setup2\"></a>1.2 Authorization\n",
    "\n",
    "An IAM Bearer token is required in order to access Watson Data APIs. For information on how to generate an IAM token see [here](http://ibm.biz/wdp-api#getting)."
   ]
  },
  {
   "cell_type": "code",
   "execution_count": 3,
   "metadata": {},
   "outputs": [],
   "source": [
    "# Replace <IAM Access Token> with your generated IAM Access Token\n",
    "authorization = \"Bearer <IAM Access Token>\""
   ]
  },
  {
   "cell_type": "markdown",
   "metadata": {},
   "source": [
    "### <a id=\"projects\"></a>2. Retrieve Project IDs and Names\n",
    "Call the projects API to retrieve a list of all projects in the account and store a map of IDs and names."
   ]
  },
  {
   "cell_type": "code",
   "execution_count": 4,
   "metadata": {},
   "outputs": [
    {
     "data": {
      "text/plain": [
       "[['09866227-b51f-4eb7-9322-0dd7bebb6642', 'bmcos-project-02032018'],\n",
       " ['88fc51bd-8ef5-47a5-9df6-a364129fc73d', 'Default Project'],\n",
       " ['c2254fed-404d-4905-9b8c-5102f195cc0d', 'BMCOS-PROJECT-12022018'],\n",
       " ['d12f9685-2693-4c84-af48-3eb6c71e3013', 'BMCOS-Project71117']]"
      ]
     },
     "execution_count": 4,
     "metadata": {},
     "output_type": "execute_result"
    }
   ],
   "source": [
    "# GET https://api.dataplatform.ibm.com/v2/projects\n",
    "\n",
    "project_response = requests.get(service_URL + \"/v2/projects\", headers={'Authorization': authorization})\n",
    "projects_ = json.loads(project_response.text)[\"resources\"]\n",
    "projects = []\n",
    "\n",
    "for project in projects_:\n",
    "    projects.append([project[\"metadata\"][\"guid\"], project[\"entity\"][\"name\"]])\n",
    "\n",
    "projects"
   ]
  },
  {
   "cell_type": "markdown",
   "metadata": {},
   "source": [
    "### <a id=\"summaries\"></a>3. Define a method to retrieve data flow run summaries\n",
    "The `list_data_flow_run_summaries` method will retrieve a list of data flow runs for the given `project_id` that occurred later than `number_of_days` days ago.\n",
    "\n",
    "To retrieve a list of the latest summaries of all data flow runs in a project, call the following GET method:\n",
    "\n",
    "`GET https://{service_URL}/v2/data_flows/runs?project_id={project_id}`\n",
    "\n",
    "The value of data_flow_id is the metadata.asset_id from your data flow. The value of data_flow_run_id is the metadata.asset_id from your data flow run. An example response from this API call might be:\n",
    "\n",
    "```json\n",
    "{\n",
    "    \"runs\": [\n",
    "        {\n",
    "            \"metadata\": {\n",
    "                \"asset_id\": \"ed09488c-6d51-48c4-b190-7096f25645d5\",\n",
    "                \"asset_type\": \"data_flow_run\",\n",
    "                \"create_time\": \"2017-12-21T10:51:47.000Z\",\n",
    "                \"creator\": \"demo_dataflow_user@mailinator.com\",\n",
    "                \"href\": \"https://api.dataplatform.ibm.com/v2/data_flows/cfdacdb4-3180-466f-8d4c-be7badea5d64/runs/ed09488c-6d51-48c4-b190-7096f25645d5?project_id=ff1ab70b-0553-409a-93f9-ccc31471c218\",\n",
    "                \"project_id\": \"ff1ab70b-0553-409a-93f9-ccc31471c218\",\n",
    "                \"usage\": {\n",
    "                    \"last_modification_time\": \"2017-12-21T10:51:47.923Z\",\n",
    "                    \"last_modifier\": \"demo_dataflow_user@mailinator.com\",\n",
    "                    \"last_access_time\": \"2017-12-21T10:51:47.923Z\",\n",
    "                    \"last_accessor\": \"demo_dataflow_user@mailinator.com\",\n",
    "                    \"access_count\": 0\n",
    "                }\n",
    "            },\n",
    "            \"entity\": {\n",
    "                \"data_flow_ref\": \"cfdacdb4-3180-466f-8d4c-be7badea5d64\",\n",
    "                \"engine_state\": {\n",
    "                    \"session_cookie\": \"route=Spark; HttpOnly; Secure\",\n",
    "                    \"engine_run_id\": \"804d17bd-5ed0-4d89-ba38-ab7890d61e45\"\n",
    "                },\n",
    "                \"name\": \"my_dataflow\",\n",
    "                \"rov\": {\n",
    "                    \"mode\": 0,\n",
    "                    \"members\": []\n",
    "                },\n",
    "                \"state\": \"finished\",\n",
    "                \"summary\": {\n",
    "                    \"completed_date\": \"2018-01-03T16:58:05.726Z\",\n",
    "                    \"engine_elapsed_secs\": 9,\n",
    "                    \"engine_completed_date\": \"2018-01-03T16:58:05.360Z\",\n",
    "                    \"engine_started_date\": \"2018-01-03T16:57:56.211Z\",\n",
    "                    \"engine_status_date\": \"2018-01-03T16:58:05.360Z\",\n",
    "                    \"engine_submitted_date\": \"2018-01-03T16:57:46.044Z\",\n",
    "                    \"total_bytes_read\": 95466,\n",
    "                    \"total_bytes_written\": 42142,\n",
    "                    \"total_rows_read\": 766,\n",
    "                    \"total_rows_written\": 336\n",
    "                },\n",
    "                \"tags\": []\n",
    "            }\n",
    "        }\n",
    "    ]\n",
    "}\n",
    "```\n",
    "\n",
    "By default, all data flow runs are returned regardless of which data flow they are associated with or their current state. Filtering and sorting can be applied on certain attributes using query parameters. For example `metadata.create_time=gt:2018-01-03T09:00:00.000` filters runs such that only those created after 9 AM on January 3rd 2018 will be returned. If multiple filters are specified, they will be combined with the logical AND operator. \n",
    "\n",
    "For a full list of attributes that can be filtered and sorted, see [Watson Data API documentation](http://ibm.biz/wdp-api#doc) under Documentation > Data flow runs."
   ]
  },
  {
   "cell_type": "code",
   "execution_count": 5,
   "metadata": {},
   "outputs": [],
   "source": [
    "def list_data_flow_run_summaries(project_id, number_of_days=1):\n",
    "    # calculate current time - days in ISO format\n",
    "    from_date = (datetime.utcnow() - timedelta(days=number_of_days)).isoformat()\n",
    "    \n",
    "    # GET https://api.dataplatform.ibm.com/v2/data_flows/runs\n",
    "    filter_query = \"&metadata.create_time=gt:\" + from_date\n",
    "    runs_response = requests.get(service_URL + \"/v2/data_flows/runs?project_id=\" + project_id + filter_query, headers={'Authorization': authorization})\n",
    "    runs = json.loads(runs_response.text)[\"runs\"]\n",
    "    return runs"
   ]
  },
  {
   "cell_type": "markdown",
   "metadata": {},
   "source": [
    "### <a id=\"report\"></a>4. Display a usage report using matplotlib and pandas dataframes\n",
    "The following code calls the `list_data_flow_run_summaries` method to retrieve the runs over the past day for the specified project. The json response is normalized and converted into a DataFrame so we can extract the information we need easily. This also allows us to structure the data so that it can be easily reshaped to produce different graphs.\n",
    "\n",
    "The first graph is a time-series stacked bar graph that plots the hourly totals for completed states (finished, error, and so on).\n",
    "\n",
    "The second graph is another time-series bar graph that plots the hourly totals of the number of megabytes read and written.\n",
    "\n",
    "Finally the table displays total completed states megabytes read and written, grouped by run name."
   ]
  },
  {
   "cell_type": "code",
   "execution_count": 6,
   "metadata": {},
   "outputs": [
    {
     "data": {
      "image/png": "[encoded data removed]",
      "text/plain": [
       "<matplotlib.figure.Figure at 0x7fc4c8555278>"
      ]
     },
     "metadata": {},
     "output_type": "display_data"
    },
    {
     "data": {
      "image/png": "[encoded data removed]",
      "text/plain": [
       "<matplotlib.figure.Figure at 0x7fc4c83fb7f0>"
      ]
     },
     "metadata": {},
     "output_type": "display_data"
    },
    {
     "data": {
      "text/html": [
       "<div>\n",
       "<style scoped>\n",
       "    .dataframe tbody tr th:only-of-type {\n",
       "        vertical-align: middle;\n",
       "    }\n",
       "\n",
       "    .dataframe tbody tr th {\n",
       "        vertical-align: top;\n",
       "    }\n",
       "\n",
       "    .dataframe thead th {\n",
       "        text-align: right;\n",
       "    }\n",
       "</style>\n",
       "<table border=\"1\" class=\"dataframe\">\n",
       "  <thead>\n",
       "    <tr style=\"text-align: right;\">\n",
       "      <th></th>\n",
       "      <th>0_error</th>\n",
       "      <th>0_finished</th>\n",
       "      <th>entity.summary.total_bytes_read</th>\n",
       "      <th>entity.summary.total_bytes_written</th>\n",
       "    </tr>\n",
       "    <tr>\n",
       "      <th>entity.name</th>\n",
       "      <th></th>\n",
       "      <th></th>\n",
       "      <th></th>\n",
       "      <th></th>\n",
       "    </tr>\n",
       "  </thead>\n",
       "  <tbody>\n",
       "    <tr>\n",
       "      <th>BrokenDataFlow</th>\n",
       "      <td>1.0</td>\n",
       "      <td>0.0</td>\n",
       "      <td>0.000000</td>\n",
       "      <td>0.000000</td>\n",
       "    </tr>\n",
       "    <tr>\n",
       "      <th>Customer demographics and sales.csv_flow</th>\n",
       "      <td>0.0</td>\n",
       "      <td>26.0</td>\n",
       "      <td>107.895874</td>\n",
       "      <td>95.476982</td>\n",
       "    </tr>\n",
       "    <tr>\n",
       "      <th>RemoveDuplicates Customer Demographic and Sales flow</th>\n",
       "      <td>0.0</td>\n",
       "      <td>27.0</td>\n",
       "      <td>112.045715</td>\n",
       "      <td>38.349890</td>\n",
       "    </tr>\n",
       "  </tbody>\n",
       "</table>\n",
       "</div>"
      ],
      "text/plain": [
       "                                                    0_error  0_finished  \\\n",
       "entity.name                                                               \n",
       "BrokenDataFlow                                          1.0         0.0   \n",
       "Customer demographics and sales.csv_flow                0.0        26.0   \n",
       "RemoveDuplicates Customer Demographic and Sales...      0.0        27.0   \n",
       "\n",
       "                                                    entity.summary.total_bytes_read  \\\n",
       "entity.name                                                                           \n",
       "BrokenDataFlow                                                             0.000000   \n",
       "Customer demographics and sales.csv_flow                                 107.895874   \n",
       "RemoveDuplicates Customer Demographic and Sales...                       112.045715   \n",
       "\n",
       "                                                    entity.summary.total_bytes_written  \n",
       "entity.name                                                                             \n",
       "BrokenDataFlow                                                                0.000000  \n",
       "Customer demographics and sales.csv_flow                                     95.476982  \n",
       "RemoveDuplicates Customer Demographic and Sales...                           38.349890  "
      ]
     },
     "execution_count": 6,
     "metadata": {},
     "output_type": "execute_result"
    }
   ],
   "source": [
    "# The number of days we want to report usage for\n",
    "days = 1\n",
    "\n",
    "# The list of data flow run summaries from the BMCOS-PROJECT-12022018 project\n",
    "# ['c2254fed-404d-4905-9b8c-5102f195cc0d', 'BMCOS-PROJECT-12022018']\n",
    "runs = list_data_flow_run_summaries(projects[2][0], number_of_days=days)\n",
    "\n",
    "# Convert the json response into a normalized DataFrame, selecting the dot-notated columns we require\n",
    "runs_normalized = json_normalize(runs)\n",
    "runs_df = pd.DataFrame(runs_normalized, columns=[\"entity.name\", \"entity.state\", \"entity.summary.completed_date\", \"entity.summary.total_bytes_written\", \"entity.summary.total_bytes_read\"])\n",
    "\n",
    "# We want to display some time-series data, so ensure the \"entity.summary.completed_date\" string is in datetime format and\n",
    "# set this as the DataFrame index\n",
    "runs_df['entity.summary.completed_date'] = pd.to_datetime(runs_df['entity.summary.completed_date'])\n",
    "runs_df.index = runs_df['entity.summary.completed_date']\n",
    "del runs_df['entity.summary.completed_date']\n",
    "\n",
    "# reshape to in order to plot the total states grouped by hour\n",
    "runs_df2 = pd.get_dummies(runs_df['entity.state'].apply(lambda x: pd.Series(x)))\n",
    "runs_df2 = runs_df2.resample('H').sum()\n",
    "\n",
    "# plot the time-series bar chart\n",
    "ax = runs_df2.plot(kind='bar', x=runs_df2.index, stacked=True, align='center')\n",
    "plt.title('Data flow runs over the past ' + str(days) + ' day(s) per hour')\n",
    "plt.ylabel('no. data flow runs')\n",
    "fig = plt.gcf()\n",
    "fig.autofmt_xdate()\n",
    "fig.set_size_inches(18.5, 8)\n",
    "plt.grid()\n",
    "plt.show()\n",
    "\n",
    "# plot the time-series bar charts for MB read/written\n",
    "runs_df3 = runs_df\n",
    "runs_df3['entity.summary.total_bytes_read'] /= (1024 * 1024)\n",
    "runs_df3['entity.summary.total_bytes_written'] /= (1024 * 1024)\n",
    "runs_df3 = runs_df3.resample('H').sum()\n",
    "\n",
    "runs_df3.fillna(0).plot(kind='bar', x=runs_df3.index, color=[\"green\",\"red\"], stacked=False, align='center')\n",
    "plt.title('MB read/written over the past ' + str(days) + ' day(s) per hour')\n",
    "plt.ylabel('no. MB read/written')\n",
    "plt.grid()\n",
    "fig = plt.gcf()\n",
    "fig.autofmt_xdate()\n",
    "fig.set_size_inches(18.5, 8)\n",
    "plt.show()\n",
    "\n",
    "# Display the count of completed states and MB read/written grouped by data flow run name\n",
    "runs_df4 = runs_df\n",
    "runs_df4.index = runs_df['entity.name']\n",
    "del runs_df4['entity.name']\n",
    "runs_df5 = pd.get_dummies(runs_df4['entity.state'].apply(lambda x: pd.Series(x)))\n",
    "runs_df6 = pd.concat([runs_df5, runs_df4])\n",
    "runs_df6.fillna(0).groupby(runs_df6.index).sum()"
   ]
  },
  {
   "cell_type": "markdown",
   "metadata": {},
   "source": [
    "## <a id=\"resources\"></a>5. Resources ##\n",
    "For further information, see [Watson Data services](http://ibm.biz/wdp-api)"
   ]
  },
  {
   "cell_type": "markdown",
   "metadata": {},
   "source": [
    "## Author\n",
    "Damian Cummins is a Cloud Application Developer with the Data Refinery and Watson Data teams at IBM. "
   ]
  },
  {
   "cell_type": "markdown",
   "metadata": {},
   "source": [
    "Copyright © IBM Corp. 2018. This notebook and its source code are released under the terms of the MIT License."
   ]
  }
 ],
 "metadata": {
  "kernelspec": {
   "display_name": "Python 3.5 with Spark 2.1",
   "language": "python",
   "name": "python3-spark21"
  },
  "language_info": {
   "codemirror_mode": {
    "name": "ipython",
    "version": 3
   },
   "file_extension": ".py",
   "mimetype": "text/x-python",
   "name": "python",
   "nbconvert_exporter": "python",
   "pygments_lexer": "ipython3",
   "version": "3.5.4"
  }
 },
 "nbformat": 4,
 "nbformat_minor": 1
}
