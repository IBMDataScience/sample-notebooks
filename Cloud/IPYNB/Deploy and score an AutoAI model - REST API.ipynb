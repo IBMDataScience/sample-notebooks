{
 "cells": [
  {
   "cell_type": "markdown",
   "metadata": {},
   "source": [
    "<table style=\"border: none\" align=\"left\">\n",
    "   <tr style=\"border: none\">\n",
    "      <th style=\"border: none\"><font face=\"verdana\" size=\"5\" color=\"black\"><b>Deploy and score an AutoAI model using the REST API</b></th>\n",
    "      <th style=\"border: none\"><img src=\"https://github.com/pmservice/customer-satisfaction-prediction/blob/master/app/static/images/ml_icon_gray.png?raw=true\" alt=\"Watson Machine Learning icon\" height=\"40\" width=\"40\"></th>\n",
    "   </tr>\n",
    "</table>"
   ]
  },
  {
   "cell_type": "markdown",
   "metadata": {},
   "source": [
    "This notebook will take you through the steps of using the REST API to deploy and score an AutoAI model made with the <a href=\"https://dataplatform.cloud.ibm.com/exchange/public/entry/view/50fa9246181026cd7ae2a5bc7ea444e6\" target=\"_blank\" rel=\"noopener noreferrer\">Bank Marketing</a> data set."
   ]
  },
  {
   "cell_type": "markdown",
   "metadata": {},
   "source": [
    "**<a href=\"https://dataplatform.cloud.ibm.com/docs/content/wsj/analyze-data/autoai-overview.html\" target=\"_blank\" rel=\"noopener noreferrer\">AutoAI</a>** is a tool on Watson Studio that automatically analyzes data and builds model pipelines with an uploaded data set. AutoAI employs algorithms to infer patterns from your data, prepare the data, and modify the data, all the while requiring minimal user input. The AutoAI process follows the following steps\n",
    "- Data preprocessing\n",
    "- Automated model selection\n",
    "- Automated feature engineering\n",
    "- Hyperparameter optimization\n",
    "\n",
    "After the tool has finished building the model pipelines, it will list all the models on a leaderboard, ranked by a metric of the user's choosing such as accuracy, precision, or ROC-AUC (based on the prediction type)."
   ]
  },
  {
   "cell_type": "markdown",
   "metadata": {},
   "source": [
    "You will use the Bank Marketing data set available on the <a href=\"https://archive.ics.uci.edu/ml/datasets/Bank+Marketing\" target=\"_blank\" rel=\"noopener noreferrer\">UCI Machine Learning Repository</a>. This data deals with a Portuguese banking institution's marketing campaign, which used phone calls to determine whether customers would subscribe to a term deposit."
   ]
  },
  {
   "cell_type": "markdown",
   "metadata": {},
   "source": [
    "The notebook uses Python and the Watson Machine Learning REST API to manage the deployments."
   ]
  },
  {
   "cell_type": "markdown",
   "metadata": {},
   "source": [
    "## 1. Setting up <a id=\"setup\"></a>"
   ]
  },
  {
   "cell_type": "markdown",
   "metadata": {},
   "source": [
    "**Action:** Before you proceed with the steps in this notebook, please ensure that you've completed the following:\n",
    "1. Get a <a href=\"https://cloud.ibm.com/catalog/services/machine-learning\" target=\"_blank\" rel=\"noopener noreferrer\">Watson Machine Learning (WML) Service</a> instance (a free plan is offered and information about how to create an instance can be found <a href=\"https://dataplatform.cloud.ibm.com/docs/content/wsj/analyze-data/wml-setup.html\" target=\"_blank\" rel=\"noopener noreferrer\">here</a>).\n",
    "2. Go to the <a href=\"https://dataplatform.cloud.ibm.com/exchange/public/entry/view/50fa9246181026cd7ae2a5bc7ea444e6\" target=\"_blank\" rel=\"noopener noreferrer\">Bank Marketing</a> data set in the Watson Studio Gallery.\n",
    "3. Load the .csv file as a Data Asset in your project by clicking the **Add to Project** button in the upper-right corner of the page. Select your project name and click **Add**. You can now view the data set in your project.\n",
    "4. In the next step, you will <a href=\"https://dataplatform.cloud.ibm.com/docs/content/wsj/analyze-data/autoai-build.html\" target=\"_blank\" rel=\"noopener noreferrer\">build an AutoAI model</a>."
   ]
  },
  {
   "cell_type": "markdown",
   "metadata": {},
   "source": [
    "## 2. Build an AutoAI model"
   ]
  },
  {
   "cell_type": "markdown",
   "metadata": {},
   "source": [
    "1. In your Watson Studio project, click **Add to project**. Then, click **AutoAI Experiment**.\n",
    "2. Make sure you have **From Sample** selected. Specify a name and description for your experiment and click **Create**.\n",
    "3. To add the training data, choose the Bank Marketing .csv file from your project. You'll now see an option to select the column to predict. \n",
    "4. Select the column named `y`. Based on analyzing a subset of the data set, AutoAI will choose a default model type: binary classification. \n",
    "5. Click **Run Experiment** to begin the model pipeline creation.\n",
    "6. When the pipeline generation process completes, you can view the leading model candidates and <a href=\"https://dataplatform.cloud.ibm.com/docs/content/wsj/analyze-data/autoai-view-results.html\" target=\"_blank\" rel=\"noopener noreferrer\">evaluate</a> them before saving a pipeline as a model. The default ranking metric for binary classification models is the area under the ROC curve, so with Ranking based on `ROC AUC`, select the top pipeline. Click **Save as model**. "
   ]
  },
  {
   "cell_type": "markdown",
   "metadata": {},
   "source": [
    "## 3. Deploy the model"
   ]
  },
  {
   "cell_type": "markdown",
   "metadata": {},
   "source": [
    "1. Once you've saved the model from your AutoAI Experiment, go back to the **Assets** tab of your project. You'll find the model you saved under the **Models** section. \n",
    "2. Click on your model, navigate to the **Deployments** tab, and select **Add Deployment**. \n",
    "3. Select your deployment once it's ready and copy the `Scoring End-point` under the **Implementation** tab."
   ]
  },
  {
   "cell_type": "code",
   "execution_count": 1,
   "metadata": {},
   "outputs": [],
   "source": [
    "scoring_url = \"Copy the scoring end-point here\""
   ]
  },
  {
   "cell_type": "markdown",
   "metadata": {},
   "source": [
    "## 4. Score"
   ]
  },
  {
   "cell_type": "markdown",
   "metadata": {},
   "source": [
    "### Load the data"
   ]
  },
  {
   "cell_type": "markdown",
   "metadata": {},
   "source": [
    "1. Load the Bank Marketing .csv file into your notebook. Click the Data icon on the notebook action bar. Scroll through your list of assets to find the Bank Marketing .csv that you added to your project [earlier](#setup). **Note**: If you can't find the data asset, reload your notebook. To load the data into a DataFrame, click in the next code cell and select **Insert to code > Insert Pandas DataFrame** under the file name.\n",
    "2. Rename `df_data_x` to `df_data_1`.\n",
    "3. Run the cell."
   ]
  },
  {
   "cell_type": "code",
   "execution_count": 2,
   "metadata": {},
   "outputs": [
    {
     "data": {
      "text/html": [
       "<div>\n",
       "<style scoped>\n",
       "    .dataframe tbody tr th:only-of-type {\n",
       "        vertical-align: middle;\n",
       "    }\n",
       "\n",
       "    .dataframe tbody tr th {\n",
       "        vertical-align: top;\n",
       "    }\n",
       "\n",
       "    .dataframe thead th {\n",
       "        text-align: right;\n",
       "    }\n",
       "</style>\n",
       "<table border=\"1\" class=\"dataframe\">\n",
       "  <thead>\n",
       "    <tr style=\"text-align: right;\">\n",
       "      <th></th>\n",
       "      <th>age</th>\n",
       "      <th>job</th>\n",
       "      <th>marital</th>\n",
       "      <th>education</th>\n",
       "      <th>default</th>\n",
       "      <th>balance</th>\n",
       "      <th>housing</th>\n",
       "      <th>loan</th>\n",
       "      <th>contact</th>\n",
       "      <th>day</th>\n",
       "      <th>month</th>\n",
       "      <th>duration</th>\n",
       "      <th>campaign</th>\n",
       "      <th>pdays</th>\n",
       "      <th>previous</th>\n",
       "      <th>poutcome</th>\n",
       "      <th>y</th>\n",
       "    </tr>\n",
       "  </thead>\n",
       "  <tbody>\n",
       "    <tr>\n",
       "      <th>0</th>\n",
       "      <td>30</td>\n",
       "      <td>unemployed</td>\n",
       "      <td>married</td>\n",
       "      <td>primary</td>\n",
       "      <td>no</td>\n",
       "      <td>1787</td>\n",
       "      <td>no</td>\n",
       "      <td>no</td>\n",
       "      <td>cellular</td>\n",
       "      <td>19</td>\n",
       "      <td>oct</td>\n",
       "      <td>79</td>\n",
       "      <td>1</td>\n",
       "      <td>-1</td>\n",
       "      <td>0</td>\n",
       "      <td>unknown</td>\n",
       "      <td>no</td>\n",
       "    </tr>\n",
       "    <tr>\n",
       "      <th>1</th>\n",
       "      <td>33</td>\n",
       "      <td>services</td>\n",
       "      <td>married</td>\n",
       "      <td>secondary</td>\n",
       "      <td>no</td>\n",
       "      <td>4789</td>\n",
       "      <td>yes</td>\n",
       "      <td>yes</td>\n",
       "      <td>cellular</td>\n",
       "      <td>11</td>\n",
       "      <td>may</td>\n",
       "      <td>220</td>\n",
       "      <td>1</td>\n",
       "      <td>339</td>\n",
       "      <td>4</td>\n",
       "      <td>failure</td>\n",
       "      <td>no</td>\n",
       "    </tr>\n",
       "    <tr>\n",
       "      <th>2</th>\n",
       "      <td>35</td>\n",
       "      <td>management</td>\n",
       "      <td>single</td>\n",
       "      <td>tertiary</td>\n",
       "      <td>no</td>\n",
       "      <td>1350</td>\n",
       "      <td>yes</td>\n",
       "      <td>no</td>\n",
       "      <td>cellular</td>\n",
       "      <td>16</td>\n",
       "      <td>apr</td>\n",
       "      <td>185</td>\n",
       "      <td>1</td>\n",
       "      <td>330</td>\n",
       "      <td>1</td>\n",
       "      <td>failure</td>\n",
       "      <td>no</td>\n",
       "    </tr>\n",
       "    <tr>\n",
       "      <th>3</th>\n",
       "      <td>30</td>\n",
       "      <td>management</td>\n",
       "      <td>married</td>\n",
       "      <td>tertiary</td>\n",
       "      <td>no</td>\n",
       "      <td>1476</td>\n",
       "      <td>yes</td>\n",
       "      <td>yes</td>\n",
       "      <td>unknown</td>\n",
       "      <td>3</td>\n",
       "      <td>jun</td>\n",
       "      <td>199</td>\n",
       "      <td>4</td>\n",
       "      <td>-1</td>\n",
       "      <td>0</td>\n",
       "      <td>unknown</td>\n",
       "      <td>no</td>\n",
       "    </tr>\n",
       "    <tr>\n",
       "      <th>4</th>\n",
       "      <td>59</td>\n",
       "      <td>blue-collar</td>\n",
       "      <td>married</td>\n",
       "      <td>secondary</td>\n",
       "      <td>no</td>\n",
       "      <td>0</td>\n",
       "      <td>yes</td>\n",
       "      <td>no</td>\n",
       "      <td>unknown</td>\n",
       "      <td>5</td>\n",
       "      <td>may</td>\n",
       "      <td>226</td>\n",
       "      <td>1</td>\n",
       "      <td>-1</td>\n",
       "      <td>0</td>\n",
       "      <td>unknown</td>\n",
       "      <td>no</td>\n",
       "    </tr>\n",
       "  </tbody>\n",
       "</table>\n",
       "</div>"
      ],
      "text/plain": [
       "   age          job  marital  education default  balance housing loan  \\\n",
       "0   30   unemployed  married    primary      no     1787      no   no   \n",
       "1   33     services  married  secondary      no     4789     yes  yes   \n",
       "2   35   management   single   tertiary      no     1350     yes   no   \n",
       "3   30   management  married   tertiary      no     1476     yes  yes   \n",
       "4   59  blue-collar  married  secondary      no        0     yes   no   \n",
       "\n",
       "    contact  day month  duration  campaign  pdays  previous poutcome   y  \n",
       "0  cellular   19   oct        79         1     -1         0  unknown  no  \n",
       "1  cellular   11   may       220         1    339         4  failure  no  \n",
       "2  cellular   16   apr       185         1    330         1  failure  no  \n",
       "3   unknown    3   jun       199         4     -1         0  unknown  no  \n",
       "4   unknown    5   may       226         1     -1         0  unknown  no  "
      ]
     },
     "execution_count": 2,
     "metadata": {},
     "output_type": "execute_result"
    }
   ],
   "source": [
    "# Load Bank Marketing data as dataframe\n",
    "import types\n",
    "import pandas as pd\n",
    "from botocore.client import Config\n",
    "import ibm_boto3\n",
    "\n",
    "def __iter__(self): return 0\n",
    "\n",
    "# @hidden_cell\n",
    "# The following code accesses a file in your IBM Cloud Object Storage. It includes your credentials.\n",
    "# You might want to remove those credentials before you share the notebook.\n",
    "client_985f24d93a7243aeb65f8aba59f75706 = ibm_boto3.client(service_name='s3',\n",
    "    ibm_api_key_id='0xUoGllZR1Mibim6B4wEd26AllWNzgv64u1MjDkTBwrE',\n",
    "    ibm_auth_endpoint=\"https://iam.ng.bluemix.net/oidc/token\",\n",
    "    config=Config(signature_version='oauth'),\n",
    "    endpoint_url='https://s3-api.us-geo.objectstorage.service.networklayer.com')\n",
    "\n",
    "body = client_985f24d93a7243aeb65f8aba59f75706.get_object(Bucket='wastonmachinelearningcommunitynot-donotdelete-pr-pnbylejs5jpqwu',Key='bank.csv')['Body']\n",
    "# add missing __iter__ method, so pandas accepts body as file-like object\n",
    "if not hasattr(body, \"__iter__\"): body.__iter__ = types.MethodType( __iter__, body )\n",
    "\n",
    "df_data_1 = pd.read_csv(body)\n",
    "df_data_1.head()"
   ]
  },
  {
   "cell_type": "markdown",
   "metadata": {},
   "source": [
    "Here, you can see a preview of the Bank Marketing data set.\n",
    "\n",
    "In the next step, you will learn how to use the REST API."
   ]
  },
  {
   "cell_type": "markdown",
   "metadata": {},
   "source": [
    "### REST API"
   ]
  },
  {
   "cell_type": "markdown",
   "metadata": {},
   "source": [
    "First, you'll have to <a href=\"https://dataplatform.cloud.ibm.com/docs/content/wsj/analyze-data/ml-authentication.html#python-example\" target=\"_blank\" rel=\"noopener noreferrer\">generate an IAM token</a> in order to use the Watson Machine Learning REST API. The IAM token requires an `apikey` for authentication, so you may need to generate new Service Credentials if you do not already have one."
   ]
  },
  {
   "cell_type": "markdown",
   "metadata": {},
   "source": [
    "**Tip**: Authentication information (your credentials) can be found in the <a href=\"https://dataplatform.cloud.ibm.com/docs/content/wsj/analyze-data/ml-get-wml-credentials.html\" target=\"_blank\" rel=\"noopener noreferrer\">Service Credentials</a> tab of the service instance that you created on the IBM Cloud. <BR>If you cannot find the **instance_id** field in **Service Credentials**, click **New credential (+)** to generate new authentication information."
   ]
  },
  {
   "cell_type": "markdown",
   "metadata": {},
   "source": [
    "Once you have your credentials, copy the `apikey` and the `instance_id` and paste them in the cell below."
   ]
  },
  {
   "cell_type": "code",
   "execution_count": 3,
   "metadata": {},
   "outputs": [],
   "source": [
    "# Paste your Watson Machine Learning service apikey and isntance_id here\n",
    "apikey = \"****\"\n",
    "ml_instance_id = \"****\""
   ]
  },
  {
   "cell_type": "markdown",
   "metadata": {},
   "source": [
    "Run the following cell to generate the IAM token."
   ]
  },
  {
   "cell_type": "code",
   "execution_count": 4,
   "metadata": {},
   "outputs": [],
   "source": [
    "import requests\n",
    "\n",
    "# Get an IAM token from IBM Cloud\n",
    "url     = \"https://iam.bluemix.net/oidc/token\"\n",
    "headers = { \"Content-Type\" : \"application/x-www-form-urlencoded\" }\n",
    "data    = \"apikey=\" + apikey + \"&grant_type=urn:ibm:params:oauth:grant-type:apikey\"\n",
    "IBM_cloud_IAM_uid = \"bx\"\n",
    "IBM_cloud_IAM_pwd = \"bx\"\n",
    "response  = requests.post( url, headers=headers, data=data, auth=( IBM_cloud_IAM_uid, IBM_cloud_IAM_pwd ) )\n",
    "iam_token = response.json()[\"access_token\"]"
   ]
  },
  {
   "cell_type": "markdown",
   "metadata": {},
   "source": [
    "Prepare the scoring payload with the records to score. The HTTP header will require the `instance_id` from your service credentials."
   ]
  },
  {
   "cell_type": "code",
   "execution_count": 5,
   "metadata": {},
   "outputs": [
    {
     "name": "stdout",
     "output_type": "stream",
     "text": [
      "{'input_data': [{'fields': ['age',\n",
      "                            'job',\n",
      "                            'marital',\n",
      "                            'education',\n",
      "                            'default',\n",
      "                            'balance',\n",
      "                            'housing',\n",
      "                            'loan',\n",
      "                            'contact',\n",
      "                            'day',\n",
      "                            'month',\n",
      "                            'duration',\n",
      "                            'campaign',\n",
      "                            'pdays',\n",
      "                            'previous',\n",
      "                            'poutcome',\n",
      "                            'y'],\n",
      "                 'values': [[30,\n",
      "                             'unemployed',\n",
      "                             'married',\n",
      "                             'primary',\n",
      "                             'no',\n",
      "                             1787,\n",
      "                             'no',\n",
      "                             'no',\n",
      "                             'cellular',\n",
      "                             19,\n",
      "                             'oct',\n",
      "                             79,\n",
      "                             1,\n",
      "                             -1,\n",
      "                             0,\n",
      "                             'unknown',\n",
      "                             'no'],\n",
      "                            [20,\n",
      "                             'student',\n",
      "                             'single',\n",
      "                             'secondary',\n",
      "                             'no',\n",
      "                             502,\n",
      "                             'no',\n",
      "                             'no',\n",
      "                             'cellular',\n",
      "                             30,\n",
      "                             'apr',\n",
      "                             261,\n",
      "                             1,\n",
      "                             -1,\n",
      "                             0,\n",
      "                             'unknown',\n",
      "                             'yes']]}]}\n"
     ]
    }
   ],
   "source": [
    "import urllib3, json\n",
    "from pprint import pprint\n",
    "\n",
    "# NOTE: generate iam_token and retrieve ml_instance_id based on provided documentation\n",
    "header = {\"Content-Type\": \"application/json\", \"Authorization\": \"Bearer \" + iam_token, \"ML-Instance-ID\": ml_instance_id}\n",
    "\n",
    "# NOTE: manually define and pass the array(s) of values to be scored in the next line\n",
    "payload_scoring = {\n",
    "    \"input_data\": [{\n",
    "        \"fields\": [\"age\", \"job\", \"marital\", \"education\", \"default\", \"balance\", \"housing\",\n",
    "       \"loan\", \"contact\", \"day\", \"month\", \"duration\", \"campaign\", \"pdays\",\n",
    "       \"previous\", \"poutcome\", \"y\"],\n",
    "        \"values\": [[30, \"unemployed\", \"married\", \"primary\", \"no\", 1787, \"no\", \"no\", \"cellular\", 19, \"oct\", 79, 1, -1, 0, \"unknown\", \"no\"],\n",
    "                   [20, \"student\", \"single\", \"secondary\", \"no\", 502, \"no\", \"no\", \"cellular\", 30, \"apr\", 261, 1, -1, 0, \"unknown\", \"yes\"]]\n",
    "    }]\n",
    "}\n",
    "pprint(payload_scoring)"
   ]
  },
  {
   "cell_type": "markdown",
   "metadata": {},
   "source": [
    "Now, you can use the REST API, the scoring endpoint, and the payload you've prepared to score the deployed model."
   ]
  },
  {
   "cell_type": "code",
   "execution_count": 6,
   "metadata": {
    "scrolled": false
   },
   "outputs": [
    {
     "name": "stdout",
     "output_type": "stream",
     "text": [
      "Scoring response\n",
      "{'predictions': [{'fields': ['prediction', 'probability'],\n",
      "                  'values': [[0.0, [0.9732180907567131, 0.02678190924328699]],\n",
      "                             [1.0,\n",
      "                              [0.24594307548171945, 0.7540569245182805]]]}]}\n"
     ]
    }
   ],
   "source": [
    "# NOTE: obtain scoring url of deployment\n",
    "\n",
    "response_scoring = requests.post(scoring_url, json=payload_scoring, headers=header)\n",
    "print(\"Scoring response\")\n",
    "pprint(json.loads(response_scoring.text))"
   ]
  },
  {
   "cell_type": "markdown",
   "metadata": {},
   "source": [
    "You can see that the first client is predicted to have **not been subscribed** a term deposit with a probability of 0.97. The second client is predicted to have been **subscribed** a term deposit with a probability of 0.75."
   ]
  },
  {
   "cell_type": "markdown",
   "metadata": {},
   "source": [
    "## 5. Summary and next steps"
   ]
  },
  {
   "cell_type": "markdown",
   "metadata": {},
   "source": [
    "You have successfully completed this notebook! \n",
    "\n",
    "You learned how to use deploy and score an AutoAI model using the REST API. \n",
    "\n",
    "Check out our <a href=\"https://dataplatform.ibm.com/docs/content/analyze-data/wml-setup.html\" target=\"_blank\" rel=\"noopener no referrer\">Online Documentation</a> for more samples, tutorials, documentation, how-tos, and blog posts. "
   ]
  },
  {
   "cell_type": "markdown",
   "metadata": {},
   "source": [
    "### Citation\n",
    "\n",
    "Moro, S., Cortez, P., & Rita, P. (2014). A data-driven approach to predict the success of bank telemarketing. Decision Support Systems, 62, 22-31."
   ]
  },
  {
   "cell_type": "markdown",
   "metadata": {},
   "source": [
    "### Authors\n",
    "\n",
    "**Ananya Kaushik** is a Data Scientist at IBM."
   ]
  },
  {
   "cell_type": "markdown",
   "metadata": {},
   "source": [
    "Copyright © 2019 IBM. This notebook and its source code are released under the terms of the MIT License."
   ]
  },
  {
   "cell_type": "markdown",
   "metadata": {},
   "source": [
    "<div style='background:#F5F7FA; height:110px; padding: 2em; font-size:14px;'>\n",
    "<span style='font-size:18px;color:#152935;'>Love this notebook? </span>\n",
    "<span style='font-size:15px;color:#152935;float:right;margin-right:40px;'>Don't have an account yet?</span><br>\n",
    "<span style='color:#5A6872;'>Share it with your colleagues and help them discover the power of Watson Studio!</span>\n",
    "<span style='border: 1px solid #3d70b2;padding:8px;float:right;margin-right:40px; color:#3d70b2;'><a href='https://ibm.co/wsnotebooks' target='_blank' style='color: #3d70b2;text-decoration: none;'>Sign Up</a></span><br>\n",
    "</div>"
   ]
  }
 ],
 "metadata": {
  "kernelspec": {
   "display_name": "Python 3.6",
   "language": "python",
   "name": "python3"
  },
  "language_info": {
   "codemirror_mode": {
    "name": "ipython",
    "version": 3
   },
   "file_extension": ".py",
   "mimetype": "text/x-python",
   "name": "python",
   "nbconvert_exporter": "python",
   "pygments_lexer": "ipython3",
   "version": "3.6.8"
  }
 },
 "nbformat": 4,
 "nbformat_minor": 1
}
