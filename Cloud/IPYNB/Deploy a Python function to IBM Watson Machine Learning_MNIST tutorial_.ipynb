{
 "cells": [
  {
   "cell_type": "markdown",
   "metadata": {},
   "source": [
    "# Deploy a Python function to IBM Watson Machine Learning (MNIST tutorial)\n",
    "\n",
    "Create and deploy a function that receives HTML canvas image data from a web app and then processes and sends that data to a model trained to recognize handwritten digits.\n",
    "\n",
    "This notebook runs on Python.\n",
    "\n",
    "See: <a href=\"https://dataplatform.cloud.ibm.com/docs/content/analyze-data/ml-deployed-func-mnist-tutorial.html\" target=\"_blank\">MNIST function deployment tutorial</a>\n",
    "\n",
    "1. [Install and import required packages and libraries](#step1)\n",
    "2. [Instantiate a Watson Machine Learning client object](#step2)\n",
    "3. [Get an endpoint URL for a model deployment](#step3)\n",
    "4. [Get sample canvas data](#step4)\n",
    "5. [Create a deployable function](#step5)\n",
    "6. [Store and deploy the function](#step6)\n",
    "7. [Test the deployed function](#step7)"
   ]
  },
  {
   "cell_type": "markdown",
   "metadata": {},
   "source": [
    "## <a id=\"step1\"></a> 1. Install and import required packages and libraries"
   ]
  },
  {
   "cell_type": "code",
   "execution_count": null,
   "metadata": {},
   "outputs": [],
   "source": [
    "!pip install --upgrade wget"
   ]
  },
  {
   "cell_type": "code",
   "execution_count": null,
   "metadata": {},
   "outputs": [],
   "source": [
    "!pip install --upgrade watson-machine-learning-client"
   ]
  },
  {
   "cell_type": "code",
   "execution_count": 3,
   "metadata": {},
   "outputs": [],
   "source": [
    "import os, wget, json\n",
    "from watson_machine_learning_client import WatsonMachineLearningAPIClient\n",
    "import numpy as np\n",
    "import matplotlib.pyplot as plt\n",
    "import requests"
   ]
  },
  {
   "cell_type": "markdown",
   "metadata": {},
   "source": [
    "## <a id=\"step2\"></a> 2. Instantiate a Watson Machine Learning client object\n",
    "\n",
    "Paste your Watson Machine Learning credentials in the following cell.\n",
    "\n",
    "See: <a href=\"https://dataplatform.cloud.ibm.com/docs/content/analyze-data/ml-get-wml-credentials.html\" target=\"_blank\">Looking up credentials</a>"
   ]
  },
  {
   "cell_type": "code",
   "execution_count": 4,
   "metadata": {},
   "outputs": [],
   "source": [
    "wml_credentials = {\n",
    "    \"apikey\": \"***\",\n",
    "    \"instance_id\": \"***\",\n",
    "    \"password\": \"***\",\n",
    "    \"url\": \"***\",\n",
    "    \"username\": \"***\"\n",
    "}"
   ]
  },
  {
   "cell_type": "code",
   "execution_count": 6,
   "metadata": {},
   "outputs": [],
   "source": [
    "client = WatsonMachineLearningAPIClient(wml_credentials)"
   ]
  },
  {
   "cell_type": "markdown",
   "metadata": {},
   "source": [
    "## 3. <a id=\"step3\"></a> Get an endpoint URL for a model deployment\n",
    "\n",
    "The deployed function created in this notebook is designed to send payload data to a TensorFlow model created in the <a href=\"https://dataplatform.cloud.ibm.com/docs/content/analyze-data/ml-mnist-tutorials.html\" target=\"_blank\" rel=\"noopener noreferrer\">MNIST tutorials</a>."
   ]
  },
  {
   "cell_type": "markdown",
   "metadata": {},
   "source": [
    "### Option 1: Use your own, existing model deployment\n",
    "\n",
    "If you already deployed a model while working through one of the following MNIST tutorials, you can use that model deployment:\n",
    "- <a href=\"https://dataplatform.cloud.ibm.com/docs/content/analyze-data/ml_dlaas_tutorial_tensorflow_experiment-builder.html\" target=\"_blank\" rel=\"noopener noreferrer\">Experiment builder MNIST tutorial</a>\n",
    "- <a href=\"https://dataplatform.cloud.ibm.com/docs/content/analyze-data/ml_dlaas_tutorial_tensorflow_experiment-builder_hpo.html\" target=\"_blank\" rel=\"noopener noreferrer\">Experiment builder (HPO) MNIST tutorial</a>\n",
    "- <a href=\"https://dataplatform.cloud.ibm.com/docs/content/analyze-data/ml-python-mnist-tutorial.html\" target=\"_blank\" rel=\"noopener noreferrer\">Python client (notebook) MNIST tutorial</a>\n",
    "- <a href=\"https://dataplatform.cloud.ibm.com/docs/content/analyze-data/ml_dlaas_tutorial_tensorflow_cli.html\" target=\"_blank\" rel=\"noopener noreferrer\">CLI MNIST tutorial</a>\n",
    "- <a href=\"https://dataplatform.cloud.ibm.com/docs/content/analyze-data/ml_dlaas_cli_with_hpo.html\" target=\"_blank\" rel=\"noopener noreferrer\">CLI (HPO) MNIST tutorial</a>\n",
    "\n",
    "Paste the model deployment endpoint URL in the following cell.\n",
    "\n",
    "See: <a href=\"https://dataplatform.cloud.ibm.com/docs/content/analyze-data/ml-get-endpoint-url.html\" target=\"_blank\" rel=\"noopener noreferrer\">Looking up an online deployment endpoint URL</a>\n"
   ]
  },
  {
   "cell_type": "code",
   "execution_count": 7,
   "metadata": {},
   "outputs": [],
   "source": [
    "model_deployment_endpoint_url = \"\""
   ]
  },
  {
   "cell_type": "markdown",
   "metadata": {},
   "source": [
    "### Option 2: Download, store, and deploy a sample model\n",
    "You can deployed a sample model and get its deployment endpoint URL by running the code in the following four cells."
   ]
  },
  {
   "cell_type": "code",
   "execution_count": 8,
   "metadata": {},
   "outputs": [],
   "source": [
    "# Download a sample model to the notebook working directory\n",
    "\n",
    "sample_saved_model_filename = 'mnist-tf-hpo-saved-model.tar.gz'\n",
    "url = 'https://github.com/pmservice/wml-sample-models/raw/master/tensorflow/function-deployments-samples/' + sample_saved_model_filename\n",
    "if not os.path.isfile(sample_saved_model_filename): wget.download(url)"
   ]
  },
  {
   "cell_type": "code",
   "execution_count": 9,
   "metadata": {},
   "outputs": [],
   "source": [
    "# Store the sample model in your Watson Machine Learning repository\n",
    "\n",
    "metadata = {\n",
    "    client.repository.ModelMetaNames.NAME              : 'Saved MNIST model',\n",
    "    client.repository.ModelMetaNames.FRAMEWORK_NAME    : 'tensorflow',\n",
    "    client.repository.ModelMetaNames.FRAMEWORK_VERSION : '1.14',\n",
    "    client.repository.ModelMetaNames.RUNTIME_NAME      : 'python',\n",
    "    client.repository.ModelMetaNames.RUNTIME_VERSION   : '3.6'\n",
    "}\n",
    "model_details = client.repository.store_model(sample_saved_model_filename, meta_props=metadata, training_data=None)"
   ]
  },
  {
   "cell_type": "code",
   "execution_count": 10,
   "metadata": {},
   "outputs": [
    {
     "name": "stdout",
     "output_type": "stream",
     "text": [
      "\n",
      "\n",
      "#######################################################################################\n",
      "\n",
      "Synchronous deployment creation for uid: '84a98974-3fa9-4e84-9f8a-533e14143dfb' started\n",
      "\n",
      "#######################################################################################\n",
      "\n",
      "\n",
      "INITIALIZING\n",
      "DEPLOY_SUCCESS\n",
      "\n",
      "\n",
      "------------------------------------------------------------------------------------------------\n",
      "Successfully finished deployment creation, deployment_uid='981cc8b0-9a2c-4df9-9358-48ca360ad4cb'\n",
      "------------------------------------------------------------------------------------------------\n",
      "\n",
      "\n"
     ]
    }
   ],
   "source": [
    "# Deploy the stored model\n",
    "\n",
    "model_id = model_details[\"metadata\"][\"guid\"]\n",
    "model_deployment_details = client.deployments.create(artifact_uid=model_id, name=\"MNIST saved model deployment\")"
   ]
  },
  {
   "cell_type": "code",
   "execution_count": null,
   "metadata": {},
   "outputs": [],
   "source": [
    "# Get the endpoint URL of the model deployment just created\n",
    "\n",
    "model_deployment_endpoint_url = client.deployments.get_scoring_url(model_deployment_details)\n",
    "model_deployment_endpoint_url"
   ]
  },
  {
   "cell_type": "markdown",
   "metadata": {},
   "source": [
    "## <a id=\"step4\"></a> 4. Get sample canvas data\n",
    "\n",
    "The deployed function created in this notebook is designed to accept RGBA image data from an HTML canvas object in one of these sample apps:\n",
    "\n",
    "- <a href=\"https://dataplatform.cloud.ibm.com/docs/content/analyze-data/ml-nodejs-mnist-tutorial.html\" target=\"_blank\" rel=\"noopener noreferrer\">Node.js MNIST sample app</a>\n",
    "- <a href=\"https://dataplatform.cloud.ibm.com/docs/content/analyze-data/ml-python-flask-mnist-tutorial.html\" target=\"_blank\" rel=\"noopener noreferrer\">Python Flask MNIST sample app</a>\n",
    "\n",
    "Run the following cells to download and view sample canvas data for testing the deployed function."
   ]
  },
  {
   "cell_type": "markdown",
   "metadata": {},
   "source": [
    "### 4.1 Download sample data file"
   ]
  },
  {
   "cell_type": "code",
   "execution_count": 12,
   "metadata": {},
   "outputs": [],
   "source": [
    "# Download the file containing the sample data\n",
    "\n",
    "sample_canvas_data_filename = 'mnist-html-canvas-image-data.json'\n",
    "url = 'https://raw.githubusercontent.com/pmservice/wml-sample-models/master/tensorflow/function-deployments-samples/' + sample_canvas_data_filename\n",
    "if not os.path.isfile(sample_canvas_data_filename): wget.download(url)"
   ]
  },
  {
   "cell_type": "code",
   "execution_count": 13,
   "metadata": {},
   "outputs": [],
   "source": [
    "# Load the sample data from the file into a variable\n",
    "\n",
    "with open(sample_canvas_data_filename) as data_file:\n",
    "    sample_cavas_data = json.load(data_file)"
   ]
  },
  {
   "cell_type": "markdown",
   "metadata": {},
   "source": [
    "### 4.2 View sample data"
   ]
  },
  {
   "cell_type": "code",
   "execution_count": 14,
   "metadata": {},
   "outputs": [
    {
     "name": "stdout",
     "output_type": "stream",
     "text": [
      "Height (n): 187 pixels\n",
      "\n",
      "Num image data entries: 139876 - (n * n * 4) elements - RGBA values\n",
      "\n",
      "{\n",
      "   \"data\": [\n",
      "      0,\n",
      "      0,\n",
      "      0,\n",
      "      0,\n",
      "      0,\n",
      "      0,\n",
      "      ...\n",
      "      0,\n",
      "      0,\n",
      "      0\n",
      "   ],\n",
      "   \"height\": 187\n",
      "}\n"
     ]
    }
   ],
   "source": [
    "# View the raw contents of the sample data\n",
    "\n",
    "print(\"Height (n): \" + str(sample_cavas_data[\"height\"]) + \" pixels\\n\")\n",
    "print(\"Num image data entries: \" + str(len( sample_cavas_data[\"data\"])) + \" - (n * n * 4) elements - RGBA values\\n\")\n",
    "print(json.dumps(sample_cavas_data, indent=3)[:75] + \"...\\n\" + json.dumps(sample_cavas_data, indent=3)[-50:])"
   ]
  },
  {
   "cell_type": "code",
   "execution_count": 15,
   "metadata": {},
   "outputs": [
    {
     "data": {
      "image/png": "[encoded data removed]",
      "text/plain": [
       "<Figure size 432x288 with 1 Axes>"
      ]
     },
     "metadata": {},
     "output_type": "display_data"
    }
   ],
   "source": [
    "# See what hand-drawn digit the sample data represents\n",
    "\n",
    "rgba_arr = np.asarray(sample_cavas_data[\"data\"]).astype('uint8')\n",
    "n = sample_cavas_data[\"height\"]\n",
    "plt.figure()\n",
    "plt.imshow( rgba_arr.reshape(n, n, 4))\n",
    "plt.xticks([])\n",
    "plt.yticks([])\n",
    "plt.show()"
   ]
  },
  {
   "cell_type": "markdown",
   "metadata": {},
   "source": [
    "## <a id=\"step5\"></a> 5. Create a deployable function\n",
    "\n",
    "The basics of creating and deploying functions in Watson Machine Learning are given here:\n",
    "- <a href=\"https://dataplatform.cloud.ibm.com/docs/content/analyze-data/ml-deploy-functions.html\" target=\"_blank\" rel=\"noopener noreferrer\">Creating and deploying functions</a>\n",
    "- <a href=\"https://dataplatform.cloud.ibm.com/docs/content/analyze-data/ml-functions.html\" target=\"_blank\" rel=\"noopener noreferrer\">Implementation details of deployable functions</a>\n"
   ]
  },
  {
   "cell_type": "markdown",
   "metadata": {},
   "source": [
    "### 5.1 Define the function\n",
    "1. Define a Python closure with an inner function named \"score\".\n",
    "2. Use default parameters to save your Watson Machine Learning credentials and the model deployment endpoint URL with the deployed function.\n",
    "3. Process the canvas data (reshape and normalize) and then send the processed data to the model deployment.\n",
    "4. Process the results from the model deployment so the deployed function returns simpler results.\n",
    "5. Implement error handling so the function will behave gracefully if there is an error."
   ]
  },
  {
   "cell_type": "code",
   "execution_count": 16,
   "metadata": {},
   "outputs": [],
   "source": [
    "ai_parms = {\"wml_credentials\": wml_credentials, \"model_deployment_endpoint_url\": model_deployment_endpoint_url}\n",
    "\n",
    "def my_deployable_function( parms=ai_parms ):\n",
    "    \n",
    "    try:\n",
    "        \n",
    "        import subprocess\n",
    "        subprocess.check_output(\"pip install pillow --user\", stderr=subprocess.STDOUT, shell=True)\n",
    "        \n",
    "    except subprocess.CalledProcessError as e:        \n",
    "        install_err = \"subprocess.CalledProcessError:\\n\\n\" + \"cmd:\\n\" + e.cmd + \"\\n\\noutput:\\n\" + e.output.decode()\n",
    "        raise Exception(\"Installing failed:\\n\" + install_err)\n",
    "    \n",
    "        \n",
    "    def getRGBAArr(canvas_data):\n",
    "        import numpy as np\n",
    "        dimension = canvas_data[\"height\"]\n",
    "        rgba_data = canvas_data[\"data\"]\n",
    "        rgba_arr  = np.asarray(rgba_data).astype('uint8')\n",
    "        return rgba_arr.reshape(dimension, dimension, 4)\n",
    "        \n",
    "    def getNormAlphaList(img):\n",
    "        import numpy as np\n",
    "        alpha_arr       = np.array(img.split()[-1])\n",
    "        norm_alpha_arr  = alpha_arr / 255\n",
    "        norm_alpha_list = norm_alpha_arr.reshape(1, 784).tolist()\n",
    "        return norm_alpha_list\n",
    "        \n",
    "    def score(function_payload):\n",
    "            \n",
    "        try:\n",
    "            \n",
    "            from PIL import Image\n",
    "            canvas_data   = function_payload[\"values\"][0]           # Read the payload received by the function\n",
    "            rgba_arr      = getRGBAArr(canvas_data)               # Create an array object with the required shape\n",
    "            img           = Image.fromarray(rgba_arr, 'RGBA')     # Create an image object that can be resized\n",
    "            sm_img        = img.resize((28, 28), Image.LANCZOS) # Resize the image to 28 x 28 pixels\n",
    "            alpha_list    = getNormAlphaList(sm_img)              # Create a 1 x 784 array of values between 0 and 1\n",
    "            model_payload = {\"values\" : alpha_list}               # Create a payload to be sent to the model\n",
    "                    \n",
    "            #print( \"Payload for model:\" ) # For debugging purposes\n",
    "            #print( model_payload )        # For debugging purposes\n",
    "                    \n",
    "            from watson_machine_learning_client import WatsonMachineLearningAPIClient\n",
    "            client       = WatsonMachineLearningAPIClient(parms[\"wml_credentials\"])\n",
    "            model_result = client.deployments.score(parms[\"model_deployment_endpoint_url\"], model_payload)\n",
    "            digit_class  = model_result[\"values\"][0]\n",
    "                    \n",
    "            return {\"digit_class\" : digit_class}\n",
    "            \n",
    "        except Exception as e:\n",
    "            \n",
    "            return {\"error\" : repr(e)}\n",
    "\n",
    "\n",
    "    return score"
   ]
  },
  {
   "cell_type": "markdown",
   "metadata": {},
   "source": [
    "### 5.2 Test locally\n",
    "You can test your function in the notebook before deploying the function.\n",
    "\n",
    "To see debugging info:\n",
    "1. Uncomment the print statements inside the score function\n",
    "2. Rerun the cell defining the function\n",
    "3. When you rerun the this cell, you will see the debugging info"
   ]
  },
  {
   "cell_type": "code",
   "execution_count": 17,
   "metadata": {},
   "outputs": [
    {
     "name": "stdout",
     "output_type": "stream",
     "text": [
      "{'digit_class': 4}\n"
     ]
    }
   ],
   "source": [
    "# Pass the sample canvas data to the function as a test\n",
    "\n",
    "func_result = my_deployable_function()({\"values\": [sample_cavas_data]})\n",
    "print(func_result)"
   ]
  },
  {
   "cell_type": "markdown",
   "metadata": {},
   "source": [
    "## <a id=\"step6\"></a> 6. Store and deploy the function\n",
    "Before you can deploy the function, you must store the function in your Watson Machine Learning repository."
   ]
  },
  {
   "cell_type": "code",
   "execution_count": 18,
   "metadata": {},
   "outputs": [
    {
     "name": "stdout",
     "output_type": "stream",
     "text": [
      "No matching default runtime found. Creating one...SUCCESS\n",
      "\n",
      "Successfully created runtime with uid: 4dcc883e-0664-49a5-bcd6-5e4246d3a0c9\n"
     ]
    }
   ],
   "source": [
    "# Store the deployable function in your Watson Machine Learning repository\n",
    "\n",
    "meta_data = {client.repository.FunctionMetaNames.NAME: 'MNIST deployable function'}\n",
    "function_details = client.repository.store_function(meta_props=meta_data, function=my_deployable_function)"
   ]
  },
  {
   "cell_type": "code",
   "execution_count": 19,
   "metadata": {},
   "outputs": [
    {
     "name": "stdout",
     "output_type": "stream",
     "text": [
      "\n",
      "\n",
      "#######################################################################################\n",
      "\n",
      "Synchronous deployment creation for uid: 'f5ab1603-950d-4c2c-87d7-37a231c34dc6' started\n",
      "\n",
      "#######################################################################################\n",
      "\n",
      "\n",
      "INITIALIZING\n",
      "DEPLOY_IN_PROGRESS.\n",
      "DEPLOY_SUCCESS\n",
      "\n",
      "\n",
      "------------------------------------------------------------------------------------------------\n",
      "Successfully finished deployment creation, deployment_uid='f5a676ca-52ed-4143-baa9-c55b86f7c0bf'\n",
      "------------------------------------------------------------------------------------------------\n",
      "\n",
      "\n"
     ]
    }
   ],
   "source": [
    "# Deploy the stored function\n",
    "\n",
    "function_id = function_details[\"metadata\"][\"guid\"]\n",
    "function_deployment_details = client.deployments.create(artifact_uid=function_id, name=\"MNIST function deployment\")"
   ]
  },
  {
   "cell_type": "markdown",
   "metadata": {},
   "source": [
    "## <a id=\"step7\"></a> 7. Test the deployed function\n",
    "\n",
    "You can use the Watson Machine Learning Python client or REST API to send data to your function deployment for processing in exactly the same way you send data to model deployments for processing."
   ]
  },
  {
   "cell_type": "code",
   "execution_count": null,
   "metadata": {},
   "outputs": [],
   "source": [
    "# Get the endpoint URL of the function deployment just created\n",
    "\n",
    "function_deployment_endpoint_url = client.deployments.get_scoring_url(function_deployment_details)\n",
    "function_deployment_endpoint_url"
   ]
  },
  {
   "cell_type": "code",
   "execution_count": 21,
   "metadata": {},
   "outputs": [],
   "source": [
    "payload = {\"values\": [sample_cavas_data]}"
   ]
  },
  {
   "cell_type": "markdown",
   "metadata": {},
   "source": [
    "### 7.1 Watson Machine Learning Python client"
   ]
  },
  {
   "cell_type": "code",
   "execution_count": 22,
   "metadata": {},
   "outputs": [
    {
     "name": "stdout",
     "output_type": "stream",
     "text": [
      "{'digit_class': 4}\n"
     ]
    }
   ],
   "source": [
    "result = client.deployments.score(function_deployment_endpoint_url, payload)\n",
    "if \"error\" in result:\n",
    "    print(result[\"error\"])\n",
    "else:\n",
    "    print(result)"
   ]
  },
  {
   "cell_type": "markdown",
   "metadata": {},
   "source": [
    "### 7.2 Watson Machine Learning REST API example"
   ]
  },
  {
   "cell_type": "code",
   "execution_count": 23,
   "metadata": {},
   "outputs": [
    {
     "name": "stdout",
     "output_type": "stream",
     "text": [
      "{\"digit_class\": 4}\n",
      "\n"
     ]
    }
   ],
   "source": [
    "# Get an IAM token from IBM Cloud\n",
    "url     = \"https://iam.bluemix.net/oidc/token\"\n",
    "headers = {\"Content-Type\": \"application/x-www-form-urlencoded\"}\n",
    "data    = \"apikey=\" + wml_credentials[\"apikey\"] + \"&grant_type=urn:ibm:params:oauth:grant-type:apikey\"\n",
    "IBM_cloud_iam_uid = \"bx\"\n",
    "IBM_cloud_iam_pwd = \"bx\"\n",
    "response  = requests.post(url, headers=headers, data=data, auth=(IBM_cloud_iam_uid, IBM_cloud_iam_pwd))\n",
    "\n",
    "if 200 != response.status_code:\n",
    "    print(response.status_code)\n",
    "    print(response.reason)\n",
    "else:\n",
    "    iam_token = response.json()[\"access_token\"]\n",
    "    \n",
    "    # Send data to deployment for processing\n",
    "    headers = {\"Content-Type\"   : \"application/json\",\n",
    "               \"Authorization\"  : \"Bearer \" + iam_token,\n",
    "               \"ML-Instance-ID\" : wml_credentials[\"instance_id\"]}\n",
    "    response = requests.post(function_deployment_endpoint_url, json=payload, headers=headers)\n",
    "    print(response.text)"
   ]
  },
  {
   "cell_type": "markdown",
   "metadata": {},
   "source": [
    "## Summary and next steps\n",
    "In this notebook, you created a Python function that receives HTML canvas image data and then processes and sends that data to a model trained to recognize handwritten digits.\n",
    "\n",
    "To learn how you can use this deployed function in a web app, see:\n",
    "- <a href=\"https://dataplatform.cloud.ibm.com/docs/content/analyze-data/ml-nodejs-mnist-tutorial.html\" target=\"_blank\" rel=\"noopener noreferrer\">Sample Node.js app that recognizes hand-drawn digits</a>\n",
    "- <a href=\"https://dataplatform.cloud.ibm.com/docs/content/analyze-data/ml-python-flask-mnist-tutorial.html\" target=\"_blank\" rel=\"noopener noreferrer\">Sample Python Flask app that recognizes hand-drawn digits</a>"
   ]
  },
  {
   "cell_type": "markdown",
   "metadata": {},
   "source": [
    "### <a id=\"authors\"></a>Authors\n",
    "\n",
    "**Sarah Packowski** is a member of the IBM Watson Studio Content Design team in Canada."
   ]
  },
  {
   "cell_type": "markdown",
   "metadata": {},
   "source": [
    "\n",
    "<hr>\n",
    "Copyright &copy; IBM Corp. 2018, 2019. This notebook and its source code are released under the terms of the MIT License."
   ]
  },
  {
   "cell_type": "markdown",
   "metadata": {},
   "source": [
    "<div style=\"background:#F5F7FA; height:110px; padding: 2em; font-size:14px;\">\n",
    "<span style=\"font-size:18px;color:#152935;\">Love this notebook? </span>\n",
    "<span style=\"font-size:15px;color:#152935;float:right;margin-right:40px;\">Don't have an account yet?</span><br>\n",
    "<span style=\"color:#5A6872;\">Share it with your colleagues and help them discover the power of Watson Studio!</span>\n",
    "<span style=\"border: 1px solid #3d70b2;padding:8px;float:right;margin-right:40px; color:#3d70b2;\"><a href=\"https://ibm.co/wsnotebooks\" target=\"_blank\" style=\"color: #3d70b2;text-decoration: none;\">Sign Up</a></span><br>\n",
    "</div>"
   ]
  }
 ],
 "metadata": {
  "kernelspec": {
   "display_name": "Python 3.6",
   "language": "python",
   "name": "python3"
  },
  "language_info": {
   "codemirror_mode": {
    "name": "ipython",
    "version": 3
   },
   "file_extension": ".py",
   "mimetype": "text/x-python",
   "name": "python",
   "nbconvert_exporter": "python",
   "pygments_lexer": "ipython3",
   "version": "3.6.8"
  }
 },
 "nbformat": 4,
 "nbformat_minor": 1
}
