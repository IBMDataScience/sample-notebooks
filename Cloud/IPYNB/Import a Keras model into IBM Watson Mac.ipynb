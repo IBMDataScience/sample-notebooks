{
 "cells": [
  {
   "cell_type": "markdown",
   "metadata": {
    "collapsed": true
   },
   "source": [
    "# Import a Keras model into IBM Watson Machine Learning\n",
    "\n",
    "Importing a model into Watson Machine Learning means to store a trained model in your Watson Machine Learning repository and then deploy the stored model.  This notebook demonstrates importing a Keras model.\n",
    "\n",
    "See also: <a href=\"https://dataplatform.cloud.ibm.com/docs/content/analyze-data/ml-import-keras.html\" target=\"_blank\" rel=\"noopener noreferrer\">Importing a Keras model</a>\n",
    "\n",
    "This notebook uses `keras 2.2.4`.\n",
    "\n",
    "This notebook runs on Python.",
    "\n",
    "### Notebook sections\n",
    "\n",
    "[Step 1: Build, train, and save a model](#step0)\n",
    "\n",
    "[Step 2: Store the model in your Watson Machine Learning repository](#step1)\n",
    "\n",
    "[Step 3: Deploy the stored model in your Watson Machine Learning service](#step2)"
   ]
  },
  {
   "cell_type": "markdown",
   "metadata": {},
   "source": [
    "## <a id=\"step0\"></a> Step 1: Build, train, and save a model\n",
    "\n",
    "**About the sample model**\n",
    "\n",
    "The sample model built here classifies text messages from fictional customers into two categories:\n",
    "- \"social\" : The message might just be social and friendly, or the message lacks enough text to perform in-depth analysis\n",
    "- \"problem or question\" : The message describes a problem or asks a question\n",
    "\n",
    "Classifying messages this way is useful for multiple purposes:\n",
    "- Automating responses (eg. respond to social messages with a generial greeting, prompting the user to type their question or problem if they have one)\n",
    "- Cleaning out social message for post-hoc analysis\n",
    "\n",
    "The data used to train the model is the \"sample-customer-messages.csv\" training data in the IBM Watson Studio community: <a href=\"https://dataplatform.cloud.ibm.com/exchange/public/entry/view/015ddef6a868441188268a123404f744\" target=\"_blank\" rel=\"noopener noreferrer\">Customer messages sample data</a>."
   ]
  },
  {
   "cell_type": "markdown",
   "metadata": {},
   "source": [
    "### Load and prepare training data"
   ]
  },
  {
   "cell_type": "markdown",
   "metadata": {},
   "source": [
    "1. Go to the <a href=\"https://dataplatform.cloud.ibm.com/exchange/public/entry/view/015ddef6a868441188268a123404f744\" target=\"_blank\" rel=\"noopener noreferrer\">Customer messages</a> data set in the Watson Studio Gallery.\n",
    "2. Load the .csv file as a Data Asset in your project by clicking the **Add to Project** button in the upper-right corner of the page. Select your project name and click **Add**. You can now view the data set in your project.\n",
    "3. Load the Customer messages .csv file into your notebook. Click the Data icon on the notebook action bar. Scroll through your list of assets to find the Customer messages .csv that you added to your project earlier. **Note:** If you can't find the data asset, reload your notebook. To load the data into a DataFrame, click in the next code cell and select **Insert to code > Insert Pandas DataFrame** under the file name.\n",
    "4. Change `df_data_x = pd.read_csv(body)` to `df = pd.read_csv(body, names=[\"message\", \"class_name\"])`.\n",
    "5. Also, change `df_data_1.head()` to `df.head()`.\n",
    "6. Run the cell."
   ]
  },
  {
   "cell_type": "code",
   "execution_count": 1,
   "metadata": {},
   "outputs": [
    {
     "data": {
      "text/html": [
       "<div>\n",
       "<style scoped>\n",
       "    .dataframe tbody tr th:only-of-type {\n",
       "        vertical-align: middle;\n",
       "    }\n",
       "\n",
       "    .dataframe tbody tr th {\n",
       "        vertical-align: top;\n",
       "    }\n",
       "\n",
       "    .dataframe thead th {\n",
       "        text-align: right;\n",
       "    }\n",
       "</style>\n",
       "<table border=\"1\" class=\"dataframe\">\n",
       "  <thead>\n",
       "    <tr style=\"text-align: right;\">\n",
       "      <th></th>\n",
       "      <th>message</th>\n",
       "      <th>class_name</th>\n",
       "    </tr>\n",
       "  </thead>\n",
       "  <tbody>\n",
       "    <tr>\n",
       "      <th>0</th>\n",
       "      <td>excuse me</td>\n",
       "      <td>hi</td>\n",
       "    </tr>\n",
       "    <tr>\n",
       "      <th>1</th>\n",
       "      <td>Good evening</td>\n",
       "      <td>hi</td>\n",
       "    </tr>\n",
       "    <tr>\n",
       "      <th>2</th>\n",
       "      <td>Good morning</td>\n",
       "      <td>hi</td>\n",
       "    </tr>\n",
       "    <tr>\n",
       "      <th>3</th>\n",
       "      <td>good morning</td>\n",
       "      <td>hi</td>\n",
       "    </tr>\n",
       "    <tr>\n",
       "      <th>4</th>\n",
       "      <td>Good morning can you help me upload a shapefile?</td>\n",
       "      <td>question</td>\n",
       "    </tr>\n",
       "  </tbody>\n",
       "</table>\n",
       "</div>"
      ],
      "text/plain": [
       "                                            message class_name\n",
       "0                                         excuse me         hi\n",
       "1                                      Good evening         hi\n",
       "2                                      Good morning         hi\n",
       "3                                      good morning         hi\n",
       "4  Good morning can you help me upload a shapefile?   question"
      ]
     },
     "execution_count": 1,
     "metadata": {},
     "output_type": "execute_result"
    }
   ],
   "source": [
    "\n",
    "import types\n",
    "import pandas as pd\n",
    "from botocore.client import Config\n",
    "import ibm_boto3\n",
    "\n",
    "def __iter__(self): return 0\n",
    "\n",
    "# @hidden_cell\n",
    "# The following code accesses a file in your IBM Cloud Object Storage. It includes your credentials.\n",
    "# You might want to remove those credentials before you share the notebook.\n"
   ]
  },
  {
   "cell_type": "code",
   "execution_count": 2,
   "metadata": {},
   "outputs": [
    {
     "data": {
      "text/html": [
       "<div>\n",
       "<style scoped>\n",
       "    .dataframe tbody tr th:only-of-type {\n",
       "        vertical-align: middle;\n",
       "    }\n",
       "\n",
       "    .dataframe tbody tr th {\n",
       "        vertical-align: top;\n",
       "    }\n",
       "\n",
       "    .dataframe thead th {\n",
       "        text-align: right;\n",
       "    }\n",
       "</style>\n",
       "<table border=\"1\" class=\"dataframe\">\n",
       "  <thead>\n",
       "    <tr style=\"text-align: right;\">\n",
       "      <th></th>\n",
       "      <th>message</th>\n",
       "      <th>class_name</th>\n",
       "    </tr>\n",
       "  </thead>\n",
       "  <tbody>\n",
       "    <tr>\n",
       "      <th>6</th>\n",
       "      <td>Greetings :)</td>\n",
       "      <td>hi</td>\n",
       "    </tr>\n",
       "    <tr>\n",
       "      <th>7</th>\n",
       "      <td>hai how can i do analyze with csv file is ther...</td>\n",
       "      <td>question</td>\n",
       "    </tr>\n",
       "    <tr>\n",
       "      <th>8</th>\n",
       "      <td>Having issues setup WML service</td>\n",
       "      <td>problem</td>\n",
       "    </tr>\n",
       "  </tbody>\n",
       "</table>\n",
       "</div>"
      ],
      "text/plain": [
       "                                             message class_name\n",
       "6                                       Greetings :)         hi\n",
       "7  hai how can i do analyze with csv file is ther...   question\n",
       "8                    Having issues setup WML service    problem"
      ]
     },
     "execution_count": 2,
     "metadata": {},
     "output_type": "execute_result"
    }
   ],
   "source": [
    "# # Read sample data into Pandas DataFrame\n",
    "df[6:9]"
   ]
  },
  {
   "cell_type": "code",
   "execution_count": 3,
   "metadata": {},
   "outputs": [
    {
     "data": {
      "text/html": [
       "<div>\n",
       "<style scoped>\n",
       "    .dataframe tbody tr th:only-of-type {\n",
       "        vertical-align: middle;\n",
       "    }\n",
       "\n",
       "    .dataframe tbody tr th {\n",
       "        vertical-align: top;\n",
       "    }\n",
       "\n",
       "    .dataframe thead th {\n",
       "        text-align: right;\n",
       "    }\n",
       "</style>\n",
       "<table border=\"1\" class=\"dataframe\">\n",
       "  <thead>\n",
       "    <tr style=\"text-align: right;\">\n",
       "      <th></th>\n",
       "      <th>message</th>\n",
       "      <th>class_name</th>\n",
       "    </tr>\n",
       "  </thead>\n",
       "  <tbody>\n",
       "    <tr>\n",
       "      <th>67</th>\n",
       "      <td>Hi not able to signup</td>\n",
       "      <td>problem</td>\n",
       "    </tr>\n",
       "    <tr>\n",
       "      <th>6</th>\n",
       "      <td>Greetings :)</td>\n",
       "      <td>hi</td>\n",
       "    </tr>\n",
       "    <tr>\n",
       "      <th>86</th>\n",
       "      <td>I cant see my  spark instance when i go to cre...</td>\n",
       "      <td>problem</td>\n",
       "    </tr>\n",
       "    <tr>\n",
       "      <th>0</th>\n",
       "      <td>excuse me</td>\n",
       "      <td>hi</td>\n",
       "    </tr>\n",
       "    <tr>\n",
       "      <th>36</th>\n",
       "      <td>hi</td>\n",
       "      <td>hi</td>\n",
       "    </tr>\n",
       "    <tr>\n",
       "      <th>27</th>\n",
       "      <td>Hello! please can you help</td>\n",
       "      <td>hi</td>\n",
       "    </tr>\n",
       "    <tr>\n",
       "      <th>24</th>\n",
       "      <td>hello message keeps coming which says my servi...</td>\n",
       "      <td>problem</td>\n",
       "    </tr>\n",
       "    <tr>\n",
       "      <th>87</th>\n",
       "      <td>I deployed my WatsonML model and have a Scorin...</td>\n",
       "      <td>problem</td>\n",
       "    </tr>\n",
       "    <tr>\n",
       "      <th>78</th>\n",
       "      <td>how do i save my data as a csv file</td>\n",
       "      <td>question</td>\n",
       "    </tr>\n",
       "    <tr>\n",
       "      <th>11</th>\n",
       "      <td>Hello</td>\n",
       "      <td>hi</td>\n",
       "    </tr>\n",
       "  </tbody>\n",
       "</table>\n",
       "</div>"
      ],
      "text/plain": [
       "                                              message class_name\n",
       "67                              Hi not able to signup    problem\n",
       "6                                        Greetings :)         hi\n",
       "86  I cant see my  spark instance when i go to cre...    problem\n",
       "0                                           excuse me         hi\n",
       "36                                                 hi         hi\n",
       "27                         Hello! please can you help         hi\n",
       "24  hello message keeps coming which says my servi...    problem\n",
       "87  I deployed my WatsonML model and have a Scorin...    problem\n",
       "78                how do i save my data as a csv file   question\n",
       "11                                              Hello         hi"
      ]
     },
     "execution_count": 3,
     "metadata": {},
     "output_type": "execute_result"
    }
   ],
   "source": [
    "# Split the data into training and test sets\n",
    "# https://scikit-learn.org/stable/modules/generated/sklearn.model_selection.train_test_split.html\n",
    "from sklearn.model_selection import train_test_split\n",
    "train, test = train_test_split( df, test_size = 0.1 )\n",
    "test"
   ]
  },
  {
   "cell_type": "code",
   "execution_count": null,
   "metadata": {},
   "outputs": [],
   "source": [
    "!pip install --upgrade keras==2.2.4"
   ]
  },
  {
   "cell_type": "code",
   "execution_count": 5,
   "metadata": {},
   "outputs": [
    {
     "name": "stderr",
     "output_type": "stream",
     "text": [
      "Using TensorFlow backend.\n"
     ]
    },
    {
     "data": {
      "text/plain": [
       "[[3, 58, 117, 1, 185], [], [2, 124, 8, 266, 25, 2, 1, 16, 4, 53, 29], [24]]"
      ]
     },
     "execution_count": 5,
     "metadata": {},
     "output_type": "execute_result"
    }
   ],
   "source": [
    "# Convert words to numbers\n",
    "# https://keras.io/preprocessing/text/#tokenizer\n",
    "from keras.preprocessing.text import Tokenizer\n",
    "t = Tokenizer()\n",
    "t.fit_on_texts( train[\"message\"] )\n",
    "X_train = t.texts_to_sequences( train[\"message\"] )\n",
    "X_test  = t.texts_to_sequences( test[\"message\"] )\n",
    "X_test[0:4]"
   ]
  },
  {
   "cell_type": "code",
   "execution_count": 6,
   "metadata": {},
   "outputs": [
    {
     "data": {
      "text/plain": [
       "array([  3,  58, 117,   1, 185,   0,   0,   0,   0,   0,   0,   0,   0,\n",
       "         0,   0,   0,   0,   0,   0,   0,   0,   0,   0,   0,   0,   0,\n",
       "         0,   0,   0], dtype=int32)"
      ]
     },
     "execution_count": 6,
     "metadata": {},
     "output_type": "execute_result"
    }
   ],
   "source": [
    "# Pad the shorter entries\n",
    "# https://keras.io/preprocessing/sequence/#pad_sequences\n",
    "from keras.preprocessing.sequence import pad_sequences\n",
    "max_len = max( len(x) for x in X_train )\n",
    "X_train = pad_sequences( X_train, padding='post', maxlen=max_len )\n",
    "X_test  = pad_sequences( X_test,  padding='post', maxlen=max_len )\n",
    "X_test[0]"
   ]
  },
  {
   "cell_type": "code",
   "execution_count": 7,
   "metadata": {},
   "outputs": [
    {
     "data": {
      "text/plain": [
       "array([[0, 1],\n",
       "       [1, 0],\n",
       "       [0, 1],\n",
       "       [1, 0],\n",
       "       [1, 0],\n",
       "       [1, 0],\n",
       "       [0, 1],\n",
       "       [0, 1],\n",
       "       [0, 1],\n",
       "       [1, 0]])"
      ]
     },
     "execution_count": 7,
     "metadata": {},
     "output_type": "execute_result"
    }
   ],
   "source": [
    "# Convert the labels to binary labels\n",
    "import scipy\n",
    "import numpy as np\n",
    "y_train = np.array( [ [ 1, 0 ] if class_name == \"hi\" else [ 0, 1 ] for class_name in train[ \"class_name\" ] ] )\n",
    "y_test  = np.array( [ [ 1, 0 ] if class_name == \"hi\" else [ 0, 1 ] for class_name in test[ \"class_name\" ] ] )\n",
    "y_test"
   ]
  },
  {
   "cell_type": "markdown",
   "metadata": {},
   "source": [
    "### Build a neural network"
   ]
  },
  {
   "cell_type": "code",
   "execution_count": 8,
   "metadata": {},
   "outputs": [],
   "source": [
    "# Create a simple sequential model\n",
    "# https://keras.io/models/sequential\n",
    "\n",
    "from keras.models import Sequential\n",
    "from keras import layers\n",
    "import tensorflow as tf\n",
    "tf.logging.set_verbosity(tf.logging.ERROR)\n",
    "\n",
    "\n",
    "vocab_size    = len( t.word_counts ) + 1\n",
    "embedding_dim = 50\n",
    "num_classes   = 2\n",
    "\n",
    "model = Sequential()\n",
    "model.add( layers.Embedding( input_dim    = vocab_size,        # https://keras.io/layers/embeddings\n",
    "                             output_dim   = embedding_dim, \n",
    "                             input_length = max_len,\n",
    "                             trainable    = True ) )\n",
    "model.add( layers.Flatten() )                                  # https://keras.io/layers/core/#flatten\n",
    "model.add( layers.Dense( num_classes, activation='sigmoid' ) ) # https://keras.io/layers/core/#dense\n",
    "model.add( layers.Activation( \"softmax\" ) )                    # https://en.wikipedia.org/wiki/Softmax_function\n",
    "\n",
    "model.compile( optimizer = \"adam\",                # https://www.dlology.com/blog/quick-notes-on-how-to-choose-optimizer-in-keras\n",
    "               loss      = \"binary_crossentropy\", # https://www.dlology.com/blog/how-to-choose-last-layer-activation-and-loss-function\n",
    "               metrics   = [ \"accuracy\" ] )"
   ]
  },
  {
   "cell_type": "markdown",
   "metadata": {},
   "source": [
    "### Train and evaluate model"
   ]
  },
  {
   "cell_type": "code",
   "execution_count": 9,
   "metadata": {},
   "outputs": [],
   "source": [
    "num_epochs = 15\n",
    "\n",
    "history = model.fit( X_train, y_train,\n",
    "                     batch_size = 10,\n",
    "                     epochs     = num_epochs,\n",
    "                     verbose    = False,\n",
    "                     validation_split = 0.1 )"
   ]
  },
  {
   "cell_type": "code",
   "execution_count": 10,
   "metadata": {},
   "outputs": [],
   "source": [
    "import matplotlib.pyplot as plt"
   ]
  },
  {
   "cell_type": "code",
   "execution_count": 11,
   "metadata": {},
   "outputs": [
    {
     "data": {
      "image/png": "[encoded data removed]",
      "text/plain": [
       "<Figure size 432x288 with 1 Axes>"
      ]
     },
     "metadata": {},
     "output_type": "display_data"
    }
   ],
   "source": [
    "plt.style.use( \"seaborn-white\" )\n",
    "\n",
    "plt.title(  \"Accuracy\", fontsize = 18)\n",
    "\n",
    "x = range( 1, num_epochs + 1 )\n",
    "plt.plot( x, history.history[ \"acc\" ],     label = \"Training\"   )\n",
    "plt.plot( x, history.history[ \"val_acc\" ], label = \"Validation\" )\n",
    "\n",
    "legend = plt.legend( loc=\"upper left\" )\n",
    "plt.show()"
   ]
  },
  {
   "cell_type": "code",
   "execution_count": 12,
   "metadata": {},
   "outputs": [
    {
     "data": {
      "text/html": [
       "<div>\n",
       "<style scoped>\n",
       "    .dataframe tbody tr th:only-of-type {\n",
       "        vertical-align: middle;\n",
       "    }\n",
       "\n",
       "    .dataframe tbody tr th {\n",
       "        vertical-align: top;\n",
       "    }\n",
       "\n",
       "    .dataframe thead th {\n",
       "        text-align: right;\n",
       "    }\n",
       "</style>\n",
       "<table border=\"1\" class=\"dataframe\">\n",
       "  <thead>\n",
       "    <tr style=\"text-align: right;\">\n",
       "      <th></th>\n",
       "      <th>message</th>\n",
       "      <th>class_name</th>\n",
       "    </tr>\n",
       "  </thead>\n",
       "  <tbody>\n",
       "    <tr>\n",
       "      <th>67</th>\n",
       "      <td>Hi not able to signup</td>\n",
       "      <td>problem</td>\n",
       "    </tr>\n",
       "    <tr>\n",
       "      <th>6</th>\n",
       "      <td>Greetings :)</td>\n",
       "      <td>hi</td>\n",
       "    </tr>\n",
       "    <tr>\n",
       "      <th>86</th>\n",
       "      <td>I cant see my  spark instance when i go to cre...</td>\n",
       "      <td>problem</td>\n",
       "    </tr>\n",
       "    <tr>\n",
       "      <th>0</th>\n",
       "      <td>excuse me</td>\n",
       "      <td>hi</td>\n",
       "    </tr>\n",
       "    <tr>\n",
       "      <th>36</th>\n",
       "      <td>hi</td>\n",
       "      <td>hi</td>\n",
       "    </tr>\n",
       "    <tr>\n",
       "      <th>27</th>\n",
       "      <td>Hello! please can you help</td>\n",
       "      <td>hi</td>\n",
       "    </tr>\n",
       "    <tr>\n",
       "      <th>24</th>\n",
       "      <td>hello message keeps coming which says my servi...</td>\n",
       "      <td>problem</td>\n",
       "    </tr>\n",
       "    <tr>\n",
       "      <th>87</th>\n",
       "      <td>I deployed my WatsonML model and have a Scorin...</td>\n",
       "      <td>problem</td>\n",
       "    </tr>\n",
       "    <tr>\n",
       "      <th>78</th>\n",
       "      <td>how do i save my data as a csv file</td>\n",
       "      <td>question</td>\n",
       "    </tr>\n",
       "    <tr>\n",
       "      <th>11</th>\n",
       "      <td>Hello</td>\n",
       "      <td>hi</td>\n",
       "    </tr>\n",
       "  </tbody>\n",
       "</table>\n",
       "</div>"
      ],
      "text/plain": [
       "                                              message class_name\n",
       "67                              Hi not able to signup    problem\n",
       "6                                        Greetings :)         hi\n",
       "86  I cant see my  spark instance when i go to cre...    problem\n",
       "0                                           excuse me         hi\n",
       "36                                                 hi         hi\n",
       "27                         Hello! please can you help         hi\n",
       "24  hello message keeps coming which says my servi...    problem\n",
       "87  I deployed my WatsonML model and have a Scorin...    problem\n",
       "78                how do i save my data as a csv file   question\n",
       "11                                              Hello         hi"
      ]
     },
     "execution_count": 12,
     "metadata": {},
     "output_type": "execute_result"
    }
   ],
   "source": [
    "test"
   ]
  },
  {
   "cell_type": "code",
   "execution_count": 13,
   "metadata": {},
   "outputs": [
    {
     "name": "stdout",
     "output_type": "stream",
     "text": [
      "[0 0 1 0 0 0 1 1 1 0]\n"
     ]
    }
   ],
   "source": [
    "test_results = model.predict_classes( X_test )\n",
    "print( test_results )"
   ]
  },
  {
   "cell_type": "markdown",
   "metadata": {},
   "source": [
    "### Save the model in a .tgz file"
   ]
  },
  {
   "cell_type": "code",
   "execution_count": 14,
   "metadata": {},
   "outputs": [],
   "source": [
    "# https://keras.io/getting-started/faq/#how-can-i-save-a-keras-model\n",
    "model.save( \"message-classification-model.h5\" )"
   ]
  },
  {
   "cell_type": "code",
   "execution_count": 15,
   "metadata": {},
   "outputs": [
    {
     "name": "stdout",
     "output_type": "stream",
     "text": [
      "message-classification-model.h5\r\n"
     ]
    }
   ],
   "source": [
    "!tar -zcvf message-classification-model.tgz message-classification-model.h5"
   ]
  },
  {
   "cell_type": "code",
   "execution_count": 16,
   "metadata": {},
   "outputs": [
    {
     "name": "stdout",
     "output_type": "stream",
     "text": [
      "total 34876\r\n",
      "-rw-r----- 1 dsxuser dsxuser   229128 Nov  4 22:43 message-classification-model.h5\r\n",
      "-rw-r----- 1 dsxuser dsxuser   186865 Nov  4 22:43 message-classification-model.tgz\r\n",
      "-rw-r----- 1 dsxuser dsxuser   475816 Nov  4 22:25 mnist-html-canvas-image-data.json\r\n",
      "-rw-r----- 1 dsxuser dsxuser 34803755 Nov  4 22:25 mnist-tf-hpo-saved-model.tar.gz\r\n",
      "drwxr-x--- 2 dsxuser dsxuser     4096 Nov  4 22:12 STYLE_DATA\r\n",
      "-rw-r----- 1 dsxuser dsxuser     3954 Nov  4 22:12 STYLE.zip\r\n"
     ]
    }
   ],
   "source": [
    "!ls -l"
   ]
  },
  {
   "cell_type": "markdown",
   "metadata": {},
   "source": [
    "## <a id=\"step1\"></a> Step 2: Store the model in your Watson Machine Learning repository\n",
    "\n",
    "This section of the notebook demonstrates calling the <a href=\"https://wml-api-pyclient.mybluemix.net/index.html?highlight=store_model#client.Repository.store_model\" target=\"_blank\" rel=\"noopener noreferrer\">store_model</a> function"
   ]
  },
  {
   "cell_type": "markdown",
   "metadata": {},
   "source": [
    "Paste your Watson Machine Learning credentials in the following cell.\n",
    "\n",
    "See: <a href=\"https://dataplatform.cloud.ibm.com/docs/content/analyze-data/ml-get-wml-credentials.html\" target=\"_blank\" rel=\"noopener noreferrer\">Looking up credentials</a>"
   ]
  },
  {
   "cell_type": "code",
   "execution_count": 17,
   "metadata": {},
   "outputs": [],
   "source": [
    "from watson_machine_learning_client import WatsonMachineLearningAPIClient"
   ]
  },
  {
   "cell_type": "code",
   "execution_count": 18,
   "metadata": {},
   "outputs": [],
   "source": [
    "# Create a Watson Machine Learning client instance\n",
    "wml_credentials = {\n",
    "    \"apikey\"     : \"\",\n",
    "    \"instance_id\": \"\",\n",
    "    \"password\"   : \"\",\n",
    "    \"url\"        : \"\",\n",
    "    \"username\"   : \"\"\n",
    "}\n"
   ]
  },
  {
   "cell_type": "code",
   "execution_count": 20,
   "metadata": {},
   "outputs": [],
   "source": [
    "metadata = {\n",
    "    client.repository.ModelMetaNames.NAME: \"keras model\",\n",
    "    client.repository.ModelMetaNames.FRAMEWORK_NAME: \"tensorflow\",\n",
    "    client.repository.ModelMetaNames.FRAMEWORK_VERSION: \"1.14\",\n",
    "    client.repository.ModelMetaNames.FRAMEWORK_LIBRARIES: [{\"name\": \"keras\", \"version\": \"2.2.4\"}]\n",
    "}\n",
    "model_details = client.repository.store_model( model=\"message-classification-model.tgz\", meta_props=metadata )"
   ]
  },
  {
   "cell_type": "markdown",
   "metadata": {},
   "source": [
    "## <a id=\"step2\"></a> Step 3: Deploy the stored the model in your Watson Machine Learning service\n",
    "\n",
    "This section of the notebook demonstrates calling the <a href=\"https://wml-api-pyclient.mybluemix.net/index.html?highlight=deploy#client.Deployments.create\" target=\"_blank\" rel=\"noopener noreferrer\">deployments.create</a> function"
   ]
  },
  {
   "cell_type": "code",
   "execution_count": 21,
   "metadata": {},
   "outputs": [
    {
     "name": "stdout",
     "output_type": "stream",
     "text": [
      "\n",
      "\n",
      "#######################################################################################\n",
      "\n",
      "Synchronous deployment creation for uid: '9b5baba9-7dbf-435b-8030-8a50749c7cd6' started\n",
      "\n",
      "#######################################################################################\n",
      "\n",
      "\n",
      "INITIALIZING\n",
      "DEPLOY_IN_PROGRESS..\n",
      "DEPLOY_SUCCESS\n",
      "\n",
      "\n",
      "------------------------------------------------------------------------------------------------\n",
      "Successfully finished deployment creation, deployment_uid='83947fef-c803-4ed0-999d-d521490b75bd'\n",
      "------------------------------------------------------------------------------------------------\n",
      "\n",
      "\n"
     ]
    }
   ],
   "source": [
    "# Deploy the stored model as an online web service deployment\n",
    "model_id = model_details[\"metadata\"][\"guid\"]\n",
    "deployment_details = client.deployments.create( artifact_uid=model_id, name=\"Keras deployment\" )"
   ]
  },
  {
   "cell_type": "code",
   "execution_count": 22,
   "metadata": {},
   "outputs": [
    {
     "name": "stdout",
     "output_type": "stream",
     "text": [
      "Deployment UID: 83947fef-c803-4ed0-999d-d521490b75bd\n"
     ]
    }
   ],
   "source": [
    "# Get the deployment UID\n",
    "deployment_uid = client.deployments.get_uid(deployment_details)\n",
    "print(\"Deployment UID: {}\".format(deployment_uid))"
   ]
  },
  {
   "cell_type": "code",
   "execution_count": 23,
   "metadata": {},
   "outputs": [
    {
     "data": {
      "text/plain": [
       "{'fields': ['prediction', 'prediction_classes', 'probability'],\n",
       " 'values': [[[0.5121044516563416, 0.48789557814598083],\n",
       "   0,\n",
       "   [0.5121044516563416, 0.48789557814598083]],\n",
       "  [[0.7076183557510376, 0.2923817038536072],\n",
       "   0,\n",
       "   [0.7076183557510376, 0.2923817038536072]],\n",
       "  [[0.2785996198654175, 0.7214003801345825],\n",
       "   1,\n",
       "   [0.2785996198654175, 0.7214003801345825]],\n",
       "  [[0.7072234153747559, 0.29277658462524414],\n",
       "   0,\n",
       "   [0.7072234153747559, 0.29277658462524414]],\n",
       "  [[0.7055739164352417, 0.2944260537624359],\n",
       "   0,\n",
       "   [0.7055739164352417, 0.2944260537624359]],\n",
       "  [[0.5287381410598755, 0.4712618291378021],\n",
       "   0,\n",
       "   [0.5287381410598755, 0.4712618291378021]],\n",
       "  [[0.3014186918735504, 0.698581337928772],\n",
       "   1,\n",
       "   [0.3014186918735504, 0.698581337928772]],\n",
       "  [[0.31170526146888733, 0.6882948279380798],\n",
       "   1,\n",
       "   [0.31170526146888733, 0.6882948279380798]],\n",
       "  [[0.2955194115638733, 0.7044806480407715],\n",
       "   1,\n",
       "   [0.2955194115638733, 0.7044806480407715]],\n",
       "  [[0.7071711421012878, 0.2928289473056793],\n",
       "   0,\n",
       "   [0.7071711421012878, 0.2928289473056793]]]}"
      ]
     },
     "execution_count": 23,
     "metadata": {},
     "output_type": "execute_result"
    }
   ],
   "source": [
    "# Test the deployment\n",
    "model_endpoint_url = client.deployments.get_scoring_url( deployment_details )\n",
    "payload = { \"values\" : X_test.tolist() }\n",
    "client.deployments.score( model_endpoint_url, payload )"
   ]
  },
  {
   "cell_type": "markdown",
   "metadata": {},
   "source": [
    "## Summary\n",
    "In this notebook, you imported a Keras model into Watson Machine Learning using the Watson Machine Learning Python client."
   ]
  },
  {
   "cell_type": "markdown",
   "metadata": {},
   "source": [
    "### <a id=\"authors\"></a>Authors\n",
    "\n",
    "**Sarah Packowski** is a member of the IBM Watson Studio Content Design team in Canada."
   ]
  },
  {
   "cell_type": "markdown",
   "metadata": {},
   "source": [
    "\n",
    "<hr>\n",
    "Copyright &copy; IBM Corp. 2019. This notebook and its source code are released under the terms of the MIT License."
   ]
  },
  {
   "cell_type": "markdown",
   "metadata": {},
   "source": [
    "<div style=\"background:#F5F7FA; height:110px; padding: 2em; font-size:14px;\">\n",
    "<span style=\"font-size:18px;color:#152935;\">Love this notebook? </span>\n",
    "<span style=\"font-size:15px;color:#152935;float:right;margin-right:40px;\">Don't have an account yet?</span><br>\n",
    "<span style=\"color:#5A6872;\">Share it with your colleagues and help them discover the power of Watson Studio!</span>\n",
    "<span style=\"border: 1px solid #3d70b2;padding:8px;float:right;margin-right:40px; color:#3d70b2;\"><a href=\"https://ibm.co/wsnotebooks\" target=\"_blank\" style=\"color: #3d70b2;text-decoration: none;\">Sign Up</a></span><br>\n",
    "</div>"
   ]
  }
 ],
 "metadata": {
  "kernelspec": {
   "display_name": "Python 3.6",
   "language": "python",
   "name": "python3"
  },
  "language_info": {
   "codemirror_mode": {
    "name": "ipython",
    "version": 3
   },
   "file_extension": ".py",
   "mimetype": "text/x-python",
   "name": "python",
   "nbconvert_exporter": "python",
   "pygments_lexer": "ipython3",
   "version": "3.6.8"
  }
 },
 "nbformat": 4,
 "nbformat_minor": 1
}
