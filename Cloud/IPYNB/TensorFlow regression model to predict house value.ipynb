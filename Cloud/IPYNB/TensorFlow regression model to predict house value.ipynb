{
 "cells": [
  {
   "cell_type": "markdown",
   "metadata": {},
   "source": [
    "# A TensorFlow regression model to predict house values\n",
    "\n",
    "This notebook guides you through the basic concepts to construct a linear regression model with the\n",
    "TensorFlow library in Watson Studio, including how to import the predictive data, train the model to predict\n",
    "median housing value, and save the model to use for future inference.\n",
    "\n",
    "Some familiarity with Python is recommended. This notebook runs on Python and Spark."
   ]
  },
  {
   "cell_type": "markdown",
   "metadata": {},
   "source": [
    "## Table of contents\n",
    "\n",
    "1. [Import the Data](#read-data)<br>\n",
    "2. [Train the Model](#train)<br>\n",
    "    a. [Save the Machine Learned Model to a local data set](#save)<br>\n",
    "    b. [Restore the Machine Learned Model from the local data set](#restore)<br>\n",
    "3. [Infer by using the Restored Machine Learned Model](#infer)<br>\n",
    "4. [Measure the Quality of the Trained Model](#measurement)<br>\n",
    "5. [Summary](#summary)<br>\n",
    "    a. [Related Links](#links)<br>\n",
    "    b. [Author Information](#author)<br>"
   ]
  },
  {
   "cell_type": "markdown",
   "metadata": {},
   "source": [
    "<div class=\"alert alert-block alert-info\">\n",
    "<b>Term:</b> 'Tensor' means n-dimensional array, and TensorFlow is a library\n",
    "that makes it easy to specify a computational 'flow' of tensors to\n",
    "run that flow in the most efficient way possible given the available compute power. </div>"
   ]
  },
  {
   "cell_type": "markdown",
   "metadata": {},
   "source": [
    "<a id=\"read-data\"></a>\n",
    "## Import the Data"
   ]
  },
  {
   "cell_type": "markdown",
   "metadata": {},
   "source": [
    "As a prerequisite, you must prepare a CSV file that you would like to use the\n",
    "regression model predictor on.\n",
    "\n",
    "To provide an example, a CSV file was downloaded from the same source as the\n",
    "`scikit learn fetch_california_housing()` method. The result yielded a CSV\n",
    "file `cal_housing_data with headers.csv` with a sample data set that maps house\n",
    "prices to several predictor variables\n",
    "such as house age, number of bedrooms, and municipal population. The sample data\n",
    "in a CSV file is available for download onto your personal computer at [John\n",
    "Boyer's GitHub repo](https://github.com/john-boyer-phd/TensorFlow-\n",
    "Samples/tree/master/Linear%20Regression).\n",
    "\n",
    "To load the CSV file, open the **Files** window by clicking on the binary icon in the upper right corner and upload the file. Then, select the empty cell below and click Insert to code, and then Insert Pandas DataFrame into the empty cell below. After the code is loaded, the cell can be run to read the CSV file."
   ]
  },
  {
   "cell_type": "code",
   "execution_count": 1,
   "metadata": {
    "attributes": {
     "classes": [],
     "id": "",
     "n": "1"
    }
   },
   "outputs": [
    {
     "data": {
      "text/html": [
       "<div>\n",
       "<table border=\"1\" class=\"dataframe\">\n",
       "  <thead>\n",
       "    <tr style=\"text-align: right;\">\n",
       "      <th></th>\n",
       "      <th>Longitude</th>\n",
       "      <th>Latitude</th>\n",
       "      <th>HousingMedianAge</th>\n",
       "      <th>TotalRooms</th>\n",
       "      <th>TotalBedrooms</th>\n",
       "      <th>Population</th>\n",
       "      <th>Households</th>\n",
       "      <th>MedianIncomeValue</th>\n",
       "      <th>MedianHouseValue</th>\n",
       "    </tr>\n",
       "  </thead>\n",
       "  <tbody>\n",
       "    <tr>\n",
       "      <th>0</th>\n",
       "      <td>-122.23</td>\n",
       "      <td>37.88</td>\n",
       "      <td>41</td>\n",
       "      <td>880</td>\n",
       "      <td>129</td>\n",
       "      <td>322</td>\n",
       "      <td>126</td>\n",
       "      <td>8.3252</td>\n",
       "      <td>452600</td>\n",
       "    </tr>\n",
       "    <tr>\n",
       "      <th>1</th>\n",
       "      <td>-122.22</td>\n",
       "      <td>37.86</td>\n",
       "      <td>21</td>\n",
       "      <td>7099</td>\n",
       "      <td>1106</td>\n",
       "      <td>2401</td>\n",
       "      <td>1138</td>\n",
       "      <td>8.3014</td>\n",
       "      <td>358500</td>\n",
       "    </tr>\n",
       "    <tr>\n",
       "      <th>2</th>\n",
       "      <td>-122.24</td>\n",
       "      <td>37.85</td>\n",
       "      <td>52</td>\n",
       "      <td>1467</td>\n",
       "      <td>190</td>\n",
       "      <td>496</td>\n",
       "      <td>177</td>\n",
       "      <td>7.2574</td>\n",
       "      <td>352100</td>\n",
       "    </tr>\n",
       "    <tr>\n",
       "      <th>3</th>\n",
       "      <td>-122.25</td>\n",
       "      <td>37.85</td>\n",
       "      <td>52</td>\n",
       "      <td>1274</td>\n",
       "      <td>235</td>\n",
       "      <td>558</td>\n",
       "      <td>219</td>\n",
       "      <td>5.6431</td>\n",
       "      <td>341300</td>\n",
       "    </tr>\n",
       "    <tr>\n",
       "      <th>4</th>\n",
       "      <td>-122.25</td>\n",
       "      <td>37.85</td>\n",
       "      <td>52</td>\n",
       "      <td>1627</td>\n",
       "      <td>280</td>\n",
       "      <td>565</td>\n",
       "      <td>259</td>\n",
       "      <td>3.8462</td>\n",
       "      <td>342200</td>\n",
       "    </tr>\n",
       "  </tbody>\n",
       "</table>\n",
       "</div>"
      ],
      "text/plain": [
       "   Longitude  Latitude  HousingMedianAge  TotalRooms  TotalBedrooms  \\\n",
       "0    -122.23     37.88                41         880            129   \n",
       "1    -122.22     37.86                21        7099           1106   \n",
       "2    -122.24     37.85                52        1467            190   \n",
       "3    -122.25     37.85                52        1274            235   \n",
       "4    -122.25     37.85                52        1627            280   \n",
       "\n",
       "   Population  Households  MedianIncomeValue  MedianHouseValue  \n",
       "0         322         126             8.3252            452600  \n",
       "1        2401        1138             8.3014            358500  \n",
       "2         496         177             7.2574            352100  \n",
       "3         558         219             5.6431            341300  \n",
       "4         565         259             3.8462            342200  "
      ]
     },
     "execution_count": 1,
     "metadata": {},
     "output_type": "execute_result"
    }
   ],
   "source": [
    "# @empty_cell: delete this comment and insert the CSV file dataframe in this cell\n",
    "\n",
    "#import pandas as pd\n",
    "#df_data_1 = pd.read_csv('../../cal_housing_data with headers.csv')\n",
    "#Please change last two lines to 'df_data_1...' rather than any other dataframe name\n"
   ]
  },
  {
   "cell_type": "markdown",
   "metadata": {},
   "source": [
    "This first snippet imports the library `numpy`, and then extracts data from the\n",
    "previously loaded dataframe into numpy arrays. \n",
    "\n",
    "Since the model is a simple model with\n",
    "only 20,640 rows of data that you are training, it is loaded in one turn. For larger training sets, you must load the data in several smaller epochs. \n",
    "\n",
    "The\n",
    "`housing_data` contains the 20,460 values for each of the eight predictor variables,\n",
    "and the `housing_target` is the vector of 20,640 house values that this model\n",
    "is trained to predict.\n",
    "\n",
    "If the following code cells generate an error message, please recitify the last two lines of the previous import code to \n",
    "<br><br>\n",
    "*df_data_1 = pd.read_csv(body)<br>\n",
    "df_data_1.head()*"
   ]
  },
  {
   "cell_type": "code",
   "execution_count": 2,
   "metadata": {
    "attributes": {
     "classes": [],
     "id": "",
     "n": "2"
    }
   },
   "outputs": [],
   "source": [
    "import numpy as np\n",
    "\n",
    "# Make a numpy array from the dataframe\n",
    "data = np.array([x for x in df_data_1.values])\n",
    "\n",
    "# Separate the 'predictors' (aka 'features') from the dependent variable (aka 'label') \n",
    "# that we will learn how to predict\n",
    "housing_data = np.delete(data, 8, axis=1)\n",
    "housing_target = np.delete(data, slice(0, 8), axis=1)"
   ]
  },
  {
   "cell_type": "markdown",
   "metadata": {},
   "source": [
    "The two lines of code here are just a little housekeeping to prepare for the\n",
    "machine learning step:"
   ]
  },
  {
   "cell_type": "code",
   "execution_count": 3,
   "metadata": {
    "attributes": {
     "classes": [],
     "id": "",
     "n": "3"
    }
   },
   "outputs": [],
   "source": [
    "m, n = housing_data.shape\n",
    "housing_data_plus_bias = np.c_[np.ones((m, 1)), housing_data]"
   ]
  },
  {
   "cell_type": "markdown",
   "metadata": {},
   "source": [
    "<a id=\"train\"></a>\n",
    "## Train the Model"
   ]
  },
  {
   "cell_type": "markdown",
   "metadata": {},
   "source": [
    "Now, a relatively simple machine learning model is implemented here as a quick\n",
    "demonstration of the elements of TensorFlow based machine learning with as\n",
    "little computing complexity as possible for clarity of comprehension. In essence, the data scientist describes what computations must\n",
    "occur, and then TensorFlow determines how to do the computations efficiently.\n",
    "\n",
    "You're going to start by defining the 'flow' or computation graph that\n",
    "TensorFlow runs on. In this particular case, the compute tree for training a\n",
    "multiple linear regression that uses the eight predictor variables and the housing\n",
    "value variable that the model learns to predict is defined. Here's what the code\n",
    "looks like:"
   ]
  },
  {
   "cell_type": "code",
   "execution_count": 4,
   "metadata": {
    "attributes": {
     "classes": [],
     "id": "",
     "n": "4"
    }
   },
   "outputs": [],
   "source": [
    "import tensorflow as tf\n",
    "\n",
    "# Make the compute graph\n",
    "X = tf.constant(housing_data_plus_bias, dtype=tf.float64, name=\"X\")\n",
    "XT = tf.transpose(X)\n",
    "y = tf.constant(housing_target.reshape(-1, 1), dtype=tf.float64, name=\"y\")\n",
    "\n",
    "theta = tf.matmul(tf.matmul(tf.matrix_inverse(tf.matmul(XT, X)), XT), y)"
   ]
  },
  {
   "cell_type": "markdown",
   "metadata": {},
   "source": [
    "The `X` variable is the matrix of eight predictors by the 20,640 samples. `XT` is a\n",
    "transpose that is needed in the linear regression computation. The `Y` variable\n",
    "is the dependent variable, and it is assigned to the 20,640 housing values in\n",
    "the training data. The `theta` variable is the vector of linear regression\n",
    "equation coefficients that results from the series of matrix operations on the\n",
    "formula on the right side."
   ]
  },
  {
   "cell_type": "markdown",
   "metadata": {},
   "source": [
    "<div class=\"alert alert-block alert-info\"> The previous code specifies the compute graph only, that is, the tensor flow. </div>"
   ]
  },
  {
   "cell_type": "markdown",
   "metadata": {},
   "source": [
    "To perform the flow, run the following code. If you then run a line of code to\n",
    "output `theta_value`, you can get an output similar to the output as shown here:"
   ]
  },
  {
   "cell_type": "code",
   "execution_count": 5,
   "metadata": {
    "attributes": {
     "classes": [],
     "id": "",
     "n": "5"
    }
   },
   "outputs": [
    {
     "data": {
      "text/plain": [
       "array([[ -3.59402294e+06],\n",
       "       [ -4.28237438e+04],\n",
       "       [ -4.25767219e+04],\n",
       "       [  1.15630387e+03],\n",
       "       [ -8.18164928e+00],\n",
       "       [  1.13410689e+02],\n",
       "       [ -3.85350953e+01],\n",
       "       [  4.83082868e+01],\n",
       "       [  4.02485142e+04]])"
      ]
     },
     "execution_count": 5,
     "metadata": {},
     "output_type": "execute_result"
    }
   ],
   "source": [
    "# Run the compute graph\n",
    "with tf.Session() as sess:\n",
    "    theta_value = theta.eval()\n",
    "    \n",
    "# For fun, show the linear regression model (i.e. the coefficients of the linear equation)\n",
    "theta_value"
   ]
  },
  {
   "cell_type": "markdown",
   "metadata": {},
   "source": [
    "<a id=\"save\"></a>\n",
    "## Save the Machine Learned Model to a Local data set\n",
    "\n",
    "This is the machine learned linear regression model. It gives the coefficients\n",
    "of a linear equation that is best fit to the training data. Values for the eight\n",
    "predictor variables such as the age of the house and number of bedrooms can be\n",
    "used to predict a house value.\n",
    "\n",
    "Before you are shown the prediction part, you must learn to save and reload the\n",
    "model in TensorFlow. Only after you save the model can you transport it to a\n",
    "production deployment environment, where you can restore it so that it can be used for inference (prediction).\n",
    "\n",
    "If this is the first time that you run this notebook, it is recommended that you\n",
    "use this line to create a subdirectory in data sets to save the TensorFlow model\n",
    "from this notebook:"
   ]
  },
  {
   "cell_type": "code",
   "execution_count": 6,
   "metadata": {
    "attributes": {
     "classes": [],
     "id": "",
     "n": "6"
    }
   },
   "outputs": [],
   "source": [
    "# Make a subdirectory in which to save the model\n",
    "!mkdir \"../datasets/Linear Regression\""
   ]
  },
  {
   "cell_type": "markdown",
   "metadata": {},
   "source": [
    "Then, to save the model, define a second simple TensorFlow compute model that\n",
    "assigns the `theta_value` vector to a variable named `model`. The following code\n",
    "creates and runs this simple tensor flow, and then saves the result in\n",
    "the subdirectory that is created previously."
   ]
  },
  {
   "cell_type": "code",
   "execution_count": 7,
   "metadata": {
    "attributes": {
     "classes": [],
     "id": "",
     "n": "7"
    }
   },
   "outputs": [],
   "source": [
    "# Save the model\n",
    "model = tf.Variable(tf.constant(theta_value, dtype=tf.float64), name=\"model\")\n",
    "\n",
    "init = tf.global_variables_initializer()\n",
    "saver = tf.train.Saver()\n",
    "\n",
    "with tf.Session() as saver_sess:\n",
    "    init.run()\n",
    "    theta_value = model.eval()\n",
    "    save_path = saver.save(saver_sess, \"../datasets/Linear Regression/Linear Regression.ckpt\")"
   ]
  },
  {
   "cell_type": "markdown",
   "metadata": {},
   "source": [
    "The save method that is used here is practical since it is the same 'checkpoint'\n",
    "method that you would use if you were incrementally training a larger model in\n",
    "epochs. It's also useful to understand that what you are saving is the compute\n",
    "graph, the tf.Variable TensorFlow variables, and values that are defined in the model\n",
    "that you are checkpointing. In other words, what gets saved is specific to the\n",
    "type of model that you are training because the type of model affects the\n",
    "compute graph, or tensor flow, that you specified. In a neural net, for example,\n",
    "you must save the structure of the net in addition to the weights and biases.\n",
    "For a linear regression, you already know that the structure is a linear\n",
    "equation, so by saving the coefficients is sufficient. Regardless of what is\n",
    "being saved, TensorFlow saves four files, as shown by the line of code and\n",
    "its output:"
   ]
  },
  {
   "cell_type": "code",
   "execution_count": 8,
   "metadata": {
    "attributes": {
     "classes": [],
     "id": "",
     "n": "8"
    }
   },
   "outputs": [
    {
     "name": "stdout",
     "output_type": "stream",
     "text": [
      "checkpoint\t\t\t\t    Linear Regression.ckpt.index\r\n",
      "Linear Regression.ckpt.data-00000-of-00001  Linear Regression.ckpt.meta\r\n"
     ]
    }
   ],
   "source": [
    "# List the files that comprise the saved model\n",
    "!ls \"../datasets/Linear Regression\""
   ]
  },
  {
   "cell_type": "markdown",
   "metadata": {},
   "source": [
    "<a id=\"restore\"></a>\n",
    "## Restore the Machine Learned Model from the Local data set\n",
    "\n",
    "Now, suppose that you were to move these four files to a production deployment\n",
    "environment. The following is the code that you can use to reload the model to use for\n",
    "inference:"
   ]
  },
  {
   "cell_type": "code",
   "execution_count": 9,
   "metadata": {
    "attributes": {
     "classes": [],
     "id": "",
     "n": "9"
    }
   },
   "outputs": [
    {
     "name": "stdout",
     "output_type": "stream",
     "text": [
      "INFO:tensorflow:Restoring parameters from ../datasets/Linear Regression/Linear Regression.ckpt\n"
     ]
    }
   ],
   "source": [
    "# Restore the saved model \n",
    "# NOTE: This should run on inference service initialization, not on every inference\n",
    "\n",
    "sess_restore = tf.Session()\n",
    "\n",
    "saver = tf.train.import_meta_graph('../datasets/Linear Regression/Linear Regression.ckpt.meta')\n",
    "saver.restore(sess_restore,tf.train.latest_checkpoint('../datasets/Linear Regression/'))\n",
    "\n",
    "theta_value = sess_restore.run('model:0')\n",
    "\n",
    "sess_restore.close()"
   ]
  },
  {
   "cell_type": "code",
   "execution_count": 10,
   "metadata": {
    "attributes": {
     "classes": [],
     "id": "",
     "n": "10"
    }
   },
   "outputs": [
    {
     "data": {
      "text/plain": [
       "array([[ -3.59402294e+06],\n",
       "       [ -4.28237438e+04],\n",
       "       [ -4.25767219e+04],\n",
       "       [  1.15630387e+03],\n",
       "       [ -8.18164928e+00],\n",
       "       [  1.13410689e+02],\n",
       "       [ -3.85350953e+01],\n",
       "       [  4.83082868e+01],\n",
       "       [  4.02485142e+04]])"
      ]
     },
     "execution_count": 10,
     "metadata": {},
     "output_type": "execute_result"
    }
   ],
   "source": [
    "# For fun, show the linear regression model again\n",
    "theta_value"
   ]
  },
  {
   "cell_type": "markdown",
   "metadata": {},
   "source": [
    "<a id=\"infer\"></a>\n",
    "## Infer by using the Restored Machine Learned Model\n",
    "\n",
    "Finally, you can perform inferences by using the `theta_value` vector. To simulate\n",
    "making a prediction, the zeroth row of the `housing_data` for the\n",
    "values of the predictor values is used. The `predicted_value` is initialized to\n",
    "the constant coefficient of the linear equation, and then the remaining\n",
    "coefficients of the theta_value are placed in `linear_coefficients` to make the\n",
    "loop easier to read. The loop then multiplies each predictor variable value\n",
    "`housing_data[0][j]` by the corresponding coefficient. (Each coefficient `c` in\n",
    "the for loop iteration of `linear_coefficients` is, unfortunately, an array of\n",
    "size 1, so `c[0]` is used to get the actual value of the coefficient.)\n",
    "\n",
    "It's worth noting that, for a larger model, you can also use\n",
    "TensorFlow to perform the inference. But because this is a linear regression\n",
    "that involves only nine coefficients, by using TensorFlow it might slow it down. \n",
    "Still, it is an easy tensor flow to write... an exercise for the reader!"
   ]
  },
  {
   "cell_type": "code",
   "execution_count": 11,
   "metadata": {
    "attributes": {
     "classes": [],
     "id": "",
     "n": "11"
    }
   },
   "outputs": [],
   "source": [
    "# Now we'll do an inference to predict a value with the model\n",
    "# We will use house_data[0] as if it had been received as input to the inference service\n",
    "\n",
    "# NOTE: This could be rewritten as TensorFlow code, though that would be more typical of \n",
    "#       larger models. At only 9 iterations, this would likely be slower as TensorFlow code\n",
    "\n",
    "# Start by setting the predicted value equal to the linear equation's constant term\n",
    "predicted_value = theta_value[0][0]\n",
    "\n",
    "# Get the coefficients of the features (i.e. exclude the constant term accounted for above)\n",
    "coefficients = theta_value[1:]\n",
    "\n",
    "# For each feature (independent variable), add to the predicted value the product\n",
    "# of the coefficient for the feature (c = theta_value[j+1]) and the j^th feature of\n",
    "# the inference service input data (represented by housing_data[0])\n",
    "for j, c in enumerate(coefficients):\n",
    "    predicted_value += c[0] * housing_data[0][j]"
   ]
  },
  {
   "cell_type": "markdown",
   "metadata": {},
   "source": [
    "If you now run a line of Python code to see the value of `predicted_value`, you\n",
    "get output like the following:"
   ]
  },
  {
   "cell_type": "code",
   "execution_count": 12,
   "metadata": {
    "attributes": {
     "classes": [],
     "id": "",
     "n": "12"
    }
   },
   "outputs": [
    {
     "data": {
      "text/plain": [
       "411111.09606514324"
      ]
     },
     "execution_count": 12,
     "metadata": {},
     "output_type": "execute_result"
    }
   ],
   "source": [
    "# For fun, show the predicted value\n",
    "predicted_value"
   ]
  },
  {
   "cell_type": "markdown",
   "metadata": {},
   "source": [
    "Use the following code for when you want to erase the model training and start\n",
    "again on a blank plate. Remove the `#` in front of the line of code and run the\n",
    "cell."
   ]
  },
  {
   "cell_type": "code",
   "execution_count": 13,
   "metadata": {
    "attributes": {
     "classes": [],
     "id": "",
     "n": "15"
    }
   },
   "outputs": [],
   "source": [
    "## For when you want to wipe out the training and do it again\n",
    "# !rm -rf \"../datasets/Linear Regression\""
   ]
  },
  {
   "cell_type": "markdown",
   "metadata": {},
   "source": [
    "<a id=\"measurement\"></a>\n",
    "## Measuring the Quality of the Trained Model\n",
    "\n",
    "Now you can measure the regression model quality with R squared. Begin by generate predictions for all of the housing data.\n"
   ]
  },
  {
   "cell_type": "code",
   "execution_count": 14,
   "metadata": {},
   "outputs": [
    {
     "data": {
      "text/plain": [
       "array([ 411111.09606514,  416144.49078677,  380432.65417531, ...,\n",
       "         25026.16974547,   37991.19625605,   55550.98309601])"
      ]
     },
     "execution_count": 14,
     "metadata": {},
     "output_type": "execute_result"
    }
   ],
   "source": [
    "# Now we'll see how to compute predictions for a batch of items by using all of the training data\n",
    "predicted_values = np.full((m), theta_value[0][0])\n",
    "\n",
    "# Get the coefficients of the features (i.e. exclude the constant term accounted for above)\n",
    "coefficients = theta_value[1:]\n",
    "\n",
    "# For each of the m rows of housing data, update the predicted value (y) as follows:\n",
    "    # For each feature (independent variable), add to the predicted value the product\n",
    "    # of the coefficient for the feature (c = theta_value[j+1]) and the i^th row's\n",
    "    # housing data value for the jth feature\n",
    "\n",
    "for i, x in enumerate(housing_data):\n",
    "    for j, c in enumerate(coefficients):\n",
    "        predicted_values[i] += c * x[j]\n",
    "        \n",
    "predicted_values"
   ]
  },
  {
   "cell_type": "markdown",
   "metadata": {},
   "source": [
    "Now we'll get the actual dependent variable values into a flat array."
   ]
  },
  {
   "cell_type": "code",
   "execution_count": 15,
   "metadata": {},
   "outputs": [
    {
     "data": {
      "text/plain": [
       "array([ 452600.,  358500.,  352100., ...,   92300.,   84700.,   89400.])"
      ]
     },
     "execution_count": 15,
     "metadata": {},
     "output_type": "execute_result"
    }
   ],
   "source": [
    "y_actual = np.ndarray.flatten(housing_target)\n",
    "y_actual"
   ]
  },
  {
   "cell_type": "markdown",
   "metadata": {},
   "source": [
    "Now, we can calculated R squared using the scikit learn function, as this is how you'd normally do it."
   ]
  },
  {
   "cell_type": "code",
   "execution_count": 16,
   "metadata": {},
   "outputs": [
    {
     "data": {
      "text/plain": [
       "0.63710562292234463"
      ]
     },
     "execution_count": 16,
     "metadata": {},
     "output_type": "execute_result"
    }
   ],
   "source": [
    "from sklearn.metrics import r2_score\n",
    "R2 = r2_score(y_actual, predicted_values)\n",
    "R2"
   ]
  },
  {
   "cell_type": "markdown",
   "metadata": {},
   "source": [
    "To give more insight into how R squared characterizes model quality, we can also do the math manually. We start with taking the average of the dependent variable."
   ]
  },
  {
   "cell_type": "code",
   "execution_count": 17,
   "metadata": {
    "attributes": {
     "classes": [],
     "id": "",
     "n": "16"
    }
   },
   "outputs": [
    {
     "data": {
      "text/plain": [
       "206855.81690891474"
      ]
     },
     "execution_count": 17,
     "metadata": {},
     "output_type": "execute_result"
    }
   ],
   "source": [
    "y_bar = np.mean(y_actual)\n",
    "y_bar"
   ]
  },
  {
   "cell_type": "markdown",
   "metadata": {},
   "source": [
    "Next, compute the data set variance from the mean (total sum of the squared\n",
    "differences)."
   ]
  },
  {
   "cell_type": "code",
   "execution_count": 18,
   "metadata": {
    "attributes": {
     "classes": [],
     "id": "",
     "n": "17"
    }
   },
   "outputs": [
    {
     "data": {
      "text/plain": [
       "274831981936881.9"
      ]
     },
     "execution_count": 18,
     "metadata": {},
     "output_type": "execute_result"
    }
   ],
   "source": [
    "SStot = 0.0\n",
    "for y_i in y_actual:\n",
    "    diff = float(y_i - y_bar)\n",
    "    SStot += (diff * diff)\n",
    "SStot"
   ]
  },
  {
   "cell_type": "markdown",
   "metadata": {},
   "source": [
    "Now you can compute the amount that the regression models predicted values that vary\n",
    "from the mean. The total is the sum of squared differences between the predicted\n",
    "values and the mean."
   ]
  },
  {
   "cell_type": "code",
   "execution_count": 19,
   "metadata": {
    "attributes": {
     "classes": [],
     "id": "",
     "n": "18"
    }
   },
   "outputs": [
    {
     "data": {
      "text/plain": [
       "175097001050335.3"
      ]
     },
     "execution_count": 19,
     "metadata": {},
     "output_type": "execute_result"
    }
   ],
   "source": [
    "SSreg = 0.0\n",
    "for f_i in predicted_values:\n",
    "    diff = float(f_i - y_bar)\n",
    "    SSreg += (diff * diff)\n",
    "SSreg"
   ]
  },
  {
   "cell_type": "markdown",
   "metadata": {},
   "source": [
    "The R squared is just the ratio. It gives the percentage of the variance from\n",
    "the mean that is accounted for by using the regression model to predict values\n",
    "the mean as the predicted value for any observation in the group."
   ]
  },
  {
   "cell_type": "code",
   "execution_count": 20,
   "metadata": {
    "attributes": {
     "classes": [],
     "id": "",
     "n": "19"
    }
   },
   "outputs": [
    {
     "data": {
      "text/plain": [
       "0.6371056229203638"
      ]
     },
     "execution_count": 20,
     "metadata": {},
     "output_type": "execute_result"
    }
   ],
   "source": [
    "R_squared = SSreg / SStot\n",
    "R_squared"
   ]
  },
  {
   "cell_type": "markdown",
   "metadata": {},
   "source": [
    "A second way to think about this is to consider the amount of remaining error,\n",
    "that is, the amount of remaining or 'residual' variance between the actual data\n",
    "points and the regression models predicted values."
   ]
  },
  {
   "cell_type": "code",
   "execution_count": 21,
   "metadata": {
    "attributes": {
     "classes": [],
     "id": "",
     "n": "20"
    }
   },
   "outputs": [
    {
     "data": {
      "text/plain": [
       "99734980886003.83"
      ]
     },
     "execution_count": 21,
     "metadata": {},
     "output_type": "execute_result"
    }
   ],
   "source": [
    "SSres = 0.0\n",
    "for i, f_i in enumerate(predicted_values):\n",
    "    diff = float(f_i - y_actual[i])\n",
    "    SSres += (diff * diff)\n",
    "SSres"
   ]
  },
  {
   "cell_type": "markdown",
   "metadata": {},
   "source": [
    "So R squared can also be computed based on the percentage of leftover (residual)\n",
    "variance."
   ]
  },
  {
   "cell_type": "code",
   "execution_count": 22,
   "metadata": {
    "attributes": {
     "classes": [],
     "id": "",
     "n": "21"
    }
   },
   "outputs": [
    {
     "data": {
      "text/plain": [
       "0.6371056229223386"
      ]
     },
     "execution_count": 22,
     "metadata": {},
     "output_type": "execute_result"
    }
   ],
   "source": [
    "R_squared = 1.0 - SSres / SStot\n",
    "R_squared"
   ]
  },
  {
   "cell_type": "markdown",
   "metadata": {},
   "source": [
    "<a id=\"summary\"></a>\n",
    "## Summary"
   ]
  },
  {
   "cell_type": "markdown",
   "metadata": {},
   "source": [
    "You learned how to train a linear regression model by using the TensorFlow library and teaching it to predict house values with several predictor variables. Unlike a classification model that predicts a nominal variable (for example, classifying an input image as being one of several possible classes), data scientists train and use a regression model to predict the value of a continuous variable or high-valued ordinal variable (like a property valuation or a number of hours a patient needs in an intensive care unit). "
   ]
  },
  {
   "cell_type": "markdown",
   "metadata": {},
   "source": [
    "<a id=\"links\"></a>\n",
    "## Related Links\n",
    "\n",
    "- <a href=\"https://datascience.ibm.com/\" target=\"_blank\">See Watson Studio</a><br>\n",
    "- <a href=\"https://www.ibm.com/developerworks/community/profiles/html/profileView.do?userid=060000VMNY&lang=en\" target=\"_blank\">Author's Blog on IBM Developer Works</a>\n",
    "\n"
   ]
  },
  {
   "cell_type": "markdown",
   "metadata": {},
   "source": [
    "<a id=\"author\"></a>\n",
    "### Author\n",
    "\n",
    "John M. Boyer, IBM Global Chief Data Office"
   ]
  },
  {
   "cell_type": "markdown",
   "metadata": {},
   "source": [
    "Copyright © IBM Corp. 2018. This notebook and its source code are released under the terms of the MIT License."
   ]
  },
  {
   "cell_type": "markdown",
   "metadata": {},
   "source": [
    "<div style=\"background:#F5F7FA; height:100px; padding: 2em; font-size:14px;\">\n",
    "<span style=\"font-size:18px;color:#152935;\">Want to do more?</span><span style=\"border: 1px solid #3d70b2;padding: 15px;float:right;margin-right:40px; color:#3d70b2; \"><a href=\"https://ibm.co/wsnotebooks\" target=\"_blank\" style=\"color: #3d70b2;text-decoration: none;\">Sign Up</a></span><br>\n",
    "<span style=\"color:#5A6872;\"> Try out this notebook with your free trial of IBM Watson Studio.</span>\n",
    "</div>"
   ]
  }
 ],
 "metadata": {
  "kernelspec": {
   "display_name": "Python 2 with Spark 2.1",
   "language": "python",
   "name": "python2-spark21"
  },
  "language_info": {
   "codemirror_mode": {
    "name": "ipython",
    "version": 2
   },
   "file_extension": ".py",
   "mimetype": "text/x-python",
   "name": "python",
   "nbconvert_exporter": "python",
   "pygments_lexer": "ipython2",
   "version": "2.7.11"
  }
 },
 "nbformat": 4,
 "nbformat_minor": 2
}
