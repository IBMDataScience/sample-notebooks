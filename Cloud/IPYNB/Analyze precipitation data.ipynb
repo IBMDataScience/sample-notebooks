{
 "cells": [
  {
   "cell_type": "markdown",
   "metadata": {},
   "source": [
    "# Analyze precipitation data \n",
    "\n",
    "This notebook shows you the basic steps when analyzing precipitation data in a notebook. You will learn how to load a data file to a notebook, access this data file in Object Storage, and then load the content of the data file into a `pandas` DataFrame. Furthermore, you will learn how to explore and analyze the data in the DataFrame and how to vizualize your results by using the `matplotlib` library. \n",
    "\n",
    "This notebook runs on Python 2 and 3.\n",
    "\n",
    "## Table of contents\n",
    "1. [Get data](#data_set)\n",
    "\n",
    "2. [Load data](#load_data)\n",
    "\n",
    "3. [Access data](#access_data)\n",
    "\n",
    "4. [Explore data](#explore_data)\n",
    "\n",
    "5. [Plot the results](#plot_data)\n",
    "\n",
    "6. [Download the notebook](#download)\n",
    "\n",
    "7. [Summary](#summary)\n"
   ]
  },
  {
   "cell_type": "markdown",
   "metadata": {},
   "source": [
    "<a id=\"data_set\"></a> \n",
    "## 1. Get data\n",
    "In this notebook, you will explore and analyze historical annual precipitation data.\n",
    "\n",
    "The raw precipitation data set is from <a href=\"http://data.un.org/\" target=\"_blank\" rel=\"noopener no referrer\">UNData</a>, an Internet search engine for statistical databases provided by the United Nations Statistics Division. You will use a curated version of this data set in this sample. The precipitation measurements are in million cubic meters.\n",
    "\n",
    "To get the precipitation data set:\n",
    "1. Click <a href=\"https://cdsax.cloudant.com/public-samples/test/precipitation.csv\" target=\"_blank\" rel=\"noopener no referrer\">annual precipitation data set</a> to download the data in CSV format.   \n",
    "    Note: If you use Safari, right-click the link and select **Download Linked File**. The CSV file is downloaded to your `Download` folder.              \n",
    "1. Save the CSV file to your computer.\n",
    "\n"
   ]
  },
  {
   "cell_type": "markdown",
   "metadata": {},
   "source": [
    "<a id=\"load_data\"></a>\n",
    "## 2. Load data\n",
    "You can add the CSV file that you downloaded to this notebook by clicking the **Data** icon on the notebook action bar and dragging the file to the `Data` pane in the notebook. \n",
    "The data file is listed on the `Data` pane and is saved in the Object Storage instance associated with your project.\n",
    "\n",
    "In the next step, you will learn how to access files in Object Storage."
   ]
  },
  {
   "cell_type": "markdown",
   "metadata": {},
   "source": [
    "<a id=\"access_data\"></a> \n",
    "## 3. Access data \n",
    "\n",
    "**<a href=\"http://pandas.pydata.org/\" target=\"_blank\" rel=\"noopener no referrer\">pandas</a>** is a useful Python package for managing structured data. The two primary data structures of pandas are <a href=\"http://pandas-docs.github.io/pandas-docs-travis/dsintro.html#series\" target=\"_blank\" rel=\"noopener no referrer\">`Series`</a> (1-dimensional) and <a href=\"http://pandas-docs.github.io/pandas-docs-travis/dsintro.html#dataframe\" target=\"_blank\" rel=\"noopener no referrer\">`DataFrame`</a> (2-dimensional).\n",
    "\n",
    "In the following steps, you will load the `precipitation.csv` file into a DataFrame in memory.\n",
    "\n",
    "To run code cells in a notebook, click Run Cell (**&#9658;**) in the notebook toolbar.  While the code in the cell is running, a `[*]` appears next to the cell. After the code has run, the `[*]` is replaced by a number indicating that the code cell is the *N*th cell to run in the notebook."
   ]
  },
  {
   "cell_type": "markdown",
   "metadata": {},
   "source": [
    "### Insert code to access the data source\n",
    "\n",
    "To add the code to access the `precipitation.csv` file which is stored in Object Storage, click the next code cell and select **Insert to code>pandas DataFrame** on the data file that you loaded in the `Data` pane in the notebook.\n",
    "\n",
    "This function inserts the setup and data loading code for you. The setup code includes importing the required packages and defining a helper function. The helper function includes the Object Storage credentials to access the `precipitation.csv` file. Then, the data in the `precipitation.csv` file is loaded into a `pandas DataFrame`.\n"
   ]
  },
  {
   "cell_type": "markdown",
   "metadata": {},
   "source": [
    "<div class=\"alert alert-block alert-info\">Note: The DataFrame that is created for you and filled with data is given a generic name. Rename the DataFrame to `precipitation_df` and run the code cell to proceed.</div>"
   ]
  },
  {
   "cell_type": "code",
   "execution_count": 1,
   "metadata": {},
   "outputs": [
    {
     "name": "stdout",
     "output_type": "stream",
     "text": [
      "Waiting for a Spark session to start...\n",
      "Spark Initialization Done! ApplicationId = app-20180711124609-0000\n"
     ]
    },
    {
     "data": {
      "text/html": [
       "<div>\n",
       "<style scoped>\n",
       "    .dataframe tbody tr th:only-of-type {\n",
       "        vertical-align: middle;\n",
       "    }\n",
       "\n",
       "    .dataframe tbody tr th {\n",
       "        vertical-align: top;\n",
       "    }\n",
       "\n",
       "    .dataframe thead th {\n",
       "        text-align: right;\n",
       "    }\n",
       "</style>\n",
       "<table border=\"1\" class=\"dataframe\">\n",
       "  <thead>\n",
       "    <tr style=\"text-align: right;\">\n",
       "      <th></th>\n",
       "      <th>Country or Area</th>\n",
       "      <th>1990</th>\n",
       "      <th>1995</th>\n",
       "      <th>1996</th>\n",
       "      <th>1997</th>\n",
       "      <th>1998</th>\n",
       "      <th>1999</th>\n",
       "      <th>2000</th>\n",
       "      <th>2001</th>\n",
       "      <th>2002</th>\n",
       "      <th>2003</th>\n",
       "      <th>2004</th>\n",
       "      <th>2005</th>\n",
       "      <th>2006</th>\n",
       "      <th>2007</th>\n",
       "      <th>2008</th>\n",
       "      <th>2009</th>\n",
       "    </tr>\n",
       "  </thead>\n",
       "  <tbody>\n",
       "    <tr>\n",
       "      <th>0</th>\n",
       "      <td>Albania</td>\n",
       "      <td>28385.000000</td>\n",
       "      <td>40311.000000</td>\n",
       "      <td>0.000000</td>\n",
       "      <td>0.000000</td>\n",
       "      <td>0.0</td>\n",
       "      <td>38284.000000</td>\n",
       "      <td>30683.000000</td>\n",
       "      <td>30491.000000</td>\n",
       "      <td>35883.000000</td>\n",
       "      <td>27893.000000</td>\n",
       "      <td>42787.000000</td>\n",
       "      <td>42840.000000</td>\n",
       "      <td>32380.000000</td>\n",
       "      <td>30964.000000</td>\n",
       "      <td>0.000000</td>\n",
       "      <td>0.000000</td>\n",
       "    </tr>\n",
       "    <tr>\n",
       "      <th>1</th>\n",
       "      <td>Algeria</td>\n",
       "      <td>76160.000000</td>\n",
       "      <td>90270.000000</td>\n",
       "      <td>53380.000000</td>\n",
       "      <td>74460.000000</td>\n",
       "      <td>66470.0</td>\n",
       "      <td>50150.000000</td>\n",
       "      <td>64430.000000</td>\n",
       "      <td>43840.000000</td>\n",
       "      <td>37317.000000</td>\n",
       "      <td>0.000000</td>\n",
       "      <td>0.000000</td>\n",
       "      <td>0.000000</td>\n",
       "      <td>0.000000</td>\n",
       "      <td>0.000000</td>\n",
       "      <td>100000.000000</td>\n",
       "      <td>0.000000</td>\n",
       "    </tr>\n",
       "    <tr>\n",
       "      <th>2</th>\n",
       "      <td>Andorra</td>\n",
       "      <td>539.947998</td>\n",
       "      <td>510.673004</td>\n",
       "      <td>560.340027</td>\n",
       "      <td>434.475006</td>\n",
       "      <td>254.0</td>\n",
       "      <td>450.151001</td>\n",
       "      <td>518.666016</td>\n",
       "      <td>456.626007</td>\n",
       "      <td>565.559021</td>\n",
       "      <td>566.583008</td>\n",
       "      <td>567.044006</td>\n",
       "      <td>530.278015</td>\n",
       "      <td>353.220001</td>\n",
       "      <td>306.630005</td>\n",
       "      <td>0.000000</td>\n",
       "      <td>0.000000</td>\n",
       "    </tr>\n",
       "    <tr>\n",
       "      <th>3</th>\n",
       "      <td>Anguilla</td>\n",
       "      <td>93.099998</td>\n",
       "      <td>100.730003</td>\n",
       "      <td>0.000000</td>\n",
       "      <td>0.000000</td>\n",
       "      <td>0.0</td>\n",
       "      <td>0.000000</td>\n",
       "      <td>68.190002</td>\n",
       "      <td>70.730003</td>\n",
       "      <td>68.190002</td>\n",
       "      <td>108.769997</td>\n",
       "      <td>84.250000</td>\n",
       "      <td>124.400002</td>\n",
       "      <td>99.550003</td>\n",
       "      <td>86.290001</td>\n",
       "      <td>96.889999</td>\n",
       "      <td>71.080002</td>\n",
       "    </tr>\n",
       "    <tr>\n",
       "      <th>4</th>\n",
       "      <td>Antigua and Barbuda</td>\n",
       "      <td>300.299988</td>\n",
       "      <td>374.500000</td>\n",
       "      <td>323.299988</td>\n",
       "      <td>279.200012</td>\n",
       "      <td>384.5</td>\n",
       "      <td>426.799988</td>\n",
       "      <td>249.600006</td>\n",
       "      <td>238.000000</td>\n",
       "      <td>268.600006</td>\n",
       "      <td>253.899994</td>\n",
       "      <td>426.899994</td>\n",
       "      <td>371.000000</td>\n",
       "      <td>332.799988</td>\n",
       "      <td>293.600006</td>\n",
       "      <td>392.500000</td>\n",
       "      <td>276.899994</td>\n",
       "    </tr>\n",
       "  </tbody>\n",
       "</table>\n",
       "</div>"
      ],
      "text/plain": [
       "       Country or Area          1990          1995          1996  \\\n",
       "0              Albania  28385.000000  40311.000000      0.000000   \n",
       "1              Algeria  76160.000000  90270.000000  53380.000000   \n",
       "2              Andorra    539.947998    510.673004    560.340027   \n",
       "3             Anguilla     93.099998    100.730003      0.000000   \n",
       "4  Antigua and Barbuda    300.299988    374.500000    323.299988   \n",
       "\n",
       "           1997     1998          1999          2000          2001  \\\n",
       "0      0.000000      0.0  38284.000000  30683.000000  30491.000000   \n",
       "1  74460.000000  66470.0  50150.000000  64430.000000  43840.000000   \n",
       "2    434.475006    254.0    450.151001    518.666016    456.626007   \n",
       "3      0.000000      0.0      0.000000     68.190002     70.730003   \n",
       "4    279.200012    384.5    426.799988    249.600006    238.000000   \n",
       "\n",
       "           2002          2003          2004          2005          2006  \\\n",
       "0  35883.000000  27893.000000  42787.000000  42840.000000  32380.000000   \n",
       "1  37317.000000      0.000000      0.000000      0.000000      0.000000   \n",
       "2    565.559021    566.583008    567.044006    530.278015    353.220001   \n",
       "3     68.190002    108.769997     84.250000    124.400002     99.550003   \n",
       "4    268.600006    253.899994    426.899994    371.000000    332.799988   \n",
       "\n",
       "           2007           2008        2009  \n",
       "0  30964.000000       0.000000    0.000000  \n",
       "1      0.000000  100000.000000    0.000000  \n",
       "2    306.630005       0.000000    0.000000  \n",
       "3     86.290001      96.889999   71.080002  \n",
       "4    293.600006     392.500000  276.899994  "
      ]
     },
     "execution_count": 1,
     "metadata": {},
     "output_type": "execute_result"
    }
   ],
   "source": []
  },
  {
   "cell_type": "markdown",
   "metadata": {},
   "source": [
    "<a id=\"explore_data\"></a> \n",
    "## 4. Explore data\n",
    "\n",
    "Now that your data is in memory, you can begin to explore and manipulate it.\n",
    "\n",
    "Show the first five and the last five rows of the data by using the `head()` and `tail()` methods.  Run each code cell:"
   ]
  },
  {
   "cell_type": "code",
   "execution_count": 2,
   "metadata": {},
   "outputs": [
    {
     "data": {
      "text/html": [
       "<div>\n",
       "<style scoped>\n",
       "    .dataframe tbody tr th:only-of-type {\n",
       "        vertical-align: middle;\n",
       "    }\n",
       "\n",
       "    .dataframe tbody tr th {\n",
       "        vertical-align: top;\n",
       "    }\n",
       "\n",
       "    .dataframe thead th {\n",
       "        text-align: right;\n",
       "    }\n",
       "</style>\n",
       "<table border=\"1\" class=\"dataframe\">\n",
       "  <thead>\n",
       "    <tr style=\"text-align: right;\">\n",
       "      <th></th>\n",
       "      <th>Country or Area</th>\n",
       "      <th>1990</th>\n",
       "      <th>1995</th>\n",
       "      <th>1996</th>\n",
       "      <th>1997</th>\n",
       "      <th>1998</th>\n",
       "      <th>1999</th>\n",
       "      <th>2000</th>\n",
       "      <th>2001</th>\n",
       "      <th>2002</th>\n",
       "      <th>2003</th>\n",
       "      <th>2004</th>\n",
       "      <th>2005</th>\n",
       "      <th>2006</th>\n",
       "      <th>2007</th>\n",
       "      <th>2008</th>\n",
       "      <th>2009</th>\n",
       "    </tr>\n",
       "  </thead>\n",
       "  <tbody>\n",
       "    <tr>\n",
       "      <th>0</th>\n",
       "      <td>Albania</td>\n",
       "      <td>28385.000000</td>\n",
       "      <td>40311.000000</td>\n",
       "      <td>0.000000</td>\n",
       "      <td>0.000000</td>\n",
       "      <td>0.0</td>\n",
       "      <td>38284.000000</td>\n",
       "      <td>30683.000000</td>\n",
       "      <td>30491.000000</td>\n",
       "      <td>35883.000000</td>\n",
       "      <td>27893.000000</td>\n",
       "      <td>42787.000000</td>\n",
       "      <td>42840.000000</td>\n",
       "      <td>32380.000000</td>\n",
       "      <td>30964.000000</td>\n",
       "      <td>0.000000</td>\n",
       "      <td>0.000000</td>\n",
       "    </tr>\n",
       "    <tr>\n",
       "      <th>1</th>\n",
       "      <td>Algeria</td>\n",
       "      <td>76160.000000</td>\n",
       "      <td>90270.000000</td>\n",
       "      <td>53380.000000</td>\n",
       "      <td>74460.000000</td>\n",
       "      <td>66470.0</td>\n",
       "      <td>50150.000000</td>\n",
       "      <td>64430.000000</td>\n",
       "      <td>43840.000000</td>\n",
       "      <td>37317.000000</td>\n",
       "      <td>0.000000</td>\n",
       "      <td>0.000000</td>\n",
       "      <td>0.000000</td>\n",
       "      <td>0.000000</td>\n",
       "      <td>0.000000</td>\n",
       "      <td>100000.000000</td>\n",
       "      <td>0.000000</td>\n",
       "    </tr>\n",
       "    <tr>\n",
       "      <th>2</th>\n",
       "      <td>Andorra</td>\n",
       "      <td>539.947998</td>\n",
       "      <td>510.673004</td>\n",
       "      <td>560.340027</td>\n",
       "      <td>434.475006</td>\n",
       "      <td>254.0</td>\n",
       "      <td>450.151001</td>\n",
       "      <td>518.666016</td>\n",
       "      <td>456.626007</td>\n",
       "      <td>565.559021</td>\n",
       "      <td>566.583008</td>\n",
       "      <td>567.044006</td>\n",
       "      <td>530.278015</td>\n",
       "      <td>353.220001</td>\n",
       "      <td>306.630005</td>\n",
       "      <td>0.000000</td>\n",
       "      <td>0.000000</td>\n",
       "    </tr>\n",
       "    <tr>\n",
       "      <th>3</th>\n",
       "      <td>Anguilla</td>\n",
       "      <td>93.099998</td>\n",
       "      <td>100.730003</td>\n",
       "      <td>0.000000</td>\n",
       "      <td>0.000000</td>\n",
       "      <td>0.0</td>\n",
       "      <td>0.000000</td>\n",
       "      <td>68.190002</td>\n",
       "      <td>70.730003</td>\n",
       "      <td>68.190002</td>\n",
       "      <td>108.769997</td>\n",
       "      <td>84.250000</td>\n",
       "      <td>124.400002</td>\n",
       "      <td>99.550003</td>\n",
       "      <td>86.290001</td>\n",
       "      <td>96.889999</td>\n",
       "      <td>71.080002</td>\n",
       "    </tr>\n",
       "    <tr>\n",
       "      <th>4</th>\n",
       "      <td>Antigua and Barbuda</td>\n",
       "      <td>300.299988</td>\n",
       "      <td>374.500000</td>\n",
       "      <td>323.299988</td>\n",
       "      <td>279.200012</td>\n",
       "      <td>384.5</td>\n",
       "      <td>426.799988</td>\n",
       "      <td>249.600006</td>\n",
       "      <td>238.000000</td>\n",
       "      <td>268.600006</td>\n",
       "      <td>253.899994</td>\n",
       "      <td>426.899994</td>\n",
       "      <td>371.000000</td>\n",
       "      <td>332.799988</td>\n",
       "      <td>293.600006</td>\n",
       "      <td>392.500000</td>\n",
       "      <td>276.899994</td>\n",
       "    </tr>\n",
       "  </tbody>\n",
       "</table>\n",
       "</div>"
      ],
      "text/plain": [
       "       Country or Area          1990          1995          1996  \\\n",
       "0              Albania  28385.000000  40311.000000      0.000000   \n",
       "1              Algeria  76160.000000  90270.000000  53380.000000   \n",
       "2              Andorra    539.947998    510.673004    560.340027   \n",
       "3             Anguilla     93.099998    100.730003      0.000000   \n",
       "4  Antigua and Barbuda    300.299988    374.500000    323.299988   \n",
       "\n",
       "           1997     1998          1999          2000          2001  \\\n",
       "0      0.000000      0.0  38284.000000  30683.000000  30491.000000   \n",
       "1  74460.000000  66470.0  50150.000000  64430.000000  43840.000000   \n",
       "2    434.475006    254.0    450.151001    518.666016    456.626007   \n",
       "3      0.000000      0.0      0.000000     68.190002     70.730003   \n",
       "4    279.200012    384.5    426.799988    249.600006    238.000000   \n",
       "\n",
       "           2002          2003          2004          2005          2006  \\\n",
       "0  35883.000000  27893.000000  42787.000000  42840.000000  32380.000000   \n",
       "1  37317.000000      0.000000      0.000000      0.000000      0.000000   \n",
       "2    565.559021    566.583008    567.044006    530.278015    353.220001   \n",
       "3     68.190002    108.769997     84.250000    124.400002     99.550003   \n",
       "4    268.600006    253.899994    426.899994    371.000000    332.799988   \n",
       "\n",
       "           2007           2008        2009  \n",
       "0  30964.000000       0.000000    0.000000  \n",
       "1      0.000000  100000.000000    0.000000  \n",
       "2    306.630005       0.000000    0.000000  \n",
       "3     86.290001      96.889999   71.080002  \n",
       "4    293.600006     392.500000  276.899994  "
      ]
     },
     "execution_count": 2,
     "metadata": {},
     "output_type": "execute_result"
    }
   ],
   "source": [
    "precipitation_df.head()"
   ]
  },
  {
   "cell_type": "code",
   "execution_count": 3,
   "metadata": {
    "scrolled": true
   },
   "outputs": [
    {
     "data": {
      "text/html": [
       "<div>\n",
       "<style scoped>\n",
       "    .dataframe tbody tr th:only-of-type {\n",
       "        vertical-align: middle;\n",
       "    }\n",
       "\n",
       "    .dataframe tbody tr th {\n",
       "        vertical-align: top;\n",
       "    }\n",
       "\n",
       "    .dataframe thead th {\n",
       "        text-align: right;\n",
       "    }\n",
       "</style>\n",
       "<table border=\"1\" class=\"dataframe\">\n",
       "  <thead>\n",
       "    <tr style=\"text-align: right;\">\n",
       "      <th></th>\n",
       "      <th>Country or Area</th>\n",
       "      <th>1990</th>\n",
       "      <th>1995</th>\n",
       "      <th>1996</th>\n",
       "      <th>1997</th>\n",
       "      <th>1998</th>\n",
       "      <th>1999</th>\n",
       "      <th>2000</th>\n",
       "      <th>2001</th>\n",
       "      <th>2002</th>\n",
       "      <th>2003</th>\n",
       "      <th>2004</th>\n",
       "      <th>2005</th>\n",
       "      <th>2006</th>\n",
       "      <th>2007</th>\n",
       "      <th>2008</th>\n",
       "      <th>2009</th>\n",
       "    </tr>\n",
       "  </thead>\n",
       "  <tbody>\n",
       "    <tr>\n",
       "      <th>86</th>\n",
       "      <td>Turkey</td>\n",
       "      <td>399979.0</td>\n",
       "      <td>501301.0</td>\n",
       "      <td>0.0</td>\n",
       "      <td>0.0</td>\n",
       "      <td>0.0</td>\n",
       "      <td>0.0</td>\n",
       "      <td>462740.0</td>\n",
       "      <td>566247.0</td>\n",
       "      <td>495134.0</td>\n",
       "      <td>536428.0</td>\n",
       "      <td>490373.0</td>\n",
       "      <td>504580.0</td>\n",
       "      <td>492480.0</td>\n",
       "      <td>471248.000</td>\n",
       "      <td>0.0</td>\n",
       "      <td>0.0</td>\n",
       "    </tr>\n",
       "    <tr>\n",
       "      <th>87</th>\n",
       "      <td>United Kingdom</td>\n",
       "      <td>298070.0</td>\n",
       "      <td>259765.0</td>\n",
       "      <td>232622.0</td>\n",
       "      <td>260019.0</td>\n",
       "      <td>321155.0</td>\n",
       "      <td>314559.0</td>\n",
       "      <td>338989.0</td>\n",
       "      <td>266177.0</td>\n",
       "      <td>324685.0</td>\n",
       "      <td>228856.0</td>\n",
       "      <td>307431.0</td>\n",
       "      <td>273842.0</td>\n",
       "      <td>298282.0</td>\n",
       "      <td>303966.000</td>\n",
       "      <td>328562.0</td>\n",
       "      <td>307871.0</td>\n",
       "    </tr>\n",
       "    <tr>\n",
       "      <th>88</th>\n",
       "      <td>Venezuela</td>\n",
       "      <td>1630000.0</td>\n",
       "      <td>1520000.0</td>\n",
       "      <td>1420000.0</td>\n",
       "      <td>1470000.0</td>\n",
       "      <td>1520000.0</td>\n",
       "      <td>1560000.0</td>\n",
       "      <td>1360000.0</td>\n",
       "      <td>1360000.0</td>\n",
       "      <td>1420000.0</td>\n",
       "      <td>1195231.0</td>\n",
       "      <td>1520000.0</td>\n",
       "      <td>1560000.0</td>\n",
       "      <td>1060000.0</td>\n",
       "      <td>1335846.125</td>\n",
       "      <td>1293661.5</td>\n",
       "      <td>936000.0</td>\n",
       "    </tr>\n",
       "    <tr>\n",
       "      <th>89</th>\n",
       "      <td>Yemen</td>\n",
       "      <td>0.0</td>\n",
       "      <td>0.0</td>\n",
       "      <td>0.0</td>\n",
       "      <td>0.0</td>\n",
       "      <td>0.0</td>\n",
       "      <td>0.0</td>\n",
       "      <td>68000.0</td>\n",
       "      <td>0.0</td>\n",
       "      <td>55000.0</td>\n",
       "      <td>0.0</td>\n",
       "      <td>0.0</td>\n",
       "      <td>0.0</td>\n",
       "      <td>0.0</td>\n",
       "      <td>0.000</td>\n",
       "      <td>0.0</td>\n",
       "      <td>0.0</td>\n",
       "    </tr>\n",
       "    <tr>\n",
       "      <th>90</th>\n",
       "      <td>Zimbabwe</td>\n",
       "      <td>244264.0</td>\n",
       "      <td>163650.0</td>\n",
       "      <td>0.0</td>\n",
       "      <td>0.0</td>\n",
       "      <td>0.0</td>\n",
       "      <td>304363.0</td>\n",
       "      <td>345236.0</td>\n",
       "      <td>284708.0</td>\n",
       "      <td>181977.0</td>\n",
       "      <td>235238.0</td>\n",
       "      <td>278338.0</td>\n",
       "      <td>206712.0</td>\n",
       "      <td>0.0</td>\n",
       "      <td>0.000</td>\n",
       "      <td>0.0</td>\n",
       "      <td>0.0</td>\n",
       "    </tr>\n",
       "  </tbody>\n",
       "</table>\n",
       "</div>"
      ],
      "text/plain": [
       "   Country or Area       1990       1995       1996       1997       1998  \\\n",
       "86          Turkey   399979.0   501301.0        0.0        0.0        0.0   \n",
       "87  United Kingdom   298070.0   259765.0   232622.0   260019.0   321155.0   \n",
       "88       Venezuela  1630000.0  1520000.0  1420000.0  1470000.0  1520000.0   \n",
       "89           Yemen        0.0        0.0        0.0        0.0        0.0   \n",
       "90        Zimbabwe   244264.0   163650.0        0.0        0.0        0.0   \n",
       "\n",
       "         1999       2000       2001       2002       2003       2004  \\\n",
       "86        0.0   462740.0   566247.0   495134.0   536428.0   490373.0   \n",
       "87   314559.0   338989.0   266177.0   324685.0   228856.0   307431.0   \n",
       "88  1560000.0  1360000.0  1360000.0  1420000.0  1195231.0  1520000.0   \n",
       "89        0.0    68000.0        0.0    55000.0        0.0        0.0   \n",
       "90   304363.0   345236.0   284708.0   181977.0   235238.0   278338.0   \n",
       "\n",
       "         2005       2006         2007       2008      2009  \n",
       "86   504580.0   492480.0   471248.000        0.0       0.0  \n",
       "87   273842.0   298282.0   303966.000   328562.0  307871.0  \n",
       "88  1560000.0  1060000.0  1335846.125  1293661.5  936000.0  \n",
       "89        0.0        0.0        0.000        0.0       0.0  \n",
       "90   206712.0        0.0        0.000        0.0       0.0  "
      ]
     },
     "execution_count": 3,
     "metadata": {},
     "output_type": "execute_result"
    }
   ],
   "source": [
    "precipitation_df.tail()"
   ]
  },
  {
   "cell_type": "markdown",
   "metadata": {},
   "source": [
    "Each row in the table lists:\n",
    "\n",
    "* The country or region where the measurements were taken\n",
    "* The annual precipitation for 1990, and for the years 1995 to 2009\n",
    "\n",
    "By using the `DataFrame` API, you can list all countries or areas for which precipitation measurements exist. Run the following cell to list these countries:"
   ]
  },
  {
   "cell_type": "code",
   "execution_count": 4,
   "metadata": {
    "scrolled": true
   },
   "outputs": [
    {
     "data": {
      "text/plain": [
       "array(['Albania', 'Algeria', 'Andorra', 'Anguilla', 'Antigua and Barbuda',\n",
       "       'Armenia', 'Azerbaijan', 'Bahrain', 'Barbados', 'Belarus',\n",
       "       'Belgium', 'Belize', 'Benin', 'Bermuda', 'Bosnia and Herzegovina',\n",
       "       'Botswana', 'British Virgin Islands', 'Brunei Darussalam',\n",
       "       'Cameroon', 'Central African Republic', 'Chile', 'China',\n",
       "       'China, Hong Kong SAR', 'China, Macao SAR', 'Colombia',\n",
       "       \"Cote d'Ivoire\", 'Croatia', 'Cuba', 'Cyprus', 'Czech Republic',\n",
       "       'Denmark', 'Dominican Republic', 'Ecuador', 'Egypt', 'Estonia',\n",
       "       'Finland', 'France', 'Gambia', 'Georgia', 'Germany', 'Guinea',\n",
       "       'Hungary', 'India', 'Iraq', 'Israel', 'Italy', 'Jamaica', 'Jordan',\n",
       "       'Kazakhstan', 'Kuwait', 'Kyrgyzstan', 'Latvia', 'Lebanon',\n",
       "       'Lithuania', 'Luxembourg', 'Madagascar', 'Maldives', 'Malta',\n",
       "       'Marshall Islands', 'Mauritius', 'Monaco', 'Morocco', 'Netherlands',\n",
       "       'Oman', 'Panama', 'Paraguay', 'Poland', 'Portugal', 'Qatar',\n",
       "       'Republic of Moldova', 'Romania', 'Senegal', 'Serbia', 'Singapore',\n",
       "       'Slovakia', 'Slovenia', 'South Africa', 'Spain', 'Sri Lanka',\n",
       "       'Sweden', 'Switzerland', 'Syrian Arab Republic',\n",
       "       'The Former Yugoslav Rep. of  Macedonia', 'Togo',\n",
       "       'Trinidad and Tobago', 'Tunisia', 'Turkey', 'United Kingdom',\n",
       "       'Venezuela', 'Yemen', 'Zimbabwe'], dtype=object)"
      ]
     },
     "execution_count": 4,
     "metadata": {},
     "output_type": "execute_result"
    }
   ],
   "source": [
    "precipitation_df['Country or Area'].values"
   ]
  },
  {
   "cell_type": "markdown",
   "metadata": {},
   "source": [
    "Having the names of the countries or areas as a column comes in handy, but it would be more useful to have the names as an index to the rows. To manipulate the `DataFrame` in this way, run the next cell:"
   ]
  },
  {
   "cell_type": "code",
   "execution_count": 5,
   "metadata": {},
   "outputs": [
    {
     "data": {
      "text/html": [
       "<div>\n",
       "<style scoped>\n",
       "    .dataframe tbody tr th:only-of-type {\n",
       "        vertical-align: middle;\n",
       "    }\n",
       "\n",
       "    .dataframe tbody tr th {\n",
       "        vertical-align: top;\n",
       "    }\n",
       "\n",
       "    .dataframe thead th {\n",
       "        text-align: right;\n",
       "    }\n",
       "</style>\n",
       "<table border=\"1\" class=\"dataframe\">\n",
       "  <thead>\n",
       "    <tr style=\"text-align: right;\">\n",
       "      <th></th>\n",
       "      <th>1990</th>\n",
       "      <th>1995</th>\n",
       "      <th>1996</th>\n",
       "      <th>1997</th>\n",
       "      <th>1998</th>\n",
       "      <th>1999</th>\n",
       "      <th>2000</th>\n",
       "      <th>2001</th>\n",
       "      <th>2002</th>\n",
       "      <th>2003</th>\n",
       "      <th>2004</th>\n",
       "      <th>2005</th>\n",
       "      <th>2006</th>\n",
       "      <th>2007</th>\n",
       "      <th>2008</th>\n",
       "      <th>2009</th>\n",
       "    </tr>\n",
       "    <tr>\n",
       "      <th>Country or Area</th>\n",
       "      <th></th>\n",
       "      <th></th>\n",
       "      <th></th>\n",
       "      <th></th>\n",
       "      <th></th>\n",
       "      <th></th>\n",
       "      <th></th>\n",
       "      <th></th>\n",
       "      <th></th>\n",
       "      <th></th>\n",
       "      <th></th>\n",
       "      <th></th>\n",
       "      <th></th>\n",
       "      <th></th>\n",
       "      <th></th>\n",
       "      <th></th>\n",
       "    </tr>\n",
       "  </thead>\n",
       "  <tbody>\n",
       "    <tr>\n",
       "      <th>Albania</th>\n",
       "      <td>28385.000000</td>\n",
       "      <td>40311.000000</td>\n",
       "      <td>0.000000</td>\n",
       "      <td>0.000000</td>\n",
       "      <td>0.0</td>\n",
       "      <td>38284.000000</td>\n",
       "      <td>30683.000000</td>\n",
       "      <td>30491.000000</td>\n",
       "      <td>35883.000000</td>\n",
       "      <td>27893.000000</td>\n",
       "      <td>42787.000000</td>\n",
       "      <td>42840.000000</td>\n",
       "      <td>32380.000000</td>\n",
       "      <td>30964.000000</td>\n",
       "      <td>0.000000</td>\n",
       "      <td>0.000000</td>\n",
       "    </tr>\n",
       "    <tr>\n",
       "      <th>Algeria</th>\n",
       "      <td>76160.000000</td>\n",
       "      <td>90270.000000</td>\n",
       "      <td>53380.000000</td>\n",
       "      <td>74460.000000</td>\n",
       "      <td>66470.0</td>\n",
       "      <td>50150.000000</td>\n",
       "      <td>64430.000000</td>\n",
       "      <td>43840.000000</td>\n",
       "      <td>37317.000000</td>\n",
       "      <td>0.000000</td>\n",
       "      <td>0.000000</td>\n",
       "      <td>0.000000</td>\n",
       "      <td>0.000000</td>\n",
       "      <td>0.000000</td>\n",
       "      <td>100000.000000</td>\n",
       "      <td>0.000000</td>\n",
       "    </tr>\n",
       "    <tr>\n",
       "      <th>Andorra</th>\n",
       "      <td>539.947998</td>\n",
       "      <td>510.673004</td>\n",
       "      <td>560.340027</td>\n",
       "      <td>434.475006</td>\n",
       "      <td>254.0</td>\n",
       "      <td>450.151001</td>\n",
       "      <td>518.666016</td>\n",
       "      <td>456.626007</td>\n",
       "      <td>565.559021</td>\n",
       "      <td>566.583008</td>\n",
       "      <td>567.044006</td>\n",
       "      <td>530.278015</td>\n",
       "      <td>353.220001</td>\n",
       "      <td>306.630005</td>\n",
       "      <td>0.000000</td>\n",
       "      <td>0.000000</td>\n",
       "    </tr>\n",
       "    <tr>\n",
       "      <th>Anguilla</th>\n",
       "      <td>93.099998</td>\n",
       "      <td>100.730003</td>\n",
       "      <td>0.000000</td>\n",
       "      <td>0.000000</td>\n",
       "      <td>0.0</td>\n",
       "      <td>0.000000</td>\n",
       "      <td>68.190002</td>\n",
       "      <td>70.730003</td>\n",
       "      <td>68.190002</td>\n",
       "      <td>108.769997</td>\n",
       "      <td>84.250000</td>\n",
       "      <td>124.400002</td>\n",
       "      <td>99.550003</td>\n",
       "      <td>86.290001</td>\n",
       "      <td>96.889999</td>\n",
       "      <td>71.080002</td>\n",
       "    </tr>\n",
       "    <tr>\n",
       "      <th>Antigua and Barbuda</th>\n",
       "      <td>300.299988</td>\n",
       "      <td>374.500000</td>\n",
       "      <td>323.299988</td>\n",
       "      <td>279.200012</td>\n",
       "      <td>384.5</td>\n",
       "      <td>426.799988</td>\n",
       "      <td>249.600006</td>\n",
       "      <td>238.000000</td>\n",
       "      <td>268.600006</td>\n",
       "      <td>253.899994</td>\n",
       "      <td>426.899994</td>\n",
       "      <td>371.000000</td>\n",
       "      <td>332.799988</td>\n",
       "      <td>293.600006</td>\n",
       "      <td>392.500000</td>\n",
       "      <td>276.899994</td>\n",
       "    </tr>\n",
       "  </tbody>\n",
       "</table>\n",
       "</div>"
      ],
      "text/plain": [
       "                             1990          1995          1996          1997  \\\n",
       "Country or Area                                                               \n",
       "Albania              28385.000000  40311.000000      0.000000      0.000000   \n",
       "Algeria              76160.000000  90270.000000  53380.000000  74460.000000   \n",
       "Andorra                539.947998    510.673004    560.340027    434.475006   \n",
       "Anguilla                93.099998    100.730003      0.000000      0.000000   \n",
       "Antigua and Barbuda    300.299988    374.500000    323.299988    279.200012   \n",
       "\n",
       "                        1998          1999          2000          2001  \\\n",
       "Country or Area                                                          \n",
       "Albania                  0.0  38284.000000  30683.000000  30491.000000   \n",
       "Algeria              66470.0  50150.000000  64430.000000  43840.000000   \n",
       "Andorra                254.0    450.151001    518.666016    456.626007   \n",
       "Anguilla                 0.0      0.000000     68.190002     70.730003   \n",
       "Antigua and Barbuda    384.5    426.799988    249.600006    238.000000   \n",
       "\n",
       "                             2002          2003          2004          2005  \\\n",
       "Country or Area                                                               \n",
       "Albania              35883.000000  27893.000000  42787.000000  42840.000000   \n",
       "Algeria              37317.000000      0.000000      0.000000      0.000000   \n",
       "Andorra                565.559021    566.583008    567.044006    530.278015   \n",
       "Anguilla                68.190002    108.769997     84.250000    124.400002   \n",
       "Antigua and Barbuda    268.600006    253.899994    426.899994    371.000000   \n",
       "\n",
       "                             2006          2007           2008        2009  \n",
       "Country or Area                                                             \n",
       "Albania              32380.000000  30964.000000       0.000000    0.000000  \n",
       "Algeria                  0.000000      0.000000  100000.000000    0.000000  \n",
       "Andorra                353.220001    306.630005       0.000000    0.000000  \n",
       "Anguilla                99.550003     86.290001      96.889999   71.080002  \n",
       "Antigua and Barbuda    332.799988    293.600006     392.500000  276.899994  "
      ]
     },
     "execution_count": 5,
     "metadata": {},
     "output_type": "execute_result"
    }
   ],
   "source": [
    "precipitation_df = precipitation_df.set_index(precipitation_df[\"Country or Area\"])\n",
    "precipitation_df.drop(['Country or Area'], axis=1, inplace=True)\n",
    "precipitation_df.head()"
   ]
  },
  {
   "cell_type": "markdown",
   "metadata": {},
   "source": [
    "<a id=\"plot_data\"></a> \n",
    "## 5. Plot the results\n",
    "\n",
    "When you work in notebooks, you can decide how to present your anlysis results and derived information. So far, you have used normal print functions, which are informative. However, you can also show your results in a visual way by using the popular [`matplotlib`](http://matplotlib.org/) package to create plots.\n",
    "\n",
    "First, render your results as inline charts:"
   ]
  },
  {
   "cell_type": "code",
   "execution_count": 6,
   "metadata": {},
   "outputs": [],
   "source": [
    "%matplotlib inline "
   ]
  },
  {
   "cell_type": "markdown",
   "metadata": {},
   "source": [
    "Now use `pandas` wrappers around the `matplotlib` routines. Because you changed the index of the table rows, you can access the precipitation measurements of a country or area by name. For example, run the following cell to plot the annual precipitation of Germany:"
   ]
  },
  {
   "cell_type": "code",
   "execution_count": 7,
   "metadata": {},
   "outputs": [
    {
     "data": {
      "image/png": "[encoded data removed]",
      "text/plain": [
       "<matplotlib.figure.Figure at 0x7f802e50be80>"
      ]
     },
     "metadata": {},
     "output_type": "display_data"
    }
   ],
   "source": [
    "germany = precipitation_df.loc['Germany']\n",
    "ax = germany.plot(kind='bar', figsize=(8,5), title=\"Precipitation of %s between 1990 to 2009\" % germany.name)\n",
    "ax.set_ylabel(\"Precipitation (million cubic meters)\")\n",
    "ax.set_xlabel(\"Years\");"
   ]
  },
  {
   "cell_type": "markdown",
   "metadata": {},
   "source": [
    "Another possibility is to import the `matplotlib` library and use it directly for plotting the precipitation values in France:"
   ]
  },
  {
   "cell_type": "code",
   "execution_count": 9,
   "metadata": {},
   "outputs": [
    {
     "data": {
      "image/png": "[encoded data removed]",
      "text/plain": [
       "<matplotlib.figure.Figure at 0x7f7ff00d9828>"
      ]
     },
     "metadata": {},
     "output_type": "display_data"
    }
   ],
   "source": [
    "import matplotlib.pyplot as plt, numpy as np\n",
    "\n",
    "france = precipitation_df.loc['France']\n",
    "years = france.index\n",
    "index = np.arange(len(years))  \n",
    "plt.figure(figsize=(8,5))\n",
    "bar_width = 0.5\n",
    "plt.bar(index, france, bar_width, color='b')\n",
    "plt.xlabel(\"Year\")\n",
    "plt.ylabel(\"Precipitation (million cubic meters)\")\n",
    "plt.title(\"Precipitation of %s between 1990 to 2009\" % france.name, y=1.08)\n",
    "plt.xticks(index + bar_width, years, rotation=90)\n",
    "plt.show()"
   ]
  },
  {
   "cell_type": "markdown",
   "metadata": {},
   "source": [
    "### Plot the countries or areas with the highest total precipitation\n",
    "\n",
    "To get a list of the countries with the highest total precipitation, you have to compute the sum of all annual precipitation. You can do this by using the `pandas` `sum()` method. This method adds an  additional column called SUM, which contains the sums of the annual precipitation values to the `precipitation_df` DataFrame."
   ]
  },
  {
   "cell_type": "code",
   "execution_count": 10,
   "metadata": {},
   "outputs": [],
   "source": [
    "precipitation_df[\"SUM\"] = precipitation_df.sum(axis=1)"
   ]
  },
  {
   "cell_type": "markdown",
   "metadata": {},
   "source": [
    "Next, sort the DataFrame by total precipitation and print the top five countries or areas with the highest total precipitation:"
   ]
  },
  {
   "cell_type": "code",
   "execution_count": 11,
   "metadata": {},
   "outputs": [
    {
     "data": {
      "text/plain": [
       "Country or Area\n",
       "China        5.926950e+07\n",
       "Colombia     3.560095e+07\n",
       "Venezuela    2.216074e+07\n",
       "India        1.600000e+07\n",
       "Chile        1.594076e+07\n",
       "Name: SUM, dtype: float64"
      ]
     },
     "execution_count": 11,
     "metadata": {},
     "output_type": "execute_result"
    }
   ],
   "source": [
    "precipitation_sorted_df = precipitation_df.sort_values(by=\"SUM\",ascending=False)\n",
    "top5_sums = pd.Series(precipitation_sorted_df[\"SUM\"].head(5))\n",
    "top5_sums"
   ]
  },
  {
   "cell_type": "markdown",
   "metadata": {},
   "source": [
    "Now, plot the top five countries next to each another in a line graph for a better comparison of the recordings:"
   ]
  },
  {
   "cell_type": "code",
   "execution_count": 12,
   "metadata": {},
   "outputs": [
    {
     "data": {
      "image/png": "[encoded data removed]",
      "text/plain": [
       "<matplotlib.figure.Figure at 0x7f7ff01d7c88>"
      ]
     },
     "metadata": {},
     "output_type": "display_data"
    }
   ],
   "source": [
    "top5_bars = precipitation_sorted_df[years][0:5].transpose()\n",
    "ax = top5_bars.plot(figsize=(10,8), marker='o', linestyle='-', title=\"Top 5 Countries with highest Precipitation\")\n",
    "ax.set_xlabel(\"Years\")\n",
    "ax.set_ylabel(\"Precipitation (million cubic meters)\");"
   ]
  },
  {
   "cell_type": "markdown",
   "metadata": {},
   "source": [
    "Finally, compare the annual precipitation for the top five countries. China has the highest annual precipitation, followed by Colombia. The line graph also shows that some values are missing, which makes comparing measurements difficult. \n",
    "\n",
    "To show the total precipitation for the top five countries in relation to the total precipitation for all countries over the entire time period, use a pie chart. Run the next code cell to create a pie chart by using the `matplotlib` library:"
   ]
  },
  {
   "cell_type": "code",
   "execution_count": 13,
   "metadata": {},
   "outputs": [
    {
     "data": {
      "image/png": "[encoded data removed]",
      "text/plain": [
       "<matplotlib.figure.Figure at 0x7f7ff0050a20>"
      ]
     },
     "metadata": {},
     "output_type": "display_data"
    }
   ],
   "source": [
    "precipitation_sums = top5_sums\n",
    "other_sums = precipitation_sorted_df[\"SUM\"][5:].sum()\n",
    "precipitation_sums[\"Other\"] = other_sums\n",
    "\n",
    "plt.axis('equal')\n",
    "plt.title(\"Annual precipitation percentage\",y=1.08)\n",
    "plt.pie(\n",
    "    precipitation_sums,\n",
    "    labels=precipitation_sums.index,\n",
    "    colors=['blue', 'green', 'red', 'turquoise', 'magenta','yellow'],\n",
    "    autopct=\"%1.2f%%\",\n",
    "    radius=1.25);"
   ]
  },
  {
   "cell_type": "markdown",
   "metadata": {},
   "source": [
    "The pie chart shows you that nearly a quarter of the precipitation fell in China, and that more than  half of the precipitation fell in the five countries with the highest annual precipitation."
   ]
  },
  {
   "cell_type": "markdown",
   "metadata": {},
   "source": [
    "###  Plot the countries with a negative annual precipitation trend\n",
    "\n",
    "Going through each row in the DataFrame and looking at the figures is not a viable solution to determine trends. Plotting a bar chart for each country or area is possible, but inconvenient. \n",
    "\n",
    "One way to determine trends in annual precipitation is to fit a line to the data points. Run the next code cell to create a bar chart showing the annual precipitation trend for Chile:"
   ]
  },
  {
   "cell_type": "code",
   "execution_count": 14,
   "metadata": {},
   "outputs": [
    {
     "data": {
      "image/png": "[encoded data removed]",
      "text/plain": [
       "<matplotlib.figure.Figure at 0x7f7ff0055390>"
      ]
     },
     "metadata": {},
     "output_type": "display_data"
    }
   ],
   "source": [
    "chile = precipitation_sorted_df.loc['Chile'][:-1]\n",
    "years = chile.index\n",
    "chile.plot(kind='bar', figsize=(8,5), title=\"Precipitation of %s between 1990 to 2009\" % chile.name)\n",
    "plt.xlabel(\"Year\")\n",
    "plt.ylabel(\"Precipitation (million cubic meters)\");"
   ]
  },
  {
   "cell_type": "markdown",
   "metadata": {},
   "source": [
    "A line of best fit is a straight line that is the best approximation of the given set of data.\n",
    "The `polyfit()` function fits a line through data points. Because the DataFrame you are using is two-dimentional, it returns two values, the slope and the intercept. To determine whether the trend is positive or negative, you need only the slope. And naturally, you have to exclude any data points that correpond to the value 0.0. \n",
    "\n",
    "Run the next cells to determine and line plot the trend for Chile:"
   ]
  },
  {
   "cell_type": "code",
   "execution_count": 15,
   "metadata": {},
   "outputs": [
    {
     "name": "stdout",
     "output_type": "stream",
     "text": [
      "slope: 5451.91305205\n"
     ]
    }
   ],
   "source": [
    "index = chile[chile>0.0].index\n",
    "fit = np.polyfit(index.astype('int'), chile[index].values,1)\n",
    "print(\"slope: \" + str(fit[0]))"
   ]
  },
  {
   "cell_type": "code",
   "execution_count": 16,
   "metadata": {},
   "outputs": [
    {
     "data": {
      "image/png": "[encoded data removed]",
      "text/plain": [
       "<matplotlib.figure.Figure at 0x7f7fe85787b8>"
      ]
     },
     "metadata": {},
     "output_type": "display_data"
    }
   ],
   "source": [
    "plt.plot(index, chile[index],'.')\n",
    "plt.plot(index, fit[0]*index.astype('int') + fit[1], '-', color='red')\n",
    "plt.title(\"Precipitation Trend for Chile\")\n",
    "plt.xlabel(\"Year\")\n",
    "plt.ylabel(\"Precipitation (million cubic meters)\")\n",
    "plt.show()"
   ]
  },
  {
   "cell_type": "markdown",
   "metadata": {},
   "source": [
    "For Chile, the line plot shows a positive trend in annual precipitation, despite the fact that during the last couple of years the annual precipitation decreased. \n",
    "\n",
    "The next cells show you how to determine the precipitation trends for 91 countries.\n",
    "Run the next code cell to define the `compute_slope()` method to compute the slope of a fitted line  between given points:"
   ]
  },
  {
   "cell_type": "code",
   "execution_count": 17,
   "metadata": {},
   "outputs": [],
   "source": [
    "def compute_slope(row):\n",
    "    \"\"\" This method computes the slope of a fittet line for given data points. \n",
    "    For arguments containing less than two valid data points it returns a NaN.\"\"\"\n",
    "    slope = np.nan\n",
    "    years = row[row>0.0].index\n",
    "    if(len(years)>=2):\n",
    "        fit = np.polyfit(years.astype('int'), row[years].values,1)\n",
    "        slope = fit[0]\n",
    "    return slope"
   ]
  },
  {
   "cell_type": "markdown",
   "metadata": {},
   "source": [
    "After defining the `compute_slope()` method, use the `pandas` `apply()` method to compute the slope for each row in the DataFrame and add the computed slope value to a new column called TREND:"
   ]
  },
  {
   "cell_type": "code",
   "execution_count": 18,
   "metadata": {},
   "outputs": [
    {
     "data": {
      "text/html": [
       "<div>\n",
       "<style scoped>\n",
       "    .dataframe tbody tr th:only-of-type {\n",
       "        vertical-align: middle;\n",
       "    }\n",
       "\n",
       "    .dataframe tbody tr th {\n",
       "        vertical-align: top;\n",
       "    }\n",
       "\n",
       "    .dataframe thead th {\n",
       "        text-align: right;\n",
       "    }\n",
       "</style>\n",
       "<table border=\"1\" class=\"dataframe\">\n",
       "  <thead>\n",
       "    <tr style=\"text-align: right;\">\n",
       "      <th></th>\n",
       "      <th>1990</th>\n",
       "      <th>1995</th>\n",
       "      <th>1996</th>\n",
       "      <th>1997</th>\n",
       "      <th>1998</th>\n",
       "      <th>1999</th>\n",
       "      <th>2000</th>\n",
       "      <th>2001</th>\n",
       "      <th>2002</th>\n",
       "      <th>2003</th>\n",
       "      <th>2004</th>\n",
       "      <th>2005</th>\n",
       "      <th>2006</th>\n",
       "      <th>2007</th>\n",
       "      <th>2008</th>\n",
       "      <th>2009</th>\n",
       "      <th>SUM</th>\n",
       "      <th>TREND</th>\n",
       "    </tr>\n",
       "    <tr>\n",
       "      <th>Country or Area</th>\n",
       "      <th></th>\n",
       "      <th></th>\n",
       "      <th></th>\n",
       "      <th></th>\n",
       "      <th></th>\n",
       "      <th></th>\n",
       "      <th></th>\n",
       "      <th></th>\n",
       "      <th></th>\n",
       "      <th></th>\n",
       "      <th></th>\n",
       "      <th></th>\n",
       "      <th></th>\n",
       "      <th></th>\n",
       "      <th></th>\n",
       "      <th></th>\n",
       "      <th></th>\n",
       "      <th></th>\n",
       "    </tr>\n",
       "  </thead>\n",
       "  <tbody>\n",
       "    <tr>\n",
       "      <th>Albania</th>\n",
       "      <td>28385.000000</td>\n",
       "      <td>40311.000000</td>\n",
       "      <td>0.000000</td>\n",
       "      <td>0.000000</td>\n",
       "      <td>0.0</td>\n",
       "      <td>38284.000000</td>\n",
       "      <td>30683.000000</td>\n",
       "      <td>30491.000000</td>\n",
       "      <td>35883.000000</td>\n",
       "      <td>27893.000000</td>\n",
       "      <td>42787.000000</td>\n",
       "      <td>42840.000000</td>\n",
       "      <td>32380.000000</td>\n",
       "      <td>30964.000000</td>\n",
       "      <td>0.000000</td>\n",
       "      <td>0.000000</td>\n",
       "      <td>380901.000000</td>\n",
       "      <td>170.395758</td>\n",
       "    </tr>\n",
       "    <tr>\n",
       "      <th>Algeria</th>\n",
       "      <td>76160.000000</td>\n",
       "      <td>90270.000000</td>\n",
       "      <td>53380.000000</td>\n",
       "      <td>74460.000000</td>\n",
       "      <td>66470.0</td>\n",
       "      <td>50150.000000</td>\n",
       "      <td>64430.000000</td>\n",
       "      <td>43840.000000</td>\n",
       "      <td>37317.000000</td>\n",
       "      <td>0.000000</td>\n",
       "      <td>0.000000</td>\n",
       "      <td>0.000000</td>\n",
       "      <td>0.000000</td>\n",
       "      <td>0.000000</td>\n",
       "      <td>100000.000000</td>\n",
       "      <td>0.000000</td>\n",
       "      <td>656477.000000</td>\n",
       "      <td>22.513699</td>\n",
       "    </tr>\n",
       "    <tr>\n",
       "      <th>Andorra</th>\n",
       "      <td>539.947998</td>\n",
       "      <td>510.673004</td>\n",
       "      <td>560.340027</td>\n",
       "      <td>434.475006</td>\n",
       "      <td>254.0</td>\n",
       "      <td>450.151001</td>\n",
       "      <td>518.666016</td>\n",
       "      <td>456.626007</td>\n",
       "      <td>565.559021</td>\n",
       "      <td>566.583008</td>\n",
       "      <td>567.044006</td>\n",
       "      <td>530.278015</td>\n",
       "      <td>353.220001</td>\n",
       "      <td>306.630005</td>\n",
       "      <td>0.000000</td>\n",
       "      <td>0.000000</td>\n",
       "      <td>6614.193115</td>\n",
       "      <td>-4.757211</td>\n",
       "    </tr>\n",
       "    <tr>\n",
       "      <th>Anguilla</th>\n",
       "      <td>93.099998</td>\n",
       "      <td>100.730003</td>\n",
       "      <td>0.000000</td>\n",
       "      <td>0.000000</td>\n",
       "      <td>0.0</td>\n",
       "      <td>0.000000</td>\n",
       "      <td>68.190002</td>\n",
       "      <td>70.730003</td>\n",
       "      <td>68.190002</td>\n",
       "      <td>108.769997</td>\n",
       "      <td>84.250000</td>\n",
       "      <td>124.400002</td>\n",
       "      <td>99.550003</td>\n",
       "      <td>86.290001</td>\n",
       "      <td>96.889999</td>\n",
       "      <td>71.080002</td>\n",
       "      <td>1072.170013</td>\n",
       "      <td>-0.019358</td>\n",
       "    </tr>\n",
       "    <tr>\n",
       "      <th>Antigua and Barbuda</th>\n",
       "      <td>300.299988</td>\n",
       "      <td>374.500000</td>\n",
       "      <td>323.299988</td>\n",
       "      <td>279.200012</td>\n",
       "      <td>384.5</td>\n",
       "      <td>426.799988</td>\n",
       "      <td>249.600006</td>\n",
       "      <td>238.000000</td>\n",
       "      <td>268.600006</td>\n",
       "      <td>253.899994</td>\n",
       "      <td>426.899994</td>\n",
       "      <td>371.000000</td>\n",
       "      <td>332.799988</td>\n",
       "      <td>293.600006</td>\n",
       "      <td>392.500000</td>\n",
       "      <td>276.899994</td>\n",
       "      <td>5192.399963</td>\n",
       "      <td>0.219277</td>\n",
       "    </tr>\n",
       "  </tbody>\n",
       "</table>\n",
       "</div>"
      ],
      "text/plain": [
       "                             1990          1995          1996          1997  \\\n",
       "Country or Area                                                               \n",
       "Albania              28385.000000  40311.000000      0.000000      0.000000   \n",
       "Algeria              76160.000000  90270.000000  53380.000000  74460.000000   \n",
       "Andorra                539.947998    510.673004    560.340027    434.475006   \n",
       "Anguilla                93.099998    100.730003      0.000000      0.000000   \n",
       "Antigua and Barbuda    300.299988    374.500000    323.299988    279.200012   \n",
       "\n",
       "                        1998          1999          2000          2001  \\\n",
       "Country or Area                                                          \n",
       "Albania                  0.0  38284.000000  30683.000000  30491.000000   \n",
       "Algeria              66470.0  50150.000000  64430.000000  43840.000000   \n",
       "Andorra                254.0    450.151001    518.666016    456.626007   \n",
       "Anguilla                 0.0      0.000000     68.190002     70.730003   \n",
       "Antigua and Barbuda    384.5    426.799988    249.600006    238.000000   \n",
       "\n",
       "                             2002          2003          2004          2005  \\\n",
       "Country or Area                                                               \n",
       "Albania              35883.000000  27893.000000  42787.000000  42840.000000   \n",
       "Algeria              37317.000000      0.000000      0.000000      0.000000   \n",
       "Andorra                565.559021    566.583008    567.044006    530.278015   \n",
       "Anguilla                68.190002    108.769997     84.250000    124.400002   \n",
       "Antigua and Barbuda    268.600006    253.899994    426.899994    371.000000   \n",
       "\n",
       "                             2006          2007           2008        2009  \\\n",
       "Country or Area                                                              \n",
       "Albania              32380.000000  30964.000000       0.000000    0.000000   \n",
       "Algeria                  0.000000      0.000000  100000.000000    0.000000   \n",
       "Andorra                353.220001    306.630005       0.000000    0.000000   \n",
       "Anguilla                99.550003     86.290001      96.889999   71.080002   \n",
       "Antigua and Barbuda    332.799988    293.600006     392.500000  276.899994   \n",
       "\n",
       "                               SUM       TREND  \n",
       "Country or Area                                 \n",
       "Albania              380901.000000  170.395758  \n",
       "Algeria              656477.000000   22.513699  \n",
       "Andorra                6614.193115   -4.757211  \n",
       "Anguilla               1072.170013   -0.019358  \n",
       "Antigua and Barbuda    5192.399963    0.219277  "
      ]
     },
     "execution_count": 18,
     "metadata": {},
     "output_type": "execute_result"
    }
   ],
   "source": [
    "precipitation_df[\"TREND\"] = precipitation_sorted_df[years].apply(compute_slope, axis=1)\n",
    "precipitation_df.head()"
   ]
  },
  {
   "cell_type": "markdown",
   "metadata": {},
   "source": [
    "If the value is positive, the annual precipitation trend for the country is positive. If the value is negative, the annual precipitation trend is negative. Values near zero indicate a stable condition. \n",
    "\n",
    "To determine the countries with a negative precipitation trend, find the rows in the DataFrame with a negative value in the TREND column:"
   ]
  },
  {
   "cell_type": "code",
   "execution_count": 19,
   "metadata": {},
   "outputs": [
    {
     "data": {
      "text/plain": [
       "Index(['Andorra', 'Anguilla', 'Bahrain', 'Barbados',\n",
       "       'Central African Republic', 'China', 'China, Hong Kong SAR', 'Cuba',\n",
       "       'Denmark', 'Egypt', 'Estonia', 'Guinea', 'India', 'Iraq', 'Israel',\n",
       "       'Italy', 'Kazakhstan', 'Latvia', 'Lebanon', 'Lithuania', 'Luxembourg',\n",
       "       'Marshall Islands', 'Monaco', 'Morocco', 'Paraguay', 'Poland',\n",
       "       'Portugal', 'Qatar', 'Republic of Moldova', 'Slovenia', 'Spain',\n",
       "       'Switzerland', 'Togo', 'Tunisia', 'Venezuela', 'Yemen'],\n",
       "      dtype='object', name='Country or Area')"
      ]
     },
     "execution_count": 19,
     "metadata": {},
     "output_type": "execute_result"
    }
   ],
   "source": [
    "negative_trends = precipitation_df[precipitation_df[\"TREND\"]<0.0]\n",
    "negative_trends.index"
   ]
  },
  {
   "cell_type": "markdown",
   "metadata": {},
   "source": [
    "<a id=\"download\"></a>\n",
    "## 6. Download the notebook\n",
    "\n",
    "After you have finished your analysis, you can download the notebook and share your results with our users.\n",
    "\n",
    "To download your note, click **File** and then **Download as** from the notebook menu bar. You can download your notebook to your local file system in various formats."
   ]
  },
  {
   "cell_type": "markdown",
   "metadata": {},
   "source": [
    "<a id=\"summary\"></a>\n",
    "## Summary\n",
    "\n",
    "In this sample, you learned the basic tools for working with notebooks. You learned how to use the preinstalled `pandas` library to explore and analyze precipitation data to gain insights about the distribution of precipitation in 91 countries and detect trends. You learned to use the `matplotlib` libraries to visualize your results in different ways, for example as bar charts, pie charts, and line graphs. "
   ]
  },
  {
   "cell_type": "markdown",
   "metadata": {},
   "source": [
    "### Resources\n",
    "\n",
    "<a href=\"http://learnpythonthehardway.org/book/\" target=\"_blank\" rel=\"noopener no referrer\">Learn Python the Hard Way</a><br/> \n",
    "<a href=\"https://www.python.org/\" target=\"_blank\" rel=\"noopener no referrer\">Python Programming Language</a><br/> \n",
    "<a href=\"http://nbviewer.ipython.org/github/ipython/ipython/blob/2.x/examples/Notebook/Index.ipynb\" target=\"_blank\" rel=\"noopener no referrer\">IPython Notebook</a><br/> \n",
    "<a href=\"http://jupyter.readthedocs.org/en/latest/\" target=\"_blank\" rel=\"noopener no referrer\">Jupyter Notebook</a><br/> \n",
    "<a href=\"https://github.com/ipython/ipython/wiki/A-gallery-of-interesting-IPython-Notebooks\" target=\"_blank\" rel=\"noopener no referrer\">A gallery of interesting Notebooks</a><br/> \n",
    "\n",
    "Check out these interesting tutorials on YouTube:\n",
    "\n",
    "<a href=\"https://www.youtube.com/watch?v=TSsSWuhBpmY\" target=\"_blank\" rel=\"noopener no referrer\">PyData 2015 - Introduction to Pandas</a>\n",
    "\n",
    "<a href=\"https://www.youtube.com/watch?v=wAwQ-noyB98\" target=\"_blank\" rel=\"noopener no referrer\">Matplotlib Python Tutorial</a>"
   ]
  },
  {
   "cell_type": "markdown",
   "metadata": {},
   "source": [
    "### Author\n",
    "Sven Hafeneger is a member of the Data Science Experience development team at IBM Analytics in Germany. He holds a M.Sc. in Bioinformatics and is passionate about data analysis, machine learning and the Python ecosystem for data science. "
   ]
  },
  {
   "cell_type": "markdown",
   "metadata": {
    "collapsed": true
   },
   "source": [
    "Copyright © 2017, 2018 IBM. This notebook and its source code are released under the terms of the MIT License."
   ]
  },
  {
   "cell_type": "markdown",
   "metadata": {},
   "source": [
    "<div style=\"background:#F5F7FA; height:110px; padding: 2em; font-size:14px;\">\n",
    "<span style=\"font-size:18px;color:#152935;\">Love this notebook? </span>\n",
    "<span style=\"font-size:15px;color:#152935;float:right;margin-right:40px;\">Don't have an account yet?</span><br>\n",
    "<span style=\"color:#5A6872;\">Share it with your colleagues and help them discover the power of Watson Studio!</span>\n",
    "<span style=\"border: 1px solid #3d70b2;padding:8px;float:right;margin-right:40px; color:#3d70b2;\"><a href=\"https://ibm.co/wsnotebooks\" target=\"_blank\" style=\"color: #3d70b2;text-decoration: none;\">Sign Up</a></span><br>\n",
    "</div>"
   ]
  }
 ],
 "metadata": {
  "kernelspec": {
   "display_name": "Python 3.5 with Spark",
   "language": "python3",
   "name": "python3"
  },
  "language_info": {
   "codemirror_mode": {
    "name": "ipython",
    "version": 3
   },
   "file_extension": ".py",
   "mimetype": "text/x-python",
   "name": "python",
   "nbconvert_exporter": "python",
   "pygments_lexer": "ipython3",
   "version": "3.5.4"
  }
 },
 "nbformat": 4,
 "nbformat_minor": 1
}
