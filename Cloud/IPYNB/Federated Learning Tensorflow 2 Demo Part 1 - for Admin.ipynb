{
 "cells": [
  {
   "cell_type": "markdown",
   "metadata": {},
   "source": [
    "<div class=\"alert alert-block alert-warning\"><strong>If you have this notebook as a local copy on your platform, it may become outdated. Download the <a href=\"https://dataplatform.cloud.ibm.com/exchange/public/entry/view/cab78523832431e767c41527a42a6727\">latest version of the project</a>.</strong></div>"
   ]
  },
  {
   "cell_type": "markdown",
   "metadata": {
    "id": "5f44e1599ee948d49366504d7f17bf05"
   },
   "source": [
    "# Part 1 - WML Federated Learning with MNIST for Admin "
   ]
  },
  {
   "cell_type": "markdown",
   "metadata": {},
   "source": [
    "With IBM Federated Learning, you can combine data from multiple sources to train a model from the collective data without having to actually share them. This allows enterprises to train data with other companies without delegating resources for security. Another advantage is the remote data does not have to be centralized in one location, eliminates the needs to move potentially large datasets. This notebook demonstrates how to start Federated Learning with the Python client. For more details setting up Federated Learning, terminology, and running Federated Learning from the UI, see [Federated Learning documentation](https://dataplatform.cloud.ibm.com/docs/content/wsj/analyze-data/fed-lea.html).\n",
    "\n",
    "### Learning Goals\n",
    "\n",
    "When you complete the Part 1 - WML Federated Learning with MNIST for Admin notebook, you should know how to:\n",
    "\n",
    "- Load an untrained model\n",
    "- Create a Remote Training System\n",
    "- Start a training job\n",
    "\n",
    "Once you complete this notebook, please open [Part 2 - WML Federated Learning with MNIST for Party](https://dataplatform.cloud.ibm.com/exchange/public/entry/view/029d77a73d72a4134c81383d6f020f6f). "
   ]
  },
  {
   "cell_type": "markdown",
   "metadata": {},
   "source": [
    "<div class=\"alert alert-block alert-info\">This notebook is intended to be run by the administrator of the Federated Learning experiment.</div>"
   ]
  },
  {
   "cell_type": "markdown",
   "metadata": {},
   "source": [
    "## Table of Contents\n",
    "\n",
    "- [1. Prequisites](#prequisites)\n",
    "    - [1.1 Define variables](#var)\n",
    "    - [1.2 Define tags](#tags)\n",
    "    - [1.3 Import libraries](#libraries)\n",
    "- [2. Obtain Cloud authentication token](#cloud-auth)\n",
    "- [3. Load the model](#load)\n",
    "    - [3.1 Create Untrained Model Asset](#model)\n",
    "    - [3.2 Upload Initial Model](#init)\n",
    "- [4. Create Remote Training System](#create-rts)\n",
    "- [5. Create FL Training Job](#fl-job)\n",
    "    - [5.1 Get Training Job Status](#status)\n",
    "- [6. Get Variables for Party Notebook](#party)\n",
    "- [7. Save Trained Model](#save-model)\n",
    "    - [7.1 COS connection](#cos)\n",
    "    - [7.2 Install pre-reqs](#cos-prereqs)\n",
    "    - [7.3 Save model to project](#save-to-project)\n",
    "- [8. Cleanup](#cleanup)\n",
    "    - [8.1 List all training jobs](#list-jobs)\n",
    "    - [8.2 Delete training jobs](#del-jobs)\n",
    "    - [8.3 List all Remote Training Systems](#list-rts)\n",
    "    - [8.4 Delete Remote Training Systems](#del-rts)\n",
    "    - [8.5 List all Models](#list-models)\n",
    "    - [8.6 Delete Untrained Models](#del-models)"
   ]
  },
  {
   "cell_type": "markdown",
   "metadata": {},
   "source": [
    "<a id = \"prequisites\"></a>\n",
    "## 1. Prequisites\n",
    "\n",
    "Before you proceed, you need to have:\n",
    "\n",
    "- A Cloud Object Storage bucket. You can create one from your Cloud Object Storage instance in your [IBM Cloud Services](https://cloud.ibm.com/resources).\n",
    "- A Cloud Object Storage service credential with HMAC enabled. To create one, go to your **Cloud Object Storage < Service Credentials** and click **New credentials**. Give writer access and click **Advanced options** and turn *Include HMAC Credential* to on.\n",
    "- An IAM API Key. To create a new one, go to [IBM Cloud homepage](https://cloud.ibm.com). In your account, go to **Manage < IAM < API Keys**. Click **Create an IBM Cloud API Key**."
   ]
  },
  {
   "cell_type": "markdown",
   "metadata": {
    "id": "f9cf4ca5ebbb48db85cdd30e89b8e57b"
   },
   "source": [
    "<a id = \"var\"></a>\n",
    "### 1.1 Define variables"
   ]
  },
  {
   "cell_type": "code",
   "execution_count": null,
   "metadata": {
    "id": "8362f3ba-928f-4546-9c37-33262fed1478"
   },
   "outputs": [],
   "source": [
    "API_VERSION = \"2021-10-01\"\n",
    "\n",
    "WML_SERVICES_HOST = \"us-south.ml.cloud.ibm.com\" # or \"eu-de.ml.cloud.ibm.com\", \"eu-gb.ml.cloud.ibm.com\", \"jp-tok.ml.cloud.ibm.com\"\n",
    "\n",
    "WML_SERVICES_URL = \"https://\" + WML_SERVICES_HOST\n",
    "IAM_TOKEN_URL = \"https://iam.cloud.ibm.com/oidc/token\"\n",
    " \n",
    "IAM_APIKEY = \"XXX\"  \n",
    "\n",
    "# Get this from Manage < IAM < Users, and check the URL. Your user ID should be in the format IBMid-<xxx>.\n",
    "CLOUD_USERID = \"IBMid-XXX\" \n",
    "\n",
    "PROJECT_ID = \"XXX\" # Get this by going into your WS project and checking the URL."
   ]
  },
  {
   "cell_type": "markdown",
   "metadata": {},
   "source": [
    "<a id = \"tags\"></a>\n",
    "### 1.2 Define tags"
   ]
  },
  {
   "cell_type": "markdown",
   "metadata": {},
   "source": [
    "Used to identify the assets created by this notebook"
   ]
  },
  {
   "cell_type": "code",
   "execution_count": null,
   "metadata": {},
   "outputs": [],
   "source": [
    "MODEL_TAG = \"wmlfltf2samplemodel\"\n",
    "RTS_TAG = \"wmlfltf2samplerts\"\n",
    "TRAINING_TAG = \"wmlfltf2sampletraining\""
   ]
  },
  {
   "cell_type": "markdown",
   "metadata": {
    "id": "d3b4599b8e854b1f8e3c434c689c30a7"
   },
   "source": [
    "<a id = \"libraries\"></a>\n",
    "### 1.3 Import libraries"
   ]
  },
  {
   "cell_type": "code",
   "execution_count": null,
   "metadata": {
    "id": "c920ac82a77843a089d87bf4b2b0bf8c"
   },
   "outputs": [],
   "source": [
    "import urllib3\n",
    "import requests\n",
    "import json\n",
    "from string import Template\n",
    "\n",
    "urllib3.disable_warnings()"
   ]
  },
  {
   "cell_type": "markdown",
   "metadata": {
    "id": "a40be92efbd543a68ed64a157da9c561"
   },
   "source": [
    "<a id = \"cloud-auth\"></a>\n",
    "## 2. Obtain Cloud authentication token"
   ]
  },
  {
   "cell_type": "code",
   "execution_count": null,
   "metadata": {},
   "outputs": [],
   "source": [
    "payload = \"grant_type=urn:ibm:params:oauth:grant-type:apikey&apikey=\" + IAM_APIKEY\n",
    "token_resp = requests.post(IAM_TOKEN_URL ,\n",
    "                           headers={\"Content-Type\": \"application/x-www-form-urlencoded\"}, \n",
    "                           data = payload,\n",
    "                           verify=True)\n",
    "\n",
    "print(token_resp)\n",
    "\n",
    "token = \"Bearer \" + json.loads(token_resp.content.decode(\"utf-8\"))[\"access_token\"]\n",
    "print(\"WS token: %s \" % token)"
   ]
  },
  {
   "cell_type": "markdown",
   "metadata": {},
   "source": [
    "<a id = \"load\"></a>\n",
    "## 3. Load the model"
   ]
  },
  {
   "cell_type": "markdown",
   "metadata": {},
   "source": [
    "You need an untrained model asset for Federated Learning to work with. In this tutorial, an untrained Tensorflow 2 Keras model is provided for you. Federated Learning supports Scikit-learn and Tensorflow 2, which are free machine learning packages with tutorials. Additionally IBM docs provide some details on how to configure an untrained model for Federated Learning. See:\n",
    "\n",
    "- [Scikit-learn model configuration](https://dataplatform.cloud.ibm.com/docs/content/wsj/analyze-data/fl-imp-det.html#sklearn-config)\n",
    "- [Tensorflow 2 model configuration](https://dataplatform.cloud.ibm.com/docs/content/wsj/analyze-data/fl-imp-det.html#tf-config)"
   ]
  },
  {
   "cell_type": "markdown",
   "metadata": {},
   "source": [
    "<a id = \"model\"></a>\n",
    "### 3.1 Create Untrained Model Asset"
   ]
  },
  {
   "cell_type": "markdown",
   "metadata": {},
   "source": [
    "Creates an untrained model asset in your project."
   ]
  },
  {
   "cell_type": "code",
   "execution_count": null,
   "metadata": {},
   "outputs": [],
   "source": [
    "base_model_save_payload = Template(\"\"\"\n",
    "{\n",
    "    \"name\": \"Untrained MNIST Model\",\n",
    "    \"tags\": [ \"$tag\" ],\n",
    "    \"type\": \"tensorflow_2.9\",\n",
    "    \"software_spec\": {\n",
    "        \"name\": \"runtime-23.1-py3.10\"\n",
    "    },\n",
    "    \"custom\": {\n",
    "        \"untrained\" : true\n",
    "    },\n",
    "    \"project_id\": \"$projectId\"\n",
    "}\n",
    "\"\"\").substitute(projectId = PROJECT_ID,\n",
    "                tag = MODEL_TAG)\n",
    "\n",
    "base_model_save_resp = requests.post(WML_SERVICES_URL + \"/ml/v4/models\",\n",
    "                                     headers={\"Content-Type\": \"application/json\",\n",
    "                                              \"Authorization\": token},\n",
    "                                     params={\"version\": API_VERSION},\n",
    "                                     data=base_model_save_payload,\n",
    "                                     verify=False)\n",
    "\n",
    "print(base_model_save_resp)\n",
    "status_json = json.loads(base_model_save_resp.content.decode(\"utf-8\"))\n",
    "print(\"Create model asset response : \"+ json.dumps(status_json, indent=4))\n",
    "\n",
    "base_model_id = json.loads(base_model_save_resp.content.decode(\"utf-8\"))[\"metadata\"][\"id\"]\n",
    "print(\"Model asset id: %s\" % base_model_id)"
   ]
  },
  {
   "cell_type": "markdown",
   "metadata": {},
   "source": [
    "<a id = \"init\"></a>\n",
    "### 3.2 Upload Initial Model"
   ]
  },
  {
   "cell_type": "markdown",
   "metadata": {},
   "source": [
    "You need to upload the initial model into your project. In this tutorial, an untrained model example is provided and and downloaded from [GitHub](https://github.com/IBMDataScience/sample-notebooks/blob/master/Files/tf_mnist_model.zip)."
   ]
  },
  {
   "cell_type": "code",
   "execution_count": null,
   "metadata": {},
   "outputs": [],
   "source": [
    "base_model_content_resp = requests.get(\"https://github.com/IBMDataScience/sample-notebooks/raw/master/Files/tf_mnist_model.zip\",\n",
    "                                       headers={\"Content-Type\": \"application/octet-stream\"})\n",
    "\n",
    "base_model_content_uri = \"/ml/v4/models/\"+ base_model_id + \"/content\"\n",
    "print(\"Host URL = \" + WML_SERVICES_URL + base_model_content_uri)\n",
    "\n",
    "base_model_put_resp = requests.put(WML_SERVICES_URL + base_model_content_uri,\n",
    "                                   headers={\"Content-Type\": \"application/json\",\n",
    "                                            \"Authorization\": token},\n",
    "                                   params={\"version\": API_VERSION,\n",
    "                                           \"project_id\": PROJECT_ID,\n",
    "                                           \"content_format\": \"native\"},\n",
    "                                   data=base_model_content_resp.content,\n",
    "                                   verify=False)\n",
    "\n",
    "print(base_model_put_resp)\n",
    "status_json = json.loads(base_model_put_resp.content.decode(\"utf-8\"))\n",
    "print(\"Upload model response : \"+ json.dumps(status_json, indent=4))"
   ]
  },
  {
   "cell_type": "markdown",
   "metadata": {
    "id": "002a07c9213543819bc07d32035e6179"
   },
   "source": [
    "<a id = \"create-rts\"></a>\n",
    "## 4. Create Remote Training System Asset"
   ]
  },
  {
   "cell_type": "markdown",
   "metadata": {},
   "source": [
    "Now you will learn to create a Remote Training System (RTS). An RTS handles receiving your multiple parties' call to the aggregator to run the training. \n",
    "- `allowed_identities` are users permitted to connect to the Federated Learning experiment.  In this tutorial, only your user ID is permitted to connect but you can update the template and add additional users as required.\n",
    "- An Admin in `remote_admin`. The template for the admin is the same as the user. In this tutorial, a template Admin is created. It is also the same as the user ID, however generally in application, the admin does not have to be one of the users."
   ]
  },
  {
   "cell_type": "code",
   "execution_count": null,
   "metadata": {
    "id": "c7347a8fb21041b9864765975595cb64"
   },
   "outputs": [],
   "source": [
    "wml_remote_training_system_asset_one_def = Template(\"\"\"\n",
    "{\n",
    "  \"name\": \"Remote Party 1\",\n",
    "  \"project_id\": \"$projectId\",\n",
    "  \"description\": \"Sample Remote Training System\",\n",
    "  \"tags\": [ \"$tag\" ],\n",
    "  \"organization\": {\n",
    "    \"name\": \"IBM\",\n",
    "    \"region\": \"US\"\n",
    "  },\n",
    "  \"allowed_identities\": [\n",
    "    {\n",
    "      \"id\": \"$userID\",\n",
    "      \"type\": \"user\"\n",
    "    }\n",
    "  ],\n",
    "  \"remote_admin\": {\n",
    "    \"id\": \"$userID\",\n",
    "    \"type\": \"user\"\n",
    "  }\n",
    "}\n",
    "\"\"\").substitute(userID = CLOUD_USERID,\n",
    "                projectId = PROJECT_ID,\n",
    "                tag = RTS_TAG)\n",
    "\n",
    "\n",
    "wml_remote_training_system_one_resp = requests.post(WML_SERVICES_URL + \"/ml/v4/remote_training_systems\", \n",
    "                                                    headers={\"Content-Type\": \"application/json\",\n",
    "                                                             \"Authorization\": token}, \n",
    "                                                    params={\"version\": API_VERSION,\n",
    "                                                            \"project_id\": PROJECT_ID}, \n",
    "                                                    data=wml_remote_training_system_asset_one_def, \n",
    "                                                    verify=False)\n",
    "\n",
    "print(wml_remote_training_system_one_resp)\n",
    "status_json = json.loads(wml_remote_training_system_one_resp.content.decode(\"utf-8\"))\n",
    "print(\"Create remote training system response : \"+ json.dumps(status_json, indent=4))\n",
    "\n",
    "wml_remote_training_system_one_asset_uid = json.loads(wml_remote_training_system_one_resp.content.decode(\"utf-8\"))[\"metadata\"][\"id\"]\n",
    "print(\"Remote Training System id: %s\" % wml_remote_training_system_one_asset_uid)"
   ]
  },
  {
   "cell_type": "markdown",
   "metadata": {
    "id": "b4e0792625804b648f4a7a72f69707bf"
   },
   "source": [
    "<a id = \"fl-job\"></a>\n",
    "## 5. Create FL Training Job\n",
    "\n",
    "In this section, you will launch the Federated Learning experiment."
   ]
  },
  {
   "cell_type": "code",
   "execution_count": null,
   "metadata": {},
   "outputs": [],
   "source": [
    "training_payload = Template(\"\"\" \n",
    "{\n",
    "  \"name\": \"FL Aggregator\",\n",
    "  \"tags\": [ \"$tag\" ],\n",
    "  \"federated_learning\": {\n",
    "    \"model\": {\n",
    "      \"spec\": {\n",
    "        \"id\": \"$modelID\"\n",
    "      },\n",
    "      \"type\": \"tensorflow\"\n",
    "    },\n",
    "    \"fusion_type\": \"iter_avg\",\n",
    "    \"rounds\": 5,\n",
    "    \"remote_training\" : {\n",
    "      \"quorum\": 1.0,\n",
    "      \"remote_training_systems\": [ { \"id\" : \"$rts_one\", \"required\" : true  } ]\n",
    "    },\n",
    "    \"software_spec\": {\n",
    "      \"name\": \"runtime-23.1-py3.10\"\n",
    "    },\n",
    "    \"hardware_spec\": {\n",
    "      \"name\": \"XS\"\n",
    "    }\n",
    "  },\n",
    "  \"training_data_references\": [],\n",
    "  \"results_reference\": {\n",
    "    \"type\": \"container\",\n",
    "    \"name\": \"outputData\",\n",
    "    \"connection\": {},\n",
    "    \"location\": {\n",
    "      \"path\": \".\"\n",
    "    }\n",
    "  },\n",
    "  \"project_id\": \"$projectId\"  \n",
    "}\n",
    "\"\"\").substitute(modelID = base_model_id,\n",
    "                projectId = PROJECT_ID,\n",
    "                rts_one = wml_remote_training_system_one_asset_uid,\n",
    "                tag = TRAINING_TAG)\n",
    "\n",
    "create_training_resp = requests.post(WML_SERVICES_URL + \"/ml/v4/trainings\", params={\"version\": API_VERSION},\n",
    "                                     headers={\"Content-Type\": \"application/json\",\n",
    "                                              \"Authorization\": token},\n",
    "                                     data=training_payload,\n",
    "                                     verify=False)\n",
    "\n",
    "print(create_training_resp)\n",
    "status_json = json.loads(create_training_resp.content.decode(\"utf-8\"))\n",
    "print(\"Create training response : \"+ json.dumps(status_json, indent=4))\n",
    "\n",
    "training_id = json.loads(create_training_resp.content.decode(\"utf-8\"))[\"metadata\"][\"id\"]\n",
    "print(\"Training id: %s\" % training_id)"
   ]
  },
  {
   "cell_type": "markdown",
   "metadata": {
    "id": "9b8321dced6647308e7e230ebe7d7d64"
   },
   "source": [
    "<a id = \"status\"></a>\n",
    "### 5.1 Get Training Job Status\n"
   ]
  },
  {
   "cell_type": "markdown",
   "metadata": {},
   "source": [
    "<div class=\"alert alert-block alert-info\">Before you run the following code, please make your that your project is associated with a Watson Machine Learning service. For more details on associating services, please see: <a href=\"https://dataplatform.cloud.ibm.com/docs/content/wsj/getting-started/assoc-services.html\">Associating services</a></div>"
   ]
  },
  {
   "cell_type": "code",
   "execution_count": null,
   "metadata": {
    "id": "cd2b5b45aa074c2a80d1ac3f27463327"
   },
   "outputs": [],
   "source": [
    "get_training_resp = requests.get(WML_SERVICES_URL + \"/ml/v4/trainings/\" + training_id,\n",
    "                                 headers={\"Content-Type\": \"application/json\",\n",
    "                                          \"Authorization\": token},\n",
    "                                  params={\"version\": API_VERSION,\n",
    "                                          \"project_id\": PROJECT_ID},\n",
    "                                  verify=False)\n",
    "\n",
    "print(get_training_resp)\n",
    "status_json = json.loads(get_training_resp.content.decode(\"utf-8\"))\n",
    "print(\"Get training response : \"+ json.dumps(status_json, indent=4))"
   ]
  },
  {
   "cell_type": "markdown",
   "metadata": {
    "id": "583b4cf0d6d045f083dee0a890f8685b"
   },
   "source": [
    "<a id = \"party\"></a>\n",
    "## 6. Get Variables And Paste Into Party Notebook"
   ]
  },
  {
   "cell_type": "markdown",
   "metadata": {},
   "source": [
    "Run the following cell and copy the output. "
   ]
  },
  {
   "cell_type": "code",
   "execution_count": null,
   "metadata": {
    "id": "0b98345ba3ca4deeab8e51b6b1508b8e"
   },
   "outputs": [],
   "source": [
    "print(\"WML_SERVICES_HOST = '%s'\" % WML_SERVICES_HOST)\n",
    "print(\"PROJECT_ID = '%s'\" % PROJECT_ID)\n",
    "print(\"IAM_APIKEY = '%s'\" % IAM_APIKEY)\n",
    "print(\"RTS_ID = '%s'\" % wml_remote_training_system_one_asset_uid)\n",
    "print(\"TRAINING_ID = '%s'\" % (training_id))"
   ]
  },
  {
   "cell_type": "markdown",
   "metadata": {},
   "source": [
    "As the Admin, you have now launched a Federated Learning experiment. Copy the output from the previous cell. Open Part 2 - WML Federated Learning with MNIST for Party and paste the output into the first code cell. Run the Part 2 - Party notebook to the end."
   ]
  },
  {
   "cell_type": "markdown",
   "metadata": {},
   "source": [
    "<a id = \"save-model\"></a>\n",
    "## 7. Save Trained Model To Project"
   ]
  },
  {
   "cell_type": "markdown",
   "metadata": {},
   "source": [
    "Once training has completed, run the cells below to save the trained model into your project."
   ]
  },
  {
   "cell_type": "markdown",
   "metadata": {},
   "source": [
    "<a id = \"cos\"></a>\n",
    "### 7.1 Connection to COS"
   ]
  },
  {
   "cell_type": "markdown",
   "metadata": {},
   "source": [
    "\n",
    "\n",
    "This information is located in your Watson Studio project, under the Manage tab, on the General page.\n",
    "\n",
    "1. The bucket name is listed inside the Storage pane.\n",
    "2. To obtain the credentials click on the Manage in IBM Cloud link located inside the Storage pane. From your COS instance click Service Credentials. You can use an existing or create a new credential if needed.\n",
    "- COS_APIKEY - the \"apikey\" from your credentials\n",
    "- COS_RESOURCE_INSTANCE_ID - the \"resource_instance_id\" from your credentials\n",
    "3. The COS endpoints are listed in your COS instance under Endpoints."
   ]
  },
  {
   "cell_type": "code",
   "execution_count": null,
   "metadata": {},
   "outputs": [],
   "source": [
    "BUCKET = \"XXX\" # bucket used by project ex. myproject-donotdelete-pr-tdnvueqivxep8v\n",
    "\n",
    "COS_ENDPOINT = \"https://s3.us.cloud-object-storage.appdomain.cloud\" # Current list avaiable at https://control.cloud-object-storage.cloud.ibm.com/v2/endpoints\n",
    "COS_APIKEY = \"XXX\" # eg \"W00YixxxxxxxxxxMB-odB-2ySfTrFBIQQWanc--P3byk\"\n",
    "COS_RESOURCE_INSTANCE_ID = \"XXX\" # eg \"crn:v1:bluemix:public:cloud-object-storage:global:a/3bf0d9003xxxxxxxxxx1c3e97696b71c:d6f04d83-6c4f-4a62-a165-696756d63903::\""
   ]
  },
  {
   "cell_type": "markdown",
   "metadata": {},
   "source": [
    "<a id = \"cos-prereqs\"></a>\n",
    "### 7.2 Install pre-req"
   ]
  },
  {
   "cell_type": "code",
   "execution_count": null,
   "metadata": {},
   "outputs": [],
   "source": [
    "!pip install ibm-cos-sdk"
   ]
  },
  {
   "cell_type": "markdown",
   "metadata": {},
   "source": [
    "<a id = \"save-to-project\"></a>\n",
    "### 7.3 Save model to project"
   ]
  },
  {
   "cell_type": "code",
   "execution_count": null,
   "metadata": {},
   "outputs": [],
   "source": [
    "import ibm_boto3\n",
    "from ibm_botocore.client import Config, ClientError\n",
    "\n",
    "cos = ibm_boto3.resource(\"s3\",\n",
    "    ibm_api_key_id=COS_APIKEY,\n",
    "    ibm_service_instance_id=COS_RESOURCE_INSTANCE_ID,\n",
    "    config=Config(signature_version=\"oauth\"),\n",
    "    endpoint_url=COS_ENDPOINT\n",
    ")\n",
    "\n",
    "ITEM_NAME = training_id + \"/assets/\" + training_id + \"/resources/wml_model/request.json\"\n",
    "\n",
    "file = cos.Object(BUCKET, ITEM_NAME).get()\n",
    "req = json.loads(file[\"Body\"].read())\n",
    "\n",
    "\n",
    "req[\"name\"] = \"Trained MNIST Model\"\n",
    "\n",
    "model_save_payload = json.dumps(req)\n",
    "print (\"Model save payload: %s\" % model_save_payload)"
   ]
  },
  {
   "cell_type": "code",
   "execution_count": null,
   "metadata": {},
   "outputs": [],
   "source": [
    "model_save_resp = requests.post(WML_SERVICES_URL + \"/ml/v4/models\",\n",
    "                                params={\"version\": API_VERSION,\n",
    "                                        \"project_id\": PROJECT_ID,\n",
    "                                        \"content_format\": \"native\"},\n",
    "                                headers={\"Content-Type\": \"application/json\",\n",
    "                                         \"Authorization\": token},\n",
    "                                data=model_save_payload,\n",
    "                                verify=False)\n",
    "\n",
    "print(model_save_resp)\n",
    "status_json = json.loads(model_save_resp.content.decode(\"utf-8\"))\n",
    "print(\"Save model response : \"+ json.dumps(status_json, indent=4))\n",
    "\n",
    "model_id = json.loads(model_save_resp.content.decode(\"utf-8\"))[\"metadata\"][\"id\"]\n",
    "print(\"Saved model id: %s\" % model_id)"
   ]
  },
  {
   "cell_type": "markdown",
   "metadata": {},
   "source": [
    "<a id = \"cleanup\"></a>\n",
    "## 8. Clean Up Project"
   ]
  },
  {
   "cell_type": "markdown",
   "metadata": {},
   "source": [
    "Use this section to delete the training jobs and assets created by this notebook."
   ]
  },
  {
   "cell_type": "markdown",
   "metadata": {},
   "source": [
    "<a id = \"list-jobs\"></a>\n",
    "### 8.1 List all training jobs in project"
   ]
  },
  {
   "cell_type": "code",
   "execution_count": null,
   "metadata": {},
   "outputs": [],
   "source": [
    "get_training_resp = requests.get(WML_SERVICES_URL + \"/ml/v4/trainings\",\n",
    "                                 headers={\"Content-Type\": \"application/json\",\n",
    "                                          \"Authorization\": token},\n",
    "                                 params={\"version\": API_VERSION,\n",
    "                                         \"project_id\": PROJECT_ID},\n",
    "                                 verify=False)\n",
    "\n",
    "print(get_training_resp)\n",
    "status_json = json.loads(get_training_resp.content.decode(\"utf-8\"))\n",
    "print(\"Get training response : \"+ json.dumps(status_json, indent=4))"
   ]
  },
  {
   "cell_type": "markdown",
   "metadata": {},
   "source": [
    "<a id = \"del-jobs\"></a>\n",
    "### 8.2 Delete all training jobs in this project created by this notebook"
   ]
  },
  {
   "cell_type": "markdown",
   "metadata": {},
   "source": [
    "This will stop all running aggregators created using this notebook."
   ]
  },
  {
   "cell_type": "code",
   "execution_count": null,
   "metadata": {},
   "outputs": [],
   "source": [
    "get_training_resp = requests.get(WML_SERVICES_URL + \"/ml/v4/trainings\",\n",
    "                                 headers={\"Content-Type\": \"application/json\",\n",
    "                                          \"Authorization\": token},\n",
    "                                 params={\"version\": API_VERSION,\n",
    "                                         \"project_id\": PROJECT_ID,\n",
    "                                         \"tag.value\": TRAINING_TAG},\n",
    "                                 verify=False)\n",
    "\n",
    "training_list_json = json.loads(get_training_resp.content.decode(\"utf-8\"))\n",
    "training_resources = training_list_json[\"resources\"]\n",
    "\n",
    "for training in training_resources:\n",
    "    training_id = training[\"metadata\"][\"id\"]\n",
    "    print(\"Deleting Training ID: \" + training_id)\n",
    "    delete_training_resp = requests.delete(WML_SERVICES_URL + \"/ml/v4/trainings/\" + training_id,\n",
    "                                           headers={\"Content-Type\": \"application/json\",\n",
    "                                                    \"Authorization\": token},\n",
    "                                           params={\"version\": API_VERSION,\n",
    "                                                   \"project_id\": PROJECT_ID,\n",
    "                                                   \"hard_delete\": True},\n",
    "                                           verify=False)\n",
    "    print(delete_training_resp)"
   ]
  },
  {
   "cell_type": "markdown",
   "metadata": {},
   "source": [
    "<a id = \"list-rts\"></a>\n",
    "### 8.3 List all remote training systems in project"
   ]
  },
  {
   "cell_type": "code",
   "execution_count": null,
   "metadata": {},
   "outputs": [],
   "source": [
    "get_rts_resp = requests.get(WML_SERVICES_URL + \"/ml/v4/remote_training_systems\", \n",
    "                            headers={\"Content-Type\": \"application/json\",\n",
    "                                     \"Authorization\": token}, \n",
    "                            params={\"version\": API_VERSION,\n",
    "                                    \"project_id\": PROJECT_ID}, \n",
    "                            verify=False)\n",
    "\n",
    "print(get_rts_resp)\n",
    "rts_list_json = json.loads(get_rts_resp.content.decode(\"utf-8\"))\n",
    "print(\"Remote Training Systems in Project : \"+ json.dumps(rts_list_json, indent=4))"
   ]
  },
  {
   "cell_type": "markdown",
   "metadata": {},
   "source": [
    "<a id = \"del-rts\"></a>\n",
    "### 8.4 Delete all remote training systems in this project created by this notebook"
   ]
  },
  {
   "cell_type": "code",
   "execution_count": null,
   "metadata": {},
   "outputs": [],
   "source": [
    "get_rts_resp = requests.get(WML_SERVICES_URL + \"/ml/v4/remote_training_systems\", \n",
    "                            headers={\"Content-Type\": \"application/json\",\n",
    "                                     \"Authorization\": token}, \n",
    "                            params={\"version\": API_VERSION,\n",
    "                                    \"project_id\": PROJECT_ID,\n",
    "                                    \"tag.value\": RTS_TAG}, \n",
    "                            verify=False)\n",
    "\n",
    "rts_list_json = json.loads(get_rts_resp.content.decode(\"utf-8\"))\n",
    "rts_resources = rts_list_json[\"resources\"]\n",
    "\n",
    "for rts in rts_resources:\n",
    "    rts_id = rts[\"metadata\"][\"id\"]\n",
    "    print(\"Deleting RTS ID: \" + rts_id)\n",
    "    delete_rts_resp = requests.delete(WML_SERVICES_URL + \"/ml/v4/remote_training_systems/\" + rts_id, \n",
    "                                      headers={\"Content-Type\": \"application/json\",\n",
    "                                               \"Authorization\": token}, \n",
    "                                      params={\"version\": API_VERSION,\n",
    "                                              \"project_id\": PROJECT_ID}, \n",
    "                                      verify=False)\n",
    "    print(delete_rts_resp)"
   ]
  },
  {
   "cell_type": "markdown",
   "metadata": {},
   "source": [
    "<a id = \"list-models\"></a>\n",
    "### 8.5 List all models in project"
   ]
  },
  {
   "cell_type": "code",
   "execution_count": null,
   "metadata": {},
   "outputs": [],
   "source": [
    "get_model_resp = requests.get(WML_SERVICES_URL + \"/ml/v4/models\", \n",
    "                              headers={\"Content-Type\": \"application/json\",\n",
    "                                       \"Authorization\": token}, \n",
    "                              params={\"version\": API_VERSION,\n",
    "                                      \"project_id\": PROJECT_ID}, \n",
    "                              verify=False)\n",
    "\n",
    "print(get_model_resp)\n",
    "model_list_json = json.loads(get_model_resp.content.decode(\"utf-8\"))\n",
    "print(\"Models in Project : \"+ json.dumps(model_list_json, indent=4))"
   ]
  },
  {
   "cell_type": "markdown",
   "metadata": {},
   "source": [
    "<a id = \"del-models\"></a>\n",
    "### 8.6 Delete all untrained models in this project created by this notebook"
   ]
  },
  {
   "cell_type": "code",
   "execution_count": null,
   "metadata": {},
   "outputs": [],
   "source": [
    "get_model_resp = requests.get(WML_SERVICES_URL + \"/ml/v4/models\", \n",
    "                              headers={\"Content-Type\": \"application/json\",\n",
    "                                       \"Authorization\": token}, \n",
    "                              params={\"version\": API_VERSION,\n",
    "                                      \"project_id\": PROJECT_ID,\n",
    "                                      \"tag.value\": MODEL_TAG}, \n",
    "                              verify=False)\n",
    "\n",
    "model_list_json = json.loads(get_model_resp.content.decode(\"utf-8\"))\n",
    "model_resources = model_list_json[\"resources\"]\n",
    "\n",
    "for model in model_resources:\n",
    "    model_id = model[\"metadata\"][\"id\"]\n",
    "    print(\"Deleting Model ID: \" + model_id)\n",
    "    delete_model_resp = requests.delete(WML_SERVICES_URL + \"/ml/v4/models/\" + model_id, \n",
    "                                        headers={\"Content-Type\": \"application/json\",\n",
    "                                                 \"Authorization\": token}, \n",
    "                                        params={\"version\": API_VERSION,\n",
    "                                                \"project_id\": PROJECT_ID}, \n",
    "                                        verify=False)\n",
    "    print(delete_model_resp)"
   ]
  },
  {
   "cell_type": "markdown",
   "metadata": {},
   "source": [
    "As the Admin, you have now launched a Federated Learning experiment. Copy the output from the previous cell. Open Part 2 - WML Federated Learning with MNIST for Party and paste the output into the first code cell."
   ]
  },
  {
   "cell_type": "markdown",
   "metadata": {},
   "source": [
    "# <hr>\n",
    "Copyright © 2020-2024 IBM. This notebook and its source code are released under the terms of the MIT License.\n",
    "<br><br>\n",
    "<div style=\"background:#F5F7FA; height:110px; padding: 2em; font-size:14px;\">\n",
    "<span style=\"font-size:18px;color:#152935;\">Love this notebook? </span>\n",
    "<span style=\"font-size:15px;color:#152935;float:right;margin-right:40px;\">Don't have an account yet?</span><br>\n",
    "<span style=\"color:#5A6872;\">Share it with your colleagues and help them discover the power of Watson Studio!</span>\n",
    "<span style=\"border: 1px solid #3d70b2;padding:8px;float:right;margin-right:40px; color:#3d70b2;\"><a href=\"https://ibm.biz/cpd-signup\" target=\"_blank\" style=\"color: #3d70b2;text-decoration: none;\">Sign Up</a></span><br>\n",
    "</div>"
   ]
  }
 ],
 "metadata": {
  "kernelspec": {
   "display_name": "Python 3.10",
   "language": "python",
   "name": "python3"
  },
  "language_info": {
   "codemirror_mode": {
    "name": "ipython",
    "version": 3
   },
   "file_extension": ".py",
   "mimetype": "text/x-python",
   "name": "python",
   "nbconvert_exporter": "python",
   "pygments_lexer": "ipython3",
   "version": "3.10.9"
  },
  "vscode": {
   "interpreter": {
    "hash": "31f2aee4e71d21fbe5cf8b01ff0e069b9275f58929596ceb00d14d90e3e16cd6"
   }
  }
 },
 "nbformat": 4,
 "nbformat_minor": 1
}
