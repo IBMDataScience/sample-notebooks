{
 "cells": [
  {
   "cell_type": "markdown",
   "metadata": {},
   "source": [
    "<div class=\"alert alert-block alert-warning\"><strong>If you have this notebook as a local copy on your platform, it may become outdated. <a href=\"https://dataplatform.cloud.ibm.com/exchange/public/entry/view/029d77a73d72a4134c81383d6f01f1ed?context=cpdaas&audience=wdp\">Download the latest version of this notebook</a> or download the <a href=\"https://dataplatform.cloud.ibm.com/exchange/public/entry/view/cab78523832431e767c41527a42a6727?context=cpdaas?context=cpdaas&audience=wdp\">latest version of the project</a>.</strong></div>"
   ]
  },
  {
   "cell_type": "markdown",
   "metadata": {
    "id": "5f44e1599ee948d49366504d7f17bf05"
   },
   "source": [
    "# Part 1 - WML Federated Learning with MNIST for Admin "
   ]
  },
  {
   "cell_type": "markdown",
   "metadata": {},
   "source": [
    "With IBM Federated Learning, you can combine data from multiple sources to train a model from the collective data without having to actually share them. This allows enterprises to train data with other companies without delegating resources for security. Another advantage is the remote data does not have to be centralized in one location, eliminates the needs to move potentially large datasets. This notebook demonstrates how to start Federated Learning with the Python client. For more details setting up Federated Learning, terminology, and running Federated Learning from the UI, see [Federated Learning documentation](https://dataplatform.cloud.ibm.com/docs/content/wsj/analyze-data/fed-lea.html?audience=wdp).\n",
    "\n",
    "### Learning Goals\n",
    "\n",
    "When you complete the Part 1 - WML Federated Learning with MNIST for Admin notebook, you should know how to:\n",
    "\n",
    "- Load an untrained model\n",
    "- Create a Remote Training System\n",
    "- Start a training job\n",
    "\n",
    "Once you complete this notebook, please open [Part 2 - WML Federated Learning with MNIST for Party](https://dataplatform.cloud.ibm.com/exchange/public/entry/view/029d77a73d72a4134c81383d6f020f6f?context=cpdaas). "
   ]
  },
  {
   "cell_type": "markdown",
   "metadata": {},
   "source": [
    "<div class=\"alert alert-block alert-info\">This notebook is intended to be run by the administrator of the Federated Learning experiment.</div>"
   ]
  },
  {
   "cell_type": "markdown",
   "metadata": {},
   "source": [
    "## Table of Contents\n",
    "\n",
    "- [1. Prequisites](#prequisites)\n",
    "    - [1.2 Define variables](#var)\n",
    "    - [1.3 Import libraries](#libraries)\n",
    "    - [1.3 Obtain Cloud authentication token](#cloud-auth)\n",
    "- [2. Load the model](#load)\n",
    "    - [2.1 Create Untrained Model Asset](#model)\n",
    "    - [2.2 Upload Initial Model](#init)\n",
    "- [3. Create a Remote Training System](#rts)\n",
    "    - [3.1 Create Remote Training System Asset](#create-rts)\n",
    "- [4. Create FL Training Job](#fl-job)\n",
    "    - [4.1 Get Training Job Status](#status)"
   ]
  },
  {
   "cell_type": "markdown",
   "metadata": {},
   "source": [
    "<a id = \"prequisites\"></a>\n",
    "## 1. Prequisites\n",
    "\n",
    "Before you proceed, you need to have:\n",
    "\n",
    "- A Cloud Object Storage bucket. You can create one from your Cloud Object Storage instance in your [IBM Cloud Services](https://cloud.ibm.com/resources).\n",
    "- A Cloud Object Storage service credential with HMAC enabled. To create one, go to your **Cloud Object Storage < Service Credentials** and click **New credentials**. Give writer access and click **Advanced options** and turn *Include HMAC Credential* to on.\n",
    "- An IAM API Key. To create a new one, go to [IBM Cloud homepage](https://cloud.ibm.com). In your account, go to **Manage < IAM < API Keys**. Click **Create an IBM Cloud API Key**."
   ]
  },
  {
   "cell_type": "markdown",
   "metadata": {
    "id": "f9cf4ca5ebbb48db85cdd30e89b8e57b"
   },
   "source": [
    "<a id = \"var\"></a>\n",
    "### 1.1 Define variables"
   ]
  },
  {
   "cell_type": "code",
   "execution_count": null,
   "metadata": {},
   "outputs": [],
   "source": [
    "import sys\n",
    "\n",
    "!{sys.executable} -m pip install environs parse websockets jsonpickle pandas pytest pyYAML requests pathlib2 psutil setproctitle tabulate lz4 opencv-python gym ray==0.8.0 cloudpickle==1.3.0 image"
   ]
  },
  {
   "cell_type": "code",
   "execution_count": null,
   "metadata": {
    "id": "8362f3ba-928f-4546-9c37-33262fed1478"
   },
   "outputs": [],
   "source": [
    "API_VERSION = \"2019-10-25\"\n",
    "\n",
    "WML_SERVICES_HOST = \"us-south.ml.cloud.ibm.com\" # or \"eu-de.ml.cloud.ibm.com\"\n",
    "WML_SERVICES_URL = \"https://\" + WML_SERVICES_HOST\n",
    "IAM_TOKEN_URL = \"https://iam.cloud.ibm.com/oidc/token\"\n",
    "\n",
    "# Name of your COS bucket\n",
    "COS_BUCKET = \"XXX\" \n",
    "\n",
    "IAM_APIKEY = \"XXX\"  \n",
    "\n",
    "# Get this from Manage < IAM < Users, and check the URL. Your user ID should be in the format IBMid-<xxx>.\n",
    "CLOUD_USERID = \"IBMid-XXX\" \n",
    "\n",
    "PROJECT_ID = \"XXX\" # Get this by going into your WS project and checking the URL."
   ]
  },
  {
   "cell_type": "markdown",
   "metadata": {
    "id": "d3b4599b8e854b1f8e3c434c689c30a7"
   },
   "source": [
    "<a id = \"libraries\"></a>\n",
    "### 1.2 Import libraries"
   ]
  },
  {
   "cell_type": "code",
   "execution_count": null,
   "metadata": {
    "id": "c920ac82a77843a089d87bf4b2b0bf8c"
   },
   "outputs": [],
   "source": [
    "import urllib3\n",
    "import requests\n",
    "import json\n",
    "from string import Template\n",
    "\n",
    "urllib3.disable_warnings()"
   ]
  },
  {
   "cell_type": "markdown",
   "metadata": {
    "id": "a40be92efbd543a68ed64a157da9c561"
   },
   "source": [
    "<a id = \"cloud-auth\"></a>\n",
    "#### Obtain Cloud authentication token"
   ]
  },
  {
   "cell_type": "code",
   "execution_count": null,
   "metadata": {
    "id": "73549a34947242b8870db43e206b79e9"
   },
   "outputs": [],
   "source": [
    "payload = \"grant_type=urn:ibm:params:oauth:grant-type:apikey&apikey=\" + IAM_APIKEY\n",
    "token_resp = requests.post(IAM_TOKEN_URL ,\n",
    "                          headers={\"Content-Type\": \"application/x-www-form-urlencoded\"}, \n",
    "                          data = payload,\n",
    "                          verify=True)\n",
    "\n"
   ]
  },
  {
   "cell_type": "code",
   "execution_count": null,
   "metadata": {},
   "outputs": [],
   "source": [
    "print(token_resp)"
   ]
  },
  {
   "cell_type": "code",
   "execution_count": null,
   "metadata": {},
   "outputs": [],
   "source": [
    "print(token_resp)\n",
    "token = \"Bearer \" + json.loads(token_resp.content.decode(\"utf-8\"))[\"access_token\"]\n",
    "print(\"WS token: %s \" % token)"
   ]
  },
  {
   "cell_type": "markdown",
   "metadata": {},
   "source": [
    "<a id = \"load\"></a>\n",
    "## 2. Load the model"
   ]
  },
  {
   "cell_type": "markdown",
   "metadata": {},
   "source": [
    "You need an untrained model asset for Federated Learning to work with. In this tutorial, an untrained Tensorflow 2 Keras model is provided for you. Federated Learning supports Scikit-learn and Tensorflow 2, which are free machine learning packages with tutorials. Additionally IBM docs provide some details on how to configure an untrained model for Federated Learning. See:\n",
    "\n",
    "- [Scikit-learn model configuration](https://dataplatform.cloud.ibm.com/docs/content/wsj/analyze-data/fl-imp-det.html?audience=wdp&context=cpdaas#sklearn-config)\n",
    "- [Tensorflow 2 model configuration](https://dataplatform.cloud.ibm.com/docs/content/wsj/analyze-data/fl-imp-det.html?audience=wdp&context=cpdaas#tf-config)"
   ]
  },
  {
   "cell_type": "markdown",
   "metadata": {},
   "source": [
    "<a id = \"model\"></a>\n",
    "### 2.1 Create Untrained Model Asset"
   ]
  },
  {
   "cell_type": "markdown",
   "metadata": {},
   "source": [
    "Creates an untrained model asset in your project."
   ]
  },
  {
   "cell_type": "code",
   "execution_count": null,
   "metadata": {},
   "outputs": [],
   "source": [
    "base_model_save_payload = Template(\"\"\"\n",
    "{\n",
    "    \"name\": \"Untrained MNIST Model\",\n",
    "    \"type\": \"tensorflow_2.4\",\n",
    "    \"software_spec\": {\n",
    "        \"name\": \"tensorflow_2.4-py3.7\"\n",
    "    },\n",
    "    \"custom\": {\n",
    "        \"untrained\" : true\n",
    "    },\n",
    "    \"project_id\": \"$projectId\"\n",
    "}\n",
    "\"\"\").substitute(projectId = PROJECT_ID)\n",
    "\n",
    "print (\"Model base save payload: %s\" % base_model_save_payload)\n",
    "\n",
    "base_model_save_resp = requests.post(WML_SERVICES_URL + \"/ml/v4/models\",\n",
    "                                     headers={\"Content-Type\": \"application/json\",\n",
    "                                              \"Authorization\": token},\n",
    "                                     params={\"version\": API_VERSION},\n",
    "                                     data=base_model_save_payload,\n",
    "                                     verify=False)\n",
    "\n",
    "print(\"Base model save response \" + base_model_save_resp.content.decode(\"utf-8\"))\n",
    "\n"
   ]
  },
  {
   "cell_type": "code",
   "execution_count": null,
   "metadata": {},
   "outputs": [],
   "source": [
    "base_model_id = json.loads(base_model_save_resp.content.decode(\"utf-8\"))[\"metadata\"][\"id\"]\n",
    "print(\"Saved model id: %s\" % base_model_id)"
   ]
  },
  {
   "cell_type": "markdown",
   "metadata": {},
   "source": [
    "<a id = \"init\"></a>\n",
    "### 2.2 Upload Initial Model"
   ]
  },
  {
   "cell_type": "markdown",
   "metadata": {},
   "source": [
    "You need to upload the initial model into your project. In this tutorial, an untrained model example is provided and and downloaded from [GitHub](https://github.com/IBMDataScience/sample-notebooks/blob/master/Files/tf_mnist_model.zip)."
   ]
  },
  {
   "cell_type": "code",
   "execution_count": null,
   "metadata": {},
   "outputs": [],
   "source": [
    "base_model_content_resp = requests.get(\"https://github.com/IBMDataScience/sample-notebooks/raw/master/Files/tf_mnist_model.zip\",\n",
    "                                       headers={\"Content-Type\": \"application/octet-stream\"})\n",
    "\n",
    "base_model_content_uri = \"/ml/v4/models/\"+ base_model_id + \"/content\"\n",
    "print(\"Host URL = \" + WML_SERVICES_URL + base_model_content_uri)\n",
    "\n",
    "base_model_put_resp = requests.put(WML_SERVICES_URL + base_model_content_uri,\n",
    "                                   headers={\"Content-Type\": \"application/json\",\n",
    "                                            \"Authorization\": token},\n",
    "                                   params={\"version\": API_VERSION,\n",
    "                                           \"project_id\": PROJECT_ID,\n",
    "                                           \"content_format\": \"native\"},\n",
    "                                   data=base_model_content_resp.content,\n",
    "                                   verify=False)\n",
    "\n",
    "print(\"Response status for upload base model  \" + base_model_id + \" : \"+ str(base_model_put_resp.status_code))\n",
    "print(\"Create library content: %s\"  % base_model_put_resp.content.decode(\"utf-8\"))"
   ]
  },
  {
   "cell_type": "markdown",
   "metadata": {
    "id": "002a07c9213543819bc07d32035e6179"
   },
   "source": [
    "<a id = \"create-rts\"></a>\n",
    "## 3. Create Remote Training System Asset"
   ]
  },
  {
   "cell_type": "markdown",
   "metadata": {},
   "source": [
    "Now you will learn to create a Remote Training System (RTS). An RTS handles receiving your multiple parties' call to the aggregator to run the training. \n",
    "- `allowed_identities` are users permitted to connect to the Federated Learning experiment.  In this tutorial, only your user ID is permitted to connect but you can update the template and add additional users as required.\n",
    "- An Admin in `remote_admin`. The template for the admin is the same as the user. In this tutorial, a template Admin is created. It is also the same as the user ID, however generally in application, the admin does not have to be one of the users."
   ]
  },
  {
   "cell_type": "code",
   "execution_count": null,
   "metadata": {
    "id": "c7347a8fb21041b9864765975595cb64"
   },
   "outputs": [],
   "source": [
    "wml_remote_training_system_asset_one_def = Template(\"\"\"\n",
    "{\n",
    "  \"name\": \"Remote Party 1\",\n",
    "  \"project_id\": \"$projectId\",\n",
    "  \"description\": \"Sample Remote Training System\",\n",
    "  \"tags\": [ \"Federated Learning\" ],\n",
    "  \"organization\": {\n",
    "    \"name\": \"IBM\",\n",
    "    \"region\": \"US\"\n",
    "  },\n",
    "  \"allowed_identities\": [\n",
    "    {\n",
    "      \"id\": \"$userID\",\n",
    "      \"type\": \"user\"\n",
    "    }\n",
    "  ],\n",
    "  \"remote_admin\": {\n",
    "    \"id\": \"$userID\",\n",
    "    \"type\": \"user\"\n",
    "  }\n",
    "}\n",
    "\"\"\").substitute(userID = CLOUD_USERID,\n",
    "                projectId = PROJECT_ID)\n",
    "\n",
    "\n",
    "wml_remote_training_system_one_resp = requests.post(WML_SERVICES_URL + \"/ml/v4/remote_training_systems\", \n",
    "                                                    headers={\"Content-Type\": \"application/json\",\n",
    "                                                             \"Authorization\": token}, \n",
    "                                                    params={\"version\": API_VERSION,\n",
    "                                                            \"project_id\": PROJECT_ID}, \n",
    "                                                    data=wml_remote_training_system_asset_one_def, \n",
    "                                                    verify=False)\n",
    "\n",
    "print(wml_remote_training_system_one_resp)\n",
    "status_json = json.loads(wml_remote_training_system_one_resp.content.decode(\"utf-8\"))\n",
    "print(\"Create wml_remote_training_system_one asset response: %s\"  % json.dumps(status_json, indent=4))\n",
    "wml_remote_training_system_one_asset_uid = status_json[\"metadata\"][\"id\"]\n",
    "print(\"WML wml_remote_training_system_one asset uid: %s\" % wml_remote_training_system_one_asset_uid)"
   ]
  },
  {
   "cell_type": "markdown",
   "metadata": {
    "id": "b4e0792625804b648f4a7a72f69707bf"
   },
   "source": [
    "<a id = \"fl-job\"></a>\n",
    "## 4. Create FL Training Job\n",
    "\n",
    "In this section, you will launch the Federated Learning experiment."
   ]
  },
  {
   "cell_type": "code",
   "execution_count": null,
   "metadata": {},
   "outputs": [],
   "source": [
    "training_payload = Template(\"\"\" \n",
    "{\n",
    "  \"name\": \"FL Aggregator\",\n",
    "  \"tags\": [\n",
    "    {\n",
    "      \"value\": \"tags_jobs_fl\",\n",
    "      \"description\": \"Sample FL Aggregator\"\n",
    "    }\n",
    "  ],\n",
    "  \"federated_learning\": {\n",
    "    \"model\": {\n",
    "      \"spec\": {\n",
    "        \"id\": \"$modelID\"\n",
    "      },\n",
    "      \"type\": \"tensorflow\"\n",
    "    },\n",
    "    \"fusion_type\": \"iter_avg\",\n",
    "    \"rounds\": 5,\n",
    "    \"remote_training\" : {\n",
    "      \"quorum\": 1.0,\n",
    "      \"remote_training_systems\": [ { \"id\" : \"$rts_one\", \"required\" : true  } ]\n",
    "    },\n",
    "    \"hardware_spec\": {\n",
    "      \"name\": \"XS\"\n",
    "    }\n",
    "  },\n",
    "  \"training_data_references\": [],\n",
    "  \"results_reference\": {\n",
    "    \"type\": \"container\",\n",
    "    \"name\": \"outputData\",\n",
    "    \"connection\": {},\n",
    "    \"location\": {\n",
    "      \"path\": \".\"\n",
    "    }\n",
    "  },\n",
    "  \"project_id\": \"$projectId\"  \n",
    "}\n",
    "\"\"\").substitute(modelID = base_model_id,\n",
    "                projectId = PROJECT_ID,\n",
    "                rts_one = wml_remote_training_system_one_asset_uid,\n",
    "                bucket = COS_BUCKET)\n",
    "\n",
    "print(\"Training payload: %s\" % training_payload)\n",
    "\n",
    "training_launch_resp = requests.post(WML_SERVICES_URL + \"/ml/v4/trainings\", params={\"version\": API_VERSION},\n",
    "                                     headers={\"Content-Type\": \"application/json\",\n",
    "                                              \"Authorization\": token},\n",
    "                                     data=training_payload,\n",
    "                                     verify=False)\n",
    "\n",
    "print(training_launch_resp)\n",
    "print(\"Launch training response %s\"  % training_launch_resp.content.decode(\"utf-8\"))\n",
    "training_id = json.loads(training_launch_resp.content.decode(\"utf-8\"))[\"metadata\"][\"id\"]\n",
    "print(\"Training ID: %s\" % training_id)"
   ]
  },
  {
   "cell_type": "markdown",
   "metadata": {
    "id": "9b8321dced6647308e7e230ebe7d7d64"
   },
   "source": [
    "<a id = \"status\"></a>\n",
    "### 4.1 Get Training Job Status\n"
   ]
  },
  {
   "cell_type": "code",
   "execution_count": null,
   "metadata": {
    "id": "cd2b5b45aa074c2a80d1ac3f27463327"
   },
   "outputs": [],
   "source": [
    "status_full = requests.get(WML_SERVICES_URL + \"/ml/v4/trainings/\" + training_id,\n",
    "                           headers={\"Content-Type\": \"application/json\",\n",
    "                                    \"Authorization\": token},\n",
    "                           params={\"version\": API_VERSION,\n",
    "                                   \"project_id\": PROJECT_ID},\n",
    "                           verify=False)\n",
    "\n",
    "print(status_full)\n",
    "status_json = json.loads(status_full.content.decode(\"utf-8\"))\n",
    "print(\"Full training job status: \"+ json.dumps(status_json, indent=4))"
   ]
  },
  {
   "cell_type": "markdown",
   "metadata": {
    "id": "583b4cf0d6d045f083dee0a890f8685b"
   },
   "source": [
    "### Get Variables And Paste Into Party Notebook"
   ]
  },
  {
   "cell_type": "markdown",
   "metadata": {},
   "source": [
    "Run the following cell and copy the output. "
   ]
  },
  {
   "cell_type": "code",
   "execution_count": null,
   "metadata": {
    "id": "0b98345ba3ca4deeab8e51b6b1508b8e"
   },
   "outputs": [],
   "source": [
    "print(\"WML_SERVICES_HOST = '%s'\" % WML_SERVICES_HOST)\n",
    "print(\"PROJECT_ID = '%s'\" % PROJECT_ID)\n",
    "print(\"IAM_APIKEY = '%s'\" % IAM_APIKEY)\n",
    "print(\"RTS_ID = '%s'\" % wml_remote_training_system_one_asset_uid)\n",
    "print(\"TRAINING_ID = '%s'\" % (training_id))"
   ]
  },
  {
   "cell_type": "markdown",
   "metadata": {},
   "source": [
    "As the Admin, you have now launched a Federated Learning experiment. Copy the output from the previous cell. Open Part 2 - WML Federated Learning with MNIST for Party and paste the output into the first code cell."
   ]
  },
  {
   "cell_type": "markdown",
   "metadata": {},
   "source": [
    "# <hr>\n",
    "Copyright © 2020 IBM. This notebook and its source code are released under the terms of the MIT License.\n",
    " ",
    "<br><br>\n",
    "<div style=\"background:#F5F7FA; height:110px; padding: 2em; font-size:14px;\">\n",
    "<span style=\"font-size:18px;color:#152935;\">Love this notebook? </span>\n",
    "<span style=\"font-size:15px;color:#152935;float:right;margin-right:40px;\">Don't have an account yet?</span><br>\n",
    "<span style=\"color:#5A6872;\">Share it with your colleagues and help them discover the power of Watson Studio!</span>\n",
    "<span style=\"border: 1px solid #3d70b2;padding:8px;float:right;margin-right:40px; color:#3d70b2;\"><a href=\"https://ibm.co/wsnotebooks\" target=\"_blank\" style=\"color: #3d70b2;text-decoration: none;\">Sign Up</a></span><br>\n",
    "</div>"
   ]
  }
 ],
 "metadata": {
  "kernelspec": {
   "display_name": "Python 3",
   "language": "python",
   "name": "python3"
  },
  "language_info": {
   "codemirror_mode": {
    "name": "ipython",
    "version": 3
   },
   "file_extension": ".py",
   "mimetype": "text/x-python",
   "name": "python",
   "nbconvert_exporter": "python",
   "pygments_lexer": "ipython3",
   "version": "3.8.8"
  }
 },
 "nbformat": 4,
 "nbformat_minor": 1
}
