{
 "cells": [
  {
   "cell_type": "markdown",
   "metadata": {},
   "source": [
    "<table style=\"border: none\" align=\"left\">\n",
    "   <tr style=\"border: none\">\n",
    "      <th style=\"border: none\"><font face=\"verdana\" size=\"5\" color=\"black\"><b>Persist, Deploy, and Score an SPSS Model to Predict Customer Churn</b></th>\n",
    "      <th style=\"border: none\"><img src=\"https://github.com/pmservice/customer-satisfaction-prediction/blob/master/app/static/images/ml_icon_gray.png?raw=true\" alt=\"Watson Machine Learning icon\" height=\"40\" width=\"40\"></th>\n",
    "  <tr style=\"border: none\">\n",
    "       <th style=\"border: none\"><img src=\"https://github.com/pmservice/wml-sample-models/blob/master/spark/customer-satisfaction-prediction/images/users_banner_2-03.png?raw=true\" width=\"600\" alt=\"Icon\"> </th>\n",
    "   </tr>\n",
    "</table>"
   ]
  },
  {
   "cell_type": "markdown",
   "metadata": {},
   "source": [
    "This notebook demonstrates how to deploy an SPSS model and score test data. \n",
    "\n",
    "You will use the **Telco Customer Churn** data set which contains anonymous data about customers of a telecommunication company. Use the details of this data set to predict customer churn which is critical to business as it is easier to retain existing customers rather than acquire new ones.\n",
    "\n",
    "Some familiarity with Python is helpful. This notebook is compatible Watson Studio Desktop and Python 3.6.\n",
    "\n",
    "## Learning goals\n",
    "\n",
    "In this notebook you learn how to:\n",
    "\n",
    "-  Set up a Watson Machine Learning Server.\n",
    "-  Deploy the SPSS model online.\n",
    "-  Use the deployed model to score data.\n",
    "\n",
    "\n",
    "## Contents\n",
    "\n",
    "1.\t[Set up the environment](#setup)\n",
    "2.\t[Persist, deploy, and score the SPSS model in the Watson Machine Learning (WML) repository](#scoring)\n",
    "3.\t[Summary](#summary)"
   ]
  },
  {
   "cell_type": "markdown",
   "metadata": {},
   "source": [
    "<a id=\"setup\"></a>\n",
    "## 1. Set up the environment\n",
    "\n",
    "Before you use the sample code in this notebook, you must perform the following setup task:\n",
    "\n",
    "-  Install <a href=\"https://www.ibm.com/support/knowledgecenter/SS3PWM_1.0.0/wsj/wmls/wmls-install-over.html\" target=\"_blank\" rel=\"noopener no referrer\">Watson Machine Learning (WML) Server</a>."
   ]
  },
  {
   "cell_type": "markdown",
   "metadata": {},
   "source": [
    "Install <a href=\"https://pypi.org/project/watson-machine-learning-client-V4/\" target=\"_blank\" rel=\"noopener no referrer\">watson-machine-learning-client</a> package (not required on Watson Studio).\n",
    "\n",
    "**Note:** `watson-machine-learning-client` documentation can be found <a href=\"https://wml-api-pyclient-dev-v4.mybluemix.net\" target=\"_blank\" rel=\"noopener no referrer\">here</a>."
   ]
  },
  {
   "cell_type": "code",
   "execution_count": 1,
   "metadata": {},
   "outputs": [
    {
     "name": "stdout",
     "output_type": "stream",
     "text": [
      "Requirement already up-to-date: watson-machine-learning-client-V4==1.0.58 in /cc-home/_global_/python-3.6 (1.0.58)\n",
      "Requirement already satisfied, skipping upgrade: requests in /opt/conda/envs/Python-3.6/lib/python3.6/site-packages (from watson-machine-learning-client-V4==1.0.58) (2.21.0)\n",
      "Requirement already satisfied, skipping upgrade: urllib3 in /opt/conda/envs/Python-3.6/lib/python3.6/site-packages (from watson-machine-learning-client-V4==1.0.58) (1.24.1)\n",
      "Requirement already satisfied, skipping upgrade: pandas in /opt/conda/envs/Python-3.6/lib/python3.6/site-packages (from watson-machine-learning-client-V4==1.0.58) (0.24.1)\n",
      "Requirement already satisfied, skipping upgrade: certifi in /opt/conda/envs/Python-3.6/lib/python3.6/site-packages (from watson-machine-learning-client-V4==1.0.58) (2019.9.11)\n",
      "Requirement already satisfied, skipping upgrade: tqdm in /opt/conda/envs/Python-3.6/lib/python3.6/site-packages (from watson-machine-learning-client-V4==1.0.58) (4.31.1)\n",
      "Requirement already satisfied, skipping upgrade: lomond in /cc-home/_global_/python-3.6 (from watson-machine-learning-client-V4==1.0.58) (0.3.3)\n",
      "Requirement already satisfied, skipping upgrade: tabulate in /opt/conda/envs/Python-3.6/lib/python3.6/site-packages (from watson-machine-learning-client-V4==1.0.58) (0.8.2)\n",
      "Requirement already satisfied, skipping upgrade: ibm-cos-sdk in /cc-home/_global_/python-3.6 (from watson-machine-learning-client-V4==1.0.58) (2.5.5)\n",
      "Requirement already satisfied, skipping upgrade: chardet<3.1.0,>=3.0.2 in /opt/conda/envs/Python-3.6/lib/python3.6/site-packages (from requests->watson-machine-learning-client-V4==1.0.58) (3.0.4)\n",
      "Requirement already satisfied, skipping upgrade: idna<2.9,>=2.5 in /opt/conda/envs/Python-3.6/lib/python3.6/site-packages (from requests->watson-machine-learning-client-V4==1.0.58) (2.8)\n",
      "Requirement already satisfied, skipping upgrade: python-dateutil>=2.5.0 in /opt/conda/envs/Python-3.6/lib/python3.6/site-packages (from pandas->watson-machine-learning-client-V4==1.0.58) (2.7.5)\n",
      "Requirement already satisfied, skipping upgrade: numpy>=1.12.0 in /opt/conda/envs/Python-3.6/lib/python3.6/site-packages (from pandas->watson-machine-learning-client-V4==1.0.58) (1.15.4)\n",
      "Requirement already satisfied, skipping upgrade: pytz>=2011k in /opt/conda/envs/Python-3.6/lib/python3.6/site-packages (from pandas->watson-machine-learning-client-V4==1.0.58) (2018.9)\n",
      "Requirement already satisfied, skipping upgrade: six>=1.10.0 in /opt/conda/envs/Python-3.6/lib/python3.6/site-packages (from lomond->watson-machine-learning-client-V4==1.0.58) (1.12.0)\n",
      "Requirement already satisfied, skipping upgrade: ibm-cos-sdk-core==2.5.5 in /cc-home/_global_/python-3.6 (from ibm-cos-sdk->watson-machine-learning-client-V4==1.0.58) (2.5.5)\n",
      "Requirement already satisfied, skipping upgrade: ibm-cos-sdk-s3transfer==2.5.5 in /cc-home/_global_/python-3.6 (from ibm-cos-sdk->watson-machine-learning-client-V4==1.0.58) (2.5.5)\n",
      "Requirement already satisfied, skipping upgrade: jmespath<1.0.0,>=0.7.1 in /opt/conda/envs/Python-3.6/lib/python3.6/site-packages (from ibm-cos-sdk->watson-machine-learning-client-V4==1.0.58) (0.9.3)\n",
      "Requirement already satisfied, skipping upgrade: docutils<0.16,>=0.10 in /opt/conda/envs/Python-3.6/lib/python3.6/site-packages (from ibm-cos-sdk-core==2.5.5->ibm-cos-sdk->watson-machine-learning-client-V4==1.0.58) (0.14)\n"
     ]
    }
   ],
   "source": [
    "!pip install --upgrade watson-machine-learning-client-V4==1.0.58"
   ]
  },
  {
   "cell_type": "markdown",
   "metadata": {},
   "source": [
    "**Connect to the Watson Machine Learning Server using the Python client**<br><br>\n",
    "\n",
    "<div class=\"alert-block alert-info\"><br>\n",
    "To install the Watson Machine Learning Server, follow <a href=\"https://www.ibm.com/support/knowledgecenter/SS3PWM_1.0.0/wsj/wmls/wmls-install-over.html\" target=\"_blank\" rel=\"noopener no referrer\">these documentation steps</a>. To connect to the WML server and find your authentication information (your credentials) follow the steps provided here in the <a href=\"https://www.ibm.com/support/knowledgecenter/SS3PWM_1.0.0/wsj/wmls/wmls-connect.html\" target=\"_blank\" rel=\"noopener no referrer\">Documentation</a>.<br><br>\n",
    "</div>\n",
    "\n",
    "**Action**: Enter your WML Server credentials in the following cell."
   ]
  },
  {
   "cell_type": "code",
   "execution_count": 2,
   "metadata": {},
   "outputs": [],
   "source": [
    "wml_credentials={\n",
    "    'url': '***',\n",
    "    'username': '***',\n",
    "    'password': '***',\n",
    "    'instance_id': 'icp',\n",
    "    'version': '***'\n",
    "}"
   ]
  },
  {
   "cell_type": "markdown",
   "metadata": {},
   "source": [
    "Import the `watson-machine-learning-client` module and authenticate the service instance."
   ]
  },
  {
   "cell_type": "code",
   "execution_count": 3,
   "metadata": {},
   "outputs": [],
   "source": [
    "from watson_machine_learning_client import WatsonMachineLearningAPIClient"
   ]
  },
  {
   "cell_type": "code",
   "execution_count": 4,
   "metadata": {},
   "outputs": [],
   "source": [
    "client = WatsonMachineLearningAPIClient(wml_credentials)"
   ]
  },
  {
   "cell_type": "code",
   "execution_count": 5,
   "metadata": {},
   "outputs": [
    {
     "data": {
      "text/plain": [
       "'1.0.58'"
      ]
     },
     "execution_count": 5,
     "metadata": {},
     "output_type": "execute_result"
    }
   ],
   "source": [
    "client.version"
   ]
  },
  {
   "cell_type": "markdown",
   "metadata": {},
   "source": [
    "<a id=\"scoring\"></a>\n",
    "## 2. Persist, deploy, and score the SPSS model in the Watson Machine Learning (WML) repository"
   ]
  },
  {
   "cell_type": "markdown",
   "metadata": {},
   "source": [
    "In this section, you will learn how to:\n",
    "- [2.1 Download and save an SPSS model](#save)\n",
    "- [2.2 Create an online deployment](#create)\n",
    "- [2.3 Score a test data record](#score)"
   ]
  },
  {
   "cell_type": "markdown",
   "metadata": {},
   "source": [
    "### 2.1 Download and save an SPSS model<a id=\"save\"></a>"
   ]
  },
  {
   "cell_type": "markdown",
   "metadata": {},
   "source": [
    "Download the SPSS sample model from the <a href=\"https://github.com/pmservice/wml-sample-models\" target=\"_blank\" rel=\"noopener no referrer\">Git repository</a>."
   ]
  },
  {
   "cell_type": "markdown",
   "metadata": {},
   "source": [
    "**Note:** You may need to install the `wget` package. To install the `wget` package, run the following command. "
   ]
  },
  {
   "cell_type": "code",
   "execution_count": 6,
   "metadata": {},
   "outputs": [
    {
     "name": "stdout",
     "output_type": "stream",
     "text": [
      "Collecting wget\n",
      "  Downloading https://files.pythonhosted.org/packages/47/6a/62e288da7bcda82b935ff0c6cfe542970f04e29c756b0e147251b2fb251f/wget-3.2.zip\n",
      "Building wheels for collected packages: wget\n",
      "  Building wheel for wget (setup.py) ... \u001b[?25ldone\n",
      "\u001b[?25h  Created wheel for wget: filename=wget-3.2-cp36-none-any.whl size=9682 sha256=45477591e11495bfaa61b6b915107e78085d59601676af58007df8ccc2667719\n",
      "  Stored in directory: /home/wsuser/.cache/pip/wheels/40/15/30/7d8f7cea2902b4db79e3fea550d7d7b85ecb27ef992b618f3f\n",
      "Successfully built wget\n",
      "Installing collected packages: wget\n",
      "Successfully installed wget-3.2\n"
     ]
    }
   ],
   "source": [
    "!pip install --upgrade wget"
   ]
  },
  {
   "cell_type": "code",
   "execution_count": 7,
   "metadata": {},
   "outputs": [
    {
     "name": "stdout",
     "output_type": "stream",
     "text": [
      "spss_sample_model/customer-satisfaction-prediction.str\n"
     ]
    }
   ],
   "source": [
    "# Download the sample SPSS model.\n",
    "import os\n",
    "import wget\n",
    "\n",
    "sample_dir = 'spss_sample_model'\n",
    "if not os.path.isdir(sample_dir):\n",
    "    os.mkdir(sample_dir)\n",
    "\n",
    "filename=os.path.join(sample_dir, 'customer-satisfaction-prediction.str')\n",
    "if not os.path.isfile(filename):\n",
    "    filename = wget.download('https://github.com/pmservice/wml-sample-models/raw/master/spss/customer-satisfaction-prediction/model/customer-satisfaction-prediction.str',\\\n",
    "                             out=sample_dir)\n",
    "print(filename)"
   ]
  },
  {
   "cell_type": "code",
   "execution_count": 8,
   "metadata": {},
   "outputs": [],
   "source": [
    "# Obtain the UId of your space\n",
    "def guid_from_space_name(client, space_name):\n",
    "    instance_details = client.service_instance.get_details()\n",
    "    space = client.spaces.get_details()\n",
    "    return(next(item for item in space['resources'] if item['entity'][\"name\"] == space_name)['metadata']['guid'])"
   ]
  },
  {
   "cell_type": "code",
   "execution_count": 9,
   "metadata": {},
   "outputs": [
    {
     "name": "stdout",
     "output_type": "stream",
     "text": [
      "Space UID = 01e8c92c-171f-430d-b29a-49f7d2d3243f\n"
     ]
    }
   ],
   "source": [
    "# Enter the name of your deployment space here:\n",
    "space_uid = guid_from_space_name(client, 'YOUR DEPLOYMENT SPACE')\n",
    "print(\"Space UID = \" + space_uid)"
   ]
  },
  {
   "cell_type": "code",
   "execution_count": 10,
   "metadata": {},
   "outputs": [
    {
     "data": {
      "text/plain": [
       "'SUCCESS'"
      ]
     },
     "execution_count": 10,
     "metadata": {},
     "output_type": "execute_result"
    }
   ],
   "source": [
    "# Set the space to use it in subsequent actions\n",
    "client.set.default_space(space_uid)"
   ]
  },
  {
   "cell_type": "markdown",
   "metadata": {},
   "source": [
    "Get a list of stored models in the WML repository."
   ]
  },
  {
   "cell_type": "code",
   "execution_count": 11,
   "metadata": {},
   "outputs": [
    {
     "name": "stdout",
     "output_type": "stream",
     "text": [
      "----  ----  -------  ----\n",
      "GUID  NAME  CREATED  TYPE\n",
      "----  ----  -------  ----\n"
     ]
    }
   ],
   "source": [
    "client.repository.list_models()"
   ]
  },
  {
   "cell_type": "markdown",
   "metadata": {},
   "source": [
    "Get a list of deployed models."
   ]
  },
  {
   "cell_type": "code",
   "execution_count": 12,
   "metadata": {},
   "outputs": [
    {
     "name": "stdout",
     "output_type": "stream",
     "text": [
      "----  ----  -----  -------  -------------\n",
      "GUID  NAME  STATE  CREATED  ARTIFACT_TYPE\n",
      "----  ----  -----  -------  -------------\n"
     ]
    }
   ],
   "source": [
    "client.deployments.list()"
   ]
  },
  {
   "cell_type": "markdown",
   "metadata": {},
   "source": [
    "Save the SPSS sample model in your WML repository. First, you need to create the model metadata to store in the repository."
   ]
  },
  {
   "cell_type": "code",
   "execution_count": 13,
   "metadata": {},
   "outputs": [],
   "source": [
    "# Save the SPSS model to the WML repository.\n",
    "# Model Metadata.\n",
    "meta_props={\n",
    "    client.repository.ModelMetaNames.NAME: \"SPSS model for Churn prediction\",\n",
    "    client.repository.ModelMetaNames.RUNTIME_UID: \"spss-modeler_18.1\",\n",
    "    client.repository.ModelMetaNames.TYPE: \"spss-modeler_18.1\",\n",
    "    client.repository.ModelMetaNames.SPACE_UID: space_uid\n",
    "}"
   ]
  },
  {
   "cell_type": "markdown",
   "metadata": {},
   "source": [
    "You need the model uid to create the deployment. You can extract the model uid from the saved model details and use it in the next section to create the deployment."
   ]
  },
  {
   "cell_type": "code",
   "execution_count": 14,
   "metadata": {},
   "outputs": [
    {
     "name": "stdout",
     "output_type": "stream",
     "text": [
      "Model UID = d98b2f65-9932-4017-93c7-cfef0b92fc32\n"
     ]
    }
   ],
   "source": [
    "# Create the model artifact.\n",
    "model_artifact = client.repository.store_model(filename, meta_props=meta_props)\n",
    "model_uid = client.repository.get_model_uid(model_artifact)\n",
    "print(\"Model UID = \" + model_uid)"
   ]
  },
  {
   "cell_type": "markdown",
   "metadata": {},
   "source": [
    "Get the saved model metadata from WML."
   ]
  },
  {
   "cell_type": "code",
   "execution_count": 15,
   "metadata": {
    "scrolled": true
   },
   "outputs": [
    {
     "name": "stdout",
     "output_type": "stream",
     "text": [
      "{'entity': {'content_status': {'state': 'persisted'},\n",
      "            'name': 'SPSS model for Churn prediction',\n",
      "            'runtime': {'href': '/v4/runtimes/spss-modeler_18.1'},\n",
      "            'space': {'href': '/v4/spaces/01e8c92c-171f-430d-b29a-49f7d2d3243f'},\n",
      "            'type': 'spss-modeler_18.1'},\n",
      " 'metadata': {'created_at': '2019-12-20T01:02:44.002Z',\n",
      "              'guid': 'd98b2f65-9932-4017-93c7-cfef0b92fc32',\n",
      "              'href': '/v4/models/d98b2f65-9932-4017-93c7-cfef0b92fc32?space_id=01e8c92c-171f-430d-b29a-49f7d2d3243f',\n",
      "              'id': 'd98b2f65-9932-4017-93c7-cfef0b92fc32',\n",
      "              'modified_at': '2019-12-20T01:02:45.002Z',\n",
      "              'owner': '999'}}\n"
     ]
    }
   ],
   "source": [
    "# Details about the model.\n",
    "model_details = client.repository.get_details(model_uid)\n",
    "from pprint import pprint\n",
    "pprint(model_details)"
   ]
  },
  {
   "cell_type": "markdown",
   "metadata": {},
   "source": [
    "You can list all stored models using the `list_models` method."
   ]
  },
  {
   "cell_type": "code",
   "execution_count": 16,
   "metadata": {},
   "outputs": [
    {
     "name": "stdout",
     "output_type": "stream",
     "text": [
      "------------------------------------  -------------------------------  ------------------------  -----------------\n",
      "GUID                                  NAME                             CREATED                   TYPE\n",
      "d98b2f65-9932-4017-93c7-cfef0b92fc32  SPSS model for Churn prediction  2019-12-20T01:02:44.002Z  spss-modeler_18.1\n",
      "------------------------------------  -------------------------------  ------------------------  -----------------\n"
     ]
    }
   ],
   "source": [
    "# Display a list of all the models.\n",
    "client.repository.list_models()"
   ]
  },
  {
   "cell_type": "markdown",
   "metadata": {},
   "source": [
    "### 2.2 Create an online deployment<a id=\"create\"></a>"
   ]
  },
  {
   "cell_type": "markdown",
   "metadata": {},
   "source": [
    "Using the code below to create an online deployment."
   ]
  },
  {
   "cell_type": "code",
   "execution_count": 17,
   "metadata": {},
   "outputs": [],
   "source": [
    "# Deployment metadata.\n",
    "deploy_meta = {\n",
    "    client.deployments.ConfigurationMetaNames.NAME: \"Sample SPSS model deployment\",\n",
    "    client.deployments.ConfigurationMetaNames.ONLINE: {}\n",
    "}"
   ]
  },
  {
   "cell_type": "code",
   "execution_count": 18,
   "metadata": {
    "scrolled": true
   },
   "outputs": [
    {
     "name": "stdout",
     "output_type": "stream",
     "text": [
      "\n",
      "\n",
      "#######################################################################################\n",
      "\n",
      "Synchronous deployment creation for uid: 'd98b2f65-9932-4017-93c7-cfef0b92fc32' started\n",
      "\n",
      "#######################################################################################\n",
      "\n",
      "\n",
      "initializing....\n",
      "ready\n",
      "\n",
      "\n",
      "------------------------------------------------------------------------------------------------\n",
      "Successfully finished deployment creation, deployment_uid='226d2f70-dcf4-45d7-a7a5-738d7a31816e'\n",
      "------------------------------------------------------------------------------------------------\n",
      "\n",
      "\n"
     ]
    }
   ],
   "source": [
    "# Create the deployment.\n",
    "deployment_details = client.deployments.create(model_uid, meta_props=deploy_meta)"
   ]
  },
  {
   "cell_type": "markdown",
   "metadata": {},
   "source": [
    "Get the list of all deployments."
   ]
  },
  {
   "cell_type": "code",
   "execution_count": 19,
   "metadata": {},
   "outputs": [
    {
     "name": "stdout",
     "output_type": "stream",
     "text": [
      "------------------------------------  ----------------------------  -----  ------------------------  -------------\n",
      "GUID                                  NAME                          STATE  CREATED                   ARTIFACT_TYPE\n",
      "226d2f70-dcf4-45d7-a7a5-738d7a31816e  Sample SPSS model deployment  ready  2019-12-20T01:02:48.701Z  model\n",
      "------------------------------------  ----------------------------  -----  ------------------------  -------------\n"
     ]
    }
   ],
   "source": [
    "# List the deployments.\n",
    "client.deployments.list()"
   ]
  },
  {
   "cell_type": "markdown",
   "metadata": {},
   "source": [
    "Now, you can check details of your deployments."
   ]
  },
  {
   "cell_type": "code",
   "execution_count": 20,
   "metadata": {},
   "outputs": [
    {
     "name": "stdout",
     "output_type": "stream",
     "text": [
      "Deployment uid = 226d2f70-dcf4-45d7-a7a5-738d7a31816e\n"
     ]
    }
   ],
   "source": [
    "# Deployment UID.\n",
    "deployment_uid = client.deployments.get_uid(deployment_details)\n",
    "print('Deployment uid = {}'.format(deployment_uid))"
   ]
  },
  {
   "cell_type": "code",
   "execution_count": 21,
   "metadata": {},
   "outputs": [
    {
     "name": "stdout",
     "output_type": "stream",
     "text": [
      "{'metadata': {'parent': {'href': ''}, 'guid': '226d2f70-dcf4-45d7-a7a5-738d7a31816e', 'modified_at': '', 'created_at': '2019-12-20T01:02:48.701Z', 'href': '/v4/deployments/226d2f70-dcf4-45d7-a7a5-738d7a31816e'}, 'entity': {'name': 'Sample SPSS model deployment', 'custom': {}, 'online': {}, 'description': '', 'space': {'href': '/v4/spaces/01e8c92c-171f-430d-b29a-49f7d2d3243f'}, 'status': {'state': 'ready', 'online_url': {'url': 'https://wmlserver-svt.ml.test.cloud.ibm.com:31843/v4/deployments/226d2f70-dcf4-45d7-a7a5-738d7a31816e/predictions'}}, 'asset': {'href': '/v4/models/d98b2f65-9932-4017-93c7-cfef0b92fc32?space_id=01e8c92c-171f-430d-b29a-49f7d2d3243f'}, 'auto_redeploy': False}}\n"
     ]
    }
   ],
   "source": [
    "# Deployment details.\n",
    "print(client.deployments.get_details(deployment_uid))"
   ]
  },
  {
   "cell_type": "markdown",
   "metadata": {},
   "source": [
    "### 2.3 Score a test data record<a id=\"score\"></a>"
   ]
  },
  {
   "cell_type": "markdown",
   "metadata": {},
   "source": [
    "Prepare the scoring payload with values to score against the model."
   ]
  },
  {
   "cell_type": "code",
   "execution_count": 22,
   "metadata": {},
   "outputs": [
    {
     "name": "stdout",
     "output_type": "stream",
     "text": [
      "{'input_data': [{'fields': ['customerID',\n",
      "                            'gender',\n",
      "                            'SeniorCitizen',\n",
      "                            'Partner',\n",
      "                            'Dependents',\n",
      "                            'tenure',\n",
      "                            'PhoneService',\n",
      "                            'MultipleLines',\n",
      "                            'InternetService',\n",
      "                            'OnlineSecurity',\n",
      "                            'OnlineBackup',\n",
      "                            'DeviceProtection',\n",
      "                            'TechSupport',\n",
      "                            'StreamingTV',\n",
      "                            'StreamingMovies',\n",
      "                            'Contract',\n",
      "                            'PaperlessBilling',\n",
      "                            'PaymentMethod',\n",
      "                            'MonthlyCharges',\n",
      "                            'TotalCharges',\n",
      "                            'Churn',\n",
      "                            'SampleWeight'],\n",
      "                 'values': [['3638-WEABW',\n",
      "                             'Female',\n",
      "                             0,\n",
      "                             'Yes',\n",
      "                             'No',\n",
      "                             58,\n",
      "                             'Yes',\n",
      "                             'Yes',\n",
      "                             'DSL',\n",
      "                             'No',\n",
      "                             'Yes',\n",
      "                             'No',\n",
      "                             'Yes',\n",
      "                             'No',\n",
      "                             'No',\n",
      "                             'Two year',\n",
      "                             'Yes',\n",
      "                             'Credit card (automatic)',\n",
      "                             59.9,\n",
      "                             3505.1,\n",
      "                             'No',\n",
      "                             2.768]]}]}\n"
     ]
    }
   ],
   "source": [
    "# Prepare scoring payload.\n",
    "job_payload = {\n",
    "    client.deployments.ScoringMetaNames.INPUT_DATA: [{\n",
    "        'fields':['customerID','gender','SeniorCitizen','Partner','Dependents','tenure','PhoneService','MultipleLines','InternetService','OnlineSecurity','OnlineBackup','DeviceProtection','TechSupport','StreamingTV','StreamingMovies','Contract','PaperlessBilling','PaymentMethod','MonthlyCharges','TotalCharges','Churn','SampleWeight'],\n",
    "        'values':[['3638-WEABW','Female',0,'Yes','No',58,'Yes','Yes','DSL','No','Yes','No','Yes','No','No','Two year','Yes','Credit card (automatic)',59.9,3505.1,'No',2.768]]\n",
    "    }]\n",
    "}\n",
    "pprint(job_payload)"
   ]
  },
  {
   "cell_type": "markdown",
   "metadata": {},
   "source": [
    "Use the client `score` method to score test data about a customer."
   ]
  },
  {
   "cell_type": "code",
   "execution_count": 23,
   "metadata": {
    "scrolled": true
   },
   "outputs": [
    {
     "name": "stdout",
     "output_type": "stream",
     "text": [
      "{'predictions': [{'fields': ['customerID',\n",
      "                             'Churn',\n",
      "                             'Predicted Churn',\n",
      "                             'Probability of Churn'],\n",
      "                  'values': [['3638-WEABW', 'No', 'No', 0.0526309571556145]]}]}\n"
     ]
    }
   ],
   "source": [
    "# Perform prediction and display the result.\n",
    "job_details = client.deployments.score(deployment_uid, job_payload)\n",
    "pprint(job_details)"
   ]
  },
  {
   "cell_type": "markdown",
   "metadata": {},
   "source": [
    "As you can see, this sample telco customer is satisfied (\"Predicted Churn\", \"No\")."
   ]
  },
  {
   "cell_type": "markdown",
   "metadata": {
    "collapsed": true
   },
   "source": [
    "<a id=\"summary\"></a>\n",
    "## 3. Summary     "
   ]
  },
  {
   "cell_type": "markdown",
   "metadata": {
    "collapsed": true
   },
   "source": [
    "You successfully completed this notebook! \n",
    "\n",
    "You learned how to create a regression model and use Watson Machine Learning to create and deploy a model. "
   ]
  },
  {
   "cell_type": "markdown",
   "metadata": {},
   "source": [
    "### Resources <a id=\"resources\"></a>\n",
    "\n",
    "To learn more about configurations used in this notebook or more sample notebooks, tutorials, documentation, how-tos, and blog posts, check out these links:\n",
    "\n",
    "<div class=\"alert alert-block alert-success\"><a id=\"resources\"></a>\n",
    "\n",
    "<h4>IBM documentation</h4>\n",
    "<br>\n",
    " <li> <a href=\"https://wml-api-pyclient-dev-v4.mybluemix.net\" target=\"_blank\" rel=\"noopener no referrer\">watson-machine-learning</a></li> \n",
    " <li> <a href=\"https://www.ibm.com/support/knowledgecenter/SS3PWM_1.0.0/wsj/wmls/overview.html\" target=\"_blank\" rel=\"noopener noreferrer\">Watson Machine Learning Server</a></li>\n",
    " \n",
    "<h4> IBM Samples</h4>\n",
    "<br>\n",
    " <li> <a href=\"https://github.com/IBMDataScience/sample-notebooks\" target=\"_blank\" rel=\"noopener noreferrer\">Sample notebooks</a></li>\n",
    " \n",
    "<h4> Others</h4>\n",
    "<br>\n",
    " <li> <a href=\"https://www.python.org\" target=\"_blank\" rel=\"noopener noreferrer\">Official Python website</a></li>\n",
    " <li> <a href=\"https://matplotlib.org\" target=\"_blank\" rel=\"noopener noreferrer\">Matplotlib: Python plotting</a></li>\n",
    " <li> <a href=\"https://scikit-learn.org/stable/modules/generated/sklearn.model_selection.GridSearchCV.html\" target=\"_blank\" rel=\"noopener noreferrer\">scikit-learn: Grid Search</a></li>\n",
    " </div>"
   ]
  },
  {
   "cell_type": "markdown",
   "metadata": {},
   "source": [
    "### Authors\n",
    "\n",
    "**Lukasz Cmielowski**, Ph.D., is an Automation Architect and Data Scientist at IBM with a track record of developing enterprise-level applications that substantially increase the clients' ability to turn data into actionable knowledge.  \n",
    "**Jihyoung Kim**, Ph.D., is a Data Scientist at IBM who strives to make data science easy for everyone through Watson Studio."
   ]
  },
  {
   "cell_type": "markdown",
   "metadata": {},
   "source": [
    "Copyright © 2017-2019 IBM. This notebook and its source code are released under the terms of the MIT License."
   ]
  },
  {
   "cell_type": "markdown",
   "metadata": {},
   "source": [
    "<div style=\"background:#F5F7FA; height:110px; padding: 2em; font-size:14px;\">\n",
    "<span style=\"font-size:18px;color:#152935;\">Love this notebook? </span>\n",
    "<span style=\"font-size:15px;color:#152935;float:right;margin-right:40px;\">Don't have an account yet?</span><br>\n",
    "<span style=\"color:#5A6872;\">Share it with your colleagues and help them discover the power of Watson Studio!</span>\n",
    "<span style=\"border: 1px solid #3d70b2;padding:8px;float:right;margin-right:40px; color:#3d70b2;\"><a href=\"https://ibm.co/wsnotebooks\" target=\"_blank\" style=\"color: #3d70b2;text-decoration: none;\">Sign Up</a></span><br>\n",
    "</div>"
   ]
  }
 ],
 "metadata": {
  "kernelspec": {
   "display_name": "Python 3.6",
   "language": "python",
   "name": "python3"
  },
  "language_info": {
   "codemirror_mode": {
    "name": "ipython",
    "version": 3
   },
   "file_extension": ".py",
   "mimetype": "text/x-python",
   "name": "python",
   "nbconvert_exporter": "python",
   "pygments_lexer": "ipython3",
   "version": "3.6.8"
  }
 },
 "nbformat": 4,
 "nbformat_minor": 1
}
