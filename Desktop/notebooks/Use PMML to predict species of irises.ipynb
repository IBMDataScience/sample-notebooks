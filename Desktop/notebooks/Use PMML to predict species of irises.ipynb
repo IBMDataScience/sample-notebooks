{
 "cells": [
  {
   "cell_type": "markdown",
   "metadata": {},
   "source": [
    "<table style=\"border: none\" align=\"left\">\n",
    "   <tr style=\"border: none\">\n",
    "      <th style=\"border: none\"><font face=\"verdana\" size=\"5\" color=\"black\"><b>Persist, deploy, and score a PMML model to predict species of iris</b></th>\n",
    "      <th style=\"border: none\"><img src=\"https://github.com/pmservice/customer-satisfaction-prediction/blob/master/app/static/images/ml_icon_gray.png?raw=true\" alt=\"Watson Machine Learning icon\" height=\"40\" width=\"40\"></th>\n",
    "  <tr style=\"border: none\">\n",
    "       <th style=\"border: none\"><img src=\"https://github.com/pmservice/wml-sample-models/blob/master/spark/customer-satisfaction-prediction/images/users_banner_2-03.png?raw=true\" width=\"600\" alt=\"Icon\"> </th>\n",
    "   </tr>\n",
    "</table>"
   ]
  },
  {
   "cell_type": "markdown",
   "metadata": {},
   "source": [
    "This notebook demonstrates how to store a sample Predictive Model Markup Language (PMML) model and score test data. You will use the Iris data set to predict the species of an iris flower. This data set contains measurements of the iris perianth flower. \n",
    "\n",
    "Some familiarity with Python is helpful. This notebook is compatible Watson Studio Desktop and Python 3.6.\n",
    "\n",
    "\n",
    "\n",
    "## Learning goals\n",
    "\n",
    "You will learn how to:\n",
    "\n",
    "-  Set up the Watson Machine Learning (WML) Server.\n",
    "-  Deploy a PMML model.\n",
    "-  Score the deployed model.\n",
    "\n",
    "\n",
    "## Table of Contents\n",
    "\n",
    "1.\t[Set up the environment](#setup)<br>\n",
    "    1.1 [Set up the WML Server](#setup_WML)<br>\n",
    "2.\t[Persist, deploy, and score a PMML model in the Watson Machine Learning (WML) repository](#scoring)<br>\n",
    "    2.1 [Persist a PMML model](#persist)<br>\n",
    "    2.2 [Create an online deployment](#deploy)<br>\n",
    "    2.3 [Score a test data record](#score)<br>\n",
    "3.\t[Summary and next steps](#summary)"
   ]
  },
  {
   "cell_type": "markdown",
   "metadata": {},
   "source": [
    "<a id=\"setup\"></a>\n",
    "## 1. Set up the environment\n",
    "\n",
    "Before you use the sample code in this notebook, you must perform this setup task:"
   ]
  },
  {
   "cell_type": "markdown",
   "metadata": {},
   "source": [
    "<a id=\"setup_WML\"></a>\n",
    "### 1.1 Set up the WML Server"
   ]
  },
  {
   "cell_type": "markdown",
   "metadata": {},
   "source": [
    "**Connect to the Watson Machine Learning Server using the Python client**<br><br>\n",
    "\n",
    "<div class=\"alert-block alert-info\"><br>\n",
    "To install the Watson Machine Learning Server, follow <a href=\"https://www.ibm.com/support/knowledgecenter/SS3PWM_1.0.0/wsj/wmls/wmls-install-over.html\" target=\"_blank\" rel=\"noopener no referrer\">these documentation steps</a>. To connect to the WML server and find your authentication information (your credentials) follow the steps provided here in the <a href=\"https://www.ibm.com/support/knowledgecenter/SS3PWM_1.0.0/wsj/wmls/wmls-connect.html\" target=\"_blank\" rel=\"noopener no referrer\">Documentation</a>.<br><br>\n",
    "</div>\n",
    "\n",
    "**Action**: Enter your WML Server credentials in the following cell."
   ]
  },
  {
   "cell_type": "code",
   "execution_count": 1,
   "metadata": {},
   "outputs": [],
   "source": [
    "# Enter your credentials here.\n",
    "wml_credentials = {\n",
    "    'instance_id': 'icp',\n",
    "    'url' : '---',\n",
    "    'username':'---',\n",
    "    'password': '---',\n",
    "    'version': '---'\n",
    "}"
   ]
  },
  {
   "cell_type": "code",
   "execution_count": 2,
   "metadata": {},
   "outputs": [
    {
     "name": "stdout",
     "output_type": "stream",
     "text": [
      "Requirement already up-to-date: watson-machine-learning-client-V4==1.0.58 in /cc-home/_global_/python-3.6 (1.0.58)\n",
      "Requirement already satisfied, skipping upgrade: requests in /opt/conda/envs/Python-3.6/lib/python3.6/site-packages (from watson-machine-learning-client-V4==1.0.58) (2.21.0)\n",
      "Requirement already satisfied, skipping upgrade: urllib3 in /opt/conda/envs/Python-3.6/lib/python3.6/site-packages (from watson-machine-learning-client-V4==1.0.58) (1.24.1)\n",
      "Requirement already satisfied, skipping upgrade: pandas in /opt/conda/envs/Python-3.6/lib/python3.6/site-packages (from watson-machine-learning-client-V4==1.0.58) (0.24.1)\n",
      "Requirement already satisfied, skipping upgrade: certifi in /opt/conda/envs/Python-3.6/lib/python3.6/site-packages (from watson-machine-learning-client-V4==1.0.58) (2019.9.11)\n",
      "Requirement already satisfied, skipping upgrade: tqdm in /opt/conda/envs/Python-3.6/lib/python3.6/site-packages (from watson-machine-learning-client-V4==1.0.58) (4.31.1)\n",
      "Requirement already satisfied, skipping upgrade: lomond in /cc-home/_global_/python-3.6 (from watson-machine-learning-client-V4==1.0.58) (0.3.3)\n",
      "Requirement already satisfied, skipping upgrade: tabulate in /opt/conda/envs/Python-3.6/lib/python3.6/site-packages (from watson-machine-learning-client-V4==1.0.58) (0.8.2)\n",
      "Requirement already satisfied, skipping upgrade: ibm-cos-sdk in /cc-home/_global_/python-3.6 (from watson-machine-learning-client-V4==1.0.58) (2.5.5)\n",
      "Requirement already satisfied, skipping upgrade: idna<2.9,>=2.5 in /opt/conda/envs/Python-3.6/lib/python3.6/site-packages (from requests->watson-machine-learning-client-V4==1.0.58) (2.8)\n",
      "Requirement already satisfied, skipping upgrade: chardet<3.1.0,>=3.0.2 in /opt/conda/envs/Python-3.6/lib/python3.6/site-packages (from requests->watson-machine-learning-client-V4==1.0.58) (3.0.4)\n",
      "Requirement already satisfied, skipping upgrade: python-dateutil>=2.5.0 in /opt/conda/envs/Python-3.6/lib/python3.6/site-packages (from pandas->watson-machine-learning-client-V4==1.0.58) (2.7.5)\n",
      "Requirement already satisfied, skipping upgrade: numpy>=1.12.0 in /opt/conda/envs/Python-3.6/lib/python3.6/site-packages (from pandas->watson-machine-learning-client-V4==1.0.58) (1.15.4)\n",
      "Requirement already satisfied, skipping upgrade: pytz>=2011k in /opt/conda/envs/Python-3.6/lib/python3.6/site-packages (from pandas->watson-machine-learning-client-V4==1.0.58) (2018.9)\n",
      "Requirement already satisfied, skipping upgrade: six>=1.10.0 in /opt/conda/envs/Python-3.6/lib/python3.6/site-packages (from lomond->watson-machine-learning-client-V4==1.0.58) (1.12.0)\n",
      "Requirement already satisfied, skipping upgrade: ibm-cos-sdk-core==2.5.5 in /cc-home/_global_/python-3.6 (from ibm-cos-sdk->watson-machine-learning-client-V4==1.0.58) (2.5.5)\n",
      "Requirement already satisfied, skipping upgrade: ibm-cos-sdk-s3transfer==2.5.5 in /cc-home/_global_/python-3.6 (from ibm-cos-sdk->watson-machine-learning-client-V4==1.0.58) (2.5.5)\n",
      "Requirement already satisfied, skipping upgrade: jmespath<1.0.0,>=0.7.1 in /opt/conda/envs/Python-3.6/lib/python3.6/site-packages (from ibm-cos-sdk->watson-machine-learning-client-V4==1.0.58) (0.9.3)\n",
      "Requirement already satisfied, skipping upgrade: docutils<0.16,>=0.10 in /opt/conda/envs/Python-3.6/lib/python3.6/site-packages (from ibm-cos-sdk-core==2.5.5->ibm-cos-sdk->watson-machine-learning-client-V4==1.0.58) (0.14)\n"
     ]
    }
   ],
   "source": [
    "!pip install --upgrade watson-machine-learning-client-V4==1.0.58"
   ]
  },
  {
   "cell_type": "code",
   "execution_count": 3,
   "metadata": {},
   "outputs": [],
   "source": [
    "from watson_machine_learning_client import WatsonMachineLearningAPIClient"
   ]
  },
  {
   "cell_type": "code",
   "execution_count": 4,
   "metadata": {},
   "outputs": [],
   "source": [
    "client = WatsonMachineLearningAPIClient(wml_credentials)"
   ]
  },
  {
   "cell_type": "markdown",
   "metadata": {},
   "source": [
    "Obtain information about the stored models on your server."
   ]
  },
  {
   "cell_type": "markdown",
   "metadata": {},
   "source": [
    "List deployed models."
   ]
  },
  {
   "cell_type": "markdown",
   "metadata": {},
   "source": [
    "<a id=\"scoring\"></a>\n",
    "## 2. Persist, deploy, and score a PMML model in the Watson Machine Learning (WML) repository"
   ]
  },
  {
   "cell_type": "markdown",
   "metadata": {},
   "source": [
    "In this section, you will use the Python API client to create an online deployment and score the PMML model with a new data record.\n",
    "\n",
    "For more information, please refer to the <a href=\"https://wml-api-pyclient-dev-v4.mybluemix.net/\" target=\"_blank\" rel=\"noopener no referrer\">V4 Python client documentation</a>.\n"
   ]
  },
  {
   "cell_type": "markdown",
   "metadata": {},
   "source": [
    "### 2.1 Persist a PMML model<a id=\"persist\"></a>"
   ]
  },
  {
   "cell_type": "markdown",
   "metadata": {},
   "source": [
    "Use `wget` to download the sample PMML model, `iris_chaid.xml` from the <a href=\"https://github.com/pmservice/wml-sample-models\" target=\"_blank\" rel=\"noopener no referrer\">Git repository</a>.  "
   ]
  },
  {
   "cell_type": "markdown",
   "metadata": {},
   "source": [
    "<div class=\"alert-block alert-info\"><br>\n",
    "You may need to install the <tt>wget</tt> package. To install the <tt>wget</tt> package, run the following command.<br><br></div>"
   ]
  },
  {
   "cell_type": "code",
   "execution_count": 5,
   "metadata": {},
   "outputs": [
    {
     "name": "stdout",
     "output_type": "stream",
     "text": [
      "Requirement already up-to-date: wget in /opt/conda/envs/Python-3.6/lib/python3.6/site-packages (3.2)\r\n"
     ]
    }
   ],
   "source": [
    "!pip install --upgrade wget"
   ]
  },
  {
   "cell_type": "code",
   "execution_count": 6,
   "metadata": {},
   "outputs": [],
   "source": [
    "# Download the sample PMML model and the 'iris_chaid.xml' file from the Github repo.\n",
    "import wget\n",
    "import os\n",
    "\n",
    "sample_dir = 'pmml_sample_model'\n",
    "if not os.path.isdir(sample_dir):\n",
    "    os.mkdir(sample_dir)\n",
    "    \n",
    "filename=os.path.join(sample_dir, 'iris_chaid.xml')\n",
    "if not os.path.isfile(filename):\n",
    "    filename = wget.download('https://github.com/pmservice/wml-sample-models/raw/master/pmml/iris-species/model/iris_chaid.xml', out=sample_dir)"
   ]
  },
  {
   "cell_type": "markdown",
   "metadata": {},
   "source": [
    "Store the downloaded file as *CHAID PMML model for Iris data* in the WML repository, and then list all the files stored in the repository. First, you need to create the model metadata. You can obtain the space UID (one of the MetaNames in the model metadata) by using the following cells.\n"
   ]
  },
  {
   "cell_type": "markdown",
   "metadata": {},
   "source": [
    "<div class=\"alert-block alert-info\"><br>\n",
    "You can create your own deployment space by selecting <b>Deployment Spaces</b> from the Navigation Menu on the top left of this page.<br><br></div>"
   ]
  },
  {
   "cell_type": "code",
   "execution_count": 7,
   "metadata": {},
   "outputs": [],
   "source": [
    "# Obtain the UId of your space\n",
    "def guid_from_space_name(client, space_name):\n",
    "    instance_details = client.service_instance.get_details()\n",
    "    space = client.spaces.get_details()\n",
    "    return(next(item for item in space['resources'] if item['entity'][\"name\"] == space_name)['metadata']['guid'])"
   ]
  },
  {
   "cell_type": "markdown",
   "metadata": {},
   "source": [
    "**Action:** Enter the name of your deployment space in the code below: `space_uid = guid_from_space_name(client, 'YOUR DEPLOYMENT SPACE')`."
   ]
  },
  {
   "cell_type": "code",
   "execution_count": 8,
   "metadata": {},
   "outputs": [
    {
     "name": "stdout",
     "output_type": "stream",
     "text": [
      "Space UID = 5c7793ec-7e57-4db1-85e9-18cfcbaaa917\n"
     ]
    }
   ],
   "source": [
    "# Enter the name of your deployment space here:\n",
    "space_uid = guid_from_space_name(client, 'YOUR DEPLOYMENT SPACE')\n",
    "print(\"Space UID = \" + space_uid)"
   ]
  },
  {
   "cell_type": "code",
   "execution_count": 9,
   "metadata": {},
   "outputs": [
    {
     "data": {
      "text/plain": [
       "'SUCCESS'"
      ]
     },
     "execution_count": 9,
     "metadata": {},
     "output_type": "execute_result"
    }
   ],
   "source": [
    "# Set the space to use it in subsequent actions\n",
    "client.set.default_space(space_uid)"
   ]
  },
  {
   "cell_type": "code",
   "execution_count": 10,
   "metadata": {},
   "outputs": [
    {
     "name": "stdout",
     "output_type": "stream",
     "text": [
      "----  ----  -------  ----\n",
      "GUID  NAME  CREATED  TYPE\n",
      "----  ----  -------  ----\n"
     ]
    }
   ],
   "source": [
    "# List information about the stored models.\n",
    "client.repository.list_models()"
   ]
  },
  {
   "cell_type": "code",
   "execution_count": 11,
   "metadata": {},
   "outputs": [
    {
     "name": "stdout",
     "output_type": "stream",
     "text": [
      "----  ----  -----  -------  -------------\n",
      "GUID  NAME  STATE  CREATED  ARTIFACT_TYPE\n",
      "----  ----  -----  -------  -------------\n"
     ]
    }
   ],
   "source": [
    "# # List the deployed models.\n",
    "client.deployments.list()"
   ]
  },
  {
   "cell_type": "code",
   "execution_count": 12,
   "metadata": {},
   "outputs": [],
   "source": [
    "# Model metadata\n",
    "props_pmml = {\n",
    "    client.repository.ModelMetaNames.NAME: 'CHAID PMML model for Iris data',\n",
    "    client.repository.ModelMetaNames.RUNTIME_UID: 'pmml_4.2.1', \n",
    "    client.repository.ModelMetaNames.TYPE: 'pmml_4.2.1',\n",
    "    client.repository.ModelMetaNames.SPACE_UID: space_uid\n",
    "}"
   ]
  },
  {
   "cell_type": "markdown",
   "metadata": {},
   "source": [
    "You need the model UID to create the deployment. You can extract the model UID from the saved model details and use it in the next section to create the deployment."
   ]
  },
  {
   "cell_type": "code",
   "execution_count": 13,
   "metadata": {},
   "outputs": [
    {
     "name": "stdout",
     "output_type": "stream",
     "text": [
      "Model UID = 471efcba-aba7-472e-a3b6-4792db987a87\n"
     ]
    }
   ],
   "source": [
    "# Create the model artifact.\n",
    "model_artifact = client.repository.store_model(filename, meta_props=props_pmml)\n",
    "model_uid = client.repository.get_model_uid(model_artifact)\n",
    "print(\"Model UID = \" + model_uid)"
   ]
  },
  {
   "cell_type": "markdown",
   "metadata": {},
   "source": [
    "Get the saved model metadata from WML."
   ]
  },
  {
   "cell_type": "code",
   "execution_count": 14,
   "metadata": {},
   "outputs": [
    {
     "name": "stdout",
     "output_type": "stream",
     "text": [
      "{'entity': {'content_status': {'state': 'persisted'},\n",
      "            'name': 'CHAID PMML model for Iris data',\n",
      "            'runtime': {'href': '/v4/runtimes/pmml_4.2.1'},\n",
      "            'space': {'href': '/v4/spaces/5c7793ec-7e57-4db1-85e9-18cfcbaaa917'},\n",
      "            'type': 'pmml_4.2.1'},\n",
      " 'metadata': {'created_at': '2019-12-23T23:45:34.002Z',\n",
      "              'guid': '471efcba-aba7-472e-a3b6-4792db987a87',\n",
      "              'href': '/v4/models/471efcba-aba7-472e-a3b6-4792db987a87?space_id=5c7793ec-7e57-4db1-85e9-18cfcbaaa917',\n",
      "              'id': '471efcba-aba7-472e-a3b6-4792db987a87',\n",
      "              'modified_at': '2019-12-23T23:45:35.002Z',\n",
      "              'owner': '999'}}\n"
     ]
    }
   ],
   "source": [
    "# Details about the model.\n",
    "model_details = client.repository.get_details(model_uid)\n",
    "from pprint import pprint\n",
    "pprint(model_details)"
   ]
  },
  {
   "cell_type": "markdown",
   "metadata": {},
   "source": [
    "You can list all stored models once again using the `list_models` method."
   ]
  },
  {
   "cell_type": "code",
   "execution_count": 15,
   "metadata": {},
   "outputs": [
    {
     "name": "stdout",
     "output_type": "stream",
     "text": [
      "------------------------------------  ------------------------------  ------------------------  ----------\n",
      "GUID                                  NAME                            CREATED                   TYPE\n",
      "471efcba-aba7-472e-a3b6-4792db987a87  CHAID PMML model for Iris data  2019-12-23T23:45:34.002Z  pmml_4.2.1\n",
      "------------------------------------  ------------------------------  ------------------------  ----------\n"
     ]
    }
   ],
   "source": [
    "# Display a list of all the models.\n",
    "client.repository.list_models()"
   ]
  },
  {
   "cell_type": "markdown",
   "metadata": {},
   "source": [
    "<div class=\"alert-block alert-info\"><br>\n",
    "From the list of downloaded files, you can see that model is successfully stored in the WML repository.<br><br></div>"
   ]
  },
  {
   "cell_type": "markdown",
   "metadata": {},
   "source": [
    "### 2.2 Create an online deployment<a id=\"deploy\"></a>"
   ]
  },
  {
   "cell_type": "markdown",
   "metadata": {},
   "source": [
    "Now, create an online deployment, *Iris species prediction*, for the stored model, and list all the online deployments in the WML Repository.\n"
   ]
  },
  {
   "cell_type": "code",
   "execution_count": 16,
   "metadata": {},
   "outputs": [],
   "source": [
    "# Deployment metadata.\n",
    "deploy_meta = {\n",
    "    client.deployments.ConfigurationMetaNames.NAME: \"Iris species prediction\",\n",
    "    client.deployments.ConfigurationMetaNames.ONLINE: {}\n",
    "}"
   ]
  },
  {
   "cell_type": "code",
   "execution_count": 17,
   "metadata": {},
   "outputs": [
    {
     "name": "stdout",
     "output_type": "stream",
     "text": [
      "\n",
      "\n",
      "#######################################################################################\n",
      "\n",
      "Synchronous deployment creation for uid: '471efcba-aba7-472e-a3b6-4792db987a87' started\n",
      "\n",
      "#######################################################################################\n",
      "\n",
      "\n",
      "initializing\n",
      "ready\n",
      "\n",
      "\n",
      "------------------------------------------------------------------------------------------------\n",
      "Successfully finished deployment creation, deployment_uid='a79a6e8c-6fa4-457b-a360-6a8a6e6c8351'\n",
      "------------------------------------------------------------------------------------------------\n",
      "\n",
      "\n"
     ]
    }
   ],
   "source": [
    "# Create an online deployment.\n",
    "deployment_details = client.deployments.create(model_uid, meta_props=deploy_meta)"
   ]
  },
  {
   "cell_type": "code",
   "execution_count": 18,
   "metadata": {},
   "outputs": [
    {
     "name": "stdout",
     "output_type": "stream",
     "text": [
      "------------------------------------  -----------------------  -----  ------------------------  -------------\n",
      "GUID                                  NAME                     STATE  CREATED                   ARTIFACT_TYPE\n",
      "a79a6e8c-6fa4-457b-a360-6a8a6e6c8351  Iris species prediction  ready  2019-12-23T23:45:38.723Z  model\n",
      "------------------------------------  -----------------------  -----  ------------------------  -------------\n"
     ]
    }
   ],
   "source": [
    "# # List the deployments.\n",
    "client.deployments.list()"
   ]
  },
  {
   "cell_type": "markdown",
   "metadata": {},
   "source": [
    "<div class=\"alert-block alert-info\"><br>\n",
    "From the list of deployed models, you can see that model was  successfully created.<br><br></div>"
   ]
  },
  {
   "cell_type": "markdown",
   "metadata": {},
   "source": [
    "Now, you can check details of your deployments."
   ]
  },
  {
   "cell_type": "code",
   "execution_count": 19,
   "metadata": {},
   "outputs": [
    {
     "name": "stdout",
     "output_type": "stream",
     "text": [
      "Deployment uid = a79a6e8c-6fa4-457b-a360-6a8a6e6c8351\n"
     ]
    }
   ],
   "source": [
    "# Deployment UID.\n",
    "deployment_uid = client.deployments.get_uid(deployment_details)\n",
    "print('Deployment uid = {}'.format(deployment_uid))"
   ]
  },
  {
   "cell_type": "code",
   "execution_count": 20,
   "metadata": {},
   "outputs": [
    {
     "name": "stdout",
     "output_type": "stream",
     "text": [
      "{'metadata': {'parent': {'href': ''}, 'guid': 'a79a6e8c-6fa4-457b-a360-6a8a6e6c8351', 'modified_at': '', 'created_at': '2019-12-23T23:45:38.723Z', 'href': '/v4/deployments/a79a6e8c-6fa4-457b-a360-6a8a6e6c8351'}, 'entity': {'name': 'Iris species prediction', 'custom': {}, 'online': {}, 'description': '', 'space': {'href': '/v4/spaces/5c7793ec-7e57-4db1-85e9-18cfcbaaa917'}, 'status': {'state': 'ready', 'online_url': {'url': 'https://wmlserver-svt.ml.test.cloud.ibm.com:31843/v4/deployments/a79a6e8c-6fa4-457b-a360-6a8a6e6c8351/predictions'}}, 'asset': {'href': '/v4/models/471efcba-aba7-472e-a3b6-4792db987a87?space_id=5c7793ec-7e57-4db1-85e9-18cfcbaaa917'}, 'auto_redeploy': False}}\n"
     ]
    }
   ],
   "source": [
    "# Deployment details.\n",
    "print(client.deployments.get_details(deployment_uid))"
   ]
  },
  {
   "cell_type": "markdown",
   "metadata": {},
   "source": [
    "### 2.3 Score a test data record<a id=\"score\"></a>"
   ]
  },
  {
   "cell_type": "markdown",
   "metadata": {},
   "source": [
    "Now, you can score the data and predict the species of iris flower given from the data."
   ]
  },
  {
   "cell_type": "code",
   "execution_count": 21,
   "metadata": {},
   "outputs": [
    {
     "name": "stdout",
     "output_type": "stream",
     "text": [
      "{'input_data': [{'fields': ['Sepal.Length',\n",
      "                            'Sepal.Width',\n",
      "                            'Petal.Length',\n",
      "                            'Petal.Width'],\n",
      "                 'values': [[5.1, 3.5, 1.4, 0.2]]}]}\n"
     ]
    }
   ],
   "source": [
    "# Score data and predict species of flower. Prepare scoring payload.\n",
    "job_payload = {\n",
    "    client.deployments.ScoringMetaNames.INPUT_DATA: [{\n",
    "        'fields': ['Sepal.Length', 'Sepal.Width', 'Petal.Length', 'Petal.Width'],\n",
    "        'values': [[5.1, 3.5, 1.4, 0.2]]\n",
    "    }]\n",
    "}\n",
    "pprint(job_payload)"
   ]
  },
  {
   "cell_type": "code",
   "execution_count": 22,
   "metadata": {},
   "outputs": [
    {
     "name": "stdout",
     "output_type": "stream",
     "text": [
      "{'predictions': [{'fields': ['$R-Species', '$RC-Species', '$RP-Species', '$RP-setosa', '$RP-versicolor', '$RP-virginica', '$RI-Species'], 'values': [['setosa', 1.0, 1.0, 1.0, 0.0, 0.0, '1']]}]}\n"
     ]
    }
   ],
   "source": [
    "# Score data and predict species of flower. \n",
    "predictions = client.deployments.score(deployment_uid, job_payload)\n",
    "print(predictions)"
   ]
  },
  {
   "cell_type": "markdown",
   "metadata": {},
   "source": [
    "As we can see from the prediction, this is a species of Iris Setosa."
   ]
  },
  {
   "cell_type": "markdown",
   "metadata": {
    "collapsed": true
   },
   "source": [
    "<a id=\"summary\"></a>\n",
    "## 3. Summary and next steps     "
   ]
  },
  {
   "cell_type": "markdown",
   "metadata": {
    "collapsed": true
   },
   "source": [
    "You successfully completed this notebook! You learned how to use Watson Machine Learning for PMML model deployment and scoring. "
   ]
  },
  {
   "cell_type": "markdown",
   "metadata": {},
   "source": [
    "### Resources <a id=\"resources\"></a>\n",
    "\n",
    "To learn more about configurations used in this notebook or more sample notebooks, tutorials, documentation, how-tos, and blog posts, check out these links:\n",
    "\n",
    "<div class=\"alert alert-block alert-success\">\n",
    "\n",
    "<h4>IBM documentation</h4>\n",
    "<br>\n",
    " <li> <a href=\"https://wml-api-pyclient-dev-v4.mybluemix.net\" target=\"_blank\" rel=\"noopener no referrer\">watson-machine-learning</a></li> \n",
    " <li> <a href=\"https://www.ibm.com/support/knowledgecenter/SS3PWM_1.0.0/wsj/wmls/overview.html\" target=\"_blank\" rel=\"noopener noreferrer\">Watson Machine Learning Server</a></li>\n",
    " \n",
    "<h4> IBM Samples</h4>\n",
    "<br>\n",
    " <li> <a href=\"https://github.com/IBMDataScience/sample-notebooks\" target=\"_blank\" rel=\"noopener noreferrer\">Sample notebooks</a></li>\n",
    " <li> <a href=\"https://github.com/pmservice/wml-sample-models\" target=\"_blank\" rel=\"noopener noreferrer\">Sample models</a></li>\n",
    " \n",
    "<h4> Others</h4>\n",
    "<br>\n",
    " <li> <a href=\"https://www.python.org\" target=\"_blank\" rel=\"noopener noreferrer\">Official Python website</a><br></li>\n",
    " </div>"
   ]
  },
  {
   "cell_type": "markdown",
   "metadata": {},
   "source": [
    "### Citation\n",
    "\n",
    "Dua, D. and Karra Taniskidou, E. (2017). [UCI Machine Learning Repository](http://archive.ics.uci.edu/ml). Irvine, CA: University of California, School of Information and Computer Science.\n"
   ]
  },
  {
   "cell_type": "markdown",
   "metadata": {},
   "source": [
    "### Authors\n",
    "\n",
    "**Wojciech Sobala** is a Data Scientist at IBM.  <br><br>\n",
    "**Jihyoung Kim**, Ph.D., is a Data Scientist at IBM who strives to make data science easy for everyone through Watson Studio."
   ]
  },
  {
   "cell_type": "markdown",
   "metadata": {},
   "source": [
    "Copyright © 2018, 2019 IBM. This notebook and its source code are released under the terms of the MIT License."
   ]
  },
  {
   "cell_type": "markdown",
   "metadata": {},
   "source": [
    "<div style=\"background:#F5F7FA; height:110px; padding: 2em; font-size:14px;\">\n",
    "<span style=\"font-size:18px;color:#152935;\">Love this notebook? </span>\n",
    "<span style=\"font-size:15px;color:#152935;float:right;margin-right:40px;\">Don't have an account yet?</span><br>\n",
    "<span style=\"color:#5A6872;\">Share it with your colleagues and help them discover the power of Watson Studio!</span>\n",
    "<span style=\"border: 1px solid #3d70b2;padding:8px;float:right;margin-right:40px; color:#3d70b2;\"><a href=\"https://ibm.co/wsnotebooks\" target=\"_blank\" style=\"color: #3d70b2;text-decoration: none;\">Sign Up</a></span><br>\n",
    "</div>"
   ]
  }
 ],
 "metadata": {
  "kernelspec": {
   "display_name": "Python 3.6",
   "language": "python",
   "name": "python3"
  },
  "language_info": {
   "codemirror_mode": {
    "name": "ipython",
    "version": 3
   },
   "file_extension": ".py",
   "mimetype": "text/x-python",
   "name": "python",
   "nbconvert_exporter": "python",
   "pygments_lexer": "ipython3",
   "version": "3.6.8"
  }
 },
 "nbformat": 4,
 "nbformat_minor": 1
}
